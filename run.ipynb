{
 "cells": [
  {
   "cell_type": "code",
   "execution_count": 1,
   "metadata": {},
   "outputs": [],
   "source": [
    "from dataclasses import dataclass, field\n",
    "import json\n",
    "from pathlib import Path\n",
    "from typing import *\n",
    "import warnings\n",
    "\n",
    "from beartype import beartype\n",
    "import datasets\n",
    "import numpy as np\n",
    "import matplotlib.pyplot as plt\n",
    "import more_itertools\n",
    "import queue\n",
    "import rich\n",
    "import torch\n",
    "import torch.nn as nn\n",
    "import transformers\n",
    "import tqdm"
   ]
  },
  {
   "cell_type": "code",
   "execution_count": 2,
   "metadata": {},
   "outputs": [],
   "source": [
    "class StupidRetriever:\n",
    "    def __init__(self, model, tokenizer, device, train_vectors, train_samples, train_labels):\n",
    "        self.model = model\n",
    "        self.tokenizer = tokenizer\n",
    "        self.device = device\n",
    "        self.train_vectors = train_vectors\n",
    "        self.train_samples = train_samples\n",
    "        self.train_labels = train_labels\n",
    "        self.classification_ids_to_idx = {}\n",
    "\n",
    "        for i, sample in enumerate(train_samples):\n",
    "            encoded = tokenizer.encode(sample, truncation=True, padding=True, return_tensors=\"pt\")\n",
    "            self.classification_ids_to_idx[encoded] = i\n",
    "\n",
    "    def retrieve(self, query_ids, query_index):\n",
    "        query_indices_ids = self.tokenizer.encode_plus(\n",
    "            self.train_samples[query_index], truncation=True, padding=True\n",
    "        )\n",
    "        assert torch.all(query_ids == query_ids), (query_ids, query_indices_ids)\n",
    "\n",
    "        # Get the representation\n",
    "        representation = self.train_vectors[query_index]\n",
    "        with torch.inference_mode():\n",
    "            # Compute the inner products\n",
    "            scores = torch.matmul(representation, self.train_vectors.t())\n",
    "        # Get the top 2 results, to potentially exclude the sample itself.\n",
    "        topk = torch.topk(scores, k=2, dim=-1)\n",
    "        topk = topk.indices.cpu().numpy()\n",
    "        \n",
    "        for retrieved_idx in topk:\n",
    "            if retrieved_idx != query_index:\n",
    "                return self.train_samples[retrieved_idx], self.train_labels[retrieved_idx], retrieved_idx\n",
    "        \n",
    "\n",
    "# build train vectors\n",
    "def make_retrival_model_and_vectors(retriever_name, path_to_vectors, device, dataset_name):\n",
    "    \"\"\"We expect the dir to have the following structure:\n",
    "    - config.json\n",
    "    - train_samples.json \n",
    "    - train_vectors.npy\n",
    "    \"\"\"    \n",
    "    # Make some checks\n",
    "    config =  json.loads((path_to_vectors / \"config.json\").read_text())\n",
    "    assert dataset_name == config[\"dataset_name\"], (dataset_name, config[\"dataset_name\"])\n",
    "    assert retriever_name == config[\"retriever_name\"], (retriever_name, config[\"retriever_name\"])\n",
    "\n",
    "    retriever_model = transformers.AutoModel.from_pretrained(retriever_name)\n",
    "    retriever_tokenizer = transformers.AutoTokenizer.from_pretrained(retriever_name)\n",
    "\n",
    "    with open(path_to_vectors / \"train_samples.json\") as f:\n",
    "        train_samples = json.load(f)\n",
    "    vectors = torch.tensor(np.load(path_to_vectors / \"train_vectors.npy\")).to(device)\n",
    "    retriever = StupidRetriever(\n",
    "        model=retriever_model, \n",
    "        tokenizer=retriever_tokenizer, \n",
    "        device=device, \n",
    "        train_vectors=vectors, \n",
    "        train_samples=train_samples[\"inputs\"],\n",
    "        train_labels=train_samples[\"labels\"],\n",
    "    )\n",
    "\n",
    "    \n",
    "    return retriever"
   ]
  },
  {
   "cell_type": "code",
   "execution_count": 3,
   "metadata": {},
   "outputs": [],
   "source": [
    "@dataclass(order=True)\n",
    "class PrioritizedItem:\n",
    "    priority: int\n",
    "    item: Any=field(compare=False)\n",
    "\n",
    "\n",
    "class BoostingIterator(torch.utils.data.IterableDataset):\n",
    "    def __init__(\n",
    "        self, *args, dataset, retriever_client, classifier, epsilon, seed, classification_device, classification_tokenizer, retriever_device, **kwargs):\n",
    "        super().__init__(*args, **kwargs)\n",
    "        self.dataset = dataset.map(lambda example, idx:{\"index\": idx}, with_indices=True).shuffle(seed=seed)\n",
    "        self.priority_queue = queue.PriorityQueue()\n",
    "        self.retriever_client = retriever_client\n",
    "        self.epsilon = epsilon\n",
    "        self.randomizer = np.random.RandomState(seed)\n",
    "        self.seed = seed\n",
    "        self.dataset_iter = None\n",
    "        self.classifier = classifier\n",
    "        self.classification_tokenizer = classification_tokenizer\n",
    "        self.classification_device = classification_device\n",
    "        self.retriever_device = retriever_device\n",
    "        \n",
    "        # assert mode in [\"epsilon_priority_no_reset\", \"pure_sampled\", \"epsilon_sampled\"], mode\n",
    "\n",
    "    def push_score(self, inputs, loss):\n",
    "        for input_, mask, loss_, index in more_itertools.zip_equal(inputs[\"input_ids\"], inputs[\"attention_mask\"], loss, inputs[\"index\"]):\n",
    "            assert loss_.shape == torch.Size([]), loss_.shape\n",
    "            self.priority_queue.put(PrioritizedItem(loss_.detach().cpu().numpy(), dict(input_ids=input_, attention_mask=mask, index=index)))\n",
    "\n",
    "    def __len__(self):\n",
    "        return len(self.dataset)\n",
    "\n",
    "    def __iter__(self):\n",
    "        rich.print(\"[bold green]ITER[/]\")\n",
    "        self.dataset = self.dataset.shuffle(seed=self.seed)\n",
    "        self.dataset_iter = iter(self.dataset)\n",
    "        return self\n",
    "    \n",
    "    def __next__(self):\n",
    "        \"\"\" This is where the sampling happens.\n",
    "        \"\"\"\n",
    "\n",
    "        # Test if we have a sample and if we pass the epsilon threshold\n",
    "        empty = self.priority_queue.empty()\n",
    "        rand = self.randomizer.rand()\n",
    "        if not self.priority_queue.empty() and rand < self.epsilon:\n",
    "            # pull a sample from the priority queue\n",
    "            sample = self.priority_queue.get().item\n",
    "            ids = sample[\"input_ids\"]\n",
    "            entry_indexes = sample[\"index\"]\n",
    "\n",
    "            # We retrieve the next sample.\n",
    "            input_, next_label, index = self.retriever_client.retrieve(ids, entry_indexes)\n",
    "            next_sample = dict(text=input_, label=next_label, index=index)\n",
    "        else:\n",
    "            next_sample = next(self.dataset_iter)  # We raise here if we have no more samples in the dataset\n",
    "\n",
    "        tokenized = self.classification_tokenizer(\n",
    "            next_sample[\"text\"].strip(), \n",
    "            truncation=True, \n",
    "            padding=True,\n",
    "        )\n",
    "\n",
    "        del next_sample[\"text\"]\n",
    "        return dict(**tokenized, **next_sample)\n",
    "\n",
    "class BoostingTrainer(transformers.Trainer):\n",
    "    \n",
    "    def training_step(self, model: nn.Module, inputs: Dict[str, Union[torch.Tensor, Any]]) -> torch.Tensor:\n",
    "        \"\"\"\n",
    "        Perform a training step on a batch of inputs.\n",
    "        Subclass and override to inject custom behavior.\n",
    "        Args:\n",
    "            model (`nn.Module`):\n",
    "                The model to train.\n",
    "            inputs (`Dict[str, Union[torch.Tensor, Any]]`):\n",
    "                The inputs and targets of the model.\n",
    "                The dictionary will be unpacked before being fed to the model. \n",
    "                Most models expect the targets under the\n",
    "                argument `labels`. Check your model's documentation for all accepted arguments.\n",
    "        Return:\n",
    "            `torch.Tensor`: The tensor with training loss on this batch.\n",
    "        \"\"\"\n",
    "        model.train()\n",
    "        inputs = self._prepare_inputs(inputs)\n",
    "        index = inputs[\"index\"]\n",
    "        # Compute loss doesn't like this.\n",
    "        del inputs[\"index\"]\n",
    "\n",
    "        with self.autocast_smart_context_manager():\n",
    "            # Get the loss\n",
    "            loss, outputs = self.compute_loss(model, inputs, return_outputs=True)\n",
    "\n",
    "        if self.args.n_gpu > 1:\n",
    "            # Mean over per gpu averages\n",
    "            loss = loss.mean()  # mean() to average on multi-gpu parallel training\n",
    "\n",
    "        # This is ignored in the priority queue computation\n",
    "        if self.args.gradient_accumulation_steps > 1 and not self.deepspeed:\n",
    "            # Deepspeed handles loss scaling by gradient_accumulation_steps in its `backward`\n",
    "            loss = loss / self.args.gradient_accumulation_steps\n",
    "        if self.do_grad_scaling:\n",
    "            self.scaler.scale(loss).backward()\n",
    "        elif self.use_apex:\n",
    "            with torch.cuda.amp.scale_loss(loss, self.optimizer) as scaled_loss:\n",
    "                scaled_loss.backward()\n",
    "        elif self.deepspeed:\n",
    "            # loss gets scaled under gradient_accumulation_steps in deepspeed\n",
    "            loss = self.deepspeed.backward(loss)\n",
    "        else:\n",
    "            loss.backward()\n",
    "\n",
    "        loss = loss.detach()\n",
    "\n",
    "        # Addition for RetroBoost\n",
    "        # Make sure the losses are similar, then push them to the priority queue\n",
    "        # Put index back in\n",
    "        inputs[\"index\"] = index\n",
    "        computed_loss = torch.nn.functional.cross_entropy(outputs.logits.detach(), inputs[\"labels\"].detach(), reduction=\"mean\")\n",
    "        loss_per_sample = torch.nn.functional.cross_entropy(outputs.logits.detach(), inputs[\"labels\"].detach(), reduction=\"none\")\n",
    "        assert torch.allclose(loss, computed_loss, atol=0.01\n",
    "        self.get_train_dataloader().dataset.push_score(inputs, loss_per_sample)\n",
    "\n",
    "        return loss\n",
    "\n",
    "\n"
   ]
  },
  {
   "cell_type": "code",
   "execution_count": 4,
   "metadata": {},
   "outputs": [
    {
     "name": "stderr",
     "output_type": "stream",
     "text": [
      "Reusing dataset imdb (/home/mila/g/gagnonju/.cache/huggingface/datasets/imdb/plain_text/1.0.0/2fdd8b9bcadd6e7055e742a706876ba43f19faee861df134affd7a3f60fc38a1)\n"
     ]
    },
    {
     "data": {
      "application/vnd.jupyter.widget-view+json": {
       "model_id": "da1e2b628db64b3789fc65bc89fcd7ed",
       "version_major": 2,
       "version_minor": 0
      },
      "text/plain": [
       "  0%|          | 0/3 [00:00<?, ?it/s]"
      ]
     },
     "metadata": {},
     "output_type": "display_data"
    },
    {
     "name": "stderr",
     "output_type": "stream",
     "text": [
      "Some weights of the model checkpoint at roberta-base were not used when initializing RobertaForSequenceClassification: ['roberta.pooler.dense.weight', 'lm_head.decoder.weight', 'lm_head.layer_norm.weight', 'lm_head.dense.weight', 'roberta.pooler.dense.bias', 'lm_head.bias', 'lm_head.dense.bias', 'lm_head.layer_norm.bias']\n",
      "- This IS expected if you are initializing RobertaForSequenceClassification from the checkpoint of a model trained on another task or with another architecture (e.g. initializing a BertForSequenceClassification model from a BertForPreTraining model).\n",
      "- This IS NOT expected if you are initializing RobertaForSequenceClassification from the checkpoint of a model that you expect to be exactly identical (initializing a BertForSequenceClassification model from a BertForSequenceClassification model).\n",
      "Some weights of RobertaForSequenceClassification were not initialized from the model checkpoint at roberta-base and are newly initialized: ['classifier.dense.weight', 'classifier.out_proj.weight', 'classifier.dense.bias', 'classifier.out_proj.bias']\n",
      "You should probably TRAIN this model on a down-stream task to be able to use it for predictions and inference.\n",
      "Reusing dataset imdb (/home/mila/g/gagnonju/.cache/huggingface/datasets/imdb/plain_text/1.0.0/2fdd8b9bcadd6e7055e742a706876ba43f19faee861df134affd7a3f60fc38a1)\n"
     ]
    },
    {
     "data": {
      "application/vnd.jupyter.widget-view+json": {
       "model_id": "d5b2776fcee24ce288f58f462b3e9121",
       "version_major": 2,
       "version_minor": 0
      },
      "text/plain": [
       "  0%|          | 0/3 [00:00<?, ?it/s]"
      ]
     },
     "metadata": {},
     "output_type": "display_data"
    },
    {
     "data": {
      "application/vnd.jupyter.widget-view+json": {
       "model_id": "e6782caf5ef44378a13899e79cfff488",
       "version_major": 2,
       "version_minor": 0
      },
      "text/plain": [
       "  0%|          | 0/25 [00:00<?, ?ba/s]"
      ]
     },
     "metadata": {},
     "output_type": "display_data"
    },
    {
     "data": {
      "application/vnd.jupyter.widget-view+json": {
       "model_id": "a202245b3c464b10b7d64b681ded6284",
       "version_major": 2,
       "version_minor": 0
      },
      "text/plain": [
       "  0%|          | 0/25 [00:00<?, ?ba/s]"
      ]
     },
     "metadata": {},
     "output_type": "display_data"
    }
   ],
   "source": [
    "RETRIEVER_NAME = \"facebook/contriever\"\n",
    "PATH_TO_VECTORS = Path(\"./vectors_imdb_contriever/\")\n",
    "DATASET_NAME = \"imdb\"\n",
    "CLASSIFIER_NAME = \"roberta-base\"\n",
    "\n",
    "dataset = datasets.load_dataset(DATASET_NAME)\n",
    "ALL_LABELS = set(dataset[\"train\"][\"label\"])\n",
    "NUM_LABELS = len(ALL_LABELS)\n",
    "assert ALL_LABELS == set(range(NUM_LABELS))\n",
    "retriever = make_retrival_model_and_vectors(RETRIEVER_NAME, PATH_TO_VECTORS, 0, DATASET_NAME)\n",
    "\n",
    "\n",
    "classifier_name = CLASSIFIER_NAME\n",
    "dataset_name = DATASET_NAME\n",
    "regular_trainer = False\n",
    "classifier_device = 1\n",
    "retriever_client = retriever\n",
    "retriever_device = 2\n",
    "\n",
    "classifier = transformers.AutoModelForSequenceClassification.from_pretrained(\n",
    "    classifier_name, num_labels=NUM_LABELS\n",
    ")\n",
    "classifier_tokenizer = transformers.AutoTokenizer.from_pretrained(classifier_name)\n",
    "\n",
    "def preprocess_function(examples, tokenizer):\n",
    "    return tokenizer(examples[\"text\"], truncation=True, padding=True)\n",
    "\n",
    "def preprocess_function(examples, tokenizer):\n",
    "    return tokenizer(examples[\"text\"], truncation=True, padding=True)\n",
    "\n",
    "dataset = datasets.load_dataset(dataset_name)\n",
    "tokenized_training = dataset[\"train\"].map(\n",
    "    lambda examples: preprocess_function(examples, classifier_tokenizer), \n",
    "    batched=True\n",
    ")\n",
    "\n",
    "tokenized_validation = dataset[\"test\"].map(\n",
    "    lambda examples: preprocess_function(examples, classifier_tokenizer), \n",
    "    batched=True\n",
    ")\n",
    "\n",
    "training_args = transformers.TrainingArguments(\n",
    "    output_dir=\"./results\",\n",
    "    learning_rate=1e-5,\n",
    "    per_device_train_batch_size=20,\n",
    "    per_device_eval_batch_size=20,\n",
    "    num_train_epochs=5,\n",
    "    weight_decay=0.01,\n",
    ")"
   ]
  },
  {
   "cell_type": "code",
   "execution_count": 5,
   "metadata": {},
   "outputs": [
    {
     "name": "stderr",
     "output_type": "stream",
     "text": [
      "Loading cached processed dataset at /home/mila/g/gagnonju/.cache/huggingface/datasets/imdb/plain_text/1.0.0/2fdd8b9bcadd6e7055e742a706876ba43f19faee861df134affd7a3f60fc38a1/cache-a645737e8e3ed793.arrow\n",
      "Loading cached shuffled indices for dataset at /home/mila/g/gagnonju/.cache/huggingface/datasets/imdb/plain_text/1.0.0/2fdd8b9bcadd6e7055e742a706876ba43f19faee861df134affd7a3f60fc38a1/cache-42092c50c935d800.arrow\n"
     ]
    },
    {
     "name": "stdout",
     "output_type": "stream",
     "text": [
      "huggingface/tokenizers: The current process just got forked, after parallelism has already been used. Disabling parallelism to avoid deadlocks...\n",
      "To disable this warning, you can either:\n",
      "\t- Avoid using `tokenizers` before the fork if possible\n",
      "\t- Explicitly set the environment variable TOKENIZERS_PARALLELISM=(true | false)\n",
      "huggingface/tokenizers: The current process just got forked, after parallelism has already been used. Disabling parallelism to avoid deadlocks...\n",
      "To disable this warning, you can either:\n",
      "\t- Avoid using `tokenizers` before the fork if possible\n",
      "\t- Explicitly set the environment variable TOKENIZERS_PARALLELISM=(true | false)\n",
      "huggingface/tokenizers: The current process just got forked, after parallelism has already been used. Disabling parallelism to avoid deadlocks...\n",
      "To disable this warning, you can either:\n",
      "\t- Avoid using `tokenizers` before the fork if possible\n",
      "\t- Explicitly set the environment variable TOKENIZERS_PARALLELISM=(true | false)\n"
     ]
    }
   ],
   "source": [
    "\n",
    "if regular_trainer:\n",
    "    trainer = transformers.Trainer(\n",
    "        model=classifier.to(classifier_device), \n",
    "        args=training_args, \n",
    "        tokenizer=classifier_tokenizer, \n",
    "        train_dataset=tokenized_training, \n",
    "        eval_dataset=tokenized_validation,\n",
    "        data_collator=transformers.DataCollatorWithPadding(\n",
    "            tokenizer=classifier_tokenizer\n",
    "        ),\n",
    "    )\n",
    "else:\n",
    "    tokenized_training = BoostingIterator(\n",
    "        dataset=dataset[\"train\"], \n",
    "        retriever_client=retriever_client, \n",
    "        classifier=classifier, \n",
    "        epsilon=0.5, \n",
    "        seed=0,\n",
    "        retriever_device=retriever_device, \n",
    "        classification_device=classifier_device,\n",
    "        classification_tokenizer=classifier_tokenizer,\n",
    "    )\n",
    "    \n",
    "    trainer = BoostingTrainer(\n",
    "        model=classifier.to(classifier_device), \n",
    "        args=training_args, \n",
    "        tokenizer=classifier_tokenizer, \n",
    "        train_dataset=tokenized_training, \n",
    "        eval_dataset=tokenized_validation,\n",
    "        data_collator=transformers.DataCollatorWithPadding(\n",
    "            tokenizer=classifier_tokenizer\n",
    "        ),\n",
    "    )"
   ]
  },
  {
   "cell_type": "code",
   "execution_count": 6,
   "metadata": {},
   "outputs": [
    {
     "name": "stderr",
     "output_type": "stream",
     "text": [
      "/home/mila/g/gagnonju/.main/lib/python3.9/site-packages/transformers/optimization.py:306: FutureWarning: This implementation of AdamW is deprecated and will be removed in a future version. Use thePyTorch implementation torch.optim.AdamW instead, or set `no_deprecation_warning=True` to disable this warning\n",
      "  warnings.warn(\n",
      "***** Running training *****\n",
      "  Num examples = 25000\n",
      "  Num Epochs = 5\n",
      "  Instantaneous batch size per device = 20\n",
      "  Total train batch size (w. parallel, distributed & accumulation) = 60\n",
      "  Gradient Accumulation steps = 1\n",
      "  Total optimization steps = 6250\n",
      "Automatic Weights & Biases logging enabled, to disable set os.environ[\"WANDB_DISABLED\"] = \"true\"\n",
      "Failed to detect the name of this notebook, you can set it manually with the WANDB_NOTEBOOK_NAME environment variable to enable code saving.\n",
      "\u001b[34m\u001b[1mwandb\u001b[0m: Currently logged in as: \u001b[33mjulesgm\u001b[0m (use `wandb login --relogin` to force relogin)\n"
     ]
    },
    {
     "name": "stdout",
     "output_type": "stream",
     "text": [
      "huggingface/tokenizers: The current process just got forked, after parallelism has already been used. Disabling parallelism to avoid deadlocks...\n",
      "To disable this warning, you can either:\n",
      "\t- Avoid using `tokenizers` before the fork if possible\n",
      "\t- Explicitly set the environment variable TOKENIZERS_PARALLELISM=(true | false)\n",
      "huggingface/tokenizers: The current process just got forked, after parallelism has already been used. Disabling parallelism to avoid deadlocks...\n",
      "To disable this warning, you can either:\n",
      "\t- Avoid using `tokenizers` before the fork if possible\n",
      "\t- Explicitly set the environment variable TOKENIZERS_PARALLELISM=(true | false)\n"
     ]
    },
    {
     "name": "stderr",
     "output_type": "stream",
     "text": [
      "\u001b[34m\u001b[1mwandb\u001b[0m: wandb version 0.12.10 is available!  To upgrade, please run:\n",
      "\u001b[34m\u001b[1mwandb\u001b[0m:  $ pip install wandb --upgrade\n"
     ]
    },
    {
     "data": {
      "text/html": [
       "\n",
       "                Tracking run with wandb version 0.12.1<br/>\n",
       "                Syncing run <strong style=\"color:#cdcd00\">./results</strong> to <a href=\"https://wandb.ai\" target=\"_blank\">Weights & Biases</a> <a href=\"https://docs.wandb.com/integrations/jupyter.html\" target=\"_blank\">(Documentation)</a>.<br/>\n",
       "                Project page: <a href=\"https://wandb.ai/julesgm/huggingface\" target=\"_blank\">https://wandb.ai/julesgm/huggingface</a><br/>\n",
       "                Run page: <a href=\"https://wandb.ai/julesgm/huggingface/runs/24yzam66\" target=\"_blank\">https://wandb.ai/julesgm/huggingface/runs/24yzam66</a><br/>\n",
       "                Run data is saved locally in <code>/home/mila/g/gagnonju/ContrievedBoosting/wandb/run-20220210_114341-24yzam66</code><br/><br/>\n",
       "            "
      ],
      "text/plain": [
       "<IPython.core.display.HTML object>"
      ]
     },
     "metadata": {},
     "output_type": "display_data"
    },
    {
     "data": {
      "text/html": [
       "<pre style=\"white-space:pre;overflow-x:auto;line-height:normal;font-family:Menlo,'DejaVu Sans Mono',consolas,'Courier New',monospace\"><span style=\"color: #008000; text-decoration-color: #008000; font-weight: bold\">ITER</span>\n",
       "</pre>\n"
      ],
      "text/plain": [
       "\u001b[1;32mITER\u001b[0m\n"
      ]
     },
     "metadata": {},
     "output_type": "display_data"
    },
    {
     "name": "stderr",
     "output_type": "stream",
     "text": [
      "Loading cached shuffled indices for dataset at /home/mila/g/gagnonju/.cache/huggingface/datasets/imdb/plain_text/1.0.0/2fdd8b9bcadd6e7055e742a706876ba43f19faee861df134affd7a3f60fc38a1/cache-4dc2830ea21e6a12.arrow\n",
      "/home/mila/g/gagnonju/.main/lib/python3.9/site-packages/torch/nn/parallel/_functions.py:68: UserWarning: Was asked to gather along dimension 0, but all input tensors were scalars; will instead unsqueeze and return a vector.\n",
      "  warnings.warn('Was asked to gather along dimension 0, but all '\n"
     ]
    },
    {
     "data": {
      "text/html": [
       "<pre style=\"white-space:pre;overflow-x:auto;line-height:normal;font-family:Menlo,'DejaVu Sans Mono',consolas,'Courier New',monospace\"><span style=\"color: #800000; text-decoration-color: #800000; font-weight: bold\">loss = tensor(</span><span style=\"color: #800000; text-decoration-color: #800000; font-weight: bold\">0.6948</span><span style=\"color: #800000; text-decoration-color: #800000; font-weight: bold\">, </span><span style=\"color: #800000; text-decoration-color: #800000; font-weight: bold\">device</span><span style=\"color: #800000; text-decoration-color: #800000; font-weight: bold\">=</span><span style=\"color: #800000; text-decoration-color: #800000; font-weight: bold\">'cuda:0'</span><span style=\"color: #800000; text-decoration-color: #800000; font-weight: bold\">) computed_loss = tensor(</span><span style=\"color: #800000; text-decoration-color: #800000; font-weight: bold\">0.6957</span><span style=\"color: #800000; text-decoration-color: #800000; font-weight: bold\">, </span><span style=\"color: #800000; text-decoration-color: #800000; font-weight: bold\">device</span><span style=\"color: #800000; text-decoration-color: #800000; font-weight: bold\">=</span><span style=\"color: #800000; text-decoration-color: #800000; font-weight: bold\">'cuda:0'</span><span style=\"color: #800000; text-decoration-color: #800000; font-weight: bold\">, </span>\n",
       "<span style=\"color: #800000; text-decoration-color: #800000; font-weight: bold\">grad_fn</span><span style=\"color: #800000; text-decoration-color: #800000; font-weight: bold\">=&lt;NllLossBackward0&gt;)</span>\n",
       "</pre>\n"
      ],
      "text/plain": [
       "\u001b[1;31mloss = \u001b[0m\u001b[1;31mtensor\u001b[0m\u001b[1;31m(\u001b[0m\u001b[1;31m0.6948\u001b[0m\u001b[1;31m, \u001b[0m\u001b[1;31mdevice\u001b[0m\u001b[1;31m=\u001b[0m\u001b[1;31m'cuda:0'\u001b[0m\u001b[1;31m)\u001b[0m\u001b[1;31m computed_loss = \u001b[0m\u001b[1;31mtensor\u001b[0m\u001b[1;31m(\u001b[0m\u001b[1;31m0.6957\u001b[0m\u001b[1;31m, \u001b[0m\u001b[1;31mdevice\u001b[0m\u001b[1;31m=\u001b[0m\u001b[1;31m'cuda:0'\u001b[0m\u001b[1;31m, \u001b[0m\n",
       "\u001b[1;31mgrad_fn\u001b[0m\u001b[1;31m=\u001b[0m\u001b[1;31m<\u001b[0m\u001b[1;31mNllLossBackward0\u001b[0m\u001b[1;31m>\u001b[0m\u001b[1;31m)\u001b[0m\n"
      ]
     },
     "metadata": {},
     "output_type": "display_data"
    },
    {
     "data": {
      "text/html": [
       "\n",
       "    <div>\n",
       "      \n",
       "      <progress value='311' max='6250' style='width:300px; height:20px; vertical-align: middle;'></progress>\n",
       "      [ 311/6250 00:49 < 15:44, 6.29 it/s, Epoch 0.25/5]\n",
       "    </div>\n",
       "    <table border=\"1\" class=\"dataframe\">\n",
       "  <thead>\n",
       " <tr style=\"text-align: left;\">\n",
       "      <th>Step</th>\n",
       "      <th>Training Loss</th>\n",
       "    </tr>\n",
       "  </thead>\n",
       "  <tbody>\n",
       "  </tbody>\n",
       "</table><p>"
      ],
      "text/plain": [
       "<IPython.core.display.HTML object>"
      ]
     },
     "metadata": {},
     "output_type": "display_data"
    },
    {
     "data": {
      "text/html": [
       "<pre style=\"white-space:pre;overflow-x:auto;line-height:normal;font-family:Menlo,'DejaVu Sans Mono',consolas,'Courier New',monospace\"><span style=\"color: #800000; text-decoration-color: #800000; font-weight: bold\">loss = tensor(</span><span style=\"color: #800000; text-decoration-color: #800000; font-weight: bold\">0.6972</span><span style=\"color: #800000; text-decoration-color: #800000; font-weight: bold\">, </span><span style=\"color: #800000; text-decoration-color: #800000; font-weight: bold\">device</span><span style=\"color: #800000; text-decoration-color: #800000; font-weight: bold\">=</span><span style=\"color: #800000; text-decoration-color: #800000; font-weight: bold\">'cuda:0'</span><span style=\"color: #800000; text-decoration-color: #800000; font-weight: bold\">) computed_loss = tensor(</span><span style=\"color: #800000; text-decoration-color: #800000; font-weight: bold\">0.6977</span><span style=\"color: #800000; text-decoration-color: #800000; font-weight: bold\">, </span><span style=\"color: #800000; text-decoration-color: #800000; font-weight: bold\">device</span><span style=\"color: #800000; text-decoration-color: #800000; font-weight: bold\">=</span><span style=\"color: #800000; text-decoration-color: #800000; font-weight: bold\">'cuda:0'</span><span style=\"color: #800000; text-decoration-color: #800000; font-weight: bold\">, </span>\n",
       "<span style=\"color: #800000; text-decoration-color: #800000; font-weight: bold\">grad_fn</span><span style=\"color: #800000; text-decoration-color: #800000; font-weight: bold\">=&lt;NllLossBackward0&gt;)</span>\n",
       "</pre>\n"
      ],
      "text/plain": [
       "\u001b[1;31mloss = \u001b[0m\u001b[1;31mtensor\u001b[0m\u001b[1;31m(\u001b[0m\u001b[1;31m0.6972\u001b[0m\u001b[1;31m, \u001b[0m\u001b[1;31mdevice\u001b[0m\u001b[1;31m=\u001b[0m\u001b[1;31m'cuda:0'\u001b[0m\u001b[1;31m)\u001b[0m\u001b[1;31m computed_loss = \u001b[0m\u001b[1;31mtensor\u001b[0m\u001b[1;31m(\u001b[0m\u001b[1;31m0.6977\u001b[0m\u001b[1;31m, \u001b[0m\u001b[1;31mdevice\u001b[0m\u001b[1;31m=\u001b[0m\u001b[1;31m'cuda:0'\u001b[0m\u001b[1;31m, \u001b[0m\n",
       "\u001b[1;31mgrad_fn\u001b[0m\u001b[1;31m=\u001b[0m\u001b[1;31m<\u001b[0m\u001b[1;31mNllLossBackward0\u001b[0m\u001b[1;31m>\u001b[0m\u001b[1;31m)\u001b[0m\n"
      ]
     },
     "metadata": {},
     "output_type": "display_data"
    },
    {
     "data": {
      "text/html": [
       "<pre style=\"white-space:pre;overflow-x:auto;line-height:normal;font-family:Menlo,'DejaVu Sans Mono',consolas,'Courier New',monospace\"><span style=\"color: #800000; text-decoration-color: #800000; font-weight: bold\">loss = tensor(</span><span style=\"color: #800000; text-decoration-color: #800000; font-weight: bold\">0.7144</span><span style=\"color: #800000; text-decoration-color: #800000; font-weight: bold\">, </span><span style=\"color: #800000; text-decoration-color: #800000; font-weight: bold\">device</span><span style=\"color: #800000; text-decoration-color: #800000; font-weight: bold\">=</span><span style=\"color: #800000; text-decoration-color: #800000; font-weight: bold\">'cuda:0'</span><span style=\"color: #800000; text-decoration-color: #800000; font-weight: bold\">) computed_loss = tensor(</span><span style=\"color: #800000; text-decoration-color: #800000; font-weight: bold\">0.7135</span><span style=\"color: #800000; text-decoration-color: #800000; font-weight: bold\">, </span><span style=\"color: #800000; text-decoration-color: #800000; font-weight: bold\">device</span><span style=\"color: #800000; text-decoration-color: #800000; font-weight: bold\">=</span><span style=\"color: #800000; text-decoration-color: #800000; font-weight: bold\">'cuda:0'</span><span style=\"color: #800000; text-decoration-color: #800000; font-weight: bold\">, </span>\n",
       "<span style=\"color: #800000; text-decoration-color: #800000; font-weight: bold\">grad_fn</span><span style=\"color: #800000; text-decoration-color: #800000; font-weight: bold\">=&lt;NllLossBackward0&gt;)</span>\n",
       "</pre>\n"
      ],
      "text/plain": [
       "\u001b[1;31mloss = \u001b[0m\u001b[1;31mtensor\u001b[0m\u001b[1;31m(\u001b[0m\u001b[1;31m0.7144\u001b[0m\u001b[1;31m, \u001b[0m\u001b[1;31mdevice\u001b[0m\u001b[1;31m=\u001b[0m\u001b[1;31m'cuda:0'\u001b[0m\u001b[1;31m)\u001b[0m\u001b[1;31m computed_loss = \u001b[0m\u001b[1;31mtensor\u001b[0m\u001b[1;31m(\u001b[0m\u001b[1;31m0.7135\u001b[0m\u001b[1;31m, \u001b[0m\u001b[1;31mdevice\u001b[0m\u001b[1;31m=\u001b[0m\u001b[1;31m'cuda:0'\u001b[0m\u001b[1;31m, \u001b[0m\n",
       "\u001b[1;31mgrad_fn\u001b[0m\u001b[1;31m=\u001b[0m\u001b[1;31m<\u001b[0m\u001b[1;31mNllLossBackward0\u001b[0m\u001b[1;31m>\u001b[0m\u001b[1;31m)\u001b[0m\n"
      ]
     },
     "metadata": {},
     "output_type": "display_data"
    },
    {
     "data": {
      "text/html": [
       "<pre style=\"white-space:pre;overflow-x:auto;line-height:normal;font-family:Menlo,'DejaVu Sans Mono',consolas,'Courier New',monospace\"><span style=\"color: #800000; text-decoration-color: #800000; font-weight: bold\">loss = tensor(</span><span style=\"color: #800000; text-decoration-color: #800000; font-weight: bold\">0.6897</span><span style=\"color: #800000; text-decoration-color: #800000; font-weight: bold\">, </span><span style=\"color: #800000; text-decoration-color: #800000; font-weight: bold\">device</span><span style=\"color: #800000; text-decoration-color: #800000; font-weight: bold\">=</span><span style=\"color: #800000; text-decoration-color: #800000; font-weight: bold\">'cuda:0'</span><span style=\"color: #800000; text-decoration-color: #800000; font-weight: bold\">) computed_loss = tensor(</span><span style=\"color: #800000; text-decoration-color: #800000; font-weight: bold\">0.6860</span><span style=\"color: #800000; text-decoration-color: #800000; font-weight: bold\">, </span><span style=\"color: #800000; text-decoration-color: #800000; font-weight: bold\">device</span><span style=\"color: #800000; text-decoration-color: #800000; font-weight: bold\">=</span><span style=\"color: #800000; text-decoration-color: #800000; font-weight: bold\">'cuda:0'</span><span style=\"color: #800000; text-decoration-color: #800000; font-weight: bold\">, </span>\n",
       "<span style=\"color: #800000; text-decoration-color: #800000; font-weight: bold\">grad_fn</span><span style=\"color: #800000; text-decoration-color: #800000; font-weight: bold\">=&lt;NllLossBackward0&gt;)</span>\n",
       "</pre>\n"
      ],
      "text/plain": [
       "\u001b[1;31mloss = \u001b[0m\u001b[1;31mtensor\u001b[0m\u001b[1;31m(\u001b[0m\u001b[1;31m0.6897\u001b[0m\u001b[1;31m, \u001b[0m\u001b[1;31mdevice\u001b[0m\u001b[1;31m=\u001b[0m\u001b[1;31m'cuda:0'\u001b[0m\u001b[1;31m)\u001b[0m\u001b[1;31m computed_loss = \u001b[0m\u001b[1;31mtensor\u001b[0m\u001b[1;31m(\u001b[0m\u001b[1;31m0.6860\u001b[0m\u001b[1;31m, \u001b[0m\u001b[1;31mdevice\u001b[0m\u001b[1;31m=\u001b[0m\u001b[1;31m'cuda:0'\u001b[0m\u001b[1;31m, \u001b[0m\n",
       "\u001b[1;31mgrad_fn\u001b[0m\u001b[1;31m=\u001b[0m\u001b[1;31m<\u001b[0m\u001b[1;31mNllLossBackward0\u001b[0m\u001b[1;31m>\u001b[0m\u001b[1;31m)\u001b[0m\n"
      ]
     },
     "metadata": {},
     "output_type": "display_data"
    },
    {
     "data": {
      "text/html": [
       "<pre style=\"white-space:pre;overflow-x:auto;line-height:normal;font-family:Menlo,'DejaVu Sans Mono',consolas,'Courier New',monospace\"><span style=\"color: #800000; text-decoration-color: #800000; font-weight: bold\">loss = tensor(</span><span style=\"color: #800000; text-decoration-color: #800000; font-weight: bold\">0.7111</span><span style=\"color: #800000; text-decoration-color: #800000; font-weight: bold\">, </span><span style=\"color: #800000; text-decoration-color: #800000; font-weight: bold\">device</span><span style=\"color: #800000; text-decoration-color: #800000; font-weight: bold\">=</span><span style=\"color: #800000; text-decoration-color: #800000; font-weight: bold\">'cuda:0'</span><span style=\"color: #800000; text-decoration-color: #800000; font-weight: bold\">) computed_loss = tensor(</span><span style=\"color: #800000; text-decoration-color: #800000; font-weight: bold\">0.7099</span><span style=\"color: #800000; text-decoration-color: #800000; font-weight: bold\">, </span><span style=\"color: #800000; text-decoration-color: #800000; font-weight: bold\">device</span><span style=\"color: #800000; text-decoration-color: #800000; font-weight: bold\">=</span><span style=\"color: #800000; text-decoration-color: #800000; font-weight: bold\">'cuda:0'</span><span style=\"color: #800000; text-decoration-color: #800000; font-weight: bold\">, </span>\n",
       "<span style=\"color: #800000; text-decoration-color: #800000; font-weight: bold\">grad_fn</span><span style=\"color: #800000; text-decoration-color: #800000; font-weight: bold\">=&lt;NllLossBackward0&gt;)</span>\n",
       "</pre>\n"
      ],
      "text/plain": [
       "\u001b[1;31mloss = \u001b[0m\u001b[1;31mtensor\u001b[0m\u001b[1;31m(\u001b[0m\u001b[1;31m0.7111\u001b[0m\u001b[1;31m, \u001b[0m\u001b[1;31mdevice\u001b[0m\u001b[1;31m=\u001b[0m\u001b[1;31m'cuda:0'\u001b[0m\u001b[1;31m)\u001b[0m\u001b[1;31m computed_loss = \u001b[0m\u001b[1;31mtensor\u001b[0m\u001b[1;31m(\u001b[0m\u001b[1;31m0.7099\u001b[0m\u001b[1;31m, \u001b[0m\u001b[1;31mdevice\u001b[0m\u001b[1;31m=\u001b[0m\u001b[1;31m'cuda:0'\u001b[0m\u001b[1;31m, \u001b[0m\n",
       "\u001b[1;31mgrad_fn\u001b[0m\u001b[1;31m=\u001b[0m\u001b[1;31m<\u001b[0m\u001b[1;31mNllLossBackward0\u001b[0m\u001b[1;31m>\u001b[0m\u001b[1;31m)\u001b[0m\n"
      ]
     },
     "metadata": {},
     "output_type": "display_data"
    },
    {
     "data": {
      "text/html": [
       "<pre style=\"white-space:pre;overflow-x:auto;line-height:normal;font-family:Menlo,'DejaVu Sans Mono',consolas,'Courier New',monospace\"><span style=\"color: #800000; text-decoration-color: #800000; font-weight: bold\">loss = tensor(</span><span style=\"color: #800000; text-decoration-color: #800000; font-weight: bold\">0.6911</span><span style=\"color: #800000; text-decoration-color: #800000; font-weight: bold\">, </span><span style=\"color: #800000; text-decoration-color: #800000; font-weight: bold\">device</span><span style=\"color: #800000; text-decoration-color: #800000; font-weight: bold\">=</span><span style=\"color: #800000; text-decoration-color: #800000; font-weight: bold\">'cuda:0'</span><span style=\"color: #800000; text-decoration-color: #800000; font-weight: bold\">) computed_loss = tensor(</span><span style=\"color: #800000; text-decoration-color: #800000; font-weight: bold\">0.6919</span><span style=\"color: #800000; text-decoration-color: #800000; font-weight: bold\">, </span><span style=\"color: #800000; text-decoration-color: #800000; font-weight: bold\">device</span><span style=\"color: #800000; text-decoration-color: #800000; font-weight: bold\">=</span><span style=\"color: #800000; text-decoration-color: #800000; font-weight: bold\">'cuda:0'</span><span style=\"color: #800000; text-decoration-color: #800000; font-weight: bold\">, </span>\n",
       "<span style=\"color: #800000; text-decoration-color: #800000; font-weight: bold\">grad_fn</span><span style=\"color: #800000; text-decoration-color: #800000; font-weight: bold\">=&lt;NllLossBackward0&gt;)</span>\n",
       "</pre>\n"
      ],
      "text/plain": [
       "\u001b[1;31mloss = \u001b[0m\u001b[1;31mtensor\u001b[0m\u001b[1;31m(\u001b[0m\u001b[1;31m0.6911\u001b[0m\u001b[1;31m, \u001b[0m\u001b[1;31mdevice\u001b[0m\u001b[1;31m=\u001b[0m\u001b[1;31m'cuda:0'\u001b[0m\u001b[1;31m)\u001b[0m\u001b[1;31m computed_loss = \u001b[0m\u001b[1;31mtensor\u001b[0m\u001b[1;31m(\u001b[0m\u001b[1;31m0.6919\u001b[0m\u001b[1;31m, \u001b[0m\u001b[1;31mdevice\u001b[0m\u001b[1;31m=\u001b[0m\u001b[1;31m'cuda:0'\u001b[0m\u001b[1;31m, \u001b[0m\n",
       "\u001b[1;31mgrad_fn\u001b[0m\u001b[1;31m=\u001b[0m\u001b[1;31m<\u001b[0m\u001b[1;31mNllLossBackward0\u001b[0m\u001b[1;31m>\u001b[0m\u001b[1;31m)\u001b[0m\n"
      ]
     },
     "metadata": {},
     "output_type": "display_data"
    },
    {
     "data": {
      "text/html": [
       "<pre style=\"white-space:pre;overflow-x:auto;line-height:normal;font-family:Menlo,'DejaVu Sans Mono',consolas,'Courier New',monospace\"><span style=\"color: #800000; text-decoration-color: #800000; font-weight: bold\">loss = tensor(</span><span style=\"color: #800000; text-decoration-color: #800000; font-weight: bold\">0.7128</span><span style=\"color: #800000; text-decoration-color: #800000; font-weight: bold\">, </span><span style=\"color: #800000; text-decoration-color: #800000; font-weight: bold\">device</span><span style=\"color: #800000; text-decoration-color: #800000; font-weight: bold\">=</span><span style=\"color: #800000; text-decoration-color: #800000; font-weight: bold\">'cuda:0'</span><span style=\"color: #800000; text-decoration-color: #800000; font-weight: bold\">) computed_loss = tensor(</span><span style=\"color: #800000; text-decoration-color: #800000; font-weight: bold\">0.7106</span><span style=\"color: #800000; text-decoration-color: #800000; font-weight: bold\">, </span><span style=\"color: #800000; text-decoration-color: #800000; font-weight: bold\">device</span><span style=\"color: #800000; text-decoration-color: #800000; font-weight: bold\">=</span><span style=\"color: #800000; text-decoration-color: #800000; font-weight: bold\">'cuda:0'</span><span style=\"color: #800000; text-decoration-color: #800000; font-weight: bold\">, </span>\n",
       "<span style=\"color: #800000; text-decoration-color: #800000; font-weight: bold\">grad_fn</span><span style=\"color: #800000; text-decoration-color: #800000; font-weight: bold\">=&lt;NllLossBackward0&gt;)</span>\n",
       "</pre>\n"
      ],
      "text/plain": [
       "\u001b[1;31mloss = \u001b[0m\u001b[1;31mtensor\u001b[0m\u001b[1;31m(\u001b[0m\u001b[1;31m0.7128\u001b[0m\u001b[1;31m, \u001b[0m\u001b[1;31mdevice\u001b[0m\u001b[1;31m=\u001b[0m\u001b[1;31m'cuda:0'\u001b[0m\u001b[1;31m)\u001b[0m\u001b[1;31m computed_loss = \u001b[0m\u001b[1;31mtensor\u001b[0m\u001b[1;31m(\u001b[0m\u001b[1;31m0.7106\u001b[0m\u001b[1;31m, \u001b[0m\u001b[1;31mdevice\u001b[0m\u001b[1;31m=\u001b[0m\u001b[1;31m'cuda:0'\u001b[0m\u001b[1;31m, \u001b[0m\n",
       "\u001b[1;31mgrad_fn\u001b[0m\u001b[1;31m=\u001b[0m\u001b[1;31m<\u001b[0m\u001b[1;31mNllLossBackward0\u001b[0m\u001b[1;31m>\u001b[0m\u001b[1;31m)\u001b[0m\n"
      ]
     },
     "metadata": {},
     "output_type": "display_data"
    },
    {
     "data": {
      "text/html": [
       "<pre style=\"white-space:pre;overflow-x:auto;line-height:normal;font-family:Menlo,'DejaVu Sans Mono',consolas,'Courier New',monospace\"><span style=\"color: #800000; text-decoration-color: #800000; font-weight: bold\">loss = tensor(</span><span style=\"color: #800000; text-decoration-color: #800000; font-weight: bold\">0.6843</span><span style=\"color: #800000; text-decoration-color: #800000; font-weight: bold\">, </span><span style=\"color: #800000; text-decoration-color: #800000; font-weight: bold\">device</span><span style=\"color: #800000; text-decoration-color: #800000; font-weight: bold\">=</span><span style=\"color: #800000; text-decoration-color: #800000; font-weight: bold\">'cuda:0'</span><span style=\"color: #800000; text-decoration-color: #800000; font-weight: bold\">) computed_loss = tensor(</span><span style=\"color: #800000; text-decoration-color: #800000; font-weight: bold\">0.6843</span><span style=\"color: #800000; text-decoration-color: #800000; font-weight: bold\">, </span><span style=\"color: #800000; text-decoration-color: #800000; font-weight: bold\">device</span><span style=\"color: #800000; text-decoration-color: #800000; font-weight: bold\">=</span><span style=\"color: #800000; text-decoration-color: #800000; font-weight: bold\">'cuda:0'</span><span style=\"color: #800000; text-decoration-color: #800000; font-weight: bold\">, </span>\n",
       "<span style=\"color: #800000; text-decoration-color: #800000; font-weight: bold\">grad_fn</span><span style=\"color: #800000; text-decoration-color: #800000; font-weight: bold\">=&lt;NllLossBackward0&gt;)</span>\n",
       "</pre>\n"
      ],
      "text/plain": [
       "\u001b[1;31mloss = \u001b[0m\u001b[1;31mtensor\u001b[0m\u001b[1;31m(\u001b[0m\u001b[1;31m0.6843\u001b[0m\u001b[1;31m, \u001b[0m\u001b[1;31mdevice\u001b[0m\u001b[1;31m=\u001b[0m\u001b[1;31m'cuda:0'\u001b[0m\u001b[1;31m)\u001b[0m\u001b[1;31m computed_loss = \u001b[0m\u001b[1;31mtensor\u001b[0m\u001b[1;31m(\u001b[0m\u001b[1;31m0.6843\u001b[0m\u001b[1;31m, \u001b[0m\u001b[1;31mdevice\u001b[0m\u001b[1;31m=\u001b[0m\u001b[1;31m'cuda:0'\u001b[0m\u001b[1;31m, \u001b[0m\n",
       "\u001b[1;31mgrad_fn\u001b[0m\u001b[1;31m=\u001b[0m\u001b[1;31m<\u001b[0m\u001b[1;31mNllLossBackward0\u001b[0m\u001b[1;31m>\u001b[0m\u001b[1;31m)\u001b[0m\n"
      ]
     },
     "metadata": {},
     "output_type": "display_data"
    },
    {
     "data": {
      "text/html": [
       "<pre style=\"white-space:pre;overflow-x:auto;line-height:normal;font-family:Menlo,'DejaVu Sans Mono',consolas,'Courier New',monospace\"><span style=\"color: #800000; text-decoration-color: #800000; font-weight: bold\">loss = tensor(</span><span style=\"color: #800000; text-decoration-color: #800000; font-weight: bold\">0.6577</span><span style=\"color: #800000; text-decoration-color: #800000; font-weight: bold\">, </span><span style=\"color: #800000; text-decoration-color: #800000; font-weight: bold\">device</span><span style=\"color: #800000; text-decoration-color: #800000; font-weight: bold\">=</span><span style=\"color: #800000; text-decoration-color: #800000; font-weight: bold\">'cuda:0'</span><span style=\"color: #800000; text-decoration-color: #800000; font-weight: bold\">) computed_loss = tensor(</span><span style=\"color: #800000; text-decoration-color: #800000; font-weight: bold\">0.6575</span><span style=\"color: #800000; text-decoration-color: #800000; font-weight: bold\">, </span><span style=\"color: #800000; text-decoration-color: #800000; font-weight: bold\">device</span><span style=\"color: #800000; text-decoration-color: #800000; font-weight: bold\">=</span><span style=\"color: #800000; text-decoration-color: #800000; font-weight: bold\">'cuda:0'</span><span style=\"color: #800000; text-decoration-color: #800000; font-weight: bold\">, </span>\n",
       "<span style=\"color: #800000; text-decoration-color: #800000; font-weight: bold\">grad_fn</span><span style=\"color: #800000; text-decoration-color: #800000; font-weight: bold\">=&lt;NllLossBackward0&gt;)</span>\n",
       "</pre>\n"
      ],
      "text/plain": [
       "\u001b[1;31mloss = \u001b[0m\u001b[1;31mtensor\u001b[0m\u001b[1;31m(\u001b[0m\u001b[1;31m0.6577\u001b[0m\u001b[1;31m, \u001b[0m\u001b[1;31mdevice\u001b[0m\u001b[1;31m=\u001b[0m\u001b[1;31m'cuda:0'\u001b[0m\u001b[1;31m)\u001b[0m\u001b[1;31m computed_loss = \u001b[0m\u001b[1;31mtensor\u001b[0m\u001b[1;31m(\u001b[0m\u001b[1;31m0.6575\u001b[0m\u001b[1;31m, \u001b[0m\u001b[1;31mdevice\u001b[0m\u001b[1;31m=\u001b[0m\u001b[1;31m'cuda:0'\u001b[0m\u001b[1;31m, \u001b[0m\n",
       "\u001b[1;31mgrad_fn\u001b[0m\u001b[1;31m=\u001b[0m\u001b[1;31m<\u001b[0m\u001b[1;31mNllLossBackward0\u001b[0m\u001b[1;31m>\u001b[0m\u001b[1;31m)\u001b[0m\n"
      ]
     },
     "metadata": {},
     "output_type": "display_data"
    },
    {
     "data": {
      "text/html": [
       "<pre style=\"white-space:pre;overflow-x:auto;line-height:normal;font-family:Menlo,'DejaVu Sans Mono',consolas,'Courier New',monospace\"><span style=\"color: #800000; text-decoration-color: #800000; font-weight: bold\">loss = tensor(</span><span style=\"color: #800000; text-decoration-color: #800000; font-weight: bold\">0.6950</span><span style=\"color: #800000; text-decoration-color: #800000; font-weight: bold\">, </span><span style=\"color: #800000; text-decoration-color: #800000; font-weight: bold\">device</span><span style=\"color: #800000; text-decoration-color: #800000; font-weight: bold\">=</span><span style=\"color: #800000; text-decoration-color: #800000; font-weight: bold\">'cuda:0'</span><span style=\"color: #800000; text-decoration-color: #800000; font-weight: bold\">) computed_loss = tensor(</span><span style=\"color: #800000; text-decoration-color: #800000; font-weight: bold\">0.6950</span><span style=\"color: #800000; text-decoration-color: #800000; font-weight: bold\">, </span><span style=\"color: #800000; text-decoration-color: #800000; font-weight: bold\">device</span><span style=\"color: #800000; text-decoration-color: #800000; font-weight: bold\">=</span><span style=\"color: #800000; text-decoration-color: #800000; font-weight: bold\">'cuda:0'</span><span style=\"color: #800000; text-decoration-color: #800000; font-weight: bold\">, </span>\n",
       "<span style=\"color: #800000; text-decoration-color: #800000; font-weight: bold\">grad_fn</span><span style=\"color: #800000; text-decoration-color: #800000; font-weight: bold\">=&lt;NllLossBackward0&gt;)</span>\n",
       "</pre>\n"
      ],
      "text/plain": [
       "\u001b[1;31mloss = \u001b[0m\u001b[1;31mtensor\u001b[0m\u001b[1;31m(\u001b[0m\u001b[1;31m0.6950\u001b[0m\u001b[1;31m, \u001b[0m\u001b[1;31mdevice\u001b[0m\u001b[1;31m=\u001b[0m\u001b[1;31m'cuda:0'\u001b[0m\u001b[1;31m)\u001b[0m\u001b[1;31m computed_loss = \u001b[0m\u001b[1;31mtensor\u001b[0m\u001b[1;31m(\u001b[0m\u001b[1;31m0.6950\u001b[0m\u001b[1;31m, \u001b[0m\u001b[1;31mdevice\u001b[0m\u001b[1;31m=\u001b[0m\u001b[1;31m'cuda:0'\u001b[0m\u001b[1;31m, \u001b[0m\n",
       "\u001b[1;31mgrad_fn\u001b[0m\u001b[1;31m=\u001b[0m\u001b[1;31m<\u001b[0m\u001b[1;31mNllLossBackward0\u001b[0m\u001b[1;31m>\u001b[0m\u001b[1;31m)\u001b[0m\n"
      ]
     },
     "metadata": {},
     "output_type": "display_data"
    },
    {
     "data": {
      "text/html": [
       "<pre style=\"white-space:pre;overflow-x:auto;line-height:normal;font-family:Menlo,'DejaVu Sans Mono',consolas,'Courier New',monospace\"><span style=\"color: #800000; text-decoration-color: #800000; font-weight: bold\">loss = tensor(</span><span style=\"color: #800000; text-decoration-color: #800000; font-weight: bold\">0.6843</span><span style=\"color: #800000; text-decoration-color: #800000; font-weight: bold\">, </span><span style=\"color: #800000; text-decoration-color: #800000; font-weight: bold\">device</span><span style=\"color: #800000; text-decoration-color: #800000; font-weight: bold\">=</span><span style=\"color: #800000; text-decoration-color: #800000; font-weight: bold\">'cuda:0'</span><span style=\"color: #800000; text-decoration-color: #800000; font-weight: bold\">) computed_loss = tensor(</span><span style=\"color: #800000; text-decoration-color: #800000; font-weight: bold\">0.6840</span><span style=\"color: #800000; text-decoration-color: #800000; font-weight: bold\">, </span><span style=\"color: #800000; text-decoration-color: #800000; font-weight: bold\">device</span><span style=\"color: #800000; text-decoration-color: #800000; font-weight: bold\">=</span><span style=\"color: #800000; text-decoration-color: #800000; font-weight: bold\">'cuda:0'</span><span style=\"color: #800000; text-decoration-color: #800000; font-weight: bold\">, </span>\n",
       "<span style=\"color: #800000; text-decoration-color: #800000; font-weight: bold\">grad_fn</span><span style=\"color: #800000; text-decoration-color: #800000; font-weight: bold\">=&lt;NllLossBackward0&gt;)</span>\n",
       "</pre>\n"
      ],
      "text/plain": [
       "\u001b[1;31mloss = \u001b[0m\u001b[1;31mtensor\u001b[0m\u001b[1;31m(\u001b[0m\u001b[1;31m0.6843\u001b[0m\u001b[1;31m, \u001b[0m\u001b[1;31mdevice\u001b[0m\u001b[1;31m=\u001b[0m\u001b[1;31m'cuda:0'\u001b[0m\u001b[1;31m)\u001b[0m\u001b[1;31m computed_loss = \u001b[0m\u001b[1;31mtensor\u001b[0m\u001b[1;31m(\u001b[0m\u001b[1;31m0.6840\u001b[0m\u001b[1;31m, \u001b[0m\u001b[1;31mdevice\u001b[0m\u001b[1;31m=\u001b[0m\u001b[1;31m'cuda:0'\u001b[0m\u001b[1;31m, \u001b[0m\n",
       "\u001b[1;31mgrad_fn\u001b[0m\u001b[1;31m=\u001b[0m\u001b[1;31m<\u001b[0m\u001b[1;31mNllLossBackward0\u001b[0m\u001b[1;31m>\u001b[0m\u001b[1;31m)\u001b[0m\n"
      ]
     },
     "metadata": {},
     "output_type": "display_data"
    },
    {
     "data": {
      "text/html": [
       "<pre style=\"white-space:pre;overflow-x:auto;line-height:normal;font-family:Menlo,'DejaVu Sans Mono',consolas,'Courier New',monospace\"><span style=\"color: #800000; text-decoration-color: #800000; font-weight: bold\">loss = tensor(</span><span style=\"color: #800000; text-decoration-color: #800000; font-weight: bold\">0.6993</span><span style=\"color: #800000; text-decoration-color: #800000; font-weight: bold\">, </span><span style=\"color: #800000; text-decoration-color: #800000; font-weight: bold\">device</span><span style=\"color: #800000; text-decoration-color: #800000; font-weight: bold\">=</span><span style=\"color: #800000; text-decoration-color: #800000; font-weight: bold\">'cuda:0'</span><span style=\"color: #800000; text-decoration-color: #800000; font-weight: bold\">) computed_loss = tensor(</span><span style=\"color: #800000; text-decoration-color: #800000; font-weight: bold\">0.6992</span><span style=\"color: #800000; text-decoration-color: #800000; font-weight: bold\">, </span><span style=\"color: #800000; text-decoration-color: #800000; font-weight: bold\">device</span><span style=\"color: #800000; text-decoration-color: #800000; font-weight: bold\">=</span><span style=\"color: #800000; text-decoration-color: #800000; font-weight: bold\">'cuda:0'</span><span style=\"color: #800000; text-decoration-color: #800000; font-weight: bold\">, </span>\n",
       "<span style=\"color: #800000; text-decoration-color: #800000; font-weight: bold\">grad_fn</span><span style=\"color: #800000; text-decoration-color: #800000; font-weight: bold\">=&lt;NllLossBackward0&gt;)</span>\n",
       "</pre>\n"
      ],
      "text/plain": [
       "\u001b[1;31mloss = \u001b[0m\u001b[1;31mtensor\u001b[0m\u001b[1;31m(\u001b[0m\u001b[1;31m0.6993\u001b[0m\u001b[1;31m, \u001b[0m\u001b[1;31mdevice\u001b[0m\u001b[1;31m=\u001b[0m\u001b[1;31m'cuda:0'\u001b[0m\u001b[1;31m)\u001b[0m\u001b[1;31m computed_loss = \u001b[0m\u001b[1;31mtensor\u001b[0m\u001b[1;31m(\u001b[0m\u001b[1;31m0.6992\u001b[0m\u001b[1;31m, \u001b[0m\u001b[1;31mdevice\u001b[0m\u001b[1;31m=\u001b[0m\u001b[1;31m'cuda:0'\u001b[0m\u001b[1;31m, \u001b[0m\n",
       "\u001b[1;31mgrad_fn\u001b[0m\u001b[1;31m=\u001b[0m\u001b[1;31m<\u001b[0m\u001b[1;31mNllLossBackward0\u001b[0m\u001b[1;31m>\u001b[0m\u001b[1;31m)\u001b[0m\n"
      ]
     },
     "metadata": {},
     "output_type": "display_data"
    },
    {
     "data": {
      "text/html": [
       "<pre style=\"white-space:pre;overflow-x:auto;line-height:normal;font-family:Menlo,'DejaVu Sans Mono',consolas,'Courier New',monospace\"><span style=\"color: #800000; text-decoration-color: #800000; font-weight: bold\">loss = tensor(</span><span style=\"color: #800000; text-decoration-color: #800000; font-weight: bold\">0.6759</span><span style=\"color: #800000; text-decoration-color: #800000; font-weight: bold\">, </span><span style=\"color: #800000; text-decoration-color: #800000; font-weight: bold\">device</span><span style=\"color: #800000; text-decoration-color: #800000; font-weight: bold\">=</span><span style=\"color: #800000; text-decoration-color: #800000; font-weight: bold\">'cuda:0'</span><span style=\"color: #800000; text-decoration-color: #800000; font-weight: bold\">) computed_loss = tensor(</span><span style=\"color: #800000; text-decoration-color: #800000; font-weight: bold\">0.6753</span><span style=\"color: #800000; text-decoration-color: #800000; font-weight: bold\">, </span><span style=\"color: #800000; text-decoration-color: #800000; font-weight: bold\">device</span><span style=\"color: #800000; text-decoration-color: #800000; font-weight: bold\">=</span><span style=\"color: #800000; text-decoration-color: #800000; font-weight: bold\">'cuda:0'</span><span style=\"color: #800000; text-decoration-color: #800000; font-weight: bold\">, </span>\n",
       "<span style=\"color: #800000; text-decoration-color: #800000; font-weight: bold\">grad_fn</span><span style=\"color: #800000; text-decoration-color: #800000; font-weight: bold\">=&lt;NllLossBackward0&gt;)</span>\n",
       "</pre>\n"
      ],
      "text/plain": [
       "\u001b[1;31mloss = \u001b[0m\u001b[1;31mtensor\u001b[0m\u001b[1;31m(\u001b[0m\u001b[1;31m0.6759\u001b[0m\u001b[1;31m, \u001b[0m\u001b[1;31mdevice\u001b[0m\u001b[1;31m=\u001b[0m\u001b[1;31m'cuda:0'\u001b[0m\u001b[1;31m)\u001b[0m\u001b[1;31m computed_loss = \u001b[0m\u001b[1;31mtensor\u001b[0m\u001b[1;31m(\u001b[0m\u001b[1;31m0.6753\u001b[0m\u001b[1;31m, \u001b[0m\u001b[1;31mdevice\u001b[0m\u001b[1;31m=\u001b[0m\u001b[1;31m'cuda:0'\u001b[0m\u001b[1;31m, \u001b[0m\n",
       "\u001b[1;31mgrad_fn\u001b[0m\u001b[1;31m=\u001b[0m\u001b[1;31m<\u001b[0m\u001b[1;31mNllLossBackward0\u001b[0m\u001b[1;31m>\u001b[0m\u001b[1;31m)\u001b[0m\n"
      ]
     },
     "metadata": {},
     "output_type": "display_data"
    },
    {
     "data": {
      "text/html": [
       "<pre style=\"white-space:pre;overflow-x:auto;line-height:normal;font-family:Menlo,'DejaVu Sans Mono',consolas,'Courier New',monospace\"><span style=\"color: #800000; text-decoration-color: #800000; font-weight: bold\">loss = tensor(</span><span style=\"color: #800000; text-decoration-color: #800000; font-weight: bold\">0.6701</span><span style=\"color: #800000; text-decoration-color: #800000; font-weight: bold\">, </span><span style=\"color: #800000; text-decoration-color: #800000; font-weight: bold\">device</span><span style=\"color: #800000; text-decoration-color: #800000; font-weight: bold\">=</span><span style=\"color: #800000; text-decoration-color: #800000; font-weight: bold\">'cuda:0'</span><span style=\"color: #800000; text-decoration-color: #800000; font-weight: bold\">) computed_loss = tensor(</span><span style=\"color: #800000; text-decoration-color: #800000; font-weight: bold\">0.6687</span><span style=\"color: #800000; text-decoration-color: #800000; font-weight: bold\">, </span><span style=\"color: #800000; text-decoration-color: #800000; font-weight: bold\">device</span><span style=\"color: #800000; text-decoration-color: #800000; font-weight: bold\">=</span><span style=\"color: #800000; text-decoration-color: #800000; font-weight: bold\">'cuda:0'</span><span style=\"color: #800000; text-decoration-color: #800000; font-weight: bold\">, </span>\n",
       "<span style=\"color: #800000; text-decoration-color: #800000; font-weight: bold\">grad_fn</span><span style=\"color: #800000; text-decoration-color: #800000; font-weight: bold\">=&lt;NllLossBackward0&gt;)</span>\n",
       "</pre>\n"
      ],
      "text/plain": [
       "\u001b[1;31mloss = \u001b[0m\u001b[1;31mtensor\u001b[0m\u001b[1;31m(\u001b[0m\u001b[1;31m0.6701\u001b[0m\u001b[1;31m, \u001b[0m\u001b[1;31mdevice\u001b[0m\u001b[1;31m=\u001b[0m\u001b[1;31m'cuda:0'\u001b[0m\u001b[1;31m)\u001b[0m\u001b[1;31m computed_loss = \u001b[0m\u001b[1;31mtensor\u001b[0m\u001b[1;31m(\u001b[0m\u001b[1;31m0.6687\u001b[0m\u001b[1;31m, \u001b[0m\u001b[1;31mdevice\u001b[0m\u001b[1;31m=\u001b[0m\u001b[1;31m'cuda:0'\u001b[0m\u001b[1;31m, \u001b[0m\n",
       "\u001b[1;31mgrad_fn\u001b[0m\u001b[1;31m=\u001b[0m\u001b[1;31m<\u001b[0m\u001b[1;31mNllLossBackward0\u001b[0m\u001b[1;31m>\u001b[0m\u001b[1;31m)\u001b[0m\n"
      ]
     },
     "metadata": {},
     "output_type": "display_data"
    },
    {
     "data": {
      "text/html": [
       "<pre style=\"white-space:pre;overflow-x:auto;line-height:normal;font-family:Menlo,'DejaVu Sans Mono',consolas,'Courier New',monospace\"><span style=\"color: #800000; text-decoration-color: #800000; font-weight: bold\">loss = tensor(</span><span style=\"color: #800000; text-decoration-color: #800000; font-weight: bold\">0.6854</span><span style=\"color: #800000; text-decoration-color: #800000; font-weight: bold\">, </span><span style=\"color: #800000; text-decoration-color: #800000; font-weight: bold\">device</span><span style=\"color: #800000; text-decoration-color: #800000; font-weight: bold\">=</span><span style=\"color: #800000; text-decoration-color: #800000; font-weight: bold\">'cuda:0'</span><span style=\"color: #800000; text-decoration-color: #800000; font-weight: bold\">) computed_loss = tensor(</span><span style=\"color: #800000; text-decoration-color: #800000; font-weight: bold\">0.6840</span><span style=\"color: #800000; text-decoration-color: #800000; font-weight: bold\">, </span><span style=\"color: #800000; text-decoration-color: #800000; font-weight: bold\">device</span><span style=\"color: #800000; text-decoration-color: #800000; font-weight: bold\">=</span><span style=\"color: #800000; text-decoration-color: #800000; font-weight: bold\">'cuda:0'</span><span style=\"color: #800000; text-decoration-color: #800000; font-weight: bold\">, </span>\n",
       "<span style=\"color: #800000; text-decoration-color: #800000; font-weight: bold\">grad_fn</span><span style=\"color: #800000; text-decoration-color: #800000; font-weight: bold\">=&lt;NllLossBackward0&gt;)</span>\n",
       "</pre>\n"
      ],
      "text/plain": [
       "\u001b[1;31mloss = \u001b[0m\u001b[1;31mtensor\u001b[0m\u001b[1;31m(\u001b[0m\u001b[1;31m0.6854\u001b[0m\u001b[1;31m, \u001b[0m\u001b[1;31mdevice\u001b[0m\u001b[1;31m=\u001b[0m\u001b[1;31m'cuda:0'\u001b[0m\u001b[1;31m)\u001b[0m\u001b[1;31m computed_loss = \u001b[0m\u001b[1;31mtensor\u001b[0m\u001b[1;31m(\u001b[0m\u001b[1;31m0.6840\u001b[0m\u001b[1;31m, \u001b[0m\u001b[1;31mdevice\u001b[0m\u001b[1;31m=\u001b[0m\u001b[1;31m'cuda:0'\u001b[0m\u001b[1;31m, \u001b[0m\n",
       "\u001b[1;31mgrad_fn\u001b[0m\u001b[1;31m=\u001b[0m\u001b[1;31m<\u001b[0m\u001b[1;31mNllLossBackward0\u001b[0m\u001b[1;31m>\u001b[0m\u001b[1;31m)\u001b[0m\n"
      ]
     },
     "metadata": {},
     "output_type": "display_data"
    },
    {
     "data": {
      "text/html": [
       "<pre style=\"white-space:pre;overflow-x:auto;line-height:normal;font-family:Menlo,'DejaVu Sans Mono',consolas,'Courier New',monospace\"><span style=\"color: #800000; text-decoration-color: #800000; font-weight: bold\">loss = tensor(</span><span style=\"color: #800000; text-decoration-color: #800000; font-weight: bold\">0.6661</span><span style=\"color: #800000; text-decoration-color: #800000; font-weight: bold\">, </span><span style=\"color: #800000; text-decoration-color: #800000; font-weight: bold\">device</span><span style=\"color: #800000; text-decoration-color: #800000; font-weight: bold\">=</span><span style=\"color: #800000; text-decoration-color: #800000; font-weight: bold\">'cuda:0'</span><span style=\"color: #800000; text-decoration-color: #800000; font-weight: bold\">) computed_loss = tensor(</span><span style=\"color: #800000; text-decoration-color: #800000; font-weight: bold\">0.6653</span><span style=\"color: #800000; text-decoration-color: #800000; font-weight: bold\">, </span><span style=\"color: #800000; text-decoration-color: #800000; font-weight: bold\">device</span><span style=\"color: #800000; text-decoration-color: #800000; font-weight: bold\">=</span><span style=\"color: #800000; text-decoration-color: #800000; font-weight: bold\">'cuda:0'</span><span style=\"color: #800000; text-decoration-color: #800000; font-weight: bold\">, </span>\n",
       "<span style=\"color: #800000; text-decoration-color: #800000; font-weight: bold\">grad_fn</span><span style=\"color: #800000; text-decoration-color: #800000; font-weight: bold\">=&lt;NllLossBackward0&gt;)</span>\n",
       "</pre>\n"
      ],
      "text/plain": [
       "\u001b[1;31mloss = \u001b[0m\u001b[1;31mtensor\u001b[0m\u001b[1;31m(\u001b[0m\u001b[1;31m0.6661\u001b[0m\u001b[1;31m, \u001b[0m\u001b[1;31mdevice\u001b[0m\u001b[1;31m=\u001b[0m\u001b[1;31m'cuda:0'\u001b[0m\u001b[1;31m)\u001b[0m\u001b[1;31m computed_loss = \u001b[0m\u001b[1;31mtensor\u001b[0m\u001b[1;31m(\u001b[0m\u001b[1;31m0.6653\u001b[0m\u001b[1;31m, \u001b[0m\u001b[1;31mdevice\u001b[0m\u001b[1;31m=\u001b[0m\u001b[1;31m'cuda:0'\u001b[0m\u001b[1;31m, \u001b[0m\n",
       "\u001b[1;31mgrad_fn\u001b[0m\u001b[1;31m=\u001b[0m\u001b[1;31m<\u001b[0m\u001b[1;31mNllLossBackward0\u001b[0m\u001b[1;31m>\u001b[0m\u001b[1;31m)\u001b[0m\n"
      ]
     },
     "metadata": {},
     "output_type": "display_data"
    },
    {
     "data": {
      "text/html": [
       "<pre style=\"white-space:pre;overflow-x:auto;line-height:normal;font-family:Menlo,'DejaVu Sans Mono',consolas,'Courier New',monospace\"><span style=\"color: #800000; text-decoration-color: #800000; font-weight: bold\">loss = tensor(</span><span style=\"color: #800000; text-decoration-color: #800000; font-weight: bold\">0.6645</span><span style=\"color: #800000; text-decoration-color: #800000; font-weight: bold\">, </span><span style=\"color: #800000; text-decoration-color: #800000; font-weight: bold\">device</span><span style=\"color: #800000; text-decoration-color: #800000; font-weight: bold\">=</span><span style=\"color: #800000; text-decoration-color: #800000; font-weight: bold\">'cuda:0'</span><span style=\"color: #800000; text-decoration-color: #800000; font-weight: bold\">) computed_loss = tensor(</span><span style=\"color: #800000; text-decoration-color: #800000; font-weight: bold\">0.6641</span><span style=\"color: #800000; text-decoration-color: #800000; font-weight: bold\">, </span><span style=\"color: #800000; text-decoration-color: #800000; font-weight: bold\">device</span><span style=\"color: #800000; text-decoration-color: #800000; font-weight: bold\">=</span><span style=\"color: #800000; text-decoration-color: #800000; font-weight: bold\">'cuda:0'</span><span style=\"color: #800000; text-decoration-color: #800000; font-weight: bold\">, </span>\n",
       "<span style=\"color: #800000; text-decoration-color: #800000; font-weight: bold\">grad_fn</span><span style=\"color: #800000; text-decoration-color: #800000; font-weight: bold\">=&lt;NllLossBackward0&gt;)</span>\n",
       "</pre>\n"
      ],
      "text/plain": [
       "\u001b[1;31mloss = \u001b[0m\u001b[1;31mtensor\u001b[0m\u001b[1;31m(\u001b[0m\u001b[1;31m0.6645\u001b[0m\u001b[1;31m, \u001b[0m\u001b[1;31mdevice\u001b[0m\u001b[1;31m=\u001b[0m\u001b[1;31m'cuda:0'\u001b[0m\u001b[1;31m)\u001b[0m\u001b[1;31m computed_loss = \u001b[0m\u001b[1;31mtensor\u001b[0m\u001b[1;31m(\u001b[0m\u001b[1;31m0.6641\u001b[0m\u001b[1;31m, \u001b[0m\u001b[1;31mdevice\u001b[0m\u001b[1;31m=\u001b[0m\u001b[1;31m'cuda:0'\u001b[0m\u001b[1;31m, \u001b[0m\n",
       "\u001b[1;31mgrad_fn\u001b[0m\u001b[1;31m=\u001b[0m\u001b[1;31m<\u001b[0m\u001b[1;31mNllLossBackward0\u001b[0m\u001b[1;31m>\u001b[0m\u001b[1;31m)\u001b[0m\n"
      ]
     },
     "metadata": {},
     "output_type": "display_data"
    },
    {
     "data": {
      "text/html": [
       "<pre style=\"white-space:pre;overflow-x:auto;line-height:normal;font-family:Menlo,'DejaVu Sans Mono',consolas,'Courier New',monospace\"><span style=\"color: #800000; text-decoration-color: #800000; font-weight: bold\">loss = tensor(</span><span style=\"color: #800000; text-decoration-color: #800000; font-weight: bold\">0.6602</span><span style=\"color: #800000; text-decoration-color: #800000; font-weight: bold\">, </span><span style=\"color: #800000; text-decoration-color: #800000; font-weight: bold\">device</span><span style=\"color: #800000; text-decoration-color: #800000; font-weight: bold\">=</span><span style=\"color: #800000; text-decoration-color: #800000; font-weight: bold\">'cuda:0'</span><span style=\"color: #800000; text-decoration-color: #800000; font-weight: bold\">) computed_loss = tensor(</span><span style=\"color: #800000; text-decoration-color: #800000; font-weight: bold\">0.6606</span><span style=\"color: #800000; text-decoration-color: #800000; font-weight: bold\">, </span><span style=\"color: #800000; text-decoration-color: #800000; font-weight: bold\">device</span><span style=\"color: #800000; text-decoration-color: #800000; font-weight: bold\">=</span><span style=\"color: #800000; text-decoration-color: #800000; font-weight: bold\">'cuda:0'</span><span style=\"color: #800000; text-decoration-color: #800000; font-weight: bold\">, </span>\n",
       "<span style=\"color: #800000; text-decoration-color: #800000; font-weight: bold\">grad_fn</span><span style=\"color: #800000; text-decoration-color: #800000; font-weight: bold\">=&lt;NllLossBackward0&gt;)</span>\n",
       "</pre>\n"
      ],
      "text/plain": [
       "\u001b[1;31mloss = \u001b[0m\u001b[1;31mtensor\u001b[0m\u001b[1;31m(\u001b[0m\u001b[1;31m0.6602\u001b[0m\u001b[1;31m, \u001b[0m\u001b[1;31mdevice\u001b[0m\u001b[1;31m=\u001b[0m\u001b[1;31m'cuda:0'\u001b[0m\u001b[1;31m)\u001b[0m\u001b[1;31m computed_loss = \u001b[0m\u001b[1;31mtensor\u001b[0m\u001b[1;31m(\u001b[0m\u001b[1;31m0.6606\u001b[0m\u001b[1;31m, \u001b[0m\u001b[1;31mdevice\u001b[0m\u001b[1;31m=\u001b[0m\u001b[1;31m'cuda:0'\u001b[0m\u001b[1;31m, \u001b[0m\n",
       "\u001b[1;31mgrad_fn\u001b[0m\u001b[1;31m=\u001b[0m\u001b[1;31m<\u001b[0m\u001b[1;31mNllLossBackward0\u001b[0m\u001b[1;31m>\u001b[0m\u001b[1;31m)\u001b[0m\n"
      ]
     },
     "metadata": {},
     "output_type": "display_data"
    },
    {
     "data": {
      "text/html": [
       "<pre style=\"white-space:pre;overflow-x:auto;line-height:normal;font-family:Menlo,'DejaVu Sans Mono',consolas,'Courier New',monospace\"><span style=\"color: #800000; text-decoration-color: #800000; font-weight: bold\">loss = tensor(</span><span style=\"color: #800000; text-decoration-color: #800000; font-weight: bold\">0.7118</span><span style=\"color: #800000; text-decoration-color: #800000; font-weight: bold\">, </span><span style=\"color: #800000; text-decoration-color: #800000; font-weight: bold\">device</span><span style=\"color: #800000; text-decoration-color: #800000; font-weight: bold\">=</span><span style=\"color: #800000; text-decoration-color: #800000; font-weight: bold\">'cuda:0'</span><span style=\"color: #800000; text-decoration-color: #800000; font-weight: bold\">) computed_loss = tensor(</span><span style=\"color: #800000; text-decoration-color: #800000; font-weight: bold\">0.7119</span><span style=\"color: #800000; text-decoration-color: #800000; font-weight: bold\">, </span><span style=\"color: #800000; text-decoration-color: #800000; font-weight: bold\">device</span><span style=\"color: #800000; text-decoration-color: #800000; font-weight: bold\">=</span><span style=\"color: #800000; text-decoration-color: #800000; font-weight: bold\">'cuda:0'</span><span style=\"color: #800000; text-decoration-color: #800000; font-weight: bold\">, </span>\n",
       "<span style=\"color: #800000; text-decoration-color: #800000; font-weight: bold\">grad_fn</span><span style=\"color: #800000; text-decoration-color: #800000; font-weight: bold\">=&lt;NllLossBackward0&gt;)</span>\n",
       "</pre>\n"
      ],
      "text/plain": [
       "\u001b[1;31mloss = \u001b[0m\u001b[1;31mtensor\u001b[0m\u001b[1;31m(\u001b[0m\u001b[1;31m0.7118\u001b[0m\u001b[1;31m, \u001b[0m\u001b[1;31mdevice\u001b[0m\u001b[1;31m=\u001b[0m\u001b[1;31m'cuda:0'\u001b[0m\u001b[1;31m)\u001b[0m\u001b[1;31m computed_loss = \u001b[0m\u001b[1;31mtensor\u001b[0m\u001b[1;31m(\u001b[0m\u001b[1;31m0.7119\u001b[0m\u001b[1;31m, \u001b[0m\u001b[1;31mdevice\u001b[0m\u001b[1;31m=\u001b[0m\u001b[1;31m'cuda:0'\u001b[0m\u001b[1;31m, \u001b[0m\n",
       "\u001b[1;31mgrad_fn\u001b[0m\u001b[1;31m=\u001b[0m\u001b[1;31m<\u001b[0m\u001b[1;31mNllLossBackward0\u001b[0m\u001b[1;31m>\u001b[0m\u001b[1;31m)\u001b[0m\n"
      ]
     },
     "metadata": {},
     "output_type": "display_data"
    },
    {
     "data": {
      "text/html": [
       "<pre style=\"white-space:pre;overflow-x:auto;line-height:normal;font-family:Menlo,'DejaVu Sans Mono',consolas,'Courier New',monospace\"><span style=\"color: #800000; text-decoration-color: #800000; font-weight: bold\">loss = tensor(</span><span style=\"color: #800000; text-decoration-color: #800000; font-weight: bold\">0.6325</span><span style=\"color: #800000; text-decoration-color: #800000; font-weight: bold\">, </span><span style=\"color: #800000; text-decoration-color: #800000; font-weight: bold\">device</span><span style=\"color: #800000; text-decoration-color: #800000; font-weight: bold\">=</span><span style=\"color: #800000; text-decoration-color: #800000; font-weight: bold\">'cuda:0'</span><span style=\"color: #800000; text-decoration-color: #800000; font-weight: bold\">) computed_loss = tensor(</span><span style=\"color: #800000; text-decoration-color: #800000; font-weight: bold\">0.6302</span><span style=\"color: #800000; text-decoration-color: #800000; font-weight: bold\">, </span><span style=\"color: #800000; text-decoration-color: #800000; font-weight: bold\">device</span><span style=\"color: #800000; text-decoration-color: #800000; font-weight: bold\">=</span><span style=\"color: #800000; text-decoration-color: #800000; font-weight: bold\">'cuda:0'</span><span style=\"color: #800000; text-decoration-color: #800000; font-weight: bold\">, </span>\n",
       "<span style=\"color: #800000; text-decoration-color: #800000; font-weight: bold\">grad_fn</span><span style=\"color: #800000; text-decoration-color: #800000; font-weight: bold\">=&lt;NllLossBackward0&gt;)</span>\n",
       "</pre>\n"
      ],
      "text/plain": [
       "\u001b[1;31mloss = \u001b[0m\u001b[1;31mtensor\u001b[0m\u001b[1;31m(\u001b[0m\u001b[1;31m0.6325\u001b[0m\u001b[1;31m, \u001b[0m\u001b[1;31mdevice\u001b[0m\u001b[1;31m=\u001b[0m\u001b[1;31m'cuda:0'\u001b[0m\u001b[1;31m)\u001b[0m\u001b[1;31m computed_loss = \u001b[0m\u001b[1;31mtensor\u001b[0m\u001b[1;31m(\u001b[0m\u001b[1;31m0.6302\u001b[0m\u001b[1;31m, \u001b[0m\u001b[1;31mdevice\u001b[0m\u001b[1;31m=\u001b[0m\u001b[1;31m'cuda:0'\u001b[0m\u001b[1;31m, \u001b[0m\n",
       "\u001b[1;31mgrad_fn\u001b[0m\u001b[1;31m=\u001b[0m\u001b[1;31m<\u001b[0m\u001b[1;31mNllLossBackward0\u001b[0m\u001b[1;31m>\u001b[0m\u001b[1;31m)\u001b[0m\n"
      ]
     },
     "metadata": {},
     "output_type": "display_data"
    },
    {
     "data": {
      "text/html": [
       "<pre style=\"white-space:pre;overflow-x:auto;line-height:normal;font-family:Menlo,'DejaVu Sans Mono',consolas,'Courier New',monospace\"><span style=\"color: #800000; text-decoration-color: #800000; font-weight: bold\">loss = tensor(</span><span style=\"color: #800000; text-decoration-color: #800000; font-weight: bold\">0.6168</span><span style=\"color: #800000; text-decoration-color: #800000; font-weight: bold\">, </span><span style=\"color: #800000; text-decoration-color: #800000; font-weight: bold\">device</span><span style=\"color: #800000; text-decoration-color: #800000; font-weight: bold\">=</span><span style=\"color: #800000; text-decoration-color: #800000; font-weight: bold\">'cuda:0'</span><span style=\"color: #800000; text-decoration-color: #800000; font-weight: bold\">) computed_loss = tensor(</span><span style=\"color: #800000; text-decoration-color: #800000; font-weight: bold\">0.6163</span><span style=\"color: #800000; text-decoration-color: #800000; font-weight: bold\">, </span><span style=\"color: #800000; text-decoration-color: #800000; font-weight: bold\">device</span><span style=\"color: #800000; text-decoration-color: #800000; font-weight: bold\">=</span><span style=\"color: #800000; text-decoration-color: #800000; font-weight: bold\">'cuda:0'</span><span style=\"color: #800000; text-decoration-color: #800000; font-weight: bold\">, </span>\n",
       "<span style=\"color: #800000; text-decoration-color: #800000; font-weight: bold\">grad_fn</span><span style=\"color: #800000; text-decoration-color: #800000; font-weight: bold\">=&lt;NllLossBackward0&gt;)</span>\n",
       "</pre>\n"
      ],
      "text/plain": [
       "\u001b[1;31mloss = \u001b[0m\u001b[1;31mtensor\u001b[0m\u001b[1;31m(\u001b[0m\u001b[1;31m0.6168\u001b[0m\u001b[1;31m, \u001b[0m\u001b[1;31mdevice\u001b[0m\u001b[1;31m=\u001b[0m\u001b[1;31m'cuda:0'\u001b[0m\u001b[1;31m)\u001b[0m\u001b[1;31m computed_loss = \u001b[0m\u001b[1;31mtensor\u001b[0m\u001b[1;31m(\u001b[0m\u001b[1;31m0.6163\u001b[0m\u001b[1;31m, \u001b[0m\u001b[1;31mdevice\u001b[0m\u001b[1;31m=\u001b[0m\u001b[1;31m'cuda:0'\u001b[0m\u001b[1;31m, \u001b[0m\n",
       "\u001b[1;31mgrad_fn\u001b[0m\u001b[1;31m=\u001b[0m\u001b[1;31m<\u001b[0m\u001b[1;31mNllLossBackward0\u001b[0m\u001b[1;31m>\u001b[0m\u001b[1;31m)\u001b[0m\n"
      ]
     },
     "metadata": {},
     "output_type": "display_data"
    },
    {
     "data": {
      "text/html": [
       "<pre style=\"white-space:pre;overflow-x:auto;line-height:normal;font-family:Menlo,'DejaVu Sans Mono',consolas,'Courier New',monospace\"><span style=\"color: #800000; text-decoration-color: #800000; font-weight: bold\">loss = tensor(</span><span style=\"color: #800000; text-decoration-color: #800000; font-weight: bold\">0.6441</span><span style=\"color: #800000; text-decoration-color: #800000; font-weight: bold\">, </span><span style=\"color: #800000; text-decoration-color: #800000; font-weight: bold\">device</span><span style=\"color: #800000; text-decoration-color: #800000; font-weight: bold\">=</span><span style=\"color: #800000; text-decoration-color: #800000; font-weight: bold\">'cuda:0'</span><span style=\"color: #800000; text-decoration-color: #800000; font-weight: bold\">) computed_loss = tensor(</span><span style=\"color: #800000; text-decoration-color: #800000; font-weight: bold\">0.6445</span><span style=\"color: #800000; text-decoration-color: #800000; font-weight: bold\">, </span><span style=\"color: #800000; text-decoration-color: #800000; font-weight: bold\">device</span><span style=\"color: #800000; text-decoration-color: #800000; font-weight: bold\">=</span><span style=\"color: #800000; text-decoration-color: #800000; font-weight: bold\">'cuda:0'</span><span style=\"color: #800000; text-decoration-color: #800000; font-weight: bold\">, </span>\n",
       "<span style=\"color: #800000; text-decoration-color: #800000; font-weight: bold\">grad_fn</span><span style=\"color: #800000; text-decoration-color: #800000; font-weight: bold\">=&lt;NllLossBackward0&gt;)</span>\n",
       "</pre>\n"
      ],
      "text/plain": [
       "\u001b[1;31mloss = \u001b[0m\u001b[1;31mtensor\u001b[0m\u001b[1;31m(\u001b[0m\u001b[1;31m0.6441\u001b[0m\u001b[1;31m, \u001b[0m\u001b[1;31mdevice\u001b[0m\u001b[1;31m=\u001b[0m\u001b[1;31m'cuda:0'\u001b[0m\u001b[1;31m)\u001b[0m\u001b[1;31m computed_loss = \u001b[0m\u001b[1;31mtensor\u001b[0m\u001b[1;31m(\u001b[0m\u001b[1;31m0.6445\u001b[0m\u001b[1;31m, \u001b[0m\u001b[1;31mdevice\u001b[0m\u001b[1;31m=\u001b[0m\u001b[1;31m'cuda:0'\u001b[0m\u001b[1;31m, \u001b[0m\n",
       "\u001b[1;31mgrad_fn\u001b[0m\u001b[1;31m=\u001b[0m\u001b[1;31m<\u001b[0m\u001b[1;31mNllLossBackward0\u001b[0m\u001b[1;31m>\u001b[0m\u001b[1;31m)\u001b[0m\n"
      ]
     },
     "metadata": {},
     "output_type": "display_data"
    },
    {
     "data": {
      "text/html": [
       "<pre style=\"white-space:pre;overflow-x:auto;line-height:normal;font-family:Menlo,'DejaVu Sans Mono',consolas,'Courier New',monospace\"><span style=\"color: #800000; text-decoration-color: #800000; font-weight: bold\">loss = tensor(</span><span style=\"color: #800000; text-decoration-color: #800000; font-weight: bold\">0.6179</span><span style=\"color: #800000; text-decoration-color: #800000; font-weight: bold\">, </span><span style=\"color: #800000; text-decoration-color: #800000; font-weight: bold\">device</span><span style=\"color: #800000; text-decoration-color: #800000; font-weight: bold\">=</span><span style=\"color: #800000; text-decoration-color: #800000; font-weight: bold\">'cuda:0'</span><span style=\"color: #800000; text-decoration-color: #800000; font-weight: bold\">) computed_loss = tensor(</span><span style=\"color: #800000; text-decoration-color: #800000; font-weight: bold\">0.6178</span><span style=\"color: #800000; text-decoration-color: #800000; font-weight: bold\">, </span><span style=\"color: #800000; text-decoration-color: #800000; font-weight: bold\">device</span><span style=\"color: #800000; text-decoration-color: #800000; font-weight: bold\">=</span><span style=\"color: #800000; text-decoration-color: #800000; font-weight: bold\">'cuda:0'</span><span style=\"color: #800000; text-decoration-color: #800000; font-weight: bold\">, </span>\n",
       "<span style=\"color: #800000; text-decoration-color: #800000; font-weight: bold\">grad_fn</span><span style=\"color: #800000; text-decoration-color: #800000; font-weight: bold\">=&lt;NllLossBackward0&gt;)</span>\n",
       "</pre>\n"
      ],
      "text/plain": [
       "\u001b[1;31mloss = \u001b[0m\u001b[1;31mtensor\u001b[0m\u001b[1;31m(\u001b[0m\u001b[1;31m0.6179\u001b[0m\u001b[1;31m, \u001b[0m\u001b[1;31mdevice\u001b[0m\u001b[1;31m=\u001b[0m\u001b[1;31m'cuda:0'\u001b[0m\u001b[1;31m)\u001b[0m\u001b[1;31m computed_loss = \u001b[0m\u001b[1;31mtensor\u001b[0m\u001b[1;31m(\u001b[0m\u001b[1;31m0.6178\u001b[0m\u001b[1;31m, \u001b[0m\u001b[1;31mdevice\u001b[0m\u001b[1;31m=\u001b[0m\u001b[1;31m'cuda:0'\u001b[0m\u001b[1;31m, \u001b[0m\n",
       "\u001b[1;31mgrad_fn\u001b[0m\u001b[1;31m=\u001b[0m\u001b[1;31m<\u001b[0m\u001b[1;31mNllLossBackward0\u001b[0m\u001b[1;31m>\u001b[0m\u001b[1;31m)\u001b[0m\n"
      ]
     },
     "metadata": {},
     "output_type": "display_data"
    },
    {
     "data": {
      "text/html": [
       "<pre style=\"white-space:pre;overflow-x:auto;line-height:normal;font-family:Menlo,'DejaVu Sans Mono',consolas,'Courier New',monospace\"><span style=\"color: #800000; text-decoration-color: #800000; font-weight: bold\">loss = tensor(</span><span style=\"color: #800000; text-decoration-color: #800000; font-weight: bold\">0.6383</span><span style=\"color: #800000; text-decoration-color: #800000; font-weight: bold\">, </span><span style=\"color: #800000; text-decoration-color: #800000; font-weight: bold\">device</span><span style=\"color: #800000; text-decoration-color: #800000; font-weight: bold\">=</span><span style=\"color: #800000; text-decoration-color: #800000; font-weight: bold\">'cuda:0'</span><span style=\"color: #800000; text-decoration-color: #800000; font-weight: bold\">) computed_loss = tensor(</span><span style=\"color: #800000; text-decoration-color: #800000; font-weight: bold\">0.6391</span><span style=\"color: #800000; text-decoration-color: #800000; font-weight: bold\">, </span><span style=\"color: #800000; text-decoration-color: #800000; font-weight: bold\">device</span><span style=\"color: #800000; text-decoration-color: #800000; font-weight: bold\">=</span><span style=\"color: #800000; text-decoration-color: #800000; font-weight: bold\">'cuda:0'</span><span style=\"color: #800000; text-decoration-color: #800000; font-weight: bold\">, </span>\n",
       "<span style=\"color: #800000; text-decoration-color: #800000; font-weight: bold\">grad_fn</span><span style=\"color: #800000; text-decoration-color: #800000; font-weight: bold\">=&lt;NllLossBackward0&gt;)</span>\n",
       "</pre>\n"
      ],
      "text/plain": [
       "\u001b[1;31mloss = \u001b[0m\u001b[1;31mtensor\u001b[0m\u001b[1;31m(\u001b[0m\u001b[1;31m0.6383\u001b[0m\u001b[1;31m, \u001b[0m\u001b[1;31mdevice\u001b[0m\u001b[1;31m=\u001b[0m\u001b[1;31m'cuda:0'\u001b[0m\u001b[1;31m)\u001b[0m\u001b[1;31m computed_loss = \u001b[0m\u001b[1;31mtensor\u001b[0m\u001b[1;31m(\u001b[0m\u001b[1;31m0.6391\u001b[0m\u001b[1;31m, \u001b[0m\u001b[1;31mdevice\u001b[0m\u001b[1;31m=\u001b[0m\u001b[1;31m'cuda:0'\u001b[0m\u001b[1;31m, \u001b[0m\n",
       "\u001b[1;31mgrad_fn\u001b[0m\u001b[1;31m=\u001b[0m\u001b[1;31m<\u001b[0m\u001b[1;31mNllLossBackward0\u001b[0m\u001b[1;31m>\u001b[0m\u001b[1;31m)\u001b[0m\n"
      ]
     },
     "metadata": {},
     "output_type": "display_data"
    },
    {
     "data": {
      "text/html": [
       "<pre style=\"white-space:pre;overflow-x:auto;line-height:normal;font-family:Menlo,'DejaVu Sans Mono',consolas,'Courier New',monospace\"><span style=\"color: #800000; text-decoration-color: #800000; font-weight: bold\">loss = tensor(</span><span style=\"color: #800000; text-decoration-color: #800000; font-weight: bold\">0.5564</span><span style=\"color: #800000; text-decoration-color: #800000; font-weight: bold\">, </span><span style=\"color: #800000; text-decoration-color: #800000; font-weight: bold\">device</span><span style=\"color: #800000; text-decoration-color: #800000; font-weight: bold\">=</span><span style=\"color: #800000; text-decoration-color: #800000; font-weight: bold\">'cuda:0'</span><span style=\"color: #800000; text-decoration-color: #800000; font-weight: bold\">) computed_loss = tensor(</span><span style=\"color: #800000; text-decoration-color: #800000; font-weight: bold\">0.5587</span><span style=\"color: #800000; text-decoration-color: #800000; font-weight: bold\">, </span><span style=\"color: #800000; text-decoration-color: #800000; font-weight: bold\">device</span><span style=\"color: #800000; text-decoration-color: #800000; font-weight: bold\">=</span><span style=\"color: #800000; text-decoration-color: #800000; font-weight: bold\">'cuda:0'</span><span style=\"color: #800000; text-decoration-color: #800000; font-weight: bold\">, </span>\n",
       "<span style=\"color: #800000; text-decoration-color: #800000; font-weight: bold\">grad_fn</span><span style=\"color: #800000; text-decoration-color: #800000; font-weight: bold\">=&lt;NllLossBackward0&gt;)</span>\n",
       "</pre>\n"
      ],
      "text/plain": [
       "\u001b[1;31mloss = \u001b[0m\u001b[1;31mtensor\u001b[0m\u001b[1;31m(\u001b[0m\u001b[1;31m0.5564\u001b[0m\u001b[1;31m, \u001b[0m\u001b[1;31mdevice\u001b[0m\u001b[1;31m=\u001b[0m\u001b[1;31m'cuda:0'\u001b[0m\u001b[1;31m)\u001b[0m\u001b[1;31m computed_loss = \u001b[0m\u001b[1;31mtensor\u001b[0m\u001b[1;31m(\u001b[0m\u001b[1;31m0.5587\u001b[0m\u001b[1;31m, \u001b[0m\u001b[1;31mdevice\u001b[0m\u001b[1;31m=\u001b[0m\u001b[1;31m'cuda:0'\u001b[0m\u001b[1;31m, \u001b[0m\n",
       "\u001b[1;31mgrad_fn\u001b[0m\u001b[1;31m=\u001b[0m\u001b[1;31m<\u001b[0m\u001b[1;31mNllLossBackward0\u001b[0m\u001b[1;31m>\u001b[0m\u001b[1;31m)\u001b[0m\n"
      ]
     },
     "metadata": {},
     "output_type": "display_data"
    },
    {
     "data": {
      "text/html": [
       "<pre style=\"white-space:pre;overflow-x:auto;line-height:normal;font-family:Menlo,'DejaVu Sans Mono',consolas,'Courier New',monospace\"><span style=\"color: #800000; text-decoration-color: #800000; font-weight: bold\">loss = tensor(</span><span style=\"color: #800000; text-decoration-color: #800000; font-weight: bold\">0.6281</span><span style=\"color: #800000; text-decoration-color: #800000; font-weight: bold\">, </span><span style=\"color: #800000; text-decoration-color: #800000; font-weight: bold\">device</span><span style=\"color: #800000; text-decoration-color: #800000; font-weight: bold\">=</span><span style=\"color: #800000; text-decoration-color: #800000; font-weight: bold\">'cuda:0'</span><span style=\"color: #800000; text-decoration-color: #800000; font-weight: bold\">) computed_loss = tensor(</span><span style=\"color: #800000; text-decoration-color: #800000; font-weight: bold\">0.6302</span><span style=\"color: #800000; text-decoration-color: #800000; font-weight: bold\">, </span><span style=\"color: #800000; text-decoration-color: #800000; font-weight: bold\">device</span><span style=\"color: #800000; text-decoration-color: #800000; font-weight: bold\">=</span><span style=\"color: #800000; text-decoration-color: #800000; font-weight: bold\">'cuda:0'</span><span style=\"color: #800000; text-decoration-color: #800000; font-weight: bold\">, </span>\n",
       "<span style=\"color: #800000; text-decoration-color: #800000; font-weight: bold\">grad_fn</span><span style=\"color: #800000; text-decoration-color: #800000; font-weight: bold\">=&lt;NllLossBackward0&gt;)</span>\n",
       "</pre>\n"
      ],
      "text/plain": [
       "\u001b[1;31mloss = \u001b[0m\u001b[1;31mtensor\u001b[0m\u001b[1;31m(\u001b[0m\u001b[1;31m0.6281\u001b[0m\u001b[1;31m, \u001b[0m\u001b[1;31mdevice\u001b[0m\u001b[1;31m=\u001b[0m\u001b[1;31m'cuda:0'\u001b[0m\u001b[1;31m)\u001b[0m\u001b[1;31m computed_loss = \u001b[0m\u001b[1;31mtensor\u001b[0m\u001b[1;31m(\u001b[0m\u001b[1;31m0.6302\u001b[0m\u001b[1;31m, \u001b[0m\u001b[1;31mdevice\u001b[0m\u001b[1;31m=\u001b[0m\u001b[1;31m'cuda:0'\u001b[0m\u001b[1;31m, \u001b[0m\n",
       "\u001b[1;31mgrad_fn\u001b[0m\u001b[1;31m=\u001b[0m\u001b[1;31m<\u001b[0m\u001b[1;31mNllLossBackward0\u001b[0m\u001b[1;31m>\u001b[0m\u001b[1;31m)\u001b[0m\n"
      ]
     },
     "metadata": {},
     "output_type": "display_data"
    },
    {
     "data": {
      "text/html": [
       "<pre style=\"white-space:pre;overflow-x:auto;line-height:normal;font-family:Menlo,'DejaVu Sans Mono',consolas,'Courier New',monospace\"><span style=\"color: #800000; text-decoration-color: #800000; font-weight: bold\">loss = tensor(</span><span style=\"color: #800000; text-decoration-color: #800000; font-weight: bold\">0.6041</span><span style=\"color: #800000; text-decoration-color: #800000; font-weight: bold\">, </span><span style=\"color: #800000; text-decoration-color: #800000; font-weight: bold\">device</span><span style=\"color: #800000; text-decoration-color: #800000; font-weight: bold\">=</span><span style=\"color: #800000; text-decoration-color: #800000; font-weight: bold\">'cuda:0'</span><span style=\"color: #800000; text-decoration-color: #800000; font-weight: bold\">) computed_loss = tensor(</span><span style=\"color: #800000; text-decoration-color: #800000; font-weight: bold\">0.6031</span><span style=\"color: #800000; text-decoration-color: #800000; font-weight: bold\">, </span><span style=\"color: #800000; text-decoration-color: #800000; font-weight: bold\">device</span><span style=\"color: #800000; text-decoration-color: #800000; font-weight: bold\">=</span><span style=\"color: #800000; text-decoration-color: #800000; font-weight: bold\">'cuda:0'</span><span style=\"color: #800000; text-decoration-color: #800000; font-weight: bold\">, </span>\n",
       "<span style=\"color: #800000; text-decoration-color: #800000; font-weight: bold\">grad_fn</span><span style=\"color: #800000; text-decoration-color: #800000; font-weight: bold\">=&lt;NllLossBackward0&gt;)</span>\n",
       "</pre>\n"
      ],
      "text/plain": [
       "\u001b[1;31mloss = \u001b[0m\u001b[1;31mtensor\u001b[0m\u001b[1;31m(\u001b[0m\u001b[1;31m0.6041\u001b[0m\u001b[1;31m, \u001b[0m\u001b[1;31mdevice\u001b[0m\u001b[1;31m=\u001b[0m\u001b[1;31m'cuda:0'\u001b[0m\u001b[1;31m)\u001b[0m\u001b[1;31m computed_loss = \u001b[0m\u001b[1;31mtensor\u001b[0m\u001b[1;31m(\u001b[0m\u001b[1;31m0.6031\u001b[0m\u001b[1;31m, \u001b[0m\u001b[1;31mdevice\u001b[0m\u001b[1;31m=\u001b[0m\u001b[1;31m'cuda:0'\u001b[0m\u001b[1;31m, \u001b[0m\n",
       "\u001b[1;31mgrad_fn\u001b[0m\u001b[1;31m=\u001b[0m\u001b[1;31m<\u001b[0m\u001b[1;31mNllLossBackward0\u001b[0m\u001b[1;31m>\u001b[0m\u001b[1;31m)\u001b[0m\n"
      ]
     },
     "metadata": {},
     "output_type": "display_data"
    },
    {
     "data": {
      "text/html": [
       "<pre style=\"white-space:pre;overflow-x:auto;line-height:normal;font-family:Menlo,'DejaVu Sans Mono',consolas,'Courier New',monospace\"><span style=\"color: #800000; text-decoration-color: #800000; font-weight: bold\">loss = tensor(</span><span style=\"color: #800000; text-decoration-color: #800000; font-weight: bold\">0.5895</span><span style=\"color: #800000; text-decoration-color: #800000; font-weight: bold\">, </span><span style=\"color: #800000; text-decoration-color: #800000; font-weight: bold\">device</span><span style=\"color: #800000; text-decoration-color: #800000; font-weight: bold\">=</span><span style=\"color: #800000; text-decoration-color: #800000; font-weight: bold\">'cuda:0'</span><span style=\"color: #800000; text-decoration-color: #800000; font-weight: bold\">) computed_loss = tensor(</span><span style=\"color: #800000; text-decoration-color: #800000; font-weight: bold\">0.5912</span><span style=\"color: #800000; text-decoration-color: #800000; font-weight: bold\">, </span><span style=\"color: #800000; text-decoration-color: #800000; font-weight: bold\">device</span><span style=\"color: #800000; text-decoration-color: #800000; font-weight: bold\">=</span><span style=\"color: #800000; text-decoration-color: #800000; font-weight: bold\">'cuda:0'</span><span style=\"color: #800000; text-decoration-color: #800000; font-weight: bold\">, </span>\n",
       "<span style=\"color: #800000; text-decoration-color: #800000; font-weight: bold\">grad_fn</span><span style=\"color: #800000; text-decoration-color: #800000; font-weight: bold\">=&lt;NllLossBackward0&gt;)</span>\n",
       "</pre>\n"
      ],
      "text/plain": [
       "\u001b[1;31mloss = \u001b[0m\u001b[1;31mtensor\u001b[0m\u001b[1;31m(\u001b[0m\u001b[1;31m0.5895\u001b[0m\u001b[1;31m, \u001b[0m\u001b[1;31mdevice\u001b[0m\u001b[1;31m=\u001b[0m\u001b[1;31m'cuda:0'\u001b[0m\u001b[1;31m)\u001b[0m\u001b[1;31m computed_loss = \u001b[0m\u001b[1;31mtensor\u001b[0m\u001b[1;31m(\u001b[0m\u001b[1;31m0.5912\u001b[0m\u001b[1;31m, \u001b[0m\u001b[1;31mdevice\u001b[0m\u001b[1;31m=\u001b[0m\u001b[1;31m'cuda:0'\u001b[0m\u001b[1;31m, \u001b[0m\n",
       "\u001b[1;31mgrad_fn\u001b[0m\u001b[1;31m=\u001b[0m\u001b[1;31m<\u001b[0m\u001b[1;31mNllLossBackward0\u001b[0m\u001b[1;31m>\u001b[0m\u001b[1;31m)\u001b[0m\n"
      ]
     },
     "metadata": {},
     "output_type": "display_data"
    },
    {
     "data": {
      "text/html": [
       "<pre style=\"white-space:pre;overflow-x:auto;line-height:normal;font-family:Menlo,'DejaVu Sans Mono',consolas,'Courier New',monospace\"><span style=\"color: #800000; text-decoration-color: #800000; font-weight: bold\">loss = tensor(</span><span style=\"color: #800000; text-decoration-color: #800000; font-weight: bold\">0.5516</span><span style=\"color: #800000; text-decoration-color: #800000; font-weight: bold\">, </span><span style=\"color: #800000; text-decoration-color: #800000; font-weight: bold\">device</span><span style=\"color: #800000; text-decoration-color: #800000; font-weight: bold\">=</span><span style=\"color: #800000; text-decoration-color: #800000; font-weight: bold\">'cuda:0'</span><span style=\"color: #800000; text-decoration-color: #800000; font-weight: bold\">) computed_loss = tensor(</span><span style=\"color: #800000; text-decoration-color: #800000; font-weight: bold\">0.5549</span><span style=\"color: #800000; text-decoration-color: #800000; font-weight: bold\">, </span><span style=\"color: #800000; text-decoration-color: #800000; font-weight: bold\">device</span><span style=\"color: #800000; text-decoration-color: #800000; font-weight: bold\">=</span><span style=\"color: #800000; text-decoration-color: #800000; font-weight: bold\">'cuda:0'</span><span style=\"color: #800000; text-decoration-color: #800000; font-weight: bold\">, </span>\n",
       "<span style=\"color: #800000; text-decoration-color: #800000; font-weight: bold\">grad_fn</span><span style=\"color: #800000; text-decoration-color: #800000; font-weight: bold\">=&lt;NllLossBackward0&gt;)</span>\n",
       "</pre>\n"
      ],
      "text/plain": [
       "\u001b[1;31mloss = \u001b[0m\u001b[1;31mtensor\u001b[0m\u001b[1;31m(\u001b[0m\u001b[1;31m0.5516\u001b[0m\u001b[1;31m, \u001b[0m\u001b[1;31mdevice\u001b[0m\u001b[1;31m=\u001b[0m\u001b[1;31m'cuda:0'\u001b[0m\u001b[1;31m)\u001b[0m\u001b[1;31m computed_loss = \u001b[0m\u001b[1;31mtensor\u001b[0m\u001b[1;31m(\u001b[0m\u001b[1;31m0.5549\u001b[0m\u001b[1;31m, \u001b[0m\u001b[1;31mdevice\u001b[0m\u001b[1;31m=\u001b[0m\u001b[1;31m'cuda:0'\u001b[0m\u001b[1;31m, \u001b[0m\n",
       "\u001b[1;31mgrad_fn\u001b[0m\u001b[1;31m=\u001b[0m\u001b[1;31m<\u001b[0m\u001b[1;31mNllLossBackward0\u001b[0m\u001b[1;31m>\u001b[0m\u001b[1;31m)\u001b[0m\n"
      ]
     },
     "metadata": {},
     "output_type": "display_data"
    },
    {
     "data": {
      "text/html": [
       "<pre style=\"white-space:pre;overflow-x:auto;line-height:normal;font-family:Menlo,'DejaVu Sans Mono',consolas,'Courier New',monospace\"><span style=\"color: #800000; text-decoration-color: #800000; font-weight: bold\">loss = tensor(</span><span style=\"color: #800000; text-decoration-color: #800000; font-weight: bold\">0.5314</span><span style=\"color: #800000; text-decoration-color: #800000; font-weight: bold\">, </span><span style=\"color: #800000; text-decoration-color: #800000; font-weight: bold\">device</span><span style=\"color: #800000; text-decoration-color: #800000; font-weight: bold\">=</span><span style=\"color: #800000; text-decoration-color: #800000; font-weight: bold\">'cuda:0'</span><span style=\"color: #800000; text-decoration-color: #800000; font-weight: bold\">) computed_loss = tensor(</span><span style=\"color: #800000; text-decoration-color: #800000; font-weight: bold\">0.5343</span><span style=\"color: #800000; text-decoration-color: #800000; font-weight: bold\">, </span><span style=\"color: #800000; text-decoration-color: #800000; font-weight: bold\">device</span><span style=\"color: #800000; text-decoration-color: #800000; font-weight: bold\">=</span><span style=\"color: #800000; text-decoration-color: #800000; font-weight: bold\">'cuda:0'</span><span style=\"color: #800000; text-decoration-color: #800000; font-weight: bold\">, </span>\n",
       "<span style=\"color: #800000; text-decoration-color: #800000; font-weight: bold\">grad_fn</span><span style=\"color: #800000; text-decoration-color: #800000; font-weight: bold\">=&lt;NllLossBackward0&gt;)</span>\n",
       "</pre>\n"
      ],
      "text/plain": [
       "\u001b[1;31mloss = \u001b[0m\u001b[1;31mtensor\u001b[0m\u001b[1;31m(\u001b[0m\u001b[1;31m0.5314\u001b[0m\u001b[1;31m, \u001b[0m\u001b[1;31mdevice\u001b[0m\u001b[1;31m=\u001b[0m\u001b[1;31m'cuda:0'\u001b[0m\u001b[1;31m)\u001b[0m\u001b[1;31m computed_loss = \u001b[0m\u001b[1;31mtensor\u001b[0m\u001b[1;31m(\u001b[0m\u001b[1;31m0.5343\u001b[0m\u001b[1;31m, \u001b[0m\u001b[1;31mdevice\u001b[0m\u001b[1;31m=\u001b[0m\u001b[1;31m'cuda:0'\u001b[0m\u001b[1;31m, \u001b[0m\n",
       "\u001b[1;31mgrad_fn\u001b[0m\u001b[1;31m=\u001b[0m\u001b[1;31m<\u001b[0m\u001b[1;31mNllLossBackward0\u001b[0m\u001b[1;31m>\u001b[0m\u001b[1;31m)\u001b[0m\n"
      ]
     },
     "metadata": {},
     "output_type": "display_data"
    },
    {
     "data": {
      "text/html": [
       "<pre style=\"white-space:pre;overflow-x:auto;line-height:normal;font-family:Menlo,'DejaVu Sans Mono',consolas,'Courier New',monospace\"><span style=\"color: #800000; text-decoration-color: #800000; font-weight: bold\">loss = tensor(</span><span style=\"color: #800000; text-decoration-color: #800000; font-weight: bold\">0.4259</span><span style=\"color: #800000; text-decoration-color: #800000; font-weight: bold\">, </span><span style=\"color: #800000; text-decoration-color: #800000; font-weight: bold\">device</span><span style=\"color: #800000; text-decoration-color: #800000; font-weight: bold\">=</span><span style=\"color: #800000; text-decoration-color: #800000; font-weight: bold\">'cuda:0'</span><span style=\"color: #800000; text-decoration-color: #800000; font-weight: bold\">) computed_loss = tensor(</span><span style=\"color: #800000; text-decoration-color: #800000; font-weight: bold\">0.4272</span><span style=\"color: #800000; text-decoration-color: #800000; font-weight: bold\">, </span><span style=\"color: #800000; text-decoration-color: #800000; font-weight: bold\">device</span><span style=\"color: #800000; text-decoration-color: #800000; font-weight: bold\">=</span><span style=\"color: #800000; text-decoration-color: #800000; font-weight: bold\">'cuda:0'</span><span style=\"color: #800000; text-decoration-color: #800000; font-weight: bold\">, </span>\n",
       "<span style=\"color: #800000; text-decoration-color: #800000; font-weight: bold\">grad_fn</span><span style=\"color: #800000; text-decoration-color: #800000; font-weight: bold\">=&lt;NllLossBackward0&gt;)</span>\n",
       "</pre>\n"
      ],
      "text/plain": [
       "\u001b[1;31mloss = \u001b[0m\u001b[1;31mtensor\u001b[0m\u001b[1;31m(\u001b[0m\u001b[1;31m0.4259\u001b[0m\u001b[1;31m, \u001b[0m\u001b[1;31mdevice\u001b[0m\u001b[1;31m=\u001b[0m\u001b[1;31m'cuda:0'\u001b[0m\u001b[1;31m)\u001b[0m\u001b[1;31m computed_loss = \u001b[0m\u001b[1;31mtensor\u001b[0m\u001b[1;31m(\u001b[0m\u001b[1;31m0.4272\u001b[0m\u001b[1;31m, \u001b[0m\u001b[1;31mdevice\u001b[0m\u001b[1;31m=\u001b[0m\u001b[1;31m'cuda:0'\u001b[0m\u001b[1;31m, \u001b[0m\n",
       "\u001b[1;31mgrad_fn\u001b[0m\u001b[1;31m=\u001b[0m\u001b[1;31m<\u001b[0m\u001b[1;31mNllLossBackward0\u001b[0m\u001b[1;31m>\u001b[0m\u001b[1;31m)\u001b[0m\n"
      ]
     },
     "metadata": {},
     "output_type": "display_data"
    },
    {
     "data": {
      "text/html": [
       "<pre style=\"white-space:pre;overflow-x:auto;line-height:normal;font-family:Menlo,'DejaVu Sans Mono',consolas,'Courier New',monospace\"><span style=\"color: #800000; text-decoration-color: #800000; font-weight: bold\">loss = tensor(</span><span style=\"color: #800000; text-decoration-color: #800000; font-weight: bold\">0.5362</span><span style=\"color: #800000; text-decoration-color: #800000; font-weight: bold\">, </span><span style=\"color: #800000; text-decoration-color: #800000; font-weight: bold\">device</span><span style=\"color: #800000; text-decoration-color: #800000; font-weight: bold\">=</span><span style=\"color: #800000; text-decoration-color: #800000; font-weight: bold\">'cuda:0'</span><span style=\"color: #800000; text-decoration-color: #800000; font-weight: bold\">) computed_loss = tensor(</span><span style=\"color: #800000; text-decoration-color: #800000; font-weight: bold\">0.5342</span><span style=\"color: #800000; text-decoration-color: #800000; font-weight: bold\">, </span><span style=\"color: #800000; text-decoration-color: #800000; font-weight: bold\">device</span><span style=\"color: #800000; text-decoration-color: #800000; font-weight: bold\">=</span><span style=\"color: #800000; text-decoration-color: #800000; font-weight: bold\">'cuda:0'</span><span style=\"color: #800000; text-decoration-color: #800000; font-weight: bold\">, </span>\n",
       "<span style=\"color: #800000; text-decoration-color: #800000; font-weight: bold\">grad_fn</span><span style=\"color: #800000; text-decoration-color: #800000; font-weight: bold\">=&lt;NllLossBackward0&gt;)</span>\n",
       "</pre>\n"
      ],
      "text/plain": [
       "\u001b[1;31mloss = \u001b[0m\u001b[1;31mtensor\u001b[0m\u001b[1;31m(\u001b[0m\u001b[1;31m0.5362\u001b[0m\u001b[1;31m, \u001b[0m\u001b[1;31mdevice\u001b[0m\u001b[1;31m=\u001b[0m\u001b[1;31m'cuda:0'\u001b[0m\u001b[1;31m)\u001b[0m\u001b[1;31m computed_loss = \u001b[0m\u001b[1;31mtensor\u001b[0m\u001b[1;31m(\u001b[0m\u001b[1;31m0.5342\u001b[0m\u001b[1;31m, \u001b[0m\u001b[1;31mdevice\u001b[0m\u001b[1;31m=\u001b[0m\u001b[1;31m'cuda:0'\u001b[0m\u001b[1;31m, \u001b[0m\n",
       "\u001b[1;31mgrad_fn\u001b[0m\u001b[1;31m=\u001b[0m\u001b[1;31m<\u001b[0m\u001b[1;31mNllLossBackward0\u001b[0m\u001b[1;31m>\u001b[0m\u001b[1;31m)\u001b[0m\n"
      ]
     },
     "metadata": {},
     "output_type": "display_data"
    },
    {
     "data": {
      "text/html": [
       "<pre style=\"white-space:pre;overflow-x:auto;line-height:normal;font-family:Menlo,'DejaVu Sans Mono',consolas,'Courier New',monospace\"><span style=\"color: #800000; text-decoration-color: #800000; font-weight: bold\">loss = tensor(</span><span style=\"color: #800000; text-decoration-color: #800000; font-weight: bold\">0.3850</span><span style=\"color: #800000; text-decoration-color: #800000; font-weight: bold\">, </span><span style=\"color: #800000; text-decoration-color: #800000; font-weight: bold\">device</span><span style=\"color: #800000; text-decoration-color: #800000; font-weight: bold\">=</span><span style=\"color: #800000; text-decoration-color: #800000; font-weight: bold\">'cuda:0'</span><span style=\"color: #800000; text-decoration-color: #800000; font-weight: bold\">) computed_loss = tensor(</span><span style=\"color: #800000; text-decoration-color: #800000; font-weight: bold\">0.3884</span><span style=\"color: #800000; text-decoration-color: #800000; font-weight: bold\">, </span><span style=\"color: #800000; text-decoration-color: #800000; font-weight: bold\">device</span><span style=\"color: #800000; text-decoration-color: #800000; font-weight: bold\">=</span><span style=\"color: #800000; text-decoration-color: #800000; font-weight: bold\">'cuda:0'</span><span style=\"color: #800000; text-decoration-color: #800000; font-weight: bold\">, </span>\n",
       "<span style=\"color: #800000; text-decoration-color: #800000; font-weight: bold\">grad_fn</span><span style=\"color: #800000; text-decoration-color: #800000; font-weight: bold\">=&lt;NllLossBackward0&gt;)</span>\n",
       "</pre>\n"
      ],
      "text/plain": [
       "\u001b[1;31mloss = \u001b[0m\u001b[1;31mtensor\u001b[0m\u001b[1;31m(\u001b[0m\u001b[1;31m0.3850\u001b[0m\u001b[1;31m, \u001b[0m\u001b[1;31mdevice\u001b[0m\u001b[1;31m=\u001b[0m\u001b[1;31m'cuda:0'\u001b[0m\u001b[1;31m)\u001b[0m\u001b[1;31m computed_loss = \u001b[0m\u001b[1;31mtensor\u001b[0m\u001b[1;31m(\u001b[0m\u001b[1;31m0.3884\u001b[0m\u001b[1;31m, \u001b[0m\u001b[1;31mdevice\u001b[0m\u001b[1;31m=\u001b[0m\u001b[1;31m'cuda:0'\u001b[0m\u001b[1;31m, \u001b[0m\n",
       "\u001b[1;31mgrad_fn\u001b[0m\u001b[1;31m=\u001b[0m\u001b[1;31m<\u001b[0m\u001b[1;31mNllLossBackward0\u001b[0m\u001b[1;31m>\u001b[0m\u001b[1;31m)\u001b[0m\n"
      ]
     },
     "metadata": {},
     "output_type": "display_data"
    },
    {
     "data": {
      "text/html": [
       "<pre style=\"white-space:pre;overflow-x:auto;line-height:normal;font-family:Menlo,'DejaVu Sans Mono',consolas,'Courier New',monospace\"><span style=\"color: #800000; text-decoration-color: #800000; font-weight: bold\">loss = tensor(</span><span style=\"color: #800000; text-decoration-color: #800000; font-weight: bold\">0.4533</span><span style=\"color: #800000; text-decoration-color: #800000; font-weight: bold\">, </span><span style=\"color: #800000; text-decoration-color: #800000; font-weight: bold\">device</span><span style=\"color: #800000; text-decoration-color: #800000; font-weight: bold\">=</span><span style=\"color: #800000; text-decoration-color: #800000; font-weight: bold\">'cuda:0'</span><span style=\"color: #800000; text-decoration-color: #800000; font-weight: bold\">) computed_loss = tensor(</span><span style=\"color: #800000; text-decoration-color: #800000; font-weight: bold\">0.4478</span><span style=\"color: #800000; text-decoration-color: #800000; font-weight: bold\">, </span><span style=\"color: #800000; text-decoration-color: #800000; font-weight: bold\">device</span><span style=\"color: #800000; text-decoration-color: #800000; font-weight: bold\">=</span><span style=\"color: #800000; text-decoration-color: #800000; font-weight: bold\">'cuda:0'</span><span style=\"color: #800000; text-decoration-color: #800000; font-weight: bold\">, </span>\n",
       "<span style=\"color: #800000; text-decoration-color: #800000; font-weight: bold\">grad_fn</span><span style=\"color: #800000; text-decoration-color: #800000; font-weight: bold\">=&lt;NllLossBackward0&gt;)</span>\n",
       "</pre>\n"
      ],
      "text/plain": [
       "\u001b[1;31mloss = \u001b[0m\u001b[1;31mtensor\u001b[0m\u001b[1;31m(\u001b[0m\u001b[1;31m0.4533\u001b[0m\u001b[1;31m, \u001b[0m\u001b[1;31mdevice\u001b[0m\u001b[1;31m=\u001b[0m\u001b[1;31m'cuda:0'\u001b[0m\u001b[1;31m)\u001b[0m\u001b[1;31m computed_loss = \u001b[0m\u001b[1;31mtensor\u001b[0m\u001b[1;31m(\u001b[0m\u001b[1;31m0.4478\u001b[0m\u001b[1;31m, \u001b[0m\u001b[1;31mdevice\u001b[0m\u001b[1;31m=\u001b[0m\u001b[1;31m'cuda:0'\u001b[0m\u001b[1;31m, \u001b[0m\n",
       "\u001b[1;31mgrad_fn\u001b[0m\u001b[1;31m=\u001b[0m\u001b[1;31m<\u001b[0m\u001b[1;31mNllLossBackward0\u001b[0m\u001b[1;31m>\u001b[0m\u001b[1;31m)\u001b[0m\n"
      ]
     },
     "metadata": {},
     "output_type": "display_data"
    },
    {
     "data": {
      "text/html": [
       "<pre style=\"white-space:pre;overflow-x:auto;line-height:normal;font-family:Menlo,'DejaVu Sans Mono',consolas,'Courier New',monospace\"><span style=\"color: #800000; text-decoration-color: #800000; font-weight: bold\">loss = tensor(</span><span style=\"color: #800000; text-decoration-color: #800000; font-weight: bold\">0.4668</span><span style=\"color: #800000; text-decoration-color: #800000; font-weight: bold\">, </span><span style=\"color: #800000; text-decoration-color: #800000; font-weight: bold\">device</span><span style=\"color: #800000; text-decoration-color: #800000; font-weight: bold\">=</span><span style=\"color: #800000; text-decoration-color: #800000; font-weight: bold\">'cuda:0'</span><span style=\"color: #800000; text-decoration-color: #800000; font-weight: bold\">) computed_loss = tensor(</span><span style=\"color: #800000; text-decoration-color: #800000; font-weight: bold\">0.4675</span><span style=\"color: #800000; text-decoration-color: #800000; font-weight: bold\">, </span><span style=\"color: #800000; text-decoration-color: #800000; font-weight: bold\">device</span><span style=\"color: #800000; text-decoration-color: #800000; font-weight: bold\">=</span><span style=\"color: #800000; text-decoration-color: #800000; font-weight: bold\">'cuda:0'</span><span style=\"color: #800000; text-decoration-color: #800000; font-weight: bold\">, </span>\n",
       "<span style=\"color: #800000; text-decoration-color: #800000; font-weight: bold\">grad_fn</span><span style=\"color: #800000; text-decoration-color: #800000; font-weight: bold\">=&lt;NllLossBackward0&gt;)</span>\n",
       "</pre>\n"
      ],
      "text/plain": [
       "\u001b[1;31mloss = \u001b[0m\u001b[1;31mtensor\u001b[0m\u001b[1;31m(\u001b[0m\u001b[1;31m0.4668\u001b[0m\u001b[1;31m, \u001b[0m\u001b[1;31mdevice\u001b[0m\u001b[1;31m=\u001b[0m\u001b[1;31m'cuda:0'\u001b[0m\u001b[1;31m)\u001b[0m\u001b[1;31m computed_loss = \u001b[0m\u001b[1;31mtensor\u001b[0m\u001b[1;31m(\u001b[0m\u001b[1;31m0.4675\u001b[0m\u001b[1;31m, \u001b[0m\u001b[1;31mdevice\u001b[0m\u001b[1;31m=\u001b[0m\u001b[1;31m'cuda:0'\u001b[0m\u001b[1;31m, \u001b[0m\n",
       "\u001b[1;31mgrad_fn\u001b[0m\u001b[1;31m=\u001b[0m\u001b[1;31m<\u001b[0m\u001b[1;31mNllLossBackward0\u001b[0m\u001b[1;31m>\u001b[0m\u001b[1;31m)\u001b[0m\n"
      ]
     },
     "metadata": {},
     "output_type": "display_data"
    },
    {
     "data": {
      "text/html": [
       "<pre style=\"white-space:pre;overflow-x:auto;line-height:normal;font-family:Menlo,'DejaVu Sans Mono',consolas,'Courier New',monospace\"><span style=\"color: #800000; text-decoration-color: #800000; font-weight: bold\">loss = tensor(</span><span style=\"color: #800000; text-decoration-color: #800000; font-weight: bold\">0.4398</span><span style=\"color: #800000; text-decoration-color: #800000; font-weight: bold\">, </span><span style=\"color: #800000; text-decoration-color: #800000; font-weight: bold\">device</span><span style=\"color: #800000; text-decoration-color: #800000; font-weight: bold\">=</span><span style=\"color: #800000; text-decoration-color: #800000; font-weight: bold\">'cuda:0'</span><span style=\"color: #800000; text-decoration-color: #800000; font-weight: bold\">) computed_loss = tensor(</span><span style=\"color: #800000; text-decoration-color: #800000; font-weight: bold\">0.4348</span><span style=\"color: #800000; text-decoration-color: #800000; font-weight: bold\">, </span><span style=\"color: #800000; text-decoration-color: #800000; font-weight: bold\">device</span><span style=\"color: #800000; text-decoration-color: #800000; font-weight: bold\">=</span><span style=\"color: #800000; text-decoration-color: #800000; font-weight: bold\">'cuda:0'</span><span style=\"color: #800000; text-decoration-color: #800000; font-weight: bold\">, </span>\n",
       "<span style=\"color: #800000; text-decoration-color: #800000; font-weight: bold\">grad_fn</span><span style=\"color: #800000; text-decoration-color: #800000; font-weight: bold\">=&lt;NllLossBackward0&gt;)</span>\n",
       "</pre>\n"
      ],
      "text/plain": [
       "\u001b[1;31mloss = \u001b[0m\u001b[1;31mtensor\u001b[0m\u001b[1;31m(\u001b[0m\u001b[1;31m0.4398\u001b[0m\u001b[1;31m, \u001b[0m\u001b[1;31mdevice\u001b[0m\u001b[1;31m=\u001b[0m\u001b[1;31m'cuda:0'\u001b[0m\u001b[1;31m)\u001b[0m\u001b[1;31m computed_loss = \u001b[0m\u001b[1;31mtensor\u001b[0m\u001b[1;31m(\u001b[0m\u001b[1;31m0.4348\u001b[0m\u001b[1;31m, \u001b[0m\u001b[1;31mdevice\u001b[0m\u001b[1;31m=\u001b[0m\u001b[1;31m'cuda:0'\u001b[0m\u001b[1;31m, \u001b[0m\n",
       "\u001b[1;31mgrad_fn\u001b[0m\u001b[1;31m=\u001b[0m\u001b[1;31m<\u001b[0m\u001b[1;31mNllLossBackward0\u001b[0m\u001b[1;31m>\u001b[0m\u001b[1;31m)\u001b[0m\n"
      ]
     },
     "metadata": {},
     "output_type": "display_data"
    },
    {
     "data": {
      "text/html": [
       "<pre style=\"white-space:pre;overflow-x:auto;line-height:normal;font-family:Menlo,'DejaVu Sans Mono',consolas,'Courier New',monospace\"><span style=\"color: #800000; text-decoration-color: #800000; font-weight: bold\">loss = tensor(</span><span style=\"color: #800000; text-decoration-color: #800000; font-weight: bold\">0.3976</span><span style=\"color: #800000; text-decoration-color: #800000; font-weight: bold\">, </span><span style=\"color: #800000; text-decoration-color: #800000; font-weight: bold\">device</span><span style=\"color: #800000; text-decoration-color: #800000; font-weight: bold\">=</span><span style=\"color: #800000; text-decoration-color: #800000; font-weight: bold\">'cuda:0'</span><span style=\"color: #800000; text-decoration-color: #800000; font-weight: bold\">) computed_loss = tensor(</span><span style=\"color: #800000; text-decoration-color: #800000; font-weight: bold\">0.3986</span><span style=\"color: #800000; text-decoration-color: #800000; font-weight: bold\">, </span><span style=\"color: #800000; text-decoration-color: #800000; font-weight: bold\">device</span><span style=\"color: #800000; text-decoration-color: #800000; font-weight: bold\">=</span><span style=\"color: #800000; text-decoration-color: #800000; font-weight: bold\">'cuda:0'</span><span style=\"color: #800000; text-decoration-color: #800000; font-weight: bold\">, </span>\n",
       "<span style=\"color: #800000; text-decoration-color: #800000; font-weight: bold\">grad_fn</span><span style=\"color: #800000; text-decoration-color: #800000; font-weight: bold\">=&lt;NllLossBackward0&gt;)</span>\n",
       "</pre>\n"
      ],
      "text/plain": [
       "\u001b[1;31mloss = \u001b[0m\u001b[1;31mtensor\u001b[0m\u001b[1;31m(\u001b[0m\u001b[1;31m0.3976\u001b[0m\u001b[1;31m, \u001b[0m\u001b[1;31mdevice\u001b[0m\u001b[1;31m=\u001b[0m\u001b[1;31m'cuda:0'\u001b[0m\u001b[1;31m)\u001b[0m\u001b[1;31m computed_loss = \u001b[0m\u001b[1;31mtensor\u001b[0m\u001b[1;31m(\u001b[0m\u001b[1;31m0.3986\u001b[0m\u001b[1;31m, \u001b[0m\u001b[1;31mdevice\u001b[0m\u001b[1;31m=\u001b[0m\u001b[1;31m'cuda:0'\u001b[0m\u001b[1;31m, \u001b[0m\n",
       "\u001b[1;31mgrad_fn\u001b[0m\u001b[1;31m=\u001b[0m\u001b[1;31m<\u001b[0m\u001b[1;31mNllLossBackward0\u001b[0m\u001b[1;31m>\u001b[0m\u001b[1;31m)\u001b[0m\n"
      ]
     },
     "metadata": {},
     "output_type": "display_data"
    },
    {
     "data": {
      "text/html": [
       "<pre style=\"white-space:pre;overflow-x:auto;line-height:normal;font-family:Menlo,'DejaVu Sans Mono',consolas,'Courier New',monospace\"><span style=\"color: #800000; text-decoration-color: #800000; font-weight: bold\">loss = tensor(</span><span style=\"color: #800000; text-decoration-color: #800000; font-weight: bold\">0.3711</span><span style=\"color: #800000; text-decoration-color: #800000; font-weight: bold\">, </span><span style=\"color: #800000; text-decoration-color: #800000; font-weight: bold\">device</span><span style=\"color: #800000; text-decoration-color: #800000; font-weight: bold\">=</span><span style=\"color: #800000; text-decoration-color: #800000; font-weight: bold\">'cuda:0'</span><span style=\"color: #800000; text-decoration-color: #800000; font-weight: bold\">) computed_loss = tensor(</span><span style=\"color: #800000; text-decoration-color: #800000; font-weight: bold\">0.3755</span><span style=\"color: #800000; text-decoration-color: #800000; font-weight: bold\">, </span><span style=\"color: #800000; text-decoration-color: #800000; font-weight: bold\">device</span><span style=\"color: #800000; text-decoration-color: #800000; font-weight: bold\">=</span><span style=\"color: #800000; text-decoration-color: #800000; font-weight: bold\">'cuda:0'</span><span style=\"color: #800000; text-decoration-color: #800000; font-weight: bold\">, </span>\n",
       "<span style=\"color: #800000; text-decoration-color: #800000; font-weight: bold\">grad_fn</span><span style=\"color: #800000; text-decoration-color: #800000; font-weight: bold\">=&lt;NllLossBackward0&gt;)</span>\n",
       "</pre>\n"
      ],
      "text/plain": [
       "\u001b[1;31mloss = \u001b[0m\u001b[1;31mtensor\u001b[0m\u001b[1;31m(\u001b[0m\u001b[1;31m0.3711\u001b[0m\u001b[1;31m, \u001b[0m\u001b[1;31mdevice\u001b[0m\u001b[1;31m=\u001b[0m\u001b[1;31m'cuda:0'\u001b[0m\u001b[1;31m)\u001b[0m\u001b[1;31m computed_loss = \u001b[0m\u001b[1;31mtensor\u001b[0m\u001b[1;31m(\u001b[0m\u001b[1;31m0.3755\u001b[0m\u001b[1;31m, \u001b[0m\u001b[1;31mdevice\u001b[0m\u001b[1;31m=\u001b[0m\u001b[1;31m'cuda:0'\u001b[0m\u001b[1;31m, \u001b[0m\n",
       "\u001b[1;31mgrad_fn\u001b[0m\u001b[1;31m=\u001b[0m\u001b[1;31m<\u001b[0m\u001b[1;31mNllLossBackward0\u001b[0m\u001b[1;31m>\u001b[0m\u001b[1;31m)\u001b[0m\n"
      ]
     },
     "metadata": {},
     "output_type": "display_data"
    },
    {
     "data": {
      "text/html": [
       "<pre style=\"white-space:pre;overflow-x:auto;line-height:normal;font-family:Menlo,'DejaVu Sans Mono',consolas,'Courier New',monospace\"><span style=\"color: #800000; text-decoration-color: #800000; font-weight: bold\">loss = tensor(</span><span style=\"color: #800000; text-decoration-color: #800000; font-weight: bold\">0.3753</span><span style=\"color: #800000; text-decoration-color: #800000; font-weight: bold\">, </span><span style=\"color: #800000; text-decoration-color: #800000; font-weight: bold\">device</span><span style=\"color: #800000; text-decoration-color: #800000; font-weight: bold\">=</span><span style=\"color: #800000; text-decoration-color: #800000; font-weight: bold\">'cuda:0'</span><span style=\"color: #800000; text-decoration-color: #800000; font-weight: bold\">) computed_loss = tensor(</span><span style=\"color: #800000; text-decoration-color: #800000; font-weight: bold\">0.3804</span><span style=\"color: #800000; text-decoration-color: #800000; font-weight: bold\">, </span><span style=\"color: #800000; text-decoration-color: #800000; font-weight: bold\">device</span><span style=\"color: #800000; text-decoration-color: #800000; font-weight: bold\">=</span><span style=\"color: #800000; text-decoration-color: #800000; font-weight: bold\">'cuda:0'</span><span style=\"color: #800000; text-decoration-color: #800000; font-weight: bold\">, </span>\n",
       "<span style=\"color: #800000; text-decoration-color: #800000; font-weight: bold\">grad_fn</span><span style=\"color: #800000; text-decoration-color: #800000; font-weight: bold\">=&lt;NllLossBackward0&gt;)</span>\n",
       "</pre>\n"
      ],
      "text/plain": [
       "\u001b[1;31mloss = \u001b[0m\u001b[1;31mtensor\u001b[0m\u001b[1;31m(\u001b[0m\u001b[1;31m0.3753\u001b[0m\u001b[1;31m, \u001b[0m\u001b[1;31mdevice\u001b[0m\u001b[1;31m=\u001b[0m\u001b[1;31m'cuda:0'\u001b[0m\u001b[1;31m)\u001b[0m\u001b[1;31m computed_loss = \u001b[0m\u001b[1;31mtensor\u001b[0m\u001b[1;31m(\u001b[0m\u001b[1;31m0.3804\u001b[0m\u001b[1;31m, \u001b[0m\u001b[1;31mdevice\u001b[0m\u001b[1;31m=\u001b[0m\u001b[1;31m'cuda:0'\u001b[0m\u001b[1;31m, \u001b[0m\n",
       "\u001b[1;31mgrad_fn\u001b[0m\u001b[1;31m=\u001b[0m\u001b[1;31m<\u001b[0m\u001b[1;31mNllLossBackward0\u001b[0m\u001b[1;31m>\u001b[0m\u001b[1;31m)\u001b[0m\n"
      ]
     },
     "metadata": {},
     "output_type": "display_data"
    },
    {
     "data": {
      "text/html": [
       "<pre style=\"white-space:pre;overflow-x:auto;line-height:normal;font-family:Menlo,'DejaVu Sans Mono',consolas,'Courier New',monospace\"><span style=\"color: #800000; text-decoration-color: #800000; font-weight: bold\">loss = tensor(</span><span style=\"color: #800000; text-decoration-color: #800000; font-weight: bold\">0.3073</span><span style=\"color: #800000; text-decoration-color: #800000; font-weight: bold\">, </span><span style=\"color: #800000; text-decoration-color: #800000; font-weight: bold\">device</span><span style=\"color: #800000; text-decoration-color: #800000; font-weight: bold\">=</span><span style=\"color: #800000; text-decoration-color: #800000; font-weight: bold\">'cuda:0'</span><span style=\"color: #800000; text-decoration-color: #800000; font-weight: bold\">) computed_loss = tensor(</span><span style=\"color: #800000; text-decoration-color: #800000; font-weight: bold\">0.3087</span><span style=\"color: #800000; text-decoration-color: #800000; font-weight: bold\">, </span><span style=\"color: #800000; text-decoration-color: #800000; font-weight: bold\">device</span><span style=\"color: #800000; text-decoration-color: #800000; font-weight: bold\">=</span><span style=\"color: #800000; text-decoration-color: #800000; font-weight: bold\">'cuda:0'</span><span style=\"color: #800000; text-decoration-color: #800000; font-weight: bold\">, </span>\n",
       "<span style=\"color: #800000; text-decoration-color: #800000; font-weight: bold\">grad_fn</span><span style=\"color: #800000; text-decoration-color: #800000; font-weight: bold\">=&lt;NllLossBackward0&gt;)</span>\n",
       "</pre>\n"
      ],
      "text/plain": [
       "\u001b[1;31mloss = \u001b[0m\u001b[1;31mtensor\u001b[0m\u001b[1;31m(\u001b[0m\u001b[1;31m0.3073\u001b[0m\u001b[1;31m, \u001b[0m\u001b[1;31mdevice\u001b[0m\u001b[1;31m=\u001b[0m\u001b[1;31m'cuda:0'\u001b[0m\u001b[1;31m)\u001b[0m\u001b[1;31m computed_loss = \u001b[0m\u001b[1;31mtensor\u001b[0m\u001b[1;31m(\u001b[0m\u001b[1;31m0.3087\u001b[0m\u001b[1;31m, \u001b[0m\u001b[1;31mdevice\u001b[0m\u001b[1;31m=\u001b[0m\u001b[1;31m'cuda:0'\u001b[0m\u001b[1;31m, \u001b[0m\n",
       "\u001b[1;31mgrad_fn\u001b[0m\u001b[1;31m=\u001b[0m\u001b[1;31m<\u001b[0m\u001b[1;31mNllLossBackward0\u001b[0m\u001b[1;31m>\u001b[0m\u001b[1;31m)\u001b[0m\n"
      ]
     },
     "metadata": {},
     "output_type": "display_data"
    },
    {
     "data": {
      "text/html": [
       "<pre style=\"white-space:pre;overflow-x:auto;line-height:normal;font-family:Menlo,'DejaVu Sans Mono',consolas,'Courier New',monospace\"><span style=\"color: #800000; text-decoration-color: #800000; font-weight: bold\">loss = tensor(</span><span style=\"color: #800000; text-decoration-color: #800000; font-weight: bold\">0.3903</span><span style=\"color: #800000; text-decoration-color: #800000; font-weight: bold\">, </span><span style=\"color: #800000; text-decoration-color: #800000; font-weight: bold\">device</span><span style=\"color: #800000; text-decoration-color: #800000; font-weight: bold\">=</span><span style=\"color: #800000; text-decoration-color: #800000; font-weight: bold\">'cuda:0'</span><span style=\"color: #800000; text-decoration-color: #800000; font-weight: bold\">) computed_loss = tensor(</span><span style=\"color: #800000; text-decoration-color: #800000; font-weight: bold\">0.3994</span><span style=\"color: #800000; text-decoration-color: #800000; font-weight: bold\">, </span><span style=\"color: #800000; text-decoration-color: #800000; font-weight: bold\">device</span><span style=\"color: #800000; text-decoration-color: #800000; font-weight: bold\">=</span><span style=\"color: #800000; text-decoration-color: #800000; font-weight: bold\">'cuda:0'</span><span style=\"color: #800000; text-decoration-color: #800000; font-weight: bold\">, </span>\n",
       "<span style=\"color: #800000; text-decoration-color: #800000; font-weight: bold\">grad_fn</span><span style=\"color: #800000; text-decoration-color: #800000; font-weight: bold\">=&lt;NllLossBackward0&gt;)</span>\n",
       "</pre>\n"
      ],
      "text/plain": [
       "\u001b[1;31mloss = \u001b[0m\u001b[1;31mtensor\u001b[0m\u001b[1;31m(\u001b[0m\u001b[1;31m0.3903\u001b[0m\u001b[1;31m, \u001b[0m\u001b[1;31mdevice\u001b[0m\u001b[1;31m=\u001b[0m\u001b[1;31m'cuda:0'\u001b[0m\u001b[1;31m)\u001b[0m\u001b[1;31m computed_loss = \u001b[0m\u001b[1;31mtensor\u001b[0m\u001b[1;31m(\u001b[0m\u001b[1;31m0.3994\u001b[0m\u001b[1;31m, \u001b[0m\u001b[1;31mdevice\u001b[0m\u001b[1;31m=\u001b[0m\u001b[1;31m'cuda:0'\u001b[0m\u001b[1;31m, \u001b[0m\n",
       "\u001b[1;31mgrad_fn\u001b[0m\u001b[1;31m=\u001b[0m\u001b[1;31m<\u001b[0m\u001b[1;31mNllLossBackward0\u001b[0m\u001b[1;31m>\u001b[0m\u001b[1;31m)\u001b[0m\n"
      ]
     },
     "metadata": {},
     "output_type": "display_data"
    },
    {
     "data": {
      "text/html": [
       "<pre style=\"white-space:pre;overflow-x:auto;line-height:normal;font-family:Menlo,'DejaVu Sans Mono',consolas,'Courier New',monospace\"><span style=\"color: #800000; text-decoration-color: #800000; font-weight: bold\">loss = tensor(</span><span style=\"color: #800000; text-decoration-color: #800000; font-weight: bold\">0.3963</span><span style=\"color: #800000; text-decoration-color: #800000; font-weight: bold\">, </span><span style=\"color: #800000; text-decoration-color: #800000; font-weight: bold\">device</span><span style=\"color: #800000; text-decoration-color: #800000; font-weight: bold\">=</span><span style=\"color: #800000; text-decoration-color: #800000; font-weight: bold\">'cuda:0'</span><span style=\"color: #800000; text-decoration-color: #800000; font-weight: bold\">) computed_loss = tensor(</span><span style=\"color: #800000; text-decoration-color: #800000; font-weight: bold\">0.3943</span><span style=\"color: #800000; text-decoration-color: #800000; font-weight: bold\">, </span><span style=\"color: #800000; text-decoration-color: #800000; font-weight: bold\">device</span><span style=\"color: #800000; text-decoration-color: #800000; font-weight: bold\">=</span><span style=\"color: #800000; text-decoration-color: #800000; font-weight: bold\">'cuda:0'</span><span style=\"color: #800000; text-decoration-color: #800000; font-weight: bold\">, </span>\n",
       "<span style=\"color: #800000; text-decoration-color: #800000; font-weight: bold\">grad_fn</span><span style=\"color: #800000; text-decoration-color: #800000; font-weight: bold\">=&lt;NllLossBackward0&gt;)</span>\n",
       "</pre>\n"
      ],
      "text/plain": [
       "\u001b[1;31mloss = \u001b[0m\u001b[1;31mtensor\u001b[0m\u001b[1;31m(\u001b[0m\u001b[1;31m0.3963\u001b[0m\u001b[1;31m, \u001b[0m\u001b[1;31mdevice\u001b[0m\u001b[1;31m=\u001b[0m\u001b[1;31m'cuda:0'\u001b[0m\u001b[1;31m)\u001b[0m\u001b[1;31m computed_loss = \u001b[0m\u001b[1;31mtensor\u001b[0m\u001b[1;31m(\u001b[0m\u001b[1;31m0.3943\u001b[0m\u001b[1;31m, \u001b[0m\u001b[1;31mdevice\u001b[0m\u001b[1;31m=\u001b[0m\u001b[1;31m'cuda:0'\u001b[0m\u001b[1;31m, \u001b[0m\n",
       "\u001b[1;31mgrad_fn\u001b[0m\u001b[1;31m=\u001b[0m\u001b[1;31m<\u001b[0m\u001b[1;31mNllLossBackward0\u001b[0m\u001b[1;31m>\u001b[0m\u001b[1;31m)\u001b[0m\n"
      ]
     },
     "metadata": {},
     "output_type": "display_data"
    },
    {
     "data": {
      "text/html": [
       "<pre style=\"white-space:pre;overflow-x:auto;line-height:normal;font-family:Menlo,'DejaVu Sans Mono',consolas,'Courier New',monospace\"><span style=\"color: #800000; text-decoration-color: #800000; font-weight: bold\">loss = tensor(</span><span style=\"color: #800000; text-decoration-color: #800000; font-weight: bold\">0.4195</span><span style=\"color: #800000; text-decoration-color: #800000; font-weight: bold\">, </span><span style=\"color: #800000; text-decoration-color: #800000; font-weight: bold\">device</span><span style=\"color: #800000; text-decoration-color: #800000; font-weight: bold\">=</span><span style=\"color: #800000; text-decoration-color: #800000; font-weight: bold\">'cuda:0'</span><span style=\"color: #800000; text-decoration-color: #800000; font-weight: bold\">) computed_loss = tensor(</span><span style=\"color: #800000; text-decoration-color: #800000; font-weight: bold\">0.4199</span><span style=\"color: #800000; text-decoration-color: #800000; font-weight: bold\">, </span><span style=\"color: #800000; text-decoration-color: #800000; font-weight: bold\">device</span><span style=\"color: #800000; text-decoration-color: #800000; font-weight: bold\">=</span><span style=\"color: #800000; text-decoration-color: #800000; font-weight: bold\">'cuda:0'</span><span style=\"color: #800000; text-decoration-color: #800000; font-weight: bold\">, </span>\n",
       "<span style=\"color: #800000; text-decoration-color: #800000; font-weight: bold\">grad_fn</span><span style=\"color: #800000; text-decoration-color: #800000; font-weight: bold\">=&lt;NllLossBackward0&gt;)</span>\n",
       "</pre>\n"
      ],
      "text/plain": [
       "\u001b[1;31mloss = \u001b[0m\u001b[1;31mtensor\u001b[0m\u001b[1;31m(\u001b[0m\u001b[1;31m0.4195\u001b[0m\u001b[1;31m, \u001b[0m\u001b[1;31mdevice\u001b[0m\u001b[1;31m=\u001b[0m\u001b[1;31m'cuda:0'\u001b[0m\u001b[1;31m)\u001b[0m\u001b[1;31m computed_loss = \u001b[0m\u001b[1;31mtensor\u001b[0m\u001b[1;31m(\u001b[0m\u001b[1;31m0.4199\u001b[0m\u001b[1;31m, \u001b[0m\u001b[1;31mdevice\u001b[0m\u001b[1;31m=\u001b[0m\u001b[1;31m'cuda:0'\u001b[0m\u001b[1;31m, \u001b[0m\n",
       "\u001b[1;31mgrad_fn\u001b[0m\u001b[1;31m=\u001b[0m\u001b[1;31m<\u001b[0m\u001b[1;31mNllLossBackward0\u001b[0m\u001b[1;31m>\u001b[0m\u001b[1;31m)\u001b[0m\n"
      ]
     },
     "metadata": {},
     "output_type": "display_data"
    },
    {
     "data": {
      "text/html": [
       "<pre style=\"white-space:pre;overflow-x:auto;line-height:normal;font-family:Menlo,'DejaVu Sans Mono',consolas,'Courier New',monospace\"><span style=\"color: #800000; text-decoration-color: #800000; font-weight: bold\">loss = tensor(</span><span style=\"color: #800000; text-decoration-color: #800000; font-weight: bold\">0.3253</span><span style=\"color: #800000; text-decoration-color: #800000; font-weight: bold\">, </span><span style=\"color: #800000; text-decoration-color: #800000; font-weight: bold\">device</span><span style=\"color: #800000; text-decoration-color: #800000; font-weight: bold\">=</span><span style=\"color: #800000; text-decoration-color: #800000; font-weight: bold\">'cuda:0'</span><span style=\"color: #800000; text-decoration-color: #800000; font-weight: bold\">) computed_loss = tensor(</span><span style=\"color: #800000; text-decoration-color: #800000; font-weight: bold\">0.3326</span><span style=\"color: #800000; text-decoration-color: #800000; font-weight: bold\">, </span><span style=\"color: #800000; text-decoration-color: #800000; font-weight: bold\">device</span><span style=\"color: #800000; text-decoration-color: #800000; font-weight: bold\">=</span><span style=\"color: #800000; text-decoration-color: #800000; font-weight: bold\">'cuda:0'</span><span style=\"color: #800000; text-decoration-color: #800000; font-weight: bold\">, </span>\n",
       "<span style=\"color: #800000; text-decoration-color: #800000; font-weight: bold\">grad_fn</span><span style=\"color: #800000; text-decoration-color: #800000; font-weight: bold\">=&lt;NllLossBackward0&gt;)</span>\n",
       "</pre>\n"
      ],
      "text/plain": [
       "\u001b[1;31mloss = \u001b[0m\u001b[1;31mtensor\u001b[0m\u001b[1;31m(\u001b[0m\u001b[1;31m0.3253\u001b[0m\u001b[1;31m, \u001b[0m\u001b[1;31mdevice\u001b[0m\u001b[1;31m=\u001b[0m\u001b[1;31m'cuda:0'\u001b[0m\u001b[1;31m)\u001b[0m\u001b[1;31m computed_loss = \u001b[0m\u001b[1;31mtensor\u001b[0m\u001b[1;31m(\u001b[0m\u001b[1;31m0.3326\u001b[0m\u001b[1;31m, \u001b[0m\u001b[1;31mdevice\u001b[0m\u001b[1;31m=\u001b[0m\u001b[1;31m'cuda:0'\u001b[0m\u001b[1;31m, \u001b[0m\n",
       "\u001b[1;31mgrad_fn\u001b[0m\u001b[1;31m=\u001b[0m\u001b[1;31m<\u001b[0m\u001b[1;31mNllLossBackward0\u001b[0m\u001b[1;31m>\u001b[0m\u001b[1;31m)\u001b[0m\n"
      ]
     },
     "metadata": {},
     "output_type": "display_data"
    },
    {
     "data": {
      "text/html": [
       "<pre style=\"white-space:pre;overflow-x:auto;line-height:normal;font-family:Menlo,'DejaVu Sans Mono',consolas,'Courier New',monospace\"><span style=\"color: #800000; text-decoration-color: #800000; font-weight: bold\">loss = tensor(</span><span style=\"color: #800000; text-decoration-color: #800000; font-weight: bold\">0.4178</span><span style=\"color: #800000; text-decoration-color: #800000; font-weight: bold\">, </span><span style=\"color: #800000; text-decoration-color: #800000; font-weight: bold\">device</span><span style=\"color: #800000; text-decoration-color: #800000; font-weight: bold\">=</span><span style=\"color: #800000; text-decoration-color: #800000; font-weight: bold\">'cuda:0'</span><span style=\"color: #800000; text-decoration-color: #800000; font-weight: bold\">) computed_loss = tensor(</span><span style=\"color: #800000; text-decoration-color: #800000; font-weight: bold\">0.4134</span><span style=\"color: #800000; text-decoration-color: #800000; font-weight: bold\">, </span><span style=\"color: #800000; text-decoration-color: #800000; font-weight: bold\">device</span><span style=\"color: #800000; text-decoration-color: #800000; font-weight: bold\">=</span><span style=\"color: #800000; text-decoration-color: #800000; font-weight: bold\">'cuda:0'</span><span style=\"color: #800000; text-decoration-color: #800000; font-weight: bold\">, </span>\n",
       "<span style=\"color: #800000; text-decoration-color: #800000; font-weight: bold\">grad_fn</span><span style=\"color: #800000; text-decoration-color: #800000; font-weight: bold\">=&lt;NllLossBackward0&gt;)</span>\n",
       "</pre>\n"
      ],
      "text/plain": [
       "\u001b[1;31mloss = \u001b[0m\u001b[1;31mtensor\u001b[0m\u001b[1;31m(\u001b[0m\u001b[1;31m0.4178\u001b[0m\u001b[1;31m, \u001b[0m\u001b[1;31mdevice\u001b[0m\u001b[1;31m=\u001b[0m\u001b[1;31m'cuda:0'\u001b[0m\u001b[1;31m)\u001b[0m\u001b[1;31m computed_loss = \u001b[0m\u001b[1;31mtensor\u001b[0m\u001b[1;31m(\u001b[0m\u001b[1;31m0.4134\u001b[0m\u001b[1;31m, \u001b[0m\u001b[1;31mdevice\u001b[0m\u001b[1;31m=\u001b[0m\u001b[1;31m'cuda:0'\u001b[0m\u001b[1;31m, \u001b[0m\n",
       "\u001b[1;31mgrad_fn\u001b[0m\u001b[1;31m=\u001b[0m\u001b[1;31m<\u001b[0m\u001b[1;31mNllLossBackward0\u001b[0m\u001b[1;31m>\u001b[0m\u001b[1;31m)\u001b[0m\n"
      ]
     },
     "metadata": {},
     "output_type": "display_data"
    },
    {
     "data": {
      "text/html": [
       "<pre style=\"white-space:pre;overflow-x:auto;line-height:normal;font-family:Menlo,'DejaVu Sans Mono',consolas,'Courier New',monospace\"><span style=\"color: #800000; text-decoration-color: #800000; font-weight: bold\">loss = tensor(</span><span style=\"color: #800000; text-decoration-color: #800000; font-weight: bold\">0.2811</span><span style=\"color: #800000; text-decoration-color: #800000; font-weight: bold\">, </span><span style=\"color: #800000; text-decoration-color: #800000; font-weight: bold\">device</span><span style=\"color: #800000; text-decoration-color: #800000; font-weight: bold\">=</span><span style=\"color: #800000; text-decoration-color: #800000; font-weight: bold\">'cuda:0'</span><span style=\"color: #800000; text-decoration-color: #800000; font-weight: bold\">) computed_loss = tensor(</span><span style=\"color: #800000; text-decoration-color: #800000; font-weight: bold\">0.2720</span><span style=\"color: #800000; text-decoration-color: #800000; font-weight: bold\">, </span><span style=\"color: #800000; text-decoration-color: #800000; font-weight: bold\">device</span><span style=\"color: #800000; text-decoration-color: #800000; font-weight: bold\">=</span><span style=\"color: #800000; text-decoration-color: #800000; font-weight: bold\">'cuda:0'</span><span style=\"color: #800000; text-decoration-color: #800000; font-weight: bold\">, </span>\n",
       "<span style=\"color: #800000; text-decoration-color: #800000; font-weight: bold\">grad_fn</span><span style=\"color: #800000; text-decoration-color: #800000; font-weight: bold\">=&lt;NllLossBackward0&gt;)</span>\n",
       "</pre>\n"
      ],
      "text/plain": [
       "\u001b[1;31mloss = \u001b[0m\u001b[1;31mtensor\u001b[0m\u001b[1;31m(\u001b[0m\u001b[1;31m0.2811\u001b[0m\u001b[1;31m, \u001b[0m\u001b[1;31mdevice\u001b[0m\u001b[1;31m=\u001b[0m\u001b[1;31m'cuda:0'\u001b[0m\u001b[1;31m)\u001b[0m\u001b[1;31m computed_loss = \u001b[0m\u001b[1;31mtensor\u001b[0m\u001b[1;31m(\u001b[0m\u001b[1;31m0.2720\u001b[0m\u001b[1;31m, \u001b[0m\u001b[1;31mdevice\u001b[0m\u001b[1;31m=\u001b[0m\u001b[1;31m'cuda:0'\u001b[0m\u001b[1;31m, \u001b[0m\n",
       "\u001b[1;31mgrad_fn\u001b[0m\u001b[1;31m=\u001b[0m\u001b[1;31m<\u001b[0m\u001b[1;31mNllLossBackward0\u001b[0m\u001b[1;31m>\u001b[0m\u001b[1;31m)\u001b[0m\n"
      ]
     },
     "metadata": {},
     "output_type": "display_data"
    },
    {
     "data": {
      "text/html": [
       "<pre style=\"white-space:pre;overflow-x:auto;line-height:normal;font-family:Menlo,'DejaVu Sans Mono',consolas,'Courier New',monospace\"><span style=\"color: #800000; text-decoration-color: #800000; font-weight: bold\">loss = tensor(</span><span style=\"color: #800000; text-decoration-color: #800000; font-weight: bold\">0.3134</span><span style=\"color: #800000; text-decoration-color: #800000; font-weight: bold\">, </span><span style=\"color: #800000; text-decoration-color: #800000; font-weight: bold\">device</span><span style=\"color: #800000; text-decoration-color: #800000; font-weight: bold\">=</span><span style=\"color: #800000; text-decoration-color: #800000; font-weight: bold\">'cuda:0'</span><span style=\"color: #800000; text-decoration-color: #800000; font-weight: bold\">) computed_loss = tensor(</span><span style=\"color: #800000; text-decoration-color: #800000; font-weight: bold\">0.3174</span><span style=\"color: #800000; text-decoration-color: #800000; font-weight: bold\">, </span><span style=\"color: #800000; text-decoration-color: #800000; font-weight: bold\">device</span><span style=\"color: #800000; text-decoration-color: #800000; font-weight: bold\">=</span><span style=\"color: #800000; text-decoration-color: #800000; font-weight: bold\">'cuda:0'</span><span style=\"color: #800000; text-decoration-color: #800000; font-weight: bold\">, </span>\n",
       "<span style=\"color: #800000; text-decoration-color: #800000; font-weight: bold\">grad_fn</span><span style=\"color: #800000; text-decoration-color: #800000; font-weight: bold\">=&lt;NllLossBackward0&gt;)</span>\n",
       "</pre>\n"
      ],
      "text/plain": [
       "\u001b[1;31mloss = \u001b[0m\u001b[1;31mtensor\u001b[0m\u001b[1;31m(\u001b[0m\u001b[1;31m0.3134\u001b[0m\u001b[1;31m, \u001b[0m\u001b[1;31mdevice\u001b[0m\u001b[1;31m=\u001b[0m\u001b[1;31m'cuda:0'\u001b[0m\u001b[1;31m)\u001b[0m\u001b[1;31m computed_loss = \u001b[0m\u001b[1;31mtensor\u001b[0m\u001b[1;31m(\u001b[0m\u001b[1;31m0.3174\u001b[0m\u001b[1;31m, \u001b[0m\u001b[1;31mdevice\u001b[0m\u001b[1;31m=\u001b[0m\u001b[1;31m'cuda:0'\u001b[0m\u001b[1;31m, \u001b[0m\n",
       "\u001b[1;31mgrad_fn\u001b[0m\u001b[1;31m=\u001b[0m\u001b[1;31m<\u001b[0m\u001b[1;31mNllLossBackward0\u001b[0m\u001b[1;31m>\u001b[0m\u001b[1;31m)\u001b[0m\n"
      ]
     },
     "metadata": {},
     "output_type": "display_data"
    },
    {
     "data": {
      "text/html": [
       "<pre style=\"white-space:pre;overflow-x:auto;line-height:normal;font-family:Menlo,'DejaVu Sans Mono',consolas,'Courier New',monospace\"><span style=\"color: #800000; text-decoration-color: #800000; font-weight: bold\">loss = tensor(</span><span style=\"color: #800000; text-decoration-color: #800000; font-weight: bold\">0.2489</span><span style=\"color: #800000; text-decoration-color: #800000; font-weight: bold\">, </span><span style=\"color: #800000; text-decoration-color: #800000; font-weight: bold\">device</span><span style=\"color: #800000; text-decoration-color: #800000; font-weight: bold\">=</span><span style=\"color: #800000; text-decoration-color: #800000; font-weight: bold\">'cuda:0'</span><span style=\"color: #800000; text-decoration-color: #800000; font-weight: bold\">) computed_loss = tensor(</span><span style=\"color: #800000; text-decoration-color: #800000; font-weight: bold\">0.2457</span><span style=\"color: #800000; text-decoration-color: #800000; font-weight: bold\">, </span><span style=\"color: #800000; text-decoration-color: #800000; font-weight: bold\">device</span><span style=\"color: #800000; text-decoration-color: #800000; font-weight: bold\">=</span><span style=\"color: #800000; text-decoration-color: #800000; font-weight: bold\">'cuda:0'</span><span style=\"color: #800000; text-decoration-color: #800000; font-weight: bold\">, </span>\n",
       "<span style=\"color: #800000; text-decoration-color: #800000; font-weight: bold\">grad_fn</span><span style=\"color: #800000; text-decoration-color: #800000; font-weight: bold\">=&lt;NllLossBackward0&gt;)</span>\n",
       "</pre>\n"
      ],
      "text/plain": [
       "\u001b[1;31mloss = \u001b[0m\u001b[1;31mtensor\u001b[0m\u001b[1;31m(\u001b[0m\u001b[1;31m0.2489\u001b[0m\u001b[1;31m, \u001b[0m\u001b[1;31mdevice\u001b[0m\u001b[1;31m=\u001b[0m\u001b[1;31m'cuda:0'\u001b[0m\u001b[1;31m)\u001b[0m\u001b[1;31m computed_loss = \u001b[0m\u001b[1;31mtensor\u001b[0m\u001b[1;31m(\u001b[0m\u001b[1;31m0.2457\u001b[0m\u001b[1;31m, \u001b[0m\u001b[1;31mdevice\u001b[0m\u001b[1;31m=\u001b[0m\u001b[1;31m'cuda:0'\u001b[0m\u001b[1;31m, \u001b[0m\n",
       "\u001b[1;31mgrad_fn\u001b[0m\u001b[1;31m=\u001b[0m\u001b[1;31m<\u001b[0m\u001b[1;31mNllLossBackward0\u001b[0m\u001b[1;31m>\u001b[0m\u001b[1;31m)\u001b[0m\n"
      ]
     },
     "metadata": {},
     "output_type": "display_data"
    },
    {
     "data": {
      "text/html": [
       "<pre style=\"white-space:pre;overflow-x:auto;line-height:normal;font-family:Menlo,'DejaVu Sans Mono',consolas,'Courier New',monospace\"><span style=\"color: #800000; text-decoration-color: #800000; font-weight: bold\">loss = tensor(</span><span style=\"color: #800000; text-decoration-color: #800000; font-weight: bold\">0.1880</span><span style=\"color: #800000; text-decoration-color: #800000; font-weight: bold\">, </span><span style=\"color: #800000; text-decoration-color: #800000; font-weight: bold\">device</span><span style=\"color: #800000; text-decoration-color: #800000; font-weight: bold\">=</span><span style=\"color: #800000; text-decoration-color: #800000; font-weight: bold\">'cuda:0'</span><span style=\"color: #800000; text-decoration-color: #800000; font-weight: bold\">) computed_loss = tensor(</span><span style=\"color: #800000; text-decoration-color: #800000; font-weight: bold\">0.1848</span><span style=\"color: #800000; text-decoration-color: #800000; font-weight: bold\">, </span><span style=\"color: #800000; text-decoration-color: #800000; font-weight: bold\">device</span><span style=\"color: #800000; text-decoration-color: #800000; font-weight: bold\">=</span><span style=\"color: #800000; text-decoration-color: #800000; font-weight: bold\">'cuda:0'</span><span style=\"color: #800000; text-decoration-color: #800000; font-weight: bold\">, </span>\n",
       "<span style=\"color: #800000; text-decoration-color: #800000; font-weight: bold\">grad_fn</span><span style=\"color: #800000; text-decoration-color: #800000; font-weight: bold\">=&lt;NllLossBackward0&gt;)</span>\n",
       "</pre>\n"
      ],
      "text/plain": [
       "\u001b[1;31mloss = \u001b[0m\u001b[1;31mtensor\u001b[0m\u001b[1;31m(\u001b[0m\u001b[1;31m0.1880\u001b[0m\u001b[1;31m, \u001b[0m\u001b[1;31mdevice\u001b[0m\u001b[1;31m=\u001b[0m\u001b[1;31m'cuda:0'\u001b[0m\u001b[1;31m)\u001b[0m\u001b[1;31m computed_loss = \u001b[0m\u001b[1;31mtensor\u001b[0m\u001b[1;31m(\u001b[0m\u001b[1;31m0.1848\u001b[0m\u001b[1;31m, \u001b[0m\u001b[1;31mdevice\u001b[0m\u001b[1;31m=\u001b[0m\u001b[1;31m'cuda:0'\u001b[0m\u001b[1;31m, \u001b[0m\n",
       "\u001b[1;31mgrad_fn\u001b[0m\u001b[1;31m=\u001b[0m\u001b[1;31m<\u001b[0m\u001b[1;31mNllLossBackward0\u001b[0m\u001b[1;31m>\u001b[0m\u001b[1;31m)\u001b[0m\n"
      ]
     },
     "metadata": {},
     "output_type": "display_data"
    },
    {
     "data": {
      "text/html": [
       "<pre style=\"white-space:pre;overflow-x:auto;line-height:normal;font-family:Menlo,'DejaVu Sans Mono',consolas,'Courier New',monospace\"><span style=\"color: #800000; text-decoration-color: #800000; font-weight: bold\">loss = tensor(</span><span style=\"color: #800000; text-decoration-color: #800000; font-weight: bold\">0.2912</span><span style=\"color: #800000; text-decoration-color: #800000; font-weight: bold\">, </span><span style=\"color: #800000; text-decoration-color: #800000; font-weight: bold\">device</span><span style=\"color: #800000; text-decoration-color: #800000; font-weight: bold\">=</span><span style=\"color: #800000; text-decoration-color: #800000; font-weight: bold\">'cuda:0'</span><span style=\"color: #800000; text-decoration-color: #800000; font-weight: bold\">) computed_loss = tensor(</span><span style=\"color: #800000; text-decoration-color: #800000; font-weight: bold\">0.2984</span><span style=\"color: #800000; text-decoration-color: #800000; font-weight: bold\">, </span><span style=\"color: #800000; text-decoration-color: #800000; font-weight: bold\">device</span><span style=\"color: #800000; text-decoration-color: #800000; font-weight: bold\">=</span><span style=\"color: #800000; text-decoration-color: #800000; font-weight: bold\">'cuda:0'</span><span style=\"color: #800000; text-decoration-color: #800000; font-weight: bold\">, </span>\n",
       "<span style=\"color: #800000; text-decoration-color: #800000; font-weight: bold\">grad_fn</span><span style=\"color: #800000; text-decoration-color: #800000; font-weight: bold\">=&lt;NllLossBackward0&gt;)</span>\n",
       "</pre>\n"
      ],
      "text/plain": [
       "\u001b[1;31mloss = \u001b[0m\u001b[1;31mtensor\u001b[0m\u001b[1;31m(\u001b[0m\u001b[1;31m0.2912\u001b[0m\u001b[1;31m, \u001b[0m\u001b[1;31mdevice\u001b[0m\u001b[1;31m=\u001b[0m\u001b[1;31m'cuda:0'\u001b[0m\u001b[1;31m)\u001b[0m\u001b[1;31m computed_loss = \u001b[0m\u001b[1;31mtensor\u001b[0m\u001b[1;31m(\u001b[0m\u001b[1;31m0.2984\u001b[0m\u001b[1;31m, \u001b[0m\u001b[1;31mdevice\u001b[0m\u001b[1;31m=\u001b[0m\u001b[1;31m'cuda:0'\u001b[0m\u001b[1;31m, \u001b[0m\n",
       "\u001b[1;31mgrad_fn\u001b[0m\u001b[1;31m=\u001b[0m\u001b[1;31m<\u001b[0m\u001b[1;31mNllLossBackward0\u001b[0m\u001b[1;31m>\u001b[0m\u001b[1;31m)\u001b[0m\n"
      ]
     },
     "metadata": {},
     "output_type": "display_data"
    },
    {
     "data": {
      "text/html": [
       "<pre style=\"white-space:pre;overflow-x:auto;line-height:normal;font-family:Menlo,'DejaVu Sans Mono',consolas,'Courier New',monospace\"><span style=\"color: #800000; text-decoration-color: #800000; font-weight: bold\">loss = tensor(</span><span style=\"color: #800000; text-decoration-color: #800000; font-weight: bold\">0.1489</span><span style=\"color: #800000; text-decoration-color: #800000; font-weight: bold\">, </span><span style=\"color: #800000; text-decoration-color: #800000; font-weight: bold\">device</span><span style=\"color: #800000; text-decoration-color: #800000; font-weight: bold\">=</span><span style=\"color: #800000; text-decoration-color: #800000; font-weight: bold\">'cuda:0'</span><span style=\"color: #800000; text-decoration-color: #800000; font-weight: bold\">) computed_loss = tensor(</span><span style=\"color: #800000; text-decoration-color: #800000; font-weight: bold\">0.1460</span><span style=\"color: #800000; text-decoration-color: #800000; font-weight: bold\">, </span><span style=\"color: #800000; text-decoration-color: #800000; font-weight: bold\">device</span><span style=\"color: #800000; text-decoration-color: #800000; font-weight: bold\">=</span><span style=\"color: #800000; text-decoration-color: #800000; font-weight: bold\">'cuda:0'</span><span style=\"color: #800000; text-decoration-color: #800000; font-weight: bold\">, </span>\n",
       "<span style=\"color: #800000; text-decoration-color: #800000; font-weight: bold\">grad_fn</span><span style=\"color: #800000; text-decoration-color: #800000; font-weight: bold\">=&lt;NllLossBackward0&gt;)</span>\n",
       "</pre>\n"
      ],
      "text/plain": [
       "\u001b[1;31mloss = \u001b[0m\u001b[1;31mtensor\u001b[0m\u001b[1;31m(\u001b[0m\u001b[1;31m0.1489\u001b[0m\u001b[1;31m, \u001b[0m\u001b[1;31mdevice\u001b[0m\u001b[1;31m=\u001b[0m\u001b[1;31m'cuda:0'\u001b[0m\u001b[1;31m)\u001b[0m\u001b[1;31m computed_loss = \u001b[0m\u001b[1;31mtensor\u001b[0m\u001b[1;31m(\u001b[0m\u001b[1;31m0.1460\u001b[0m\u001b[1;31m, \u001b[0m\u001b[1;31mdevice\u001b[0m\u001b[1;31m=\u001b[0m\u001b[1;31m'cuda:0'\u001b[0m\u001b[1;31m, \u001b[0m\n",
       "\u001b[1;31mgrad_fn\u001b[0m\u001b[1;31m=\u001b[0m\u001b[1;31m<\u001b[0m\u001b[1;31mNllLossBackward0\u001b[0m\u001b[1;31m>\u001b[0m\u001b[1;31m)\u001b[0m\n"
      ]
     },
     "metadata": {},
     "output_type": "display_data"
    },
    {
     "data": {
      "text/html": [
       "<pre style=\"white-space:pre;overflow-x:auto;line-height:normal;font-family:Menlo,'DejaVu Sans Mono',consolas,'Courier New',monospace\"><span style=\"color: #800000; text-decoration-color: #800000; font-weight: bold\">loss = tensor(</span><span style=\"color: #800000; text-decoration-color: #800000; font-weight: bold\">0.1509</span><span style=\"color: #800000; text-decoration-color: #800000; font-weight: bold\">, </span><span style=\"color: #800000; text-decoration-color: #800000; font-weight: bold\">device</span><span style=\"color: #800000; text-decoration-color: #800000; font-weight: bold\">=</span><span style=\"color: #800000; text-decoration-color: #800000; font-weight: bold\">'cuda:0'</span><span style=\"color: #800000; text-decoration-color: #800000; font-weight: bold\">) computed_loss = tensor(</span><span style=\"color: #800000; text-decoration-color: #800000; font-weight: bold\">0.1526</span><span style=\"color: #800000; text-decoration-color: #800000; font-weight: bold\">, </span><span style=\"color: #800000; text-decoration-color: #800000; font-weight: bold\">device</span><span style=\"color: #800000; text-decoration-color: #800000; font-weight: bold\">=</span><span style=\"color: #800000; text-decoration-color: #800000; font-weight: bold\">'cuda:0'</span><span style=\"color: #800000; text-decoration-color: #800000; font-weight: bold\">, </span>\n",
       "<span style=\"color: #800000; text-decoration-color: #800000; font-weight: bold\">grad_fn</span><span style=\"color: #800000; text-decoration-color: #800000; font-weight: bold\">=&lt;NllLossBackward0&gt;)</span>\n",
       "</pre>\n"
      ],
      "text/plain": [
       "\u001b[1;31mloss = \u001b[0m\u001b[1;31mtensor\u001b[0m\u001b[1;31m(\u001b[0m\u001b[1;31m0.1509\u001b[0m\u001b[1;31m, \u001b[0m\u001b[1;31mdevice\u001b[0m\u001b[1;31m=\u001b[0m\u001b[1;31m'cuda:0'\u001b[0m\u001b[1;31m)\u001b[0m\u001b[1;31m computed_loss = \u001b[0m\u001b[1;31mtensor\u001b[0m\u001b[1;31m(\u001b[0m\u001b[1;31m0.1526\u001b[0m\u001b[1;31m, \u001b[0m\u001b[1;31mdevice\u001b[0m\u001b[1;31m=\u001b[0m\u001b[1;31m'cuda:0'\u001b[0m\u001b[1;31m, \u001b[0m\n",
       "\u001b[1;31mgrad_fn\u001b[0m\u001b[1;31m=\u001b[0m\u001b[1;31m<\u001b[0m\u001b[1;31mNllLossBackward0\u001b[0m\u001b[1;31m>\u001b[0m\u001b[1;31m)\u001b[0m\n"
      ]
     },
     "metadata": {},
     "output_type": "display_data"
    },
    {
     "data": {
      "text/html": [
       "<pre style=\"white-space:pre;overflow-x:auto;line-height:normal;font-family:Menlo,'DejaVu Sans Mono',consolas,'Courier New',monospace\"><span style=\"color: #800000; text-decoration-color: #800000; font-weight: bold\">loss = tensor(</span><span style=\"color: #800000; text-decoration-color: #800000; font-weight: bold\">0.1515</span><span style=\"color: #800000; text-decoration-color: #800000; font-weight: bold\">, </span><span style=\"color: #800000; text-decoration-color: #800000; font-weight: bold\">device</span><span style=\"color: #800000; text-decoration-color: #800000; font-weight: bold\">=</span><span style=\"color: #800000; text-decoration-color: #800000; font-weight: bold\">'cuda:0'</span><span style=\"color: #800000; text-decoration-color: #800000; font-weight: bold\">) computed_loss = tensor(</span><span style=\"color: #800000; text-decoration-color: #800000; font-weight: bold\">0.1479</span><span style=\"color: #800000; text-decoration-color: #800000; font-weight: bold\">, </span><span style=\"color: #800000; text-decoration-color: #800000; font-weight: bold\">device</span><span style=\"color: #800000; text-decoration-color: #800000; font-weight: bold\">=</span><span style=\"color: #800000; text-decoration-color: #800000; font-weight: bold\">'cuda:0'</span><span style=\"color: #800000; text-decoration-color: #800000; font-weight: bold\">, </span>\n",
       "<span style=\"color: #800000; text-decoration-color: #800000; font-weight: bold\">grad_fn</span><span style=\"color: #800000; text-decoration-color: #800000; font-weight: bold\">=&lt;NllLossBackward0&gt;)</span>\n",
       "</pre>\n"
      ],
      "text/plain": [
       "\u001b[1;31mloss = \u001b[0m\u001b[1;31mtensor\u001b[0m\u001b[1;31m(\u001b[0m\u001b[1;31m0.1515\u001b[0m\u001b[1;31m, \u001b[0m\u001b[1;31mdevice\u001b[0m\u001b[1;31m=\u001b[0m\u001b[1;31m'cuda:0'\u001b[0m\u001b[1;31m)\u001b[0m\u001b[1;31m computed_loss = \u001b[0m\u001b[1;31mtensor\u001b[0m\u001b[1;31m(\u001b[0m\u001b[1;31m0.1479\u001b[0m\u001b[1;31m, \u001b[0m\u001b[1;31mdevice\u001b[0m\u001b[1;31m=\u001b[0m\u001b[1;31m'cuda:0'\u001b[0m\u001b[1;31m, \u001b[0m\n",
       "\u001b[1;31mgrad_fn\u001b[0m\u001b[1;31m=\u001b[0m\u001b[1;31m<\u001b[0m\u001b[1;31mNllLossBackward0\u001b[0m\u001b[1;31m>\u001b[0m\u001b[1;31m)\u001b[0m\n"
      ]
     },
     "metadata": {},
     "output_type": "display_data"
    },
    {
     "data": {
      "text/html": [
       "<pre style=\"white-space:pre;overflow-x:auto;line-height:normal;font-family:Menlo,'DejaVu Sans Mono',consolas,'Courier New',monospace\"><span style=\"color: #800000; text-decoration-color: #800000; font-weight: bold\">loss = tensor(</span><span style=\"color: #800000; text-decoration-color: #800000; font-weight: bold\">0.1123</span><span style=\"color: #800000; text-decoration-color: #800000; font-weight: bold\">, </span><span style=\"color: #800000; text-decoration-color: #800000; font-weight: bold\">device</span><span style=\"color: #800000; text-decoration-color: #800000; font-weight: bold\">=</span><span style=\"color: #800000; text-decoration-color: #800000; font-weight: bold\">'cuda:0'</span><span style=\"color: #800000; text-decoration-color: #800000; font-weight: bold\">) computed_loss = tensor(</span><span style=\"color: #800000; text-decoration-color: #800000; font-weight: bold\">0.1126</span><span style=\"color: #800000; text-decoration-color: #800000; font-weight: bold\">, </span><span style=\"color: #800000; text-decoration-color: #800000; font-weight: bold\">device</span><span style=\"color: #800000; text-decoration-color: #800000; font-weight: bold\">=</span><span style=\"color: #800000; text-decoration-color: #800000; font-weight: bold\">'cuda:0'</span><span style=\"color: #800000; text-decoration-color: #800000; font-weight: bold\">, </span>\n",
       "<span style=\"color: #800000; text-decoration-color: #800000; font-weight: bold\">grad_fn</span><span style=\"color: #800000; text-decoration-color: #800000; font-weight: bold\">=&lt;NllLossBackward0&gt;)</span>\n",
       "</pre>\n"
      ],
      "text/plain": [
       "\u001b[1;31mloss = \u001b[0m\u001b[1;31mtensor\u001b[0m\u001b[1;31m(\u001b[0m\u001b[1;31m0.1123\u001b[0m\u001b[1;31m, \u001b[0m\u001b[1;31mdevice\u001b[0m\u001b[1;31m=\u001b[0m\u001b[1;31m'cuda:0'\u001b[0m\u001b[1;31m)\u001b[0m\u001b[1;31m computed_loss = \u001b[0m\u001b[1;31mtensor\u001b[0m\u001b[1;31m(\u001b[0m\u001b[1;31m0.1126\u001b[0m\u001b[1;31m, \u001b[0m\u001b[1;31mdevice\u001b[0m\u001b[1;31m=\u001b[0m\u001b[1;31m'cuda:0'\u001b[0m\u001b[1;31m, \u001b[0m\n",
       "\u001b[1;31mgrad_fn\u001b[0m\u001b[1;31m=\u001b[0m\u001b[1;31m<\u001b[0m\u001b[1;31mNllLossBackward0\u001b[0m\u001b[1;31m>\u001b[0m\u001b[1;31m)\u001b[0m\n"
      ]
     },
     "metadata": {},
     "output_type": "display_data"
    },
    {
     "data": {
      "text/html": [
       "<pre style=\"white-space:pre;overflow-x:auto;line-height:normal;font-family:Menlo,'DejaVu Sans Mono',consolas,'Courier New',monospace\"><span style=\"color: #800000; text-decoration-color: #800000; font-weight: bold\">loss = tensor(</span><span style=\"color: #800000; text-decoration-color: #800000; font-weight: bold\">0.3032</span><span style=\"color: #800000; text-decoration-color: #800000; font-weight: bold\">, </span><span style=\"color: #800000; text-decoration-color: #800000; font-weight: bold\">device</span><span style=\"color: #800000; text-decoration-color: #800000; font-weight: bold\">=</span><span style=\"color: #800000; text-decoration-color: #800000; font-weight: bold\">'cuda:0'</span><span style=\"color: #800000; text-decoration-color: #800000; font-weight: bold\">) computed_loss = tensor(</span><span style=\"color: #800000; text-decoration-color: #800000; font-weight: bold\">0.3134</span><span style=\"color: #800000; text-decoration-color: #800000; font-weight: bold\">, </span><span style=\"color: #800000; text-decoration-color: #800000; font-weight: bold\">device</span><span style=\"color: #800000; text-decoration-color: #800000; font-weight: bold\">=</span><span style=\"color: #800000; text-decoration-color: #800000; font-weight: bold\">'cuda:0'</span><span style=\"color: #800000; text-decoration-color: #800000; font-weight: bold\">, </span>\n",
       "<span style=\"color: #800000; text-decoration-color: #800000; font-weight: bold\">grad_fn</span><span style=\"color: #800000; text-decoration-color: #800000; font-weight: bold\">=&lt;NllLossBackward0&gt;)</span>\n",
       "</pre>\n"
      ],
      "text/plain": [
       "\u001b[1;31mloss = \u001b[0m\u001b[1;31mtensor\u001b[0m\u001b[1;31m(\u001b[0m\u001b[1;31m0.3032\u001b[0m\u001b[1;31m, \u001b[0m\u001b[1;31mdevice\u001b[0m\u001b[1;31m=\u001b[0m\u001b[1;31m'cuda:0'\u001b[0m\u001b[1;31m)\u001b[0m\u001b[1;31m computed_loss = \u001b[0m\u001b[1;31mtensor\u001b[0m\u001b[1;31m(\u001b[0m\u001b[1;31m0.3134\u001b[0m\u001b[1;31m, \u001b[0m\u001b[1;31mdevice\u001b[0m\u001b[1;31m=\u001b[0m\u001b[1;31m'cuda:0'\u001b[0m\u001b[1;31m, \u001b[0m\n",
       "\u001b[1;31mgrad_fn\u001b[0m\u001b[1;31m=\u001b[0m\u001b[1;31m<\u001b[0m\u001b[1;31mNllLossBackward0\u001b[0m\u001b[1;31m>\u001b[0m\u001b[1;31m)\u001b[0m\n"
      ]
     },
     "metadata": {},
     "output_type": "display_data"
    },
    {
     "data": {
      "text/html": [
       "<pre style=\"white-space:pre;overflow-x:auto;line-height:normal;font-family:Menlo,'DejaVu Sans Mono',consolas,'Courier New',monospace\"><span style=\"color: #800000; text-decoration-color: #800000; font-weight: bold\">loss = tensor(</span><span style=\"color: #800000; text-decoration-color: #800000; font-weight: bold\">0.0964</span><span style=\"color: #800000; text-decoration-color: #800000; font-weight: bold\">, </span><span style=\"color: #800000; text-decoration-color: #800000; font-weight: bold\">device</span><span style=\"color: #800000; text-decoration-color: #800000; font-weight: bold\">=</span><span style=\"color: #800000; text-decoration-color: #800000; font-weight: bold\">'cuda:0'</span><span style=\"color: #800000; text-decoration-color: #800000; font-weight: bold\">) computed_loss = tensor(</span><span style=\"color: #800000; text-decoration-color: #800000; font-weight: bold\">0.0951</span><span style=\"color: #800000; text-decoration-color: #800000; font-weight: bold\">, </span><span style=\"color: #800000; text-decoration-color: #800000; font-weight: bold\">device</span><span style=\"color: #800000; text-decoration-color: #800000; font-weight: bold\">=</span><span style=\"color: #800000; text-decoration-color: #800000; font-weight: bold\">'cuda:0'</span><span style=\"color: #800000; text-decoration-color: #800000; font-weight: bold\">, </span>\n",
       "<span style=\"color: #800000; text-decoration-color: #800000; font-weight: bold\">grad_fn</span><span style=\"color: #800000; text-decoration-color: #800000; font-weight: bold\">=&lt;NllLossBackward0&gt;)</span>\n",
       "</pre>\n"
      ],
      "text/plain": [
       "\u001b[1;31mloss = \u001b[0m\u001b[1;31mtensor\u001b[0m\u001b[1;31m(\u001b[0m\u001b[1;31m0.0964\u001b[0m\u001b[1;31m, \u001b[0m\u001b[1;31mdevice\u001b[0m\u001b[1;31m=\u001b[0m\u001b[1;31m'cuda:0'\u001b[0m\u001b[1;31m)\u001b[0m\u001b[1;31m computed_loss = \u001b[0m\u001b[1;31mtensor\u001b[0m\u001b[1;31m(\u001b[0m\u001b[1;31m0.0951\u001b[0m\u001b[1;31m, \u001b[0m\u001b[1;31mdevice\u001b[0m\u001b[1;31m=\u001b[0m\u001b[1;31m'cuda:0'\u001b[0m\u001b[1;31m, \u001b[0m\n",
       "\u001b[1;31mgrad_fn\u001b[0m\u001b[1;31m=\u001b[0m\u001b[1;31m<\u001b[0m\u001b[1;31mNllLossBackward0\u001b[0m\u001b[1;31m>\u001b[0m\u001b[1;31m)\u001b[0m\n"
      ]
     },
     "metadata": {},
     "output_type": "display_data"
    },
    {
     "data": {
      "text/html": [
       "<pre style=\"white-space:pre;overflow-x:auto;line-height:normal;font-family:Menlo,'DejaVu Sans Mono',consolas,'Courier New',monospace\"><span style=\"color: #800000; text-decoration-color: #800000; font-weight: bold\">loss = tensor(</span><span style=\"color: #800000; text-decoration-color: #800000; font-weight: bold\">0.1733</span><span style=\"color: #800000; text-decoration-color: #800000; font-weight: bold\">, </span><span style=\"color: #800000; text-decoration-color: #800000; font-weight: bold\">device</span><span style=\"color: #800000; text-decoration-color: #800000; font-weight: bold\">=</span><span style=\"color: #800000; text-decoration-color: #800000; font-weight: bold\">'cuda:0'</span><span style=\"color: #800000; text-decoration-color: #800000; font-weight: bold\">) computed_loss = tensor(</span><span style=\"color: #800000; text-decoration-color: #800000; font-weight: bold\">0.1750</span><span style=\"color: #800000; text-decoration-color: #800000; font-weight: bold\">, </span><span style=\"color: #800000; text-decoration-color: #800000; font-weight: bold\">device</span><span style=\"color: #800000; text-decoration-color: #800000; font-weight: bold\">=</span><span style=\"color: #800000; text-decoration-color: #800000; font-weight: bold\">'cuda:0'</span><span style=\"color: #800000; text-decoration-color: #800000; font-weight: bold\">, </span>\n",
       "<span style=\"color: #800000; text-decoration-color: #800000; font-weight: bold\">grad_fn</span><span style=\"color: #800000; text-decoration-color: #800000; font-weight: bold\">=&lt;NllLossBackward0&gt;)</span>\n",
       "</pre>\n"
      ],
      "text/plain": [
       "\u001b[1;31mloss = \u001b[0m\u001b[1;31mtensor\u001b[0m\u001b[1;31m(\u001b[0m\u001b[1;31m0.1733\u001b[0m\u001b[1;31m, \u001b[0m\u001b[1;31mdevice\u001b[0m\u001b[1;31m=\u001b[0m\u001b[1;31m'cuda:0'\u001b[0m\u001b[1;31m)\u001b[0m\u001b[1;31m computed_loss = \u001b[0m\u001b[1;31mtensor\u001b[0m\u001b[1;31m(\u001b[0m\u001b[1;31m0.1750\u001b[0m\u001b[1;31m, \u001b[0m\u001b[1;31mdevice\u001b[0m\u001b[1;31m=\u001b[0m\u001b[1;31m'cuda:0'\u001b[0m\u001b[1;31m, \u001b[0m\n",
       "\u001b[1;31mgrad_fn\u001b[0m\u001b[1;31m=\u001b[0m\u001b[1;31m<\u001b[0m\u001b[1;31mNllLossBackward0\u001b[0m\u001b[1;31m>\u001b[0m\u001b[1;31m)\u001b[0m\n"
      ]
     },
     "metadata": {},
     "output_type": "display_data"
    },
    {
     "data": {
      "text/html": [
       "<pre style=\"white-space:pre;overflow-x:auto;line-height:normal;font-family:Menlo,'DejaVu Sans Mono',consolas,'Courier New',monospace\"><span style=\"color: #800000; text-decoration-color: #800000; font-weight: bold\">loss = tensor(</span><span style=\"color: #800000; text-decoration-color: #800000; font-weight: bold\">0.2608</span><span style=\"color: #800000; text-decoration-color: #800000; font-weight: bold\">, </span><span style=\"color: #800000; text-decoration-color: #800000; font-weight: bold\">device</span><span style=\"color: #800000; text-decoration-color: #800000; font-weight: bold\">=</span><span style=\"color: #800000; text-decoration-color: #800000; font-weight: bold\">'cuda:0'</span><span style=\"color: #800000; text-decoration-color: #800000; font-weight: bold\">) computed_loss = tensor(</span><span style=\"color: #800000; text-decoration-color: #800000; font-weight: bold\">0.2464</span><span style=\"color: #800000; text-decoration-color: #800000; font-weight: bold\">, </span><span style=\"color: #800000; text-decoration-color: #800000; font-weight: bold\">device</span><span style=\"color: #800000; text-decoration-color: #800000; font-weight: bold\">=</span><span style=\"color: #800000; text-decoration-color: #800000; font-weight: bold\">'cuda:0'</span><span style=\"color: #800000; text-decoration-color: #800000; font-weight: bold\">, </span>\n",
       "<span style=\"color: #800000; text-decoration-color: #800000; font-weight: bold\">grad_fn</span><span style=\"color: #800000; text-decoration-color: #800000; font-weight: bold\">=&lt;NllLossBackward0&gt;)</span>\n",
       "</pre>\n"
      ],
      "text/plain": [
       "\u001b[1;31mloss = \u001b[0m\u001b[1;31mtensor\u001b[0m\u001b[1;31m(\u001b[0m\u001b[1;31m0.2608\u001b[0m\u001b[1;31m, \u001b[0m\u001b[1;31mdevice\u001b[0m\u001b[1;31m=\u001b[0m\u001b[1;31m'cuda:0'\u001b[0m\u001b[1;31m)\u001b[0m\u001b[1;31m computed_loss = \u001b[0m\u001b[1;31mtensor\u001b[0m\u001b[1;31m(\u001b[0m\u001b[1;31m0.2464\u001b[0m\u001b[1;31m, \u001b[0m\u001b[1;31mdevice\u001b[0m\u001b[1;31m=\u001b[0m\u001b[1;31m'cuda:0'\u001b[0m\u001b[1;31m, \u001b[0m\n",
       "\u001b[1;31mgrad_fn\u001b[0m\u001b[1;31m=\u001b[0m\u001b[1;31m<\u001b[0m\u001b[1;31mNllLossBackward0\u001b[0m\u001b[1;31m>\u001b[0m\u001b[1;31m)\u001b[0m\n"
      ]
     },
     "metadata": {},
     "output_type": "display_data"
    },
    {
     "data": {
      "text/html": [
       "<pre style=\"white-space:pre;overflow-x:auto;line-height:normal;font-family:Menlo,'DejaVu Sans Mono',consolas,'Courier New',monospace\"><span style=\"color: #800000; text-decoration-color: #800000; font-weight: bold\">loss = tensor(</span><span style=\"color: #800000; text-decoration-color: #800000; font-weight: bold\">0.1383</span><span style=\"color: #800000; text-decoration-color: #800000; font-weight: bold\">, </span><span style=\"color: #800000; text-decoration-color: #800000; font-weight: bold\">device</span><span style=\"color: #800000; text-decoration-color: #800000; font-weight: bold\">=</span><span style=\"color: #800000; text-decoration-color: #800000; font-weight: bold\">'cuda:0'</span><span style=\"color: #800000; text-decoration-color: #800000; font-weight: bold\">) computed_loss = tensor(</span><span style=\"color: #800000; text-decoration-color: #800000; font-weight: bold\">0.1388</span><span style=\"color: #800000; text-decoration-color: #800000; font-weight: bold\">, </span><span style=\"color: #800000; text-decoration-color: #800000; font-weight: bold\">device</span><span style=\"color: #800000; text-decoration-color: #800000; font-weight: bold\">=</span><span style=\"color: #800000; text-decoration-color: #800000; font-weight: bold\">'cuda:0'</span><span style=\"color: #800000; text-decoration-color: #800000; font-weight: bold\">, </span>\n",
       "<span style=\"color: #800000; text-decoration-color: #800000; font-weight: bold\">grad_fn</span><span style=\"color: #800000; text-decoration-color: #800000; font-weight: bold\">=&lt;NllLossBackward0&gt;)</span>\n",
       "</pre>\n"
      ],
      "text/plain": [
       "\u001b[1;31mloss = \u001b[0m\u001b[1;31mtensor\u001b[0m\u001b[1;31m(\u001b[0m\u001b[1;31m0.1383\u001b[0m\u001b[1;31m, \u001b[0m\u001b[1;31mdevice\u001b[0m\u001b[1;31m=\u001b[0m\u001b[1;31m'cuda:0'\u001b[0m\u001b[1;31m)\u001b[0m\u001b[1;31m computed_loss = \u001b[0m\u001b[1;31mtensor\u001b[0m\u001b[1;31m(\u001b[0m\u001b[1;31m0.1388\u001b[0m\u001b[1;31m, \u001b[0m\u001b[1;31mdevice\u001b[0m\u001b[1;31m=\u001b[0m\u001b[1;31m'cuda:0'\u001b[0m\u001b[1;31m, \u001b[0m\n",
       "\u001b[1;31mgrad_fn\u001b[0m\u001b[1;31m=\u001b[0m\u001b[1;31m<\u001b[0m\u001b[1;31mNllLossBackward0\u001b[0m\u001b[1;31m>\u001b[0m\u001b[1;31m)\u001b[0m\n"
      ]
     },
     "metadata": {},
     "output_type": "display_data"
    },
    {
     "data": {
      "text/html": [
       "<pre style=\"white-space:pre;overflow-x:auto;line-height:normal;font-family:Menlo,'DejaVu Sans Mono',consolas,'Courier New',monospace\"><span style=\"color: #800000; text-decoration-color: #800000; font-weight: bold\">loss = tensor(</span><span style=\"color: #800000; text-decoration-color: #800000; font-weight: bold\">0.1402</span><span style=\"color: #800000; text-decoration-color: #800000; font-weight: bold\">, </span><span style=\"color: #800000; text-decoration-color: #800000; font-weight: bold\">device</span><span style=\"color: #800000; text-decoration-color: #800000; font-weight: bold\">=</span><span style=\"color: #800000; text-decoration-color: #800000; font-weight: bold\">'cuda:0'</span><span style=\"color: #800000; text-decoration-color: #800000; font-weight: bold\">) computed_loss = tensor(</span><span style=\"color: #800000; text-decoration-color: #800000; font-weight: bold\">0.1425</span><span style=\"color: #800000; text-decoration-color: #800000; font-weight: bold\">, </span><span style=\"color: #800000; text-decoration-color: #800000; font-weight: bold\">device</span><span style=\"color: #800000; text-decoration-color: #800000; font-weight: bold\">=</span><span style=\"color: #800000; text-decoration-color: #800000; font-weight: bold\">'cuda:0'</span><span style=\"color: #800000; text-decoration-color: #800000; font-weight: bold\">, </span>\n",
       "<span style=\"color: #800000; text-decoration-color: #800000; font-weight: bold\">grad_fn</span><span style=\"color: #800000; text-decoration-color: #800000; font-weight: bold\">=&lt;NllLossBackward0&gt;)</span>\n",
       "</pre>\n"
      ],
      "text/plain": [
       "\u001b[1;31mloss = \u001b[0m\u001b[1;31mtensor\u001b[0m\u001b[1;31m(\u001b[0m\u001b[1;31m0.1402\u001b[0m\u001b[1;31m, \u001b[0m\u001b[1;31mdevice\u001b[0m\u001b[1;31m=\u001b[0m\u001b[1;31m'cuda:0'\u001b[0m\u001b[1;31m)\u001b[0m\u001b[1;31m computed_loss = \u001b[0m\u001b[1;31mtensor\u001b[0m\u001b[1;31m(\u001b[0m\u001b[1;31m0.1425\u001b[0m\u001b[1;31m, \u001b[0m\u001b[1;31mdevice\u001b[0m\u001b[1;31m=\u001b[0m\u001b[1;31m'cuda:0'\u001b[0m\u001b[1;31m, \u001b[0m\n",
       "\u001b[1;31mgrad_fn\u001b[0m\u001b[1;31m=\u001b[0m\u001b[1;31m<\u001b[0m\u001b[1;31mNllLossBackward0\u001b[0m\u001b[1;31m>\u001b[0m\u001b[1;31m)\u001b[0m\n"
      ]
     },
     "metadata": {},
     "output_type": "display_data"
    },
    {
     "data": {
      "text/html": [
       "<pre style=\"white-space:pre;overflow-x:auto;line-height:normal;font-family:Menlo,'DejaVu Sans Mono',consolas,'Courier New',monospace\"><span style=\"color: #800000; text-decoration-color: #800000; font-weight: bold\">loss = tensor(</span><span style=\"color: #800000; text-decoration-color: #800000; font-weight: bold\">0.2195</span><span style=\"color: #800000; text-decoration-color: #800000; font-weight: bold\">, </span><span style=\"color: #800000; text-decoration-color: #800000; font-weight: bold\">device</span><span style=\"color: #800000; text-decoration-color: #800000; font-weight: bold\">=</span><span style=\"color: #800000; text-decoration-color: #800000; font-weight: bold\">'cuda:0'</span><span style=\"color: #800000; text-decoration-color: #800000; font-weight: bold\">) computed_loss = tensor(</span><span style=\"color: #800000; text-decoration-color: #800000; font-weight: bold\">0.2203</span><span style=\"color: #800000; text-decoration-color: #800000; font-weight: bold\">, </span><span style=\"color: #800000; text-decoration-color: #800000; font-weight: bold\">device</span><span style=\"color: #800000; text-decoration-color: #800000; font-weight: bold\">=</span><span style=\"color: #800000; text-decoration-color: #800000; font-weight: bold\">'cuda:0'</span><span style=\"color: #800000; text-decoration-color: #800000; font-weight: bold\">, </span>\n",
       "<span style=\"color: #800000; text-decoration-color: #800000; font-weight: bold\">grad_fn</span><span style=\"color: #800000; text-decoration-color: #800000; font-weight: bold\">=&lt;NllLossBackward0&gt;)</span>\n",
       "</pre>\n"
      ],
      "text/plain": [
       "\u001b[1;31mloss = \u001b[0m\u001b[1;31mtensor\u001b[0m\u001b[1;31m(\u001b[0m\u001b[1;31m0.2195\u001b[0m\u001b[1;31m, \u001b[0m\u001b[1;31mdevice\u001b[0m\u001b[1;31m=\u001b[0m\u001b[1;31m'cuda:0'\u001b[0m\u001b[1;31m)\u001b[0m\u001b[1;31m computed_loss = \u001b[0m\u001b[1;31mtensor\u001b[0m\u001b[1;31m(\u001b[0m\u001b[1;31m0.2203\u001b[0m\u001b[1;31m, \u001b[0m\u001b[1;31mdevice\u001b[0m\u001b[1;31m=\u001b[0m\u001b[1;31m'cuda:0'\u001b[0m\u001b[1;31m, \u001b[0m\n",
       "\u001b[1;31mgrad_fn\u001b[0m\u001b[1;31m=\u001b[0m\u001b[1;31m<\u001b[0m\u001b[1;31mNllLossBackward0\u001b[0m\u001b[1;31m>\u001b[0m\u001b[1;31m)\u001b[0m\n"
      ]
     },
     "metadata": {},
     "output_type": "display_data"
    },
    {
     "data": {
      "text/html": [
       "<pre style=\"white-space:pre;overflow-x:auto;line-height:normal;font-family:Menlo,'DejaVu Sans Mono',consolas,'Courier New',monospace\"><span style=\"color: #800000; text-decoration-color: #800000; font-weight: bold\">loss = tensor(</span><span style=\"color: #800000; text-decoration-color: #800000; font-weight: bold\">0.1258</span><span style=\"color: #800000; text-decoration-color: #800000; font-weight: bold\">, </span><span style=\"color: #800000; text-decoration-color: #800000; font-weight: bold\">device</span><span style=\"color: #800000; text-decoration-color: #800000; font-weight: bold\">=</span><span style=\"color: #800000; text-decoration-color: #800000; font-weight: bold\">'cuda:0'</span><span style=\"color: #800000; text-decoration-color: #800000; font-weight: bold\">) computed_loss = tensor(</span><span style=\"color: #800000; text-decoration-color: #800000; font-weight: bold\">0.1272</span><span style=\"color: #800000; text-decoration-color: #800000; font-weight: bold\">, </span><span style=\"color: #800000; text-decoration-color: #800000; font-weight: bold\">device</span><span style=\"color: #800000; text-decoration-color: #800000; font-weight: bold\">=</span><span style=\"color: #800000; text-decoration-color: #800000; font-weight: bold\">'cuda:0'</span><span style=\"color: #800000; text-decoration-color: #800000; font-weight: bold\">, </span>\n",
       "<span style=\"color: #800000; text-decoration-color: #800000; font-weight: bold\">grad_fn</span><span style=\"color: #800000; text-decoration-color: #800000; font-weight: bold\">=&lt;NllLossBackward0&gt;)</span>\n",
       "</pre>\n"
      ],
      "text/plain": [
       "\u001b[1;31mloss = \u001b[0m\u001b[1;31mtensor\u001b[0m\u001b[1;31m(\u001b[0m\u001b[1;31m0.1258\u001b[0m\u001b[1;31m, \u001b[0m\u001b[1;31mdevice\u001b[0m\u001b[1;31m=\u001b[0m\u001b[1;31m'cuda:0'\u001b[0m\u001b[1;31m)\u001b[0m\u001b[1;31m computed_loss = \u001b[0m\u001b[1;31mtensor\u001b[0m\u001b[1;31m(\u001b[0m\u001b[1;31m0.1272\u001b[0m\u001b[1;31m, \u001b[0m\u001b[1;31mdevice\u001b[0m\u001b[1;31m=\u001b[0m\u001b[1;31m'cuda:0'\u001b[0m\u001b[1;31m, \u001b[0m\n",
       "\u001b[1;31mgrad_fn\u001b[0m\u001b[1;31m=\u001b[0m\u001b[1;31m<\u001b[0m\u001b[1;31mNllLossBackward0\u001b[0m\u001b[1;31m>\u001b[0m\u001b[1;31m)\u001b[0m\n"
      ]
     },
     "metadata": {},
     "output_type": "display_data"
    },
    {
     "data": {
      "text/html": [
       "<pre style=\"white-space:pre;overflow-x:auto;line-height:normal;font-family:Menlo,'DejaVu Sans Mono',consolas,'Courier New',monospace\"><span style=\"color: #800000; text-decoration-color: #800000; font-weight: bold\">loss = tensor(</span><span style=\"color: #800000; text-decoration-color: #800000; font-weight: bold\">0.2545</span><span style=\"color: #800000; text-decoration-color: #800000; font-weight: bold\">, </span><span style=\"color: #800000; text-decoration-color: #800000; font-weight: bold\">device</span><span style=\"color: #800000; text-decoration-color: #800000; font-weight: bold\">=</span><span style=\"color: #800000; text-decoration-color: #800000; font-weight: bold\">'cuda:0'</span><span style=\"color: #800000; text-decoration-color: #800000; font-weight: bold\">) computed_loss = tensor(</span><span style=\"color: #800000; text-decoration-color: #800000; font-weight: bold\">0.2653</span><span style=\"color: #800000; text-decoration-color: #800000; font-weight: bold\">, </span><span style=\"color: #800000; text-decoration-color: #800000; font-weight: bold\">device</span><span style=\"color: #800000; text-decoration-color: #800000; font-weight: bold\">=</span><span style=\"color: #800000; text-decoration-color: #800000; font-weight: bold\">'cuda:0'</span><span style=\"color: #800000; text-decoration-color: #800000; font-weight: bold\">, </span>\n",
       "<span style=\"color: #800000; text-decoration-color: #800000; font-weight: bold\">grad_fn</span><span style=\"color: #800000; text-decoration-color: #800000; font-weight: bold\">=&lt;NllLossBackward0&gt;)</span>\n",
       "</pre>\n"
      ],
      "text/plain": [
       "\u001b[1;31mloss = \u001b[0m\u001b[1;31mtensor\u001b[0m\u001b[1;31m(\u001b[0m\u001b[1;31m0.2545\u001b[0m\u001b[1;31m, \u001b[0m\u001b[1;31mdevice\u001b[0m\u001b[1;31m=\u001b[0m\u001b[1;31m'cuda:0'\u001b[0m\u001b[1;31m)\u001b[0m\u001b[1;31m computed_loss = \u001b[0m\u001b[1;31mtensor\u001b[0m\u001b[1;31m(\u001b[0m\u001b[1;31m0.2653\u001b[0m\u001b[1;31m, \u001b[0m\u001b[1;31mdevice\u001b[0m\u001b[1;31m=\u001b[0m\u001b[1;31m'cuda:0'\u001b[0m\u001b[1;31m, \u001b[0m\n",
       "\u001b[1;31mgrad_fn\u001b[0m\u001b[1;31m=\u001b[0m\u001b[1;31m<\u001b[0m\u001b[1;31mNllLossBackward0\u001b[0m\u001b[1;31m>\u001b[0m\u001b[1;31m)\u001b[0m\n"
      ]
     },
     "metadata": {},
     "output_type": "display_data"
    },
    {
     "data": {
      "text/html": [
       "<pre style=\"white-space:pre;overflow-x:auto;line-height:normal;font-family:Menlo,'DejaVu Sans Mono',consolas,'Courier New',monospace\"><span style=\"color: #800000; text-decoration-color: #800000; font-weight: bold\">loss = tensor(</span><span style=\"color: #800000; text-decoration-color: #800000; font-weight: bold\">0.2609</span><span style=\"color: #800000; text-decoration-color: #800000; font-weight: bold\">, </span><span style=\"color: #800000; text-decoration-color: #800000; font-weight: bold\">device</span><span style=\"color: #800000; text-decoration-color: #800000; font-weight: bold\">=</span><span style=\"color: #800000; text-decoration-color: #800000; font-weight: bold\">'cuda:0'</span><span style=\"color: #800000; text-decoration-color: #800000; font-weight: bold\">) computed_loss = tensor(</span><span style=\"color: #800000; text-decoration-color: #800000; font-weight: bold\">0.2393</span><span style=\"color: #800000; text-decoration-color: #800000; font-weight: bold\">, </span><span style=\"color: #800000; text-decoration-color: #800000; font-weight: bold\">device</span><span style=\"color: #800000; text-decoration-color: #800000; font-weight: bold\">=</span><span style=\"color: #800000; text-decoration-color: #800000; font-weight: bold\">'cuda:0'</span><span style=\"color: #800000; text-decoration-color: #800000; font-weight: bold\">, </span>\n",
       "<span style=\"color: #800000; text-decoration-color: #800000; font-weight: bold\">grad_fn</span><span style=\"color: #800000; text-decoration-color: #800000; font-weight: bold\">=&lt;NllLossBackward0&gt;)</span>\n",
       "</pre>\n"
      ],
      "text/plain": [
       "\u001b[1;31mloss = \u001b[0m\u001b[1;31mtensor\u001b[0m\u001b[1;31m(\u001b[0m\u001b[1;31m0.2609\u001b[0m\u001b[1;31m, \u001b[0m\u001b[1;31mdevice\u001b[0m\u001b[1;31m=\u001b[0m\u001b[1;31m'cuda:0'\u001b[0m\u001b[1;31m)\u001b[0m\u001b[1;31m computed_loss = \u001b[0m\u001b[1;31mtensor\u001b[0m\u001b[1;31m(\u001b[0m\u001b[1;31m0.2393\u001b[0m\u001b[1;31m, \u001b[0m\u001b[1;31mdevice\u001b[0m\u001b[1;31m=\u001b[0m\u001b[1;31m'cuda:0'\u001b[0m\u001b[1;31m, \u001b[0m\n",
       "\u001b[1;31mgrad_fn\u001b[0m\u001b[1;31m=\u001b[0m\u001b[1;31m<\u001b[0m\u001b[1;31mNllLossBackward0\u001b[0m\u001b[1;31m>\u001b[0m\u001b[1;31m)\u001b[0m\n"
      ]
     },
     "metadata": {},
     "output_type": "display_data"
    },
    {
     "data": {
      "text/html": [
       "<pre style=\"white-space:pre;overflow-x:auto;line-height:normal;font-family:Menlo,'DejaVu Sans Mono',consolas,'Courier New',monospace\"><span style=\"color: #800000; text-decoration-color: #800000; font-weight: bold\">loss = tensor(</span><span style=\"color: #800000; text-decoration-color: #800000; font-weight: bold\">0.0422</span><span style=\"color: #800000; text-decoration-color: #800000; font-weight: bold\">, </span><span style=\"color: #800000; text-decoration-color: #800000; font-weight: bold\">device</span><span style=\"color: #800000; text-decoration-color: #800000; font-weight: bold\">=</span><span style=\"color: #800000; text-decoration-color: #800000; font-weight: bold\">'cuda:0'</span><span style=\"color: #800000; text-decoration-color: #800000; font-weight: bold\">) computed_loss = tensor(</span><span style=\"color: #800000; text-decoration-color: #800000; font-weight: bold\">0.0412</span><span style=\"color: #800000; text-decoration-color: #800000; font-weight: bold\">, </span><span style=\"color: #800000; text-decoration-color: #800000; font-weight: bold\">device</span><span style=\"color: #800000; text-decoration-color: #800000; font-weight: bold\">=</span><span style=\"color: #800000; text-decoration-color: #800000; font-weight: bold\">'cuda:0'</span><span style=\"color: #800000; text-decoration-color: #800000; font-weight: bold\">, </span>\n",
       "<span style=\"color: #800000; text-decoration-color: #800000; font-weight: bold\">grad_fn</span><span style=\"color: #800000; text-decoration-color: #800000; font-weight: bold\">=&lt;NllLossBackward0&gt;)</span>\n",
       "</pre>\n"
      ],
      "text/plain": [
       "\u001b[1;31mloss = \u001b[0m\u001b[1;31mtensor\u001b[0m\u001b[1;31m(\u001b[0m\u001b[1;31m0.0422\u001b[0m\u001b[1;31m, \u001b[0m\u001b[1;31mdevice\u001b[0m\u001b[1;31m=\u001b[0m\u001b[1;31m'cuda:0'\u001b[0m\u001b[1;31m)\u001b[0m\u001b[1;31m computed_loss = \u001b[0m\u001b[1;31mtensor\u001b[0m\u001b[1;31m(\u001b[0m\u001b[1;31m0.0412\u001b[0m\u001b[1;31m, \u001b[0m\u001b[1;31mdevice\u001b[0m\u001b[1;31m=\u001b[0m\u001b[1;31m'cuda:0'\u001b[0m\u001b[1;31m, \u001b[0m\n",
       "\u001b[1;31mgrad_fn\u001b[0m\u001b[1;31m=\u001b[0m\u001b[1;31m<\u001b[0m\u001b[1;31mNllLossBackward0\u001b[0m\u001b[1;31m>\u001b[0m\u001b[1;31m)\u001b[0m\n"
      ]
     },
     "metadata": {},
     "output_type": "display_data"
    },
    {
     "data": {
      "text/html": [
       "<pre style=\"white-space:pre;overflow-x:auto;line-height:normal;font-family:Menlo,'DejaVu Sans Mono',consolas,'Courier New',monospace\"><span style=\"color: #800000; text-decoration-color: #800000; font-weight: bold\">loss = tensor(</span><span style=\"color: #800000; text-decoration-color: #800000; font-weight: bold\">0.2460</span><span style=\"color: #800000; text-decoration-color: #800000; font-weight: bold\">, </span><span style=\"color: #800000; text-decoration-color: #800000; font-weight: bold\">device</span><span style=\"color: #800000; text-decoration-color: #800000; font-weight: bold\">=</span><span style=\"color: #800000; text-decoration-color: #800000; font-weight: bold\">'cuda:0'</span><span style=\"color: #800000; text-decoration-color: #800000; font-weight: bold\">) computed_loss = tensor(</span><span style=\"color: #800000; text-decoration-color: #800000; font-weight: bold\">0.2258</span><span style=\"color: #800000; text-decoration-color: #800000; font-weight: bold\">, </span><span style=\"color: #800000; text-decoration-color: #800000; font-weight: bold\">device</span><span style=\"color: #800000; text-decoration-color: #800000; font-weight: bold\">=</span><span style=\"color: #800000; text-decoration-color: #800000; font-weight: bold\">'cuda:0'</span><span style=\"color: #800000; text-decoration-color: #800000; font-weight: bold\">, </span>\n",
       "<span style=\"color: #800000; text-decoration-color: #800000; font-weight: bold\">grad_fn</span><span style=\"color: #800000; text-decoration-color: #800000; font-weight: bold\">=&lt;NllLossBackward0&gt;)</span>\n",
       "</pre>\n"
      ],
      "text/plain": [
       "\u001b[1;31mloss = \u001b[0m\u001b[1;31mtensor\u001b[0m\u001b[1;31m(\u001b[0m\u001b[1;31m0.2460\u001b[0m\u001b[1;31m, \u001b[0m\u001b[1;31mdevice\u001b[0m\u001b[1;31m=\u001b[0m\u001b[1;31m'cuda:0'\u001b[0m\u001b[1;31m)\u001b[0m\u001b[1;31m computed_loss = \u001b[0m\u001b[1;31mtensor\u001b[0m\u001b[1;31m(\u001b[0m\u001b[1;31m0.2258\u001b[0m\u001b[1;31m, \u001b[0m\u001b[1;31mdevice\u001b[0m\u001b[1;31m=\u001b[0m\u001b[1;31m'cuda:0'\u001b[0m\u001b[1;31m, \u001b[0m\n",
       "\u001b[1;31mgrad_fn\u001b[0m\u001b[1;31m=\u001b[0m\u001b[1;31m<\u001b[0m\u001b[1;31mNllLossBackward0\u001b[0m\u001b[1;31m>\u001b[0m\u001b[1;31m)\u001b[0m\n"
      ]
     },
     "metadata": {},
     "output_type": "display_data"
    },
    {
     "data": {
      "text/html": [
       "<pre style=\"white-space:pre;overflow-x:auto;line-height:normal;font-family:Menlo,'DejaVu Sans Mono',consolas,'Courier New',monospace\"><span style=\"color: #800000; text-decoration-color: #800000; font-weight: bold\">loss = tensor(</span><span style=\"color: #800000; text-decoration-color: #800000; font-weight: bold\">0.1039</span><span style=\"color: #800000; text-decoration-color: #800000; font-weight: bold\">, </span><span style=\"color: #800000; text-decoration-color: #800000; font-weight: bold\">device</span><span style=\"color: #800000; text-decoration-color: #800000; font-weight: bold\">=</span><span style=\"color: #800000; text-decoration-color: #800000; font-weight: bold\">'cuda:0'</span><span style=\"color: #800000; text-decoration-color: #800000; font-weight: bold\">) computed_loss = tensor(</span><span style=\"color: #800000; text-decoration-color: #800000; font-weight: bold\">0.1064</span><span style=\"color: #800000; text-decoration-color: #800000; font-weight: bold\">, </span><span style=\"color: #800000; text-decoration-color: #800000; font-weight: bold\">device</span><span style=\"color: #800000; text-decoration-color: #800000; font-weight: bold\">=</span><span style=\"color: #800000; text-decoration-color: #800000; font-weight: bold\">'cuda:0'</span><span style=\"color: #800000; text-decoration-color: #800000; font-weight: bold\">, </span>\n",
       "<span style=\"color: #800000; text-decoration-color: #800000; font-weight: bold\">grad_fn</span><span style=\"color: #800000; text-decoration-color: #800000; font-weight: bold\">=&lt;NllLossBackward0&gt;)</span>\n",
       "</pre>\n"
      ],
      "text/plain": [
       "\u001b[1;31mloss = \u001b[0m\u001b[1;31mtensor\u001b[0m\u001b[1;31m(\u001b[0m\u001b[1;31m0.1039\u001b[0m\u001b[1;31m, \u001b[0m\u001b[1;31mdevice\u001b[0m\u001b[1;31m=\u001b[0m\u001b[1;31m'cuda:0'\u001b[0m\u001b[1;31m)\u001b[0m\u001b[1;31m computed_loss = \u001b[0m\u001b[1;31mtensor\u001b[0m\u001b[1;31m(\u001b[0m\u001b[1;31m0.1064\u001b[0m\u001b[1;31m, \u001b[0m\u001b[1;31mdevice\u001b[0m\u001b[1;31m=\u001b[0m\u001b[1;31m'cuda:0'\u001b[0m\u001b[1;31m, \u001b[0m\n",
       "\u001b[1;31mgrad_fn\u001b[0m\u001b[1;31m=\u001b[0m\u001b[1;31m<\u001b[0m\u001b[1;31mNllLossBackward0\u001b[0m\u001b[1;31m>\u001b[0m\u001b[1;31m)\u001b[0m\n"
      ]
     },
     "metadata": {},
     "output_type": "display_data"
    },
    {
     "data": {
      "text/html": [
       "<pre style=\"white-space:pre;overflow-x:auto;line-height:normal;font-family:Menlo,'DejaVu Sans Mono',consolas,'Courier New',monospace\"><span style=\"color: #800000; text-decoration-color: #800000; font-weight: bold\">loss = tensor(</span><span style=\"color: #800000; text-decoration-color: #800000; font-weight: bold\">0.0356</span><span style=\"color: #800000; text-decoration-color: #800000; font-weight: bold\">, </span><span style=\"color: #800000; text-decoration-color: #800000; font-weight: bold\">device</span><span style=\"color: #800000; text-decoration-color: #800000; font-weight: bold\">=</span><span style=\"color: #800000; text-decoration-color: #800000; font-weight: bold\">'cuda:0'</span><span style=\"color: #800000; text-decoration-color: #800000; font-weight: bold\">) computed_loss = tensor(</span><span style=\"color: #800000; text-decoration-color: #800000; font-weight: bold\">0.0359</span><span style=\"color: #800000; text-decoration-color: #800000; font-weight: bold\">, </span><span style=\"color: #800000; text-decoration-color: #800000; font-weight: bold\">device</span><span style=\"color: #800000; text-decoration-color: #800000; font-weight: bold\">=</span><span style=\"color: #800000; text-decoration-color: #800000; font-weight: bold\">'cuda:0'</span><span style=\"color: #800000; text-decoration-color: #800000; font-weight: bold\">, </span>\n",
       "<span style=\"color: #800000; text-decoration-color: #800000; font-weight: bold\">grad_fn</span><span style=\"color: #800000; text-decoration-color: #800000; font-weight: bold\">=&lt;NllLossBackward0&gt;)</span>\n",
       "</pre>\n"
      ],
      "text/plain": [
       "\u001b[1;31mloss = \u001b[0m\u001b[1;31mtensor\u001b[0m\u001b[1;31m(\u001b[0m\u001b[1;31m0.0356\u001b[0m\u001b[1;31m, \u001b[0m\u001b[1;31mdevice\u001b[0m\u001b[1;31m=\u001b[0m\u001b[1;31m'cuda:0'\u001b[0m\u001b[1;31m)\u001b[0m\u001b[1;31m computed_loss = \u001b[0m\u001b[1;31mtensor\u001b[0m\u001b[1;31m(\u001b[0m\u001b[1;31m0.0359\u001b[0m\u001b[1;31m, \u001b[0m\u001b[1;31mdevice\u001b[0m\u001b[1;31m=\u001b[0m\u001b[1;31m'cuda:0'\u001b[0m\u001b[1;31m, \u001b[0m\n",
       "\u001b[1;31mgrad_fn\u001b[0m\u001b[1;31m=\u001b[0m\u001b[1;31m<\u001b[0m\u001b[1;31mNllLossBackward0\u001b[0m\u001b[1;31m>\u001b[0m\u001b[1;31m)\u001b[0m\n"
      ]
     },
     "metadata": {},
     "output_type": "display_data"
    },
    {
     "data": {
      "text/html": [
       "<pre style=\"white-space:pre;overflow-x:auto;line-height:normal;font-family:Menlo,'DejaVu Sans Mono',consolas,'Courier New',monospace\"><span style=\"color: #800000; text-decoration-color: #800000; font-weight: bold\">loss = tensor(</span><span style=\"color: #800000; text-decoration-color: #800000; font-weight: bold\">0.1825</span><span style=\"color: #800000; text-decoration-color: #800000; font-weight: bold\">, </span><span style=\"color: #800000; text-decoration-color: #800000; font-weight: bold\">device</span><span style=\"color: #800000; text-decoration-color: #800000; font-weight: bold\">=</span><span style=\"color: #800000; text-decoration-color: #800000; font-weight: bold\">'cuda:0'</span><span style=\"color: #800000; text-decoration-color: #800000; font-weight: bold\">) computed_loss = tensor(</span><span style=\"color: #800000; text-decoration-color: #800000; font-weight: bold\">0.1888</span><span style=\"color: #800000; text-decoration-color: #800000; font-weight: bold\">, </span><span style=\"color: #800000; text-decoration-color: #800000; font-weight: bold\">device</span><span style=\"color: #800000; text-decoration-color: #800000; font-weight: bold\">=</span><span style=\"color: #800000; text-decoration-color: #800000; font-weight: bold\">'cuda:0'</span><span style=\"color: #800000; text-decoration-color: #800000; font-weight: bold\">, </span>\n",
       "<span style=\"color: #800000; text-decoration-color: #800000; font-weight: bold\">grad_fn</span><span style=\"color: #800000; text-decoration-color: #800000; font-weight: bold\">=&lt;NllLossBackward0&gt;)</span>\n",
       "</pre>\n"
      ],
      "text/plain": [
       "\u001b[1;31mloss = \u001b[0m\u001b[1;31mtensor\u001b[0m\u001b[1;31m(\u001b[0m\u001b[1;31m0.1825\u001b[0m\u001b[1;31m, \u001b[0m\u001b[1;31mdevice\u001b[0m\u001b[1;31m=\u001b[0m\u001b[1;31m'cuda:0'\u001b[0m\u001b[1;31m)\u001b[0m\u001b[1;31m computed_loss = \u001b[0m\u001b[1;31mtensor\u001b[0m\u001b[1;31m(\u001b[0m\u001b[1;31m0.1888\u001b[0m\u001b[1;31m, \u001b[0m\u001b[1;31mdevice\u001b[0m\u001b[1;31m=\u001b[0m\u001b[1;31m'cuda:0'\u001b[0m\u001b[1;31m, \u001b[0m\n",
       "\u001b[1;31mgrad_fn\u001b[0m\u001b[1;31m=\u001b[0m\u001b[1;31m<\u001b[0m\u001b[1;31mNllLossBackward0\u001b[0m\u001b[1;31m>\u001b[0m\u001b[1;31m)\u001b[0m\n"
      ]
     },
     "metadata": {},
     "output_type": "display_data"
    },
    {
     "data": {
      "text/html": [
       "<pre style=\"white-space:pre;overflow-x:auto;line-height:normal;font-family:Menlo,'DejaVu Sans Mono',consolas,'Courier New',monospace\"><span style=\"color: #800000; text-decoration-color: #800000; font-weight: bold\">loss = tensor(</span><span style=\"color: #800000; text-decoration-color: #800000; font-weight: bold\">0.1808</span><span style=\"color: #800000; text-decoration-color: #800000; font-weight: bold\">, </span><span style=\"color: #800000; text-decoration-color: #800000; font-weight: bold\">device</span><span style=\"color: #800000; text-decoration-color: #800000; font-weight: bold\">=</span><span style=\"color: #800000; text-decoration-color: #800000; font-weight: bold\">'cuda:0'</span><span style=\"color: #800000; text-decoration-color: #800000; font-weight: bold\">) computed_loss = tensor(</span><span style=\"color: #800000; text-decoration-color: #800000; font-weight: bold\">0.1862</span><span style=\"color: #800000; text-decoration-color: #800000; font-weight: bold\">, </span><span style=\"color: #800000; text-decoration-color: #800000; font-weight: bold\">device</span><span style=\"color: #800000; text-decoration-color: #800000; font-weight: bold\">=</span><span style=\"color: #800000; text-decoration-color: #800000; font-weight: bold\">'cuda:0'</span><span style=\"color: #800000; text-decoration-color: #800000; font-weight: bold\">, </span>\n",
       "<span style=\"color: #800000; text-decoration-color: #800000; font-weight: bold\">grad_fn</span><span style=\"color: #800000; text-decoration-color: #800000; font-weight: bold\">=&lt;NllLossBackward0&gt;)</span>\n",
       "</pre>\n"
      ],
      "text/plain": [
       "\u001b[1;31mloss = \u001b[0m\u001b[1;31mtensor\u001b[0m\u001b[1;31m(\u001b[0m\u001b[1;31m0.1808\u001b[0m\u001b[1;31m, \u001b[0m\u001b[1;31mdevice\u001b[0m\u001b[1;31m=\u001b[0m\u001b[1;31m'cuda:0'\u001b[0m\u001b[1;31m)\u001b[0m\u001b[1;31m computed_loss = \u001b[0m\u001b[1;31mtensor\u001b[0m\u001b[1;31m(\u001b[0m\u001b[1;31m0.1862\u001b[0m\u001b[1;31m, \u001b[0m\u001b[1;31mdevice\u001b[0m\u001b[1;31m=\u001b[0m\u001b[1;31m'cuda:0'\u001b[0m\u001b[1;31m, \u001b[0m\n",
       "\u001b[1;31mgrad_fn\u001b[0m\u001b[1;31m=\u001b[0m\u001b[1;31m<\u001b[0m\u001b[1;31mNllLossBackward0\u001b[0m\u001b[1;31m>\u001b[0m\u001b[1;31m)\u001b[0m\n"
      ]
     },
     "metadata": {},
     "output_type": "display_data"
    },
    {
     "data": {
      "text/html": [
       "<pre style=\"white-space:pre;overflow-x:auto;line-height:normal;font-family:Menlo,'DejaVu Sans Mono',consolas,'Courier New',monospace\"><span style=\"color: #800000; text-decoration-color: #800000; font-weight: bold\">loss = tensor(</span><span style=\"color: #800000; text-decoration-color: #800000; font-weight: bold\">0.0212</span><span style=\"color: #800000; text-decoration-color: #800000; font-weight: bold\">, </span><span style=\"color: #800000; text-decoration-color: #800000; font-weight: bold\">device</span><span style=\"color: #800000; text-decoration-color: #800000; font-weight: bold\">=</span><span style=\"color: #800000; text-decoration-color: #800000; font-weight: bold\">'cuda:0'</span><span style=\"color: #800000; text-decoration-color: #800000; font-weight: bold\">) computed_loss = tensor(</span><span style=\"color: #800000; text-decoration-color: #800000; font-weight: bold\">0.0214</span><span style=\"color: #800000; text-decoration-color: #800000; font-weight: bold\">, </span><span style=\"color: #800000; text-decoration-color: #800000; font-weight: bold\">device</span><span style=\"color: #800000; text-decoration-color: #800000; font-weight: bold\">=</span><span style=\"color: #800000; text-decoration-color: #800000; font-weight: bold\">'cuda:0'</span><span style=\"color: #800000; text-decoration-color: #800000; font-weight: bold\">, </span>\n",
       "<span style=\"color: #800000; text-decoration-color: #800000; font-weight: bold\">grad_fn</span><span style=\"color: #800000; text-decoration-color: #800000; font-weight: bold\">=&lt;NllLossBackward0&gt;)</span>\n",
       "</pre>\n"
      ],
      "text/plain": [
       "\u001b[1;31mloss = \u001b[0m\u001b[1;31mtensor\u001b[0m\u001b[1;31m(\u001b[0m\u001b[1;31m0.0212\u001b[0m\u001b[1;31m, \u001b[0m\u001b[1;31mdevice\u001b[0m\u001b[1;31m=\u001b[0m\u001b[1;31m'cuda:0'\u001b[0m\u001b[1;31m)\u001b[0m\u001b[1;31m computed_loss = \u001b[0m\u001b[1;31mtensor\u001b[0m\u001b[1;31m(\u001b[0m\u001b[1;31m0.0214\u001b[0m\u001b[1;31m, \u001b[0m\u001b[1;31mdevice\u001b[0m\u001b[1;31m=\u001b[0m\u001b[1;31m'cuda:0'\u001b[0m\u001b[1;31m, \u001b[0m\n",
       "\u001b[1;31mgrad_fn\u001b[0m\u001b[1;31m=\u001b[0m\u001b[1;31m<\u001b[0m\u001b[1;31mNllLossBackward0\u001b[0m\u001b[1;31m>\u001b[0m\u001b[1;31m)\u001b[0m\n"
      ]
     },
     "metadata": {},
     "output_type": "display_data"
    },
    {
     "data": {
      "text/html": [
       "<pre style=\"white-space:pre;overflow-x:auto;line-height:normal;font-family:Menlo,'DejaVu Sans Mono',consolas,'Courier New',monospace\"><span style=\"color: #800000; text-decoration-color: #800000; font-weight: bold\">loss = tensor(</span><span style=\"color: #800000; text-decoration-color: #800000; font-weight: bold\">0.2505</span><span style=\"color: #800000; text-decoration-color: #800000; font-weight: bold\">, </span><span style=\"color: #800000; text-decoration-color: #800000; font-weight: bold\">device</span><span style=\"color: #800000; text-decoration-color: #800000; font-weight: bold\">=</span><span style=\"color: #800000; text-decoration-color: #800000; font-weight: bold\">'cuda:0'</span><span style=\"color: #800000; text-decoration-color: #800000; font-weight: bold\">) computed_loss = tensor(</span><span style=\"color: #800000; text-decoration-color: #800000; font-weight: bold\">0.2455</span><span style=\"color: #800000; text-decoration-color: #800000; font-weight: bold\">, </span><span style=\"color: #800000; text-decoration-color: #800000; font-weight: bold\">device</span><span style=\"color: #800000; text-decoration-color: #800000; font-weight: bold\">=</span><span style=\"color: #800000; text-decoration-color: #800000; font-weight: bold\">'cuda:0'</span><span style=\"color: #800000; text-decoration-color: #800000; font-weight: bold\">, </span>\n",
       "<span style=\"color: #800000; text-decoration-color: #800000; font-weight: bold\">grad_fn</span><span style=\"color: #800000; text-decoration-color: #800000; font-weight: bold\">=&lt;NllLossBackward0&gt;)</span>\n",
       "</pre>\n"
      ],
      "text/plain": [
       "\u001b[1;31mloss = \u001b[0m\u001b[1;31mtensor\u001b[0m\u001b[1;31m(\u001b[0m\u001b[1;31m0.2505\u001b[0m\u001b[1;31m, \u001b[0m\u001b[1;31mdevice\u001b[0m\u001b[1;31m=\u001b[0m\u001b[1;31m'cuda:0'\u001b[0m\u001b[1;31m)\u001b[0m\u001b[1;31m computed_loss = \u001b[0m\u001b[1;31mtensor\u001b[0m\u001b[1;31m(\u001b[0m\u001b[1;31m0.2455\u001b[0m\u001b[1;31m, \u001b[0m\u001b[1;31mdevice\u001b[0m\u001b[1;31m=\u001b[0m\u001b[1;31m'cuda:0'\u001b[0m\u001b[1;31m, \u001b[0m\n",
       "\u001b[1;31mgrad_fn\u001b[0m\u001b[1;31m=\u001b[0m\u001b[1;31m<\u001b[0m\u001b[1;31mNllLossBackward0\u001b[0m\u001b[1;31m>\u001b[0m\u001b[1;31m)\u001b[0m\n"
      ]
     },
     "metadata": {},
     "output_type": "display_data"
    },
    {
     "data": {
      "text/html": [
       "<pre style=\"white-space:pre;overflow-x:auto;line-height:normal;font-family:Menlo,'DejaVu Sans Mono',consolas,'Courier New',monospace\"><span style=\"color: #800000; text-decoration-color: #800000; font-weight: bold\">loss = tensor(</span><span style=\"color: #800000; text-decoration-color: #800000; font-weight: bold\">0.1836</span><span style=\"color: #800000; text-decoration-color: #800000; font-weight: bold\">, </span><span style=\"color: #800000; text-decoration-color: #800000; font-weight: bold\">device</span><span style=\"color: #800000; text-decoration-color: #800000; font-weight: bold\">=</span><span style=\"color: #800000; text-decoration-color: #800000; font-weight: bold\">'cuda:0'</span><span style=\"color: #800000; text-decoration-color: #800000; font-weight: bold\">) computed_loss = tensor(</span><span style=\"color: #800000; text-decoration-color: #800000; font-weight: bold\">0.1874</span><span style=\"color: #800000; text-decoration-color: #800000; font-weight: bold\">, </span><span style=\"color: #800000; text-decoration-color: #800000; font-weight: bold\">device</span><span style=\"color: #800000; text-decoration-color: #800000; font-weight: bold\">=</span><span style=\"color: #800000; text-decoration-color: #800000; font-weight: bold\">'cuda:0'</span><span style=\"color: #800000; text-decoration-color: #800000; font-weight: bold\">, </span>\n",
       "<span style=\"color: #800000; text-decoration-color: #800000; font-weight: bold\">grad_fn</span><span style=\"color: #800000; text-decoration-color: #800000; font-weight: bold\">=&lt;NllLossBackward0&gt;)</span>\n",
       "</pre>\n"
      ],
      "text/plain": [
       "\u001b[1;31mloss = \u001b[0m\u001b[1;31mtensor\u001b[0m\u001b[1;31m(\u001b[0m\u001b[1;31m0.1836\u001b[0m\u001b[1;31m, \u001b[0m\u001b[1;31mdevice\u001b[0m\u001b[1;31m=\u001b[0m\u001b[1;31m'cuda:0'\u001b[0m\u001b[1;31m)\u001b[0m\u001b[1;31m computed_loss = \u001b[0m\u001b[1;31mtensor\u001b[0m\u001b[1;31m(\u001b[0m\u001b[1;31m0.1874\u001b[0m\u001b[1;31m, \u001b[0m\u001b[1;31mdevice\u001b[0m\u001b[1;31m=\u001b[0m\u001b[1;31m'cuda:0'\u001b[0m\u001b[1;31m, \u001b[0m\n",
       "\u001b[1;31mgrad_fn\u001b[0m\u001b[1;31m=\u001b[0m\u001b[1;31m<\u001b[0m\u001b[1;31mNllLossBackward0\u001b[0m\u001b[1;31m>\u001b[0m\u001b[1;31m)\u001b[0m\n"
      ]
     },
     "metadata": {},
     "output_type": "display_data"
    },
    {
     "data": {
      "text/html": [
       "<pre style=\"white-space:pre;overflow-x:auto;line-height:normal;font-family:Menlo,'DejaVu Sans Mono',consolas,'Courier New',monospace\"><span style=\"color: #800000; text-decoration-color: #800000; font-weight: bold\">loss = tensor(</span><span style=\"color: #800000; text-decoration-color: #800000; font-weight: bold\">0.2222</span><span style=\"color: #800000; text-decoration-color: #800000; font-weight: bold\">, </span><span style=\"color: #800000; text-decoration-color: #800000; font-weight: bold\">device</span><span style=\"color: #800000; text-decoration-color: #800000; font-weight: bold\">=</span><span style=\"color: #800000; text-decoration-color: #800000; font-weight: bold\">'cuda:0'</span><span style=\"color: #800000; text-decoration-color: #800000; font-weight: bold\">) computed_loss = tensor(</span><span style=\"color: #800000; text-decoration-color: #800000; font-weight: bold\">0.2261</span><span style=\"color: #800000; text-decoration-color: #800000; font-weight: bold\">, </span><span style=\"color: #800000; text-decoration-color: #800000; font-weight: bold\">device</span><span style=\"color: #800000; text-decoration-color: #800000; font-weight: bold\">=</span><span style=\"color: #800000; text-decoration-color: #800000; font-weight: bold\">'cuda:0'</span><span style=\"color: #800000; text-decoration-color: #800000; font-weight: bold\">, </span>\n",
       "<span style=\"color: #800000; text-decoration-color: #800000; font-weight: bold\">grad_fn</span><span style=\"color: #800000; text-decoration-color: #800000; font-weight: bold\">=&lt;NllLossBackward0&gt;)</span>\n",
       "</pre>\n"
      ],
      "text/plain": [
       "\u001b[1;31mloss = \u001b[0m\u001b[1;31mtensor\u001b[0m\u001b[1;31m(\u001b[0m\u001b[1;31m0.2222\u001b[0m\u001b[1;31m, \u001b[0m\u001b[1;31mdevice\u001b[0m\u001b[1;31m=\u001b[0m\u001b[1;31m'cuda:0'\u001b[0m\u001b[1;31m)\u001b[0m\u001b[1;31m computed_loss = \u001b[0m\u001b[1;31mtensor\u001b[0m\u001b[1;31m(\u001b[0m\u001b[1;31m0.2261\u001b[0m\u001b[1;31m, \u001b[0m\u001b[1;31mdevice\u001b[0m\u001b[1;31m=\u001b[0m\u001b[1;31m'cuda:0'\u001b[0m\u001b[1;31m, \u001b[0m\n",
       "\u001b[1;31mgrad_fn\u001b[0m\u001b[1;31m=\u001b[0m\u001b[1;31m<\u001b[0m\u001b[1;31mNllLossBackward0\u001b[0m\u001b[1;31m>\u001b[0m\u001b[1;31m)\u001b[0m\n"
      ]
     },
     "metadata": {},
     "output_type": "display_data"
    },
    {
     "data": {
      "text/html": [
       "<pre style=\"white-space:pre;overflow-x:auto;line-height:normal;font-family:Menlo,'DejaVu Sans Mono',consolas,'Courier New',monospace\"><span style=\"color: #800000; text-decoration-color: #800000; font-weight: bold\">loss = tensor(</span><span style=\"color: #800000; text-decoration-color: #800000; font-weight: bold\">0.0245</span><span style=\"color: #800000; text-decoration-color: #800000; font-weight: bold\">, </span><span style=\"color: #800000; text-decoration-color: #800000; font-weight: bold\">device</span><span style=\"color: #800000; text-decoration-color: #800000; font-weight: bold\">=</span><span style=\"color: #800000; text-decoration-color: #800000; font-weight: bold\">'cuda:0'</span><span style=\"color: #800000; text-decoration-color: #800000; font-weight: bold\">) computed_loss = tensor(</span><span style=\"color: #800000; text-decoration-color: #800000; font-weight: bold\">0.0246</span><span style=\"color: #800000; text-decoration-color: #800000; font-weight: bold\">, </span><span style=\"color: #800000; text-decoration-color: #800000; font-weight: bold\">device</span><span style=\"color: #800000; text-decoration-color: #800000; font-weight: bold\">=</span><span style=\"color: #800000; text-decoration-color: #800000; font-weight: bold\">'cuda:0'</span><span style=\"color: #800000; text-decoration-color: #800000; font-weight: bold\">, </span>\n",
       "<span style=\"color: #800000; text-decoration-color: #800000; font-weight: bold\">grad_fn</span><span style=\"color: #800000; text-decoration-color: #800000; font-weight: bold\">=&lt;NllLossBackward0&gt;)</span>\n",
       "</pre>\n"
      ],
      "text/plain": [
       "\u001b[1;31mloss = \u001b[0m\u001b[1;31mtensor\u001b[0m\u001b[1;31m(\u001b[0m\u001b[1;31m0.0245\u001b[0m\u001b[1;31m, \u001b[0m\u001b[1;31mdevice\u001b[0m\u001b[1;31m=\u001b[0m\u001b[1;31m'cuda:0'\u001b[0m\u001b[1;31m)\u001b[0m\u001b[1;31m computed_loss = \u001b[0m\u001b[1;31mtensor\u001b[0m\u001b[1;31m(\u001b[0m\u001b[1;31m0.0246\u001b[0m\u001b[1;31m, \u001b[0m\u001b[1;31mdevice\u001b[0m\u001b[1;31m=\u001b[0m\u001b[1;31m'cuda:0'\u001b[0m\u001b[1;31m, \u001b[0m\n",
       "\u001b[1;31mgrad_fn\u001b[0m\u001b[1;31m=\u001b[0m\u001b[1;31m<\u001b[0m\u001b[1;31mNllLossBackward0\u001b[0m\u001b[1;31m>\u001b[0m\u001b[1;31m)\u001b[0m\n"
      ]
     },
     "metadata": {},
     "output_type": "display_data"
    },
    {
     "data": {
      "text/html": [
       "<pre style=\"white-space:pre;overflow-x:auto;line-height:normal;font-family:Menlo,'DejaVu Sans Mono',consolas,'Courier New',monospace\"><span style=\"color: #800000; text-decoration-color: #800000; font-weight: bold\">loss = tensor(</span><span style=\"color: #800000; text-decoration-color: #800000; font-weight: bold\">0.2036</span><span style=\"color: #800000; text-decoration-color: #800000; font-weight: bold\">, </span><span style=\"color: #800000; text-decoration-color: #800000; font-weight: bold\">device</span><span style=\"color: #800000; text-decoration-color: #800000; font-weight: bold\">=</span><span style=\"color: #800000; text-decoration-color: #800000; font-weight: bold\">'cuda:0'</span><span style=\"color: #800000; text-decoration-color: #800000; font-weight: bold\">) computed_loss = tensor(</span><span style=\"color: #800000; text-decoration-color: #800000; font-weight: bold\">0.2113</span><span style=\"color: #800000; text-decoration-color: #800000; font-weight: bold\">, </span><span style=\"color: #800000; text-decoration-color: #800000; font-weight: bold\">device</span><span style=\"color: #800000; text-decoration-color: #800000; font-weight: bold\">=</span><span style=\"color: #800000; text-decoration-color: #800000; font-weight: bold\">'cuda:0'</span><span style=\"color: #800000; text-decoration-color: #800000; font-weight: bold\">, </span>\n",
       "<span style=\"color: #800000; text-decoration-color: #800000; font-weight: bold\">grad_fn</span><span style=\"color: #800000; text-decoration-color: #800000; font-weight: bold\">=&lt;NllLossBackward0&gt;)</span>\n",
       "</pre>\n"
      ],
      "text/plain": [
       "\u001b[1;31mloss = \u001b[0m\u001b[1;31mtensor\u001b[0m\u001b[1;31m(\u001b[0m\u001b[1;31m0.2036\u001b[0m\u001b[1;31m, \u001b[0m\u001b[1;31mdevice\u001b[0m\u001b[1;31m=\u001b[0m\u001b[1;31m'cuda:0'\u001b[0m\u001b[1;31m)\u001b[0m\u001b[1;31m computed_loss = \u001b[0m\u001b[1;31mtensor\u001b[0m\u001b[1;31m(\u001b[0m\u001b[1;31m0.2113\u001b[0m\u001b[1;31m, \u001b[0m\u001b[1;31mdevice\u001b[0m\u001b[1;31m=\u001b[0m\u001b[1;31m'cuda:0'\u001b[0m\u001b[1;31m, \u001b[0m\n",
       "\u001b[1;31mgrad_fn\u001b[0m\u001b[1;31m=\u001b[0m\u001b[1;31m<\u001b[0m\u001b[1;31mNllLossBackward0\u001b[0m\u001b[1;31m>\u001b[0m\u001b[1;31m)\u001b[0m\n"
      ]
     },
     "metadata": {},
     "output_type": "display_data"
    },
    {
     "data": {
      "text/html": [
       "<pre style=\"white-space:pre;overflow-x:auto;line-height:normal;font-family:Menlo,'DejaVu Sans Mono',consolas,'Courier New',monospace\"><span style=\"color: #800000; text-decoration-color: #800000; font-weight: bold\">loss = tensor(</span><span style=\"color: #800000; text-decoration-color: #800000; font-weight: bold\">0.0721</span><span style=\"color: #800000; text-decoration-color: #800000; font-weight: bold\">, </span><span style=\"color: #800000; text-decoration-color: #800000; font-weight: bold\">device</span><span style=\"color: #800000; text-decoration-color: #800000; font-weight: bold\">=</span><span style=\"color: #800000; text-decoration-color: #800000; font-weight: bold\">'cuda:0'</span><span style=\"color: #800000; text-decoration-color: #800000; font-weight: bold\">) computed_loss = tensor(</span><span style=\"color: #800000; text-decoration-color: #800000; font-weight: bold\">0.0743</span><span style=\"color: #800000; text-decoration-color: #800000; font-weight: bold\">, </span><span style=\"color: #800000; text-decoration-color: #800000; font-weight: bold\">device</span><span style=\"color: #800000; text-decoration-color: #800000; font-weight: bold\">=</span><span style=\"color: #800000; text-decoration-color: #800000; font-weight: bold\">'cuda:0'</span><span style=\"color: #800000; text-decoration-color: #800000; font-weight: bold\">, </span>\n",
       "<span style=\"color: #800000; text-decoration-color: #800000; font-weight: bold\">grad_fn</span><span style=\"color: #800000; text-decoration-color: #800000; font-weight: bold\">=&lt;NllLossBackward0&gt;)</span>\n",
       "</pre>\n"
      ],
      "text/plain": [
       "\u001b[1;31mloss = \u001b[0m\u001b[1;31mtensor\u001b[0m\u001b[1;31m(\u001b[0m\u001b[1;31m0.0721\u001b[0m\u001b[1;31m, \u001b[0m\u001b[1;31mdevice\u001b[0m\u001b[1;31m=\u001b[0m\u001b[1;31m'cuda:0'\u001b[0m\u001b[1;31m)\u001b[0m\u001b[1;31m computed_loss = \u001b[0m\u001b[1;31mtensor\u001b[0m\u001b[1;31m(\u001b[0m\u001b[1;31m0.0743\u001b[0m\u001b[1;31m, \u001b[0m\u001b[1;31mdevice\u001b[0m\u001b[1;31m=\u001b[0m\u001b[1;31m'cuda:0'\u001b[0m\u001b[1;31m, \u001b[0m\n",
       "\u001b[1;31mgrad_fn\u001b[0m\u001b[1;31m=\u001b[0m\u001b[1;31m<\u001b[0m\u001b[1;31mNllLossBackward0\u001b[0m\u001b[1;31m>\u001b[0m\u001b[1;31m)\u001b[0m\n"
      ]
     },
     "metadata": {},
     "output_type": "display_data"
    },
    {
     "data": {
      "text/html": [
       "<pre style=\"white-space:pre;overflow-x:auto;line-height:normal;font-family:Menlo,'DejaVu Sans Mono',consolas,'Courier New',monospace\"><span style=\"color: #800000; text-decoration-color: #800000; font-weight: bold\">loss = tensor(</span><span style=\"color: #800000; text-decoration-color: #800000; font-weight: bold\">0.0165</span><span style=\"color: #800000; text-decoration-color: #800000; font-weight: bold\">, </span><span style=\"color: #800000; text-decoration-color: #800000; font-weight: bold\">device</span><span style=\"color: #800000; text-decoration-color: #800000; font-weight: bold\">=</span><span style=\"color: #800000; text-decoration-color: #800000; font-weight: bold\">'cuda:0'</span><span style=\"color: #800000; text-decoration-color: #800000; font-weight: bold\">) computed_loss = tensor(</span><span style=\"color: #800000; text-decoration-color: #800000; font-weight: bold\">0.0165</span><span style=\"color: #800000; text-decoration-color: #800000; font-weight: bold\">, </span><span style=\"color: #800000; text-decoration-color: #800000; font-weight: bold\">device</span><span style=\"color: #800000; text-decoration-color: #800000; font-weight: bold\">=</span><span style=\"color: #800000; text-decoration-color: #800000; font-weight: bold\">'cuda:0'</span><span style=\"color: #800000; text-decoration-color: #800000; font-weight: bold\">, </span>\n",
       "<span style=\"color: #800000; text-decoration-color: #800000; font-weight: bold\">grad_fn</span><span style=\"color: #800000; text-decoration-color: #800000; font-weight: bold\">=&lt;NllLossBackward0&gt;)</span>\n",
       "</pre>\n"
      ],
      "text/plain": [
       "\u001b[1;31mloss = \u001b[0m\u001b[1;31mtensor\u001b[0m\u001b[1;31m(\u001b[0m\u001b[1;31m0.0165\u001b[0m\u001b[1;31m, \u001b[0m\u001b[1;31mdevice\u001b[0m\u001b[1;31m=\u001b[0m\u001b[1;31m'cuda:0'\u001b[0m\u001b[1;31m)\u001b[0m\u001b[1;31m computed_loss = \u001b[0m\u001b[1;31mtensor\u001b[0m\u001b[1;31m(\u001b[0m\u001b[1;31m0.0165\u001b[0m\u001b[1;31m, \u001b[0m\u001b[1;31mdevice\u001b[0m\u001b[1;31m=\u001b[0m\u001b[1;31m'cuda:0'\u001b[0m\u001b[1;31m, \u001b[0m\n",
       "\u001b[1;31mgrad_fn\u001b[0m\u001b[1;31m=\u001b[0m\u001b[1;31m<\u001b[0m\u001b[1;31mNllLossBackward0\u001b[0m\u001b[1;31m>\u001b[0m\u001b[1;31m)\u001b[0m\n"
      ]
     },
     "metadata": {},
     "output_type": "display_data"
    },
    {
     "data": {
      "text/html": [
       "<pre style=\"white-space:pre;overflow-x:auto;line-height:normal;font-family:Menlo,'DejaVu Sans Mono',consolas,'Courier New',monospace\"><span style=\"color: #800000; text-decoration-color: #800000; font-weight: bold\">loss = tensor(</span><span style=\"color: #800000; text-decoration-color: #800000; font-weight: bold\">0.0263</span><span style=\"color: #800000; text-decoration-color: #800000; font-weight: bold\">, </span><span style=\"color: #800000; text-decoration-color: #800000; font-weight: bold\">device</span><span style=\"color: #800000; text-decoration-color: #800000; font-weight: bold\">=</span><span style=\"color: #800000; text-decoration-color: #800000; font-weight: bold\">'cuda:0'</span><span style=\"color: #800000; text-decoration-color: #800000; font-weight: bold\">) computed_loss = tensor(</span><span style=\"color: #800000; text-decoration-color: #800000; font-weight: bold\">0.0253</span><span style=\"color: #800000; text-decoration-color: #800000; font-weight: bold\">, </span><span style=\"color: #800000; text-decoration-color: #800000; font-weight: bold\">device</span><span style=\"color: #800000; text-decoration-color: #800000; font-weight: bold\">=</span><span style=\"color: #800000; text-decoration-color: #800000; font-weight: bold\">'cuda:0'</span><span style=\"color: #800000; text-decoration-color: #800000; font-weight: bold\">, </span>\n",
       "<span style=\"color: #800000; text-decoration-color: #800000; font-weight: bold\">grad_fn</span><span style=\"color: #800000; text-decoration-color: #800000; font-weight: bold\">=&lt;NllLossBackward0&gt;)</span>\n",
       "</pre>\n"
      ],
      "text/plain": [
       "\u001b[1;31mloss = \u001b[0m\u001b[1;31mtensor\u001b[0m\u001b[1;31m(\u001b[0m\u001b[1;31m0.0263\u001b[0m\u001b[1;31m, \u001b[0m\u001b[1;31mdevice\u001b[0m\u001b[1;31m=\u001b[0m\u001b[1;31m'cuda:0'\u001b[0m\u001b[1;31m)\u001b[0m\u001b[1;31m computed_loss = \u001b[0m\u001b[1;31mtensor\u001b[0m\u001b[1;31m(\u001b[0m\u001b[1;31m0.0253\u001b[0m\u001b[1;31m, \u001b[0m\u001b[1;31mdevice\u001b[0m\u001b[1;31m=\u001b[0m\u001b[1;31m'cuda:0'\u001b[0m\u001b[1;31m, \u001b[0m\n",
       "\u001b[1;31mgrad_fn\u001b[0m\u001b[1;31m=\u001b[0m\u001b[1;31m<\u001b[0m\u001b[1;31mNllLossBackward0\u001b[0m\u001b[1;31m>\u001b[0m\u001b[1;31m)\u001b[0m\n"
      ]
     },
     "metadata": {},
     "output_type": "display_data"
    },
    {
     "data": {
      "text/html": [
       "<pre style=\"white-space:pre;overflow-x:auto;line-height:normal;font-family:Menlo,'DejaVu Sans Mono',consolas,'Courier New',monospace\"><span style=\"color: #800000; text-decoration-color: #800000; font-weight: bold\">loss = tensor(</span><span style=\"color: #800000; text-decoration-color: #800000; font-weight: bold\">0.2569</span><span style=\"color: #800000; text-decoration-color: #800000; font-weight: bold\">, </span><span style=\"color: #800000; text-decoration-color: #800000; font-weight: bold\">device</span><span style=\"color: #800000; text-decoration-color: #800000; font-weight: bold\">=</span><span style=\"color: #800000; text-decoration-color: #800000; font-weight: bold\">'cuda:0'</span><span style=\"color: #800000; text-decoration-color: #800000; font-weight: bold\">) computed_loss = tensor(</span><span style=\"color: #800000; text-decoration-color: #800000; font-weight: bold\">0.2570</span><span style=\"color: #800000; text-decoration-color: #800000; font-weight: bold\">, </span><span style=\"color: #800000; text-decoration-color: #800000; font-weight: bold\">device</span><span style=\"color: #800000; text-decoration-color: #800000; font-weight: bold\">=</span><span style=\"color: #800000; text-decoration-color: #800000; font-weight: bold\">'cuda:0'</span><span style=\"color: #800000; text-decoration-color: #800000; font-weight: bold\">, </span>\n",
       "<span style=\"color: #800000; text-decoration-color: #800000; font-weight: bold\">grad_fn</span><span style=\"color: #800000; text-decoration-color: #800000; font-weight: bold\">=&lt;NllLossBackward0&gt;)</span>\n",
       "</pre>\n"
      ],
      "text/plain": [
       "\u001b[1;31mloss = \u001b[0m\u001b[1;31mtensor\u001b[0m\u001b[1;31m(\u001b[0m\u001b[1;31m0.2569\u001b[0m\u001b[1;31m, \u001b[0m\u001b[1;31mdevice\u001b[0m\u001b[1;31m=\u001b[0m\u001b[1;31m'cuda:0'\u001b[0m\u001b[1;31m)\u001b[0m\u001b[1;31m computed_loss = \u001b[0m\u001b[1;31mtensor\u001b[0m\u001b[1;31m(\u001b[0m\u001b[1;31m0.2570\u001b[0m\u001b[1;31m, \u001b[0m\u001b[1;31mdevice\u001b[0m\u001b[1;31m=\u001b[0m\u001b[1;31m'cuda:0'\u001b[0m\u001b[1;31m, \u001b[0m\n",
       "\u001b[1;31mgrad_fn\u001b[0m\u001b[1;31m=\u001b[0m\u001b[1;31m<\u001b[0m\u001b[1;31mNllLossBackward0\u001b[0m\u001b[1;31m>\u001b[0m\u001b[1;31m)\u001b[0m\n"
      ]
     },
     "metadata": {},
     "output_type": "display_data"
    },
    {
     "data": {
      "text/html": [
       "<pre style=\"white-space:pre;overflow-x:auto;line-height:normal;font-family:Menlo,'DejaVu Sans Mono',consolas,'Courier New',monospace\"><span style=\"color: #800000; text-decoration-color: #800000; font-weight: bold\">loss = tensor(</span><span style=\"color: #800000; text-decoration-color: #800000; font-weight: bold\">0.0218</span><span style=\"color: #800000; text-decoration-color: #800000; font-weight: bold\">, </span><span style=\"color: #800000; text-decoration-color: #800000; font-weight: bold\">device</span><span style=\"color: #800000; text-decoration-color: #800000; font-weight: bold\">=</span><span style=\"color: #800000; text-decoration-color: #800000; font-weight: bold\">'cuda:0'</span><span style=\"color: #800000; text-decoration-color: #800000; font-weight: bold\">) computed_loss = tensor(</span><span style=\"color: #800000; text-decoration-color: #800000; font-weight: bold\">0.0213</span><span style=\"color: #800000; text-decoration-color: #800000; font-weight: bold\">, </span><span style=\"color: #800000; text-decoration-color: #800000; font-weight: bold\">device</span><span style=\"color: #800000; text-decoration-color: #800000; font-weight: bold\">=</span><span style=\"color: #800000; text-decoration-color: #800000; font-weight: bold\">'cuda:0'</span><span style=\"color: #800000; text-decoration-color: #800000; font-weight: bold\">, </span>\n",
       "<span style=\"color: #800000; text-decoration-color: #800000; font-weight: bold\">grad_fn</span><span style=\"color: #800000; text-decoration-color: #800000; font-weight: bold\">=&lt;NllLossBackward0&gt;)</span>\n",
       "</pre>\n"
      ],
      "text/plain": [
       "\u001b[1;31mloss = \u001b[0m\u001b[1;31mtensor\u001b[0m\u001b[1;31m(\u001b[0m\u001b[1;31m0.0218\u001b[0m\u001b[1;31m, \u001b[0m\u001b[1;31mdevice\u001b[0m\u001b[1;31m=\u001b[0m\u001b[1;31m'cuda:0'\u001b[0m\u001b[1;31m)\u001b[0m\u001b[1;31m computed_loss = \u001b[0m\u001b[1;31mtensor\u001b[0m\u001b[1;31m(\u001b[0m\u001b[1;31m0.0213\u001b[0m\u001b[1;31m, \u001b[0m\u001b[1;31mdevice\u001b[0m\u001b[1;31m=\u001b[0m\u001b[1;31m'cuda:0'\u001b[0m\u001b[1;31m, \u001b[0m\n",
       "\u001b[1;31mgrad_fn\u001b[0m\u001b[1;31m=\u001b[0m\u001b[1;31m<\u001b[0m\u001b[1;31mNllLossBackward0\u001b[0m\u001b[1;31m>\u001b[0m\u001b[1;31m)\u001b[0m\n"
      ]
     },
     "metadata": {},
     "output_type": "display_data"
    },
    {
     "data": {
      "text/html": [
       "<pre style=\"white-space:pre;overflow-x:auto;line-height:normal;font-family:Menlo,'DejaVu Sans Mono',consolas,'Courier New',monospace\"><span style=\"color: #800000; text-decoration-color: #800000; font-weight: bold\">loss = tensor(</span><span style=\"color: #800000; text-decoration-color: #800000; font-weight: bold\">0.1674</span><span style=\"color: #800000; text-decoration-color: #800000; font-weight: bold\">, </span><span style=\"color: #800000; text-decoration-color: #800000; font-weight: bold\">device</span><span style=\"color: #800000; text-decoration-color: #800000; font-weight: bold\">=</span><span style=\"color: #800000; text-decoration-color: #800000; font-weight: bold\">'cuda:0'</span><span style=\"color: #800000; text-decoration-color: #800000; font-weight: bold\">) computed_loss = tensor(</span><span style=\"color: #800000; text-decoration-color: #800000; font-weight: bold\">0.1750</span><span style=\"color: #800000; text-decoration-color: #800000; font-weight: bold\">, </span><span style=\"color: #800000; text-decoration-color: #800000; font-weight: bold\">device</span><span style=\"color: #800000; text-decoration-color: #800000; font-weight: bold\">=</span><span style=\"color: #800000; text-decoration-color: #800000; font-weight: bold\">'cuda:0'</span><span style=\"color: #800000; text-decoration-color: #800000; font-weight: bold\">, </span>\n",
       "<span style=\"color: #800000; text-decoration-color: #800000; font-weight: bold\">grad_fn</span><span style=\"color: #800000; text-decoration-color: #800000; font-weight: bold\">=&lt;NllLossBackward0&gt;)</span>\n",
       "</pre>\n"
      ],
      "text/plain": [
       "\u001b[1;31mloss = \u001b[0m\u001b[1;31mtensor\u001b[0m\u001b[1;31m(\u001b[0m\u001b[1;31m0.1674\u001b[0m\u001b[1;31m, \u001b[0m\u001b[1;31mdevice\u001b[0m\u001b[1;31m=\u001b[0m\u001b[1;31m'cuda:0'\u001b[0m\u001b[1;31m)\u001b[0m\u001b[1;31m computed_loss = \u001b[0m\u001b[1;31mtensor\u001b[0m\u001b[1;31m(\u001b[0m\u001b[1;31m0.1750\u001b[0m\u001b[1;31m, \u001b[0m\u001b[1;31mdevice\u001b[0m\u001b[1;31m=\u001b[0m\u001b[1;31m'cuda:0'\u001b[0m\u001b[1;31m, \u001b[0m\n",
       "\u001b[1;31mgrad_fn\u001b[0m\u001b[1;31m=\u001b[0m\u001b[1;31m<\u001b[0m\u001b[1;31mNllLossBackward0\u001b[0m\u001b[1;31m>\u001b[0m\u001b[1;31m)\u001b[0m\n"
      ]
     },
     "metadata": {},
     "output_type": "display_data"
    },
    {
     "data": {
      "text/html": [
       "<pre style=\"white-space:pre;overflow-x:auto;line-height:normal;font-family:Menlo,'DejaVu Sans Mono',consolas,'Courier New',monospace\"><span style=\"color: #800000; text-decoration-color: #800000; font-weight: bold\">loss = tensor(</span><span style=\"color: #800000; text-decoration-color: #800000; font-weight: bold\">0.2736</span><span style=\"color: #800000; text-decoration-color: #800000; font-weight: bold\">, </span><span style=\"color: #800000; text-decoration-color: #800000; font-weight: bold\">device</span><span style=\"color: #800000; text-decoration-color: #800000; font-weight: bold\">=</span><span style=\"color: #800000; text-decoration-color: #800000; font-weight: bold\">'cuda:0'</span><span style=\"color: #800000; text-decoration-color: #800000; font-weight: bold\">) computed_loss = tensor(</span><span style=\"color: #800000; text-decoration-color: #800000; font-weight: bold\">0.2475</span><span style=\"color: #800000; text-decoration-color: #800000; font-weight: bold\">, </span><span style=\"color: #800000; text-decoration-color: #800000; font-weight: bold\">device</span><span style=\"color: #800000; text-decoration-color: #800000; font-weight: bold\">=</span><span style=\"color: #800000; text-decoration-color: #800000; font-weight: bold\">'cuda:0'</span><span style=\"color: #800000; text-decoration-color: #800000; font-weight: bold\">, </span>\n",
       "<span style=\"color: #800000; text-decoration-color: #800000; font-weight: bold\">grad_fn</span><span style=\"color: #800000; text-decoration-color: #800000; font-weight: bold\">=&lt;NllLossBackward0&gt;)</span>\n",
       "</pre>\n"
      ],
      "text/plain": [
       "\u001b[1;31mloss = \u001b[0m\u001b[1;31mtensor\u001b[0m\u001b[1;31m(\u001b[0m\u001b[1;31m0.2736\u001b[0m\u001b[1;31m, \u001b[0m\u001b[1;31mdevice\u001b[0m\u001b[1;31m=\u001b[0m\u001b[1;31m'cuda:0'\u001b[0m\u001b[1;31m)\u001b[0m\u001b[1;31m computed_loss = \u001b[0m\u001b[1;31mtensor\u001b[0m\u001b[1;31m(\u001b[0m\u001b[1;31m0.2475\u001b[0m\u001b[1;31m, \u001b[0m\u001b[1;31mdevice\u001b[0m\u001b[1;31m=\u001b[0m\u001b[1;31m'cuda:0'\u001b[0m\u001b[1;31m, \u001b[0m\n",
       "\u001b[1;31mgrad_fn\u001b[0m\u001b[1;31m=\u001b[0m\u001b[1;31m<\u001b[0m\u001b[1;31mNllLossBackward0\u001b[0m\u001b[1;31m>\u001b[0m\u001b[1;31m)\u001b[0m\n"
      ]
     },
     "metadata": {},
     "output_type": "display_data"
    },
    {
     "data": {
      "text/html": [
       "<pre style=\"white-space:pre;overflow-x:auto;line-height:normal;font-family:Menlo,'DejaVu Sans Mono',consolas,'Courier New',monospace\"><span style=\"color: #800000; text-decoration-color: #800000; font-weight: bold\">loss = tensor(</span><span style=\"color: #800000; text-decoration-color: #800000; font-weight: bold\">0.1821</span><span style=\"color: #800000; text-decoration-color: #800000; font-weight: bold\">, </span><span style=\"color: #800000; text-decoration-color: #800000; font-weight: bold\">device</span><span style=\"color: #800000; text-decoration-color: #800000; font-weight: bold\">=</span><span style=\"color: #800000; text-decoration-color: #800000; font-weight: bold\">'cuda:0'</span><span style=\"color: #800000; text-decoration-color: #800000; font-weight: bold\">) computed_loss = tensor(</span><span style=\"color: #800000; text-decoration-color: #800000; font-weight: bold\">0.1701</span><span style=\"color: #800000; text-decoration-color: #800000; font-weight: bold\">, </span><span style=\"color: #800000; text-decoration-color: #800000; font-weight: bold\">device</span><span style=\"color: #800000; text-decoration-color: #800000; font-weight: bold\">=</span><span style=\"color: #800000; text-decoration-color: #800000; font-weight: bold\">'cuda:0'</span><span style=\"color: #800000; text-decoration-color: #800000; font-weight: bold\">, </span>\n",
       "<span style=\"color: #800000; text-decoration-color: #800000; font-weight: bold\">grad_fn</span><span style=\"color: #800000; text-decoration-color: #800000; font-weight: bold\">=&lt;NllLossBackward0&gt;)</span>\n",
       "</pre>\n"
      ],
      "text/plain": [
       "\u001b[1;31mloss = \u001b[0m\u001b[1;31mtensor\u001b[0m\u001b[1;31m(\u001b[0m\u001b[1;31m0.1821\u001b[0m\u001b[1;31m, \u001b[0m\u001b[1;31mdevice\u001b[0m\u001b[1;31m=\u001b[0m\u001b[1;31m'cuda:0'\u001b[0m\u001b[1;31m)\u001b[0m\u001b[1;31m computed_loss = \u001b[0m\u001b[1;31mtensor\u001b[0m\u001b[1;31m(\u001b[0m\u001b[1;31m0.1701\u001b[0m\u001b[1;31m, \u001b[0m\u001b[1;31mdevice\u001b[0m\u001b[1;31m=\u001b[0m\u001b[1;31m'cuda:0'\u001b[0m\u001b[1;31m, \u001b[0m\n",
       "\u001b[1;31mgrad_fn\u001b[0m\u001b[1;31m=\u001b[0m\u001b[1;31m<\u001b[0m\u001b[1;31mNllLossBackward0\u001b[0m\u001b[1;31m>\u001b[0m\u001b[1;31m)\u001b[0m\n"
      ]
     },
     "metadata": {},
     "output_type": "display_data"
    },
    {
     "data": {
      "text/html": [
       "<pre style=\"white-space:pre;overflow-x:auto;line-height:normal;font-family:Menlo,'DejaVu Sans Mono',consolas,'Courier New',monospace\"><span style=\"color: #800000; text-decoration-color: #800000; font-weight: bold\">loss = tensor(</span><span style=\"color: #800000; text-decoration-color: #800000; font-weight: bold\">0.1207</span><span style=\"color: #800000; text-decoration-color: #800000; font-weight: bold\">, </span><span style=\"color: #800000; text-decoration-color: #800000; font-weight: bold\">device</span><span style=\"color: #800000; text-decoration-color: #800000; font-weight: bold\">=</span><span style=\"color: #800000; text-decoration-color: #800000; font-weight: bold\">'cuda:0'</span><span style=\"color: #800000; text-decoration-color: #800000; font-weight: bold\">) computed_loss = tensor(</span><span style=\"color: #800000; text-decoration-color: #800000; font-weight: bold\">0.1184</span><span style=\"color: #800000; text-decoration-color: #800000; font-weight: bold\">, </span><span style=\"color: #800000; text-decoration-color: #800000; font-weight: bold\">device</span><span style=\"color: #800000; text-decoration-color: #800000; font-weight: bold\">=</span><span style=\"color: #800000; text-decoration-color: #800000; font-weight: bold\">'cuda:0'</span><span style=\"color: #800000; text-decoration-color: #800000; font-weight: bold\">, </span>\n",
       "<span style=\"color: #800000; text-decoration-color: #800000; font-weight: bold\">grad_fn</span><span style=\"color: #800000; text-decoration-color: #800000; font-weight: bold\">=&lt;NllLossBackward0&gt;)</span>\n",
       "</pre>\n"
      ],
      "text/plain": [
       "\u001b[1;31mloss = \u001b[0m\u001b[1;31mtensor\u001b[0m\u001b[1;31m(\u001b[0m\u001b[1;31m0.1207\u001b[0m\u001b[1;31m, \u001b[0m\u001b[1;31mdevice\u001b[0m\u001b[1;31m=\u001b[0m\u001b[1;31m'cuda:0'\u001b[0m\u001b[1;31m)\u001b[0m\u001b[1;31m computed_loss = \u001b[0m\u001b[1;31mtensor\u001b[0m\u001b[1;31m(\u001b[0m\u001b[1;31m0.1184\u001b[0m\u001b[1;31m, \u001b[0m\u001b[1;31mdevice\u001b[0m\u001b[1;31m=\u001b[0m\u001b[1;31m'cuda:0'\u001b[0m\u001b[1;31m, \u001b[0m\n",
       "\u001b[1;31mgrad_fn\u001b[0m\u001b[1;31m=\u001b[0m\u001b[1;31m<\u001b[0m\u001b[1;31mNllLossBackward0\u001b[0m\u001b[1;31m>\u001b[0m\u001b[1;31m)\u001b[0m\n"
      ]
     },
     "metadata": {},
     "output_type": "display_data"
    },
    {
     "data": {
      "text/html": [
       "<pre style=\"white-space:pre;overflow-x:auto;line-height:normal;font-family:Menlo,'DejaVu Sans Mono',consolas,'Courier New',monospace\"><span style=\"color: #800000; text-decoration-color: #800000; font-weight: bold\">loss = tensor(</span><span style=\"color: #800000; text-decoration-color: #800000; font-weight: bold\">0.2165</span><span style=\"color: #800000; text-decoration-color: #800000; font-weight: bold\">, </span><span style=\"color: #800000; text-decoration-color: #800000; font-weight: bold\">device</span><span style=\"color: #800000; text-decoration-color: #800000; font-weight: bold\">=</span><span style=\"color: #800000; text-decoration-color: #800000; font-weight: bold\">'cuda:0'</span><span style=\"color: #800000; text-decoration-color: #800000; font-weight: bold\">) computed_loss = tensor(</span><span style=\"color: #800000; text-decoration-color: #800000; font-weight: bold\">0.1962</span><span style=\"color: #800000; text-decoration-color: #800000; font-weight: bold\">, </span><span style=\"color: #800000; text-decoration-color: #800000; font-weight: bold\">device</span><span style=\"color: #800000; text-decoration-color: #800000; font-weight: bold\">=</span><span style=\"color: #800000; text-decoration-color: #800000; font-weight: bold\">'cuda:0'</span><span style=\"color: #800000; text-decoration-color: #800000; font-weight: bold\">, </span>\n",
       "<span style=\"color: #800000; text-decoration-color: #800000; font-weight: bold\">grad_fn</span><span style=\"color: #800000; text-decoration-color: #800000; font-weight: bold\">=&lt;NllLossBackward0&gt;)</span>\n",
       "</pre>\n"
      ],
      "text/plain": [
       "\u001b[1;31mloss = \u001b[0m\u001b[1;31mtensor\u001b[0m\u001b[1;31m(\u001b[0m\u001b[1;31m0.2165\u001b[0m\u001b[1;31m, \u001b[0m\u001b[1;31mdevice\u001b[0m\u001b[1;31m=\u001b[0m\u001b[1;31m'cuda:0'\u001b[0m\u001b[1;31m)\u001b[0m\u001b[1;31m computed_loss = \u001b[0m\u001b[1;31mtensor\u001b[0m\u001b[1;31m(\u001b[0m\u001b[1;31m0.1962\u001b[0m\u001b[1;31m, \u001b[0m\u001b[1;31mdevice\u001b[0m\u001b[1;31m=\u001b[0m\u001b[1;31m'cuda:0'\u001b[0m\u001b[1;31m, \u001b[0m\n",
       "\u001b[1;31mgrad_fn\u001b[0m\u001b[1;31m=\u001b[0m\u001b[1;31m<\u001b[0m\u001b[1;31mNllLossBackward0\u001b[0m\u001b[1;31m>\u001b[0m\u001b[1;31m)\u001b[0m\n"
      ]
     },
     "metadata": {},
     "output_type": "display_data"
    },
    {
     "data": {
      "text/html": [
       "<pre style=\"white-space:pre;overflow-x:auto;line-height:normal;font-family:Menlo,'DejaVu Sans Mono',consolas,'Courier New',monospace\"><span style=\"color: #800000; text-decoration-color: #800000; font-weight: bold\">loss = tensor(</span><span style=\"color: #800000; text-decoration-color: #800000; font-weight: bold\">0.1474</span><span style=\"color: #800000; text-decoration-color: #800000; font-weight: bold\">, </span><span style=\"color: #800000; text-decoration-color: #800000; font-weight: bold\">device</span><span style=\"color: #800000; text-decoration-color: #800000; font-weight: bold\">=</span><span style=\"color: #800000; text-decoration-color: #800000; font-weight: bold\">'cuda:0'</span><span style=\"color: #800000; text-decoration-color: #800000; font-weight: bold\">) computed_loss = tensor(</span><span style=\"color: #800000; text-decoration-color: #800000; font-weight: bold\">0.1543</span><span style=\"color: #800000; text-decoration-color: #800000; font-weight: bold\">, </span><span style=\"color: #800000; text-decoration-color: #800000; font-weight: bold\">device</span><span style=\"color: #800000; text-decoration-color: #800000; font-weight: bold\">=</span><span style=\"color: #800000; text-decoration-color: #800000; font-weight: bold\">'cuda:0'</span><span style=\"color: #800000; text-decoration-color: #800000; font-weight: bold\">, </span>\n",
       "<span style=\"color: #800000; text-decoration-color: #800000; font-weight: bold\">grad_fn</span><span style=\"color: #800000; text-decoration-color: #800000; font-weight: bold\">=&lt;NllLossBackward0&gt;)</span>\n",
       "</pre>\n"
      ],
      "text/plain": [
       "\u001b[1;31mloss = \u001b[0m\u001b[1;31mtensor\u001b[0m\u001b[1;31m(\u001b[0m\u001b[1;31m0.1474\u001b[0m\u001b[1;31m, \u001b[0m\u001b[1;31mdevice\u001b[0m\u001b[1;31m=\u001b[0m\u001b[1;31m'cuda:0'\u001b[0m\u001b[1;31m)\u001b[0m\u001b[1;31m computed_loss = \u001b[0m\u001b[1;31mtensor\u001b[0m\u001b[1;31m(\u001b[0m\u001b[1;31m0.1543\u001b[0m\u001b[1;31m, \u001b[0m\u001b[1;31mdevice\u001b[0m\u001b[1;31m=\u001b[0m\u001b[1;31m'cuda:0'\u001b[0m\u001b[1;31m, \u001b[0m\n",
       "\u001b[1;31mgrad_fn\u001b[0m\u001b[1;31m=\u001b[0m\u001b[1;31m<\u001b[0m\u001b[1;31mNllLossBackward0\u001b[0m\u001b[1;31m>\u001b[0m\u001b[1;31m)\u001b[0m\n"
      ]
     },
     "metadata": {},
     "output_type": "display_data"
    },
    {
     "data": {
      "text/html": [
       "<pre style=\"white-space:pre;overflow-x:auto;line-height:normal;font-family:Menlo,'DejaVu Sans Mono',consolas,'Courier New',monospace\"><span style=\"color: #800000; text-decoration-color: #800000; font-weight: bold\">loss = tensor(</span><span style=\"color: #800000; text-decoration-color: #800000; font-weight: bold\">0.4121</span><span style=\"color: #800000; text-decoration-color: #800000; font-weight: bold\">, </span><span style=\"color: #800000; text-decoration-color: #800000; font-weight: bold\">device</span><span style=\"color: #800000; text-decoration-color: #800000; font-weight: bold\">=</span><span style=\"color: #800000; text-decoration-color: #800000; font-weight: bold\">'cuda:0'</span><span style=\"color: #800000; text-decoration-color: #800000; font-weight: bold\">) computed_loss = tensor(</span><span style=\"color: #800000; text-decoration-color: #800000; font-weight: bold\">0.4302</span><span style=\"color: #800000; text-decoration-color: #800000; font-weight: bold\">, </span><span style=\"color: #800000; text-decoration-color: #800000; font-weight: bold\">device</span><span style=\"color: #800000; text-decoration-color: #800000; font-weight: bold\">=</span><span style=\"color: #800000; text-decoration-color: #800000; font-weight: bold\">'cuda:0'</span><span style=\"color: #800000; text-decoration-color: #800000; font-weight: bold\">, </span>\n",
       "<span style=\"color: #800000; text-decoration-color: #800000; font-weight: bold\">grad_fn</span><span style=\"color: #800000; text-decoration-color: #800000; font-weight: bold\">=&lt;NllLossBackward0&gt;)</span>\n",
       "</pre>\n"
      ],
      "text/plain": [
       "\u001b[1;31mloss = \u001b[0m\u001b[1;31mtensor\u001b[0m\u001b[1;31m(\u001b[0m\u001b[1;31m0.4121\u001b[0m\u001b[1;31m, \u001b[0m\u001b[1;31mdevice\u001b[0m\u001b[1;31m=\u001b[0m\u001b[1;31m'cuda:0'\u001b[0m\u001b[1;31m)\u001b[0m\u001b[1;31m computed_loss = \u001b[0m\u001b[1;31mtensor\u001b[0m\u001b[1;31m(\u001b[0m\u001b[1;31m0.4302\u001b[0m\u001b[1;31m, \u001b[0m\u001b[1;31mdevice\u001b[0m\u001b[1;31m=\u001b[0m\u001b[1;31m'cuda:0'\u001b[0m\u001b[1;31m, \u001b[0m\n",
       "\u001b[1;31mgrad_fn\u001b[0m\u001b[1;31m=\u001b[0m\u001b[1;31m<\u001b[0m\u001b[1;31mNllLossBackward0\u001b[0m\u001b[1;31m>\u001b[0m\u001b[1;31m)\u001b[0m\n"
      ]
     },
     "metadata": {},
     "output_type": "display_data"
    },
    {
     "data": {
      "text/html": [
       "<pre style=\"white-space:pre;overflow-x:auto;line-height:normal;font-family:Menlo,'DejaVu Sans Mono',consolas,'Courier New',monospace\"><span style=\"color: #800000; text-decoration-color: #800000; font-weight: bold\">loss = tensor(</span><span style=\"color: #800000; text-decoration-color: #800000; font-weight: bold\">0.3505</span><span style=\"color: #800000; text-decoration-color: #800000; font-weight: bold\">, </span><span style=\"color: #800000; text-decoration-color: #800000; font-weight: bold\">device</span><span style=\"color: #800000; text-decoration-color: #800000; font-weight: bold\">=</span><span style=\"color: #800000; text-decoration-color: #800000; font-weight: bold\">'cuda:0'</span><span style=\"color: #800000; text-decoration-color: #800000; font-weight: bold\">) computed_loss = tensor(</span><span style=\"color: #800000; text-decoration-color: #800000; font-weight: bold\">0.3569</span><span style=\"color: #800000; text-decoration-color: #800000; font-weight: bold\">, </span><span style=\"color: #800000; text-decoration-color: #800000; font-weight: bold\">device</span><span style=\"color: #800000; text-decoration-color: #800000; font-weight: bold\">=</span><span style=\"color: #800000; text-decoration-color: #800000; font-weight: bold\">'cuda:0'</span><span style=\"color: #800000; text-decoration-color: #800000; font-weight: bold\">, </span>\n",
       "<span style=\"color: #800000; text-decoration-color: #800000; font-weight: bold\">grad_fn</span><span style=\"color: #800000; text-decoration-color: #800000; font-weight: bold\">=&lt;NllLossBackward0&gt;)</span>\n",
       "</pre>\n"
      ],
      "text/plain": [
       "\u001b[1;31mloss = \u001b[0m\u001b[1;31mtensor\u001b[0m\u001b[1;31m(\u001b[0m\u001b[1;31m0.3505\u001b[0m\u001b[1;31m, \u001b[0m\u001b[1;31mdevice\u001b[0m\u001b[1;31m=\u001b[0m\u001b[1;31m'cuda:0'\u001b[0m\u001b[1;31m)\u001b[0m\u001b[1;31m computed_loss = \u001b[0m\u001b[1;31mtensor\u001b[0m\u001b[1;31m(\u001b[0m\u001b[1;31m0.3569\u001b[0m\u001b[1;31m, \u001b[0m\u001b[1;31mdevice\u001b[0m\u001b[1;31m=\u001b[0m\u001b[1;31m'cuda:0'\u001b[0m\u001b[1;31m, \u001b[0m\n",
       "\u001b[1;31mgrad_fn\u001b[0m\u001b[1;31m=\u001b[0m\u001b[1;31m<\u001b[0m\u001b[1;31mNllLossBackward0\u001b[0m\u001b[1;31m>\u001b[0m\u001b[1;31m)\u001b[0m\n"
      ]
     },
     "metadata": {},
     "output_type": "display_data"
    },
    {
     "data": {
      "text/html": [
       "<pre style=\"white-space:pre;overflow-x:auto;line-height:normal;font-family:Menlo,'DejaVu Sans Mono',consolas,'Courier New',monospace\"><span style=\"color: #800000; text-decoration-color: #800000; font-weight: bold\">loss = tensor(</span><span style=\"color: #800000; text-decoration-color: #800000; font-weight: bold\">0.0251</span><span style=\"color: #800000; text-decoration-color: #800000; font-weight: bold\">, </span><span style=\"color: #800000; text-decoration-color: #800000; font-weight: bold\">device</span><span style=\"color: #800000; text-decoration-color: #800000; font-weight: bold\">=</span><span style=\"color: #800000; text-decoration-color: #800000; font-weight: bold\">'cuda:0'</span><span style=\"color: #800000; text-decoration-color: #800000; font-weight: bold\">) computed_loss = tensor(</span><span style=\"color: #800000; text-decoration-color: #800000; font-weight: bold\">0.0246</span><span style=\"color: #800000; text-decoration-color: #800000; font-weight: bold\">, </span><span style=\"color: #800000; text-decoration-color: #800000; font-weight: bold\">device</span><span style=\"color: #800000; text-decoration-color: #800000; font-weight: bold\">=</span><span style=\"color: #800000; text-decoration-color: #800000; font-weight: bold\">'cuda:0'</span><span style=\"color: #800000; text-decoration-color: #800000; font-weight: bold\">, </span>\n",
       "<span style=\"color: #800000; text-decoration-color: #800000; font-weight: bold\">grad_fn</span><span style=\"color: #800000; text-decoration-color: #800000; font-weight: bold\">=&lt;NllLossBackward0&gt;)</span>\n",
       "</pre>\n"
      ],
      "text/plain": [
       "\u001b[1;31mloss = \u001b[0m\u001b[1;31mtensor\u001b[0m\u001b[1;31m(\u001b[0m\u001b[1;31m0.0251\u001b[0m\u001b[1;31m, \u001b[0m\u001b[1;31mdevice\u001b[0m\u001b[1;31m=\u001b[0m\u001b[1;31m'cuda:0'\u001b[0m\u001b[1;31m)\u001b[0m\u001b[1;31m computed_loss = \u001b[0m\u001b[1;31mtensor\u001b[0m\u001b[1;31m(\u001b[0m\u001b[1;31m0.0246\u001b[0m\u001b[1;31m, \u001b[0m\u001b[1;31mdevice\u001b[0m\u001b[1;31m=\u001b[0m\u001b[1;31m'cuda:0'\u001b[0m\u001b[1;31m, \u001b[0m\n",
       "\u001b[1;31mgrad_fn\u001b[0m\u001b[1;31m=\u001b[0m\u001b[1;31m<\u001b[0m\u001b[1;31mNllLossBackward0\u001b[0m\u001b[1;31m>\u001b[0m\u001b[1;31m)\u001b[0m\n"
      ]
     },
     "metadata": {},
     "output_type": "display_data"
    },
    {
     "data": {
      "text/html": [
       "<pre style=\"white-space:pre;overflow-x:auto;line-height:normal;font-family:Menlo,'DejaVu Sans Mono',consolas,'Courier New',monospace\"><span style=\"color: #800000; text-decoration-color: #800000; font-weight: bold\">loss = tensor(</span><span style=\"color: #800000; text-decoration-color: #800000; font-weight: bold\">0.2768</span><span style=\"color: #800000; text-decoration-color: #800000; font-weight: bold\">, </span><span style=\"color: #800000; text-decoration-color: #800000; font-weight: bold\">device</span><span style=\"color: #800000; text-decoration-color: #800000; font-weight: bold\">=</span><span style=\"color: #800000; text-decoration-color: #800000; font-weight: bold\">'cuda:0'</span><span style=\"color: #800000; text-decoration-color: #800000; font-weight: bold\">) computed_loss = tensor(</span><span style=\"color: #800000; text-decoration-color: #800000; font-weight: bold\">0.2655</span><span style=\"color: #800000; text-decoration-color: #800000; font-weight: bold\">, </span><span style=\"color: #800000; text-decoration-color: #800000; font-weight: bold\">device</span><span style=\"color: #800000; text-decoration-color: #800000; font-weight: bold\">=</span><span style=\"color: #800000; text-decoration-color: #800000; font-weight: bold\">'cuda:0'</span><span style=\"color: #800000; text-decoration-color: #800000; font-weight: bold\">, </span>\n",
       "<span style=\"color: #800000; text-decoration-color: #800000; font-weight: bold\">grad_fn</span><span style=\"color: #800000; text-decoration-color: #800000; font-weight: bold\">=&lt;NllLossBackward0&gt;)</span>\n",
       "</pre>\n"
      ],
      "text/plain": [
       "\u001b[1;31mloss = \u001b[0m\u001b[1;31mtensor\u001b[0m\u001b[1;31m(\u001b[0m\u001b[1;31m0.2768\u001b[0m\u001b[1;31m, \u001b[0m\u001b[1;31mdevice\u001b[0m\u001b[1;31m=\u001b[0m\u001b[1;31m'cuda:0'\u001b[0m\u001b[1;31m)\u001b[0m\u001b[1;31m computed_loss = \u001b[0m\u001b[1;31mtensor\u001b[0m\u001b[1;31m(\u001b[0m\u001b[1;31m0.2655\u001b[0m\u001b[1;31m, \u001b[0m\u001b[1;31mdevice\u001b[0m\u001b[1;31m=\u001b[0m\u001b[1;31m'cuda:0'\u001b[0m\u001b[1;31m, \u001b[0m\n",
       "\u001b[1;31mgrad_fn\u001b[0m\u001b[1;31m=\u001b[0m\u001b[1;31m<\u001b[0m\u001b[1;31mNllLossBackward0\u001b[0m\u001b[1;31m>\u001b[0m\u001b[1;31m)\u001b[0m\n"
      ]
     },
     "metadata": {},
     "output_type": "display_data"
    },
    {
     "data": {
      "text/html": [
       "<pre style=\"white-space:pre;overflow-x:auto;line-height:normal;font-family:Menlo,'DejaVu Sans Mono',consolas,'Courier New',monospace\"><span style=\"color: #800000; text-decoration-color: #800000; font-weight: bold\">loss = tensor(</span><span style=\"color: #800000; text-decoration-color: #800000; font-weight: bold\">0.0349</span><span style=\"color: #800000; text-decoration-color: #800000; font-weight: bold\">, </span><span style=\"color: #800000; text-decoration-color: #800000; font-weight: bold\">device</span><span style=\"color: #800000; text-decoration-color: #800000; font-weight: bold\">=</span><span style=\"color: #800000; text-decoration-color: #800000; font-weight: bold\">'cuda:0'</span><span style=\"color: #800000; text-decoration-color: #800000; font-weight: bold\">) computed_loss = tensor(</span><span style=\"color: #800000; text-decoration-color: #800000; font-weight: bold\">0.0354</span><span style=\"color: #800000; text-decoration-color: #800000; font-weight: bold\">, </span><span style=\"color: #800000; text-decoration-color: #800000; font-weight: bold\">device</span><span style=\"color: #800000; text-decoration-color: #800000; font-weight: bold\">=</span><span style=\"color: #800000; text-decoration-color: #800000; font-weight: bold\">'cuda:0'</span><span style=\"color: #800000; text-decoration-color: #800000; font-weight: bold\">, </span>\n",
       "<span style=\"color: #800000; text-decoration-color: #800000; font-weight: bold\">grad_fn</span><span style=\"color: #800000; text-decoration-color: #800000; font-weight: bold\">=&lt;NllLossBackward0&gt;)</span>\n",
       "</pre>\n"
      ],
      "text/plain": [
       "\u001b[1;31mloss = \u001b[0m\u001b[1;31mtensor\u001b[0m\u001b[1;31m(\u001b[0m\u001b[1;31m0.0349\u001b[0m\u001b[1;31m, \u001b[0m\u001b[1;31mdevice\u001b[0m\u001b[1;31m=\u001b[0m\u001b[1;31m'cuda:0'\u001b[0m\u001b[1;31m)\u001b[0m\u001b[1;31m computed_loss = \u001b[0m\u001b[1;31mtensor\u001b[0m\u001b[1;31m(\u001b[0m\u001b[1;31m0.0354\u001b[0m\u001b[1;31m, \u001b[0m\u001b[1;31mdevice\u001b[0m\u001b[1;31m=\u001b[0m\u001b[1;31m'cuda:0'\u001b[0m\u001b[1;31m, \u001b[0m\n",
       "\u001b[1;31mgrad_fn\u001b[0m\u001b[1;31m=\u001b[0m\u001b[1;31m<\u001b[0m\u001b[1;31mNllLossBackward0\u001b[0m\u001b[1;31m>\u001b[0m\u001b[1;31m)\u001b[0m\n"
      ]
     },
     "metadata": {},
     "output_type": "display_data"
    },
    {
     "data": {
      "text/html": [
       "<pre style=\"white-space:pre;overflow-x:auto;line-height:normal;font-family:Menlo,'DejaVu Sans Mono',consolas,'Courier New',monospace\"><span style=\"color: #800000; text-decoration-color: #800000; font-weight: bold\">loss = tensor(</span><span style=\"color: #800000; text-decoration-color: #800000; font-weight: bold\">0.0857</span><span style=\"color: #800000; text-decoration-color: #800000; font-weight: bold\">, </span><span style=\"color: #800000; text-decoration-color: #800000; font-weight: bold\">device</span><span style=\"color: #800000; text-decoration-color: #800000; font-weight: bold\">=</span><span style=\"color: #800000; text-decoration-color: #800000; font-weight: bold\">'cuda:0'</span><span style=\"color: #800000; text-decoration-color: #800000; font-weight: bold\">) computed_loss = tensor(</span><span style=\"color: #800000; text-decoration-color: #800000; font-weight: bold\">0.0871</span><span style=\"color: #800000; text-decoration-color: #800000; font-weight: bold\">, </span><span style=\"color: #800000; text-decoration-color: #800000; font-weight: bold\">device</span><span style=\"color: #800000; text-decoration-color: #800000; font-weight: bold\">=</span><span style=\"color: #800000; text-decoration-color: #800000; font-weight: bold\">'cuda:0'</span><span style=\"color: #800000; text-decoration-color: #800000; font-weight: bold\">, </span>\n",
       "<span style=\"color: #800000; text-decoration-color: #800000; font-weight: bold\">grad_fn</span><span style=\"color: #800000; text-decoration-color: #800000; font-weight: bold\">=&lt;NllLossBackward0&gt;)</span>\n",
       "</pre>\n"
      ],
      "text/plain": [
       "\u001b[1;31mloss = \u001b[0m\u001b[1;31mtensor\u001b[0m\u001b[1;31m(\u001b[0m\u001b[1;31m0.0857\u001b[0m\u001b[1;31m, \u001b[0m\u001b[1;31mdevice\u001b[0m\u001b[1;31m=\u001b[0m\u001b[1;31m'cuda:0'\u001b[0m\u001b[1;31m)\u001b[0m\u001b[1;31m computed_loss = \u001b[0m\u001b[1;31mtensor\u001b[0m\u001b[1;31m(\u001b[0m\u001b[1;31m0.0871\u001b[0m\u001b[1;31m, \u001b[0m\u001b[1;31mdevice\u001b[0m\u001b[1;31m=\u001b[0m\u001b[1;31m'cuda:0'\u001b[0m\u001b[1;31m, \u001b[0m\n",
       "\u001b[1;31mgrad_fn\u001b[0m\u001b[1;31m=\u001b[0m\u001b[1;31m<\u001b[0m\u001b[1;31mNllLossBackward0\u001b[0m\u001b[1;31m>\u001b[0m\u001b[1;31m)\u001b[0m\n"
      ]
     },
     "metadata": {},
     "output_type": "display_data"
    },
    {
     "data": {
      "text/html": [
       "<pre style=\"white-space:pre;overflow-x:auto;line-height:normal;font-family:Menlo,'DejaVu Sans Mono',consolas,'Courier New',monospace\"><span style=\"color: #800000; text-decoration-color: #800000; font-weight: bold\">loss = tensor(</span><span style=\"color: #800000; text-decoration-color: #800000; font-weight: bold\">0.2644</span><span style=\"color: #800000; text-decoration-color: #800000; font-weight: bold\">, </span><span style=\"color: #800000; text-decoration-color: #800000; font-weight: bold\">device</span><span style=\"color: #800000; text-decoration-color: #800000; font-weight: bold\">=</span><span style=\"color: #800000; text-decoration-color: #800000; font-weight: bold\">'cuda:0'</span><span style=\"color: #800000; text-decoration-color: #800000; font-weight: bold\">) computed_loss = tensor(</span><span style=\"color: #800000; text-decoration-color: #800000; font-weight: bold\">0.2740</span><span style=\"color: #800000; text-decoration-color: #800000; font-weight: bold\">, </span><span style=\"color: #800000; text-decoration-color: #800000; font-weight: bold\">device</span><span style=\"color: #800000; text-decoration-color: #800000; font-weight: bold\">=</span><span style=\"color: #800000; text-decoration-color: #800000; font-weight: bold\">'cuda:0'</span><span style=\"color: #800000; text-decoration-color: #800000; font-weight: bold\">, </span>\n",
       "<span style=\"color: #800000; text-decoration-color: #800000; font-weight: bold\">grad_fn</span><span style=\"color: #800000; text-decoration-color: #800000; font-weight: bold\">=&lt;NllLossBackward0&gt;)</span>\n",
       "</pre>\n"
      ],
      "text/plain": [
       "\u001b[1;31mloss = \u001b[0m\u001b[1;31mtensor\u001b[0m\u001b[1;31m(\u001b[0m\u001b[1;31m0.2644\u001b[0m\u001b[1;31m, \u001b[0m\u001b[1;31mdevice\u001b[0m\u001b[1;31m=\u001b[0m\u001b[1;31m'cuda:0'\u001b[0m\u001b[1;31m)\u001b[0m\u001b[1;31m computed_loss = \u001b[0m\u001b[1;31mtensor\u001b[0m\u001b[1;31m(\u001b[0m\u001b[1;31m0.2740\u001b[0m\u001b[1;31m, \u001b[0m\u001b[1;31mdevice\u001b[0m\u001b[1;31m=\u001b[0m\u001b[1;31m'cuda:0'\u001b[0m\u001b[1;31m, \u001b[0m\n",
       "\u001b[1;31mgrad_fn\u001b[0m\u001b[1;31m=\u001b[0m\u001b[1;31m<\u001b[0m\u001b[1;31mNllLossBackward0\u001b[0m\u001b[1;31m>\u001b[0m\u001b[1;31m)\u001b[0m\n"
      ]
     },
     "metadata": {},
     "output_type": "display_data"
    },
    {
     "data": {
      "text/html": [
       "<pre style=\"white-space:pre;overflow-x:auto;line-height:normal;font-family:Menlo,'DejaVu Sans Mono',consolas,'Courier New',monospace\"><span style=\"color: #800000; text-decoration-color: #800000; font-weight: bold\">loss = tensor(</span><span style=\"color: #800000; text-decoration-color: #800000; font-weight: bold\">0.7883</span><span style=\"color: #800000; text-decoration-color: #800000; font-weight: bold\">, </span><span style=\"color: #800000; text-decoration-color: #800000; font-weight: bold\">device</span><span style=\"color: #800000; text-decoration-color: #800000; font-weight: bold\">=</span><span style=\"color: #800000; text-decoration-color: #800000; font-weight: bold\">'cuda:0'</span><span style=\"color: #800000; text-decoration-color: #800000; font-weight: bold\">) computed_loss = tensor(</span><span style=\"color: #800000; text-decoration-color: #800000; font-weight: bold\">0.7500</span><span style=\"color: #800000; text-decoration-color: #800000; font-weight: bold\">, </span><span style=\"color: #800000; text-decoration-color: #800000; font-weight: bold\">device</span><span style=\"color: #800000; text-decoration-color: #800000; font-weight: bold\">=</span><span style=\"color: #800000; text-decoration-color: #800000; font-weight: bold\">'cuda:0'</span><span style=\"color: #800000; text-decoration-color: #800000; font-weight: bold\">, </span>\n",
       "<span style=\"color: #800000; text-decoration-color: #800000; font-weight: bold\">grad_fn</span><span style=\"color: #800000; text-decoration-color: #800000; font-weight: bold\">=&lt;NllLossBackward0&gt;)</span>\n",
       "</pre>\n"
      ],
      "text/plain": [
       "\u001b[1;31mloss = \u001b[0m\u001b[1;31mtensor\u001b[0m\u001b[1;31m(\u001b[0m\u001b[1;31m0.7883\u001b[0m\u001b[1;31m, \u001b[0m\u001b[1;31mdevice\u001b[0m\u001b[1;31m=\u001b[0m\u001b[1;31m'cuda:0'\u001b[0m\u001b[1;31m)\u001b[0m\u001b[1;31m computed_loss = \u001b[0m\u001b[1;31mtensor\u001b[0m\u001b[1;31m(\u001b[0m\u001b[1;31m0.7500\u001b[0m\u001b[1;31m, \u001b[0m\u001b[1;31mdevice\u001b[0m\u001b[1;31m=\u001b[0m\u001b[1;31m'cuda:0'\u001b[0m\u001b[1;31m, \u001b[0m\n",
       "\u001b[1;31mgrad_fn\u001b[0m\u001b[1;31m=\u001b[0m\u001b[1;31m<\u001b[0m\u001b[1;31mNllLossBackward0\u001b[0m\u001b[1;31m>\u001b[0m\u001b[1;31m)\u001b[0m\n"
      ]
     },
     "metadata": {},
     "output_type": "display_data"
    },
    {
     "data": {
      "text/html": [
       "<pre style=\"white-space:pre;overflow-x:auto;line-height:normal;font-family:Menlo,'DejaVu Sans Mono',consolas,'Courier New',monospace\"><span style=\"color: #800000; text-decoration-color: #800000; font-weight: bold\">loss = tensor(</span><span style=\"color: #800000; text-decoration-color: #800000; font-weight: bold\">0.4210</span><span style=\"color: #800000; text-decoration-color: #800000; font-weight: bold\">, </span><span style=\"color: #800000; text-decoration-color: #800000; font-weight: bold\">device</span><span style=\"color: #800000; text-decoration-color: #800000; font-weight: bold\">=</span><span style=\"color: #800000; text-decoration-color: #800000; font-weight: bold\">'cuda:0'</span><span style=\"color: #800000; text-decoration-color: #800000; font-weight: bold\">) computed_loss = tensor(</span><span style=\"color: #800000; text-decoration-color: #800000; font-weight: bold\">0.3811</span><span style=\"color: #800000; text-decoration-color: #800000; font-weight: bold\">, </span><span style=\"color: #800000; text-decoration-color: #800000; font-weight: bold\">device</span><span style=\"color: #800000; text-decoration-color: #800000; font-weight: bold\">=</span><span style=\"color: #800000; text-decoration-color: #800000; font-weight: bold\">'cuda:0'</span><span style=\"color: #800000; text-decoration-color: #800000; font-weight: bold\">, </span>\n",
       "<span style=\"color: #800000; text-decoration-color: #800000; font-weight: bold\">grad_fn</span><span style=\"color: #800000; text-decoration-color: #800000; font-weight: bold\">=&lt;NllLossBackward0&gt;)</span>\n",
       "</pre>\n"
      ],
      "text/plain": [
       "\u001b[1;31mloss = \u001b[0m\u001b[1;31mtensor\u001b[0m\u001b[1;31m(\u001b[0m\u001b[1;31m0.4210\u001b[0m\u001b[1;31m, \u001b[0m\u001b[1;31mdevice\u001b[0m\u001b[1;31m=\u001b[0m\u001b[1;31m'cuda:0'\u001b[0m\u001b[1;31m)\u001b[0m\u001b[1;31m computed_loss = \u001b[0m\u001b[1;31mtensor\u001b[0m\u001b[1;31m(\u001b[0m\u001b[1;31m0.3811\u001b[0m\u001b[1;31m, \u001b[0m\u001b[1;31mdevice\u001b[0m\u001b[1;31m=\u001b[0m\u001b[1;31m'cuda:0'\u001b[0m\u001b[1;31m, \u001b[0m\n",
       "\u001b[1;31mgrad_fn\u001b[0m\u001b[1;31m=\u001b[0m\u001b[1;31m<\u001b[0m\u001b[1;31mNllLossBackward0\u001b[0m\u001b[1;31m>\u001b[0m\u001b[1;31m)\u001b[0m\n"
      ]
     },
     "metadata": {},
     "output_type": "display_data"
    },
    {
     "data": {
      "text/html": [
       "<pre style=\"white-space:pre;overflow-x:auto;line-height:normal;font-family:Menlo,'DejaVu Sans Mono',consolas,'Courier New',monospace\"><span style=\"color: #800000; text-decoration-color: #800000; font-weight: bold\">loss = tensor(</span><span style=\"color: #800000; text-decoration-color: #800000; font-weight: bold\">0.3156</span><span style=\"color: #800000; text-decoration-color: #800000; font-weight: bold\">, </span><span style=\"color: #800000; text-decoration-color: #800000; font-weight: bold\">device</span><span style=\"color: #800000; text-decoration-color: #800000; font-weight: bold\">=</span><span style=\"color: #800000; text-decoration-color: #800000; font-weight: bold\">'cuda:0'</span><span style=\"color: #800000; text-decoration-color: #800000; font-weight: bold\">) computed_loss = tensor(</span><span style=\"color: #800000; text-decoration-color: #800000; font-weight: bold\">0.2881</span><span style=\"color: #800000; text-decoration-color: #800000; font-weight: bold\">, </span><span style=\"color: #800000; text-decoration-color: #800000; font-weight: bold\">device</span><span style=\"color: #800000; text-decoration-color: #800000; font-weight: bold\">=</span><span style=\"color: #800000; text-decoration-color: #800000; font-weight: bold\">'cuda:0'</span><span style=\"color: #800000; text-decoration-color: #800000; font-weight: bold\">, </span>\n",
       "<span style=\"color: #800000; text-decoration-color: #800000; font-weight: bold\">grad_fn</span><span style=\"color: #800000; text-decoration-color: #800000; font-weight: bold\">=&lt;NllLossBackward0&gt;)</span>\n",
       "</pre>\n"
      ],
      "text/plain": [
       "\u001b[1;31mloss = \u001b[0m\u001b[1;31mtensor\u001b[0m\u001b[1;31m(\u001b[0m\u001b[1;31m0.3156\u001b[0m\u001b[1;31m, \u001b[0m\u001b[1;31mdevice\u001b[0m\u001b[1;31m=\u001b[0m\u001b[1;31m'cuda:0'\u001b[0m\u001b[1;31m)\u001b[0m\u001b[1;31m computed_loss = \u001b[0m\u001b[1;31mtensor\u001b[0m\u001b[1;31m(\u001b[0m\u001b[1;31m0.2881\u001b[0m\u001b[1;31m, \u001b[0m\u001b[1;31mdevice\u001b[0m\u001b[1;31m=\u001b[0m\u001b[1;31m'cuda:0'\u001b[0m\u001b[1;31m, \u001b[0m\n",
       "\u001b[1;31mgrad_fn\u001b[0m\u001b[1;31m=\u001b[0m\u001b[1;31m<\u001b[0m\u001b[1;31mNllLossBackward0\u001b[0m\u001b[1;31m>\u001b[0m\u001b[1;31m)\u001b[0m\n"
      ]
     },
     "metadata": {},
     "output_type": "display_data"
    },
    {
     "data": {
      "text/html": [
       "<pre style=\"white-space:pre;overflow-x:auto;line-height:normal;font-family:Menlo,'DejaVu Sans Mono',consolas,'Courier New',monospace\"><span style=\"color: #800000; text-decoration-color: #800000; font-weight: bold\">loss = tensor(</span><span style=\"color: #800000; text-decoration-color: #800000; font-weight: bold\">0.6488</span><span style=\"color: #800000; text-decoration-color: #800000; font-weight: bold\">, </span><span style=\"color: #800000; text-decoration-color: #800000; font-weight: bold\">device</span><span style=\"color: #800000; text-decoration-color: #800000; font-weight: bold\">=</span><span style=\"color: #800000; text-decoration-color: #800000; font-weight: bold\">'cuda:0'</span><span style=\"color: #800000; text-decoration-color: #800000; font-weight: bold\">) computed_loss = tensor(</span><span style=\"color: #800000; text-decoration-color: #800000; font-weight: bold\">0.6460</span><span style=\"color: #800000; text-decoration-color: #800000; font-weight: bold\">, </span><span style=\"color: #800000; text-decoration-color: #800000; font-weight: bold\">device</span><span style=\"color: #800000; text-decoration-color: #800000; font-weight: bold\">=</span><span style=\"color: #800000; text-decoration-color: #800000; font-weight: bold\">'cuda:0'</span><span style=\"color: #800000; text-decoration-color: #800000; font-weight: bold\">, </span>\n",
       "<span style=\"color: #800000; text-decoration-color: #800000; font-weight: bold\">grad_fn</span><span style=\"color: #800000; text-decoration-color: #800000; font-weight: bold\">=&lt;NllLossBackward0&gt;)</span>\n",
       "</pre>\n"
      ],
      "text/plain": [
       "\u001b[1;31mloss = \u001b[0m\u001b[1;31mtensor\u001b[0m\u001b[1;31m(\u001b[0m\u001b[1;31m0.6488\u001b[0m\u001b[1;31m, \u001b[0m\u001b[1;31mdevice\u001b[0m\u001b[1;31m=\u001b[0m\u001b[1;31m'cuda:0'\u001b[0m\u001b[1;31m)\u001b[0m\u001b[1;31m computed_loss = \u001b[0m\u001b[1;31mtensor\u001b[0m\u001b[1;31m(\u001b[0m\u001b[1;31m0.6460\u001b[0m\u001b[1;31m, \u001b[0m\u001b[1;31mdevice\u001b[0m\u001b[1;31m=\u001b[0m\u001b[1;31m'cuda:0'\u001b[0m\u001b[1;31m, \u001b[0m\n",
       "\u001b[1;31mgrad_fn\u001b[0m\u001b[1;31m=\u001b[0m\u001b[1;31m<\u001b[0m\u001b[1;31mNllLossBackward0\u001b[0m\u001b[1;31m>\u001b[0m\u001b[1;31m)\u001b[0m\n"
      ]
     },
     "metadata": {},
     "output_type": "display_data"
    },
    {
     "data": {
      "text/html": [
       "<pre style=\"white-space:pre;overflow-x:auto;line-height:normal;font-family:Menlo,'DejaVu Sans Mono',consolas,'Courier New',monospace\"><span style=\"color: #800000; text-decoration-color: #800000; font-weight: bold\">loss = tensor(</span><span style=\"color: #800000; text-decoration-color: #800000; font-weight: bold\">0.0200</span><span style=\"color: #800000; text-decoration-color: #800000; font-weight: bold\">, </span><span style=\"color: #800000; text-decoration-color: #800000; font-weight: bold\">device</span><span style=\"color: #800000; text-decoration-color: #800000; font-weight: bold\">=</span><span style=\"color: #800000; text-decoration-color: #800000; font-weight: bold\">'cuda:0'</span><span style=\"color: #800000; text-decoration-color: #800000; font-weight: bold\">) computed_loss = tensor(</span><span style=\"color: #800000; text-decoration-color: #800000; font-weight: bold\">0.0197</span><span style=\"color: #800000; text-decoration-color: #800000; font-weight: bold\">, </span><span style=\"color: #800000; text-decoration-color: #800000; font-weight: bold\">device</span><span style=\"color: #800000; text-decoration-color: #800000; font-weight: bold\">=</span><span style=\"color: #800000; text-decoration-color: #800000; font-weight: bold\">'cuda:0'</span><span style=\"color: #800000; text-decoration-color: #800000; font-weight: bold\">, </span>\n",
       "<span style=\"color: #800000; text-decoration-color: #800000; font-weight: bold\">grad_fn</span><span style=\"color: #800000; text-decoration-color: #800000; font-weight: bold\">=&lt;NllLossBackward0&gt;)</span>\n",
       "</pre>\n"
      ],
      "text/plain": [
       "\u001b[1;31mloss = \u001b[0m\u001b[1;31mtensor\u001b[0m\u001b[1;31m(\u001b[0m\u001b[1;31m0.0200\u001b[0m\u001b[1;31m, \u001b[0m\u001b[1;31mdevice\u001b[0m\u001b[1;31m=\u001b[0m\u001b[1;31m'cuda:0'\u001b[0m\u001b[1;31m)\u001b[0m\u001b[1;31m computed_loss = \u001b[0m\u001b[1;31mtensor\u001b[0m\u001b[1;31m(\u001b[0m\u001b[1;31m0.0197\u001b[0m\u001b[1;31m, \u001b[0m\u001b[1;31mdevice\u001b[0m\u001b[1;31m=\u001b[0m\u001b[1;31m'cuda:0'\u001b[0m\u001b[1;31m, \u001b[0m\n",
       "\u001b[1;31mgrad_fn\u001b[0m\u001b[1;31m=\u001b[0m\u001b[1;31m<\u001b[0m\u001b[1;31mNllLossBackward0\u001b[0m\u001b[1;31m>\u001b[0m\u001b[1;31m)\u001b[0m\n"
      ]
     },
     "metadata": {},
     "output_type": "display_data"
    },
    {
     "data": {
      "text/html": [
       "<pre style=\"white-space:pre;overflow-x:auto;line-height:normal;font-family:Menlo,'DejaVu Sans Mono',consolas,'Courier New',monospace\"><span style=\"color: #800000; text-decoration-color: #800000; font-weight: bold\">loss = tensor(</span><span style=\"color: #800000; text-decoration-color: #800000; font-weight: bold\">0.5779</span><span style=\"color: #800000; text-decoration-color: #800000; font-weight: bold\">, </span><span style=\"color: #800000; text-decoration-color: #800000; font-weight: bold\">device</span><span style=\"color: #800000; text-decoration-color: #800000; font-weight: bold\">=</span><span style=\"color: #800000; text-decoration-color: #800000; font-weight: bold\">'cuda:0'</span><span style=\"color: #800000; text-decoration-color: #800000; font-weight: bold\">) computed_loss = tensor(</span><span style=\"color: #800000; text-decoration-color: #800000; font-weight: bold\">0.5279</span><span style=\"color: #800000; text-decoration-color: #800000; font-weight: bold\">, </span><span style=\"color: #800000; text-decoration-color: #800000; font-weight: bold\">device</span><span style=\"color: #800000; text-decoration-color: #800000; font-weight: bold\">=</span><span style=\"color: #800000; text-decoration-color: #800000; font-weight: bold\">'cuda:0'</span><span style=\"color: #800000; text-decoration-color: #800000; font-weight: bold\">, </span>\n",
       "<span style=\"color: #800000; text-decoration-color: #800000; font-weight: bold\">grad_fn</span><span style=\"color: #800000; text-decoration-color: #800000; font-weight: bold\">=&lt;NllLossBackward0&gt;)</span>\n",
       "</pre>\n"
      ],
      "text/plain": [
       "\u001b[1;31mloss = \u001b[0m\u001b[1;31mtensor\u001b[0m\u001b[1;31m(\u001b[0m\u001b[1;31m0.5779\u001b[0m\u001b[1;31m, \u001b[0m\u001b[1;31mdevice\u001b[0m\u001b[1;31m=\u001b[0m\u001b[1;31m'cuda:0'\u001b[0m\u001b[1;31m)\u001b[0m\u001b[1;31m computed_loss = \u001b[0m\u001b[1;31mtensor\u001b[0m\u001b[1;31m(\u001b[0m\u001b[1;31m0.5279\u001b[0m\u001b[1;31m, \u001b[0m\u001b[1;31mdevice\u001b[0m\u001b[1;31m=\u001b[0m\u001b[1;31m'cuda:0'\u001b[0m\u001b[1;31m, \u001b[0m\n",
       "\u001b[1;31mgrad_fn\u001b[0m\u001b[1;31m=\u001b[0m\u001b[1;31m<\u001b[0m\u001b[1;31mNllLossBackward0\u001b[0m\u001b[1;31m>\u001b[0m\u001b[1;31m)\u001b[0m\n"
      ]
     },
     "metadata": {},
     "output_type": "display_data"
    },
    {
     "data": {
      "text/html": [
       "<pre style=\"white-space:pre;overflow-x:auto;line-height:normal;font-family:Menlo,'DejaVu Sans Mono',consolas,'Courier New',monospace\"><span style=\"color: #800000; text-decoration-color: #800000; font-weight: bold\">loss = tensor(</span><span style=\"color: #800000; text-decoration-color: #800000; font-weight: bold\">0.0108</span><span style=\"color: #800000; text-decoration-color: #800000; font-weight: bold\">, </span><span style=\"color: #800000; text-decoration-color: #800000; font-weight: bold\">device</span><span style=\"color: #800000; text-decoration-color: #800000; font-weight: bold\">=</span><span style=\"color: #800000; text-decoration-color: #800000; font-weight: bold\">'cuda:0'</span><span style=\"color: #800000; text-decoration-color: #800000; font-weight: bold\">) computed_loss = tensor(</span><span style=\"color: #800000; text-decoration-color: #800000; font-weight: bold\">0.0109</span><span style=\"color: #800000; text-decoration-color: #800000; font-weight: bold\">, </span><span style=\"color: #800000; text-decoration-color: #800000; font-weight: bold\">device</span><span style=\"color: #800000; text-decoration-color: #800000; font-weight: bold\">=</span><span style=\"color: #800000; text-decoration-color: #800000; font-weight: bold\">'cuda:0'</span><span style=\"color: #800000; text-decoration-color: #800000; font-weight: bold\">, </span>\n",
       "<span style=\"color: #800000; text-decoration-color: #800000; font-weight: bold\">grad_fn</span><span style=\"color: #800000; text-decoration-color: #800000; font-weight: bold\">=&lt;NllLossBackward0&gt;)</span>\n",
       "</pre>\n"
      ],
      "text/plain": [
       "\u001b[1;31mloss = \u001b[0m\u001b[1;31mtensor\u001b[0m\u001b[1;31m(\u001b[0m\u001b[1;31m0.0108\u001b[0m\u001b[1;31m, \u001b[0m\u001b[1;31mdevice\u001b[0m\u001b[1;31m=\u001b[0m\u001b[1;31m'cuda:0'\u001b[0m\u001b[1;31m)\u001b[0m\u001b[1;31m computed_loss = \u001b[0m\u001b[1;31mtensor\u001b[0m\u001b[1;31m(\u001b[0m\u001b[1;31m0.0109\u001b[0m\u001b[1;31m, \u001b[0m\u001b[1;31mdevice\u001b[0m\u001b[1;31m=\u001b[0m\u001b[1;31m'cuda:0'\u001b[0m\u001b[1;31m, \u001b[0m\n",
       "\u001b[1;31mgrad_fn\u001b[0m\u001b[1;31m=\u001b[0m\u001b[1;31m<\u001b[0m\u001b[1;31mNllLossBackward0\u001b[0m\u001b[1;31m>\u001b[0m\u001b[1;31m)\u001b[0m\n"
      ]
     },
     "metadata": {},
     "output_type": "display_data"
    },
    {
     "data": {
      "text/html": [
       "<pre style=\"white-space:pre;overflow-x:auto;line-height:normal;font-family:Menlo,'DejaVu Sans Mono',consolas,'Courier New',monospace\"><span style=\"color: #800000; text-decoration-color: #800000; font-weight: bold\">loss = tensor(</span><span style=\"color: #800000; text-decoration-color: #800000; font-weight: bold\">0.1651</span><span style=\"color: #800000; text-decoration-color: #800000; font-weight: bold\">, </span><span style=\"color: #800000; text-decoration-color: #800000; font-weight: bold\">device</span><span style=\"color: #800000; text-decoration-color: #800000; font-weight: bold\">=</span><span style=\"color: #800000; text-decoration-color: #800000; font-weight: bold\">'cuda:0'</span><span style=\"color: #800000; text-decoration-color: #800000; font-weight: bold\">) computed_loss = tensor(</span><span style=\"color: #800000; text-decoration-color: #800000; font-weight: bold\">0.1726</span><span style=\"color: #800000; text-decoration-color: #800000; font-weight: bold\">, </span><span style=\"color: #800000; text-decoration-color: #800000; font-weight: bold\">device</span><span style=\"color: #800000; text-decoration-color: #800000; font-weight: bold\">=</span><span style=\"color: #800000; text-decoration-color: #800000; font-weight: bold\">'cuda:0'</span><span style=\"color: #800000; text-decoration-color: #800000; font-weight: bold\">, </span>\n",
       "<span style=\"color: #800000; text-decoration-color: #800000; font-weight: bold\">grad_fn</span><span style=\"color: #800000; text-decoration-color: #800000; font-weight: bold\">=&lt;NllLossBackward0&gt;)</span>\n",
       "</pre>\n"
      ],
      "text/plain": [
       "\u001b[1;31mloss = \u001b[0m\u001b[1;31mtensor\u001b[0m\u001b[1;31m(\u001b[0m\u001b[1;31m0.1651\u001b[0m\u001b[1;31m, \u001b[0m\u001b[1;31mdevice\u001b[0m\u001b[1;31m=\u001b[0m\u001b[1;31m'cuda:0'\u001b[0m\u001b[1;31m)\u001b[0m\u001b[1;31m computed_loss = \u001b[0m\u001b[1;31mtensor\u001b[0m\u001b[1;31m(\u001b[0m\u001b[1;31m0.1726\u001b[0m\u001b[1;31m, \u001b[0m\u001b[1;31mdevice\u001b[0m\u001b[1;31m=\u001b[0m\u001b[1;31m'cuda:0'\u001b[0m\u001b[1;31m, \u001b[0m\n",
       "\u001b[1;31mgrad_fn\u001b[0m\u001b[1;31m=\u001b[0m\u001b[1;31m<\u001b[0m\u001b[1;31mNllLossBackward0\u001b[0m\u001b[1;31m>\u001b[0m\u001b[1;31m)\u001b[0m\n"
      ]
     },
     "metadata": {},
     "output_type": "display_data"
    },
    {
     "data": {
      "text/html": [
       "<pre style=\"white-space:pre;overflow-x:auto;line-height:normal;font-family:Menlo,'DejaVu Sans Mono',consolas,'Courier New',monospace\"><span style=\"color: #800000; text-decoration-color: #800000; font-weight: bold\">loss = tensor(</span><span style=\"color: #800000; text-decoration-color: #800000; font-weight: bold\">0.0344</span><span style=\"color: #800000; text-decoration-color: #800000; font-weight: bold\">, </span><span style=\"color: #800000; text-decoration-color: #800000; font-weight: bold\">device</span><span style=\"color: #800000; text-decoration-color: #800000; font-weight: bold\">=</span><span style=\"color: #800000; text-decoration-color: #800000; font-weight: bold\">'cuda:0'</span><span style=\"color: #800000; text-decoration-color: #800000; font-weight: bold\">) computed_loss = tensor(</span><span style=\"color: #800000; text-decoration-color: #800000; font-weight: bold\">0.0353</span><span style=\"color: #800000; text-decoration-color: #800000; font-weight: bold\">, </span><span style=\"color: #800000; text-decoration-color: #800000; font-weight: bold\">device</span><span style=\"color: #800000; text-decoration-color: #800000; font-weight: bold\">=</span><span style=\"color: #800000; text-decoration-color: #800000; font-weight: bold\">'cuda:0'</span><span style=\"color: #800000; text-decoration-color: #800000; font-weight: bold\">, </span>\n",
       "<span style=\"color: #800000; text-decoration-color: #800000; font-weight: bold\">grad_fn</span><span style=\"color: #800000; text-decoration-color: #800000; font-weight: bold\">=&lt;NllLossBackward0&gt;)</span>\n",
       "</pre>\n"
      ],
      "text/plain": [
       "\u001b[1;31mloss = \u001b[0m\u001b[1;31mtensor\u001b[0m\u001b[1;31m(\u001b[0m\u001b[1;31m0.0344\u001b[0m\u001b[1;31m, \u001b[0m\u001b[1;31mdevice\u001b[0m\u001b[1;31m=\u001b[0m\u001b[1;31m'cuda:0'\u001b[0m\u001b[1;31m)\u001b[0m\u001b[1;31m computed_loss = \u001b[0m\u001b[1;31mtensor\u001b[0m\u001b[1;31m(\u001b[0m\u001b[1;31m0.0353\u001b[0m\u001b[1;31m, \u001b[0m\u001b[1;31mdevice\u001b[0m\u001b[1;31m=\u001b[0m\u001b[1;31m'cuda:0'\u001b[0m\u001b[1;31m, \u001b[0m\n",
       "\u001b[1;31mgrad_fn\u001b[0m\u001b[1;31m=\u001b[0m\u001b[1;31m<\u001b[0m\u001b[1;31mNllLossBackward0\u001b[0m\u001b[1;31m>\u001b[0m\u001b[1;31m)\u001b[0m\n"
      ]
     },
     "metadata": {},
     "output_type": "display_data"
    },
    {
     "data": {
      "text/html": [
       "<pre style=\"white-space:pre;overflow-x:auto;line-height:normal;font-family:Menlo,'DejaVu Sans Mono',consolas,'Courier New',monospace\"><span style=\"color: #800000; text-decoration-color: #800000; font-weight: bold\">loss = tensor(</span><span style=\"color: #800000; text-decoration-color: #800000; font-weight: bold\">0.0276</span><span style=\"color: #800000; text-decoration-color: #800000; font-weight: bold\">, </span><span style=\"color: #800000; text-decoration-color: #800000; font-weight: bold\">device</span><span style=\"color: #800000; text-decoration-color: #800000; font-weight: bold\">=</span><span style=\"color: #800000; text-decoration-color: #800000; font-weight: bold\">'cuda:0'</span><span style=\"color: #800000; text-decoration-color: #800000; font-weight: bold\">) computed_loss = tensor(</span><span style=\"color: #800000; text-decoration-color: #800000; font-weight: bold\">0.0285</span><span style=\"color: #800000; text-decoration-color: #800000; font-weight: bold\">, </span><span style=\"color: #800000; text-decoration-color: #800000; font-weight: bold\">device</span><span style=\"color: #800000; text-decoration-color: #800000; font-weight: bold\">=</span><span style=\"color: #800000; text-decoration-color: #800000; font-weight: bold\">'cuda:0'</span><span style=\"color: #800000; text-decoration-color: #800000; font-weight: bold\">, </span>\n",
       "<span style=\"color: #800000; text-decoration-color: #800000; font-weight: bold\">grad_fn</span><span style=\"color: #800000; text-decoration-color: #800000; font-weight: bold\">=&lt;NllLossBackward0&gt;)</span>\n",
       "</pre>\n"
      ],
      "text/plain": [
       "\u001b[1;31mloss = \u001b[0m\u001b[1;31mtensor\u001b[0m\u001b[1;31m(\u001b[0m\u001b[1;31m0.0276\u001b[0m\u001b[1;31m, \u001b[0m\u001b[1;31mdevice\u001b[0m\u001b[1;31m=\u001b[0m\u001b[1;31m'cuda:0'\u001b[0m\u001b[1;31m)\u001b[0m\u001b[1;31m computed_loss = \u001b[0m\u001b[1;31mtensor\u001b[0m\u001b[1;31m(\u001b[0m\u001b[1;31m0.0285\u001b[0m\u001b[1;31m, \u001b[0m\u001b[1;31mdevice\u001b[0m\u001b[1;31m=\u001b[0m\u001b[1;31m'cuda:0'\u001b[0m\u001b[1;31m, \u001b[0m\n",
       "\u001b[1;31mgrad_fn\u001b[0m\u001b[1;31m=\u001b[0m\u001b[1;31m<\u001b[0m\u001b[1;31mNllLossBackward0\u001b[0m\u001b[1;31m>\u001b[0m\u001b[1;31m)\u001b[0m\n"
      ]
     },
     "metadata": {},
     "output_type": "display_data"
    },
    {
     "data": {
      "text/html": [
       "<pre style=\"white-space:pre;overflow-x:auto;line-height:normal;font-family:Menlo,'DejaVu Sans Mono',consolas,'Courier New',monospace\"><span style=\"color: #800000; text-decoration-color: #800000; font-weight: bold\">loss = tensor(</span><span style=\"color: #800000; text-decoration-color: #800000; font-weight: bold\">0.2104</span><span style=\"color: #800000; text-decoration-color: #800000; font-weight: bold\">, </span><span style=\"color: #800000; text-decoration-color: #800000; font-weight: bold\">device</span><span style=\"color: #800000; text-decoration-color: #800000; font-weight: bold\">=</span><span style=\"color: #800000; text-decoration-color: #800000; font-weight: bold\">'cuda:0'</span><span style=\"color: #800000; text-decoration-color: #800000; font-weight: bold\">) computed_loss = tensor(</span><span style=\"color: #800000; text-decoration-color: #800000; font-weight: bold\">0.2203</span><span style=\"color: #800000; text-decoration-color: #800000; font-weight: bold\">, </span><span style=\"color: #800000; text-decoration-color: #800000; font-weight: bold\">device</span><span style=\"color: #800000; text-decoration-color: #800000; font-weight: bold\">=</span><span style=\"color: #800000; text-decoration-color: #800000; font-weight: bold\">'cuda:0'</span><span style=\"color: #800000; text-decoration-color: #800000; font-weight: bold\">, </span>\n",
       "<span style=\"color: #800000; text-decoration-color: #800000; font-weight: bold\">grad_fn</span><span style=\"color: #800000; text-decoration-color: #800000; font-weight: bold\">=&lt;NllLossBackward0&gt;)</span>\n",
       "</pre>\n"
      ],
      "text/plain": [
       "\u001b[1;31mloss = \u001b[0m\u001b[1;31mtensor\u001b[0m\u001b[1;31m(\u001b[0m\u001b[1;31m0.2104\u001b[0m\u001b[1;31m, \u001b[0m\u001b[1;31mdevice\u001b[0m\u001b[1;31m=\u001b[0m\u001b[1;31m'cuda:0'\u001b[0m\u001b[1;31m)\u001b[0m\u001b[1;31m computed_loss = \u001b[0m\u001b[1;31mtensor\u001b[0m\u001b[1;31m(\u001b[0m\u001b[1;31m0.2203\u001b[0m\u001b[1;31m, \u001b[0m\u001b[1;31mdevice\u001b[0m\u001b[1;31m=\u001b[0m\u001b[1;31m'cuda:0'\u001b[0m\u001b[1;31m, \u001b[0m\n",
       "\u001b[1;31mgrad_fn\u001b[0m\u001b[1;31m=\u001b[0m\u001b[1;31m<\u001b[0m\u001b[1;31mNllLossBackward0\u001b[0m\u001b[1;31m>\u001b[0m\u001b[1;31m)\u001b[0m\n"
      ]
     },
     "metadata": {},
     "output_type": "display_data"
    },
    {
     "data": {
      "text/html": [
       "<pre style=\"white-space:pre;overflow-x:auto;line-height:normal;font-family:Menlo,'DejaVu Sans Mono',consolas,'Courier New',monospace\"><span style=\"color: #800000; text-decoration-color: #800000; font-weight: bold\">loss = tensor(</span><span style=\"color: #800000; text-decoration-color: #800000; font-weight: bold\">0.6327</span><span style=\"color: #800000; text-decoration-color: #800000; font-weight: bold\">, </span><span style=\"color: #800000; text-decoration-color: #800000; font-weight: bold\">device</span><span style=\"color: #800000; text-decoration-color: #800000; font-weight: bold\">=</span><span style=\"color: #800000; text-decoration-color: #800000; font-weight: bold\">'cuda:0'</span><span style=\"color: #800000; text-decoration-color: #800000; font-weight: bold\">) computed_loss = tensor(</span><span style=\"color: #800000; text-decoration-color: #800000; font-weight: bold\">0.5986</span><span style=\"color: #800000; text-decoration-color: #800000; font-weight: bold\">, </span><span style=\"color: #800000; text-decoration-color: #800000; font-weight: bold\">device</span><span style=\"color: #800000; text-decoration-color: #800000; font-weight: bold\">=</span><span style=\"color: #800000; text-decoration-color: #800000; font-weight: bold\">'cuda:0'</span><span style=\"color: #800000; text-decoration-color: #800000; font-weight: bold\">, </span>\n",
       "<span style=\"color: #800000; text-decoration-color: #800000; font-weight: bold\">grad_fn</span><span style=\"color: #800000; text-decoration-color: #800000; font-weight: bold\">=&lt;NllLossBackward0&gt;)</span>\n",
       "</pre>\n"
      ],
      "text/plain": [
       "\u001b[1;31mloss = \u001b[0m\u001b[1;31mtensor\u001b[0m\u001b[1;31m(\u001b[0m\u001b[1;31m0.6327\u001b[0m\u001b[1;31m, \u001b[0m\u001b[1;31mdevice\u001b[0m\u001b[1;31m=\u001b[0m\u001b[1;31m'cuda:0'\u001b[0m\u001b[1;31m)\u001b[0m\u001b[1;31m computed_loss = \u001b[0m\u001b[1;31mtensor\u001b[0m\u001b[1;31m(\u001b[0m\u001b[1;31m0.5986\u001b[0m\u001b[1;31m, \u001b[0m\u001b[1;31mdevice\u001b[0m\u001b[1;31m=\u001b[0m\u001b[1;31m'cuda:0'\u001b[0m\u001b[1;31m, \u001b[0m\n",
       "\u001b[1;31mgrad_fn\u001b[0m\u001b[1;31m=\u001b[0m\u001b[1;31m<\u001b[0m\u001b[1;31mNllLossBackward0\u001b[0m\u001b[1;31m>\u001b[0m\u001b[1;31m)\u001b[0m\n"
      ]
     },
     "metadata": {},
     "output_type": "display_data"
    },
    {
     "data": {
      "text/html": [
       "<pre style=\"white-space:pre;overflow-x:auto;line-height:normal;font-family:Menlo,'DejaVu Sans Mono',consolas,'Courier New',monospace\"><span style=\"color: #800000; text-decoration-color: #800000; font-weight: bold\">loss = tensor(</span><span style=\"color: #800000; text-decoration-color: #800000; font-weight: bold\">0.3453</span><span style=\"color: #800000; text-decoration-color: #800000; font-weight: bold\">, </span><span style=\"color: #800000; text-decoration-color: #800000; font-weight: bold\">device</span><span style=\"color: #800000; text-decoration-color: #800000; font-weight: bold\">=</span><span style=\"color: #800000; text-decoration-color: #800000; font-weight: bold\">'cuda:0'</span><span style=\"color: #800000; text-decoration-color: #800000; font-weight: bold\">) computed_loss = tensor(</span><span style=\"color: #800000; text-decoration-color: #800000; font-weight: bold\">0.3617</span><span style=\"color: #800000; text-decoration-color: #800000; font-weight: bold\">, </span><span style=\"color: #800000; text-decoration-color: #800000; font-weight: bold\">device</span><span style=\"color: #800000; text-decoration-color: #800000; font-weight: bold\">=</span><span style=\"color: #800000; text-decoration-color: #800000; font-weight: bold\">'cuda:0'</span><span style=\"color: #800000; text-decoration-color: #800000; font-weight: bold\">, </span>\n",
       "<span style=\"color: #800000; text-decoration-color: #800000; font-weight: bold\">grad_fn</span><span style=\"color: #800000; text-decoration-color: #800000; font-weight: bold\">=&lt;NllLossBackward0&gt;)</span>\n",
       "</pre>\n"
      ],
      "text/plain": [
       "\u001b[1;31mloss = \u001b[0m\u001b[1;31mtensor\u001b[0m\u001b[1;31m(\u001b[0m\u001b[1;31m0.3453\u001b[0m\u001b[1;31m, \u001b[0m\u001b[1;31mdevice\u001b[0m\u001b[1;31m=\u001b[0m\u001b[1;31m'cuda:0'\u001b[0m\u001b[1;31m)\u001b[0m\u001b[1;31m computed_loss = \u001b[0m\u001b[1;31mtensor\u001b[0m\u001b[1;31m(\u001b[0m\u001b[1;31m0.3617\u001b[0m\u001b[1;31m, \u001b[0m\u001b[1;31mdevice\u001b[0m\u001b[1;31m=\u001b[0m\u001b[1;31m'cuda:0'\u001b[0m\u001b[1;31m, \u001b[0m\n",
       "\u001b[1;31mgrad_fn\u001b[0m\u001b[1;31m=\u001b[0m\u001b[1;31m<\u001b[0m\u001b[1;31mNllLossBackward0\u001b[0m\u001b[1;31m>\u001b[0m\u001b[1;31m)\u001b[0m\n"
      ]
     },
     "metadata": {},
     "output_type": "display_data"
    },
    {
     "data": {
      "text/html": [
       "<pre style=\"white-space:pre;overflow-x:auto;line-height:normal;font-family:Menlo,'DejaVu Sans Mono',consolas,'Courier New',monospace\"><span style=\"color: #800000; text-decoration-color: #800000; font-weight: bold\">loss = tensor(</span><span style=\"color: #800000; text-decoration-color: #800000; font-weight: bold\">0.2967</span><span style=\"color: #800000; text-decoration-color: #800000; font-weight: bold\">, </span><span style=\"color: #800000; text-decoration-color: #800000; font-weight: bold\">device</span><span style=\"color: #800000; text-decoration-color: #800000; font-weight: bold\">=</span><span style=\"color: #800000; text-decoration-color: #800000; font-weight: bold\">'cuda:0'</span><span style=\"color: #800000; text-decoration-color: #800000; font-weight: bold\">) computed_loss = tensor(</span><span style=\"color: #800000; text-decoration-color: #800000; font-weight: bold\">0.3109</span><span style=\"color: #800000; text-decoration-color: #800000; font-weight: bold\">, </span><span style=\"color: #800000; text-decoration-color: #800000; font-weight: bold\">device</span><span style=\"color: #800000; text-decoration-color: #800000; font-weight: bold\">=</span><span style=\"color: #800000; text-decoration-color: #800000; font-weight: bold\">'cuda:0'</span><span style=\"color: #800000; text-decoration-color: #800000; font-weight: bold\">, </span>\n",
       "<span style=\"color: #800000; text-decoration-color: #800000; font-weight: bold\">grad_fn</span><span style=\"color: #800000; text-decoration-color: #800000; font-weight: bold\">=&lt;NllLossBackward0&gt;)</span>\n",
       "</pre>\n"
      ],
      "text/plain": [
       "\u001b[1;31mloss = \u001b[0m\u001b[1;31mtensor\u001b[0m\u001b[1;31m(\u001b[0m\u001b[1;31m0.2967\u001b[0m\u001b[1;31m, \u001b[0m\u001b[1;31mdevice\u001b[0m\u001b[1;31m=\u001b[0m\u001b[1;31m'cuda:0'\u001b[0m\u001b[1;31m)\u001b[0m\u001b[1;31m computed_loss = \u001b[0m\u001b[1;31mtensor\u001b[0m\u001b[1;31m(\u001b[0m\u001b[1;31m0.3109\u001b[0m\u001b[1;31m, \u001b[0m\u001b[1;31mdevice\u001b[0m\u001b[1;31m=\u001b[0m\u001b[1;31m'cuda:0'\u001b[0m\u001b[1;31m, \u001b[0m\n",
       "\u001b[1;31mgrad_fn\u001b[0m\u001b[1;31m=\u001b[0m\u001b[1;31m<\u001b[0m\u001b[1;31mNllLossBackward0\u001b[0m\u001b[1;31m>\u001b[0m\u001b[1;31m)\u001b[0m\n"
      ]
     },
     "metadata": {},
     "output_type": "display_data"
    },
    {
     "data": {
      "text/html": [
       "<pre style=\"white-space:pre;overflow-x:auto;line-height:normal;font-family:Menlo,'DejaVu Sans Mono',consolas,'Courier New',monospace\"><span style=\"color: #800000; text-decoration-color: #800000; font-weight: bold\">loss = tensor(</span><span style=\"color: #800000; text-decoration-color: #800000; font-weight: bold\">0.7541</span><span style=\"color: #800000; text-decoration-color: #800000; font-weight: bold\">, </span><span style=\"color: #800000; text-decoration-color: #800000; font-weight: bold\">device</span><span style=\"color: #800000; text-decoration-color: #800000; font-weight: bold\">=</span><span style=\"color: #800000; text-decoration-color: #800000; font-weight: bold\">'cuda:0'</span><span style=\"color: #800000; text-decoration-color: #800000; font-weight: bold\">) computed_loss = tensor(</span><span style=\"color: #800000; text-decoration-color: #800000; font-weight: bold\">0.7554</span><span style=\"color: #800000; text-decoration-color: #800000; font-weight: bold\">, </span><span style=\"color: #800000; text-decoration-color: #800000; font-weight: bold\">device</span><span style=\"color: #800000; text-decoration-color: #800000; font-weight: bold\">=</span><span style=\"color: #800000; text-decoration-color: #800000; font-weight: bold\">'cuda:0'</span><span style=\"color: #800000; text-decoration-color: #800000; font-weight: bold\">, </span>\n",
       "<span style=\"color: #800000; text-decoration-color: #800000; font-weight: bold\">grad_fn</span><span style=\"color: #800000; text-decoration-color: #800000; font-weight: bold\">=&lt;NllLossBackward0&gt;)</span>\n",
       "</pre>\n"
      ],
      "text/plain": [
       "\u001b[1;31mloss = \u001b[0m\u001b[1;31mtensor\u001b[0m\u001b[1;31m(\u001b[0m\u001b[1;31m0.7541\u001b[0m\u001b[1;31m, \u001b[0m\u001b[1;31mdevice\u001b[0m\u001b[1;31m=\u001b[0m\u001b[1;31m'cuda:0'\u001b[0m\u001b[1;31m)\u001b[0m\u001b[1;31m computed_loss = \u001b[0m\u001b[1;31mtensor\u001b[0m\u001b[1;31m(\u001b[0m\u001b[1;31m0.7554\u001b[0m\u001b[1;31m, \u001b[0m\u001b[1;31mdevice\u001b[0m\u001b[1;31m=\u001b[0m\u001b[1;31m'cuda:0'\u001b[0m\u001b[1;31m, \u001b[0m\n",
       "\u001b[1;31mgrad_fn\u001b[0m\u001b[1;31m=\u001b[0m\u001b[1;31m<\u001b[0m\u001b[1;31mNllLossBackward0\u001b[0m\u001b[1;31m>\u001b[0m\u001b[1;31m)\u001b[0m\n"
      ]
     },
     "metadata": {},
     "output_type": "display_data"
    },
    {
     "data": {
      "text/html": [
       "<pre style=\"white-space:pre;overflow-x:auto;line-height:normal;font-family:Menlo,'DejaVu Sans Mono',consolas,'Courier New',monospace\"><span style=\"color: #800000; text-decoration-color: #800000; font-weight: bold\">loss = tensor(</span><span style=\"color: #800000; text-decoration-color: #800000; font-weight: bold\">0.4812</span><span style=\"color: #800000; text-decoration-color: #800000; font-weight: bold\">, </span><span style=\"color: #800000; text-decoration-color: #800000; font-weight: bold\">device</span><span style=\"color: #800000; text-decoration-color: #800000; font-weight: bold\">=</span><span style=\"color: #800000; text-decoration-color: #800000; font-weight: bold\">'cuda:0'</span><span style=\"color: #800000; text-decoration-color: #800000; font-weight: bold\">) computed_loss = tensor(</span><span style=\"color: #800000; text-decoration-color: #800000; font-weight: bold\">0.4829</span><span style=\"color: #800000; text-decoration-color: #800000; font-weight: bold\">, </span><span style=\"color: #800000; text-decoration-color: #800000; font-weight: bold\">device</span><span style=\"color: #800000; text-decoration-color: #800000; font-weight: bold\">=</span><span style=\"color: #800000; text-decoration-color: #800000; font-weight: bold\">'cuda:0'</span><span style=\"color: #800000; text-decoration-color: #800000; font-weight: bold\">, </span>\n",
       "<span style=\"color: #800000; text-decoration-color: #800000; font-weight: bold\">grad_fn</span><span style=\"color: #800000; text-decoration-color: #800000; font-weight: bold\">=&lt;NllLossBackward0&gt;)</span>\n",
       "</pre>\n"
      ],
      "text/plain": [
       "\u001b[1;31mloss = \u001b[0m\u001b[1;31mtensor\u001b[0m\u001b[1;31m(\u001b[0m\u001b[1;31m0.4812\u001b[0m\u001b[1;31m, \u001b[0m\u001b[1;31mdevice\u001b[0m\u001b[1;31m=\u001b[0m\u001b[1;31m'cuda:0'\u001b[0m\u001b[1;31m)\u001b[0m\u001b[1;31m computed_loss = \u001b[0m\u001b[1;31mtensor\u001b[0m\u001b[1;31m(\u001b[0m\u001b[1;31m0.4829\u001b[0m\u001b[1;31m, \u001b[0m\u001b[1;31mdevice\u001b[0m\u001b[1;31m=\u001b[0m\u001b[1;31m'cuda:0'\u001b[0m\u001b[1;31m, \u001b[0m\n",
       "\u001b[1;31mgrad_fn\u001b[0m\u001b[1;31m=\u001b[0m\u001b[1;31m<\u001b[0m\u001b[1;31mNllLossBackward0\u001b[0m\u001b[1;31m>\u001b[0m\u001b[1;31m)\u001b[0m\n"
      ]
     },
     "metadata": {},
     "output_type": "display_data"
    },
    {
     "data": {
      "text/html": [
       "<pre style=\"white-space:pre;overflow-x:auto;line-height:normal;font-family:Menlo,'DejaVu Sans Mono',consolas,'Courier New',monospace\"><span style=\"color: #800000; text-decoration-color: #800000; font-weight: bold\">loss = tensor(</span><span style=\"color: #800000; text-decoration-color: #800000; font-weight: bold\">0.7137</span><span style=\"color: #800000; text-decoration-color: #800000; font-weight: bold\">, </span><span style=\"color: #800000; text-decoration-color: #800000; font-weight: bold\">device</span><span style=\"color: #800000; text-decoration-color: #800000; font-weight: bold\">=</span><span style=\"color: #800000; text-decoration-color: #800000; font-weight: bold\">'cuda:0'</span><span style=\"color: #800000; text-decoration-color: #800000; font-weight: bold\">) computed_loss = tensor(</span><span style=\"color: #800000; text-decoration-color: #800000; font-weight: bold\">0.7477</span><span style=\"color: #800000; text-decoration-color: #800000; font-weight: bold\">, </span><span style=\"color: #800000; text-decoration-color: #800000; font-weight: bold\">device</span><span style=\"color: #800000; text-decoration-color: #800000; font-weight: bold\">=</span><span style=\"color: #800000; text-decoration-color: #800000; font-weight: bold\">'cuda:0'</span><span style=\"color: #800000; text-decoration-color: #800000; font-weight: bold\">, </span>\n",
       "<span style=\"color: #800000; text-decoration-color: #800000; font-weight: bold\">grad_fn</span><span style=\"color: #800000; text-decoration-color: #800000; font-weight: bold\">=&lt;NllLossBackward0&gt;)</span>\n",
       "</pre>\n"
      ],
      "text/plain": [
       "\u001b[1;31mloss = \u001b[0m\u001b[1;31mtensor\u001b[0m\u001b[1;31m(\u001b[0m\u001b[1;31m0.7137\u001b[0m\u001b[1;31m, \u001b[0m\u001b[1;31mdevice\u001b[0m\u001b[1;31m=\u001b[0m\u001b[1;31m'cuda:0'\u001b[0m\u001b[1;31m)\u001b[0m\u001b[1;31m computed_loss = \u001b[0m\u001b[1;31mtensor\u001b[0m\u001b[1;31m(\u001b[0m\u001b[1;31m0.7477\u001b[0m\u001b[1;31m, \u001b[0m\u001b[1;31mdevice\u001b[0m\u001b[1;31m=\u001b[0m\u001b[1;31m'cuda:0'\u001b[0m\u001b[1;31m, \u001b[0m\n",
       "\u001b[1;31mgrad_fn\u001b[0m\u001b[1;31m=\u001b[0m\u001b[1;31m<\u001b[0m\u001b[1;31mNllLossBackward0\u001b[0m\u001b[1;31m>\u001b[0m\u001b[1;31m)\u001b[0m\n"
      ]
     },
     "metadata": {},
     "output_type": "display_data"
    },
    {
     "data": {
      "text/html": [
       "<pre style=\"white-space:pre;overflow-x:auto;line-height:normal;font-family:Menlo,'DejaVu Sans Mono',consolas,'Courier New',monospace\"><span style=\"color: #800000; text-decoration-color: #800000; font-weight: bold\">loss = tensor(</span><span style=\"color: #800000; text-decoration-color: #800000; font-weight: bold\">0.1405</span><span style=\"color: #800000; text-decoration-color: #800000; font-weight: bold\">, </span><span style=\"color: #800000; text-decoration-color: #800000; font-weight: bold\">device</span><span style=\"color: #800000; text-decoration-color: #800000; font-weight: bold\">=</span><span style=\"color: #800000; text-decoration-color: #800000; font-weight: bold\">'cuda:0'</span><span style=\"color: #800000; text-decoration-color: #800000; font-weight: bold\">) computed_loss = tensor(</span><span style=\"color: #800000; text-decoration-color: #800000; font-weight: bold\">0.1465</span><span style=\"color: #800000; text-decoration-color: #800000; font-weight: bold\">, </span><span style=\"color: #800000; text-decoration-color: #800000; font-weight: bold\">device</span><span style=\"color: #800000; text-decoration-color: #800000; font-weight: bold\">=</span><span style=\"color: #800000; text-decoration-color: #800000; font-weight: bold\">'cuda:0'</span><span style=\"color: #800000; text-decoration-color: #800000; font-weight: bold\">, </span>\n",
       "<span style=\"color: #800000; text-decoration-color: #800000; font-weight: bold\">grad_fn</span><span style=\"color: #800000; text-decoration-color: #800000; font-weight: bold\">=&lt;NllLossBackward0&gt;)</span>\n",
       "</pre>\n"
      ],
      "text/plain": [
       "\u001b[1;31mloss = \u001b[0m\u001b[1;31mtensor\u001b[0m\u001b[1;31m(\u001b[0m\u001b[1;31m0.1405\u001b[0m\u001b[1;31m, \u001b[0m\u001b[1;31mdevice\u001b[0m\u001b[1;31m=\u001b[0m\u001b[1;31m'cuda:0'\u001b[0m\u001b[1;31m)\u001b[0m\u001b[1;31m computed_loss = \u001b[0m\u001b[1;31mtensor\u001b[0m\u001b[1;31m(\u001b[0m\u001b[1;31m0.1465\u001b[0m\u001b[1;31m, \u001b[0m\u001b[1;31mdevice\u001b[0m\u001b[1;31m=\u001b[0m\u001b[1;31m'cuda:0'\u001b[0m\u001b[1;31m, \u001b[0m\n",
       "\u001b[1;31mgrad_fn\u001b[0m\u001b[1;31m=\u001b[0m\u001b[1;31m<\u001b[0m\u001b[1;31mNllLossBackward0\u001b[0m\u001b[1;31m>\u001b[0m\u001b[1;31m)\u001b[0m\n"
      ]
     },
     "metadata": {},
     "output_type": "display_data"
    },
    {
     "data": {
      "text/html": [
       "<pre style=\"white-space:pre;overflow-x:auto;line-height:normal;font-family:Menlo,'DejaVu Sans Mono',consolas,'Courier New',monospace\"><span style=\"color: #800000; text-decoration-color: #800000; font-weight: bold\">loss = tensor(</span><span style=\"color: #800000; text-decoration-color: #800000; font-weight: bold\">0.3456</span><span style=\"color: #800000; text-decoration-color: #800000; font-weight: bold\">, </span><span style=\"color: #800000; text-decoration-color: #800000; font-weight: bold\">device</span><span style=\"color: #800000; text-decoration-color: #800000; font-weight: bold\">=</span><span style=\"color: #800000; text-decoration-color: #800000; font-weight: bold\">'cuda:0'</span><span style=\"color: #800000; text-decoration-color: #800000; font-weight: bold\">) computed_loss = tensor(</span><span style=\"color: #800000; text-decoration-color: #800000; font-weight: bold\">0.3563</span><span style=\"color: #800000; text-decoration-color: #800000; font-weight: bold\">, </span><span style=\"color: #800000; text-decoration-color: #800000; font-weight: bold\">device</span><span style=\"color: #800000; text-decoration-color: #800000; font-weight: bold\">=</span><span style=\"color: #800000; text-decoration-color: #800000; font-weight: bold\">'cuda:0'</span><span style=\"color: #800000; text-decoration-color: #800000; font-weight: bold\">, </span>\n",
       "<span style=\"color: #800000; text-decoration-color: #800000; font-weight: bold\">grad_fn</span><span style=\"color: #800000; text-decoration-color: #800000; font-weight: bold\">=&lt;NllLossBackward0&gt;)</span>\n",
       "</pre>\n"
      ],
      "text/plain": [
       "\u001b[1;31mloss = \u001b[0m\u001b[1;31mtensor\u001b[0m\u001b[1;31m(\u001b[0m\u001b[1;31m0.3456\u001b[0m\u001b[1;31m, \u001b[0m\u001b[1;31mdevice\u001b[0m\u001b[1;31m=\u001b[0m\u001b[1;31m'cuda:0'\u001b[0m\u001b[1;31m)\u001b[0m\u001b[1;31m computed_loss = \u001b[0m\u001b[1;31mtensor\u001b[0m\u001b[1;31m(\u001b[0m\u001b[1;31m0.3563\u001b[0m\u001b[1;31m, \u001b[0m\u001b[1;31mdevice\u001b[0m\u001b[1;31m=\u001b[0m\u001b[1;31m'cuda:0'\u001b[0m\u001b[1;31m, \u001b[0m\n",
       "\u001b[1;31mgrad_fn\u001b[0m\u001b[1;31m=\u001b[0m\u001b[1;31m<\u001b[0m\u001b[1;31mNllLossBackward0\u001b[0m\u001b[1;31m>\u001b[0m\u001b[1;31m)\u001b[0m\n"
      ]
     },
     "metadata": {},
     "output_type": "display_data"
    },
    {
     "data": {
      "text/html": [
       "<pre style=\"white-space:pre;overflow-x:auto;line-height:normal;font-family:Menlo,'DejaVu Sans Mono',consolas,'Courier New',monospace\"><span style=\"color: #800000; text-decoration-color: #800000; font-weight: bold\">loss = tensor(</span><span style=\"color: #800000; text-decoration-color: #800000; font-weight: bold\">0.1254</span><span style=\"color: #800000; text-decoration-color: #800000; font-weight: bold\">, </span><span style=\"color: #800000; text-decoration-color: #800000; font-weight: bold\">device</span><span style=\"color: #800000; text-decoration-color: #800000; font-weight: bold\">=</span><span style=\"color: #800000; text-decoration-color: #800000; font-weight: bold\">'cuda:0'</span><span style=\"color: #800000; text-decoration-color: #800000; font-weight: bold\">) computed_loss = tensor(</span><span style=\"color: #800000; text-decoration-color: #800000; font-weight: bold\">0.1288</span><span style=\"color: #800000; text-decoration-color: #800000; font-weight: bold\">, </span><span style=\"color: #800000; text-decoration-color: #800000; font-weight: bold\">device</span><span style=\"color: #800000; text-decoration-color: #800000; font-weight: bold\">=</span><span style=\"color: #800000; text-decoration-color: #800000; font-weight: bold\">'cuda:0'</span><span style=\"color: #800000; text-decoration-color: #800000; font-weight: bold\">, </span>\n",
       "<span style=\"color: #800000; text-decoration-color: #800000; font-weight: bold\">grad_fn</span><span style=\"color: #800000; text-decoration-color: #800000; font-weight: bold\">=&lt;NllLossBackward0&gt;)</span>\n",
       "</pre>\n"
      ],
      "text/plain": [
       "\u001b[1;31mloss = \u001b[0m\u001b[1;31mtensor\u001b[0m\u001b[1;31m(\u001b[0m\u001b[1;31m0.1254\u001b[0m\u001b[1;31m, \u001b[0m\u001b[1;31mdevice\u001b[0m\u001b[1;31m=\u001b[0m\u001b[1;31m'cuda:0'\u001b[0m\u001b[1;31m)\u001b[0m\u001b[1;31m computed_loss = \u001b[0m\u001b[1;31mtensor\u001b[0m\u001b[1;31m(\u001b[0m\u001b[1;31m0.1288\u001b[0m\u001b[1;31m, \u001b[0m\u001b[1;31mdevice\u001b[0m\u001b[1;31m=\u001b[0m\u001b[1;31m'cuda:0'\u001b[0m\u001b[1;31m, \u001b[0m\n",
       "\u001b[1;31mgrad_fn\u001b[0m\u001b[1;31m=\u001b[0m\u001b[1;31m<\u001b[0m\u001b[1;31mNllLossBackward0\u001b[0m\u001b[1;31m>\u001b[0m\u001b[1;31m)\u001b[0m\n"
      ]
     },
     "metadata": {},
     "output_type": "display_data"
    },
    {
     "data": {
      "text/html": [
       "<pre style=\"white-space:pre;overflow-x:auto;line-height:normal;font-family:Menlo,'DejaVu Sans Mono',consolas,'Courier New',monospace\"><span style=\"color: #800000; text-decoration-color: #800000; font-weight: bold\">loss = tensor(</span><span style=\"color: #800000; text-decoration-color: #800000; font-weight: bold\">0.1061</span><span style=\"color: #800000; text-decoration-color: #800000; font-weight: bold\">, </span><span style=\"color: #800000; text-decoration-color: #800000; font-weight: bold\">device</span><span style=\"color: #800000; text-decoration-color: #800000; font-weight: bold\">=</span><span style=\"color: #800000; text-decoration-color: #800000; font-weight: bold\">'cuda:0'</span><span style=\"color: #800000; text-decoration-color: #800000; font-weight: bold\">) computed_loss = tensor(</span><span style=\"color: #800000; text-decoration-color: #800000; font-weight: bold\">0.1037</span><span style=\"color: #800000; text-decoration-color: #800000; font-weight: bold\">, </span><span style=\"color: #800000; text-decoration-color: #800000; font-weight: bold\">device</span><span style=\"color: #800000; text-decoration-color: #800000; font-weight: bold\">=</span><span style=\"color: #800000; text-decoration-color: #800000; font-weight: bold\">'cuda:0'</span><span style=\"color: #800000; text-decoration-color: #800000; font-weight: bold\">, </span>\n",
       "<span style=\"color: #800000; text-decoration-color: #800000; font-weight: bold\">grad_fn</span><span style=\"color: #800000; text-decoration-color: #800000; font-weight: bold\">=&lt;NllLossBackward0&gt;)</span>\n",
       "</pre>\n"
      ],
      "text/plain": [
       "\u001b[1;31mloss = \u001b[0m\u001b[1;31mtensor\u001b[0m\u001b[1;31m(\u001b[0m\u001b[1;31m0.1061\u001b[0m\u001b[1;31m, \u001b[0m\u001b[1;31mdevice\u001b[0m\u001b[1;31m=\u001b[0m\u001b[1;31m'cuda:0'\u001b[0m\u001b[1;31m)\u001b[0m\u001b[1;31m computed_loss = \u001b[0m\u001b[1;31mtensor\u001b[0m\u001b[1;31m(\u001b[0m\u001b[1;31m0.1037\u001b[0m\u001b[1;31m, \u001b[0m\u001b[1;31mdevice\u001b[0m\u001b[1;31m=\u001b[0m\u001b[1;31m'cuda:0'\u001b[0m\u001b[1;31m, \u001b[0m\n",
       "\u001b[1;31mgrad_fn\u001b[0m\u001b[1;31m=\u001b[0m\u001b[1;31m<\u001b[0m\u001b[1;31mNllLossBackward0\u001b[0m\u001b[1;31m>\u001b[0m\u001b[1;31m)\u001b[0m\n"
      ]
     },
     "metadata": {},
     "output_type": "display_data"
    },
    {
     "data": {
      "text/html": [
       "<pre style=\"white-space:pre;overflow-x:auto;line-height:normal;font-family:Menlo,'DejaVu Sans Mono',consolas,'Courier New',monospace\"><span style=\"color: #800000; text-decoration-color: #800000; font-weight: bold\">loss = tensor(</span><span style=\"color: #800000; text-decoration-color: #800000; font-weight: bold\">0.0968</span><span style=\"color: #800000; text-decoration-color: #800000; font-weight: bold\">, </span><span style=\"color: #800000; text-decoration-color: #800000; font-weight: bold\">device</span><span style=\"color: #800000; text-decoration-color: #800000; font-weight: bold\">=</span><span style=\"color: #800000; text-decoration-color: #800000; font-weight: bold\">'cuda:0'</span><span style=\"color: #800000; text-decoration-color: #800000; font-weight: bold\">) computed_loss = tensor(</span><span style=\"color: #800000; text-decoration-color: #800000; font-weight: bold\">0.0988</span><span style=\"color: #800000; text-decoration-color: #800000; font-weight: bold\">, </span><span style=\"color: #800000; text-decoration-color: #800000; font-weight: bold\">device</span><span style=\"color: #800000; text-decoration-color: #800000; font-weight: bold\">=</span><span style=\"color: #800000; text-decoration-color: #800000; font-weight: bold\">'cuda:0'</span><span style=\"color: #800000; text-decoration-color: #800000; font-weight: bold\">, </span>\n",
       "<span style=\"color: #800000; text-decoration-color: #800000; font-weight: bold\">grad_fn</span><span style=\"color: #800000; text-decoration-color: #800000; font-weight: bold\">=&lt;NllLossBackward0&gt;)</span>\n",
       "</pre>\n"
      ],
      "text/plain": [
       "\u001b[1;31mloss = \u001b[0m\u001b[1;31mtensor\u001b[0m\u001b[1;31m(\u001b[0m\u001b[1;31m0.0968\u001b[0m\u001b[1;31m, \u001b[0m\u001b[1;31mdevice\u001b[0m\u001b[1;31m=\u001b[0m\u001b[1;31m'cuda:0'\u001b[0m\u001b[1;31m)\u001b[0m\u001b[1;31m computed_loss = \u001b[0m\u001b[1;31mtensor\u001b[0m\u001b[1;31m(\u001b[0m\u001b[1;31m0.0988\u001b[0m\u001b[1;31m, \u001b[0m\u001b[1;31mdevice\u001b[0m\u001b[1;31m=\u001b[0m\u001b[1;31m'cuda:0'\u001b[0m\u001b[1;31m, \u001b[0m\n",
       "\u001b[1;31mgrad_fn\u001b[0m\u001b[1;31m=\u001b[0m\u001b[1;31m<\u001b[0m\u001b[1;31mNllLossBackward0\u001b[0m\u001b[1;31m>\u001b[0m\u001b[1;31m)\u001b[0m\n"
      ]
     },
     "metadata": {},
     "output_type": "display_data"
    },
    {
     "data": {
      "text/html": [
       "<pre style=\"white-space:pre;overflow-x:auto;line-height:normal;font-family:Menlo,'DejaVu Sans Mono',consolas,'Courier New',monospace\"><span style=\"color: #800000; text-decoration-color: #800000; font-weight: bold\">loss = tensor(</span><span style=\"color: #800000; text-decoration-color: #800000; font-weight: bold\">0.1707</span><span style=\"color: #800000; text-decoration-color: #800000; font-weight: bold\">, </span><span style=\"color: #800000; text-decoration-color: #800000; font-weight: bold\">device</span><span style=\"color: #800000; text-decoration-color: #800000; font-weight: bold\">=</span><span style=\"color: #800000; text-decoration-color: #800000; font-weight: bold\">'cuda:0'</span><span style=\"color: #800000; text-decoration-color: #800000; font-weight: bold\">) computed_loss = tensor(</span><span style=\"color: #800000; text-decoration-color: #800000; font-weight: bold\">0.1718</span><span style=\"color: #800000; text-decoration-color: #800000; font-weight: bold\">, </span><span style=\"color: #800000; text-decoration-color: #800000; font-weight: bold\">device</span><span style=\"color: #800000; text-decoration-color: #800000; font-weight: bold\">=</span><span style=\"color: #800000; text-decoration-color: #800000; font-weight: bold\">'cuda:0'</span><span style=\"color: #800000; text-decoration-color: #800000; font-weight: bold\">, </span>\n",
       "<span style=\"color: #800000; text-decoration-color: #800000; font-weight: bold\">grad_fn</span><span style=\"color: #800000; text-decoration-color: #800000; font-weight: bold\">=&lt;NllLossBackward0&gt;)</span>\n",
       "</pre>\n"
      ],
      "text/plain": [
       "\u001b[1;31mloss = \u001b[0m\u001b[1;31mtensor\u001b[0m\u001b[1;31m(\u001b[0m\u001b[1;31m0.1707\u001b[0m\u001b[1;31m, \u001b[0m\u001b[1;31mdevice\u001b[0m\u001b[1;31m=\u001b[0m\u001b[1;31m'cuda:0'\u001b[0m\u001b[1;31m)\u001b[0m\u001b[1;31m computed_loss = \u001b[0m\u001b[1;31mtensor\u001b[0m\u001b[1;31m(\u001b[0m\u001b[1;31m0.1718\u001b[0m\u001b[1;31m, \u001b[0m\u001b[1;31mdevice\u001b[0m\u001b[1;31m=\u001b[0m\u001b[1;31m'cuda:0'\u001b[0m\u001b[1;31m, \u001b[0m\n",
       "\u001b[1;31mgrad_fn\u001b[0m\u001b[1;31m=\u001b[0m\u001b[1;31m<\u001b[0m\u001b[1;31mNllLossBackward0\u001b[0m\u001b[1;31m>\u001b[0m\u001b[1;31m)\u001b[0m\n"
      ]
     },
     "metadata": {},
     "output_type": "display_data"
    },
    {
     "data": {
      "text/html": [
       "<pre style=\"white-space:pre;overflow-x:auto;line-height:normal;font-family:Menlo,'DejaVu Sans Mono',consolas,'Courier New',monospace\"><span style=\"color: #800000; text-decoration-color: #800000; font-weight: bold\">loss = tensor(</span><span style=\"color: #800000; text-decoration-color: #800000; font-weight: bold\">0.1114</span><span style=\"color: #800000; text-decoration-color: #800000; font-weight: bold\">, </span><span style=\"color: #800000; text-decoration-color: #800000; font-weight: bold\">device</span><span style=\"color: #800000; text-decoration-color: #800000; font-weight: bold\">=</span><span style=\"color: #800000; text-decoration-color: #800000; font-weight: bold\">'cuda:0'</span><span style=\"color: #800000; text-decoration-color: #800000; font-weight: bold\">) computed_loss = tensor(</span><span style=\"color: #800000; text-decoration-color: #800000; font-weight: bold\">0.1151</span><span style=\"color: #800000; text-decoration-color: #800000; font-weight: bold\">, </span><span style=\"color: #800000; text-decoration-color: #800000; font-weight: bold\">device</span><span style=\"color: #800000; text-decoration-color: #800000; font-weight: bold\">=</span><span style=\"color: #800000; text-decoration-color: #800000; font-weight: bold\">'cuda:0'</span><span style=\"color: #800000; text-decoration-color: #800000; font-weight: bold\">, </span>\n",
       "<span style=\"color: #800000; text-decoration-color: #800000; font-weight: bold\">grad_fn</span><span style=\"color: #800000; text-decoration-color: #800000; font-weight: bold\">=&lt;NllLossBackward0&gt;)</span>\n",
       "</pre>\n"
      ],
      "text/plain": [
       "\u001b[1;31mloss = \u001b[0m\u001b[1;31mtensor\u001b[0m\u001b[1;31m(\u001b[0m\u001b[1;31m0.1114\u001b[0m\u001b[1;31m, \u001b[0m\u001b[1;31mdevice\u001b[0m\u001b[1;31m=\u001b[0m\u001b[1;31m'cuda:0'\u001b[0m\u001b[1;31m)\u001b[0m\u001b[1;31m computed_loss = \u001b[0m\u001b[1;31mtensor\u001b[0m\u001b[1;31m(\u001b[0m\u001b[1;31m0.1151\u001b[0m\u001b[1;31m, \u001b[0m\u001b[1;31mdevice\u001b[0m\u001b[1;31m=\u001b[0m\u001b[1;31m'cuda:0'\u001b[0m\u001b[1;31m, \u001b[0m\n",
       "\u001b[1;31mgrad_fn\u001b[0m\u001b[1;31m=\u001b[0m\u001b[1;31m<\u001b[0m\u001b[1;31mNllLossBackward0\u001b[0m\u001b[1;31m>\u001b[0m\u001b[1;31m)\u001b[0m\n"
      ]
     },
     "metadata": {},
     "output_type": "display_data"
    },
    {
     "data": {
      "text/html": [
       "<pre style=\"white-space:pre;overflow-x:auto;line-height:normal;font-family:Menlo,'DejaVu Sans Mono',consolas,'Courier New',monospace\"><span style=\"color: #800000; text-decoration-color: #800000; font-weight: bold\">loss = tensor(</span><span style=\"color: #800000; text-decoration-color: #800000; font-weight: bold\">0.3088</span><span style=\"color: #800000; text-decoration-color: #800000; font-weight: bold\">, </span><span style=\"color: #800000; text-decoration-color: #800000; font-weight: bold\">device</span><span style=\"color: #800000; text-decoration-color: #800000; font-weight: bold\">=</span><span style=\"color: #800000; text-decoration-color: #800000; font-weight: bold\">'cuda:0'</span><span style=\"color: #800000; text-decoration-color: #800000; font-weight: bold\">) computed_loss = tensor(</span><span style=\"color: #800000; text-decoration-color: #800000; font-weight: bold\">0.3198</span><span style=\"color: #800000; text-decoration-color: #800000; font-weight: bold\">, </span><span style=\"color: #800000; text-decoration-color: #800000; font-weight: bold\">device</span><span style=\"color: #800000; text-decoration-color: #800000; font-weight: bold\">=</span><span style=\"color: #800000; text-decoration-color: #800000; font-weight: bold\">'cuda:0'</span><span style=\"color: #800000; text-decoration-color: #800000; font-weight: bold\">, </span>\n",
       "<span style=\"color: #800000; text-decoration-color: #800000; font-weight: bold\">grad_fn</span><span style=\"color: #800000; text-decoration-color: #800000; font-weight: bold\">=&lt;NllLossBackward0&gt;)</span>\n",
       "</pre>\n"
      ],
      "text/plain": [
       "\u001b[1;31mloss = \u001b[0m\u001b[1;31mtensor\u001b[0m\u001b[1;31m(\u001b[0m\u001b[1;31m0.3088\u001b[0m\u001b[1;31m, \u001b[0m\u001b[1;31mdevice\u001b[0m\u001b[1;31m=\u001b[0m\u001b[1;31m'cuda:0'\u001b[0m\u001b[1;31m)\u001b[0m\u001b[1;31m computed_loss = \u001b[0m\u001b[1;31mtensor\u001b[0m\u001b[1;31m(\u001b[0m\u001b[1;31m0.3198\u001b[0m\u001b[1;31m, \u001b[0m\u001b[1;31mdevice\u001b[0m\u001b[1;31m=\u001b[0m\u001b[1;31m'cuda:0'\u001b[0m\u001b[1;31m, \u001b[0m\n",
       "\u001b[1;31mgrad_fn\u001b[0m\u001b[1;31m=\u001b[0m\u001b[1;31m<\u001b[0m\u001b[1;31mNllLossBackward0\u001b[0m\u001b[1;31m>\u001b[0m\u001b[1;31m)\u001b[0m\n"
      ]
     },
     "metadata": {},
     "output_type": "display_data"
    },
    {
     "data": {
      "text/html": [
       "<pre style=\"white-space:pre;overflow-x:auto;line-height:normal;font-family:Menlo,'DejaVu Sans Mono',consolas,'Courier New',monospace\"><span style=\"color: #800000; text-decoration-color: #800000; font-weight: bold\">loss = tensor(</span><span style=\"color: #800000; text-decoration-color: #800000; font-weight: bold\">0.3361</span><span style=\"color: #800000; text-decoration-color: #800000; font-weight: bold\">, </span><span style=\"color: #800000; text-decoration-color: #800000; font-weight: bold\">device</span><span style=\"color: #800000; text-decoration-color: #800000; font-weight: bold\">=</span><span style=\"color: #800000; text-decoration-color: #800000; font-weight: bold\">'cuda:0'</span><span style=\"color: #800000; text-decoration-color: #800000; font-weight: bold\">) computed_loss = tensor(</span><span style=\"color: #800000; text-decoration-color: #800000; font-weight: bold\">0.3483</span><span style=\"color: #800000; text-decoration-color: #800000; font-weight: bold\">, </span><span style=\"color: #800000; text-decoration-color: #800000; font-weight: bold\">device</span><span style=\"color: #800000; text-decoration-color: #800000; font-weight: bold\">=</span><span style=\"color: #800000; text-decoration-color: #800000; font-weight: bold\">'cuda:0'</span><span style=\"color: #800000; text-decoration-color: #800000; font-weight: bold\">, </span>\n",
       "<span style=\"color: #800000; text-decoration-color: #800000; font-weight: bold\">grad_fn</span><span style=\"color: #800000; text-decoration-color: #800000; font-weight: bold\">=&lt;NllLossBackward0&gt;)</span>\n",
       "</pre>\n"
      ],
      "text/plain": [
       "\u001b[1;31mloss = \u001b[0m\u001b[1;31mtensor\u001b[0m\u001b[1;31m(\u001b[0m\u001b[1;31m0.3361\u001b[0m\u001b[1;31m, \u001b[0m\u001b[1;31mdevice\u001b[0m\u001b[1;31m=\u001b[0m\u001b[1;31m'cuda:0'\u001b[0m\u001b[1;31m)\u001b[0m\u001b[1;31m computed_loss = \u001b[0m\u001b[1;31mtensor\u001b[0m\u001b[1;31m(\u001b[0m\u001b[1;31m0.3483\u001b[0m\u001b[1;31m, \u001b[0m\u001b[1;31mdevice\u001b[0m\u001b[1;31m=\u001b[0m\u001b[1;31m'cuda:0'\u001b[0m\u001b[1;31m, \u001b[0m\n",
       "\u001b[1;31mgrad_fn\u001b[0m\u001b[1;31m=\u001b[0m\u001b[1;31m<\u001b[0m\u001b[1;31mNllLossBackward0\u001b[0m\u001b[1;31m>\u001b[0m\u001b[1;31m)\u001b[0m\n"
      ]
     },
     "metadata": {},
     "output_type": "display_data"
    },
    {
     "data": {
      "text/html": [
       "<pre style=\"white-space:pre;overflow-x:auto;line-height:normal;font-family:Menlo,'DejaVu Sans Mono',consolas,'Courier New',monospace\"><span style=\"color: #800000; text-decoration-color: #800000; font-weight: bold\">loss = tensor(</span><span style=\"color: #800000; text-decoration-color: #800000; font-weight: bold\">0.1809</span><span style=\"color: #800000; text-decoration-color: #800000; font-weight: bold\">, </span><span style=\"color: #800000; text-decoration-color: #800000; font-weight: bold\">device</span><span style=\"color: #800000; text-decoration-color: #800000; font-weight: bold\">=</span><span style=\"color: #800000; text-decoration-color: #800000; font-weight: bold\">'cuda:0'</span><span style=\"color: #800000; text-decoration-color: #800000; font-weight: bold\">) computed_loss = tensor(</span><span style=\"color: #800000; text-decoration-color: #800000; font-weight: bold\">0.1867</span><span style=\"color: #800000; text-decoration-color: #800000; font-weight: bold\">, </span><span style=\"color: #800000; text-decoration-color: #800000; font-weight: bold\">device</span><span style=\"color: #800000; text-decoration-color: #800000; font-weight: bold\">=</span><span style=\"color: #800000; text-decoration-color: #800000; font-weight: bold\">'cuda:0'</span><span style=\"color: #800000; text-decoration-color: #800000; font-weight: bold\">, </span>\n",
       "<span style=\"color: #800000; text-decoration-color: #800000; font-weight: bold\">grad_fn</span><span style=\"color: #800000; text-decoration-color: #800000; font-weight: bold\">=&lt;NllLossBackward0&gt;)</span>\n",
       "</pre>\n"
      ],
      "text/plain": [
       "\u001b[1;31mloss = \u001b[0m\u001b[1;31mtensor\u001b[0m\u001b[1;31m(\u001b[0m\u001b[1;31m0.1809\u001b[0m\u001b[1;31m, \u001b[0m\u001b[1;31mdevice\u001b[0m\u001b[1;31m=\u001b[0m\u001b[1;31m'cuda:0'\u001b[0m\u001b[1;31m)\u001b[0m\u001b[1;31m computed_loss = \u001b[0m\u001b[1;31mtensor\u001b[0m\u001b[1;31m(\u001b[0m\u001b[1;31m0.1867\u001b[0m\u001b[1;31m, \u001b[0m\u001b[1;31mdevice\u001b[0m\u001b[1;31m=\u001b[0m\u001b[1;31m'cuda:0'\u001b[0m\u001b[1;31m, \u001b[0m\n",
       "\u001b[1;31mgrad_fn\u001b[0m\u001b[1;31m=\u001b[0m\u001b[1;31m<\u001b[0m\u001b[1;31mNllLossBackward0\u001b[0m\u001b[1;31m>\u001b[0m\u001b[1;31m)\u001b[0m\n"
      ]
     },
     "metadata": {},
     "output_type": "display_data"
    },
    {
     "data": {
      "text/html": [
       "<pre style=\"white-space:pre;overflow-x:auto;line-height:normal;font-family:Menlo,'DejaVu Sans Mono',consolas,'Courier New',monospace\"><span style=\"color: #800000; text-decoration-color: #800000; font-weight: bold\">loss = tensor(</span><span style=\"color: #800000; text-decoration-color: #800000; font-weight: bold\">0.4684</span><span style=\"color: #800000; text-decoration-color: #800000; font-weight: bold\">, </span><span style=\"color: #800000; text-decoration-color: #800000; font-weight: bold\">device</span><span style=\"color: #800000; text-decoration-color: #800000; font-weight: bold\">=</span><span style=\"color: #800000; text-decoration-color: #800000; font-weight: bold\">'cuda:0'</span><span style=\"color: #800000; text-decoration-color: #800000; font-weight: bold\">) computed_loss = tensor(</span><span style=\"color: #800000; text-decoration-color: #800000; font-weight: bold\">0.4555</span><span style=\"color: #800000; text-decoration-color: #800000; font-weight: bold\">, </span><span style=\"color: #800000; text-decoration-color: #800000; font-weight: bold\">device</span><span style=\"color: #800000; text-decoration-color: #800000; font-weight: bold\">=</span><span style=\"color: #800000; text-decoration-color: #800000; font-weight: bold\">'cuda:0'</span><span style=\"color: #800000; text-decoration-color: #800000; font-weight: bold\">, </span>\n",
       "<span style=\"color: #800000; text-decoration-color: #800000; font-weight: bold\">grad_fn</span><span style=\"color: #800000; text-decoration-color: #800000; font-weight: bold\">=&lt;NllLossBackward0&gt;)</span>\n",
       "</pre>\n"
      ],
      "text/plain": [
       "\u001b[1;31mloss = \u001b[0m\u001b[1;31mtensor\u001b[0m\u001b[1;31m(\u001b[0m\u001b[1;31m0.4684\u001b[0m\u001b[1;31m, \u001b[0m\u001b[1;31mdevice\u001b[0m\u001b[1;31m=\u001b[0m\u001b[1;31m'cuda:0'\u001b[0m\u001b[1;31m)\u001b[0m\u001b[1;31m computed_loss = \u001b[0m\u001b[1;31mtensor\u001b[0m\u001b[1;31m(\u001b[0m\u001b[1;31m0.4555\u001b[0m\u001b[1;31m, \u001b[0m\u001b[1;31mdevice\u001b[0m\u001b[1;31m=\u001b[0m\u001b[1;31m'cuda:0'\u001b[0m\u001b[1;31m, \u001b[0m\n",
       "\u001b[1;31mgrad_fn\u001b[0m\u001b[1;31m=\u001b[0m\u001b[1;31m<\u001b[0m\u001b[1;31mNllLossBackward0\u001b[0m\u001b[1;31m>\u001b[0m\u001b[1;31m)\u001b[0m\n"
      ]
     },
     "metadata": {},
     "output_type": "display_data"
    },
    {
     "data": {
      "text/html": [
       "<pre style=\"white-space:pre;overflow-x:auto;line-height:normal;font-family:Menlo,'DejaVu Sans Mono',consolas,'Courier New',monospace\"><span style=\"color: #800000; text-decoration-color: #800000; font-weight: bold\">loss = tensor(</span><span style=\"color: #800000; text-decoration-color: #800000; font-weight: bold\">0.4464</span><span style=\"color: #800000; text-decoration-color: #800000; font-weight: bold\">, </span><span style=\"color: #800000; text-decoration-color: #800000; font-weight: bold\">device</span><span style=\"color: #800000; text-decoration-color: #800000; font-weight: bold\">=</span><span style=\"color: #800000; text-decoration-color: #800000; font-weight: bold\">'cuda:0'</span><span style=\"color: #800000; text-decoration-color: #800000; font-weight: bold\">) computed_loss = tensor(</span><span style=\"color: #800000; text-decoration-color: #800000; font-weight: bold\">0.4435</span><span style=\"color: #800000; text-decoration-color: #800000; font-weight: bold\">, </span><span style=\"color: #800000; text-decoration-color: #800000; font-weight: bold\">device</span><span style=\"color: #800000; text-decoration-color: #800000; font-weight: bold\">=</span><span style=\"color: #800000; text-decoration-color: #800000; font-weight: bold\">'cuda:0'</span><span style=\"color: #800000; text-decoration-color: #800000; font-weight: bold\">, </span>\n",
       "<span style=\"color: #800000; text-decoration-color: #800000; font-weight: bold\">grad_fn</span><span style=\"color: #800000; text-decoration-color: #800000; font-weight: bold\">=&lt;NllLossBackward0&gt;)</span>\n",
       "</pre>\n"
      ],
      "text/plain": [
       "\u001b[1;31mloss = \u001b[0m\u001b[1;31mtensor\u001b[0m\u001b[1;31m(\u001b[0m\u001b[1;31m0.4464\u001b[0m\u001b[1;31m, \u001b[0m\u001b[1;31mdevice\u001b[0m\u001b[1;31m=\u001b[0m\u001b[1;31m'cuda:0'\u001b[0m\u001b[1;31m)\u001b[0m\u001b[1;31m computed_loss = \u001b[0m\u001b[1;31mtensor\u001b[0m\u001b[1;31m(\u001b[0m\u001b[1;31m0.4435\u001b[0m\u001b[1;31m, \u001b[0m\u001b[1;31mdevice\u001b[0m\u001b[1;31m=\u001b[0m\u001b[1;31m'cuda:0'\u001b[0m\u001b[1;31m, \u001b[0m\n",
       "\u001b[1;31mgrad_fn\u001b[0m\u001b[1;31m=\u001b[0m\u001b[1;31m<\u001b[0m\u001b[1;31mNllLossBackward0\u001b[0m\u001b[1;31m>\u001b[0m\u001b[1;31m)\u001b[0m\n"
      ]
     },
     "metadata": {},
     "output_type": "display_data"
    },
    {
     "data": {
      "text/html": [
       "<pre style=\"white-space:pre;overflow-x:auto;line-height:normal;font-family:Menlo,'DejaVu Sans Mono',consolas,'Courier New',monospace\"><span style=\"color: #800000; text-decoration-color: #800000; font-weight: bold\">loss = tensor(</span><span style=\"color: #800000; text-decoration-color: #800000; font-weight: bold\">0.0648</span><span style=\"color: #800000; text-decoration-color: #800000; font-weight: bold\">, </span><span style=\"color: #800000; text-decoration-color: #800000; font-weight: bold\">device</span><span style=\"color: #800000; text-decoration-color: #800000; font-weight: bold\">=</span><span style=\"color: #800000; text-decoration-color: #800000; font-weight: bold\">'cuda:0'</span><span style=\"color: #800000; text-decoration-color: #800000; font-weight: bold\">) computed_loss = tensor(</span><span style=\"color: #800000; text-decoration-color: #800000; font-weight: bold\">0.0654</span><span style=\"color: #800000; text-decoration-color: #800000; font-weight: bold\">, </span><span style=\"color: #800000; text-decoration-color: #800000; font-weight: bold\">device</span><span style=\"color: #800000; text-decoration-color: #800000; font-weight: bold\">=</span><span style=\"color: #800000; text-decoration-color: #800000; font-weight: bold\">'cuda:0'</span><span style=\"color: #800000; text-decoration-color: #800000; font-weight: bold\">, </span>\n",
       "<span style=\"color: #800000; text-decoration-color: #800000; font-weight: bold\">grad_fn</span><span style=\"color: #800000; text-decoration-color: #800000; font-weight: bold\">=&lt;NllLossBackward0&gt;)</span>\n",
       "</pre>\n"
      ],
      "text/plain": [
       "\u001b[1;31mloss = \u001b[0m\u001b[1;31mtensor\u001b[0m\u001b[1;31m(\u001b[0m\u001b[1;31m0.0648\u001b[0m\u001b[1;31m, \u001b[0m\u001b[1;31mdevice\u001b[0m\u001b[1;31m=\u001b[0m\u001b[1;31m'cuda:0'\u001b[0m\u001b[1;31m)\u001b[0m\u001b[1;31m computed_loss = \u001b[0m\u001b[1;31mtensor\u001b[0m\u001b[1;31m(\u001b[0m\u001b[1;31m0.0654\u001b[0m\u001b[1;31m, \u001b[0m\u001b[1;31mdevice\u001b[0m\u001b[1;31m=\u001b[0m\u001b[1;31m'cuda:0'\u001b[0m\u001b[1;31m, \u001b[0m\n",
       "\u001b[1;31mgrad_fn\u001b[0m\u001b[1;31m=\u001b[0m\u001b[1;31m<\u001b[0m\u001b[1;31mNllLossBackward0\u001b[0m\u001b[1;31m>\u001b[0m\u001b[1;31m)\u001b[0m\n"
      ]
     },
     "metadata": {},
     "output_type": "display_data"
    },
    {
     "data": {
      "text/html": [
       "<pre style=\"white-space:pre;overflow-x:auto;line-height:normal;font-family:Menlo,'DejaVu Sans Mono',consolas,'Courier New',monospace\"><span style=\"color: #800000; text-decoration-color: #800000; font-weight: bold\">loss = tensor(</span><span style=\"color: #800000; text-decoration-color: #800000; font-weight: bold\">0.0965</span><span style=\"color: #800000; text-decoration-color: #800000; font-weight: bold\">, </span><span style=\"color: #800000; text-decoration-color: #800000; font-weight: bold\">device</span><span style=\"color: #800000; text-decoration-color: #800000; font-weight: bold\">=</span><span style=\"color: #800000; text-decoration-color: #800000; font-weight: bold\">'cuda:0'</span><span style=\"color: #800000; text-decoration-color: #800000; font-weight: bold\">) computed_loss = tensor(</span><span style=\"color: #800000; text-decoration-color: #800000; font-weight: bold\">0.0966</span><span style=\"color: #800000; text-decoration-color: #800000; font-weight: bold\">, </span><span style=\"color: #800000; text-decoration-color: #800000; font-weight: bold\">device</span><span style=\"color: #800000; text-decoration-color: #800000; font-weight: bold\">=</span><span style=\"color: #800000; text-decoration-color: #800000; font-weight: bold\">'cuda:0'</span><span style=\"color: #800000; text-decoration-color: #800000; font-weight: bold\">, </span>\n",
       "<span style=\"color: #800000; text-decoration-color: #800000; font-weight: bold\">grad_fn</span><span style=\"color: #800000; text-decoration-color: #800000; font-weight: bold\">=&lt;NllLossBackward0&gt;)</span>\n",
       "</pre>\n"
      ],
      "text/plain": [
       "\u001b[1;31mloss = \u001b[0m\u001b[1;31mtensor\u001b[0m\u001b[1;31m(\u001b[0m\u001b[1;31m0.0965\u001b[0m\u001b[1;31m, \u001b[0m\u001b[1;31mdevice\u001b[0m\u001b[1;31m=\u001b[0m\u001b[1;31m'cuda:0'\u001b[0m\u001b[1;31m)\u001b[0m\u001b[1;31m computed_loss = \u001b[0m\u001b[1;31mtensor\u001b[0m\u001b[1;31m(\u001b[0m\u001b[1;31m0.0966\u001b[0m\u001b[1;31m, \u001b[0m\u001b[1;31mdevice\u001b[0m\u001b[1;31m=\u001b[0m\u001b[1;31m'cuda:0'\u001b[0m\u001b[1;31m, \u001b[0m\n",
       "\u001b[1;31mgrad_fn\u001b[0m\u001b[1;31m=\u001b[0m\u001b[1;31m<\u001b[0m\u001b[1;31mNllLossBackward0\u001b[0m\u001b[1;31m>\u001b[0m\u001b[1;31m)\u001b[0m\n"
      ]
     },
     "metadata": {},
     "output_type": "display_data"
    },
    {
     "data": {
      "text/html": [
       "<pre style=\"white-space:pre;overflow-x:auto;line-height:normal;font-family:Menlo,'DejaVu Sans Mono',consolas,'Courier New',monospace\"><span style=\"color: #800000; text-decoration-color: #800000; font-weight: bold\">loss = tensor(</span><span style=\"color: #800000; text-decoration-color: #800000; font-weight: bold\">0.1759</span><span style=\"color: #800000; text-decoration-color: #800000; font-weight: bold\">, </span><span style=\"color: #800000; text-decoration-color: #800000; font-weight: bold\">device</span><span style=\"color: #800000; text-decoration-color: #800000; font-weight: bold\">=</span><span style=\"color: #800000; text-decoration-color: #800000; font-weight: bold\">'cuda:0'</span><span style=\"color: #800000; text-decoration-color: #800000; font-weight: bold\">) computed_loss = tensor(</span><span style=\"color: #800000; text-decoration-color: #800000; font-weight: bold\">0.1784</span><span style=\"color: #800000; text-decoration-color: #800000; font-weight: bold\">, </span><span style=\"color: #800000; text-decoration-color: #800000; font-weight: bold\">device</span><span style=\"color: #800000; text-decoration-color: #800000; font-weight: bold\">=</span><span style=\"color: #800000; text-decoration-color: #800000; font-weight: bold\">'cuda:0'</span><span style=\"color: #800000; text-decoration-color: #800000; font-weight: bold\">, </span>\n",
       "<span style=\"color: #800000; text-decoration-color: #800000; font-weight: bold\">grad_fn</span><span style=\"color: #800000; text-decoration-color: #800000; font-weight: bold\">=&lt;NllLossBackward0&gt;)</span>\n",
       "</pre>\n"
      ],
      "text/plain": [
       "\u001b[1;31mloss = \u001b[0m\u001b[1;31mtensor\u001b[0m\u001b[1;31m(\u001b[0m\u001b[1;31m0.1759\u001b[0m\u001b[1;31m, \u001b[0m\u001b[1;31mdevice\u001b[0m\u001b[1;31m=\u001b[0m\u001b[1;31m'cuda:0'\u001b[0m\u001b[1;31m)\u001b[0m\u001b[1;31m computed_loss = \u001b[0m\u001b[1;31mtensor\u001b[0m\u001b[1;31m(\u001b[0m\u001b[1;31m0.1784\u001b[0m\u001b[1;31m, \u001b[0m\u001b[1;31mdevice\u001b[0m\u001b[1;31m=\u001b[0m\u001b[1;31m'cuda:0'\u001b[0m\u001b[1;31m, \u001b[0m\n",
       "\u001b[1;31mgrad_fn\u001b[0m\u001b[1;31m=\u001b[0m\u001b[1;31m<\u001b[0m\u001b[1;31mNllLossBackward0\u001b[0m\u001b[1;31m>\u001b[0m\u001b[1;31m)\u001b[0m\n"
      ]
     },
     "metadata": {},
     "output_type": "display_data"
    },
    {
     "data": {
      "text/html": [
       "<pre style=\"white-space:pre;overflow-x:auto;line-height:normal;font-family:Menlo,'DejaVu Sans Mono',consolas,'Courier New',monospace\"><span style=\"color: #800000; text-decoration-color: #800000; font-weight: bold\">loss = tensor(</span><span style=\"color: #800000; text-decoration-color: #800000; font-weight: bold\">0.0618</span><span style=\"color: #800000; text-decoration-color: #800000; font-weight: bold\">, </span><span style=\"color: #800000; text-decoration-color: #800000; font-weight: bold\">device</span><span style=\"color: #800000; text-decoration-color: #800000; font-weight: bold\">=</span><span style=\"color: #800000; text-decoration-color: #800000; font-weight: bold\">'cuda:0'</span><span style=\"color: #800000; text-decoration-color: #800000; font-weight: bold\">) computed_loss = tensor(</span><span style=\"color: #800000; text-decoration-color: #800000; font-weight: bold\">0.0612</span><span style=\"color: #800000; text-decoration-color: #800000; font-weight: bold\">, </span><span style=\"color: #800000; text-decoration-color: #800000; font-weight: bold\">device</span><span style=\"color: #800000; text-decoration-color: #800000; font-weight: bold\">=</span><span style=\"color: #800000; text-decoration-color: #800000; font-weight: bold\">'cuda:0'</span><span style=\"color: #800000; text-decoration-color: #800000; font-weight: bold\">, </span>\n",
       "<span style=\"color: #800000; text-decoration-color: #800000; font-weight: bold\">grad_fn</span><span style=\"color: #800000; text-decoration-color: #800000; font-weight: bold\">=&lt;NllLossBackward0&gt;)</span>\n",
       "</pre>\n"
      ],
      "text/plain": [
       "\u001b[1;31mloss = \u001b[0m\u001b[1;31mtensor\u001b[0m\u001b[1;31m(\u001b[0m\u001b[1;31m0.0618\u001b[0m\u001b[1;31m, \u001b[0m\u001b[1;31mdevice\u001b[0m\u001b[1;31m=\u001b[0m\u001b[1;31m'cuda:0'\u001b[0m\u001b[1;31m)\u001b[0m\u001b[1;31m computed_loss = \u001b[0m\u001b[1;31mtensor\u001b[0m\u001b[1;31m(\u001b[0m\u001b[1;31m0.0612\u001b[0m\u001b[1;31m, \u001b[0m\u001b[1;31mdevice\u001b[0m\u001b[1;31m=\u001b[0m\u001b[1;31m'cuda:0'\u001b[0m\u001b[1;31m, \u001b[0m\n",
       "\u001b[1;31mgrad_fn\u001b[0m\u001b[1;31m=\u001b[0m\u001b[1;31m<\u001b[0m\u001b[1;31mNllLossBackward0\u001b[0m\u001b[1;31m>\u001b[0m\u001b[1;31m)\u001b[0m\n"
      ]
     },
     "metadata": {},
     "output_type": "display_data"
    },
    {
     "data": {
      "text/html": [
       "<pre style=\"white-space:pre;overflow-x:auto;line-height:normal;font-family:Menlo,'DejaVu Sans Mono',consolas,'Courier New',monospace\"><span style=\"color: #800000; text-decoration-color: #800000; font-weight: bold\">loss = tensor(</span><span style=\"color: #800000; text-decoration-color: #800000; font-weight: bold\">0.0687</span><span style=\"color: #800000; text-decoration-color: #800000; font-weight: bold\">, </span><span style=\"color: #800000; text-decoration-color: #800000; font-weight: bold\">device</span><span style=\"color: #800000; text-decoration-color: #800000; font-weight: bold\">=</span><span style=\"color: #800000; text-decoration-color: #800000; font-weight: bold\">'cuda:0'</span><span style=\"color: #800000; text-decoration-color: #800000; font-weight: bold\">) computed_loss = tensor(</span><span style=\"color: #800000; text-decoration-color: #800000; font-weight: bold\">0.0701</span><span style=\"color: #800000; text-decoration-color: #800000; font-weight: bold\">, </span><span style=\"color: #800000; text-decoration-color: #800000; font-weight: bold\">device</span><span style=\"color: #800000; text-decoration-color: #800000; font-weight: bold\">=</span><span style=\"color: #800000; text-decoration-color: #800000; font-weight: bold\">'cuda:0'</span><span style=\"color: #800000; text-decoration-color: #800000; font-weight: bold\">, </span>\n",
       "<span style=\"color: #800000; text-decoration-color: #800000; font-weight: bold\">grad_fn</span><span style=\"color: #800000; text-decoration-color: #800000; font-weight: bold\">=&lt;NllLossBackward0&gt;)</span>\n",
       "</pre>\n"
      ],
      "text/plain": [
       "\u001b[1;31mloss = \u001b[0m\u001b[1;31mtensor\u001b[0m\u001b[1;31m(\u001b[0m\u001b[1;31m0.0687\u001b[0m\u001b[1;31m, \u001b[0m\u001b[1;31mdevice\u001b[0m\u001b[1;31m=\u001b[0m\u001b[1;31m'cuda:0'\u001b[0m\u001b[1;31m)\u001b[0m\u001b[1;31m computed_loss = \u001b[0m\u001b[1;31mtensor\u001b[0m\u001b[1;31m(\u001b[0m\u001b[1;31m0.0701\u001b[0m\u001b[1;31m, \u001b[0m\u001b[1;31mdevice\u001b[0m\u001b[1;31m=\u001b[0m\u001b[1;31m'cuda:0'\u001b[0m\u001b[1;31m, \u001b[0m\n",
       "\u001b[1;31mgrad_fn\u001b[0m\u001b[1;31m=\u001b[0m\u001b[1;31m<\u001b[0m\u001b[1;31mNllLossBackward0\u001b[0m\u001b[1;31m>\u001b[0m\u001b[1;31m)\u001b[0m\n"
      ]
     },
     "metadata": {},
     "output_type": "display_data"
    },
    {
     "data": {
      "text/html": [
       "<pre style=\"white-space:pre;overflow-x:auto;line-height:normal;font-family:Menlo,'DejaVu Sans Mono',consolas,'Courier New',monospace\"><span style=\"color: #800000; text-decoration-color: #800000; font-weight: bold\">loss = tensor(</span><span style=\"color: #800000; text-decoration-color: #800000; font-weight: bold\">0.0496</span><span style=\"color: #800000; text-decoration-color: #800000; font-weight: bold\">, </span><span style=\"color: #800000; text-decoration-color: #800000; font-weight: bold\">device</span><span style=\"color: #800000; text-decoration-color: #800000; font-weight: bold\">=</span><span style=\"color: #800000; text-decoration-color: #800000; font-weight: bold\">'cuda:0'</span><span style=\"color: #800000; text-decoration-color: #800000; font-weight: bold\">) computed_loss = tensor(</span><span style=\"color: #800000; text-decoration-color: #800000; font-weight: bold\">0.0477</span><span style=\"color: #800000; text-decoration-color: #800000; font-weight: bold\">, </span><span style=\"color: #800000; text-decoration-color: #800000; font-weight: bold\">device</span><span style=\"color: #800000; text-decoration-color: #800000; font-weight: bold\">=</span><span style=\"color: #800000; text-decoration-color: #800000; font-weight: bold\">'cuda:0'</span><span style=\"color: #800000; text-decoration-color: #800000; font-weight: bold\">, </span>\n",
       "<span style=\"color: #800000; text-decoration-color: #800000; font-weight: bold\">grad_fn</span><span style=\"color: #800000; text-decoration-color: #800000; font-weight: bold\">=&lt;NllLossBackward0&gt;)</span>\n",
       "</pre>\n"
      ],
      "text/plain": [
       "\u001b[1;31mloss = \u001b[0m\u001b[1;31mtensor\u001b[0m\u001b[1;31m(\u001b[0m\u001b[1;31m0.0496\u001b[0m\u001b[1;31m, \u001b[0m\u001b[1;31mdevice\u001b[0m\u001b[1;31m=\u001b[0m\u001b[1;31m'cuda:0'\u001b[0m\u001b[1;31m)\u001b[0m\u001b[1;31m computed_loss = \u001b[0m\u001b[1;31mtensor\u001b[0m\u001b[1;31m(\u001b[0m\u001b[1;31m0.0477\u001b[0m\u001b[1;31m, \u001b[0m\u001b[1;31mdevice\u001b[0m\u001b[1;31m=\u001b[0m\u001b[1;31m'cuda:0'\u001b[0m\u001b[1;31m, \u001b[0m\n",
       "\u001b[1;31mgrad_fn\u001b[0m\u001b[1;31m=\u001b[0m\u001b[1;31m<\u001b[0m\u001b[1;31mNllLossBackward0\u001b[0m\u001b[1;31m>\u001b[0m\u001b[1;31m)\u001b[0m\n"
      ]
     },
     "metadata": {},
     "output_type": "display_data"
    },
    {
     "data": {
      "text/html": [
       "<pre style=\"white-space:pre;overflow-x:auto;line-height:normal;font-family:Menlo,'DejaVu Sans Mono',consolas,'Courier New',monospace\"><span style=\"color: #800000; text-decoration-color: #800000; font-weight: bold\">loss = tensor(</span><span style=\"color: #800000; text-decoration-color: #800000; font-weight: bold\">0.0593</span><span style=\"color: #800000; text-decoration-color: #800000; font-weight: bold\">, </span><span style=\"color: #800000; text-decoration-color: #800000; font-weight: bold\">device</span><span style=\"color: #800000; text-decoration-color: #800000; font-weight: bold\">=</span><span style=\"color: #800000; text-decoration-color: #800000; font-weight: bold\">'cuda:0'</span><span style=\"color: #800000; text-decoration-color: #800000; font-weight: bold\">) computed_loss = tensor(</span><span style=\"color: #800000; text-decoration-color: #800000; font-weight: bold\">0.0561</span><span style=\"color: #800000; text-decoration-color: #800000; font-weight: bold\">, </span><span style=\"color: #800000; text-decoration-color: #800000; font-weight: bold\">device</span><span style=\"color: #800000; text-decoration-color: #800000; font-weight: bold\">=</span><span style=\"color: #800000; text-decoration-color: #800000; font-weight: bold\">'cuda:0'</span><span style=\"color: #800000; text-decoration-color: #800000; font-weight: bold\">, </span>\n",
       "<span style=\"color: #800000; text-decoration-color: #800000; font-weight: bold\">grad_fn</span><span style=\"color: #800000; text-decoration-color: #800000; font-weight: bold\">=&lt;NllLossBackward0&gt;)</span>\n",
       "</pre>\n"
      ],
      "text/plain": [
       "\u001b[1;31mloss = \u001b[0m\u001b[1;31mtensor\u001b[0m\u001b[1;31m(\u001b[0m\u001b[1;31m0.0593\u001b[0m\u001b[1;31m, \u001b[0m\u001b[1;31mdevice\u001b[0m\u001b[1;31m=\u001b[0m\u001b[1;31m'cuda:0'\u001b[0m\u001b[1;31m)\u001b[0m\u001b[1;31m computed_loss = \u001b[0m\u001b[1;31mtensor\u001b[0m\u001b[1;31m(\u001b[0m\u001b[1;31m0.0561\u001b[0m\u001b[1;31m, \u001b[0m\u001b[1;31mdevice\u001b[0m\u001b[1;31m=\u001b[0m\u001b[1;31m'cuda:0'\u001b[0m\u001b[1;31m, \u001b[0m\n",
       "\u001b[1;31mgrad_fn\u001b[0m\u001b[1;31m=\u001b[0m\u001b[1;31m<\u001b[0m\u001b[1;31mNllLossBackward0\u001b[0m\u001b[1;31m>\u001b[0m\u001b[1;31m)\u001b[0m\n"
      ]
     },
     "metadata": {},
     "output_type": "display_data"
    },
    {
     "data": {
      "text/html": [
       "<pre style=\"white-space:pre;overflow-x:auto;line-height:normal;font-family:Menlo,'DejaVu Sans Mono',consolas,'Courier New',monospace\"><span style=\"color: #800000; text-decoration-color: #800000; font-weight: bold\">loss = tensor(</span><span style=\"color: #800000; text-decoration-color: #800000; font-weight: bold\">0.1136</span><span style=\"color: #800000; text-decoration-color: #800000; font-weight: bold\">, </span><span style=\"color: #800000; text-decoration-color: #800000; font-weight: bold\">device</span><span style=\"color: #800000; text-decoration-color: #800000; font-weight: bold\">=</span><span style=\"color: #800000; text-decoration-color: #800000; font-weight: bold\">'cuda:0'</span><span style=\"color: #800000; text-decoration-color: #800000; font-weight: bold\">) computed_loss = tensor(</span><span style=\"color: #800000; text-decoration-color: #800000; font-weight: bold\">0.1187</span><span style=\"color: #800000; text-decoration-color: #800000; font-weight: bold\">, </span><span style=\"color: #800000; text-decoration-color: #800000; font-weight: bold\">device</span><span style=\"color: #800000; text-decoration-color: #800000; font-weight: bold\">=</span><span style=\"color: #800000; text-decoration-color: #800000; font-weight: bold\">'cuda:0'</span><span style=\"color: #800000; text-decoration-color: #800000; font-weight: bold\">, </span>\n",
       "<span style=\"color: #800000; text-decoration-color: #800000; font-weight: bold\">grad_fn</span><span style=\"color: #800000; text-decoration-color: #800000; font-weight: bold\">=&lt;NllLossBackward0&gt;)</span>\n",
       "</pre>\n"
      ],
      "text/plain": [
       "\u001b[1;31mloss = \u001b[0m\u001b[1;31mtensor\u001b[0m\u001b[1;31m(\u001b[0m\u001b[1;31m0.1136\u001b[0m\u001b[1;31m, \u001b[0m\u001b[1;31mdevice\u001b[0m\u001b[1;31m=\u001b[0m\u001b[1;31m'cuda:0'\u001b[0m\u001b[1;31m)\u001b[0m\u001b[1;31m computed_loss = \u001b[0m\u001b[1;31mtensor\u001b[0m\u001b[1;31m(\u001b[0m\u001b[1;31m0.1187\u001b[0m\u001b[1;31m, \u001b[0m\u001b[1;31mdevice\u001b[0m\u001b[1;31m=\u001b[0m\u001b[1;31m'cuda:0'\u001b[0m\u001b[1;31m, \u001b[0m\n",
       "\u001b[1;31mgrad_fn\u001b[0m\u001b[1;31m=\u001b[0m\u001b[1;31m<\u001b[0m\u001b[1;31mNllLossBackward0\u001b[0m\u001b[1;31m>\u001b[0m\u001b[1;31m)\u001b[0m\n"
      ]
     },
     "metadata": {},
     "output_type": "display_data"
    },
    {
     "data": {
      "text/html": [
       "<pre style=\"white-space:pre;overflow-x:auto;line-height:normal;font-family:Menlo,'DejaVu Sans Mono',consolas,'Courier New',monospace\"><span style=\"color: #800000; text-decoration-color: #800000; font-weight: bold\">loss = tensor(</span><span style=\"color: #800000; text-decoration-color: #800000; font-weight: bold\">0.1768</span><span style=\"color: #800000; text-decoration-color: #800000; font-weight: bold\">, </span><span style=\"color: #800000; text-decoration-color: #800000; font-weight: bold\">device</span><span style=\"color: #800000; text-decoration-color: #800000; font-weight: bold\">=</span><span style=\"color: #800000; text-decoration-color: #800000; font-weight: bold\">'cuda:0'</span><span style=\"color: #800000; text-decoration-color: #800000; font-weight: bold\">) computed_loss = tensor(</span><span style=\"color: #800000; text-decoration-color: #800000; font-weight: bold\">0.1615</span><span style=\"color: #800000; text-decoration-color: #800000; font-weight: bold\">, </span><span style=\"color: #800000; text-decoration-color: #800000; font-weight: bold\">device</span><span style=\"color: #800000; text-decoration-color: #800000; font-weight: bold\">=</span><span style=\"color: #800000; text-decoration-color: #800000; font-weight: bold\">'cuda:0'</span><span style=\"color: #800000; text-decoration-color: #800000; font-weight: bold\">, </span>\n",
       "<span style=\"color: #800000; text-decoration-color: #800000; font-weight: bold\">grad_fn</span><span style=\"color: #800000; text-decoration-color: #800000; font-weight: bold\">=&lt;NllLossBackward0&gt;)</span>\n",
       "</pre>\n"
      ],
      "text/plain": [
       "\u001b[1;31mloss = \u001b[0m\u001b[1;31mtensor\u001b[0m\u001b[1;31m(\u001b[0m\u001b[1;31m0.1768\u001b[0m\u001b[1;31m, \u001b[0m\u001b[1;31mdevice\u001b[0m\u001b[1;31m=\u001b[0m\u001b[1;31m'cuda:0'\u001b[0m\u001b[1;31m)\u001b[0m\u001b[1;31m computed_loss = \u001b[0m\u001b[1;31mtensor\u001b[0m\u001b[1;31m(\u001b[0m\u001b[1;31m0.1615\u001b[0m\u001b[1;31m, \u001b[0m\u001b[1;31mdevice\u001b[0m\u001b[1;31m=\u001b[0m\u001b[1;31m'cuda:0'\u001b[0m\u001b[1;31m, \u001b[0m\n",
       "\u001b[1;31mgrad_fn\u001b[0m\u001b[1;31m=\u001b[0m\u001b[1;31m<\u001b[0m\u001b[1;31mNllLossBackward0\u001b[0m\u001b[1;31m>\u001b[0m\u001b[1;31m)\u001b[0m\n"
      ]
     },
     "metadata": {},
     "output_type": "display_data"
    },
    {
     "data": {
      "text/html": [
       "<pre style=\"white-space:pre;overflow-x:auto;line-height:normal;font-family:Menlo,'DejaVu Sans Mono',consolas,'Courier New',monospace\"><span style=\"color: #800000; text-decoration-color: #800000; font-weight: bold\">loss = tensor(</span><span style=\"color: #800000; text-decoration-color: #800000; font-weight: bold\">0.0391</span><span style=\"color: #800000; text-decoration-color: #800000; font-weight: bold\">, </span><span style=\"color: #800000; text-decoration-color: #800000; font-weight: bold\">device</span><span style=\"color: #800000; text-decoration-color: #800000; font-weight: bold\">=</span><span style=\"color: #800000; text-decoration-color: #800000; font-weight: bold\">'cuda:0'</span><span style=\"color: #800000; text-decoration-color: #800000; font-weight: bold\">) computed_loss = tensor(</span><span style=\"color: #800000; text-decoration-color: #800000; font-weight: bold\">0.0400</span><span style=\"color: #800000; text-decoration-color: #800000; font-weight: bold\">, </span><span style=\"color: #800000; text-decoration-color: #800000; font-weight: bold\">device</span><span style=\"color: #800000; text-decoration-color: #800000; font-weight: bold\">=</span><span style=\"color: #800000; text-decoration-color: #800000; font-weight: bold\">'cuda:0'</span><span style=\"color: #800000; text-decoration-color: #800000; font-weight: bold\">, </span>\n",
       "<span style=\"color: #800000; text-decoration-color: #800000; font-weight: bold\">grad_fn</span><span style=\"color: #800000; text-decoration-color: #800000; font-weight: bold\">=&lt;NllLossBackward0&gt;)</span>\n",
       "</pre>\n"
      ],
      "text/plain": [
       "\u001b[1;31mloss = \u001b[0m\u001b[1;31mtensor\u001b[0m\u001b[1;31m(\u001b[0m\u001b[1;31m0.0391\u001b[0m\u001b[1;31m, \u001b[0m\u001b[1;31mdevice\u001b[0m\u001b[1;31m=\u001b[0m\u001b[1;31m'cuda:0'\u001b[0m\u001b[1;31m)\u001b[0m\u001b[1;31m computed_loss = \u001b[0m\u001b[1;31mtensor\u001b[0m\u001b[1;31m(\u001b[0m\u001b[1;31m0.0400\u001b[0m\u001b[1;31m, \u001b[0m\u001b[1;31mdevice\u001b[0m\u001b[1;31m=\u001b[0m\u001b[1;31m'cuda:0'\u001b[0m\u001b[1;31m, \u001b[0m\n",
       "\u001b[1;31mgrad_fn\u001b[0m\u001b[1;31m=\u001b[0m\u001b[1;31m<\u001b[0m\u001b[1;31mNllLossBackward0\u001b[0m\u001b[1;31m>\u001b[0m\u001b[1;31m)\u001b[0m\n"
      ]
     },
     "metadata": {},
     "output_type": "display_data"
    },
    {
     "data": {
      "text/html": [
       "<pre style=\"white-space:pre;overflow-x:auto;line-height:normal;font-family:Menlo,'DejaVu Sans Mono',consolas,'Courier New',monospace\"><span style=\"color: #800000; text-decoration-color: #800000; font-weight: bold\">loss = tensor(</span><span style=\"color: #800000; text-decoration-color: #800000; font-weight: bold\">0.7482</span><span style=\"color: #800000; text-decoration-color: #800000; font-weight: bold\">, </span><span style=\"color: #800000; text-decoration-color: #800000; font-weight: bold\">device</span><span style=\"color: #800000; text-decoration-color: #800000; font-weight: bold\">=</span><span style=\"color: #800000; text-decoration-color: #800000; font-weight: bold\">'cuda:0'</span><span style=\"color: #800000; text-decoration-color: #800000; font-weight: bold\">) computed_loss = tensor(</span><span style=\"color: #800000; text-decoration-color: #800000; font-weight: bold\">0.7278</span><span style=\"color: #800000; text-decoration-color: #800000; font-weight: bold\">, </span><span style=\"color: #800000; text-decoration-color: #800000; font-weight: bold\">device</span><span style=\"color: #800000; text-decoration-color: #800000; font-weight: bold\">=</span><span style=\"color: #800000; text-decoration-color: #800000; font-weight: bold\">'cuda:0'</span><span style=\"color: #800000; text-decoration-color: #800000; font-weight: bold\">, </span>\n",
       "<span style=\"color: #800000; text-decoration-color: #800000; font-weight: bold\">grad_fn</span><span style=\"color: #800000; text-decoration-color: #800000; font-weight: bold\">=&lt;NllLossBackward0&gt;)</span>\n",
       "</pre>\n"
      ],
      "text/plain": [
       "\u001b[1;31mloss = \u001b[0m\u001b[1;31mtensor\u001b[0m\u001b[1;31m(\u001b[0m\u001b[1;31m0.7482\u001b[0m\u001b[1;31m, \u001b[0m\u001b[1;31mdevice\u001b[0m\u001b[1;31m=\u001b[0m\u001b[1;31m'cuda:0'\u001b[0m\u001b[1;31m)\u001b[0m\u001b[1;31m computed_loss = \u001b[0m\u001b[1;31mtensor\u001b[0m\u001b[1;31m(\u001b[0m\u001b[1;31m0.7278\u001b[0m\u001b[1;31m, \u001b[0m\u001b[1;31mdevice\u001b[0m\u001b[1;31m=\u001b[0m\u001b[1;31m'cuda:0'\u001b[0m\u001b[1;31m, \u001b[0m\n",
       "\u001b[1;31mgrad_fn\u001b[0m\u001b[1;31m=\u001b[0m\u001b[1;31m<\u001b[0m\u001b[1;31mNllLossBackward0\u001b[0m\u001b[1;31m>\u001b[0m\u001b[1;31m)\u001b[0m\n"
      ]
     },
     "metadata": {},
     "output_type": "display_data"
    },
    {
     "data": {
      "text/html": [
       "<pre style=\"white-space:pre;overflow-x:auto;line-height:normal;font-family:Menlo,'DejaVu Sans Mono',consolas,'Courier New',monospace\"><span style=\"color: #800000; text-decoration-color: #800000; font-weight: bold\">loss = tensor(</span><span style=\"color: #800000; text-decoration-color: #800000; font-weight: bold\">0.2346</span><span style=\"color: #800000; text-decoration-color: #800000; font-weight: bold\">, </span><span style=\"color: #800000; text-decoration-color: #800000; font-weight: bold\">device</span><span style=\"color: #800000; text-decoration-color: #800000; font-weight: bold\">=</span><span style=\"color: #800000; text-decoration-color: #800000; font-weight: bold\">'cuda:0'</span><span style=\"color: #800000; text-decoration-color: #800000; font-weight: bold\">) computed_loss = tensor(</span><span style=\"color: #800000; text-decoration-color: #800000; font-weight: bold\">0.2146</span><span style=\"color: #800000; text-decoration-color: #800000; font-weight: bold\">, </span><span style=\"color: #800000; text-decoration-color: #800000; font-weight: bold\">device</span><span style=\"color: #800000; text-decoration-color: #800000; font-weight: bold\">=</span><span style=\"color: #800000; text-decoration-color: #800000; font-weight: bold\">'cuda:0'</span><span style=\"color: #800000; text-decoration-color: #800000; font-weight: bold\">, </span>\n",
       "<span style=\"color: #800000; text-decoration-color: #800000; font-weight: bold\">grad_fn</span><span style=\"color: #800000; text-decoration-color: #800000; font-weight: bold\">=&lt;NllLossBackward0&gt;)</span>\n",
       "</pre>\n"
      ],
      "text/plain": [
       "\u001b[1;31mloss = \u001b[0m\u001b[1;31mtensor\u001b[0m\u001b[1;31m(\u001b[0m\u001b[1;31m0.2346\u001b[0m\u001b[1;31m, \u001b[0m\u001b[1;31mdevice\u001b[0m\u001b[1;31m=\u001b[0m\u001b[1;31m'cuda:0'\u001b[0m\u001b[1;31m)\u001b[0m\u001b[1;31m computed_loss = \u001b[0m\u001b[1;31mtensor\u001b[0m\u001b[1;31m(\u001b[0m\u001b[1;31m0.2146\u001b[0m\u001b[1;31m, \u001b[0m\u001b[1;31mdevice\u001b[0m\u001b[1;31m=\u001b[0m\u001b[1;31m'cuda:0'\u001b[0m\u001b[1;31m, \u001b[0m\n",
       "\u001b[1;31mgrad_fn\u001b[0m\u001b[1;31m=\u001b[0m\u001b[1;31m<\u001b[0m\u001b[1;31mNllLossBackward0\u001b[0m\u001b[1;31m>\u001b[0m\u001b[1;31m)\u001b[0m\n"
      ]
     },
     "metadata": {},
     "output_type": "display_data"
    },
    {
     "data": {
      "text/html": [
       "<pre style=\"white-space:pre;overflow-x:auto;line-height:normal;font-family:Menlo,'DejaVu Sans Mono',consolas,'Courier New',monospace\"><span style=\"color: #800000; text-decoration-color: #800000; font-weight: bold\">loss = tensor(</span><span style=\"color: #800000; text-decoration-color: #800000; font-weight: bold\">0.1486</span><span style=\"color: #800000; text-decoration-color: #800000; font-weight: bold\">, </span><span style=\"color: #800000; text-decoration-color: #800000; font-weight: bold\">device</span><span style=\"color: #800000; text-decoration-color: #800000; font-weight: bold\">=</span><span style=\"color: #800000; text-decoration-color: #800000; font-weight: bold\">'cuda:0'</span><span style=\"color: #800000; text-decoration-color: #800000; font-weight: bold\">) computed_loss = tensor(</span><span style=\"color: #800000; text-decoration-color: #800000; font-weight: bold\">0.1555</span><span style=\"color: #800000; text-decoration-color: #800000; font-weight: bold\">, </span><span style=\"color: #800000; text-decoration-color: #800000; font-weight: bold\">device</span><span style=\"color: #800000; text-decoration-color: #800000; font-weight: bold\">=</span><span style=\"color: #800000; text-decoration-color: #800000; font-weight: bold\">'cuda:0'</span><span style=\"color: #800000; text-decoration-color: #800000; font-weight: bold\">, </span>\n",
       "<span style=\"color: #800000; text-decoration-color: #800000; font-weight: bold\">grad_fn</span><span style=\"color: #800000; text-decoration-color: #800000; font-weight: bold\">=&lt;NllLossBackward0&gt;)</span>\n",
       "</pre>\n"
      ],
      "text/plain": [
       "\u001b[1;31mloss = \u001b[0m\u001b[1;31mtensor\u001b[0m\u001b[1;31m(\u001b[0m\u001b[1;31m0.1486\u001b[0m\u001b[1;31m, \u001b[0m\u001b[1;31mdevice\u001b[0m\u001b[1;31m=\u001b[0m\u001b[1;31m'cuda:0'\u001b[0m\u001b[1;31m)\u001b[0m\u001b[1;31m computed_loss = \u001b[0m\u001b[1;31mtensor\u001b[0m\u001b[1;31m(\u001b[0m\u001b[1;31m0.1555\u001b[0m\u001b[1;31m, \u001b[0m\u001b[1;31mdevice\u001b[0m\u001b[1;31m=\u001b[0m\u001b[1;31m'cuda:0'\u001b[0m\u001b[1;31m, \u001b[0m\n",
       "\u001b[1;31mgrad_fn\u001b[0m\u001b[1;31m=\u001b[0m\u001b[1;31m<\u001b[0m\u001b[1;31mNllLossBackward0\u001b[0m\u001b[1;31m>\u001b[0m\u001b[1;31m)\u001b[0m\n"
      ]
     },
     "metadata": {},
     "output_type": "display_data"
    },
    {
     "data": {
      "text/html": [
       "<pre style=\"white-space:pre;overflow-x:auto;line-height:normal;font-family:Menlo,'DejaVu Sans Mono',consolas,'Courier New',monospace\"><span style=\"color: #800000; text-decoration-color: #800000; font-weight: bold\">loss = tensor(</span><span style=\"color: #800000; text-decoration-color: #800000; font-weight: bold\">0.0154</span><span style=\"color: #800000; text-decoration-color: #800000; font-weight: bold\">, </span><span style=\"color: #800000; text-decoration-color: #800000; font-weight: bold\">device</span><span style=\"color: #800000; text-decoration-color: #800000; font-weight: bold\">=</span><span style=\"color: #800000; text-decoration-color: #800000; font-weight: bold\">'cuda:0'</span><span style=\"color: #800000; text-decoration-color: #800000; font-weight: bold\">) computed_loss = tensor(</span><span style=\"color: #800000; text-decoration-color: #800000; font-weight: bold\">0.0158</span><span style=\"color: #800000; text-decoration-color: #800000; font-weight: bold\">, </span><span style=\"color: #800000; text-decoration-color: #800000; font-weight: bold\">device</span><span style=\"color: #800000; text-decoration-color: #800000; font-weight: bold\">=</span><span style=\"color: #800000; text-decoration-color: #800000; font-weight: bold\">'cuda:0'</span><span style=\"color: #800000; text-decoration-color: #800000; font-weight: bold\">, </span>\n",
       "<span style=\"color: #800000; text-decoration-color: #800000; font-weight: bold\">grad_fn</span><span style=\"color: #800000; text-decoration-color: #800000; font-weight: bold\">=&lt;NllLossBackward0&gt;)</span>\n",
       "</pre>\n"
      ],
      "text/plain": [
       "\u001b[1;31mloss = \u001b[0m\u001b[1;31mtensor\u001b[0m\u001b[1;31m(\u001b[0m\u001b[1;31m0.0154\u001b[0m\u001b[1;31m, \u001b[0m\u001b[1;31mdevice\u001b[0m\u001b[1;31m=\u001b[0m\u001b[1;31m'cuda:0'\u001b[0m\u001b[1;31m)\u001b[0m\u001b[1;31m computed_loss = \u001b[0m\u001b[1;31mtensor\u001b[0m\u001b[1;31m(\u001b[0m\u001b[1;31m0.0158\u001b[0m\u001b[1;31m, \u001b[0m\u001b[1;31mdevice\u001b[0m\u001b[1;31m=\u001b[0m\u001b[1;31m'cuda:0'\u001b[0m\u001b[1;31m, \u001b[0m\n",
       "\u001b[1;31mgrad_fn\u001b[0m\u001b[1;31m=\u001b[0m\u001b[1;31m<\u001b[0m\u001b[1;31mNllLossBackward0\u001b[0m\u001b[1;31m>\u001b[0m\u001b[1;31m)\u001b[0m\n"
      ]
     },
     "metadata": {},
     "output_type": "display_data"
    },
    {
     "data": {
      "text/html": [
       "<pre style=\"white-space:pre;overflow-x:auto;line-height:normal;font-family:Menlo,'DejaVu Sans Mono',consolas,'Courier New',monospace\"><span style=\"color: #800000; text-decoration-color: #800000; font-weight: bold\">loss = tensor(</span><span style=\"color: #800000; text-decoration-color: #800000; font-weight: bold\">0.5420</span><span style=\"color: #800000; text-decoration-color: #800000; font-weight: bold\">, </span><span style=\"color: #800000; text-decoration-color: #800000; font-weight: bold\">device</span><span style=\"color: #800000; text-decoration-color: #800000; font-weight: bold\">=</span><span style=\"color: #800000; text-decoration-color: #800000; font-weight: bold\">'cuda:0'</span><span style=\"color: #800000; text-decoration-color: #800000; font-weight: bold\">) computed_loss = tensor(</span><span style=\"color: #800000; text-decoration-color: #800000; font-weight: bold\">0.5359</span><span style=\"color: #800000; text-decoration-color: #800000; font-weight: bold\">, </span><span style=\"color: #800000; text-decoration-color: #800000; font-weight: bold\">device</span><span style=\"color: #800000; text-decoration-color: #800000; font-weight: bold\">=</span><span style=\"color: #800000; text-decoration-color: #800000; font-weight: bold\">'cuda:0'</span><span style=\"color: #800000; text-decoration-color: #800000; font-weight: bold\">, </span>\n",
       "<span style=\"color: #800000; text-decoration-color: #800000; font-weight: bold\">grad_fn</span><span style=\"color: #800000; text-decoration-color: #800000; font-weight: bold\">=&lt;NllLossBackward0&gt;)</span>\n",
       "</pre>\n"
      ],
      "text/plain": [
       "\u001b[1;31mloss = \u001b[0m\u001b[1;31mtensor\u001b[0m\u001b[1;31m(\u001b[0m\u001b[1;31m0.5420\u001b[0m\u001b[1;31m, \u001b[0m\u001b[1;31mdevice\u001b[0m\u001b[1;31m=\u001b[0m\u001b[1;31m'cuda:0'\u001b[0m\u001b[1;31m)\u001b[0m\u001b[1;31m computed_loss = \u001b[0m\u001b[1;31mtensor\u001b[0m\u001b[1;31m(\u001b[0m\u001b[1;31m0.5359\u001b[0m\u001b[1;31m, \u001b[0m\u001b[1;31mdevice\u001b[0m\u001b[1;31m=\u001b[0m\u001b[1;31m'cuda:0'\u001b[0m\u001b[1;31m, \u001b[0m\n",
       "\u001b[1;31mgrad_fn\u001b[0m\u001b[1;31m=\u001b[0m\u001b[1;31m<\u001b[0m\u001b[1;31mNllLossBackward0\u001b[0m\u001b[1;31m>\u001b[0m\u001b[1;31m)\u001b[0m\n"
      ]
     },
     "metadata": {},
     "output_type": "display_data"
    },
    {
     "data": {
      "text/html": [
       "<pre style=\"white-space:pre;overflow-x:auto;line-height:normal;font-family:Menlo,'DejaVu Sans Mono',consolas,'Courier New',monospace\"><span style=\"color: #800000; text-decoration-color: #800000; font-weight: bold\">loss = tensor(</span><span style=\"color: #800000; text-decoration-color: #800000; font-weight: bold\">0.2195</span><span style=\"color: #800000; text-decoration-color: #800000; font-weight: bold\">, </span><span style=\"color: #800000; text-decoration-color: #800000; font-weight: bold\">device</span><span style=\"color: #800000; text-decoration-color: #800000; font-weight: bold\">=</span><span style=\"color: #800000; text-decoration-color: #800000; font-weight: bold\">'cuda:0'</span><span style=\"color: #800000; text-decoration-color: #800000; font-weight: bold\">) computed_loss = tensor(</span><span style=\"color: #800000; text-decoration-color: #800000; font-weight: bold\">0.2202</span><span style=\"color: #800000; text-decoration-color: #800000; font-weight: bold\">, </span><span style=\"color: #800000; text-decoration-color: #800000; font-weight: bold\">device</span><span style=\"color: #800000; text-decoration-color: #800000; font-weight: bold\">=</span><span style=\"color: #800000; text-decoration-color: #800000; font-weight: bold\">'cuda:0'</span><span style=\"color: #800000; text-decoration-color: #800000; font-weight: bold\">, </span>\n",
       "<span style=\"color: #800000; text-decoration-color: #800000; font-weight: bold\">grad_fn</span><span style=\"color: #800000; text-decoration-color: #800000; font-weight: bold\">=&lt;NllLossBackward0&gt;)</span>\n",
       "</pre>\n"
      ],
      "text/plain": [
       "\u001b[1;31mloss = \u001b[0m\u001b[1;31mtensor\u001b[0m\u001b[1;31m(\u001b[0m\u001b[1;31m0.2195\u001b[0m\u001b[1;31m, \u001b[0m\u001b[1;31mdevice\u001b[0m\u001b[1;31m=\u001b[0m\u001b[1;31m'cuda:0'\u001b[0m\u001b[1;31m)\u001b[0m\u001b[1;31m computed_loss = \u001b[0m\u001b[1;31mtensor\u001b[0m\u001b[1;31m(\u001b[0m\u001b[1;31m0.2202\u001b[0m\u001b[1;31m, \u001b[0m\u001b[1;31mdevice\u001b[0m\u001b[1;31m=\u001b[0m\u001b[1;31m'cuda:0'\u001b[0m\u001b[1;31m, \u001b[0m\n",
       "\u001b[1;31mgrad_fn\u001b[0m\u001b[1;31m=\u001b[0m\u001b[1;31m<\u001b[0m\u001b[1;31mNllLossBackward0\u001b[0m\u001b[1;31m>\u001b[0m\u001b[1;31m)\u001b[0m\n"
      ]
     },
     "metadata": {},
     "output_type": "display_data"
    },
    {
     "data": {
      "text/html": [
       "<pre style=\"white-space:pre;overflow-x:auto;line-height:normal;font-family:Menlo,'DejaVu Sans Mono',consolas,'Courier New',monospace\"><span style=\"color: #800000; text-decoration-color: #800000; font-weight: bold\">loss = tensor(</span><span style=\"color: #800000; text-decoration-color: #800000; font-weight: bold\">0.0117</span><span style=\"color: #800000; text-decoration-color: #800000; font-weight: bold\">, </span><span style=\"color: #800000; text-decoration-color: #800000; font-weight: bold\">device</span><span style=\"color: #800000; text-decoration-color: #800000; font-weight: bold\">=</span><span style=\"color: #800000; text-decoration-color: #800000; font-weight: bold\">'cuda:0'</span><span style=\"color: #800000; text-decoration-color: #800000; font-weight: bold\">) computed_loss = tensor(</span><span style=\"color: #800000; text-decoration-color: #800000; font-weight: bold\">0.0118</span><span style=\"color: #800000; text-decoration-color: #800000; font-weight: bold\">, </span><span style=\"color: #800000; text-decoration-color: #800000; font-weight: bold\">device</span><span style=\"color: #800000; text-decoration-color: #800000; font-weight: bold\">=</span><span style=\"color: #800000; text-decoration-color: #800000; font-weight: bold\">'cuda:0'</span><span style=\"color: #800000; text-decoration-color: #800000; font-weight: bold\">, </span>\n",
       "<span style=\"color: #800000; text-decoration-color: #800000; font-weight: bold\">grad_fn</span><span style=\"color: #800000; text-decoration-color: #800000; font-weight: bold\">=&lt;NllLossBackward0&gt;)</span>\n",
       "</pre>\n"
      ],
      "text/plain": [
       "\u001b[1;31mloss = \u001b[0m\u001b[1;31mtensor\u001b[0m\u001b[1;31m(\u001b[0m\u001b[1;31m0.0117\u001b[0m\u001b[1;31m, \u001b[0m\u001b[1;31mdevice\u001b[0m\u001b[1;31m=\u001b[0m\u001b[1;31m'cuda:0'\u001b[0m\u001b[1;31m)\u001b[0m\u001b[1;31m computed_loss = \u001b[0m\u001b[1;31mtensor\u001b[0m\u001b[1;31m(\u001b[0m\u001b[1;31m0.0118\u001b[0m\u001b[1;31m, \u001b[0m\u001b[1;31mdevice\u001b[0m\u001b[1;31m=\u001b[0m\u001b[1;31m'cuda:0'\u001b[0m\u001b[1;31m, \u001b[0m\n",
       "\u001b[1;31mgrad_fn\u001b[0m\u001b[1;31m=\u001b[0m\u001b[1;31m<\u001b[0m\u001b[1;31mNllLossBackward0\u001b[0m\u001b[1;31m>\u001b[0m\u001b[1;31m)\u001b[0m\n"
      ]
     },
     "metadata": {},
     "output_type": "display_data"
    },
    {
     "data": {
      "text/html": [
       "<pre style=\"white-space:pre;overflow-x:auto;line-height:normal;font-family:Menlo,'DejaVu Sans Mono',consolas,'Courier New',monospace\"><span style=\"color: #800000; text-decoration-color: #800000; font-weight: bold\">loss = tensor(</span><span style=\"color: #800000; text-decoration-color: #800000; font-weight: bold\">0.0072</span><span style=\"color: #800000; text-decoration-color: #800000; font-weight: bold\">, </span><span style=\"color: #800000; text-decoration-color: #800000; font-weight: bold\">device</span><span style=\"color: #800000; text-decoration-color: #800000; font-weight: bold\">=</span><span style=\"color: #800000; text-decoration-color: #800000; font-weight: bold\">'cuda:0'</span><span style=\"color: #800000; text-decoration-color: #800000; font-weight: bold\">) computed_loss = tensor(</span><span style=\"color: #800000; text-decoration-color: #800000; font-weight: bold\">0.0072</span><span style=\"color: #800000; text-decoration-color: #800000; font-weight: bold\">, </span><span style=\"color: #800000; text-decoration-color: #800000; font-weight: bold\">device</span><span style=\"color: #800000; text-decoration-color: #800000; font-weight: bold\">=</span><span style=\"color: #800000; text-decoration-color: #800000; font-weight: bold\">'cuda:0'</span><span style=\"color: #800000; text-decoration-color: #800000; font-weight: bold\">, </span>\n",
       "<span style=\"color: #800000; text-decoration-color: #800000; font-weight: bold\">grad_fn</span><span style=\"color: #800000; text-decoration-color: #800000; font-weight: bold\">=&lt;NllLossBackward0&gt;)</span>\n",
       "</pre>\n"
      ],
      "text/plain": [
       "\u001b[1;31mloss = \u001b[0m\u001b[1;31mtensor\u001b[0m\u001b[1;31m(\u001b[0m\u001b[1;31m0.0072\u001b[0m\u001b[1;31m, \u001b[0m\u001b[1;31mdevice\u001b[0m\u001b[1;31m=\u001b[0m\u001b[1;31m'cuda:0'\u001b[0m\u001b[1;31m)\u001b[0m\u001b[1;31m computed_loss = \u001b[0m\u001b[1;31mtensor\u001b[0m\u001b[1;31m(\u001b[0m\u001b[1;31m0.0072\u001b[0m\u001b[1;31m, \u001b[0m\u001b[1;31mdevice\u001b[0m\u001b[1;31m=\u001b[0m\u001b[1;31m'cuda:0'\u001b[0m\u001b[1;31m, \u001b[0m\n",
       "\u001b[1;31mgrad_fn\u001b[0m\u001b[1;31m=\u001b[0m\u001b[1;31m<\u001b[0m\u001b[1;31mNllLossBackward0\u001b[0m\u001b[1;31m>\u001b[0m\u001b[1;31m)\u001b[0m\n"
      ]
     },
     "metadata": {},
     "output_type": "display_data"
    },
    {
     "data": {
      "text/html": [
       "<pre style=\"white-space:pre;overflow-x:auto;line-height:normal;font-family:Menlo,'DejaVu Sans Mono',consolas,'Courier New',monospace\"><span style=\"color: #800000; text-decoration-color: #800000; font-weight: bold\">loss = tensor(</span><span style=\"color: #800000; text-decoration-color: #800000; font-weight: bold\">0.0108</span><span style=\"color: #800000; text-decoration-color: #800000; font-weight: bold\">, </span><span style=\"color: #800000; text-decoration-color: #800000; font-weight: bold\">device</span><span style=\"color: #800000; text-decoration-color: #800000; font-weight: bold\">=</span><span style=\"color: #800000; text-decoration-color: #800000; font-weight: bold\">'cuda:0'</span><span style=\"color: #800000; text-decoration-color: #800000; font-weight: bold\">) computed_loss = tensor(</span><span style=\"color: #800000; text-decoration-color: #800000; font-weight: bold\">0.0107</span><span style=\"color: #800000; text-decoration-color: #800000; font-weight: bold\">, </span><span style=\"color: #800000; text-decoration-color: #800000; font-weight: bold\">device</span><span style=\"color: #800000; text-decoration-color: #800000; font-weight: bold\">=</span><span style=\"color: #800000; text-decoration-color: #800000; font-weight: bold\">'cuda:0'</span><span style=\"color: #800000; text-decoration-color: #800000; font-weight: bold\">, </span>\n",
       "<span style=\"color: #800000; text-decoration-color: #800000; font-weight: bold\">grad_fn</span><span style=\"color: #800000; text-decoration-color: #800000; font-weight: bold\">=&lt;NllLossBackward0&gt;)</span>\n",
       "</pre>\n"
      ],
      "text/plain": [
       "\u001b[1;31mloss = \u001b[0m\u001b[1;31mtensor\u001b[0m\u001b[1;31m(\u001b[0m\u001b[1;31m0.0108\u001b[0m\u001b[1;31m, \u001b[0m\u001b[1;31mdevice\u001b[0m\u001b[1;31m=\u001b[0m\u001b[1;31m'cuda:0'\u001b[0m\u001b[1;31m)\u001b[0m\u001b[1;31m computed_loss = \u001b[0m\u001b[1;31mtensor\u001b[0m\u001b[1;31m(\u001b[0m\u001b[1;31m0.0107\u001b[0m\u001b[1;31m, \u001b[0m\u001b[1;31mdevice\u001b[0m\u001b[1;31m=\u001b[0m\u001b[1;31m'cuda:0'\u001b[0m\u001b[1;31m, \u001b[0m\n",
       "\u001b[1;31mgrad_fn\u001b[0m\u001b[1;31m=\u001b[0m\u001b[1;31m<\u001b[0m\u001b[1;31mNllLossBackward0\u001b[0m\u001b[1;31m>\u001b[0m\u001b[1;31m)\u001b[0m\n"
      ]
     },
     "metadata": {},
     "output_type": "display_data"
    },
    {
     "data": {
      "text/html": [
       "<pre style=\"white-space:pre;overflow-x:auto;line-height:normal;font-family:Menlo,'DejaVu Sans Mono',consolas,'Courier New',monospace\"><span style=\"color: #800000; text-decoration-color: #800000; font-weight: bold\">loss = tensor(</span><span style=\"color: #800000; text-decoration-color: #800000; font-weight: bold\">0.4396</span><span style=\"color: #800000; text-decoration-color: #800000; font-weight: bold\">, </span><span style=\"color: #800000; text-decoration-color: #800000; font-weight: bold\">device</span><span style=\"color: #800000; text-decoration-color: #800000; font-weight: bold\">=</span><span style=\"color: #800000; text-decoration-color: #800000; font-weight: bold\">'cuda:0'</span><span style=\"color: #800000; text-decoration-color: #800000; font-weight: bold\">) computed_loss = tensor(</span><span style=\"color: #800000; text-decoration-color: #800000; font-weight: bold\">0.4286</span><span style=\"color: #800000; text-decoration-color: #800000; font-weight: bold\">, </span><span style=\"color: #800000; text-decoration-color: #800000; font-weight: bold\">device</span><span style=\"color: #800000; text-decoration-color: #800000; font-weight: bold\">=</span><span style=\"color: #800000; text-decoration-color: #800000; font-weight: bold\">'cuda:0'</span><span style=\"color: #800000; text-decoration-color: #800000; font-weight: bold\">, </span>\n",
       "<span style=\"color: #800000; text-decoration-color: #800000; font-weight: bold\">grad_fn</span><span style=\"color: #800000; text-decoration-color: #800000; font-weight: bold\">=&lt;NllLossBackward0&gt;)</span>\n",
       "</pre>\n"
      ],
      "text/plain": [
       "\u001b[1;31mloss = \u001b[0m\u001b[1;31mtensor\u001b[0m\u001b[1;31m(\u001b[0m\u001b[1;31m0.4396\u001b[0m\u001b[1;31m, \u001b[0m\u001b[1;31mdevice\u001b[0m\u001b[1;31m=\u001b[0m\u001b[1;31m'cuda:0'\u001b[0m\u001b[1;31m)\u001b[0m\u001b[1;31m computed_loss = \u001b[0m\u001b[1;31mtensor\u001b[0m\u001b[1;31m(\u001b[0m\u001b[1;31m0.4286\u001b[0m\u001b[1;31m, \u001b[0m\u001b[1;31mdevice\u001b[0m\u001b[1;31m=\u001b[0m\u001b[1;31m'cuda:0'\u001b[0m\u001b[1;31m, \u001b[0m\n",
       "\u001b[1;31mgrad_fn\u001b[0m\u001b[1;31m=\u001b[0m\u001b[1;31m<\u001b[0m\u001b[1;31mNllLossBackward0\u001b[0m\u001b[1;31m>\u001b[0m\u001b[1;31m)\u001b[0m\n"
      ]
     },
     "metadata": {},
     "output_type": "display_data"
    },
    {
     "data": {
      "text/html": [
       "<pre style=\"white-space:pre;overflow-x:auto;line-height:normal;font-family:Menlo,'DejaVu Sans Mono',consolas,'Courier New',monospace\"><span style=\"color: #800000; text-decoration-color: #800000; font-weight: bold\">loss = tensor(</span><span style=\"color: #800000; text-decoration-color: #800000; font-weight: bold\">0.2705</span><span style=\"color: #800000; text-decoration-color: #800000; font-weight: bold\">, </span><span style=\"color: #800000; text-decoration-color: #800000; font-weight: bold\">device</span><span style=\"color: #800000; text-decoration-color: #800000; font-weight: bold\">=</span><span style=\"color: #800000; text-decoration-color: #800000; font-weight: bold\">'cuda:0'</span><span style=\"color: #800000; text-decoration-color: #800000; font-weight: bold\">) computed_loss = tensor(</span><span style=\"color: #800000; text-decoration-color: #800000; font-weight: bold\">0.2454</span><span style=\"color: #800000; text-decoration-color: #800000; font-weight: bold\">, </span><span style=\"color: #800000; text-decoration-color: #800000; font-weight: bold\">device</span><span style=\"color: #800000; text-decoration-color: #800000; font-weight: bold\">=</span><span style=\"color: #800000; text-decoration-color: #800000; font-weight: bold\">'cuda:0'</span><span style=\"color: #800000; text-decoration-color: #800000; font-weight: bold\">, </span>\n",
       "<span style=\"color: #800000; text-decoration-color: #800000; font-weight: bold\">grad_fn</span><span style=\"color: #800000; text-decoration-color: #800000; font-weight: bold\">=&lt;NllLossBackward0&gt;)</span>\n",
       "</pre>\n"
      ],
      "text/plain": [
       "\u001b[1;31mloss = \u001b[0m\u001b[1;31mtensor\u001b[0m\u001b[1;31m(\u001b[0m\u001b[1;31m0.2705\u001b[0m\u001b[1;31m, \u001b[0m\u001b[1;31mdevice\u001b[0m\u001b[1;31m=\u001b[0m\u001b[1;31m'cuda:0'\u001b[0m\u001b[1;31m)\u001b[0m\u001b[1;31m computed_loss = \u001b[0m\u001b[1;31mtensor\u001b[0m\u001b[1;31m(\u001b[0m\u001b[1;31m0.2454\u001b[0m\u001b[1;31m, \u001b[0m\u001b[1;31mdevice\u001b[0m\u001b[1;31m=\u001b[0m\u001b[1;31m'cuda:0'\u001b[0m\u001b[1;31m, \u001b[0m\n",
       "\u001b[1;31mgrad_fn\u001b[0m\u001b[1;31m=\u001b[0m\u001b[1;31m<\u001b[0m\u001b[1;31mNllLossBackward0\u001b[0m\u001b[1;31m>\u001b[0m\u001b[1;31m)\u001b[0m\n"
      ]
     },
     "metadata": {},
     "output_type": "display_data"
    },
    {
     "data": {
      "text/html": [
       "<pre style=\"white-space:pre;overflow-x:auto;line-height:normal;font-family:Menlo,'DejaVu Sans Mono',consolas,'Courier New',monospace\"><span style=\"color: #800000; text-decoration-color: #800000; font-weight: bold\">loss = tensor(</span><span style=\"color: #800000; text-decoration-color: #800000; font-weight: bold\">0.2439</span><span style=\"color: #800000; text-decoration-color: #800000; font-weight: bold\">, </span><span style=\"color: #800000; text-decoration-color: #800000; font-weight: bold\">device</span><span style=\"color: #800000; text-decoration-color: #800000; font-weight: bold\">=</span><span style=\"color: #800000; text-decoration-color: #800000; font-weight: bold\">'cuda:0'</span><span style=\"color: #800000; text-decoration-color: #800000; font-weight: bold\">) computed_loss = tensor(</span><span style=\"color: #800000; text-decoration-color: #800000; font-weight: bold\">0.2554</span><span style=\"color: #800000; text-decoration-color: #800000; font-weight: bold\">, </span><span style=\"color: #800000; text-decoration-color: #800000; font-weight: bold\">device</span><span style=\"color: #800000; text-decoration-color: #800000; font-weight: bold\">=</span><span style=\"color: #800000; text-decoration-color: #800000; font-weight: bold\">'cuda:0'</span><span style=\"color: #800000; text-decoration-color: #800000; font-weight: bold\">, </span>\n",
       "<span style=\"color: #800000; text-decoration-color: #800000; font-weight: bold\">grad_fn</span><span style=\"color: #800000; text-decoration-color: #800000; font-weight: bold\">=&lt;NllLossBackward0&gt;)</span>\n",
       "</pre>\n"
      ],
      "text/plain": [
       "\u001b[1;31mloss = \u001b[0m\u001b[1;31mtensor\u001b[0m\u001b[1;31m(\u001b[0m\u001b[1;31m0.2439\u001b[0m\u001b[1;31m, \u001b[0m\u001b[1;31mdevice\u001b[0m\u001b[1;31m=\u001b[0m\u001b[1;31m'cuda:0'\u001b[0m\u001b[1;31m)\u001b[0m\u001b[1;31m computed_loss = \u001b[0m\u001b[1;31mtensor\u001b[0m\u001b[1;31m(\u001b[0m\u001b[1;31m0.2554\u001b[0m\u001b[1;31m, \u001b[0m\u001b[1;31mdevice\u001b[0m\u001b[1;31m=\u001b[0m\u001b[1;31m'cuda:0'\u001b[0m\u001b[1;31m, \u001b[0m\n",
       "\u001b[1;31mgrad_fn\u001b[0m\u001b[1;31m=\u001b[0m\u001b[1;31m<\u001b[0m\u001b[1;31mNllLossBackward0\u001b[0m\u001b[1;31m>\u001b[0m\u001b[1;31m)\u001b[0m\n"
      ]
     },
     "metadata": {},
     "output_type": "display_data"
    },
    {
     "data": {
      "text/html": [
       "<pre style=\"white-space:pre;overflow-x:auto;line-height:normal;font-family:Menlo,'DejaVu Sans Mono',consolas,'Courier New',monospace\"><span style=\"color: #800000; text-decoration-color: #800000; font-weight: bold\">loss = tensor(</span><span style=\"color: #800000; text-decoration-color: #800000; font-weight: bold\">0.2079</span><span style=\"color: #800000; text-decoration-color: #800000; font-weight: bold\">, </span><span style=\"color: #800000; text-decoration-color: #800000; font-weight: bold\">device</span><span style=\"color: #800000; text-decoration-color: #800000; font-weight: bold\">=</span><span style=\"color: #800000; text-decoration-color: #800000; font-weight: bold\">'cuda:0'</span><span style=\"color: #800000; text-decoration-color: #800000; font-weight: bold\">) computed_loss = tensor(</span><span style=\"color: #800000; text-decoration-color: #800000; font-weight: bold\">0.2176</span><span style=\"color: #800000; text-decoration-color: #800000; font-weight: bold\">, </span><span style=\"color: #800000; text-decoration-color: #800000; font-weight: bold\">device</span><span style=\"color: #800000; text-decoration-color: #800000; font-weight: bold\">=</span><span style=\"color: #800000; text-decoration-color: #800000; font-weight: bold\">'cuda:0'</span><span style=\"color: #800000; text-decoration-color: #800000; font-weight: bold\">, </span>\n",
       "<span style=\"color: #800000; text-decoration-color: #800000; font-weight: bold\">grad_fn</span><span style=\"color: #800000; text-decoration-color: #800000; font-weight: bold\">=&lt;NllLossBackward0&gt;)</span>\n",
       "</pre>\n"
      ],
      "text/plain": [
       "\u001b[1;31mloss = \u001b[0m\u001b[1;31mtensor\u001b[0m\u001b[1;31m(\u001b[0m\u001b[1;31m0.2079\u001b[0m\u001b[1;31m, \u001b[0m\u001b[1;31mdevice\u001b[0m\u001b[1;31m=\u001b[0m\u001b[1;31m'cuda:0'\u001b[0m\u001b[1;31m)\u001b[0m\u001b[1;31m computed_loss = \u001b[0m\u001b[1;31mtensor\u001b[0m\u001b[1;31m(\u001b[0m\u001b[1;31m0.2176\u001b[0m\u001b[1;31m, \u001b[0m\u001b[1;31mdevice\u001b[0m\u001b[1;31m=\u001b[0m\u001b[1;31m'cuda:0'\u001b[0m\u001b[1;31m, \u001b[0m\n",
       "\u001b[1;31mgrad_fn\u001b[0m\u001b[1;31m=\u001b[0m\u001b[1;31m<\u001b[0m\u001b[1;31mNllLossBackward0\u001b[0m\u001b[1;31m>\u001b[0m\u001b[1;31m)\u001b[0m\n"
      ]
     },
     "metadata": {},
     "output_type": "display_data"
    },
    {
     "data": {
      "text/html": [
       "<pre style=\"white-space:pre;overflow-x:auto;line-height:normal;font-family:Menlo,'DejaVu Sans Mono',consolas,'Courier New',monospace\"><span style=\"color: #800000; text-decoration-color: #800000; font-weight: bold\">loss = tensor(</span><span style=\"color: #800000; text-decoration-color: #800000; font-weight: bold\">0.0214</span><span style=\"color: #800000; text-decoration-color: #800000; font-weight: bold\">, </span><span style=\"color: #800000; text-decoration-color: #800000; font-weight: bold\">device</span><span style=\"color: #800000; text-decoration-color: #800000; font-weight: bold\">=</span><span style=\"color: #800000; text-decoration-color: #800000; font-weight: bold\">'cuda:0'</span><span style=\"color: #800000; text-decoration-color: #800000; font-weight: bold\">) computed_loss = tensor(</span><span style=\"color: #800000; text-decoration-color: #800000; font-weight: bold\">0.0217</span><span style=\"color: #800000; text-decoration-color: #800000; font-weight: bold\">, </span><span style=\"color: #800000; text-decoration-color: #800000; font-weight: bold\">device</span><span style=\"color: #800000; text-decoration-color: #800000; font-weight: bold\">=</span><span style=\"color: #800000; text-decoration-color: #800000; font-weight: bold\">'cuda:0'</span><span style=\"color: #800000; text-decoration-color: #800000; font-weight: bold\">, </span>\n",
       "<span style=\"color: #800000; text-decoration-color: #800000; font-weight: bold\">grad_fn</span><span style=\"color: #800000; text-decoration-color: #800000; font-weight: bold\">=&lt;NllLossBackward0&gt;)</span>\n",
       "</pre>\n"
      ],
      "text/plain": [
       "\u001b[1;31mloss = \u001b[0m\u001b[1;31mtensor\u001b[0m\u001b[1;31m(\u001b[0m\u001b[1;31m0.0214\u001b[0m\u001b[1;31m, \u001b[0m\u001b[1;31mdevice\u001b[0m\u001b[1;31m=\u001b[0m\u001b[1;31m'cuda:0'\u001b[0m\u001b[1;31m)\u001b[0m\u001b[1;31m computed_loss = \u001b[0m\u001b[1;31mtensor\u001b[0m\u001b[1;31m(\u001b[0m\u001b[1;31m0.0217\u001b[0m\u001b[1;31m, \u001b[0m\u001b[1;31mdevice\u001b[0m\u001b[1;31m=\u001b[0m\u001b[1;31m'cuda:0'\u001b[0m\u001b[1;31m, \u001b[0m\n",
       "\u001b[1;31mgrad_fn\u001b[0m\u001b[1;31m=\u001b[0m\u001b[1;31m<\u001b[0m\u001b[1;31mNllLossBackward0\u001b[0m\u001b[1;31m>\u001b[0m\u001b[1;31m)\u001b[0m\n"
      ]
     },
     "metadata": {},
     "output_type": "display_data"
    },
    {
     "data": {
      "text/html": [
       "<pre style=\"white-space:pre;overflow-x:auto;line-height:normal;font-family:Menlo,'DejaVu Sans Mono',consolas,'Courier New',monospace\"><span style=\"color: #800000; text-decoration-color: #800000; font-weight: bold\">loss = tensor(</span><span style=\"color: #800000; text-decoration-color: #800000; font-weight: bold\">0.1504</span><span style=\"color: #800000; text-decoration-color: #800000; font-weight: bold\">, </span><span style=\"color: #800000; text-decoration-color: #800000; font-weight: bold\">device</span><span style=\"color: #800000; text-decoration-color: #800000; font-weight: bold\">=</span><span style=\"color: #800000; text-decoration-color: #800000; font-weight: bold\">'cuda:0'</span><span style=\"color: #800000; text-decoration-color: #800000; font-weight: bold\">) computed_loss = tensor(</span><span style=\"color: #800000; text-decoration-color: #800000; font-weight: bold\">0.1364</span><span style=\"color: #800000; text-decoration-color: #800000; font-weight: bold\">, </span><span style=\"color: #800000; text-decoration-color: #800000; font-weight: bold\">device</span><span style=\"color: #800000; text-decoration-color: #800000; font-weight: bold\">=</span><span style=\"color: #800000; text-decoration-color: #800000; font-weight: bold\">'cuda:0'</span><span style=\"color: #800000; text-decoration-color: #800000; font-weight: bold\">, </span>\n",
       "<span style=\"color: #800000; text-decoration-color: #800000; font-weight: bold\">grad_fn</span><span style=\"color: #800000; text-decoration-color: #800000; font-weight: bold\">=&lt;NllLossBackward0&gt;)</span>\n",
       "</pre>\n"
      ],
      "text/plain": [
       "\u001b[1;31mloss = \u001b[0m\u001b[1;31mtensor\u001b[0m\u001b[1;31m(\u001b[0m\u001b[1;31m0.1504\u001b[0m\u001b[1;31m, \u001b[0m\u001b[1;31mdevice\u001b[0m\u001b[1;31m=\u001b[0m\u001b[1;31m'cuda:0'\u001b[0m\u001b[1;31m)\u001b[0m\u001b[1;31m computed_loss = \u001b[0m\u001b[1;31mtensor\u001b[0m\u001b[1;31m(\u001b[0m\u001b[1;31m0.1364\u001b[0m\u001b[1;31m, \u001b[0m\u001b[1;31mdevice\u001b[0m\u001b[1;31m=\u001b[0m\u001b[1;31m'cuda:0'\u001b[0m\u001b[1;31m, \u001b[0m\n",
       "\u001b[1;31mgrad_fn\u001b[0m\u001b[1;31m=\u001b[0m\u001b[1;31m<\u001b[0m\u001b[1;31mNllLossBackward0\u001b[0m\u001b[1;31m>\u001b[0m\u001b[1;31m)\u001b[0m\n"
      ]
     },
     "metadata": {},
     "output_type": "display_data"
    },
    {
     "data": {
      "text/html": [
       "<pre style=\"white-space:pre;overflow-x:auto;line-height:normal;font-family:Menlo,'DejaVu Sans Mono',consolas,'Courier New',monospace\"><span style=\"color: #800000; text-decoration-color: #800000; font-weight: bold\">loss = tensor(</span><span style=\"color: #800000; text-decoration-color: #800000; font-weight: bold\">0.2287</span><span style=\"color: #800000; text-decoration-color: #800000; font-weight: bold\">, </span><span style=\"color: #800000; text-decoration-color: #800000; font-weight: bold\">device</span><span style=\"color: #800000; text-decoration-color: #800000; font-weight: bold\">=</span><span style=\"color: #800000; text-decoration-color: #800000; font-weight: bold\">'cuda:0'</span><span style=\"color: #800000; text-decoration-color: #800000; font-weight: bold\">) computed_loss = tensor(</span><span style=\"color: #800000; text-decoration-color: #800000; font-weight: bold\">0.2397</span><span style=\"color: #800000; text-decoration-color: #800000; font-weight: bold\">, </span><span style=\"color: #800000; text-decoration-color: #800000; font-weight: bold\">device</span><span style=\"color: #800000; text-decoration-color: #800000; font-weight: bold\">=</span><span style=\"color: #800000; text-decoration-color: #800000; font-weight: bold\">'cuda:0'</span><span style=\"color: #800000; text-decoration-color: #800000; font-weight: bold\">, </span>\n",
       "<span style=\"color: #800000; text-decoration-color: #800000; font-weight: bold\">grad_fn</span><span style=\"color: #800000; text-decoration-color: #800000; font-weight: bold\">=&lt;NllLossBackward0&gt;)</span>\n",
       "</pre>\n"
      ],
      "text/plain": [
       "\u001b[1;31mloss = \u001b[0m\u001b[1;31mtensor\u001b[0m\u001b[1;31m(\u001b[0m\u001b[1;31m0.2287\u001b[0m\u001b[1;31m, \u001b[0m\u001b[1;31mdevice\u001b[0m\u001b[1;31m=\u001b[0m\u001b[1;31m'cuda:0'\u001b[0m\u001b[1;31m)\u001b[0m\u001b[1;31m computed_loss = \u001b[0m\u001b[1;31mtensor\u001b[0m\u001b[1;31m(\u001b[0m\u001b[1;31m0.2397\u001b[0m\u001b[1;31m, \u001b[0m\u001b[1;31mdevice\u001b[0m\u001b[1;31m=\u001b[0m\u001b[1;31m'cuda:0'\u001b[0m\u001b[1;31m, \u001b[0m\n",
       "\u001b[1;31mgrad_fn\u001b[0m\u001b[1;31m=\u001b[0m\u001b[1;31m<\u001b[0m\u001b[1;31mNllLossBackward0\u001b[0m\u001b[1;31m>\u001b[0m\u001b[1;31m)\u001b[0m\n"
      ]
     },
     "metadata": {},
     "output_type": "display_data"
    },
    {
     "data": {
      "text/html": [
       "<pre style=\"white-space:pre;overflow-x:auto;line-height:normal;font-family:Menlo,'DejaVu Sans Mono',consolas,'Courier New',monospace\"><span style=\"color: #800000; text-decoration-color: #800000; font-weight: bold\">loss = tensor(</span><span style=\"color: #800000; text-decoration-color: #800000; font-weight: bold\">0.0578</span><span style=\"color: #800000; text-decoration-color: #800000; font-weight: bold\">, </span><span style=\"color: #800000; text-decoration-color: #800000; font-weight: bold\">device</span><span style=\"color: #800000; text-decoration-color: #800000; font-weight: bold\">=</span><span style=\"color: #800000; text-decoration-color: #800000; font-weight: bold\">'cuda:0'</span><span style=\"color: #800000; text-decoration-color: #800000; font-weight: bold\">) computed_loss = tensor(</span><span style=\"color: #800000; text-decoration-color: #800000; font-weight: bold\">0.0532</span><span style=\"color: #800000; text-decoration-color: #800000; font-weight: bold\">, </span><span style=\"color: #800000; text-decoration-color: #800000; font-weight: bold\">device</span><span style=\"color: #800000; text-decoration-color: #800000; font-weight: bold\">=</span><span style=\"color: #800000; text-decoration-color: #800000; font-weight: bold\">'cuda:0'</span><span style=\"color: #800000; text-decoration-color: #800000; font-weight: bold\">, </span>\n",
       "<span style=\"color: #800000; text-decoration-color: #800000; font-weight: bold\">grad_fn</span><span style=\"color: #800000; text-decoration-color: #800000; font-weight: bold\">=&lt;NllLossBackward0&gt;)</span>\n",
       "</pre>\n"
      ],
      "text/plain": [
       "\u001b[1;31mloss = \u001b[0m\u001b[1;31mtensor\u001b[0m\u001b[1;31m(\u001b[0m\u001b[1;31m0.0578\u001b[0m\u001b[1;31m, \u001b[0m\u001b[1;31mdevice\u001b[0m\u001b[1;31m=\u001b[0m\u001b[1;31m'cuda:0'\u001b[0m\u001b[1;31m)\u001b[0m\u001b[1;31m computed_loss = \u001b[0m\u001b[1;31mtensor\u001b[0m\u001b[1;31m(\u001b[0m\u001b[1;31m0.0532\u001b[0m\u001b[1;31m, \u001b[0m\u001b[1;31mdevice\u001b[0m\u001b[1;31m=\u001b[0m\u001b[1;31m'cuda:0'\u001b[0m\u001b[1;31m, \u001b[0m\n",
       "\u001b[1;31mgrad_fn\u001b[0m\u001b[1;31m=\u001b[0m\u001b[1;31m<\u001b[0m\u001b[1;31mNllLossBackward0\u001b[0m\u001b[1;31m>\u001b[0m\u001b[1;31m)\u001b[0m\n"
      ]
     },
     "metadata": {},
     "output_type": "display_data"
    },
    {
     "data": {
      "text/html": [
       "<pre style=\"white-space:pre;overflow-x:auto;line-height:normal;font-family:Menlo,'DejaVu Sans Mono',consolas,'Courier New',monospace\"><span style=\"color: #800000; text-decoration-color: #800000; font-weight: bold\">loss = tensor(</span><span style=\"color: #800000; text-decoration-color: #800000; font-weight: bold\">0.0181</span><span style=\"color: #800000; text-decoration-color: #800000; font-weight: bold\">, </span><span style=\"color: #800000; text-decoration-color: #800000; font-weight: bold\">device</span><span style=\"color: #800000; text-decoration-color: #800000; font-weight: bold\">=</span><span style=\"color: #800000; text-decoration-color: #800000; font-weight: bold\">'cuda:0'</span><span style=\"color: #800000; text-decoration-color: #800000; font-weight: bold\">) computed_loss = tensor(</span><span style=\"color: #800000; text-decoration-color: #800000; font-weight: bold\">0.0174</span><span style=\"color: #800000; text-decoration-color: #800000; font-weight: bold\">, </span><span style=\"color: #800000; text-decoration-color: #800000; font-weight: bold\">device</span><span style=\"color: #800000; text-decoration-color: #800000; font-weight: bold\">=</span><span style=\"color: #800000; text-decoration-color: #800000; font-weight: bold\">'cuda:0'</span><span style=\"color: #800000; text-decoration-color: #800000; font-weight: bold\">, </span>\n",
       "<span style=\"color: #800000; text-decoration-color: #800000; font-weight: bold\">grad_fn</span><span style=\"color: #800000; text-decoration-color: #800000; font-weight: bold\">=&lt;NllLossBackward0&gt;)</span>\n",
       "</pre>\n"
      ],
      "text/plain": [
       "\u001b[1;31mloss = \u001b[0m\u001b[1;31mtensor\u001b[0m\u001b[1;31m(\u001b[0m\u001b[1;31m0.0181\u001b[0m\u001b[1;31m, \u001b[0m\u001b[1;31mdevice\u001b[0m\u001b[1;31m=\u001b[0m\u001b[1;31m'cuda:0'\u001b[0m\u001b[1;31m)\u001b[0m\u001b[1;31m computed_loss = \u001b[0m\u001b[1;31mtensor\u001b[0m\u001b[1;31m(\u001b[0m\u001b[1;31m0.0174\u001b[0m\u001b[1;31m, \u001b[0m\u001b[1;31mdevice\u001b[0m\u001b[1;31m=\u001b[0m\u001b[1;31m'cuda:0'\u001b[0m\u001b[1;31m, \u001b[0m\n",
       "\u001b[1;31mgrad_fn\u001b[0m\u001b[1;31m=\u001b[0m\u001b[1;31m<\u001b[0m\u001b[1;31mNllLossBackward0\u001b[0m\u001b[1;31m>\u001b[0m\u001b[1;31m)\u001b[0m\n"
      ]
     },
     "metadata": {},
     "output_type": "display_data"
    },
    {
     "data": {
      "text/html": [
       "<pre style=\"white-space:pre;overflow-x:auto;line-height:normal;font-family:Menlo,'DejaVu Sans Mono',consolas,'Courier New',monospace\"><span style=\"color: #800000; text-decoration-color: #800000; font-weight: bold\">loss = tensor(</span><span style=\"color: #800000; text-decoration-color: #800000; font-weight: bold\">0.0140</span><span style=\"color: #800000; text-decoration-color: #800000; font-weight: bold\">, </span><span style=\"color: #800000; text-decoration-color: #800000; font-weight: bold\">device</span><span style=\"color: #800000; text-decoration-color: #800000; font-weight: bold\">=</span><span style=\"color: #800000; text-decoration-color: #800000; font-weight: bold\">'cuda:0'</span><span style=\"color: #800000; text-decoration-color: #800000; font-weight: bold\">) computed_loss = tensor(</span><span style=\"color: #800000; text-decoration-color: #800000; font-weight: bold\">0.0141</span><span style=\"color: #800000; text-decoration-color: #800000; font-weight: bold\">, </span><span style=\"color: #800000; text-decoration-color: #800000; font-weight: bold\">device</span><span style=\"color: #800000; text-decoration-color: #800000; font-weight: bold\">=</span><span style=\"color: #800000; text-decoration-color: #800000; font-weight: bold\">'cuda:0'</span><span style=\"color: #800000; text-decoration-color: #800000; font-weight: bold\">, </span>\n",
       "<span style=\"color: #800000; text-decoration-color: #800000; font-weight: bold\">grad_fn</span><span style=\"color: #800000; text-decoration-color: #800000; font-weight: bold\">=&lt;NllLossBackward0&gt;)</span>\n",
       "</pre>\n"
      ],
      "text/plain": [
       "\u001b[1;31mloss = \u001b[0m\u001b[1;31mtensor\u001b[0m\u001b[1;31m(\u001b[0m\u001b[1;31m0.0140\u001b[0m\u001b[1;31m, \u001b[0m\u001b[1;31mdevice\u001b[0m\u001b[1;31m=\u001b[0m\u001b[1;31m'cuda:0'\u001b[0m\u001b[1;31m)\u001b[0m\u001b[1;31m computed_loss = \u001b[0m\u001b[1;31mtensor\u001b[0m\u001b[1;31m(\u001b[0m\u001b[1;31m0.0141\u001b[0m\u001b[1;31m, \u001b[0m\u001b[1;31mdevice\u001b[0m\u001b[1;31m=\u001b[0m\u001b[1;31m'cuda:0'\u001b[0m\u001b[1;31m, \u001b[0m\n",
       "\u001b[1;31mgrad_fn\u001b[0m\u001b[1;31m=\u001b[0m\u001b[1;31m<\u001b[0m\u001b[1;31mNllLossBackward0\u001b[0m\u001b[1;31m>\u001b[0m\u001b[1;31m)\u001b[0m\n"
      ]
     },
     "metadata": {},
     "output_type": "display_data"
    },
    {
     "data": {
      "text/html": [
       "<pre style=\"white-space:pre;overflow-x:auto;line-height:normal;font-family:Menlo,'DejaVu Sans Mono',consolas,'Courier New',monospace\"><span style=\"color: #800000; text-decoration-color: #800000; font-weight: bold\">loss = tensor(</span><span style=\"color: #800000; text-decoration-color: #800000; font-weight: bold\">0.2749</span><span style=\"color: #800000; text-decoration-color: #800000; font-weight: bold\">, </span><span style=\"color: #800000; text-decoration-color: #800000; font-weight: bold\">device</span><span style=\"color: #800000; text-decoration-color: #800000; font-weight: bold\">=</span><span style=\"color: #800000; text-decoration-color: #800000; font-weight: bold\">'cuda:0'</span><span style=\"color: #800000; text-decoration-color: #800000; font-weight: bold\">) computed_loss = tensor(</span><span style=\"color: #800000; text-decoration-color: #800000; font-weight: bold\">0.2881</span><span style=\"color: #800000; text-decoration-color: #800000; font-weight: bold\">, </span><span style=\"color: #800000; text-decoration-color: #800000; font-weight: bold\">device</span><span style=\"color: #800000; text-decoration-color: #800000; font-weight: bold\">=</span><span style=\"color: #800000; text-decoration-color: #800000; font-weight: bold\">'cuda:0'</span><span style=\"color: #800000; text-decoration-color: #800000; font-weight: bold\">, </span>\n",
       "<span style=\"color: #800000; text-decoration-color: #800000; font-weight: bold\">grad_fn</span><span style=\"color: #800000; text-decoration-color: #800000; font-weight: bold\">=&lt;NllLossBackward0&gt;)</span>\n",
       "</pre>\n"
      ],
      "text/plain": [
       "\u001b[1;31mloss = \u001b[0m\u001b[1;31mtensor\u001b[0m\u001b[1;31m(\u001b[0m\u001b[1;31m0.2749\u001b[0m\u001b[1;31m, \u001b[0m\u001b[1;31mdevice\u001b[0m\u001b[1;31m=\u001b[0m\u001b[1;31m'cuda:0'\u001b[0m\u001b[1;31m)\u001b[0m\u001b[1;31m computed_loss = \u001b[0m\u001b[1;31mtensor\u001b[0m\u001b[1;31m(\u001b[0m\u001b[1;31m0.2881\u001b[0m\u001b[1;31m, \u001b[0m\u001b[1;31mdevice\u001b[0m\u001b[1;31m=\u001b[0m\u001b[1;31m'cuda:0'\u001b[0m\u001b[1;31m, \u001b[0m\n",
       "\u001b[1;31mgrad_fn\u001b[0m\u001b[1;31m=\u001b[0m\u001b[1;31m<\u001b[0m\u001b[1;31mNllLossBackward0\u001b[0m\u001b[1;31m>\u001b[0m\u001b[1;31m)\u001b[0m\n"
      ]
     },
     "metadata": {},
     "output_type": "display_data"
    },
    {
     "data": {
      "text/html": [
       "<pre style=\"white-space:pre;overflow-x:auto;line-height:normal;font-family:Menlo,'DejaVu Sans Mono',consolas,'Courier New',monospace\"><span style=\"color: #800000; text-decoration-color: #800000; font-weight: bold\">loss = tensor(</span><span style=\"color: #800000; text-decoration-color: #800000; font-weight: bold\">0.0143</span><span style=\"color: #800000; text-decoration-color: #800000; font-weight: bold\">, </span><span style=\"color: #800000; text-decoration-color: #800000; font-weight: bold\">device</span><span style=\"color: #800000; text-decoration-color: #800000; font-weight: bold\">=</span><span style=\"color: #800000; text-decoration-color: #800000; font-weight: bold\">'cuda:0'</span><span style=\"color: #800000; text-decoration-color: #800000; font-weight: bold\">) computed_loss = tensor(</span><span style=\"color: #800000; text-decoration-color: #800000; font-weight: bold\">0.0145</span><span style=\"color: #800000; text-decoration-color: #800000; font-weight: bold\">, </span><span style=\"color: #800000; text-decoration-color: #800000; font-weight: bold\">device</span><span style=\"color: #800000; text-decoration-color: #800000; font-weight: bold\">=</span><span style=\"color: #800000; text-decoration-color: #800000; font-weight: bold\">'cuda:0'</span><span style=\"color: #800000; text-decoration-color: #800000; font-weight: bold\">, </span>\n",
       "<span style=\"color: #800000; text-decoration-color: #800000; font-weight: bold\">grad_fn</span><span style=\"color: #800000; text-decoration-color: #800000; font-weight: bold\">=&lt;NllLossBackward0&gt;)</span>\n",
       "</pre>\n"
      ],
      "text/plain": [
       "\u001b[1;31mloss = \u001b[0m\u001b[1;31mtensor\u001b[0m\u001b[1;31m(\u001b[0m\u001b[1;31m0.0143\u001b[0m\u001b[1;31m, \u001b[0m\u001b[1;31mdevice\u001b[0m\u001b[1;31m=\u001b[0m\u001b[1;31m'cuda:0'\u001b[0m\u001b[1;31m)\u001b[0m\u001b[1;31m computed_loss = \u001b[0m\u001b[1;31mtensor\u001b[0m\u001b[1;31m(\u001b[0m\u001b[1;31m0.0145\u001b[0m\u001b[1;31m, \u001b[0m\u001b[1;31mdevice\u001b[0m\u001b[1;31m=\u001b[0m\u001b[1;31m'cuda:0'\u001b[0m\u001b[1;31m, \u001b[0m\n",
       "\u001b[1;31mgrad_fn\u001b[0m\u001b[1;31m=\u001b[0m\u001b[1;31m<\u001b[0m\u001b[1;31mNllLossBackward0\u001b[0m\u001b[1;31m>\u001b[0m\u001b[1;31m)\u001b[0m\n"
      ]
     },
     "metadata": {},
     "output_type": "display_data"
    },
    {
     "data": {
      "text/html": [
       "<pre style=\"white-space:pre;overflow-x:auto;line-height:normal;font-family:Menlo,'DejaVu Sans Mono',consolas,'Courier New',monospace\"><span style=\"color: #800000; text-decoration-color: #800000; font-weight: bold\">loss = tensor(</span><span style=\"color: #800000; text-decoration-color: #800000; font-weight: bold\">0.1885</span><span style=\"color: #800000; text-decoration-color: #800000; font-weight: bold\">, </span><span style=\"color: #800000; text-decoration-color: #800000; font-weight: bold\">device</span><span style=\"color: #800000; text-decoration-color: #800000; font-weight: bold\">=</span><span style=\"color: #800000; text-decoration-color: #800000; font-weight: bold\">'cuda:0'</span><span style=\"color: #800000; text-decoration-color: #800000; font-weight: bold\">) computed_loss = tensor(</span><span style=\"color: #800000; text-decoration-color: #800000; font-weight: bold\">0.1974</span><span style=\"color: #800000; text-decoration-color: #800000; font-weight: bold\">, </span><span style=\"color: #800000; text-decoration-color: #800000; font-weight: bold\">device</span><span style=\"color: #800000; text-decoration-color: #800000; font-weight: bold\">=</span><span style=\"color: #800000; text-decoration-color: #800000; font-weight: bold\">'cuda:0'</span><span style=\"color: #800000; text-decoration-color: #800000; font-weight: bold\">, </span>\n",
       "<span style=\"color: #800000; text-decoration-color: #800000; font-weight: bold\">grad_fn</span><span style=\"color: #800000; text-decoration-color: #800000; font-weight: bold\">=&lt;NllLossBackward0&gt;)</span>\n",
       "</pre>\n"
      ],
      "text/plain": [
       "\u001b[1;31mloss = \u001b[0m\u001b[1;31mtensor\u001b[0m\u001b[1;31m(\u001b[0m\u001b[1;31m0.1885\u001b[0m\u001b[1;31m, \u001b[0m\u001b[1;31mdevice\u001b[0m\u001b[1;31m=\u001b[0m\u001b[1;31m'cuda:0'\u001b[0m\u001b[1;31m)\u001b[0m\u001b[1;31m computed_loss = \u001b[0m\u001b[1;31mtensor\u001b[0m\u001b[1;31m(\u001b[0m\u001b[1;31m0.1974\u001b[0m\u001b[1;31m, \u001b[0m\u001b[1;31mdevice\u001b[0m\u001b[1;31m=\u001b[0m\u001b[1;31m'cuda:0'\u001b[0m\u001b[1;31m, \u001b[0m\n",
       "\u001b[1;31mgrad_fn\u001b[0m\u001b[1;31m=\u001b[0m\u001b[1;31m<\u001b[0m\u001b[1;31mNllLossBackward0\u001b[0m\u001b[1;31m>\u001b[0m\u001b[1;31m)\u001b[0m\n"
      ]
     },
     "metadata": {},
     "output_type": "display_data"
    },
    {
     "data": {
      "text/html": [
       "<pre style=\"white-space:pre;overflow-x:auto;line-height:normal;font-family:Menlo,'DejaVu Sans Mono',consolas,'Courier New',monospace\"><span style=\"color: #800000; text-decoration-color: #800000; font-weight: bold\">loss = tensor(</span><span style=\"color: #800000; text-decoration-color: #800000; font-weight: bold\">0.3913</span><span style=\"color: #800000; text-decoration-color: #800000; font-weight: bold\">, </span><span style=\"color: #800000; text-decoration-color: #800000; font-weight: bold\">device</span><span style=\"color: #800000; text-decoration-color: #800000; font-weight: bold\">=</span><span style=\"color: #800000; text-decoration-color: #800000; font-weight: bold\">'cuda:0'</span><span style=\"color: #800000; text-decoration-color: #800000; font-weight: bold\">) computed_loss = tensor(</span><span style=\"color: #800000; text-decoration-color: #800000; font-weight: bold\">0.4102</span><span style=\"color: #800000; text-decoration-color: #800000; font-weight: bold\">, </span><span style=\"color: #800000; text-decoration-color: #800000; font-weight: bold\">device</span><span style=\"color: #800000; text-decoration-color: #800000; font-weight: bold\">=</span><span style=\"color: #800000; text-decoration-color: #800000; font-weight: bold\">'cuda:0'</span><span style=\"color: #800000; text-decoration-color: #800000; font-weight: bold\">, </span>\n",
       "<span style=\"color: #800000; text-decoration-color: #800000; font-weight: bold\">grad_fn</span><span style=\"color: #800000; text-decoration-color: #800000; font-weight: bold\">=&lt;NllLossBackward0&gt;)</span>\n",
       "</pre>\n"
      ],
      "text/plain": [
       "\u001b[1;31mloss = \u001b[0m\u001b[1;31mtensor\u001b[0m\u001b[1;31m(\u001b[0m\u001b[1;31m0.3913\u001b[0m\u001b[1;31m, \u001b[0m\u001b[1;31mdevice\u001b[0m\u001b[1;31m=\u001b[0m\u001b[1;31m'cuda:0'\u001b[0m\u001b[1;31m)\u001b[0m\u001b[1;31m computed_loss = \u001b[0m\u001b[1;31mtensor\u001b[0m\u001b[1;31m(\u001b[0m\u001b[1;31m0.4102\u001b[0m\u001b[1;31m, \u001b[0m\u001b[1;31mdevice\u001b[0m\u001b[1;31m=\u001b[0m\u001b[1;31m'cuda:0'\u001b[0m\u001b[1;31m, \u001b[0m\n",
       "\u001b[1;31mgrad_fn\u001b[0m\u001b[1;31m=\u001b[0m\u001b[1;31m<\u001b[0m\u001b[1;31mNllLossBackward0\u001b[0m\u001b[1;31m>\u001b[0m\u001b[1;31m)\u001b[0m\n"
      ]
     },
     "metadata": {},
     "output_type": "display_data"
    },
    {
     "data": {
      "text/html": [
       "<pre style=\"white-space:pre;overflow-x:auto;line-height:normal;font-family:Menlo,'DejaVu Sans Mono',consolas,'Courier New',monospace\"><span style=\"color: #800000; text-decoration-color: #800000; font-weight: bold\">loss = tensor(</span><span style=\"color: #800000; text-decoration-color: #800000; font-weight: bold\">0.2049</span><span style=\"color: #800000; text-decoration-color: #800000; font-weight: bold\">, </span><span style=\"color: #800000; text-decoration-color: #800000; font-weight: bold\">device</span><span style=\"color: #800000; text-decoration-color: #800000; font-weight: bold\">=</span><span style=\"color: #800000; text-decoration-color: #800000; font-weight: bold\">'cuda:0'</span><span style=\"color: #800000; text-decoration-color: #800000; font-weight: bold\">) computed_loss = tensor(</span><span style=\"color: #800000; text-decoration-color: #800000; font-weight: bold\">0.2137</span><span style=\"color: #800000; text-decoration-color: #800000; font-weight: bold\">, </span><span style=\"color: #800000; text-decoration-color: #800000; font-weight: bold\">device</span><span style=\"color: #800000; text-decoration-color: #800000; font-weight: bold\">=</span><span style=\"color: #800000; text-decoration-color: #800000; font-weight: bold\">'cuda:0'</span><span style=\"color: #800000; text-decoration-color: #800000; font-weight: bold\">, </span>\n",
       "<span style=\"color: #800000; text-decoration-color: #800000; font-weight: bold\">grad_fn</span><span style=\"color: #800000; text-decoration-color: #800000; font-weight: bold\">=&lt;NllLossBackward0&gt;)</span>\n",
       "</pre>\n"
      ],
      "text/plain": [
       "\u001b[1;31mloss = \u001b[0m\u001b[1;31mtensor\u001b[0m\u001b[1;31m(\u001b[0m\u001b[1;31m0.2049\u001b[0m\u001b[1;31m, \u001b[0m\u001b[1;31mdevice\u001b[0m\u001b[1;31m=\u001b[0m\u001b[1;31m'cuda:0'\u001b[0m\u001b[1;31m)\u001b[0m\u001b[1;31m computed_loss = \u001b[0m\u001b[1;31mtensor\u001b[0m\u001b[1;31m(\u001b[0m\u001b[1;31m0.2137\u001b[0m\u001b[1;31m, \u001b[0m\u001b[1;31mdevice\u001b[0m\u001b[1;31m=\u001b[0m\u001b[1;31m'cuda:0'\u001b[0m\u001b[1;31m, \u001b[0m\n",
       "\u001b[1;31mgrad_fn\u001b[0m\u001b[1;31m=\u001b[0m\u001b[1;31m<\u001b[0m\u001b[1;31mNllLossBackward0\u001b[0m\u001b[1;31m>\u001b[0m\u001b[1;31m)\u001b[0m\n"
      ]
     },
     "metadata": {},
     "output_type": "display_data"
    },
    {
     "data": {
      "text/html": [
       "<pre style=\"white-space:pre;overflow-x:auto;line-height:normal;font-family:Menlo,'DejaVu Sans Mono',consolas,'Courier New',monospace\"><span style=\"color: #800000; text-decoration-color: #800000; font-weight: bold\">loss = tensor(</span><span style=\"color: #800000; text-decoration-color: #800000; font-weight: bold\">0.4903</span><span style=\"color: #800000; text-decoration-color: #800000; font-weight: bold\">, </span><span style=\"color: #800000; text-decoration-color: #800000; font-weight: bold\">device</span><span style=\"color: #800000; text-decoration-color: #800000; font-weight: bold\">=</span><span style=\"color: #800000; text-decoration-color: #800000; font-weight: bold\">'cuda:0'</span><span style=\"color: #800000; text-decoration-color: #800000; font-weight: bold\">) computed_loss = tensor(</span><span style=\"color: #800000; text-decoration-color: #800000; font-weight: bold\">0.5141</span><span style=\"color: #800000; text-decoration-color: #800000; font-weight: bold\">, </span><span style=\"color: #800000; text-decoration-color: #800000; font-weight: bold\">device</span><span style=\"color: #800000; text-decoration-color: #800000; font-weight: bold\">=</span><span style=\"color: #800000; text-decoration-color: #800000; font-weight: bold\">'cuda:0'</span><span style=\"color: #800000; text-decoration-color: #800000; font-weight: bold\">, </span>\n",
       "<span style=\"color: #800000; text-decoration-color: #800000; font-weight: bold\">grad_fn</span><span style=\"color: #800000; text-decoration-color: #800000; font-weight: bold\">=&lt;NllLossBackward0&gt;)</span>\n",
       "</pre>\n"
      ],
      "text/plain": [
       "\u001b[1;31mloss = \u001b[0m\u001b[1;31mtensor\u001b[0m\u001b[1;31m(\u001b[0m\u001b[1;31m0.4903\u001b[0m\u001b[1;31m, \u001b[0m\u001b[1;31mdevice\u001b[0m\u001b[1;31m=\u001b[0m\u001b[1;31m'cuda:0'\u001b[0m\u001b[1;31m)\u001b[0m\u001b[1;31m computed_loss = \u001b[0m\u001b[1;31mtensor\u001b[0m\u001b[1;31m(\u001b[0m\u001b[1;31m0.5141\u001b[0m\u001b[1;31m, \u001b[0m\u001b[1;31mdevice\u001b[0m\u001b[1;31m=\u001b[0m\u001b[1;31m'cuda:0'\u001b[0m\u001b[1;31m, \u001b[0m\n",
       "\u001b[1;31mgrad_fn\u001b[0m\u001b[1;31m=\u001b[0m\u001b[1;31m<\u001b[0m\u001b[1;31mNllLossBackward0\u001b[0m\u001b[1;31m>\u001b[0m\u001b[1;31m)\u001b[0m\n"
      ]
     },
     "metadata": {},
     "output_type": "display_data"
    },
    {
     "data": {
      "text/html": [
       "<pre style=\"white-space:pre;overflow-x:auto;line-height:normal;font-family:Menlo,'DejaVu Sans Mono',consolas,'Courier New',monospace\"><span style=\"color: #800000; text-decoration-color: #800000; font-weight: bold\">loss = tensor(</span><span style=\"color: #800000; text-decoration-color: #800000; font-weight: bold\">0.0116</span><span style=\"color: #800000; text-decoration-color: #800000; font-weight: bold\">, </span><span style=\"color: #800000; text-decoration-color: #800000; font-weight: bold\">device</span><span style=\"color: #800000; text-decoration-color: #800000; font-weight: bold\">=</span><span style=\"color: #800000; text-decoration-color: #800000; font-weight: bold\">'cuda:0'</span><span style=\"color: #800000; text-decoration-color: #800000; font-weight: bold\">) computed_loss = tensor(</span><span style=\"color: #800000; text-decoration-color: #800000; font-weight: bold\">0.0118</span><span style=\"color: #800000; text-decoration-color: #800000; font-weight: bold\">, </span><span style=\"color: #800000; text-decoration-color: #800000; font-weight: bold\">device</span><span style=\"color: #800000; text-decoration-color: #800000; font-weight: bold\">=</span><span style=\"color: #800000; text-decoration-color: #800000; font-weight: bold\">'cuda:0'</span><span style=\"color: #800000; text-decoration-color: #800000; font-weight: bold\">, </span>\n",
       "<span style=\"color: #800000; text-decoration-color: #800000; font-weight: bold\">grad_fn</span><span style=\"color: #800000; text-decoration-color: #800000; font-weight: bold\">=&lt;NllLossBackward0&gt;)</span>\n",
       "</pre>\n"
      ],
      "text/plain": [
       "\u001b[1;31mloss = \u001b[0m\u001b[1;31mtensor\u001b[0m\u001b[1;31m(\u001b[0m\u001b[1;31m0.0116\u001b[0m\u001b[1;31m, \u001b[0m\u001b[1;31mdevice\u001b[0m\u001b[1;31m=\u001b[0m\u001b[1;31m'cuda:0'\u001b[0m\u001b[1;31m)\u001b[0m\u001b[1;31m computed_loss = \u001b[0m\u001b[1;31mtensor\u001b[0m\u001b[1;31m(\u001b[0m\u001b[1;31m0.0118\u001b[0m\u001b[1;31m, \u001b[0m\u001b[1;31mdevice\u001b[0m\u001b[1;31m=\u001b[0m\u001b[1;31m'cuda:0'\u001b[0m\u001b[1;31m, \u001b[0m\n",
       "\u001b[1;31mgrad_fn\u001b[0m\u001b[1;31m=\u001b[0m\u001b[1;31m<\u001b[0m\u001b[1;31mNllLossBackward0\u001b[0m\u001b[1;31m>\u001b[0m\u001b[1;31m)\u001b[0m\n"
      ]
     },
     "metadata": {},
     "output_type": "display_data"
    },
    {
     "data": {
      "text/html": [
       "<pre style=\"white-space:pre;overflow-x:auto;line-height:normal;font-family:Menlo,'DejaVu Sans Mono',consolas,'Courier New',monospace\"><span style=\"color: #800000; text-decoration-color: #800000; font-weight: bold\">loss = tensor(</span><span style=\"color: #800000; text-decoration-color: #800000; font-weight: bold\">0.1882</span><span style=\"color: #800000; text-decoration-color: #800000; font-weight: bold\">, </span><span style=\"color: #800000; text-decoration-color: #800000; font-weight: bold\">device</span><span style=\"color: #800000; text-decoration-color: #800000; font-weight: bold\">=</span><span style=\"color: #800000; text-decoration-color: #800000; font-weight: bold\">'cuda:0'</span><span style=\"color: #800000; text-decoration-color: #800000; font-weight: bold\">) computed_loss = tensor(</span><span style=\"color: #800000; text-decoration-color: #800000; font-weight: bold\">0.1707</span><span style=\"color: #800000; text-decoration-color: #800000; font-weight: bold\">, </span><span style=\"color: #800000; text-decoration-color: #800000; font-weight: bold\">device</span><span style=\"color: #800000; text-decoration-color: #800000; font-weight: bold\">=</span><span style=\"color: #800000; text-decoration-color: #800000; font-weight: bold\">'cuda:0'</span><span style=\"color: #800000; text-decoration-color: #800000; font-weight: bold\">, </span>\n",
       "<span style=\"color: #800000; text-decoration-color: #800000; font-weight: bold\">grad_fn</span><span style=\"color: #800000; text-decoration-color: #800000; font-weight: bold\">=&lt;NllLossBackward0&gt;)</span>\n",
       "</pre>\n"
      ],
      "text/plain": [
       "\u001b[1;31mloss = \u001b[0m\u001b[1;31mtensor\u001b[0m\u001b[1;31m(\u001b[0m\u001b[1;31m0.1882\u001b[0m\u001b[1;31m, \u001b[0m\u001b[1;31mdevice\u001b[0m\u001b[1;31m=\u001b[0m\u001b[1;31m'cuda:0'\u001b[0m\u001b[1;31m)\u001b[0m\u001b[1;31m computed_loss = \u001b[0m\u001b[1;31mtensor\u001b[0m\u001b[1;31m(\u001b[0m\u001b[1;31m0.1707\u001b[0m\u001b[1;31m, \u001b[0m\u001b[1;31mdevice\u001b[0m\u001b[1;31m=\u001b[0m\u001b[1;31m'cuda:0'\u001b[0m\u001b[1;31m, \u001b[0m\n",
       "\u001b[1;31mgrad_fn\u001b[0m\u001b[1;31m=\u001b[0m\u001b[1;31m<\u001b[0m\u001b[1;31mNllLossBackward0\u001b[0m\u001b[1;31m>\u001b[0m\u001b[1;31m)\u001b[0m\n"
      ]
     },
     "metadata": {},
     "output_type": "display_data"
    },
    {
     "data": {
      "text/html": [
       "<pre style=\"white-space:pre;overflow-x:auto;line-height:normal;font-family:Menlo,'DejaVu Sans Mono',consolas,'Courier New',monospace\"><span style=\"color: #800000; text-decoration-color: #800000; font-weight: bold\">loss = tensor(</span><span style=\"color: #800000; text-decoration-color: #800000; font-weight: bold\">0.0159</span><span style=\"color: #800000; text-decoration-color: #800000; font-weight: bold\">, </span><span style=\"color: #800000; text-decoration-color: #800000; font-weight: bold\">device</span><span style=\"color: #800000; text-decoration-color: #800000; font-weight: bold\">=</span><span style=\"color: #800000; text-decoration-color: #800000; font-weight: bold\">'cuda:0'</span><span style=\"color: #800000; text-decoration-color: #800000; font-weight: bold\">) computed_loss = tensor(</span><span style=\"color: #800000; text-decoration-color: #800000; font-weight: bold\">0.0157</span><span style=\"color: #800000; text-decoration-color: #800000; font-weight: bold\">, </span><span style=\"color: #800000; text-decoration-color: #800000; font-weight: bold\">device</span><span style=\"color: #800000; text-decoration-color: #800000; font-weight: bold\">=</span><span style=\"color: #800000; text-decoration-color: #800000; font-weight: bold\">'cuda:0'</span><span style=\"color: #800000; text-decoration-color: #800000; font-weight: bold\">, </span>\n",
       "<span style=\"color: #800000; text-decoration-color: #800000; font-weight: bold\">grad_fn</span><span style=\"color: #800000; text-decoration-color: #800000; font-weight: bold\">=&lt;NllLossBackward0&gt;)</span>\n",
       "</pre>\n"
      ],
      "text/plain": [
       "\u001b[1;31mloss = \u001b[0m\u001b[1;31mtensor\u001b[0m\u001b[1;31m(\u001b[0m\u001b[1;31m0.0159\u001b[0m\u001b[1;31m, \u001b[0m\u001b[1;31mdevice\u001b[0m\u001b[1;31m=\u001b[0m\u001b[1;31m'cuda:0'\u001b[0m\u001b[1;31m)\u001b[0m\u001b[1;31m computed_loss = \u001b[0m\u001b[1;31mtensor\u001b[0m\u001b[1;31m(\u001b[0m\u001b[1;31m0.0157\u001b[0m\u001b[1;31m, \u001b[0m\u001b[1;31mdevice\u001b[0m\u001b[1;31m=\u001b[0m\u001b[1;31m'cuda:0'\u001b[0m\u001b[1;31m, \u001b[0m\n",
       "\u001b[1;31mgrad_fn\u001b[0m\u001b[1;31m=\u001b[0m\u001b[1;31m<\u001b[0m\u001b[1;31mNllLossBackward0\u001b[0m\u001b[1;31m>\u001b[0m\u001b[1;31m)\u001b[0m\n"
      ]
     },
     "metadata": {},
     "output_type": "display_data"
    },
    {
     "data": {
      "text/html": [
       "<pre style=\"white-space:pre;overflow-x:auto;line-height:normal;font-family:Menlo,'DejaVu Sans Mono',consolas,'Courier New',monospace\"><span style=\"color: #800000; text-decoration-color: #800000; font-weight: bold\">loss = tensor(</span><span style=\"color: #800000; text-decoration-color: #800000; font-weight: bold\">0.2249</span><span style=\"color: #800000; text-decoration-color: #800000; font-weight: bold\">, </span><span style=\"color: #800000; text-decoration-color: #800000; font-weight: bold\">device</span><span style=\"color: #800000; text-decoration-color: #800000; font-weight: bold\">=</span><span style=\"color: #800000; text-decoration-color: #800000; font-weight: bold\">'cuda:0'</span><span style=\"color: #800000; text-decoration-color: #800000; font-weight: bold\">) computed_loss = tensor(</span><span style=\"color: #800000; text-decoration-color: #800000; font-weight: bold\">0.2353</span><span style=\"color: #800000; text-decoration-color: #800000; font-weight: bold\">, </span><span style=\"color: #800000; text-decoration-color: #800000; font-weight: bold\">device</span><span style=\"color: #800000; text-decoration-color: #800000; font-weight: bold\">=</span><span style=\"color: #800000; text-decoration-color: #800000; font-weight: bold\">'cuda:0'</span><span style=\"color: #800000; text-decoration-color: #800000; font-weight: bold\">, </span>\n",
       "<span style=\"color: #800000; text-decoration-color: #800000; font-weight: bold\">grad_fn</span><span style=\"color: #800000; text-decoration-color: #800000; font-weight: bold\">=&lt;NllLossBackward0&gt;)</span>\n",
       "</pre>\n"
      ],
      "text/plain": [
       "\u001b[1;31mloss = \u001b[0m\u001b[1;31mtensor\u001b[0m\u001b[1;31m(\u001b[0m\u001b[1;31m0.2249\u001b[0m\u001b[1;31m, \u001b[0m\u001b[1;31mdevice\u001b[0m\u001b[1;31m=\u001b[0m\u001b[1;31m'cuda:0'\u001b[0m\u001b[1;31m)\u001b[0m\u001b[1;31m computed_loss = \u001b[0m\u001b[1;31mtensor\u001b[0m\u001b[1;31m(\u001b[0m\u001b[1;31m0.2353\u001b[0m\u001b[1;31m, \u001b[0m\u001b[1;31mdevice\u001b[0m\u001b[1;31m=\u001b[0m\u001b[1;31m'cuda:0'\u001b[0m\u001b[1;31m, \u001b[0m\n",
       "\u001b[1;31mgrad_fn\u001b[0m\u001b[1;31m=\u001b[0m\u001b[1;31m<\u001b[0m\u001b[1;31mNllLossBackward0\u001b[0m\u001b[1;31m>\u001b[0m\u001b[1;31m)\u001b[0m\n"
      ]
     },
     "metadata": {},
     "output_type": "display_data"
    },
    {
     "data": {
      "text/html": [
       "<pre style=\"white-space:pre;overflow-x:auto;line-height:normal;font-family:Menlo,'DejaVu Sans Mono',consolas,'Courier New',monospace\"><span style=\"color: #800000; text-decoration-color: #800000; font-weight: bold\">loss = tensor(</span><span style=\"color: #800000; text-decoration-color: #800000; font-weight: bold\">0.1694</span><span style=\"color: #800000; text-decoration-color: #800000; font-weight: bold\">, </span><span style=\"color: #800000; text-decoration-color: #800000; font-weight: bold\">device</span><span style=\"color: #800000; text-decoration-color: #800000; font-weight: bold\">=</span><span style=\"color: #800000; text-decoration-color: #800000; font-weight: bold\">'cuda:0'</span><span style=\"color: #800000; text-decoration-color: #800000; font-weight: bold\">) computed_loss = tensor(</span><span style=\"color: #800000; text-decoration-color: #800000; font-weight: bold\">0.1770</span><span style=\"color: #800000; text-decoration-color: #800000; font-weight: bold\">, </span><span style=\"color: #800000; text-decoration-color: #800000; font-weight: bold\">device</span><span style=\"color: #800000; text-decoration-color: #800000; font-weight: bold\">=</span><span style=\"color: #800000; text-decoration-color: #800000; font-weight: bold\">'cuda:0'</span><span style=\"color: #800000; text-decoration-color: #800000; font-weight: bold\">, </span>\n",
       "<span style=\"color: #800000; text-decoration-color: #800000; font-weight: bold\">grad_fn</span><span style=\"color: #800000; text-decoration-color: #800000; font-weight: bold\">=&lt;NllLossBackward0&gt;)</span>\n",
       "</pre>\n"
      ],
      "text/plain": [
       "\u001b[1;31mloss = \u001b[0m\u001b[1;31mtensor\u001b[0m\u001b[1;31m(\u001b[0m\u001b[1;31m0.1694\u001b[0m\u001b[1;31m, \u001b[0m\u001b[1;31mdevice\u001b[0m\u001b[1;31m=\u001b[0m\u001b[1;31m'cuda:0'\u001b[0m\u001b[1;31m)\u001b[0m\u001b[1;31m computed_loss = \u001b[0m\u001b[1;31mtensor\u001b[0m\u001b[1;31m(\u001b[0m\u001b[1;31m0.1770\u001b[0m\u001b[1;31m, \u001b[0m\u001b[1;31mdevice\u001b[0m\u001b[1;31m=\u001b[0m\u001b[1;31m'cuda:0'\u001b[0m\u001b[1;31m, \u001b[0m\n",
       "\u001b[1;31mgrad_fn\u001b[0m\u001b[1;31m=\u001b[0m\u001b[1;31m<\u001b[0m\u001b[1;31mNllLossBackward0\u001b[0m\u001b[1;31m>\u001b[0m\u001b[1;31m)\u001b[0m\n"
      ]
     },
     "metadata": {},
     "output_type": "display_data"
    },
    {
     "data": {
      "text/html": [
       "<pre style=\"white-space:pre;overflow-x:auto;line-height:normal;font-family:Menlo,'DejaVu Sans Mono',consolas,'Courier New',monospace\"><span style=\"color: #800000; text-decoration-color: #800000; font-weight: bold\">loss = tensor(</span><span style=\"color: #800000; text-decoration-color: #800000; font-weight: bold\">0.0284</span><span style=\"color: #800000; text-decoration-color: #800000; font-weight: bold\">, </span><span style=\"color: #800000; text-decoration-color: #800000; font-weight: bold\">device</span><span style=\"color: #800000; text-decoration-color: #800000; font-weight: bold\">=</span><span style=\"color: #800000; text-decoration-color: #800000; font-weight: bold\">'cuda:0'</span><span style=\"color: #800000; text-decoration-color: #800000; font-weight: bold\">) computed_loss = tensor(</span><span style=\"color: #800000; text-decoration-color: #800000; font-weight: bold\">0.0294</span><span style=\"color: #800000; text-decoration-color: #800000; font-weight: bold\">, </span><span style=\"color: #800000; text-decoration-color: #800000; font-weight: bold\">device</span><span style=\"color: #800000; text-decoration-color: #800000; font-weight: bold\">=</span><span style=\"color: #800000; text-decoration-color: #800000; font-weight: bold\">'cuda:0'</span><span style=\"color: #800000; text-decoration-color: #800000; font-weight: bold\">, </span>\n",
       "<span style=\"color: #800000; text-decoration-color: #800000; font-weight: bold\">grad_fn</span><span style=\"color: #800000; text-decoration-color: #800000; font-weight: bold\">=&lt;NllLossBackward0&gt;)</span>\n",
       "</pre>\n"
      ],
      "text/plain": [
       "\u001b[1;31mloss = \u001b[0m\u001b[1;31mtensor\u001b[0m\u001b[1;31m(\u001b[0m\u001b[1;31m0.0284\u001b[0m\u001b[1;31m, \u001b[0m\u001b[1;31mdevice\u001b[0m\u001b[1;31m=\u001b[0m\u001b[1;31m'cuda:0'\u001b[0m\u001b[1;31m)\u001b[0m\u001b[1;31m computed_loss = \u001b[0m\u001b[1;31mtensor\u001b[0m\u001b[1;31m(\u001b[0m\u001b[1;31m0.0294\u001b[0m\u001b[1;31m, \u001b[0m\u001b[1;31mdevice\u001b[0m\u001b[1;31m=\u001b[0m\u001b[1;31m'cuda:0'\u001b[0m\u001b[1;31m, \u001b[0m\n",
       "\u001b[1;31mgrad_fn\u001b[0m\u001b[1;31m=\u001b[0m\u001b[1;31m<\u001b[0m\u001b[1;31mNllLossBackward0\u001b[0m\u001b[1;31m>\u001b[0m\u001b[1;31m)\u001b[0m\n"
      ]
     },
     "metadata": {},
     "output_type": "display_data"
    },
    {
     "data": {
      "text/html": [
       "<pre style=\"white-space:pre;overflow-x:auto;line-height:normal;font-family:Menlo,'DejaVu Sans Mono',consolas,'Courier New',monospace\"><span style=\"color: #800000; text-decoration-color: #800000; font-weight: bold\">loss = tensor(</span><span style=\"color: #800000; text-decoration-color: #800000; font-weight: bold\">0.0185</span><span style=\"color: #800000; text-decoration-color: #800000; font-weight: bold\">, </span><span style=\"color: #800000; text-decoration-color: #800000; font-weight: bold\">device</span><span style=\"color: #800000; text-decoration-color: #800000; font-weight: bold\">=</span><span style=\"color: #800000; text-decoration-color: #800000; font-weight: bold\">'cuda:0'</span><span style=\"color: #800000; text-decoration-color: #800000; font-weight: bold\">) computed_loss = tensor(</span><span style=\"color: #800000; text-decoration-color: #800000; font-weight: bold\">0.0179</span><span style=\"color: #800000; text-decoration-color: #800000; font-weight: bold\">, </span><span style=\"color: #800000; text-decoration-color: #800000; font-weight: bold\">device</span><span style=\"color: #800000; text-decoration-color: #800000; font-weight: bold\">=</span><span style=\"color: #800000; text-decoration-color: #800000; font-weight: bold\">'cuda:0'</span><span style=\"color: #800000; text-decoration-color: #800000; font-weight: bold\">, </span>\n",
       "<span style=\"color: #800000; text-decoration-color: #800000; font-weight: bold\">grad_fn</span><span style=\"color: #800000; text-decoration-color: #800000; font-weight: bold\">=&lt;NllLossBackward0&gt;)</span>\n",
       "</pre>\n"
      ],
      "text/plain": [
       "\u001b[1;31mloss = \u001b[0m\u001b[1;31mtensor\u001b[0m\u001b[1;31m(\u001b[0m\u001b[1;31m0.0185\u001b[0m\u001b[1;31m, \u001b[0m\u001b[1;31mdevice\u001b[0m\u001b[1;31m=\u001b[0m\u001b[1;31m'cuda:0'\u001b[0m\u001b[1;31m)\u001b[0m\u001b[1;31m computed_loss = \u001b[0m\u001b[1;31mtensor\u001b[0m\u001b[1;31m(\u001b[0m\u001b[1;31m0.0179\u001b[0m\u001b[1;31m, \u001b[0m\u001b[1;31mdevice\u001b[0m\u001b[1;31m=\u001b[0m\u001b[1;31m'cuda:0'\u001b[0m\u001b[1;31m, \u001b[0m\n",
       "\u001b[1;31mgrad_fn\u001b[0m\u001b[1;31m=\u001b[0m\u001b[1;31m<\u001b[0m\u001b[1;31mNllLossBackward0\u001b[0m\u001b[1;31m>\u001b[0m\u001b[1;31m)\u001b[0m\n"
      ]
     },
     "metadata": {},
     "output_type": "display_data"
    },
    {
     "data": {
      "text/html": [
       "<pre style=\"white-space:pre;overflow-x:auto;line-height:normal;font-family:Menlo,'DejaVu Sans Mono',consolas,'Courier New',monospace\"><span style=\"color: #800000; text-decoration-color: #800000; font-weight: bold\">loss = tensor(</span><span style=\"color: #800000; text-decoration-color: #800000; font-weight: bold\">0.3670</span><span style=\"color: #800000; text-decoration-color: #800000; font-weight: bold\">, </span><span style=\"color: #800000; text-decoration-color: #800000; font-weight: bold\">device</span><span style=\"color: #800000; text-decoration-color: #800000; font-weight: bold\">=</span><span style=\"color: #800000; text-decoration-color: #800000; font-weight: bold\">'cuda:0'</span><span style=\"color: #800000; text-decoration-color: #800000; font-weight: bold\">) computed_loss = tensor(</span><span style=\"color: #800000; text-decoration-color: #800000; font-weight: bold\">0.3847</span><span style=\"color: #800000; text-decoration-color: #800000; font-weight: bold\">, </span><span style=\"color: #800000; text-decoration-color: #800000; font-weight: bold\">device</span><span style=\"color: #800000; text-decoration-color: #800000; font-weight: bold\">=</span><span style=\"color: #800000; text-decoration-color: #800000; font-weight: bold\">'cuda:0'</span><span style=\"color: #800000; text-decoration-color: #800000; font-weight: bold\">, </span>\n",
       "<span style=\"color: #800000; text-decoration-color: #800000; font-weight: bold\">grad_fn</span><span style=\"color: #800000; text-decoration-color: #800000; font-weight: bold\">=&lt;NllLossBackward0&gt;)</span>\n",
       "</pre>\n"
      ],
      "text/plain": [
       "\u001b[1;31mloss = \u001b[0m\u001b[1;31mtensor\u001b[0m\u001b[1;31m(\u001b[0m\u001b[1;31m0.3670\u001b[0m\u001b[1;31m, \u001b[0m\u001b[1;31mdevice\u001b[0m\u001b[1;31m=\u001b[0m\u001b[1;31m'cuda:0'\u001b[0m\u001b[1;31m)\u001b[0m\u001b[1;31m computed_loss = \u001b[0m\u001b[1;31mtensor\u001b[0m\u001b[1;31m(\u001b[0m\u001b[1;31m0.3847\u001b[0m\u001b[1;31m, \u001b[0m\u001b[1;31mdevice\u001b[0m\u001b[1;31m=\u001b[0m\u001b[1;31m'cuda:0'\u001b[0m\u001b[1;31m, \u001b[0m\n",
       "\u001b[1;31mgrad_fn\u001b[0m\u001b[1;31m=\u001b[0m\u001b[1;31m<\u001b[0m\u001b[1;31mNllLossBackward0\u001b[0m\u001b[1;31m>\u001b[0m\u001b[1;31m)\u001b[0m\n"
      ]
     },
     "metadata": {},
     "output_type": "display_data"
    },
    {
     "data": {
      "text/html": [
       "<pre style=\"white-space:pre;overflow-x:auto;line-height:normal;font-family:Menlo,'DejaVu Sans Mono',consolas,'Courier New',monospace\"><span style=\"color: #800000; text-decoration-color: #800000; font-weight: bold\">loss = tensor(</span><span style=\"color: #800000; text-decoration-color: #800000; font-weight: bold\">0.0257</span><span style=\"color: #800000; text-decoration-color: #800000; font-weight: bold\">, </span><span style=\"color: #800000; text-decoration-color: #800000; font-weight: bold\">device</span><span style=\"color: #800000; text-decoration-color: #800000; font-weight: bold\">=</span><span style=\"color: #800000; text-decoration-color: #800000; font-weight: bold\">'cuda:0'</span><span style=\"color: #800000; text-decoration-color: #800000; font-weight: bold\">) computed_loss = tensor(</span><span style=\"color: #800000; text-decoration-color: #800000; font-weight: bold\">0.0248</span><span style=\"color: #800000; text-decoration-color: #800000; font-weight: bold\">, </span><span style=\"color: #800000; text-decoration-color: #800000; font-weight: bold\">device</span><span style=\"color: #800000; text-decoration-color: #800000; font-weight: bold\">=</span><span style=\"color: #800000; text-decoration-color: #800000; font-weight: bold\">'cuda:0'</span><span style=\"color: #800000; text-decoration-color: #800000; font-weight: bold\">, </span>\n",
       "<span style=\"color: #800000; text-decoration-color: #800000; font-weight: bold\">grad_fn</span><span style=\"color: #800000; text-decoration-color: #800000; font-weight: bold\">=&lt;NllLossBackward0&gt;)</span>\n",
       "</pre>\n"
      ],
      "text/plain": [
       "\u001b[1;31mloss = \u001b[0m\u001b[1;31mtensor\u001b[0m\u001b[1;31m(\u001b[0m\u001b[1;31m0.0257\u001b[0m\u001b[1;31m, \u001b[0m\u001b[1;31mdevice\u001b[0m\u001b[1;31m=\u001b[0m\u001b[1;31m'cuda:0'\u001b[0m\u001b[1;31m)\u001b[0m\u001b[1;31m computed_loss = \u001b[0m\u001b[1;31mtensor\u001b[0m\u001b[1;31m(\u001b[0m\u001b[1;31m0.0248\u001b[0m\u001b[1;31m, \u001b[0m\u001b[1;31mdevice\u001b[0m\u001b[1;31m=\u001b[0m\u001b[1;31m'cuda:0'\u001b[0m\u001b[1;31m, \u001b[0m\n",
       "\u001b[1;31mgrad_fn\u001b[0m\u001b[1;31m=\u001b[0m\u001b[1;31m<\u001b[0m\u001b[1;31mNllLossBackward0\u001b[0m\u001b[1;31m>\u001b[0m\u001b[1;31m)\u001b[0m\n"
      ]
     },
     "metadata": {},
     "output_type": "display_data"
    },
    {
     "data": {
      "text/html": [
       "<pre style=\"white-space:pre;overflow-x:auto;line-height:normal;font-family:Menlo,'DejaVu Sans Mono',consolas,'Courier New',monospace\"><span style=\"color: #800000; text-decoration-color: #800000; font-weight: bold\">loss = tensor(</span><span style=\"color: #800000; text-decoration-color: #800000; font-weight: bold\">0.0189</span><span style=\"color: #800000; text-decoration-color: #800000; font-weight: bold\">, </span><span style=\"color: #800000; text-decoration-color: #800000; font-weight: bold\">device</span><span style=\"color: #800000; text-decoration-color: #800000; font-weight: bold\">=</span><span style=\"color: #800000; text-decoration-color: #800000; font-weight: bold\">'cuda:0'</span><span style=\"color: #800000; text-decoration-color: #800000; font-weight: bold\">) computed_loss = tensor(</span><span style=\"color: #800000; text-decoration-color: #800000; font-weight: bold\">0.0194</span><span style=\"color: #800000; text-decoration-color: #800000; font-weight: bold\">, </span><span style=\"color: #800000; text-decoration-color: #800000; font-weight: bold\">device</span><span style=\"color: #800000; text-decoration-color: #800000; font-weight: bold\">=</span><span style=\"color: #800000; text-decoration-color: #800000; font-weight: bold\">'cuda:0'</span><span style=\"color: #800000; text-decoration-color: #800000; font-weight: bold\">, </span>\n",
       "<span style=\"color: #800000; text-decoration-color: #800000; font-weight: bold\">grad_fn</span><span style=\"color: #800000; text-decoration-color: #800000; font-weight: bold\">=&lt;NllLossBackward0&gt;)</span>\n",
       "</pre>\n"
      ],
      "text/plain": [
       "\u001b[1;31mloss = \u001b[0m\u001b[1;31mtensor\u001b[0m\u001b[1;31m(\u001b[0m\u001b[1;31m0.0189\u001b[0m\u001b[1;31m, \u001b[0m\u001b[1;31mdevice\u001b[0m\u001b[1;31m=\u001b[0m\u001b[1;31m'cuda:0'\u001b[0m\u001b[1;31m)\u001b[0m\u001b[1;31m computed_loss = \u001b[0m\u001b[1;31mtensor\u001b[0m\u001b[1;31m(\u001b[0m\u001b[1;31m0.0194\u001b[0m\u001b[1;31m, \u001b[0m\u001b[1;31mdevice\u001b[0m\u001b[1;31m=\u001b[0m\u001b[1;31m'cuda:0'\u001b[0m\u001b[1;31m, \u001b[0m\n",
       "\u001b[1;31mgrad_fn\u001b[0m\u001b[1;31m=\u001b[0m\u001b[1;31m<\u001b[0m\u001b[1;31mNllLossBackward0\u001b[0m\u001b[1;31m>\u001b[0m\u001b[1;31m)\u001b[0m\n"
      ]
     },
     "metadata": {},
     "output_type": "display_data"
    },
    {
     "data": {
      "text/html": [
       "<pre style=\"white-space:pre;overflow-x:auto;line-height:normal;font-family:Menlo,'DejaVu Sans Mono',consolas,'Courier New',monospace\"><span style=\"color: #800000; text-decoration-color: #800000; font-weight: bold\">loss = tensor(</span><span style=\"color: #800000; text-decoration-color: #800000; font-weight: bold\">0.0120</span><span style=\"color: #800000; text-decoration-color: #800000; font-weight: bold\">, </span><span style=\"color: #800000; text-decoration-color: #800000; font-weight: bold\">device</span><span style=\"color: #800000; text-decoration-color: #800000; font-weight: bold\">=</span><span style=\"color: #800000; text-decoration-color: #800000; font-weight: bold\">'cuda:0'</span><span style=\"color: #800000; text-decoration-color: #800000; font-weight: bold\">) computed_loss = tensor(</span><span style=\"color: #800000; text-decoration-color: #800000; font-weight: bold\">0.0120</span><span style=\"color: #800000; text-decoration-color: #800000; font-weight: bold\">, </span><span style=\"color: #800000; text-decoration-color: #800000; font-weight: bold\">device</span><span style=\"color: #800000; text-decoration-color: #800000; font-weight: bold\">=</span><span style=\"color: #800000; text-decoration-color: #800000; font-weight: bold\">'cuda:0'</span><span style=\"color: #800000; text-decoration-color: #800000; font-weight: bold\">, </span>\n",
       "<span style=\"color: #800000; text-decoration-color: #800000; font-weight: bold\">grad_fn</span><span style=\"color: #800000; text-decoration-color: #800000; font-weight: bold\">=&lt;NllLossBackward0&gt;)</span>\n",
       "</pre>\n"
      ],
      "text/plain": [
       "\u001b[1;31mloss = \u001b[0m\u001b[1;31mtensor\u001b[0m\u001b[1;31m(\u001b[0m\u001b[1;31m0.0120\u001b[0m\u001b[1;31m, \u001b[0m\u001b[1;31mdevice\u001b[0m\u001b[1;31m=\u001b[0m\u001b[1;31m'cuda:0'\u001b[0m\u001b[1;31m)\u001b[0m\u001b[1;31m computed_loss = \u001b[0m\u001b[1;31mtensor\u001b[0m\u001b[1;31m(\u001b[0m\u001b[1;31m0.0120\u001b[0m\u001b[1;31m, \u001b[0m\u001b[1;31mdevice\u001b[0m\u001b[1;31m=\u001b[0m\u001b[1;31m'cuda:0'\u001b[0m\u001b[1;31m, \u001b[0m\n",
       "\u001b[1;31mgrad_fn\u001b[0m\u001b[1;31m=\u001b[0m\u001b[1;31m<\u001b[0m\u001b[1;31mNllLossBackward0\u001b[0m\u001b[1;31m>\u001b[0m\u001b[1;31m)\u001b[0m\n"
      ]
     },
     "metadata": {},
     "output_type": "display_data"
    },
    {
     "data": {
      "text/html": [
       "<pre style=\"white-space:pre;overflow-x:auto;line-height:normal;font-family:Menlo,'DejaVu Sans Mono',consolas,'Courier New',monospace\"><span style=\"color: #800000; text-decoration-color: #800000; font-weight: bold\">loss = tensor(</span><span style=\"color: #800000; text-decoration-color: #800000; font-weight: bold\">0.2450</span><span style=\"color: #800000; text-decoration-color: #800000; font-weight: bold\">, </span><span style=\"color: #800000; text-decoration-color: #800000; font-weight: bold\">device</span><span style=\"color: #800000; text-decoration-color: #800000; font-weight: bold\">=</span><span style=\"color: #800000; text-decoration-color: #800000; font-weight: bold\">'cuda:0'</span><span style=\"color: #800000; text-decoration-color: #800000; font-weight: bold\">) computed_loss = tensor(</span><span style=\"color: #800000; text-decoration-color: #800000; font-weight: bold\">0.2293</span><span style=\"color: #800000; text-decoration-color: #800000; font-weight: bold\">, </span><span style=\"color: #800000; text-decoration-color: #800000; font-weight: bold\">device</span><span style=\"color: #800000; text-decoration-color: #800000; font-weight: bold\">=</span><span style=\"color: #800000; text-decoration-color: #800000; font-weight: bold\">'cuda:0'</span><span style=\"color: #800000; text-decoration-color: #800000; font-weight: bold\">, </span>\n",
       "<span style=\"color: #800000; text-decoration-color: #800000; font-weight: bold\">grad_fn</span><span style=\"color: #800000; text-decoration-color: #800000; font-weight: bold\">=&lt;NllLossBackward0&gt;)</span>\n",
       "</pre>\n"
      ],
      "text/plain": [
       "\u001b[1;31mloss = \u001b[0m\u001b[1;31mtensor\u001b[0m\u001b[1;31m(\u001b[0m\u001b[1;31m0.2450\u001b[0m\u001b[1;31m, \u001b[0m\u001b[1;31mdevice\u001b[0m\u001b[1;31m=\u001b[0m\u001b[1;31m'cuda:0'\u001b[0m\u001b[1;31m)\u001b[0m\u001b[1;31m computed_loss = \u001b[0m\u001b[1;31mtensor\u001b[0m\u001b[1;31m(\u001b[0m\u001b[1;31m0.2293\u001b[0m\u001b[1;31m, \u001b[0m\u001b[1;31mdevice\u001b[0m\u001b[1;31m=\u001b[0m\u001b[1;31m'cuda:0'\u001b[0m\u001b[1;31m, \u001b[0m\n",
       "\u001b[1;31mgrad_fn\u001b[0m\u001b[1;31m=\u001b[0m\u001b[1;31m<\u001b[0m\u001b[1;31mNllLossBackward0\u001b[0m\u001b[1;31m>\u001b[0m\u001b[1;31m)\u001b[0m\n"
      ]
     },
     "metadata": {},
     "output_type": "display_data"
    },
    {
     "data": {
      "text/html": [
       "<pre style=\"white-space:pre;overflow-x:auto;line-height:normal;font-family:Menlo,'DejaVu Sans Mono',consolas,'Courier New',monospace\"><span style=\"color: #800000; text-decoration-color: #800000; font-weight: bold\">loss = tensor(</span><span style=\"color: #800000; text-decoration-color: #800000; font-weight: bold\">0.1832</span><span style=\"color: #800000; text-decoration-color: #800000; font-weight: bold\">, </span><span style=\"color: #800000; text-decoration-color: #800000; font-weight: bold\">device</span><span style=\"color: #800000; text-decoration-color: #800000; font-weight: bold\">=</span><span style=\"color: #800000; text-decoration-color: #800000; font-weight: bold\">'cuda:0'</span><span style=\"color: #800000; text-decoration-color: #800000; font-weight: bold\">) computed_loss = tensor(</span><span style=\"color: #800000; text-decoration-color: #800000; font-weight: bold\">0.1918</span><span style=\"color: #800000; text-decoration-color: #800000; font-weight: bold\">, </span><span style=\"color: #800000; text-decoration-color: #800000; font-weight: bold\">device</span><span style=\"color: #800000; text-decoration-color: #800000; font-weight: bold\">=</span><span style=\"color: #800000; text-decoration-color: #800000; font-weight: bold\">'cuda:0'</span><span style=\"color: #800000; text-decoration-color: #800000; font-weight: bold\">, </span>\n",
       "<span style=\"color: #800000; text-decoration-color: #800000; font-weight: bold\">grad_fn</span><span style=\"color: #800000; text-decoration-color: #800000; font-weight: bold\">=&lt;NllLossBackward0&gt;)</span>\n",
       "</pre>\n"
      ],
      "text/plain": [
       "\u001b[1;31mloss = \u001b[0m\u001b[1;31mtensor\u001b[0m\u001b[1;31m(\u001b[0m\u001b[1;31m0.1832\u001b[0m\u001b[1;31m, \u001b[0m\u001b[1;31mdevice\u001b[0m\u001b[1;31m=\u001b[0m\u001b[1;31m'cuda:0'\u001b[0m\u001b[1;31m)\u001b[0m\u001b[1;31m computed_loss = \u001b[0m\u001b[1;31mtensor\u001b[0m\u001b[1;31m(\u001b[0m\u001b[1;31m0.1918\u001b[0m\u001b[1;31m, \u001b[0m\u001b[1;31mdevice\u001b[0m\u001b[1;31m=\u001b[0m\u001b[1;31m'cuda:0'\u001b[0m\u001b[1;31m, \u001b[0m\n",
       "\u001b[1;31mgrad_fn\u001b[0m\u001b[1;31m=\u001b[0m\u001b[1;31m<\u001b[0m\u001b[1;31mNllLossBackward0\u001b[0m\u001b[1;31m>\u001b[0m\u001b[1;31m)\u001b[0m\n"
      ]
     },
     "metadata": {},
     "output_type": "display_data"
    },
    {
     "data": {
      "text/html": [
       "<pre style=\"white-space:pre;overflow-x:auto;line-height:normal;font-family:Menlo,'DejaVu Sans Mono',consolas,'Courier New',monospace\"><span style=\"color: #800000; text-decoration-color: #800000; font-weight: bold\">loss = tensor(</span><span style=\"color: #800000; text-decoration-color: #800000; font-weight: bold\">0.0810</span><span style=\"color: #800000; text-decoration-color: #800000; font-weight: bold\">, </span><span style=\"color: #800000; text-decoration-color: #800000; font-weight: bold\">device</span><span style=\"color: #800000; text-decoration-color: #800000; font-weight: bold\">=</span><span style=\"color: #800000; text-decoration-color: #800000; font-weight: bold\">'cuda:0'</span><span style=\"color: #800000; text-decoration-color: #800000; font-weight: bold\">) computed_loss = tensor(</span><span style=\"color: #800000; text-decoration-color: #800000; font-weight: bold\">0.0842</span><span style=\"color: #800000; text-decoration-color: #800000; font-weight: bold\">, </span><span style=\"color: #800000; text-decoration-color: #800000; font-weight: bold\">device</span><span style=\"color: #800000; text-decoration-color: #800000; font-weight: bold\">=</span><span style=\"color: #800000; text-decoration-color: #800000; font-weight: bold\">'cuda:0'</span><span style=\"color: #800000; text-decoration-color: #800000; font-weight: bold\">, </span>\n",
       "<span style=\"color: #800000; text-decoration-color: #800000; font-weight: bold\">grad_fn</span><span style=\"color: #800000; text-decoration-color: #800000; font-weight: bold\">=&lt;NllLossBackward0&gt;)</span>\n",
       "</pre>\n"
      ],
      "text/plain": [
       "\u001b[1;31mloss = \u001b[0m\u001b[1;31mtensor\u001b[0m\u001b[1;31m(\u001b[0m\u001b[1;31m0.0810\u001b[0m\u001b[1;31m, \u001b[0m\u001b[1;31mdevice\u001b[0m\u001b[1;31m=\u001b[0m\u001b[1;31m'cuda:0'\u001b[0m\u001b[1;31m)\u001b[0m\u001b[1;31m computed_loss = \u001b[0m\u001b[1;31mtensor\u001b[0m\u001b[1;31m(\u001b[0m\u001b[1;31m0.0842\u001b[0m\u001b[1;31m, \u001b[0m\u001b[1;31mdevice\u001b[0m\u001b[1;31m=\u001b[0m\u001b[1;31m'cuda:0'\u001b[0m\u001b[1;31m, \u001b[0m\n",
       "\u001b[1;31mgrad_fn\u001b[0m\u001b[1;31m=\u001b[0m\u001b[1;31m<\u001b[0m\u001b[1;31mNllLossBackward0\u001b[0m\u001b[1;31m>\u001b[0m\u001b[1;31m)\u001b[0m\n"
      ]
     },
     "metadata": {},
     "output_type": "display_data"
    },
    {
     "data": {
      "text/html": [
       "<pre style=\"white-space:pre;overflow-x:auto;line-height:normal;font-family:Menlo,'DejaVu Sans Mono',consolas,'Courier New',monospace\"><span style=\"color: #800000; text-decoration-color: #800000; font-weight: bold\">loss = tensor(</span><span style=\"color: #800000; text-decoration-color: #800000; font-weight: bold\">0.2134</span><span style=\"color: #800000; text-decoration-color: #800000; font-weight: bold\">, </span><span style=\"color: #800000; text-decoration-color: #800000; font-weight: bold\">device</span><span style=\"color: #800000; text-decoration-color: #800000; font-weight: bold\">=</span><span style=\"color: #800000; text-decoration-color: #800000; font-weight: bold\">'cuda:0'</span><span style=\"color: #800000; text-decoration-color: #800000; font-weight: bold\">) computed_loss = tensor(</span><span style=\"color: #800000; text-decoration-color: #800000; font-weight: bold\">0.1937</span><span style=\"color: #800000; text-decoration-color: #800000; font-weight: bold\">, </span><span style=\"color: #800000; text-decoration-color: #800000; font-weight: bold\">device</span><span style=\"color: #800000; text-decoration-color: #800000; font-weight: bold\">=</span><span style=\"color: #800000; text-decoration-color: #800000; font-weight: bold\">'cuda:0'</span><span style=\"color: #800000; text-decoration-color: #800000; font-weight: bold\">, </span>\n",
       "<span style=\"color: #800000; text-decoration-color: #800000; font-weight: bold\">grad_fn</span><span style=\"color: #800000; text-decoration-color: #800000; font-weight: bold\">=&lt;NllLossBackward0&gt;)</span>\n",
       "</pre>\n"
      ],
      "text/plain": [
       "\u001b[1;31mloss = \u001b[0m\u001b[1;31mtensor\u001b[0m\u001b[1;31m(\u001b[0m\u001b[1;31m0.2134\u001b[0m\u001b[1;31m, \u001b[0m\u001b[1;31mdevice\u001b[0m\u001b[1;31m=\u001b[0m\u001b[1;31m'cuda:0'\u001b[0m\u001b[1;31m)\u001b[0m\u001b[1;31m computed_loss = \u001b[0m\u001b[1;31mtensor\u001b[0m\u001b[1;31m(\u001b[0m\u001b[1;31m0.1937\u001b[0m\u001b[1;31m, \u001b[0m\u001b[1;31mdevice\u001b[0m\u001b[1;31m=\u001b[0m\u001b[1;31m'cuda:0'\u001b[0m\u001b[1;31m, \u001b[0m\n",
       "\u001b[1;31mgrad_fn\u001b[0m\u001b[1;31m=\u001b[0m\u001b[1;31m<\u001b[0m\u001b[1;31mNllLossBackward0\u001b[0m\u001b[1;31m>\u001b[0m\u001b[1;31m)\u001b[0m\n"
      ]
     },
     "metadata": {},
     "output_type": "display_data"
    },
    {
     "data": {
      "text/html": [
       "<pre style=\"white-space:pre;overflow-x:auto;line-height:normal;font-family:Menlo,'DejaVu Sans Mono',consolas,'Courier New',monospace\"><span style=\"color: #800000; text-decoration-color: #800000; font-weight: bold\">loss = tensor(</span><span style=\"color: #800000; text-decoration-color: #800000; font-weight: bold\">0.2155</span><span style=\"color: #800000; text-decoration-color: #800000; font-weight: bold\">, </span><span style=\"color: #800000; text-decoration-color: #800000; font-weight: bold\">device</span><span style=\"color: #800000; text-decoration-color: #800000; font-weight: bold\">=</span><span style=\"color: #800000; text-decoration-color: #800000; font-weight: bold\">'cuda:0'</span><span style=\"color: #800000; text-decoration-color: #800000; font-weight: bold\">) computed_loss = tensor(</span><span style=\"color: #800000; text-decoration-color: #800000; font-weight: bold\">0.2257</span><span style=\"color: #800000; text-decoration-color: #800000; font-weight: bold\">, </span><span style=\"color: #800000; text-decoration-color: #800000; font-weight: bold\">device</span><span style=\"color: #800000; text-decoration-color: #800000; font-weight: bold\">=</span><span style=\"color: #800000; text-decoration-color: #800000; font-weight: bold\">'cuda:0'</span><span style=\"color: #800000; text-decoration-color: #800000; font-weight: bold\">, </span>\n",
       "<span style=\"color: #800000; text-decoration-color: #800000; font-weight: bold\">grad_fn</span><span style=\"color: #800000; text-decoration-color: #800000; font-weight: bold\">=&lt;NllLossBackward0&gt;)</span>\n",
       "</pre>\n"
      ],
      "text/plain": [
       "\u001b[1;31mloss = \u001b[0m\u001b[1;31mtensor\u001b[0m\u001b[1;31m(\u001b[0m\u001b[1;31m0.2155\u001b[0m\u001b[1;31m, \u001b[0m\u001b[1;31mdevice\u001b[0m\u001b[1;31m=\u001b[0m\u001b[1;31m'cuda:0'\u001b[0m\u001b[1;31m)\u001b[0m\u001b[1;31m computed_loss = \u001b[0m\u001b[1;31mtensor\u001b[0m\u001b[1;31m(\u001b[0m\u001b[1;31m0.2257\u001b[0m\u001b[1;31m, \u001b[0m\u001b[1;31mdevice\u001b[0m\u001b[1;31m=\u001b[0m\u001b[1;31m'cuda:0'\u001b[0m\u001b[1;31m, \u001b[0m\n",
       "\u001b[1;31mgrad_fn\u001b[0m\u001b[1;31m=\u001b[0m\u001b[1;31m<\u001b[0m\u001b[1;31mNllLossBackward0\u001b[0m\u001b[1;31m>\u001b[0m\u001b[1;31m)\u001b[0m\n"
      ]
     },
     "metadata": {},
     "output_type": "display_data"
    },
    {
     "data": {
      "text/html": [
       "<pre style=\"white-space:pre;overflow-x:auto;line-height:normal;font-family:Menlo,'DejaVu Sans Mono',consolas,'Courier New',monospace\"><span style=\"color: #800000; text-decoration-color: #800000; font-weight: bold\">loss = tensor(</span><span style=\"color: #800000; text-decoration-color: #800000; font-weight: bold\">0.0479</span><span style=\"color: #800000; text-decoration-color: #800000; font-weight: bold\">, </span><span style=\"color: #800000; text-decoration-color: #800000; font-weight: bold\">device</span><span style=\"color: #800000; text-decoration-color: #800000; font-weight: bold\">=</span><span style=\"color: #800000; text-decoration-color: #800000; font-weight: bold\">'cuda:0'</span><span style=\"color: #800000; text-decoration-color: #800000; font-weight: bold\">) computed_loss = tensor(</span><span style=\"color: #800000; text-decoration-color: #800000; font-weight: bold\">0.0497</span><span style=\"color: #800000; text-decoration-color: #800000; font-weight: bold\">, </span><span style=\"color: #800000; text-decoration-color: #800000; font-weight: bold\">device</span><span style=\"color: #800000; text-decoration-color: #800000; font-weight: bold\">=</span><span style=\"color: #800000; text-decoration-color: #800000; font-weight: bold\">'cuda:0'</span><span style=\"color: #800000; text-decoration-color: #800000; font-weight: bold\">, </span>\n",
       "<span style=\"color: #800000; text-decoration-color: #800000; font-weight: bold\">grad_fn</span><span style=\"color: #800000; text-decoration-color: #800000; font-weight: bold\">=&lt;NllLossBackward0&gt;)</span>\n",
       "</pre>\n"
      ],
      "text/plain": [
       "\u001b[1;31mloss = \u001b[0m\u001b[1;31mtensor\u001b[0m\u001b[1;31m(\u001b[0m\u001b[1;31m0.0479\u001b[0m\u001b[1;31m, \u001b[0m\u001b[1;31mdevice\u001b[0m\u001b[1;31m=\u001b[0m\u001b[1;31m'cuda:0'\u001b[0m\u001b[1;31m)\u001b[0m\u001b[1;31m computed_loss = \u001b[0m\u001b[1;31mtensor\u001b[0m\u001b[1;31m(\u001b[0m\u001b[1;31m0.0497\u001b[0m\u001b[1;31m, \u001b[0m\u001b[1;31mdevice\u001b[0m\u001b[1;31m=\u001b[0m\u001b[1;31m'cuda:0'\u001b[0m\u001b[1;31m, \u001b[0m\n",
       "\u001b[1;31mgrad_fn\u001b[0m\u001b[1;31m=\u001b[0m\u001b[1;31m<\u001b[0m\u001b[1;31mNllLossBackward0\u001b[0m\u001b[1;31m>\u001b[0m\u001b[1;31m)\u001b[0m\n"
      ]
     },
     "metadata": {},
     "output_type": "display_data"
    },
    {
     "data": {
      "text/html": [
       "<pre style=\"white-space:pre;overflow-x:auto;line-height:normal;font-family:Menlo,'DejaVu Sans Mono',consolas,'Courier New',monospace\"><span style=\"color: #800000; text-decoration-color: #800000; font-weight: bold\">loss = tensor(</span><span style=\"color: #800000; text-decoration-color: #800000; font-weight: bold\">0.0134</span><span style=\"color: #800000; text-decoration-color: #800000; font-weight: bold\">, </span><span style=\"color: #800000; text-decoration-color: #800000; font-weight: bold\">device</span><span style=\"color: #800000; text-decoration-color: #800000; font-weight: bold\">=</span><span style=\"color: #800000; text-decoration-color: #800000; font-weight: bold\">'cuda:0'</span><span style=\"color: #800000; text-decoration-color: #800000; font-weight: bold\">) computed_loss = tensor(</span><span style=\"color: #800000; text-decoration-color: #800000; font-weight: bold\">0.0133</span><span style=\"color: #800000; text-decoration-color: #800000; font-weight: bold\">, </span><span style=\"color: #800000; text-decoration-color: #800000; font-weight: bold\">device</span><span style=\"color: #800000; text-decoration-color: #800000; font-weight: bold\">=</span><span style=\"color: #800000; text-decoration-color: #800000; font-weight: bold\">'cuda:0'</span><span style=\"color: #800000; text-decoration-color: #800000; font-weight: bold\">, </span>\n",
       "<span style=\"color: #800000; text-decoration-color: #800000; font-weight: bold\">grad_fn</span><span style=\"color: #800000; text-decoration-color: #800000; font-weight: bold\">=&lt;NllLossBackward0&gt;)</span>\n",
       "</pre>\n"
      ],
      "text/plain": [
       "\u001b[1;31mloss = \u001b[0m\u001b[1;31mtensor\u001b[0m\u001b[1;31m(\u001b[0m\u001b[1;31m0.0134\u001b[0m\u001b[1;31m, \u001b[0m\u001b[1;31mdevice\u001b[0m\u001b[1;31m=\u001b[0m\u001b[1;31m'cuda:0'\u001b[0m\u001b[1;31m)\u001b[0m\u001b[1;31m computed_loss = \u001b[0m\u001b[1;31mtensor\u001b[0m\u001b[1;31m(\u001b[0m\u001b[1;31m0.0133\u001b[0m\u001b[1;31m, \u001b[0m\u001b[1;31mdevice\u001b[0m\u001b[1;31m=\u001b[0m\u001b[1;31m'cuda:0'\u001b[0m\u001b[1;31m, \u001b[0m\n",
       "\u001b[1;31mgrad_fn\u001b[0m\u001b[1;31m=\u001b[0m\u001b[1;31m<\u001b[0m\u001b[1;31mNllLossBackward0\u001b[0m\u001b[1;31m>\u001b[0m\u001b[1;31m)\u001b[0m\n"
      ]
     },
     "metadata": {},
     "output_type": "display_data"
    },
    {
     "data": {
      "text/html": [
       "<pre style=\"white-space:pre;overflow-x:auto;line-height:normal;font-family:Menlo,'DejaVu Sans Mono',consolas,'Courier New',monospace\"><span style=\"color: #800000; text-decoration-color: #800000; font-weight: bold\">loss = tensor(</span><span style=\"color: #800000; text-decoration-color: #800000; font-weight: bold\">0.0995</span><span style=\"color: #800000; text-decoration-color: #800000; font-weight: bold\">, </span><span style=\"color: #800000; text-decoration-color: #800000; font-weight: bold\">device</span><span style=\"color: #800000; text-decoration-color: #800000; font-weight: bold\">=</span><span style=\"color: #800000; text-decoration-color: #800000; font-weight: bold\">'cuda:0'</span><span style=\"color: #800000; text-decoration-color: #800000; font-weight: bold\">) computed_loss = tensor(</span><span style=\"color: #800000; text-decoration-color: #800000; font-weight: bold\">0.1034</span><span style=\"color: #800000; text-decoration-color: #800000; font-weight: bold\">, </span><span style=\"color: #800000; text-decoration-color: #800000; font-weight: bold\">device</span><span style=\"color: #800000; text-decoration-color: #800000; font-weight: bold\">=</span><span style=\"color: #800000; text-decoration-color: #800000; font-weight: bold\">'cuda:0'</span><span style=\"color: #800000; text-decoration-color: #800000; font-weight: bold\">, </span>\n",
       "<span style=\"color: #800000; text-decoration-color: #800000; font-weight: bold\">grad_fn</span><span style=\"color: #800000; text-decoration-color: #800000; font-weight: bold\">=&lt;NllLossBackward0&gt;)</span>\n",
       "</pre>\n"
      ],
      "text/plain": [
       "\u001b[1;31mloss = \u001b[0m\u001b[1;31mtensor\u001b[0m\u001b[1;31m(\u001b[0m\u001b[1;31m0.0995\u001b[0m\u001b[1;31m, \u001b[0m\u001b[1;31mdevice\u001b[0m\u001b[1;31m=\u001b[0m\u001b[1;31m'cuda:0'\u001b[0m\u001b[1;31m)\u001b[0m\u001b[1;31m computed_loss = \u001b[0m\u001b[1;31mtensor\u001b[0m\u001b[1;31m(\u001b[0m\u001b[1;31m0.1034\u001b[0m\u001b[1;31m, \u001b[0m\u001b[1;31mdevice\u001b[0m\u001b[1;31m=\u001b[0m\u001b[1;31m'cuda:0'\u001b[0m\u001b[1;31m, \u001b[0m\n",
       "\u001b[1;31mgrad_fn\u001b[0m\u001b[1;31m=\u001b[0m\u001b[1;31m<\u001b[0m\u001b[1;31mNllLossBackward0\u001b[0m\u001b[1;31m>\u001b[0m\u001b[1;31m)\u001b[0m\n"
      ]
     },
     "metadata": {},
     "output_type": "display_data"
    },
    {
     "data": {
      "text/html": [
       "<pre style=\"white-space:pre;overflow-x:auto;line-height:normal;font-family:Menlo,'DejaVu Sans Mono',consolas,'Courier New',monospace\"><span style=\"color: #800000; text-decoration-color: #800000; font-weight: bold\">loss = tensor(</span><span style=\"color: #800000; text-decoration-color: #800000; font-weight: bold\">0.0244</span><span style=\"color: #800000; text-decoration-color: #800000; font-weight: bold\">, </span><span style=\"color: #800000; text-decoration-color: #800000; font-weight: bold\">device</span><span style=\"color: #800000; text-decoration-color: #800000; font-weight: bold\">=</span><span style=\"color: #800000; text-decoration-color: #800000; font-weight: bold\">'cuda:0'</span><span style=\"color: #800000; text-decoration-color: #800000; font-weight: bold\">) computed_loss = tensor(</span><span style=\"color: #800000; text-decoration-color: #800000; font-weight: bold\">0.0246</span><span style=\"color: #800000; text-decoration-color: #800000; font-weight: bold\">, </span><span style=\"color: #800000; text-decoration-color: #800000; font-weight: bold\">device</span><span style=\"color: #800000; text-decoration-color: #800000; font-weight: bold\">=</span><span style=\"color: #800000; text-decoration-color: #800000; font-weight: bold\">'cuda:0'</span><span style=\"color: #800000; text-decoration-color: #800000; font-weight: bold\">, </span>\n",
       "<span style=\"color: #800000; text-decoration-color: #800000; font-weight: bold\">grad_fn</span><span style=\"color: #800000; text-decoration-color: #800000; font-weight: bold\">=&lt;NllLossBackward0&gt;)</span>\n",
       "</pre>\n"
      ],
      "text/plain": [
       "\u001b[1;31mloss = \u001b[0m\u001b[1;31mtensor\u001b[0m\u001b[1;31m(\u001b[0m\u001b[1;31m0.0244\u001b[0m\u001b[1;31m, \u001b[0m\u001b[1;31mdevice\u001b[0m\u001b[1;31m=\u001b[0m\u001b[1;31m'cuda:0'\u001b[0m\u001b[1;31m)\u001b[0m\u001b[1;31m computed_loss = \u001b[0m\u001b[1;31mtensor\u001b[0m\u001b[1;31m(\u001b[0m\u001b[1;31m0.0246\u001b[0m\u001b[1;31m, \u001b[0m\u001b[1;31mdevice\u001b[0m\u001b[1;31m=\u001b[0m\u001b[1;31m'cuda:0'\u001b[0m\u001b[1;31m, \u001b[0m\n",
       "\u001b[1;31mgrad_fn\u001b[0m\u001b[1;31m=\u001b[0m\u001b[1;31m<\u001b[0m\u001b[1;31mNllLossBackward0\u001b[0m\u001b[1;31m>\u001b[0m\u001b[1;31m)\u001b[0m\n"
      ]
     },
     "metadata": {},
     "output_type": "display_data"
    },
    {
     "data": {
      "text/html": [
       "<pre style=\"white-space:pre;overflow-x:auto;line-height:normal;font-family:Menlo,'DejaVu Sans Mono',consolas,'Courier New',monospace\"><span style=\"color: #800000; text-decoration-color: #800000; font-weight: bold\">loss = tensor(</span><span style=\"color: #800000; text-decoration-color: #800000; font-weight: bold\">0.2124</span><span style=\"color: #800000; text-decoration-color: #800000; font-weight: bold\">, </span><span style=\"color: #800000; text-decoration-color: #800000; font-weight: bold\">device</span><span style=\"color: #800000; text-decoration-color: #800000; font-weight: bold\">=</span><span style=\"color: #800000; text-decoration-color: #800000; font-weight: bold\">'cuda:0'</span><span style=\"color: #800000; text-decoration-color: #800000; font-weight: bold\">) computed_loss = tensor(</span><span style=\"color: #800000; text-decoration-color: #800000; font-weight: bold\">0.1958</span><span style=\"color: #800000; text-decoration-color: #800000; font-weight: bold\">, </span><span style=\"color: #800000; text-decoration-color: #800000; font-weight: bold\">device</span><span style=\"color: #800000; text-decoration-color: #800000; font-weight: bold\">=</span><span style=\"color: #800000; text-decoration-color: #800000; font-weight: bold\">'cuda:0'</span><span style=\"color: #800000; text-decoration-color: #800000; font-weight: bold\">, </span>\n",
       "<span style=\"color: #800000; text-decoration-color: #800000; font-weight: bold\">grad_fn</span><span style=\"color: #800000; text-decoration-color: #800000; font-weight: bold\">=&lt;NllLossBackward0&gt;)</span>\n",
       "</pre>\n"
      ],
      "text/plain": [
       "\u001b[1;31mloss = \u001b[0m\u001b[1;31mtensor\u001b[0m\u001b[1;31m(\u001b[0m\u001b[1;31m0.2124\u001b[0m\u001b[1;31m, \u001b[0m\u001b[1;31mdevice\u001b[0m\u001b[1;31m=\u001b[0m\u001b[1;31m'cuda:0'\u001b[0m\u001b[1;31m)\u001b[0m\u001b[1;31m computed_loss = \u001b[0m\u001b[1;31mtensor\u001b[0m\u001b[1;31m(\u001b[0m\u001b[1;31m0.1958\u001b[0m\u001b[1;31m, \u001b[0m\u001b[1;31mdevice\u001b[0m\u001b[1;31m=\u001b[0m\u001b[1;31m'cuda:0'\u001b[0m\u001b[1;31m, \u001b[0m\n",
       "\u001b[1;31mgrad_fn\u001b[0m\u001b[1;31m=\u001b[0m\u001b[1;31m<\u001b[0m\u001b[1;31mNllLossBackward0\u001b[0m\u001b[1;31m>\u001b[0m\u001b[1;31m)\u001b[0m\n"
      ]
     },
     "metadata": {},
     "output_type": "display_data"
    },
    {
     "data": {
      "text/html": [
       "<pre style=\"white-space:pre;overflow-x:auto;line-height:normal;font-family:Menlo,'DejaVu Sans Mono',consolas,'Courier New',monospace\"><span style=\"color: #800000; text-decoration-color: #800000; font-weight: bold\">loss = tensor(</span><span style=\"color: #800000; text-decoration-color: #800000; font-weight: bold\">0.1362</span><span style=\"color: #800000; text-decoration-color: #800000; font-weight: bold\">, </span><span style=\"color: #800000; text-decoration-color: #800000; font-weight: bold\">device</span><span style=\"color: #800000; text-decoration-color: #800000; font-weight: bold\">=</span><span style=\"color: #800000; text-decoration-color: #800000; font-weight: bold\">'cuda:0'</span><span style=\"color: #800000; text-decoration-color: #800000; font-weight: bold\">) computed_loss = tensor(</span><span style=\"color: #800000; text-decoration-color: #800000; font-weight: bold\">0.1421</span><span style=\"color: #800000; text-decoration-color: #800000; font-weight: bold\">, </span><span style=\"color: #800000; text-decoration-color: #800000; font-weight: bold\">device</span><span style=\"color: #800000; text-decoration-color: #800000; font-weight: bold\">=</span><span style=\"color: #800000; text-decoration-color: #800000; font-weight: bold\">'cuda:0'</span><span style=\"color: #800000; text-decoration-color: #800000; font-weight: bold\">, </span>\n",
       "<span style=\"color: #800000; text-decoration-color: #800000; font-weight: bold\">grad_fn</span><span style=\"color: #800000; text-decoration-color: #800000; font-weight: bold\">=&lt;NllLossBackward0&gt;)</span>\n",
       "</pre>\n"
      ],
      "text/plain": [
       "\u001b[1;31mloss = \u001b[0m\u001b[1;31mtensor\u001b[0m\u001b[1;31m(\u001b[0m\u001b[1;31m0.1362\u001b[0m\u001b[1;31m, \u001b[0m\u001b[1;31mdevice\u001b[0m\u001b[1;31m=\u001b[0m\u001b[1;31m'cuda:0'\u001b[0m\u001b[1;31m)\u001b[0m\u001b[1;31m computed_loss = \u001b[0m\u001b[1;31mtensor\u001b[0m\u001b[1;31m(\u001b[0m\u001b[1;31m0.1421\u001b[0m\u001b[1;31m, \u001b[0m\u001b[1;31mdevice\u001b[0m\u001b[1;31m=\u001b[0m\u001b[1;31m'cuda:0'\u001b[0m\u001b[1;31m, \u001b[0m\n",
       "\u001b[1;31mgrad_fn\u001b[0m\u001b[1;31m=\u001b[0m\u001b[1;31m<\u001b[0m\u001b[1;31mNllLossBackward0\u001b[0m\u001b[1;31m>\u001b[0m\u001b[1;31m)\u001b[0m\n"
      ]
     },
     "metadata": {},
     "output_type": "display_data"
    },
    {
     "data": {
      "text/html": [
       "<pre style=\"white-space:pre;overflow-x:auto;line-height:normal;font-family:Menlo,'DejaVu Sans Mono',consolas,'Courier New',monospace\"><span style=\"color: #800000; text-decoration-color: #800000; font-weight: bold\">loss = tensor(</span><span style=\"color: #800000; text-decoration-color: #800000; font-weight: bold\">0.0609</span><span style=\"color: #800000; text-decoration-color: #800000; font-weight: bold\">, </span><span style=\"color: #800000; text-decoration-color: #800000; font-weight: bold\">device</span><span style=\"color: #800000; text-decoration-color: #800000; font-weight: bold\">=</span><span style=\"color: #800000; text-decoration-color: #800000; font-weight: bold\">'cuda:0'</span><span style=\"color: #800000; text-decoration-color: #800000; font-weight: bold\">) computed_loss = tensor(</span><span style=\"color: #800000; text-decoration-color: #800000; font-weight: bold\">0.0633</span><span style=\"color: #800000; text-decoration-color: #800000; font-weight: bold\">, </span><span style=\"color: #800000; text-decoration-color: #800000; font-weight: bold\">device</span><span style=\"color: #800000; text-decoration-color: #800000; font-weight: bold\">=</span><span style=\"color: #800000; text-decoration-color: #800000; font-weight: bold\">'cuda:0'</span><span style=\"color: #800000; text-decoration-color: #800000; font-weight: bold\">, </span>\n",
       "<span style=\"color: #800000; text-decoration-color: #800000; font-weight: bold\">grad_fn</span><span style=\"color: #800000; text-decoration-color: #800000; font-weight: bold\">=&lt;NllLossBackward0&gt;)</span>\n",
       "</pre>\n"
      ],
      "text/plain": [
       "\u001b[1;31mloss = \u001b[0m\u001b[1;31mtensor\u001b[0m\u001b[1;31m(\u001b[0m\u001b[1;31m0.0609\u001b[0m\u001b[1;31m, \u001b[0m\u001b[1;31mdevice\u001b[0m\u001b[1;31m=\u001b[0m\u001b[1;31m'cuda:0'\u001b[0m\u001b[1;31m)\u001b[0m\u001b[1;31m computed_loss = \u001b[0m\u001b[1;31mtensor\u001b[0m\u001b[1;31m(\u001b[0m\u001b[1;31m0.0633\u001b[0m\u001b[1;31m, \u001b[0m\u001b[1;31mdevice\u001b[0m\u001b[1;31m=\u001b[0m\u001b[1;31m'cuda:0'\u001b[0m\u001b[1;31m, \u001b[0m\n",
       "\u001b[1;31mgrad_fn\u001b[0m\u001b[1;31m=\u001b[0m\u001b[1;31m<\u001b[0m\u001b[1;31mNllLossBackward0\u001b[0m\u001b[1;31m>\u001b[0m\u001b[1;31m)\u001b[0m\n"
      ]
     },
     "metadata": {},
     "output_type": "display_data"
    },
    {
     "data": {
      "text/html": [
       "<pre style=\"white-space:pre;overflow-x:auto;line-height:normal;font-family:Menlo,'DejaVu Sans Mono',consolas,'Courier New',monospace\"><span style=\"color: #800000; text-decoration-color: #800000; font-weight: bold\">loss = tensor(</span><span style=\"color: #800000; text-decoration-color: #800000; font-weight: bold\">0.0221</span><span style=\"color: #800000; text-decoration-color: #800000; font-weight: bold\">, </span><span style=\"color: #800000; text-decoration-color: #800000; font-weight: bold\">device</span><span style=\"color: #800000; text-decoration-color: #800000; font-weight: bold\">=</span><span style=\"color: #800000; text-decoration-color: #800000; font-weight: bold\">'cuda:0'</span><span style=\"color: #800000; text-decoration-color: #800000; font-weight: bold\">) computed_loss = tensor(</span><span style=\"color: #800000; text-decoration-color: #800000; font-weight: bold\">0.0223</span><span style=\"color: #800000; text-decoration-color: #800000; font-weight: bold\">, </span><span style=\"color: #800000; text-decoration-color: #800000; font-weight: bold\">device</span><span style=\"color: #800000; text-decoration-color: #800000; font-weight: bold\">=</span><span style=\"color: #800000; text-decoration-color: #800000; font-weight: bold\">'cuda:0'</span><span style=\"color: #800000; text-decoration-color: #800000; font-weight: bold\">, </span>\n",
       "<span style=\"color: #800000; text-decoration-color: #800000; font-weight: bold\">grad_fn</span><span style=\"color: #800000; text-decoration-color: #800000; font-weight: bold\">=&lt;NllLossBackward0&gt;)</span>\n",
       "</pre>\n"
      ],
      "text/plain": [
       "\u001b[1;31mloss = \u001b[0m\u001b[1;31mtensor\u001b[0m\u001b[1;31m(\u001b[0m\u001b[1;31m0.0221\u001b[0m\u001b[1;31m, \u001b[0m\u001b[1;31mdevice\u001b[0m\u001b[1;31m=\u001b[0m\u001b[1;31m'cuda:0'\u001b[0m\u001b[1;31m)\u001b[0m\u001b[1;31m computed_loss = \u001b[0m\u001b[1;31mtensor\u001b[0m\u001b[1;31m(\u001b[0m\u001b[1;31m0.0223\u001b[0m\u001b[1;31m, \u001b[0m\u001b[1;31mdevice\u001b[0m\u001b[1;31m=\u001b[0m\u001b[1;31m'cuda:0'\u001b[0m\u001b[1;31m, \u001b[0m\n",
       "\u001b[1;31mgrad_fn\u001b[0m\u001b[1;31m=\u001b[0m\u001b[1;31m<\u001b[0m\u001b[1;31mNllLossBackward0\u001b[0m\u001b[1;31m>\u001b[0m\u001b[1;31m)\u001b[0m\n"
      ]
     },
     "metadata": {},
     "output_type": "display_data"
    },
    {
     "data": {
      "text/html": [
       "<pre style=\"white-space:pre;overflow-x:auto;line-height:normal;font-family:Menlo,'DejaVu Sans Mono',consolas,'Courier New',monospace\"><span style=\"color: #800000; text-decoration-color: #800000; font-weight: bold\">loss = tensor(</span><span style=\"color: #800000; text-decoration-color: #800000; font-weight: bold\">0.0759</span><span style=\"color: #800000; text-decoration-color: #800000; font-weight: bold\">, </span><span style=\"color: #800000; text-decoration-color: #800000; font-weight: bold\">device</span><span style=\"color: #800000; text-decoration-color: #800000; font-weight: bold\">=</span><span style=\"color: #800000; text-decoration-color: #800000; font-weight: bold\">'cuda:0'</span><span style=\"color: #800000; text-decoration-color: #800000; font-weight: bold\">) computed_loss = tensor(</span><span style=\"color: #800000; text-decoration-color: #800000; font-weight: bold\">0.0786</span><span style=\"color: #800000; text-decoration-color: #800000; font-weight: bold\">, </span><span style=\"color: #800000; text-decoration-color: #800000; font-weight: bold\">device</span><span style=\"color: #800000; text-decoration-color: #800000; font-weight: bold\">=</span><span style=\"color: #800000; text-decoration-color: #800000; font-weight: bold\">'cuda:0'</span><span style=\"color: #800000; text-decoration-color: #800000; font-weight: bold\">, </span>\n",
       "<span style=\"color: #800000; text-decoration-color: #800000; font-weight: bold\">grad_fn</span><span style=\"color: #800000; text-decoration-color: #800000; font-weight: bold\">=&lt;NllLossBackward0&gt;)</span>\n",
       "</pre>\n"
      ],
      "text/plain": [
       "\u001b[1;31mloss = \u001b[0m\u001b[1;31mtensor\u001b[0m\u001b[1;31m(\u001b[0m\u001b[1;31m0.0759\u001b[0m\u001b[1;31m, \u001b[0m\u001b[1;31mdevice\u001b[0m\u001b[1;31m=\u001b[0m\u001b[1;31m'cuda:0'\u001b[0m\u001b[1;31m)\u001b[0m\u001b[1;31m computed_loss = \u001b[0m\u001b[1;31mtensor\u001b[0m\u001b[1;31m(\u001b[0m\u001b[1;31m0.0786\u001b[0m\u001b[1;31m, \u001b[0m\u001b[1;31mdevice\u001b[0m\u001b[1;31m=\u001b[0m\u001b[1;31m'cuda:0'\u001b[0m\u001b[1;31m, \u001b[0m\n",
       "\u001b[1;31mgrad_fn\u001b[0m\u001b[1;31m=\u001b[0m\u001b[1;31m<\u001b[0m\u001b[1;31mNllLossBackward0\u001b[0m\u001b[1;31m>\u001b[0m\u001b[1;31m)\u001b[0m\n"
      ]
     },
     "metadata": {},
     "output_type": "display_data"
    },
    {
     "data": {
      "text/html": [
       "<pre style=\"white-space:pre;overflow-x:auto;line-height:normal;font-family:Menlo,'DejaVu Sans Mono',consolas,'Courier New',monospace\"><span style=\"color: #800000; text-decoration-color: #800000; font-weight: bold\">loss = tensor(</span><span style=\"color: #800000; text-decoration-color: #800000; font-weight: bold\">0.0231</span><span style=\"color: #800000; text-decoration-color: #800000; font-weight: bold\">, </span><span style=\"color: #800000; text-decoration-color: #800000; font-weight: bold\">device</span><span style=\"color: #800000; text-decoration-color: #800000; font-weight: bold\">=</span><span style=\"color: #800000; text-decoration-color: #800000; font-weight: bold\">'cuda:0'</span><span style=\"color: #800000; text-decoration-color: #800000; font-weight: bold\">) computed_loss = tensor(</span><span style=\"color: #800000; text-decoration-color: #800000; font-weight: bold\">0.0230</span><span style=\"color: #800000; text-decoration-color: #800000; font-weight: bold\">, </span><span style=\"color: #800000; text-decoration-color: #800000; font-weight: bold\">device</span><span style=\"color: #800000; text-decoration-color: #800000; font-weight: bold\">=</span><span style=\"color: #800000; text-decoration-color: #800000; font-weight: bold\">'cuda:0'</span><span style=\"color: #800000; text-decoration-color: #800000; font-weight: bold\">, </span>\n",
       "<span style=\"color: #800000; text-decoration-color: #800000; font-weight: bold\">grad_fn</span><span style=\"color: #800000; text-decoration-color: #800000; font-weight: bold\">=&lt;NllLossBackward0&gt;)</span>\n",
       "</pre>\n"
      ],
      "text/plain": [
       "\u001b[1;31mloss = \u001b[0m\u001b[1;31mtensor\u001b[0m\u001b[1;31m(\u001b[0m\u001b[1;31m0.0231\u001b[0m\u001b[1;31m, \u001b[0m\u001b[1;31mdevice\u001b[0m\u001b[1;31m=\u001b[0m\u001b[1;31m'cuda:0'\u001b[0m\u001b[1;31m)\u001b[0m\u001b[1;31m computed_loss = \u001b[0m\u001b[1;31mtensor\u001b[0m\u001b[1;31m(\u001b[0m\u001b[1;31m0.0230\u001b[0m\u001b[1;31m, \u001b[0m\u001b[1;31mdevice\u001b[0m\u001b[1;31m=\u001b[0m\u001b[1;31m'cuda:0'\u001b[0m\u001b[1;31m, \u001b[0m\n",
       "\u001b[1;31mgrad_fn\u001b[0m\u001b[1;31m=\u001b[0m\u001b[1;31m<\u001b[0m\u001b[1;31mNllLossBackward0\u001b[0m\u001b[1;31m>\u001b[0m\u001b[1;31m)\u001b[0m\n"
      ]
     },
     "metadata": {},
     "output_type": "display_data"
    },
    {
     "data": {
      "text/html": [
       "<pre style=\"white-space:pre;overflow-x:auto;line-height:normal;font-family:Menlo,'DejaVu Sans Mono',consolas,'Courier New',monospace\"><span style=\"color: #800000; text-decoration-color: #800000; font-weight: bold\">loss = tensor(</span><span style=\"color: #800000; text-decoration-color: #800000; font-weight: bold\">0.1803</span><span style=\"color: #800000; text-decoration-color: #800000; font-weight: bold\">, </span><span style=\"color: #800000; text-decoration-color: #800000; font-weight: bold\">device</span><span style=\"color: #800000; text-decoration-color: #800000; font-weight: bold\">=</span><span style=\"color: #800000; text-decoration-color: #800000; font-weight: bold\">'cuda:0'</span><span style=\"color: #800000; text-decoration-color: #800000; font-weight: bold\">) computed_loss = tensor(</span><span style=\"color: #800000; text-decoration-color: #800000; font-weight: bold\">0.1891</span><span style=\"color: #800000; text-decoration-color: #800000; font-weight: bold\">, </span><span style=\"color: #800000; text-decoration-color: #800000; font-weight: bold\">device</span><span style=\"color: #800000; text-decoration-color: #800000; font-weight: bold\">=</span><span style=\"color: #800000; text-decoration-color: #800000; font-weight: bold\">'cuda:0'</span><span style=\"color: #800000; text-decoration-color: #800000; font-weight: bold\">, </span>\n",
       "<span style=\"color: #800000; text-decoration-color: #800000; font-weight: bold\">grad_fn</span><span style=\"color: #800000; text-decoration-color: #800000; font-weight: bold\">=&lt;NllLossBackward0&gt;)</span>\n",
       "</pre>\n"
      ],
      "text/plain": [
       "\u001b[1;31mloss = \u001b[0m\u001b[1;31mtensor\u001b[0m\u001b[1;31m(\u001b[0m\u001b[1;31m0.1803\u001b[0m\u001b[1;31m, \u001b[0m\u001b[1;31mdevice\u001b[0m\u001b[1;31m=\u001b[0m\u001b[1;31m'cuda:0'\u001b[0m\u001b[1;31m)\u001b[0m\u001b[1;31m computed_loss = \u001b[0m\u001b[1;31mtensor\u001b[0m\u001b[1;31m(\u001b[0m\u001b[1;31m0.1891\u001b[0m\u001b[1;31m, \u001b[0m\u001b[1;31mdevice\u001b[0m\u001b[1;31m=\u001b[0m\u001b[1;31m'cuda:0'\u001b[0m\u001b[1;31m, \u001b[0m\n",
       "\u001b[1;31mgrad_fn\u001b[0m\u001b[1;31m=\u001b[0m\u001b[1;31m<\u001b[0m\u001b[1;31mNllLossBackward0\u001b[0m\u001b[1;31m>\u001b[0m\u001b[1;31m)\u001b[0m\n"
      ]
     },
     "metadata": {},
     "output_type": "display_data"
    },
    {
     "data": {
      "text/html": [
       "<pre style=\"white-space:pre;overflow-x:auto;line-height:normal;font-family:Menlo,'DejaVu Sans Mono',consolas,'Courier New',monospace\"><span style=\"color: #800000; text-decoration-color: #800000; font-weight: bold\">loss = tensor(</span><span style=\"color: #800000; text-decoration-color: #800000; font-weight: bold\">0.0137</span><span style=\"color: #800000; text-decoration-color: #800000; font-weight: bold\">, </span><span style=\"color: #800000; text-decoration-color: #800000; font-weight: bold\">device</span><span style=\"color: #800000; text-decoration-color: #800000; font-weight: bold\">=</span><span style=\"color: #800000; text-decoration-color: #800000; font-weight: bold\">'cuda:0'</span><span style=\"color: #800000; text-decoration-color: #800000; font-weight: bold\">) computed_loss = tensor(</span><span style=\"color: #800000; text-decoration-color: #800000; font-weight: bold\">0.0141</span><span style=\"color: #800000; text-decoration-color: #800000; font-weight: bold\">, </span><span style=\"color: #800000; text-decoration-color: #800000; font-weight: bold\">device</span><span style=\"color: #800000; text-decoration-color: #800000; font-weight: bold\">=</span><span style=\"color: #800000; text-decoration-color: #800000; font-weight: bold\">'cuda:0'</span><span style=\"color: #800000; text-decoration-color: #800000; font-weight: bold\">, </span>\n",
       "<span style=\"color: #800000; text-decoration-color: #800000; font-weight: bold\">grad_fn</span><span style=\"color: #800000; text-decoration-color: #800000; font-weight: bold\">=&lt;NllLossBackward0&gt;)</span>\n",
       "</pre>\n"
      ],
      "text/plain": [
       "\u001b[1;31mloss = \u001b[0m\u001b[1;31mtensor\u001b[0m\u001b[1;31m(\u001b[0m\u001b[1;31m0.0137\u001b[0m\u001b[1;31m, \u001b[0m\u001b[1;31mdevice\u001b[0m\u001b[1;31m=\u001b[0m\u001b[1;31m'cuda:0'\u001b[0m\u001b[1;31m)\u001b[0m\u001b[1;31m computed_loss = \u001b[0m\u001b[1;31mtensor\u001b[0m\u001b[1;31m(\u001b[0m\u001b[1;31m0.0141\u001b[0m\u001b[1;31m, \u001b[0m\u001b[1;31mdevice\u001b[0m\u001b[1;31m=\u001b[0m\u001b[1;31m'cuda:0'\u001b[0m\u001b[1;31m, \u001b[0m\n",
       "\u001b[1;31mgrad_fn\u001b[0m\u001b[1;31m=\u001b[0m\u001b[1;31m<\u001b[0m\u001b[1;31mNllLossBackward0\u001b[0m\u001b[1;31m>\u001b[0m\u001b[1;31m)\u001b[0m\n"
      ]
     },
     "metadata": {},
     "output_type": "display_data"
    },
    {
     "data": {
      "text/html": [
       "<pre style=\"white-space:pre;overflow-x:auto;line-height:normal;font-family:Menlo,'DejaVu Sans Mono',consolas,'Courier New',monospace\"><span style=\"color: #800000; text-decoration-color: #800000; font-weight: bold\">loss = tensor(</span><span style=\"color: #800000; text-decoration-color: #800000; font-weight: bold\">0.0069</span><span style=\"color: #800000; text-decoration-color: #800000; font-weight: bold\">, </span><span style=\"color: #800000; text-decoration-color: #800000; font-weight: bold\">device</span><span style=\"color: #800000; text-decoration-color: #800000; font-weight: bold\">=</span><span style=\"color: #800000; text-decoration-color: #800000; font-weight: bold\">'cuda:0'</span><span style=\"color: #800000; text-decoration-color: #800000; font-weight: bold\">) computed_loss = tensor(</span><span style=\"color: #800000; text-decoration-color: #800000; font-weight: bold\">0.0069</span><span style=\"color: #800000; text-decoration-color: #800000; font-weight: bold\">, </span><span style=\"color: #800000; text-decoration-color: #800000; font-weight: bold\">device</span><span style=\"color: #800000; text-decoration-color: #800000; font-weight: bold\">=</span><span style=\"color: #800000; text-decoration-color: #800000; font-weight: bold\">'cuda:0'</span><span style=\"color: #800000; text-decoration-color: #800000; font-weight: bold\">, </span>\n",
       "<span style=\"color: #800000; text-decoration-color: #800000; font-weight: bold\">grad_fn</span><span style=\"color: #800000; text-decoration-color: #800000; font-weight: bold\">=&lt;NllLossBackward0&gt;)</span>\n",
       "</pre>\n"
      ],
      "text/plain": [
       "\u001b[1;31mloss = \u001b[0m\u001b[1;31mtensor\u001b[0m\u001b[1;31m(\u001b[0m\u001b[1;31m0.0069\u001b[0m\u001b[1;31m, \u001b[0m\u001b[1;31mdevice\u001b[0m\u001b[1;31m=\u001b[0m\u001b[1;31m'cuda:0'\u001b[0m\u001b[1;31m)\u001b[0m\u001b[1;31m computed_loss = \u001b[0m\u001b[1;31mtensor\u001b[0m\u001b[1;31m(\u001b[0m\u001b[1;31m0.0069\u001b[0m\u001b[1;31m, \u001b[0m\u001b[1;31mdevice\u001b[0m\u001b[1;31m=\u001b[0m\u001b[1;31m'cuda:0'\u001b[0m\u001b[1;31m, \u001b[0m\n",
       "\u001b[1;31mgrad_fn\u001b[0m\u001b[1;31m=\u001b[0m\u001b[1;31m<\u001b[0m\u001b[1;31mNllLossBackward0\u001b[0m\u001b[1;31m>\u001b[0m\u001b[1;31m)\u001b[0m\n"
      ]
     },
     "metadata": {},
     "output_type": "display_data"
    },
    {
     "data": {
      "text/html": [
       "<pre style=\"white-space:pre;overflow-x:auto;line-height:normal;font-family:Menlo,'DejaVu Sans Mono',consolas,'Courier New',monospace\"><span style=\"color: #800000; text-decoration-color: #800000; font-weight: bold\">loss = tensor(</span><span style=\"color: #800000; text-decoration-color: #800000; font-weight: bold\">0.2963</span><span style=\"color: #800000; text-decoration-color: #800000; font-weight: bold\">, </span><span style=\"color: #800000; text-decoration-color: #800000; font-weight: bold\">device</span><span style=\"color: #800000; text-decoration-color: #800000; font-weight: bold\">=</span><span style=\"color: #800000; text-decoration-color: #800000; font-weight: bold\">'cuda:0'</span><span style=\"color: #800000; text-decoration-color: #800000; font-weight: bold\">) computed_loss = tensor(</span><span style=\"color: #800000; text-decoration-color: #800000; font-weight: bold\">0.2675</span><span style=\"color: #800000; text-decoration-color: #800000; font-weight: bold\">, </span><span style=\"color: #800000; text-decoration-color: #800000; font-weight: bold\">device</span><span style=\"color: #800000; text-decoration-color: #800000; font-weight: bold\">=</span><span style=\"color: #800000; text-decoration-color: #800000; font-weight: bold\">'cuda:0'</span><span style=\"color: #800000; text-decoration-color: #800000; font-weight: bold\">, </span>\n",
       "<span style=\"color: #800000; text-decoration-color: #800000; font-weight: bold\">grad_fn</span><span style=\"color: #800000; text-decoration-color: #800000; font-weight: bold\">=&lt;NllLossBackward0&gt;)</span>\n",
       "</pre>\n"
      ],
      "text/plain": [
       "\u001b[1;31mloss = \u001b[0m\u001b[1;31mtensor\u001b[0m\u001b[1;31m(\u001b[0m\u001b[1;31m0.2963\u001b[0m\u001b[1;31m, \u001b[0m\u001b[1;31mdevice\u001b[0m\u001b[1;31m=\u001b[0m\u001b[1;31m'cuda:0'\u001b[0m\u001b[1;31m)\u001b[0m\u001b[1;31m computed_loss = \u001b[0m\u001b[1;31mtensor\u001b[0m\u001b[1;31m(\u001b[0m\u001b[1;31m0.2675\u001b[0m\u001b[1;31m, \u001b[0m\u001b[1;31mdevice\u001b[0m\u001b[1;31m=\u001b[0m\u001b[1;31m'cuda:0'\u001b[0m\u001b[1;31m, \u001b[0m\n",
       "\u001b[1;31mgrad_fn\u001b[0m\u001b[1;31m=\u001b[0m\u001b[1;31m<\u001b[0m\u001b[1;31mNllLossBackward0\u001b[0m\u001b[1;31m>\u001b[0m\u001b[1;31m)\u001b[0m\n"
      ]
     },
     "metadata": {},
     "output_type": "display_data"
    },
    {
     "data": {
      "text/html": [
       "<pre style=\"white-space:pre;overflow-x:auto;line-height:normal;font-family:Menlo,'DejaVu Sans Mono',consolas,'Courier New',monospace\"><span style=\"color: #800000; text-decoration-color: #800000; font-weight: bold\">loss = tensor(</span><span style=\"color: #800000; text-decoration-color: #800000; font-weight: bold\">0.0088</span><span style=\"color: #800000; text-decoration-color: #800000; font-weight: bold\">, </span><span style=\"color: #800000; text-decoration-color: #800000; font-weight: bold\">device</span><span style=\"color: #800000; text-decoration-color: #800000; font-weight: bold\">=</span><span style=\"color: #800000; text-decoration-color: #800000; font-weight: bold\">'cuda:0'</span><span style=\"color: #800000; text-decoration-color: #800000; font-weight: bold\">) computed_loss = tensor(</span><span style=\"color: #800000; text-decoration-color: #800000; font-weight: bold\">0.0087</span><span style=\"color: #800000; text-decoration-color: #800000; font-weight: bold\">, </span><span style=\"color: #800000; text-decoration-color: #800000; font-weight: bold\">device</span><span style=\"color: #800000; text-decoration-color: #800000; font-weight: bold\">=</span><span style=\"color: #800000; text-decoration-color: #800000; font-weight: bold\">'cuda:0'</span><span style=\"color: #800000; text-decoration-color: #800000; font-weight: bold\">, </span>\n",
       "<span style=\"color: #800000; text-decoration-color: #800000; font-weight: bold\">grad_fn</span><span style=\"color: #800000; text-decoration-color: #800000; font-weight: bold\">=&lt;NllLossBackward0&gt;)</span>\n",
       "</pre>\n"
      ],
      "text/plain": [
       "\u001b[1;31mloss = \u001b[0m\u001b[1;31mtensor\u001b[0m\u001b[1;31m(\u001b[0m\u001b[1;31m0.0088\u001b[0m\u001b[1;31m, \u001b[0m\u001b[1;31mdevice\u001b[0m\u001b[1;31m=\u001b[0m\u001b[1;31m'cuda:0'\u001b[0m\u001b[1;31m)\u001b[0m\u001b[1;31m computed_loss = \u001b[0m\u001b[1;31mtensor\u001b[0m\u001b[1;31m(\u001b[0m\u001b[1;31m0.0087\u001b[0m\u001b[1;31m, \u001b[0m\u001b[1;31mdevice\u001b[0m\u001b[1;31m=\u001b[0m\u001b[1;31m'cuda:0'\u001b[0m\u001b[1;31m, \u001b[0m\n",
       "\u001b[1;31mgrad_fn\u001b[0m\u001b[1;31m=\u001b[0m\u001b[1;31m<\u001b[0m\u001b[1;31mNllLossBackward0\u001b[0m\u001b[1;31m>\u001b[0m\u001b[1;31m)\u001b[0m\n"
      ]
     },
     "metadata": {},
     "output_type": "display_data"
    },
    {
     "data": {
      "text/html": [
       "<pre style=\"white-space:pre;overflow-x:auto;line-height:normal;font-family:Menlo,'DejaVu Sans Mono',consolas,'Courier New',monospace\"><span style=\"color: #800000; text-decoration-color: #800000; font-weight: bold\">loss = tensor(</span><span style=\"color: #800000; text-decoration-color: #800000; font-weight: bold\">0.1479</span><span style=\"color: #800000; text-decoration-color: #800000; font-weight: bold\">, </span><span style=\"color: #800000; text-decoration-color: #800000; font-weight: bold\">device</span><span style=\"color: #800000; text-decoration-color: #800000; font-weight: bold\">=</span><span style=\"color: #800000; text-decoration-color: #800000; font-weight: bold\">'cuda:0'</span><span style=\"color: #800000; text-decoration-color: #800000; font-weight: bold\">) computed_loss = tensor(</span><span style=\"color: #800000; text-decoration-color: #800000; font-weight: bold\">0.1549</span><span style=\"color: #800000; text-decoration-color: #800000; font-weight: bold\">, </span><span style=\"color: #800000; text-decoration-color: #800000; font-weight: bold\">device</span><span style=\"color: #800000; text-decoration-color: #800000; font-weight: bold\">=</span><span style=\"color: #800000; text-decoration-color: #800000; font-weight: bold\">'cuda:0'</span><span style=\"color: #800000; text-decoration-color: #800000; font-weight: bold\">, </span>\n",
       "<span style=\"color: #800000; text-decoration-color: #800000; font-weight: bold\">grad_fn</span><span style=\"color: #800000; text-decoration-color: #800000; font-weight: bold\">=&lt;NllLossBackward0&gt;)</span>\n",
       "</pre>\n"
      ],
      "text/plain": [
       "\u001b[1;31mloss = \u001b[0m\u001b[1;31mtensor\u001b[0m\u001b[1;31m(\u001b[0m\u001b[1;31m0.1479\u001b[0m\u001b[1;31m, \u001b[0m\u001b[1;31mdevice\u001b[0m\u001b[1;31m=\u001b[0m\u001b[1;31m'cuda:0'\u001b[0m\u001b[1;31m)\u001b[0m\u001b[1;31m computed_loss = \u001b[0m\u001b[1;31mtensor\u001b[0m\u001b[1;31m(\u001b[0m\u001b[1;31m0.1549\u001b[0m\u001b[1;31m, \u001b[0m\u001b[1;31mdevice\u001b[0m\u001b[1;31m=\u001b[0m\u001b[1;31m'cuda:0'\u001b[0m\u001b[1;31m, \u001b[0m\n",
       "\u001b[1;31mgrad_fn\u001b[0m\u001b[1;31m=\u001b[0m\u001b[1;31m<\u001b[0m\u001b[1;31mNllLossBackward0\u001b[0m\u001b[1;31m>\u001b[0m\u001b[1;31m)\u001b[0m\n"
      ]
     },
     "metadata": {},
     "output_type": "display_data"
    },
    {
     "data": {
      "text/html": [
       "<pre style=\"white-space:pre;overflow-x:auto;line-height:normal;font-family:Menlo,'DejaVu Sans Mono',consolas,'Courier New',monospace\"><span style=\"color: #800000; text-decoration-color: #800000; font-weight: bold\">loss = tensor(</span><span style=\"color: #800000; text-decoration-color: #800000; font-weight: bold\">0.2201</span><span style=\"color: #800000; text-decoration-color: #800000; font-weight: bold\">, </span><span style=\"color: #800000; text-decoration-color: #800000; font-weight: bold\">device</span><span style=\"color: #800000; text-decoration-color: #800000; font-weight: bold\">=</span><span style=\"color: #800000; text-decoration-color: #800000; font-weight: bold\">'cuda:0'</span><span style=\"color: #800000; text-decoration-color: #800000; font-weight: bold\">) computed_loss = tensor(</span><span style=\"color: #800000; text-decoration-color: #800000; font-weight: bold\">0.2309</span><span style=\"color: #800000; text-decoration-color: #800000; font-weight: bold\">, </span><span style=\"color: #800000; text-decoration-color: #800000; font-weight: bold\">device</span><span style=\"color: #800000; text-decoration-color: #800000; font-weight: bold\">=</span><span style=\"color: #800000; text-decoration-color: #800000; font-weight: bold\">'cuda:0'</span><span style=\"color: #800000; text-decoration-color: #800000; font-weight: bold\">, </span>\n",
       "<span style=\"color: #800000; text-decoration-color: #800000; font-weight: bold\">grad_fn</span><span style=\"color: #800000; text-decoration-color: #800000; font-weight: bold\">=&lt;NllLossBackward0&gt;)</span>\n",
       "</pre>\n"
      ],
      "text/plain": [
       "\u001b[1;31mloss = \u001b[0m\u001b[1;31mtensor\u001b[0m\u001b[1;31m(\u001b[0m\u001b[1;31m0.2201\u001b[0m\u001b[1;31m, \u001b[0m\u001b[1;31mdevice\u001b[0m\u001b[1;31m=\u001b[0m\u001b[1;31m'cuda:0'\u001b[0m\u001b[1;31m)\u001b[0m\u001b[1;31m computed_loss = \u001b[0m\u001b[1;31mtensor\u001b[0m\u001b[1;31m(\u001b[0m\u001b[1;31m0.2309\u001b[0m\u001b[1;31m, \u001b[0m\u001b[1;31mdevice\u001b[0m\u001b[1;31m=\u001b[0m\u001b[1;31m'cuda:0'\u001b[0m\u001b[1;31m, \u001b[0m\n",
       "\u001b[1;31mgrad_fn\u001b[0m\u001b[1;31m=\u001b[0m\u001b[1;31m<\u001b[0m\u001b[1;31mNllLossBackward0\u001b[0m\u001b[1;31m>\u001b[0m\u001b[1;31m)\u001b[0m\n"
      ]
     },
     "metadata": {},
     "output_type": "display_data"
    },
    {
     "data": {
      "text/html": [
       "<pre style=\"white-space:pre;overflow-x:auto;line-height:normal;font-family:Menlo,'DejaVu Sans Mono',consolas,'Courier New',monospace\"><span style=\"color: #800000; text-decoration-color: #800000; font-weight: bold\">loss = tensor(</span><span style=\"color: #800000; text-decoration-color: #800000; font-weight: bold\">0.5213</span><span style=\"color: #800000; text-decoration-color: #800000; font-weight: bold\">, </span><span style=\"color: #800000; text-decoration-color: #800000; font-weight: bold\">device</span><span style=\"color: #800000; text-decoration-color: #800000; font-weight: bold\">=</span><span style=\"color: #800000; text-decoration-color: #800000; font-weight: bold\">'cuda:0'</span><span style=\"color: #800000; text-decoration-color: #800000; font-weight: bold\">) computed_loss = tensor(</span><span style=\"color: #800000; text-decoration-color: #800000; font-weight: bold\">0.5470</span><span style=\"color: #800000; text-decoration-color: #800000; font-weight: bold\">, </span><span style=\"color: #800000; text-decoration-color: #800000; font-weight: bold\">device</span><span style=\"color: #800000; text-decoration-color: #800000; font-weight: bold\">=</span><span style=\"color: #800000; text-decoration-color: #800000; font-weight: bold\">'cuda:0'</span><span style=\"color: #800000; text-decoration-color: #800000; font-weight: bold\">, </span>\n",
       "<span style=\"color: #800000; text-decoration-color: #800000; font-weight: bold\">grad_fn</span><span style=\"color: #800000; text-decoration-color: #800000; font-weight: bold\">=&lt;NllLossBackward0&gt;)</span>\n",
       "</pre>\n"
      ],
      "text/plain": [
       "\u001b[1;31mloss = \u001b[0m\u001b[1;31mtensor\u001b[0m\u001b[1;31m(\u001b[0m\u001b[1;31m0.5213\u001b[0m\u001b[1;31m, \u001b[0m\u001b[1;31mdevice\u001b[0m\u001b[1;31m=\u001b[0m\u001b[1;31m'cuda:0'\u001b[0m\u001b[1;31m)\u001b[0m\u001b[1;31m computed_loss = \u001b[0m\u001b[1;31mtensor\u001b[0m\u001b[1;31m(\u001b[0m\u001b[1;31m0.5470\u001b[0m\u001b[1;31m, \u001b[0m\u001b[1;31mdevice\u001b[0m\u001b[1;31m=\u001b[0m\u001b[1;31m'cuda:0'\u001b[0m\u001b[1;31m, \u001b[0m\n",
       "\u001b[1;31mgrad_fn\u001b[0m\u001b[1;31m=\u001b[0m\u001b[1;31m<\u001b[0m\u001b[1;31mNllLossBackward0\u001b[0m\u001b[1;31m>\u001b[0m\u001b[1;31m)\u001b[0m\n"
      ]
     },
     "metadata": {},
     "output_type": "display_data"
    },
    {
     "data": {
      "text/html": [
       "<pre style=\"white-space:pre;overflow-x:auto;line-height:normal;font-family:Menlo,'DejaVu Sans Mono',consolas,'Courier New',monospace\"><span style=\"color: #800000; text-decoration-color: #800000; font-weight: bold\">loss = tensor(</span><span style=\"color: #800000; text-decoration-color: #800000; font-weight: bold\">0.0078</span><span style=\"color: #800000; text-decoration-color: #800000; font-weight: bold\">, </span><span style=\"color: #800000; text-decoration-color: #800000; font-weight: bold\">device</span><span style=\"color: #800000; text-decoration-color: #800000; font-weight: bold\">=</span><span style=\"color: #800000; text-decoration-color: #800000; font-weight: bold\">'cuda:0'</span><span style=\"color: #800000; text-decoration-color: #800000; font-weight: bold\">) computed_loss = tensor(</span><span style=\"color: #800000; text-decoration-color: #800000; font-weight: bold\">0.0077</span><span style=\"color: #800000; text-decoration-color: #800000; font-weight: bold\">, </span><span style=\"color: #800000; text-decoration-color: #800000; font-weight: bold\">device</span><span style=\"color: #800000; text-decoration-color: #800000; font-weight: bold\">=</span><span style=\"color: #800000; text-decoration-color: #800000; font-weight: bold\">'cuda:0'</span><span style=\"color: #800000; text-decoration-color: #800000; font-weight: bold\">, </span>\n",
       "<span style=\"color: #800000; text-decoration-color: #800000; font-weight: bold\">grad_fn</span><span style=\"color: #800000; text-decoration-color: #800000; font-weight: bold\">=&lt;NllLossBackward0&gt;)</span>\n",
       "</pre>\n"
      ],
      "text/plain": [
       "\u001b[1;31mloss = \u001b[0m\u001b[1;31mtensor\u001b[0m\u001b[1;31m(\u001b[0m\u001b[1;31m0.0078\u001b[0m\u001b[1;31m, \u001b[0m\u001b[1;31mdevice\u001b[0m\u001b[1;31m=\u001b[0m\u001b[1;31m'cuda:0'\u001b[0m\u001b[1;31m)\u001b[0m\u001b[1;31m computed_loss = \u001b[0m\u001b[1;31mtensor\u001b[0m\u001b[1;31m(\u001b[0m\u001b[1;31m0.0077\u001b[0m\u001b[1;31m, \u001b[0m\u001b[1;31mdevice\u001b[0m\u001b[1;31m=\u001b[0m\u001b[1;31m'cuda:0'\u001b[0m\u001b[1;31m, \u001b[0m\n",
       "\u001b[1;31mgrad_fn\u001b[0m\u001b[1;31m=\u001b[0m\u001b[1;31m<\u001b[0m\u001b[1;31mNllLossBackward0\u001b[0m\u001b[1;31m>\u001b[0m\u001b[1;31m)\u001b[0m\n"
      ]
     },
     "metadata": {},
     "output_type": "display_data"
    },
    {
     "data": {
      "text/html": [
       "<pre style=\"white-space:pre;overflow-x:auto;line-height:normal;font-family:Menlo,'DejaVu Sans Mono',consolas,'Courier New',monospace\"><span style=\"color: #800000; text-decoration-color: #800000; font-weight: bold\">loss = tensor(</span><span style=\"color: #800000; text-decoration-color: #800000; font-weight: bold\">0.0612</span><span style=\"color: #800000; text-decoration-color: #800000; font-weight: bold\">, </span><span style=\"color: #800000; text-decoration-color: #800000; font-weight: bold\">device</span><span style=\"color: #800000; text-decoration-color: #800000; font-weight: bold\">=</span><span style=\"color: #800000; text-decoration-color: #800000; font-weight: bold\">'cuda:0'</span><span style=\"color: #800000; text-decoration-color: #800000; font-weight: bold\">) computed_loss = tensor(</span><span style=\"color: #800000; text-decoration-color: #800000; font-weight: bold\">0.0639</span><span style=\"color: #800000; text-decoration-color: #800000; font-weight: bold\">, </span><span style=\"color: #800000; text-decoration-color: #800000; font-weight: bold\">device</span><span style=\"color: #800000; text-decoration-color: #800000; font-weight: bold\">=</span><span style=\"color: #800000; text-decoration-color: #800000; font-weight: bold\">'cuda:0'</span><span style=\"color: #800000; text-decoration-color: #800000; font-weight: bold\">, </span>\n",
       "<span style=\"color: #800000; text-decoration-color: #800000; font-weight: bold\">grad_fn</span><span style=\"color: #800000; text-decoration-color: #800000; font-weight: bold\">=&lt;NllLossBackward0&gt;)</span>\n",
       "</pre>\n"
      ],
      "text/plain": [
       "\u001b[1;31mloss = \u001b[0m\u001b[1;31mtensor\u001b[0m\u001b[1;31m(\u001b[0m\u001b[1;31m0.0612\u001b[0m\u001b[1;31m, \u001b[0m\u001b[1;31mdevice\u001b[0m\u001b[1;31m=\u001b[0m\u001b[1;31m'cuda:0'\u001b[0m\u001b[1;31m)\u001b[0m\u001b[1;31m computed_loss = \u001b[0m\u001b[1;31mtensor\u001b[0m\u001b[1;31m(\u001b[0m\u001b[1;31m0.0639\u001b[0m\u001b[1;31m, \u001b[0m\u001b[1;31mdevice\u001b[0m\u001b[1;31m=\u001b[0m\u001b[1;31m'cuda:0'\u001b[0m\u001b[1;31m, \u001b[0m\n",
       "\u001b[1;31mgrad_fn\u001b[0m\u001b[1;31m=\u001b[0m\u001b[1;31m<\u001b[0m\u001b[1;31mNllLossBackward0\u001b[0m\u001b[1;31m>\u001b[0m\u001b[1;31m)\u001b[0m\n"
      ]
     },
     "metadata": {},
     "output_type": "display_data"
    },
    {
     "data": {
      "text/html": [
       "<pre style=\"white-space:pre;overflow-x:auto;line-height:normal;font-family:Menlo,'DejaVu Sans Mono',consolas,'Courier New',monospace\"><span style=\"color: #800000; text-decoration-color: #800000; font-weight: bold\">loss = tensor(</span><span style=\"color: #800000; text-decoration-color: #800000; font-weight: bold\">0.1793</span><span style=\"color: #800000; text-decoration-color: #800000; font-weight: bold\">, </span><span style=\"color: #800000; text-decoration-color: #800000; font-weight: bold\">device</span><span style=\"color: #800000; text-decoration-color: #800000; font-weight: bold\">=</span><span style=\"color: #800000; text-decoration-color: #800000; font-weight: bold\">'cuda:0'</span><span style=\"color: #800000; text-decoration-color: #800000; font-weight: bold\">) computed_loss = tensor(</span><span style=\"color: #800000; text-decoration-color: #800000; font-weight: bold\">0.1878</span><span style=\"color: #800000; text-decoration-color: #800000; font-weight: bold\">, </span><span style=\"color: #800000; text-decoration-color: #800000; font-weight: bold\">device</span><span style=\"color: #800000; text-decoration-color: #800000; font-weight: bold\">=</span><span style=\"color: #800000; text-decoration-color: #800000; font-weight: bold\">'cuda:0'</span><span style=\"color: #800000; text-decoration-color: #800000; font-weight: bold\">, </span>\n",
       "<span style=\"color: #800000; text-decoration-color: #800000; font-weight: bold\">grad_fn</span><span style=\"color: #800000; text-decoration-color: #800000; font-weight: bold\">=&lt;NllLossBackward0&gt;)</span>\n",
       "</pre>\n"
      ],
      "text/plain": [
       "\u001b[1;31mloss = \u001b[0m\u001b[1;31mtensor\u001b[0m\u001b[1;31m(\u001b[0m\u001b[1;31m0.1793\u001b[0m\u001b[1;31m, \u001b[0m\u001b[1;31mdevice\u001b[0m\u001b[1;31m=\u001b[0m\u001b[1;31m'cuda:0'\u001b[0m\u001b[1;31m)\u001b[0m\u001b[1;31m computed_loss = \u001b[0m\u001b[1;31mtensor\u001b[0m\u001b[1;31m(\u001b[0m\u001b[1;31m0.1878\u001b[0m\u001b[1;31m, \u001b[0m\u001b[1;31mdevice\u001b[0m\u001b[1;31m=\u001b[0m\u001b[1;31m'cuda:0'\u001b[0m\u001b[1;31m, \u001b[0m\n",
       "\u001b[1;31mgrad_fn\u001b[0m\u001b[1;31m=\u001b[0m\u001b[1;31m<\u001b[0m\u001b[1;31mNllLossBackward0\u001b[0m\u001b[1;31m>\u001b[0m\u001b[1;31m)\u001b[0m\n"
      ]
     },
     "metadata": {},
     "output_type": "display_data"
    },
    {
     "data": {
      "text/html": [
       "<pre style=\"white-space:pre;overflow-x:auto;line-height:normal;font-family:Menlo,'DejaVu Sans Mono',consolas,'Courier New',monospace\"><span style=\"color: #800000; text-decoration-color: #800000; font-weight: bold\">loss = tensor(</span><span style=\"color: #800000; text-decoration-color: #800000; font-weight: bold\">0.1574</span><span style=\"color: #800000; text-decoration-color: #800000; font-weight: bold\">, </span><span style=\"color: #800000; text-decoration-color: #800000; font-weight: bold\">device</span><span style=\"color: #800000; text-decoration-color: #800000; font-weight: bold\">=</span><span style=\"color: #800000; text-decoration-color: #800000; font-weight: bold\">'cuda:0'</span><span style=\"color: #800000; text-decoration-color: #800000; font-weight: bold\">) computed_loss = tensor(</span><span style=\"color: #800000; text-decoration-color: #800000; font-weight: bold\">0.1651</span><span style=\"color: #800000; text-decoration-color: #800000; font-weight: bold\">, </span><span style=\"color: #800000; text-decoration-color: #800000; font-weight: bold\">device</span><span style=\"color: #800000; text-decoration-color: #800000; font-weight: bold\">=</span><span style=\"color: #800000; text-decoration-color: #800000; font-weight: bold\">'cuda:0'</span><span style=\"color: #800000; text-decoration-color: #800000; font-weight: bold\">, </span>\n",
       "<span style=\"color: #800000; text-decoration-color: #800000; font-weight: bold\">grad_fn</span><span style=\"color: #800000; text-decoration-color: #800000; font-weight: bold\">=&lt;NllLossBackward0&gt;)</span>\n",
       "</pre>\n"
      ],
      "text/plain": [
       "\u001b[1;31mloss = \u001b[0m\u001b[1;31mtensor\u001b[0m\u001b[1;31m(\u001b[0m\u001b[1;31m0.1574\u001b[0m\u001b[1;31m, \u001b[0m\u001b[1;31mdevice\u001b[0m\u001b[1;31m=\u001b[0m\u001b[1;31m'cuda:0'\u001b[0m\u001b[1;31m)\u001b[0m\u001b[1;31m computed_loss = \u001b[0m\u001b[1;31mtensor\u001b[0m\u001b[1;31m(\u001b[0m\u001b[1;31m0.1651\u001b[0m\u001b[1;31m, \u001b[0m\u001b[1;31mdevice\u001b[0m\u001b[1;31m=\u001b[0m\u001b[1;31m'cuda:0'\u001b[0m\u001b[1;31m, \u001b[0m\n",
       "\u001b[1;31mgrad_fn\u001b[0m\u001b[1;31m=\u001b[0m\u001b[1;31m<\u001b[0m\u001b[1;31mNllLossBackward0\u001b[0m\u001b[1;31m>\u001b[0m\u001b[1;31m)\u001b[0m\n"
      ]
     },
     "metadata": {},
     "output_type": "display_data"
    },
    {
     "data": {
      "text/html": [
       "<pre style=\"white-space:pre;overflow-x:auto;line-height:normal;font-family:Menlo,'DejaVu Sans Mono',consolas,'Courier New',monospace\"><span style=\"color: #800000; text-decoration-color: #800000; font-weight: bold\">loss = tensor(</span><span style=\"color: #800000; text-decoration-color: #800000; font-weight: bold\">0.1840</span><span style=\"color: #800000; text-decoration-color: #800000; font-weight: bold\">, </span><span style=\"color: #800000; text-decoration-color: #800000; font-weight: bold\">device</span><span style=\"color: #800000; text-decoration-color: #800000; font-weight: bold\">=</span><span style=\"color: #800000; text-decoration-color: #800000; font-weight: bold\">'cuda:0'</span><span style=\"color: #800000; text-decoration-color: #800000; font-weight: bold\">) computed_loss = tensor(</span><span style=\"color: #800000; text-decoration-color: #800000; font-weight: bold\">0.1930</span><span style=\"color: #800000; text-decoration-color: #800000; font-weight: bold\">, </span><span style=\"color: #800000; text-decoration-color: #800000; font-weight: bold\">device</span><span style=\"color: #800000; text-decoration-color: #800000; font-weight: bold\">=</span><span style=\"color: #800000; text-decoration-color: #800000; font-weight: bold\">'cuda:0'</span><span style=\"color: #800000; text-decoration-color: #800000; font-weight: bold\">, </span>\n",
       "<span style=\"color: #800000; text-decoration-color: #800000; font-weight: bold\">grad_fn</span><span style=\"color: #800000; text-decoration-color: #800000; font-weight: bold\">=&lt;NllLossBackward0&gt;)</span>\n",
       "</pre>\n"
      ],
      "text/plain": [
       "\u001b[1;31mloss = \u001b[0m\u001b[1;31mtensor\u001b[0m\u001b[1;31m(\u001b[0m\u001b[1;31m0.1840\u001b[0m\u001b[1;31m, \u001b[0m\u001b[1;31mdevice\u001b[0m\u001b[1;31m=\u001b[0m\u001b[1;31m'cuda:0'\u001b[0m\u001b[1;31m)\u001b[0m\u001b[1;31m computed_loss = \u001b[0m\u001b[1;31mtensor\u001b[0m\u001b[1;31m(\u001b[0m\u001b[1;31m0.1930\u001b[0m\u001b[1;31m, \u001b[0m\u001b[1;31mdevice\u001b[0m\u001b[1;31m=\u001b[0m\u001b[1;31m'cuda:0'\u001b[0m\u001b[1;31m, \u001b[0m\n",
       "\u001b[1;31mgrad_fn\u001b[0m\u001b[1;31m=\u001b[0m\u001b[1;31m<\u001b[0m\u001b[1;31mNllLossBackward0\u001b[0m\u001b[1;31m>\u001b[0m\u001b[1;31m)\u001b[0m\n"
      ]
     },
     "metadata": {},
     "output_type": "display_data"
    },
    {
     "data": {
      "text/html": [
       "<pre style=\"white-space:pre;overflow-x:auto;line-height:normal;font-family:Menlo,'DejaVu Sans Mono',consolas,'Courier New',monospace\"><span style=\"color: #800000; text-decoration-color: #800000; font-weight: bold\">loss = tensor(</span><span style=\"color: #800000; text-decoration-color: #800000; font-weight: bold\">0.3693</span><span style=\"color: #800000; text-decoration-color: #800000; font-weight: bold\">, </span><span style=\"color: #800000; text-decoration-color: #800000; font-weight: bold\">device</span><span style=\"color: #800000; text-decoration-color: #800000; font-weight: bold\">=</span><span style=\"color: #800000; text-decoration-color: #800000; font-weight: bold\">'cuda:0'</span><span style=\"color: #800000; text-decoration-color: #800000; font-weight: bold\">) computed_loss = tensor(</span><span style=\"color: #800000; text-decoration-color: #800000; font-weight: bold\">0.3873</span><span style=\"color: #800000; text-decoration-color: #800000; font-weight: bold\">, </span><span style=\"color: #800000; text-decoration-color: #800000; font-weight: bold\">device</span><span style=\"color: #800000; text-decoration-color: #800000; font-weight: bold\">=</span><span style=\"color: #800000; text-decoration-color: #800000; font-weight: bold\">'cuda:0'</span><span style=\"color: #800000; text-decoration-color: #800000; font-weight: bold\">, </span>\n",
       "<span style=\"color: #800000; text-decoration-color: #800000; font-weight: bold\">grad_fn</span><span style=\"color: #800000; text-decoration-color: #800000; font-weight: bold\">=&lt;NllLossBackward0&gt;)</span>\n",
       "</pre>\n"
      ],
      "text/plain": [
       "\u001b[1;31mloss = \u001b[0m\u001b[1;31mtensor\u001b[0m\u001b[1;31m(\u001b[0m\u001b[1;31m0.3693\u001b[0m\u001b[1;31m, \u001b[0m\u001b[1;31mdevice\u001b[0m\u001b[1;31m=\u001b[0m\u001b[1;31m'cuda:0'\u001b[0m\u001b[1;31m)\u001b[0m\u001b[1;31m computed_loss = \u001b[0m\u001b[1;31mtensor\u001b[0m\u001b[1;31m(\u001b[0m\u001b[1;31m0.3873\u001b[0m\u001b[1;31m, \u001b[0m\u001b[1;31mdevice\u001b[0m\u001b[1;31m=\u001b[0m\u001b[1;31m'cuda:0'\u001b[0m\u001b[1;31m, \u001b[0m\n",
       "\u001b[1;31mgrad_fn\u001b[0m\u001b[1;31m=\u001b[0m\u001b[1;31m<\u001b[0m\u001b[1;31mNllLossBackward0\u001b[0m\u001b[1;31m>\u001b[0m\u001b[1;31m)\u001b[0m\n"
      ]
     },
     "metadata": {},
     "output_type": "display_data"
    },
    {
     "data": {
      "text/html": [
       "<pre style=\"white-space:pre;overflow-x:auto;line-height:normal;font-family:Menlo,'DejaVu Sans Mono',consolas,'Courier New',monospace\"><span style=\"color: #800000; text-decoration-color: #800000; font-weight: bold\">loss = tensor(</span><span style=\"color: #800000; text-decoration-color: #800000; font-weight: bold\">0.0094</span><span style=\"color: #800000; text-decoration-color: #800000; font-weight: bold\">, </span><span style=\"color: #800000; text-decoration-color: #800000; font-weight: bold\">device</span><span style=\"color: #800000; text-decoration-color: #800000; font-weight: bold\">=</span><span style=\"color: #800000; text-decoration-color: #800000; font-weight: bold\">'cuda:0'</span><span style=\"color: #800000; text-decoration-color: #800000; font-weight: bold\">) computed_loss = tensor(</span><span style=\"color: #800000; text-decoration-color: #800000; font-weight: bold\">0.0095</span><span style=\"color: #800000; text-decoration-color: #800000; font-weight: bold\">, </span><span style=\"color: #800000; text-decoration-color: #800000; font-weight: bold\">device</span><span style=\"color: #800000; text-decoration-color: #800000; font-weight: bold\">=</span><span style=\"color: #800000; text-decoration-color: #800000; font-weight: bold\">'cuda:0'</span><span style=\"color: #800000; text-decoration-color: #800000; font-weight: bold\">, </span>\n",
       "<span style=\"color: #800000; text-decoration-color: #800000; font-weight: bold\">grad_fn</span><span style=\"color: #800000; text-decoration-color: #800000; font-weight: bold\">=&lt;NllLossBackward0&gt;)</span>\n",
       "</pre>\n"
      ],
      "text/plain": [
       "\u001b[1;31mloss = \u001b[0m\u001b[1;31mtensor\u001b[0m\u001b[1;31m(\u001b[0m\u001b[1;31m0.0094\u001b[0m\u001b[1;31m, \u001b[0m\u001b[1;31mdevice\u001b[0m\u001b[1;31m=\u001b[0m\u001b[1;31m'cuda:0'\u001b[0m\u001b[1;31m)\u001b[0m\u001b[1;31m computed_loss = \u001b[0m\u001b[1;31mtensor\u001b[0m\u001b[1;31m(\u001b[0m\u001b[1;31m0.0095\u001b[0m\u001b[1;31m, \u001b[0m\u001b[1;31mdevice\u001b[0m\u001b[1;31m=\u001b[0m\u001b[1;31m'cuda:0'\u001b[0m\u001b[1;31m, \u001b[0m\n",
       "\u001b[1;31mgrad_fn\u001b[0m\u001b[1;31m=\u001b[0m\u001b[1;31m<\u001b[0m\u001b[1;31mNllLossBackward0\u001b[0m\u001b[1;31m>\u001b[0m\u001b[1;31m)\u001b[0m\n"
      ]
     },
     "metadata": {},
     "output_type": "display_data"
    },
    {
     "data": {
      "text/html": [
       "<pre style=\"white-space:pre;overflow-x:auto;line-height:normal;font-family:Menlo,'DejaVu Sans Mono',consolas,'Courier New',monospace\"><span style=\"color: #800000; text-decoration-color: #800000; font-weight: bold\">loss = tensor(</span><span style=\"color: #800000; text-decoration-color: #800000; font-weight: bold\">0.0072</span><span style=\"color: #800000; text-decoration-color: #800000; font-weight: bold\">, </span><span style=\"color: #800000; text-decoration-color: #800000; font-weight: bold\">device</span><span style=\"color: #800000; text-decoration-color: #800000; font-weight: bold\">=</span><span style=\"color: #800000; text-decoration-color: #800000; font-weight: bold\">'cuda:0'</span><span style=\"color: #800000; text-decoration-color: #800000; font-weight: bold\">) computed_loss = tensor(</span><span style=\"color: #800000; text-decoration-color: #800000; font-weight: bold\">0.0072</span><span style=\"color: #800000; text-decoration-color: #800000; font-weight: bold\">, </span><span style=\"color: #800000; text-decoration-color: #800000; font-weight: bold\">device</span><span style=\"color: #800000; text-decoration-color: #800000; font-weight: bold\">=</span><span style=\"color: #800000; text-decoration-color: #800000; font-weight: bold\">'cuda:0'</span><span style=\"color: #800000; text-decoration-color: #800000; font-weight: bold\">, </span>\n",
       "<span style=\"color: #800000; text-decoration-color: #800000; font-weight: bold\">grad_fn</span><span style=\"color: #800000; text-decoration-color: #800000; font-weight: bold\">=&lt;NllLossBackward0&gt;)</span>\n",
       "</pre>\n"
      ],
      "text/plain": [
       "\u001b[1;31mloss = \u001b[0m\u001b[1;31mtensor\u001b[0m\u001b[1;31m(\u001b[0m\u001b[1;31m0.0072\u001b[0m\u001b[1;31m, \u001b[0m\u001b[1;31mdevice\u001b[0m\u001b[1;31m=\u001b[0m\u001b[1;31m'cuda:0'\u001b[0m\u001b[1;31m)\u001b[0m\u001b[1;31m computed_loss = \u001b[0m\u001b[1;31mtensor\u001b[0m\u001b[1;31m(\u001b[0m\u001b[1;31m0.0072\u001b[0m\u001b[1;31m, \u001b[0m\u001b[1;31mdevice\u001b[0m\u001b[1;31m=\u001b[0m\u001b[1;31m'cuda:0'\u001b[0m\u001b[1;31m, \u001b[0m\n",
       "\u001b[1;31mgrad_fn\u001b[0m\u001b[1;31m=\u001b[0m\u001b[1;31m<\u001b[0m\u001b[1;31mNllLossBackward0\u001b[0m\u001b[1;31m>\u001b[0m\u001b[1;31m)\u001b[0m\n"
      ]
     },
     "metadata": {},
     "output_type": "display_data"
    },
    {
     "data": {
      "text/html": [
       "<pre style=\"white-space:pre;overflow-x:auto;line-height:normal;font-family:Menlo,'DejaVu Sans Mono',consolas,'Courier New',monospace\"><span style=\"color: #800000; text-decoration-color: #800000; font-weight: bold\">loss = tensor(</span><span style=\"color: #800000; text-decoration-color: #800000; font-weight: bold\">0.3721</span><span style=\"color: #800000; text-decoration-color: #800000; font-weight: bold\">, </span><span style=\"color: #800000; text-decoration-color: #800000; font-weight: bold\">device</span><span style=\"color: #800000; text-decoration-color: #800000; font-weight: bold\">=</span><span style=\"color: #800000; text-decoration-color: #800000; font-weight: bold\">'cuda:0'</span><span style=\"color: #800000; text-decoration-color: #800000; font-weight: bold\">) computed_loss = tensor(</span><span style=\"color: #800000; text-decoration-color: #800000; font-weight: bold\">0.3630</span><span style=\"color: #800000; text-decoration-color: #800000; font-weight: bold\">, </span><span style=\"color: #800000; text-decoration-color: #800000; font-weight: bold\">device</span><span style=\"color: #800000; text-decoration-color: #800000; font-weight: bold\">=</span><span style=\"color: #800000; text-decoration-color: #800000; font-weight: bold\">'cuda:0'</span><span style=\"color: #800000; text-decoration-color: #800000; font-weight: bold\">, </span>\n",
       "<span style=\"color: #800000; text-decoration-color: #800000; font-weight: bold\">grad_fn</span><span style=\"color: #800000; text-decoration-color: #800000; font-weight: bold\">=&lt;NllLossBackward0&gt;)</span>\n",
       "</pre>\n"
      ],
      "text/plain": [
       "\u001b[1;31mloss = \u001b[0m\u001b[1;31mtensor\u001b[0m\u001b[1;31m(\u001b[0m\u001b[1;31m0.3721\u001b[0m\u001b[1;31m, \u001b[0m\u001b[1;31mdevice\u001b[0m\u001b[1;31m=\u001b[0m\u001b[1;31m'cuda:0'\u001b[0m\u001b[1;31m)\u001b[0m\u001b[1;31m computed_loss = \u001b[0m\u001b[1;31mtensor\u001b[0m\u001b[1;31m(\u001b[0m\u001b[1;31m0.3630\u001b[0m\u001b[1;31m, \u001b[0m\u001b[1;31mdevice\u001b[0m\u001b[1;31m=\u001b[0m\u001b[1;31m'cuda:0'\u001b[0m\u001b[1;31m, \u001b[0m\n",
       "\u001b[1;31mgrad_fn\u001b[0m\u001b[1;31m=\u001b[0m\u001b[1;31m<\u001b[0m\u001b[1;31mNllLossBackward0\u001b[0m\u001b[1;31m>\u001b[0m\u001b[1;31m)\u001b[0m\n"
      ]
     },
     "metadata": {},
     "output_type": "display_data"
    },
    {
     "data": {
      "text/html": [
       "<pre style=\"white-space:pre;overflow-x:auto;line-height:normal;font-family:Menlo,'DejaVu Sans Mono',consolas,'Courier New',monospace\"><span style=\"color: #800000; text-decoration-color: #800000; font-weight: bold\">loss = tensor(</span><span style=\"color: #800000; text-decoration-color: #800000; font-weight: bold\">0.2192</span><span style=\"color: #800000; text-decoration-color: #800000; font-weight: bold\">, </span><span style=\"color: #800000; text-decoration-color: #800000; font-weight: bold\">device</span><span style=\"color: #800000; text-decoration-color: #800000; font-weight: bold\">=</span><span style=\"color: #800000; text-decoration-color: #800000; font-weight: bold\">'cuda:0'</span><span style=\"color: #800000; text-decoration-color: #800000; font-weight: bold\">) computed_loss = tensor(</span><span style=\"color: #800000; text-decoration-color: #800000; font-weight: bold\">0.1986</span><span style=\"color: #800000; text-decoration-color: #800000; font-weight: bold\">, </span><span style=\"color: #800000; text-decoration-color: #800000; font-weight: bold\">device</span><span style=\"color: #800000; text-decoration-color: #800000; font-weight: bold\">=</span><span style=\"color: #800000; text-decoration-color: #800000; font-weight: bold\">'cuda:0'</span><span style=\"color: #800000; text-decoration-color: #800000; font-weight: bold\">, </span>\n",
       "<span style=\"color: #800000; text-decoration-color: #800000; font-weight: bold\">grad_fn</span><span style=\"color: #800000; text-decoration-color: #800000; font-weight: bold\">=&lt;NllLossBackward0&gt;)</span>\n",
       "</pre>\n"
      ],
      "text/plain": [
       "\u001b[1;31mloss = \u001b[0m\u001b[1;31mtensor\u001b[0m\u001b[1;31m(\u001b[0m\u001b[1;31m0.2192\u001b[0m\u001b[1;31m, \u001b[0m\u001b[1;31mdevice\u001b[0m\u001b[1;31m=\u001b[0m\u001b[1;31m'cuda:0'\u001b[0m\u001b[1;31m)\u001b[0m\u001b[1;31m computed_loss = \u001b[0m\u001b[1;31mtensor\u001b[0m\u001b[1;31m(\u001b[0m\u001b[1;31m0.1986\u001b[0m\u001b[1;31m, \u001b[0m\u001b[1;31mdevice\u001b[0m\u001b[1;31m=\u001b[0m\u001b[1;31m'cuda:0'\u001b[0m\u001b[1;31m, \u001b[0m\n",
       "\u001b[1;31mgrad_fn\u001b[0m\u001b[1;31m=\u001b[0m\u001b[1;31m<\u001b[0m\u001b[1;31mNllLossBackward0\u001b[0m\u001b[1;31m>\u001b[0m\u001b[1;31m)\u001b[0m\n"
      ]
     },
     "metadata": {},
     "output_type": "display_data"
    },
    {
     "data": {
      "text/html": [
       "<pre style=\"white-space:pre;overflow-x:auto;line-height:normal;font-family:Menlo,'DejaVu Sans Mono',consolas,'Courier New',monospace\"><span style=\"color: #800000; text-decoration-color: #800000; font-weight: bold\">loss = tensor(</span><span style=\"color: #800000; text-decoration-color: #800000; font-weight: bold\">0.1250</span><span style=\"color: #800000; text-decoration-color: #800000; font-weight: bold\">, </span><span style=\"color: #800000; text-decoration-color: #800000; font-weight: bold\">device</span><span style=\"color: #800000; text-decoration-color: #800000; font-weight: bold\">=</span><span style=\"color: #800000; text-decoration-color: #800000; font-weight: bold\">'cuda:0'</span><span style=\"color: #800000; text-decoration-color: #800000; font-weight: bold\">) computed_loss = tensor(</span><span style=\"color: #800000; text-decoration-color: #800000; font-weight: bold\">0.1306</span><span style=\"color: #800000; text-decoration-color: #800000; font-weight: bold\">, </span><span style=\"color: #800000; text-decoration-color: #800000; font-weight: bold\">device</span><span style=\"color: #800000; text-decoration-color: #800000; font-weight: bold\">=</span><span style=\"color: #800000; text-decoration-color: #800000; font-weight: bold\">'cuda:0'</span><span style=\"color: #800000; text-decoration-color: #800000; font-weight: bold\">, </span>\n",
       "<span style=\"color: #800000; text-decoration-color: #800000; font-weight: bold\">grad_fn</span><span style=\"color: #800000; text-decoration-color: #800000; font-weight: bold\">=&lt;NllLossBackward0&gt;)</span>\n",
       "</pre>\n"
      ],
      "text/plain": [
       "\u001b[1;31mloss = \u001b[0m\u001b[1;31mtensor\u001b[0m\u001b[1;31m(\u001b[0m\u001b[1;31m0.1250\u001b[0m\u001b[1;31m, \u001b[0m\u001b[1;31mdevice\u001b[0m\u001b[1;31m=\u001b[0m\u001b[1;31m'cuda:0'\u001b[0m\u001b[1;31m)\u001b[0m\u001b[1;31m computed_loss = \u001b[0m\u001b[1;31mtensor\u001b[0m\u001b[1;31m(\u001b[0m\u001b[1;31m0.1306\u001b[0m\u001b[1;31m, \u001b[0m\u001b[1;31mdevice\u001b[0m\u001b[1;31m=\u001b[0m\u001b[1;31m'cuda:0'\u001b[0m\u001b[1;31m, \u001b[0m\n",
       "\u001b[1;31mgrad_fn\u001b[0m\u001b[1;31m=\u001b[0m\u001b[1;31m<\u001b[0m\u001b[1;31mNllLossBackward0\u001b[0m\u001b[1;31m>\u001b[0m\u001b[1;31m)\u001b[0m\n"
      ]
     },
     "metadata": {},
     "output_type": "display_data"
    },
    {
     "data": {
      "text/html": [
       "<pre style=\"white-space:pre;overflow-x:auto;line-height:normal;font-family:Menlo,'DejaVu Sans Mono',consolas,'Courier New',monospace\"><span style=\"color: #800000; text-decoration-color: #800000; font-weight: bold\">loss = tensor(</span><span style=\"color: #800000; text-decoration-color: #800000; font-weight: bold\">0.0961</span><span style=\"color: #800000; text-decoration-color: #800000; font-weight: bold\">, </span><span style=\"color: #800000; text-decoration-color: #800000; font-weight: bold\">device</span><span style=\"color: #800000; text-decoration-color: #800000; font-weight: bold\">=</span><span style=\"color: #800000; text-decoration-color: #800000; font-weight: bold\">'cuda:0'</span><span style=\"color: #800000; text-decoration-color: #800000; font-weight: bold\">) computed_loss = tensor(</span><span style=\"color: #800000; text-decoration-color: #800000; font-weight: bold\">0.1004</span><span style=\"color: #800000; text-decoration-color: #800000; font-weight: bold\">, </span><span style=\"color: #800000; text-decoration-color: #800000; font-weight: bold\">device</span><span style=\"color: #800000; text-decoration-color: #800000; font-weight: bold\">=</span><span style=\"color: #800000; text-decoration-color: #800000; font-weight: bold\">'cuda:0'</span><span style=\"color: #800000; text-decoration-color: #800000; font-weight: bold\">, </span>\n",
       "<span style=\"color: #800000; text-decoration-color: #800000; font-weight: bold\">grad_fn</span><span style=\"color: #800000; text-decoration-color: #800000; font-weight: bold\">=&lt;NllLossBackward0&gt;)</span>\n",
       "</pre>\n"
      ],
      "text/plain": [
       "\u001b[1;31mloss = \u001b[0m\u001b[1;31mtensor\u001b[0m\u001b[1;31m(\u001b[0m\u001b[1;31m0.0961\u001b[0m\u001b[1;31m, \u001b[0m\u001b[1;31mdevice\u001b[0m\u001b[1;31m=\u001b[0m\u001b[1;31m'cuda:0'\u001b[0m\u001b[1;31m)\u001b[0m\u001b[1;31m computed_loss = \u001b[0m\u001b[1;31mtensor\u001b[0m\u001b[1;31m(\u001b[0m\u001b[1;31m0.1004\u001b[0m\u001b[1;31m, \u001b[0m\u001b[1;31mdevice\u001b[0m\u001b[1;31m=\u001b[0m\u001b[1;31m'cuda:0'\u001b[0m\u001b[1;31m, \u001b[0m\n",
       "\u001b[1;31mgrad_fn\u001b[0m\u001b[1;31m=\u001b[0m\u001b[1;31m<\u001b[0m\u001b[1;31mNllLossBackward0\u001b[0m\u001b[1;31m>\u001b[0m\u001b[1;31m)\u001b[0m\n"
      ]
     },
     "metadata": {},
     "output_type": "display_data"
    },
    {
     "data": {
      "text/html": [
       "<pre style=\"white-space:pre;overflow-x:auto;line-height:normal;font-family:Menlo,'DejaVu Sans Mono',consolas,'Courier New',monospace\"><span style=\"color: #800000; text-decoration-color: #800000; font-weight: bold\">loss = tensor(</span><span style=\"color: #800000; text-decoration-color: #800000; font-weight: bold\">0.0317</span><span style=\"color: #800000; text-decoration-color: #800000; font-weight: bold\">, </span><span style=\"color: #800000; text-decoration-color: #800000; font-weight: bold\">device</span><span style=\"color: #800000; text-decoration-color: #800000; font-weight: bold\">=</span><span style=\"color: #800000; text-decoration-color: #800000; font-weight: bold\">'cuda:0'</span><span style=\"color: #800000; text-decoration-color: #800000; font-weight: bold\">) computed_loss = tensor(</span><span style=\"color: #800000; text-decoration-color: #800000; font-weight: bold\">0.0327</span><span style=\"color: #800000; text-decoration-color: #800000; font-weight: bold\">, </span><span style=\"color: #800000; text-decoration-color: #800000; font-weight: bold\">device</span><span style=\"color: #800000; text-decoration-color: #800000; font-weight: bold\">=</span><span style=\"color: #800000; text-decoration-color: #800000; font-weight: bold\">'cuda:0'</span><span style=\"color: #800000; text-decoration-color: #800000; font-weight: bold\">, </span>\n",
       "<span style=\"color: #800000; text-decoration-color: #800000; font-weight: bold\">grad_fn</span><span style=\"color: #800000; text-decoration-color: #800000; font-weight: bold\">=&lt;NllLossBackward0&gt;)</span>\n",
       "</pre>\n"
      ],
      "text/plain": [
       "\u001b[1;31mloss = \u001b[0m\u001b[1;31mtensor\u001b[0m\u001b[1;31m(\u001b[0m\u001b[1;31m0.0317\u001b[0m\u001b[1;31m, \u001b[0m\u001b[1;31mdevice\u001b[0m\u001b[1;31m=\u001b[0m\u001b[1;31m'cuda:0'\u001b[0m\u001b[1;31m)\u001b[0m\u001b[1;31m computed_loss = \u001b[0m\u001b[1;31mtensor\u001b[0m\u001b[1;31m(\u001b[0m\u001b[1;31m0.0327\u001b[0m\u001b[1;31m, \u001b[0m\u001b[1;31mdevice\u001b[0m\u001b[1;31m=\u001b[0m\u001b[1;31m'cuda:0'\u001b[0m\u001b[1;31m, \u001b[0m\n",
       "\u001b[1;31mgrad_fn\u001b[0m\u001b[1;31m=\u001b[0m\u001b[1;31m<\u001b[0m\u001b[1;31mNllLossBackward0\u001b[0m\u001b[1;31m>\u001b[0m\u001b[1;31m)\u001b[0m\n"
      ]
     },
     "metadata": {},
     "output_type": "display_data"
    },
    {
     "data": {
      "text/html": [
       "<pre style=\"white-space:pre;overflow-x:auto;line-height:normal;font-family:Menlo,'DejaVu Sans Mono',consolas,'Courier New',monospace\"><span style=\"color: #800000; text-decoration-color: #800000; font-weight: bold\">loss = tensor(</span><span style=\"color: #800000; text-decoration-color: #800000; font-weight: bold\">0.0327</span><span style=\"color: #800000; text-decoration-color: #800000; font-weight: bold\">, </span><span style=\"color: #800000; text-decoration-color: #800000; font-weight: bold\">device</span><span style=\"color: #800000; text-decoration-color: #800000; font-weight: bold\">=</span><span style=\"color: #800000; text-decoration-color: #800000; font-weight: bold\">'cuda:0'</span><span style=\"color: #800000; text-decoration-color: #800000; font-weight: bold\">) computed_loss = tensor(</span><span style=\"color: #800000; text-decoration-color: #800000; font-weight: bold\">0.0321</span><span style=\"color: #800000; text-decoration-color: #800000; font-weight: bold\">, </span><span style=\"color: #800000; text-decoration-color: #800000; font-weight: bold\">device</span><span style=\"color: #800000; text-decoration-color: #800000; font-weight: bold\">=</span><span style=\"color: #800000; text-decoration-color: #800000; font-weight: bold\">'cuda:0'</span><span style=\"color: #800000; text-decoration-color: #800000; font-weight: bold\">, </span>\n",
       "<span style=\"color: #800000; text-decoration-color: #800000; font-weight: bold\">grad_fn</span><span style=\"color: #800000; text-decoration-color: #800000; font-weight: bold\">=&lt;NllLossBackward0&gt;)</span>\n",
       "</pre>\n"
      ],
      "text/plain": [
       "\u001b[1;31mloss = \u001b[0m\u001b[1;31mtensor\u001b[0m\u001b[1;31m(\u001b[0m\u001b[1;31m0.0327\u001b[0m\u001b[1;31m, \u001b[0m\u001b[1;31mdevice\u001b[0m\u001b[1;31m=\u001b[0m\u001b[1;31m'cuda:0'\u001b[0m\u001b[1;31m)\u001b[0m\u001b[1;31m computed_loss = \u001b[0m\u001b[1;31mtensor\u001b[0m\u001b[1;31m(\u001b[0m\u001b[1;31m0.0321\u001b[0m\u001b[1;31m, \u001b[0m\u001b[1;31mdevice\u001b[0m\u001b[1;31m=\u001b[0m\u001b[1;31m'cuda:0'\u001b[0m\u001b[1;31m, \u001b[0m\n",
       "\u001b[1;31mgrad_fn\u001b[0m\u001b[1;31m=\u001b[0m\u001b[1;31m<\u001b[0m\u001b[1;31mNllLossBackward0\u001b[0m\u001b[1;31m>\u001b[0m\u001b[1;31m)\u001b[0m\n"
      ]
     },
     "metadata": {},
     "output_type": "display_data"
    },
    {
     "data": {
      "text/html": [
       "<pre style=\"white-space:pre;overflow-x:auto;line-height:normal;font-family:Menlo,'DejaVu Sans Mono',consolas,'Courier New',monospace\"><span style=\"color: #800000; text-decoration-color: #800000; font-weight: bold\">loss = tensor(</span><span style=\"color: #800000; text-decoration-color: #800000; font-weight: bold\">0.1107</span><span style=\"color: #800000; text-decoration-color: #800000; font-weight: bold\">, </span><span style=\"color: #800000; text-decoration-color: #800000; font-weight: bold\">device</span><span style=\"color: #800000; text-decoration-color: #800000; font-weight: bold\">=</span><span style=\"color: #800000; text-decoration-color: #800000; font-weight: bold\">'cuda:0'</span><span style=\"color: #800000; text-decoration-color: #800000; font-weight: bold\">) computed_loss = tensor(</span><span style=\"color: #800000; text-decoration-color: #800000; font-weight: bold\">0.1133</span><span style=\"color: #800000; text-decoration-color: #800000; font-weight: bold\">, </span><span style=\"color: #800000; text-decoration-color: #800000; font-weight: bold\">device</span><span style=\"color: #800000; text-decoration-color: #800000; font-weight: bold\">=</span><span style=\"color: #800000; text-decoration-color: #800000; font-weight: bold\">'cuda:0'</span><span style=\"color: #800000; text-decoration-color: #800000; font-weight: bold\">, </span>\n",
       "<span style=\"color: #800000; text-decoration-color: #800000; font-weight: bold\">grad_fn</span><span style=\"color: #800000; text-decoration-color: #800000; font-weight: bold\">=&lt;NllLossBackward0&gt;)</span>\n",
       "</pre>\n"
      ],
      "text/plain": [
       "\u001b[1;31mloss = \u001b[0m\u001b[1;31mtensor\u001b[0m\u001b[1;31m(\u001b[0m\u001b[1;31m0.1107\u001b[0m\u001b[1;31m, \u001b[0m\u001b[1;31mdevice\u001b[0m\u001b[1;31m=\u001b[0m\u001b[1;31m'cuda:0'\u001b[0m\u001b[1;31m)\u001b[0m\u001b[1;31m computed_loss = \u001b[0m\u001b[1;31mtensor\u001b[0m\u001b[1;31m(\u001b[0m\u001b[1;31m0.1133\u001b[0m\u001b[1;31m, \u001b[0m\u001b[1;31mdevice\u001b[0m\u001b[1;31m=\u001b[0m\u001b[1;31m'cuda:0'\u001b[0m\u001b[1;31m, \u001b[0m\n",
       "\u001b[1;31mgrad_fn\u001b[0m\u001b[1;31m=\u001b[0m\u001b[1;31m<\u001b[0m\u001b[1;31mNllLossBackward0\u001b[0m\u001b[1;31m>\u001b[0m\u001b[1;31m)\u001b[0m\n"
      ]
     },
     "metadata": {},
     "output_type": "display_data"
    },
    {
     "data": {
      "text/html": [
       "<pre style=\"white-space:pre;overflow-x:auto;line-height:normal;font-family:Menlo,'DejaVu Sans Mono',consolas,'Courier New',monospace\"><span style=\"color: #800000; text-decoration-color: #800000; font-weight: bold\">loss = tensor(</span><span style=\"color: #800000; text-decoration-color: #800000; font-weight: bold\">0.0272</span><span style=\"color: #800000; text-decoration-color: #800000; font-weight: bold\">, </span><span style=\"color: #800000; text-decoration-color: #800000; font-weight: bold\">device</span><span style=\"color: #800000; text-decoration-color: #800000; font-weight: bold\">=</span><span style=\"color: #800000; text-decoration-color: #800000; font-weight: bold\">'cuda:0'</span><span style=\"color: #800000; text-decoration-color: #800000; font-weight: bold\">) computed_loss = tensor(</span><span style=\"color: #800000; text-decoration-color: #800000; font-weight: bold\">0.0270</span><span style=\"color: #800000; text-decoration-color: #800000; font-weight: bold\">, </span><span style=\"color: #800000; text-decoration-color: #800000; font-weight: bold\">device</span><span style=\"color: #800000; text-decoration-color: #800000; font-weight: bold\">=</span><span style=\"color: #800000; text-decoration-color: #800000; font-weight: bold\">'cuda:0'</span><span style=\"color: #800000; text-decoration-color: #800000; font-weight: bold\">, </span>\n",
       "<span style=\"color: #800000; text-decoration-color: #800000; font-weight: bold\">grad_fn</span><span style=\"color: #800000; text-decoration-color: #800000; font-weight: bold\">=&lt;NllLossBackward0&gt;)</span>\n",
       "</pre>\n"
      ],
      "text/plain": [
       "\u001b[1;31mloss = \u001b[0m\u001b[1;31mtensor\u001b[0m\u001b[1;31m(\u001b[0m\u001b[1;31m0.0272\u001b[0m\u001b[1;31m, \u001b[0m\u001b[1;31mdevice\u001b[0m\u001b[1;31m=\u001b[0m\u001b[1;31m'cuda:0'\u001b[0m\u001b[1;31m)\u001b[0m\u001b[1;31m computed_loss = \u001b[0m\u001b[1;31mtensor\u001b[0m\u001b[1;31m(\u001b[0m\u001b[1;31m0.0270\u001b[0m\u001b[1;31m, \u001b[0m\u001b[1;31mdevice\u001b[0m\u001b[1;31m=\u001b[0m\u001b[1;31m'cuda:0'\u001b[0m\u001b[1;31m, \u001b[0m\n",
       "\u001b[1;31mgrad_fn\u001b[0m\u001b[1;31m=\u001b[0m\u001b[1;31m<\u001b[0m\u001b[1;31mNllLossBackward0\u001b[0m\u001b[1;31m>\u001b[0m\u001b[1;31m)\u001b[0m\n"
      ]
     },
     "metadata": {},
     "output_type": "display_data"
    },
    {
     "data": {
      "text/html": [
       "<pre style=\"white-space:pre;overflow-x:auto;line-height:normal;font-family:Menlo,'DejaVu Sans Mono',consolas,'Courier New',monospace\"><span style=\"color: #800000; text-decoration-color: #800000; font-weight: bold\">loss = tensor(</span><span style=\"color: #800000; text-decoration-color: #800000; font-weight: bold\">0.4098</span><span style=\"color: #800000; text-decoration-color: #800000; font-weight: bold\">, </span><span style=\"color: #800000; text-decoration-color: #800000; font-weight: bold\">device</span><span style=\"color: #800000; text-decoration-color: #800000; font-weight: bold\">=</span><span style=\"color: #800000; text-decoration-color: #800000; font-weight: bold\">'cuda:0'</span><span style=\"color: #800000; text-decoration-color: #800000; font-weight: bold\">) computed_loss = tensor(</span><span style=\"color: #800000; text-decoration-color: #800000; font-weight: bold\">0.4004</span><span style=\"color: #800000; text-decoration-color: #800000; font-weight: bold\">, </span><span style=\"color: #800000; text-decoration-color: #800000; font-weight: bold\">device</span><span style=\"color: #800000; text-decoration-color: #800000; font-weight: bold\">=</span><span style=\"color: #800000; text-decoration-color: #800000; font-weight: bold\">'cuda:0'</span><span style=\"color: #800000; text-decoration-color: #800000; font-weight: bold\">, </span>\n",
       "<span style=\"color: #800000; text-decoration-color: #800000; font-weight: bold\">grad_fn</span><span style=\"color: #800000; text-decoration-color: #800000; font-weight: bold\">=&lt;NllLossBackward0&gt;)</span>\n",
       "</pre>\n"
      ],
      "text/plain": [
       "\u001b[1;31mloss = \u001b[0m\u001b[1;31mtensor\u001b[0m\u001b[1;31m(\u001b[0m\u001b[1;31m0.4098\u001b[0m\u001b[1;31m, \u001b[0m\u001b[1;31mdevice\u001b[0m\u001b[1;31m=\u001b[0m\u001b[1;31m'cuda:0'\u001b[0m\u001b[1;31m)\u001b[0m\u001b[1;31m computed_loss = \u001b[0m\u001b[1;31mtensor\u001b[0m\u001b[1;31m(\u001b[0m\u001b[1;31m0.4004\u001b[0m\u001b[1;31m, \u001b[0m\u001b[1;31mdevice\u001b[0m\u001b[1;31m=\u001b[0m\u001b[1;31m'cuda:0'\u001b[0m\u001b[1;31m, \u001b[0m\n",
       "\u001b[1;31mgrad_fn\u001b[0m\u001b[1;31m=\u001b[0m\u001b[1;31m<\u001b[0m\u001b[1;31mNllLossBackward0\u001b[0m\u001b[1;31m>\u001b[0m\u001b[1;31m)\u001b[0m\n"
      ]
     },
     "metadata": {},
     "output_type": "display_data"
    },
    {
     "data": {
      "text/html": [
       "<pre style=\"white-space:pre;overflow-x:auto;line-height:normal;font-family:Menlo,'DejaVu Sans Mono',consolas,'Courier New',monospace\"><span style=\"color: #800000; text-decoration-color: #800000; font-weight: bold\">loss = tensor(</span><span style=\"color: #800000; text-decoration-color: #800000; font-weight: bold\">0.6251</span><span style=\"color: #800000; text-decoration-color: #800000; font-weight: bold\">, </span><span style=\"color: #800000; text-decoration-color: #800000; font-weight: bold\">device</span><span style=\"color: #800000; text-decoration-color: #800000; font-weight: bold\">=</span><span style=\"color: #800000; text-decoration-color: #800000; font-weight: bold\">'cuda:0'</span><span style=\"color: #800000; text-decoration-color: #800000; font-weight: bold\">) computed_loss = tensor(</span><span style=\"color: #800000; text-decoration-color: #800000; font-weight: bold\">0.6197</span><span style=\"color: #800000; text-decoration-color: #800000; font-weight: bold\">, </span><span style=\"color: #800000; text-decoration-color: #800000; font-weight: bold\">device</span><span style=\"color: #800000; text-decoration-color: #800000; font-weight: bold\">=</span><span style=\"color: #800000; text-decoration-color: #800000; font-weight: bold\">'cuda:0'</span><span style=\"color: #800000; text-decoration-color: #800000; font-weight: bold\">, </span>\n",
       "<span style=\"color: #800000; text-decoration-color: #800000; font-weight: bold\">grad_fn</span><span style=\"color: #800000; text-decoration-color: #800000; font-weight: bold\">=&lt;NllLossBackward0&gt;)</span>\n",
       "</pre>\n"
      ],
      "text/plain": [
       "\u001b[1;31mloss = \u001b[0m\u001b[1;31mtensor\u001b[0m\u001b[1;31m(\u001b[0m\u001b[1;31m0.6251\u001b[0m\u001b[1;31m, \u001b[0m\u001b[1;31mdevice\u001b[0m\u001b[1;31m=\u001b[0m\u001b[1;31m'cuda:0'\u001b[0m\u001b[1;31m)\u001b[0m\u001b[1;31m computed_loss = \u001b[0m\u001b[1;31mtensor\u001b[0m\u001b[1;31m(\u001b[0m\u001b[1;31m0.6197\u001b[0m\u001b[1;31m, \u001b[0m\u001b[1;31mdevice\u001b[0m\u001b[1;31m=\u001b[0m\u001b[1;31m'cuda:0'\u001b[0m\u001b[1;31m, \u001b[0m\n",
       "\u001b[1;31mgrad_fn\u001b[0m\u001b[1;31m=\u001b[0m\u001b[1;31m<\u001b[0m\u001b[1;31mNllLossBackward0\u001b[0m\u001b[1;31m>\u001b[0m\u001b[1;31m)\u001b[0m\n"
      ]
     },
     "metadata": {},
     "output_type": "display_data"
    },
    {
     "data": {
      "text/html": [
       "<pre style=\"white-space:pre;overflow-x:auto;line-height:normal;font-family:Menlo,'DejaVu Sans Mono',consolas,'Courier New',monospace\"><span style=\"color: #800000; text-decoration-color: #800000; font-weight: bold\">loss = tensor(</span><span style=\"color: #800000; text-decoration-color: #800000; font-weight: bold\">0.1049</span><span style=\"color: #800000; text-decoration-color: #800000; font-weight: bold\">, </span><span style=\"color: #800000; text-decoration-color: #800000; font-weight: bold\">device</span><span style=\"color: #800000; text-decoration-color: #800000; font-weight: bold\">=</span><span style=\"color: #800000; text-decoration-color: #800000; font-weight: bold\">'cuda:0'</span><span style=\"color: #800000; text-decoration-color: #800000; font-weight: bold\">) computed_loss = tensor(</span><span style=\"color: #800000; text-decoration-color: #800000; font-weight: bold\">0.0968</span><span style=\"color: #800000; text-decoration-color: #800000; font-weight: bold\">, </span><span style=\"color: #800000; text-decoration-color: #800000; font-weight: bold\">device</span><span style=\"color: #800000; text-decoration-color: #800000; font-weight: bold\">=</span><span style=\"color: #800000; text-decoration-color: #800000; font-weight: bold\">'cuda:0'</span><span style=\"color: #800000; text-decoration-color: #800000; font-weight: bold\">, </span>\n",
       "<span style=\"color: #800000; text-decoration-color: #800000; font-weight: bold\">grad_fn</span><span style=\"color: #800000; text-decoration-color: #800000; font-weight: bold\">=&lt;NllLossBackward0&gt;)</span>\n",
       "</pre>\n"
      ],
      "text/plain": [
       "\u001b[1;31mloss = \u001b[0m\u001b[1;31mtensor\u001b[0m\u001b[1;31m(\u001b[0m\u001b[1;31m0.1049\u001b[0m\u001b[1;31m, \u001b[0m\u001b[1;31mdevice\u001b[0m\u001b[1;31m=\u001b[0m\u001b[1;31m'cuda:0'\u001b[0m\u001b[1;31m)\u001b[0m\u001b[1;31m computed_loss = \u001b[0m\u001b[1;31mtensor\u001b[0m\u001b[1;31m(\u001b[0m\u001b[1;31m0.0968\u001b[0m\u001b[1;31m, \u001b[0m\u001b[1;31mdevice\u001b[0m\u001b[1;31m=\u001b[0m\u001b[1;31m'cuda:0'\u001b[0m\u001b[1;31m, \u001b[0m\n",
       "\u001b[1;31mgrad_fn\u001b[0m\u001b[1;31m=\u001b[0m\u001b[1;31m<\u001b[0m\u001b[1;31mNllLossBackward0\u001b[0m\u001b[1;31m>\u001b[0m\u001b[1;31m)\u001b[0m\n"
      ]
     },
     "metadata": {},
     "output_type": "display_data"
    },
    {
     "data": {
      "text/html": [
       "<pre style=\"white-space:pre;overflow-x:auto;line-height:normal;font-family:Menlo,'DejaVu Sans Mono',consolas,'Courier New',monospace\"><span style=\"color: #800000; text-decoration-color: #800000; font-weight: bold\">loss = tensor(</span><span style=\"color: #800000; text-decoration-color: #800000; font-weight: bold\">0.5092</span><span style=\"color: #800000; text-decoration-color: #800000; font-weight: bold\">, </span><span style=\"color: #800000; text-decoration-color: #800000; font-weight: bold\">device</span><span style=\"color: #800000; text-decoration-color: #800000; font-weight: bold\">=</span><span style=\"color: #800000; text-decoration-color: #800000; font-weight: bold\">'cuda:0'</span><span style=\"color: #800000; text-decoration-color: #800000; font-weight: bold\">) computed_loss = tensor(</span><span style=\"color: #800000; text-decoration-color: #800000; font-weight: bold\">0.5221</span><span style=\"color: #800000; text-decoration-color: #800000; font-weight: bold\">, </span><span style=\"color: #800000; text-decoration-color: #800000; font-weight: bold\">device</span><span style=\"color: #800000; text-decoration-color: #800000; font-weight: bold\">=</span><span style=\"color: #800000; text-decoration-color: #800000; font-weight: bold\">'cuda:0'</span><span style=\"color: #800000; text-decoration-color: #800000; font-weight: bold\">, </span>\n",
       "<span style=\"color: #800000; text-decoration-color: #800000; font-weight: bold\">grad_fn</span><span style=\"color: #800000; text-decoration-color: #800000; font-weight: bold\">=&lt;NllLossBackward0&gt;)</span>\n",
       "</pre>\n"
      ],
      "text/plain": [
       "\u001b[1;31mloss = \u001b[0m\u001b[1;31mtensor\u001b[0m\u001b[1;31m(\u001b[0m\u001b[1;31m0.5092\u001b[0m\u001b[1;31m, \u001b[0m\u001b[1;31mdevice\u001b[0m\u001b[1;31m=\u001b[0m\u001b[1;31m'cuda:0'\u001b[0m\u001b[1;31m)\u001b[0m\u001b[1;31m computed_loss = \u001b[0m\u001b[1;31mtensor\u001b[0m\u001b[1;31m(\u001b[0m\u001b[1;31m0.5221\u001b[0m\u001b[1;31m, \u001b[0m\u001b[1;31mdevice\u001b[0m\u001b[1;31m=\u001b[0m\u001b[1;31m'cuda:0'\u001b[0m\u001b[1;31m, \u001b[0m\n",
       "\u001b[1;31mgrad_fn\u001b[0m\u001b[1;31m=\u001b[0m\u001b[1;31m<\u001b[0m\u001b[1;31mNllLossBackward0\u001b[0m\u001b[1;31m>\u001b[0m\u001b[1;31m)\u001b[0m\n"
      ]
     },
     "metadata": {},
     "output_type": "display_data"
    },
    {
     "data": {
      "text/html": [
       "<pre style=\"white-space:pre;overflow-x:auto;line-height:normal;font-family:Menlo,'DejaVu Sans Mono',consolas,'Courier New',monospace\"><span style=\"color: #800000; text-decoration-color: #800000; font-weight: bold\">loss = tensor(</span><span style=\"color: #800000; text-decoration-color: #800000; font-weight: bold\">0.0311</span><span style=\"color: #800000; text-decoration-color: #800000; font-weight: bold\">, </span><span style=\"color: #800000; text-decoration-color: #800000; font-weight: bold\">device</span><span style=\"color: #800000; text-decoration-color: #800000; font-weight: bold\">=</span><span style=\"color: #800000; text-decoration-color: #800000; font-weight: bold\">'cuda:0'</span><span style=\"color: #800000; text-decoration-color: #800000; font-weight: bold\">) computed_loss = tensor(</span><span style=\"color: #800000; text-decoration-color: #800000; font-weight: bold\">0.0318</span><span style=\"color: #800000; text-decoration-color: #800000; font-weight: bold\">, </span><span style=\"color: #800000; text-decoration-color: #800000; font-weight: bold\">device</span><span style=\"color: #800000; text-decoration-color: #800000; font-weight: bold\">=</span><span style=\"color: #800000; text-decoration-color: #800000; font-weight: bold\">'cuda:0'</span><span style=\"color: #800000; text-decoration-color: #800000; font-weight: bold\">, </span>\n",
       "<span style=\"color: #800000; text-decoration-color: #800000; font-weight: bold\">grad_fn</span><span style=\"color: #800000; text-decoration-color: #800000; font-weight: bold\">=&lt;NllLossBackward0&gt;)</span>\n",
       "</pre>\n"
      ],
      "text/plain": [
       "\u001b[1;31mloss = \u001b[0m\u001b[1;31mtensor\u001b[0m\u001b[1;31m(\u001b[0m\u001b[1;31m0.0311\u001b[0m\u001b[1;31m, \u001b[0m\u001b[1;31mdevice\u001b[0m\u001b[1;31m=\u001b[0m\u001b[1;31m'cuda:0'\u001b[0m\u001b[1;31m)\u001b[0m\u001b[1;31m computed_loss = \u001b[0m\u001b[1;31mtensor\u001b[0m\u001b[1;31m(\u001b[0m\u001b[1;31m0.0318\u001b[0m\u001b[1;31m, \u001b[0m\u001b[1;31mdevice\u001b[0m\u001b[1;31m=\u001b[0m\u001b[1;31m'cuda:0'\u001b[0m\u001b[1;31m, \u001b[0m\n",
       "\u001b[1;31mgrad_fn\u001b[0m\u001b[1;31m=\u001b[0m\u001b[1;31m<\u001b[0m\u001b[1;31mNllLossBackward0\u001b[0m\u001b[1;31m>\u001b[0m\u001b[1;31m)\u001b[0m\n"
      ]
     },
     "metadata": {},
     "output_type": "display_data"
    },
    {
     "data": {
      "text/html": [
       "<pre style=\"white-space:pre;overflow-x:auto;line-height:normal;font-family:Menlo,'DejaVu Sans Mono',consolas,'Courier New',monospace\"><span style=\"color: #800000; text-decoration-color: #800000; font-weight: bold\">loss = tensor(</span><span style=\"color: #800000; text-decoration-color: #800000; font-weight: bold\">0.0385</span><span style=\"color: #800000; text-decoration-color: #800000; font-weight: bold\">, </span><span style=\"color: #800000; text-decoration-color: #800000; font-weight: bold\">device</span><span style=\"color: #800000; text-decoration-color: #800000; font-weight: bold\">=</span><span style=\"color: #800000; text-decoration-color: #800000; font-weight: bold\">'cuda:0'</span><span style=\"color: #800000; text-decoration-color: #800000; font-weight: bold\">) computed_loss = tensor(</span><span style=\"color: #800000; text-decoration-color: #800000; font-weight: bold\">0.0387</span><span style=\"color: #800000; text-decoration-color: #800000; font-weight: bold\">, </span><span style=\"color: #800000; text-decoration-color: #800000; font-weight: bold\">device</span><span style=\"color: #800000; text-decoration-color: #800000; font-weight: bold\">=</span><span style=\"color: #800000; text-decoration-color: #800000; font-weight: bold\">'cuda:0'</span><span style=\"color: #800000; text-decoration-color: #800000; font-weight: bold\">, </span>\n",
       "<span style=\"color: #800000; text-decoration-color: #800000; font-weight: bold\">grad_fn</span><span style=\"color: #800000; text-decoration-color: #800000; font-weight: bold\">=&lt;NllLossBackward0&gt;)</span>\n",
       "</pre>\n"
      ],
      "text/plain": [
       "\u001b[1;31mloss = \u001b[0m\u001b[1;31mtensor\u001b[0m\u001b[1;31m(\u001b[0m\u001b[1;31m0.0385\u001b[0m\u001b[1;31m, \u001b[0m\u001b[1;31mdevice\u001b[0m\u001b[1;31m=\u001b[0m\u001b[1;31m'cuda:0'\u001b[0m\u001b[1;31m)\u001b[0m\u001b[1;31m computed_loss = \u001b[0m\u001b[1;31mtensor\u001b[0m\u001b[1;31m(\u001b[0m\u001b[1;31m0.0387\u001b[0m\u001b[1;31m, \u001b[0m\u001b[1;31mdevice\u001b[0m\u001b[1;31m=\u001b[0m\u001b[1;31m'cuda:0'\u001b[0m\u001b[1;31m, \u001b[0m\n",
       "\u001b[1;31mgrad_fn\u001b[0m\u001b[1;31m=\u001b[0m\u001b[1;31m<\u001b[0m\u001b[1;31mNllLossBackward0\u001b[0m\u001b[1;31m>\u001b[0m\u001b[1;31m)\u001b[0m\n"
      ]
     },
     "metadata": {},
     "output_type": "display_data"
    },
    {
     "data": {
      "text/html": [
       "<pre style=\"white-space:pre;overflow-x:auto;line-height:normal;font-family:Menlo,'DejaVu Sans Mono',consolas,'Courier New',monospace\"><span style=\"color: #800000; text-decoration-color: #800000; font-weight: bold\">loss = tensor(</span><span style=\"color: #800000; text-decoration-color: #800000; font-weight: bold\">0.2111</span><span style=\"color: #800000; text-decoration-color: #800000; font-weight: bold\">, </span><span style=\"color: #800000; text-decoration-color: #800000; font-weight: bold\">device</span><span style=\"color: #800000; text-decoration-color: #800000; font-weight: bold\">=</span><span style=\"color: #800000; text-decoration-color: #800000; font-weight: bold\">'cuda:0'</span><span style=\"color: #800000; text-decoration-color: #800000; font-weight: bold\">) computed_loss = tensor(</span><span style=\"color: #800000; text-decoration-color: #800000; font-weight: bold\">0.1920</span><span style=\"color: #800000; text-decoration-color: #800000; font-weight: bold\">, </span><span style=\"color: #800000; text-decoration-color: #800000; font-weight: bold\">device</span><span style=\"color: #800000; text-decoration-color: #800000; font-weight: bold\">=</span><span style=\"color: #800000; text-decoration-color: #800000; font-weight: bold\">'cuda:0'</span><span style=\"color: #800000; text-decoration-color: #800000; font-weight: bold\">, </span>\n",
       "<span style=\"color: #800000; text-decoration-color: #800000; font-weight: bold\">grad_fn</span><span style=\"color: #800000; text-decoration-color: #800000; font-weight: bold\">=&lt;NllLossBackward0&gt;)</span>\n",
       "</pre>\n"
      ],
      "text/plain": [
       "\u001b[1;31mloss = \u001b[0m\u001b[1;31mtensor\u001b[0m\u001b[1;31m(\u001b[0m\u001b[1;31m0.2111\u001b[0m\u001b[1;31m, \u001b[0m\u001b[1;31mdevice\u001b[0m\u001b[1;31m=\u001b[0m\u001b[1;31m'cuda:0'\u001b[0m\u001b[1;31m)\u001b[0m\u001b[1;31m computed_loss = \u001b[0m\u001b[1;31mtensor\u001b[0m\u001b[1;31m(\u001b[0m\u001b[1;31m0.1920\u001b[0m\u001b[1;31m, \u001b[0m\u001b[1;31mdevice\u001b[0m\u001b[1;31m=\u001b[0m\u001b[1;31m'cuda:0'\u001b[0m\u001b[1;31m, \u001b[0m\n",
       "\u001b[1;31mgrad_fn\u001b[0m\u001b[1;31m=\u001b[0m\u001b[1;31m<\u001b[0m\u001b[1;31mNllLossBackward0\u001b[0m\u001b[1;31m>\u001b[0m\u001b[1;31m)\u001b[0m\n"
      ]
     },
     "metadata": {},
     "output_type": "display_data"
    },
    {
     "data": {
      "text/html": [
       "<pre style=\"white-space:pre;overflow-x:auto;line-height:normal;font-family:Menlo,'DejaVu Sans Mono',consolas,'Courier New',monospace\"><span style=\"color: #800000; text-decoration-color: #800000; font-weight: bold\">loss = tensor(</span><span style=\"color: #800000; text-decoration-color: #800000; font-weight: bold\">0.2413</span><span style=\"color: #800000; text-decoration-color: #800000; font-weight: bold\">, </span><span style=\"color: #800000; text-decoration-color: #800000; font-weight: bold\">device</span><span style=\"color: #800000; text-decoration-color: #800000; font-weight: bold\">=</span><span style=\"color: #800000; text-decoration-color: #800000; font-weight: bold\">'cuda:0'</span><span style=\"color: #800000; text-decoration-color: #800000; font-weight: bold\">) computed_loss = tensor(</span><span style=\"color: #800000; text-decoration-color: #800000; font-weight: bold\">0.2194</span><span style=\"color: #800000; text-decoration-color: #800000; font-weight: bold\">, </span><span style=\"color: #800000; text-decoration-color: #800000; font-weight: bold\">device</span><span style=\"color: #800000; text-decoration-color: #800000; font-weight: bold\">=</span><span style=\"color: #800000; text-decoration-color: #800000; font-weight: bold\">'cuda:0'</span><span style=\"color: #800000; text-decoration-color: #800000; font-weight: bold\">, </span>\n",
       "<span style=\"color: #800000; text-decoration-color: #800000; font-weight: bold\">grad_fn</span><span style=\"color: #800000; text-decoration-color: #800000; font-weight: bold\">=&lt;NllLossBackward0&gt;)</span>\n",
       "</pre>\n"
      ],
      "text/plain": [
       "\u001b[1;31mloss = \u001b[0m\u001b[1;31mtensor\u001b[0m\u001b[1;31m(\u001b[0m\u001b[1;31m0.2413\u001b[0m\u001b[1;31m, \u001b[0m\u001b[1;31mdevice\u001b[0m\u001b[1;31m=\u001b[0m\u001b[1;31m'cuda:0'\u001b[0m\u001b[1;31m)\u001b[0m\u001b[1;31m computed_loss = \u001b[0m\u001b[1;31mtensor\u001b[0m\u001b[1;31m(\u001b[0m\u001b[1;31m0.2194\u001b[0m\u001b[1;31m, \u001b[0m\u001b[1;31mdevice\u001b[0m\u001b[1;31m=\u001b[0m\u001b[1;31m'cuda:0'\u001b[0m\u001b[1;31m, \u001b[0m\n",
       "\u001b[1;31mgrad_fn\u001b[0m\u001b[1;31m=\u001b[0m\u001b[1;31m<\u001b[0m\u001b[1;31mNllLossBackward0\u001b[0m\u001b[1;31m>\u001b[0m\u001b[1;31m)\u001b[0m\n"
      ]
     },
     "metadata": {},
     "output_type": "display_data"
    },
    {
     "data": {
      "text/html": [
       "<pre style=\"white-space:pre;overflow-x:auto;line-height:normal;font-family:Menlo,'DejaVu Sans Mono',consolas,'Courier New',monospace\"><span style=\"color: #800000; text-decoration-color: #800000; font-weight: bold\">loss = tensor(</span><span style=\"color: #800000; text-decoration-color: #800000; font-weight: bold\">0.1902</span><span style=\"color: #800000; text-decoration-color: #800000; font-weight: bold\">, </span><span style=\"color: #800000; text-decoration-color: #800000; font-weight: bold\">device</span><span style=\"color: #800000; text-decoration-color: #800000; font-weight: bold\">=</span><span style=\"color: #800000; text-decoration-color: #800000; font-weight: bold\">'cuda:0'</span><span style=\"color: #800000; text-decoration-color: #800000; font-weight: bold\">) computed_loss = tensor(</span><span style=\"color: #800000; text-decoration-color: #800000; font-weight: bold\">0.1987</span><span style=\"color: #800000; text-decoration-color: #800000; font-weight: bold\">, </span><span style=\"color: #800000; text-decoration-color: #800000; font-weight: bold\">device</span><span style=\"color: #800000; text-decoration-color: #800000; font-weight: bold\">=</span><span style=\"color: #800000; text-decoration-color: #800000; font-weight: bold\">'cuda:0'</span><span style=\"color: #800000; text-decoration-color: #800000; font-weight: bold\">, </span>\n",
       "<span style=\"color: #800000; text-decoration-color: #800000; font-weight: bold\">grad_fn</span><span style=\"color: #800000; text-decoration-color: #800000; font-weight: bold\">=&lt;NllLossBackward0&gt;)</span>\n",
       "</pre>\n"
      ],
      "text/plain": [
       "\u001b[1;31mloss = \u001b[0m\u001b[1;31mtensor\u001b[0m\u001b[1;31m(\u001b[0m\u001b[1;31m0.1902\u001b[0m\u001b[1;31m, \u001b[0m\u001b[1;31mdevice\u001b[0m\u001b[1;31m=\u001b[0m\u001b[1;31m'cuda:0'\u001b[0m\u001b[1;31m)\u001b[0m\u001b[1;31m computed_loss = \u001b[0m\u001b[1;31mtensor\u001b[0m\u001b[1;31m(\u001b[0m\u001b[1;31m0.1987\u001b[0m\u001b[1;31m, \u001b[0m\u001b[1;31mdevice\u001b[0m\u001b[1;31m=\u001b[0m\u001b[1;31m'cuda:0'\u001b[0m\u001b[1;31m, \u001b[0m\n",
       "\u001b[1;31mgrad_fn\u001b[0m\u001b[1;31m=\u001b[0m\u001b[1;31m<\u001b[0m\u001b[1;31mNllLossBackward0\u001b[0m\u001b[1;31m>\u001b[0m\u001b[1;31m)\u001b[0m\n"
      ]
     },
     "metadata": {},
     "output_type": "display_data"
    },
    {
     "data": {
      "text/html": [
       "<pre style=\"white-space:pre;overflow-x:auto;line-height:normal;font-family:Menlo,'DejaVu Sans Mono',consolas,'Courier New',monospace\"><span style=\"color: #800000; text-decoration-color: #800000; font-weight: bold\">loss = tensor(</span><span style=\"color: #800000; text-decoration-color: #800000; font-weight: bold\">0.1048</span><span style=\"color: #800000; text-decoration-color: #800000; font-weight: bold\">, </span><span style=\"color: #800000; text-decoration-color: #800000; font-weight: bold\">device</span><span style=\"color: #800000; text-decoration-color: #800000; font-weight: bold\">=</span><span style=\"color: #800000; text-decoration-color: #800000; font-weight: bold\">'cuda:0'</span><span style=\"color: #800000; text-decoration-color: #800000; font-weight: bold\">) computed_loss = tensor(</span><span style=\"color: #800000; text-decoration-color: #800000; font-weight: bold\">0.1092</span><span style=\"color: #800000; text-decoration-color: #800000; font-weight: bold\">, </span><span style=\"color: #800000; text-decoration-color: #800000; font-weight: bold\">device</span><span style=\"color: #800000; text-decoration-color: #800000; font-weight: bold\">=</span><span style=\"color: #800000; text-decoration-color: #800000; font-weight: bold\">'cuda:0'</span><span style=\"color: #800000; text-decoration-color: #800000; font-weight: bold\">, </span>\n",
       "<span style=\"color: #800000; text-decoration-color: #800000; font-weight: bold\">grad_fn</span><span style=\"color: #800000; text-decoration-color: #800000; font-weight: bold\">=&lt;NllLossBackward0&gt;)</span>\n",
       "</pre>\n"
      ],
      "text/plain": [
       "\u001b[1;31mloss = \u001b[0m\u001b[1;31mtensor\u001b[0m\u001b[1;31m(\u001b[0m\u001b[1;31m0.1048\u001b[0m\u001b[1;31m, \u001b[0m\u001b[1;31mdevice\u001b[0m\u001b[1;31m=\u001b[0m\u001b[1;31m'cuda:0'\u001b[0m\u001b[1;31m)\u001b[0m\u001b[1;31m computed_loss = \u001b[0m\u001b[1;31mtensor\u001b[0m\u001b[1;31m(\u001b[0m\u001b[1;31m0.1092\u001b[0m\u001b[1;31m, \u001b[0m\u001b[1;31mdevice\u001b[0m\u001b[1;31m=\u001b[0m\u001b[1;31m'cuda:0'\u001b[0m\u001b[1;31m, \u001b[0m\n",
       "\u001b[1;31mgrad_fn\u001b[0m\u001b[1;31m=\u001b[0m\u001b[1;31m<\u001b[0m\u001b[1;31mNllLossBackward0\u001b[0m\u001b[1;31m>\u001b[0m\u001b[1;31m)\u001b[0m\n"
      ]
     },
     "metadata": {},
     "output_type": "display_data"
    },
    {
     "data": {
      "text/html": [
       "<pre style=\"white-space:pre;overflow-x:auto;line-height:normal;font-family:Menlo,'DejaVu Sans Mono',consolas,'Courier New',monospace\"><span style=\"color: #800000; text-decoration-color: #800000; font-weight: bold\">loss = tensor(</span><span style=\"color: #800000; text-decoration-color: #800000; font-weight: bold\">0.2178</span><span style=\"color: #800000; text-decoration-color: #800000; font-weight: bold\">, </span><span style=\"color: #800000; text-decoration-color: #800000; font-weight: bold\">device</span><span style=\"color: #800000; text-decoration-color: #800000; font-weight: bold\">=</span><span style=\"color: #800000; text-decoration-color: #800000; font-weight: bold\">'cuda:0'</span><span style=\"color: #800000; text-decoration-color: #800000; font-weight: bold\">) computed_loss = tensor(</span><span style=\"color: #800000; text-decoration-color: #800000; font-weight: bold\">0.2270</span><span style=\"color: #800000; text-decoration-color: #800000; font-weight: bold\">, </span><span style=\"color: #800000; text-decoration-color: #800000; font-weight: bold\">device</span><span style=\"color: #800000; text-decoration-color: #800000; font-weight: bold\">=</span><span style=\"color: #800000; text-decoration-color: #800000; font-weight: bold\">'cuda:0'</span><span style=\"color: #800000; text-decoration-color: #800000; font-weight: bold\">, </span>\n",
       "<span style=\"color: #800000; text-decoration-color: #800000; font-weight: bold\">grad_fn</span><span style=\"color: #800000; text-decoration-color: #800000; font-weight: bold\">=&lt;NllLossBackward0&gt;)</span>\n",
       "</pre>\n"
      ],
      "text/plain": [
       "\u001b[1;31mloss = \u001b[0m\u001b[1;31mtensor\u001b[0m\u001b[1;31m(\u001b[0m\u001b[1;31m0.2178\u001b[0m\u001b[1;31m, \u001b[0m\u001b[1;31mdevice\u001b[0m\u001b[1;31m=\u001b[0m\u001b[1;31m'cuda:0'\u001b[0m\u001b[1;31m)\u001b[0m\u001b[1;31m computed_loss = \u001b[0m\u001b[1;31mtensor\u001b[0m\u001b[1;31m(\u001b[0m\u001b[1;31m0.2270\u001b[0m\u001b[1;31m, \u001b[0m\u001b[1;31mdevice\u001b[0m\u001b[1;31m=\u001b[0m\u001b[1;31m'cuda:0'\u001b[0m\u001b[1;31m, \u001b[0m\n",
       "\u001b[1;31mgrad_fn\u001b[0m\u001b[1;31m=\u001b[0m\u001b[1;31m<\u001b[0m\u001b[1;31mNllLossBackward0\u001b[0m\u001b[1;31m>\u001b[0m\u001b[1;31m)\u001b[0m\n"
      ]
     },
     "metadata": {},
     "output_type": "display_data"
    },
    {
     "data": {
      "text/html": [
       "<pre style=\"white-space:pre;overflow-x:auto;line-height:normal;font-family:Menlo,'DejaVu Sans Mono',consolas,'Courier New',monospace\"><span style=\"color: #800000; text-decoration-color: #800000; font-weight: bold\">loss = tensor(</span><span style=\"color: #800000; text-decoration-color: #800000; font-weight: bold\">0.2349</span><span style=\"color: #800000; text-decoration-color: #800000; font-weight: bold\">, </span><span style=\"color: #800000; text-decoration-color: #800000; font-weight: bold\">device</span><span style=\"color: #800000; text-decoration-color: #800000; font-weight: bold\">=</span><span style=\"color: #800000; text-decoration-color: #800000; font-weight: bold\">'cuda:0'</span><span style=\"color: #800000; text-decoration-color: #800000; font-weight: bold\">) computed_loss = tensor(</span><span style=\"color: #800000; text-decoration-color: #800000; font-weight: bold\">0.2454</span><span style=\"color: #800000; text-decoration-color: #800000; font-weight: bold\">, </span><span style=\"color: #800000; text-decoration-color: #800000; font-weight: bold\">device</span><span style=\"color: #800000; text-decoration-color: #800000; font-weight: bold\">=</span><span style=\"color: #800000; text-decoration-color: #800000; font-weight: bold\">'cuda:0'</span><span style=\"color: #800000; text-decoration-color: #800000; font-weight: bold\">, </span>\n",
       "<span style=\"color: #800000; text-decoration-color: #800000; font-weight: bold\">grad_fn</span><span style=\"color: #800000; text-decoration-color: #800000; font-weight: bold\">=&lt;NllLossBackward0&gt;)</span>\n",
       "</pre>\n"
      ],
      "text/plain": [
       "\u001b[1;31mloss = \u001b[0m\u001b[1;31mtensor\u001b[0m\u001b[1;31m(\u001b[0m\u001b[1;31m0.2349\u001b[0m\u001b[1;31m, \u001b[0m\u001b[1;31mdevice\u001b[0m\u001b[1;31m=\u001b[0m\u001b[1;31m'cuda:0'\u001b[0m\u001b[1;31m)\u001b[0m\u001b[1;31m computed_loss = \u001b[0m\u001b[1;31mtensor\u001b[0m\u001b[1;31m(\u001b[0m\u001b[1;31m0.2454\u001b[0m\u001b[1;31m, \u001b[0m\u001b[1;31mdevice\u001b[0m\u001b[1;31m=\u001b[0m\u001b[1;31m'cuda:0'\u001b[0m\u001b[1;31m, \u001b[0m\n",
       "\u001b[1;31mgrad_fn\u001b[0m\u001b[1;31m=\u001b[0m\u001b[1;31m<\u001b[0m\u001b[1;31mNllLossBackward0\u001b[0m\u001b[1;31m>\u001b[0m\u001b[1;31m)\u001b[0m\n"
      ]
     },
     "metadata": {},
     "output_type": "display_data"
    },
    {
     "data": {
      "text/html": [
       "<pre style=\"white-space:pre;overflow-x:auto;line-height:normal;font-family:Menlo,'DejaVu Sans Mono',consolas,'Courier New',monospace\"><span style=\"color: #800000; text-decoration-color: #800000; font-weight: bold\">loss = tensor(</span><span style=\"color: #800000; text-decoration-color: #800000; font-weight: bold\">0.0273</span><span style=\"color: #800000; text-decoration-color: #800000; font-weight: bold\">, </span><span style=\"color: #800000; text-decoration-color: #800000; font-weight: bold\">device</span><span style=\"color: #800000; text-decoration-color: #800000; font-weight: bold\">=</span><span style=\"color: #800000; text-decoration-color: #800000; font-weight: bold\">'cuda:0'</span><span style=\"color: #800000; text-decoration-color: #800000; font-weight: bold\">) computed_loss = tensor(</span><span style=\"color: #800000; text-decoration-color: #800000; font-weight: bold\">0.0273</span><span style=\"color: #800000; text-decoration-color: #800000; font-weight: bold\">, </span><span style=\"color: #800000; text-decoration-color: #800000; font-weight: bold\">device</span><span style=\"color: #800000; text-decoration-color: #800000; font-weight: bold\">=</span><span style=\"color: #800000; text-decoration-color: #800000; font-weight: bold\">'cuda:0'</span><span style=\"color: #800000; text-decoration-color: #800000; font-weight: bold\">, </span>\n",
       "<span style=\"color: #800000; text-decoration-color: #800000; font-weight: bold\">grad_fn</span><span style=\"color: #800000; text-decoration-color: #800000; font-weight: bold\">=&lt;NllLossBackward0&gt;)</span>\n",
       "</pre>\n"
      ],
      "text/plain": [
       "\u001b[1;31mloss = \u001b[0m\u001b[1;31mtensor\u001b[0m\u001b[1;31m(\u001b[0m\u001b[1;31m0.0273\u001b[0m\u001b[1;31m, \u001b[0m\u001b[1;31mdevice\u001b[0m\u001b[1;31m=\u001b[0m\u001b[1;31m'cuda:0'\u001b[0m\u001b[1;31m)\u001b[0m\u001b[1;31m computed_loss = \u001b[0m\u001b[1;31mtensor\u001b[0m\u001b[1;31m(\u001b[0m\u001b[1;31m0.0273\u001b[0m\u001b[1;31m, \u001b[0m\u001b[1;31mdevice\u001b[0m\u001b[1;31m=\u001b[0m\u001b[1;31m'cuda:0'\u001b[0m\u001b[1;31m, \u001b[0m\n",
       "\u001b[1;31mgrad_fn\u001b[0m\u001b[1;31m=\u001b[0m\u001b[1;31m<\u001b[0m\u001b[1;31mNllLossBackward0\u001b[0m\u001b[1;31m>\u001b[0m\u001b[1;31m)\u001b[0m\n"
      ]
     },
     "metadata": {},
     "output_type": "display_data"
    },
    {
     "data": {
      "text/html": [
       "<pre style=\"white-space:pre;overflow-x:auto;line-height:normal;font-family:Menlo,'DejaVu Sans Mono',consolas,'Courier New',monospace\"><span style=\"color: #800000; text-decoration-color: #800000; font-weight: bold\">loss = tensor(</span><span style=\"color: #800000; text-decoration-color: #800000; font-weight: bold\">0.1311</span><span style=\"color: #800000; text-decoration-color: #800000; font-weight: bold\">, </span><span style=\"color: #800000; text-decoration-color: #800000; font-weight: bold\">device</span><span style=\"color: #800000; text-decoration-color: #800000; font-weight: bold\">=</span><span style=\"color: #800000; text-decoration-color: #800000; font-weight: bold\">'cuda:0'</span><span style=\"color: #800000; text-decoration-color: #800000; font-weight: bold\">) computed_loss = tensor(</span><span style=\"color: #800000; text-decoration-color: #800000; font-weight: bold\">0.1353</span><span style=\"color: #800000; text-decoration-color: #800000; font-weight: bold\">, </span><span style=\"color: #800000; text-decoration-color: #800000; font-weight: bold\">device</span><span style=\"color: #800000; text-decoration-color: #800000; font-weight: bold\">=</span><span style=\"color: #800000; text-decoration-color: #800000; font-weight: bold\">'cuda:0'</span><span style=\"color: #800000; text-decoration-color: #800000; font-weight: bold\">, </span>\n",
       "<span style=\"color: #800000; text-decoration-color: #800000; font-weight: bold\">grad_fn</span><span style=\"color: #800000; text-decoration-color: #800000; font-weight: bold\">=&lt;NllLossBackward0&gt;)</span>\n",
       "</pre>\n"
      ],
      "text/plain": [
       "\u001b[1;31mloss = \u001b[0m\u001b[1;31mtensor\u001b[0m\u001b[1;31m(\u001b[0m\u001b[1;31m0.1311\u001b[0m\u001b[1;31m, \u001b[0m\u001b[1;31mdevice\u001b[0m\u001b[1;31m=\u001b[0m\u001b[1;31m'cuda:0'\u001b[0m\u001b[1;31m)\u001b[0m\u001b[1;31m computed_loss = \u001b[0m\u001b[1;31mtensor\u001b[0m\u001b[1;31m(\u001b[0m\u001b[1;31m0.1353\u001b[0m\u001b[1;31m, \u001b[0m\u001b[1;31mdevice\u001b[0m\u001b[1;31m=\u001b[0m\u001b[1;31m'cuda:0'\u001b[0m\u001b[1;31m, \u001b[0m\n",
       "\u001b[1;31mgrad_fn\u001b[0m\u001b[1;31m=\u001b[0m\u001b[1;31m<\u001b[0m\u001b[1;31mNllLossBackward0\u001b[0m\u001b[1;31m>\u001b[0m\u001b[1;31m)\u001b[0m\n"
      ]
     },
     "metadata": {},
     "output_type": "display_data"
    },
    {
     "data": {
      "text/html": [
       "<pre style=\"white-space:pre;overflow-x:auto;line-height:normal;font-family:Menlo,'DejaVu Sans Mono',consolas,'Courier New',monospace\"><span style=\"color: #800000; text-decoration-color: #800000; font-weight: bold\">loss = tensor(</span><span style=\"color: #800000; text-decoration-color: #800000; font-weight: bold\">0.0477</span><span style=\"color: #800000; text-decoration-color: #800000; font-weight: bold\">, </span><span style=\"color: #800000; text-decoration-color: #800000; font-weight: bold\">device</span><span style=\"color: #800000; text-decoration-color: #800000; font-weight: bold\">=</span><span style=\"color: #800000; text-decoration-color: #800000; font-weight: bold\">'cuda:0'</span><span style=\"color: #800000; text-decoration-color: #800000; font-weight: bold\">) computed_loss = tensor(</span><span style=\"color: #800000; text-decoration-color: #800000; font-weight: bold\">0.0466</span><span style=\"color: #800000; text-decoration-color: #800000; font-weight: bold\">, </span><span style=\"color: #800000; text-decoration-color: #800000; font-weight: bold\">device</span><span style=\"color: #800000; text-decoration-color: #800000; font-weight: bold\">=</span><span style=\"color: #800000; text-decoration-color: #800000; font-weight: bold\">'cuda:0'</span><span style=\"color: #800000; text-decoration-color: #800000; font-weight: bold\">, </span>\n",
       "<span style=\"color: #800000; text-decoration-color: #800000; font-weight: bold\">grad_fn</span><span style=\"color: #800000; text-decoration-color: #800000; font-weight: bold\">=&lt;NllLossBackward0&gt;)</span>\n",
       "</pre>\n"
      ],
      "text/plain": [
       "\u001b[1;31mloss = \u001b[0m\u001b[1;31mtensor\u001b[0m\u001b[1;31m(\u001b[0m\u001b[1;31m0.0477\u001b[0m\u001b[1;31m, \u001b[0m\u001b[1;31mdevice\u001b[0m\u001b[1;31m=\u001b[0m\u001b[1;31m'cuda:0'\u001b[0m\u001b[1;31m)\u001b[0m\u001b[1;31m computed_loss = \u001b[0m\u001b[1;31mtensor\u001b[0m\u001b[1;31m(\u001b[0m\u001b[1;31m0.0466\u001b[0m\u001b[1;31m, \u001b[0m\u001b[1;31mdevice\u001b[0m\u001b[1;31m=\u001b[0m\u001b[1;31m'cuda:0'\u001b[0m\u001b[1;31m, \u001b[0m\n",
       "\u001b[1;31mgrad_fn\u001b[0m\u001b[1;31m=\u001b[0m\u001b[1;31m<\u001b[0m\u001b[1;31mNllLossBackward0\u001b[0m\u001b[1;31m>\u001b[0m\u001b[1;31m)\u001b[0m\n"
      ]
     },
     "metadata": {},
     "output_type": "display_data"
    },
    {
     "data": {
      "text/html": [
       "<pre style=\"white-space:pre;overflow-x:auto;line-height:normal;font-family:Menlo,'DejaVu Sans Mono',consolas,'Courier New',monospace\"><span style=\"color: #800000; text-decoration-color: #800000; font-weight: bold\">loss = tensor(</span><span style=\"color: #800000; text-decoration-color: #800000; font-weight: bold\">0.2120</span><span style=\"color: #800000; text-decoration-color: #800000; font-weight: bold\">, </span><span style=\"color: #800000; text-decoration-color: #800000; font-weight: bold\">device</span><span style=\"color: #800000; text-decoration-color: #800000; font-weight: bold\">=</span><span style=\"color: #800000; text-decoration-color: #800000; font-weight: bold\">'cuda:0'</span><span style=\"color: #800000; text-decoration-color: #800000; font-weight: bold\">) computed_loss = tensor(</span><span style=\"color: #800000; text-decoration-color: #800000; font-weight: bold\">0.1943</span><span style=\"color: #800000; text-decoration-color: #800000; font-weight: bold\">, </span><span style=\"color: #800000; text-decoration-color: #800000; font-weight: bold\">device</span><span style=\"color: #800000; text-decoration-color: #800000; font-weight: bold\">=</span><span style=\"color: #800000; text-decoration-color: #800000; font-weight: bold\">'cuda:0'</span><span style=\"color: #800000; text-decoration-color: #800000; font-weight: bold\">, </span>\n",
       "<span style=\"color: #800000; text-decoration-color: #800000; font-weight: bold\">grad_fn</span><span style=\"color: #800000; text-decoration-color: #800000; font-weight: bold\">=&lt;NllLossBackward0&gt;)</span>\n",
       "</pre>\n"
      ],
      "text/plain": [
       "\u001b[1;31mloss = \u001b[0m\u001b[1;31mtensor\u001b[0m\u001b[1;31m(\u001b[0m\u001b[1;31m0.2120\u001b[0m\u001b[1;31m, \u001b[0m\u001b[1;31mdevice\u001b[0m\u001b[1;31m=\u001b[0m\u001b[1;31m'cuda:0'\u001b[0m\u001b[1;31m)\u001b[0m\u001b[1;31m computed_loss = \u001b[0m\u001b[1;31mtensor\u001b[0m\u001b[1;31m(\u001b[0m\u001b[1;31m0.1943\u001b[0m\u001b[1;31m, \u001b[0m\u001b[1;31mdevice\u001b[0m\u001b[1;31m=\u001b[0m\u001b[1;31m'cuda:0'\u001b[0m\u001b[1;31m, \u001b[0m\n",
       "\u001b[1;31mgrad_fn\u001b[0m\u001b[1;31m=\u001b[0m\u001b[1;31m<\u001b[0m\u001b[1;31mNllLossBackward0\u001b[0m\u001b[1;31m>\u001b[0m\u001b[1;31m)\u001b[0m\n"
      ]
     },
     "metadata": {},
     "output_type": "display_data"
    },
    {
     "data": {
      "text/html": [
       "<pre style=\"white-space:pre;overflow-x:auto;line-height:normal;font-family:Menlo,'DejaVu Sans Mono',consolas,'Courier New',monospace\"><span style=\"color: #800000; text-decoration-color: #800000; font-weight: bold\">loss = tensor(</span><span style=\"color: #800000; text-decoration-color: #800000; font-weight: bold\">0.2098</span><span style=\"color: #800000; text-decoration-color: #800000; font-weight: bold\">, </span><span style=\"color: #800000; text-decoration-color: #800000; font-weight: bold\">device</span><span style=\"color: #800000; text-decoration-color: #800000; font-weight: bold\">=</span><span style=\"color: #800000; text-decoration-color: #800000; font-weight: bold\">'cuda:0'</span><span style=\"color: #800000; text-decoration-color: #800000; font-weight: bold\">) computed_loss = tensor(</span><span style=\"color: #800000; text-decoration-color: #800000; font-weight: bold\">0.2129</span><span style=\"color: #800000; text-decoration-color: #800000; font-weight: bold\">, </span><span style=\"color: #800000; text-decoration-color: #800000; font-weight: bold\">device</span><span style=\"color: #800000; text-decoration-color: #800000; font-weight: bold\">=</span><span style=\"color: #800000; text-decoration-color: #800000; font-weight: bold\">'cuda:0'</span><span style=\"color: #800000; text-decoration-color: #800000; font-weight: bold\">, </span>\n",
       "<span style=\"color: #800000; text-decoration-color: #800000; font-weight: bold\">grad_fn</span><span style=\"color: #800000; text-decoration-color: #800000; font-weight: bold\">=&lt;NllLossBackward0&gt;)</span>\n",
       "</pre>\n"
      ],
      "text/plain": [
       "\u001b[1;31mloss = \u001b[0m\u001b[1;31mtensor\u001b[0m\u001b[1;31m(\u001b[0m\u001b[1;31m0.2098\u001b[0m\u001b[1;31m, \u001b[0m\u001b[1;31mdevice\u001b[0m\u001b[1;31m=\u001b[0m\u001b[1;31m'cuda:0'\u001b[0m\u001b[1;31m)\u001b[0m\u001b[1;31m computed_loss = \u001b[0m\u001b[1;31mtensor\u001b[0m\u001b[1;31m(\u001b[0m\u001b[1;31m0.2129\u001b[0m\u001b[1;31m, \u001b[0m\u001b[1;31mdevice\u001b[0m\u001b[1;31m=\u001b[0m\u001b[1;31m'cuda:0'\u001b[0m\u001b[1;31m, \u001b[0m\n",
       "\u001b[1;31mgrad_fn\u001b[0m\u001b[1;31m=\u001b[0m\u001b[1;31m<\u001b[0m\u001b[1;31mNllLossBackward0\u001b[0m\u001b[1;31m>\u001b[0m\u001b[1;31m)\u001b[0m\n"
      ]
     },
     "metadata": {},
     "output_type": "display_data"
    },
    {
     "data": {
      "text/html": [
       "<pre style=\"white-space:pre;overflow-x:auto;line-height:normal;font-family:Menlo,'DejaVu Sans Mono',consolas,'Courier New',monospace\"><span style=\"color: #800000; text-decoration-color: #800000; font-weight: bold\">loss = tensor(</span><span style=\"color: #800000; text-decoration-color: #800000; font-weight: bold\">0.1509</span><span style=\"color: #800000; text-decoration-color: #800000; font-weight: bold\">, </span><span style=\"color: #800000; text-decoration-color: #800000; font-weight: bold\">device</span><span style=\"color: #800000; text-decoration-color: #800000; font-weight: bold\">=</span><span style=\"color: #800000; text-decoration-color: #800000; font-weight: bold\">'cuda:0'</span><span style=\"color: #800000; text-decoration-color: #800000; font-weight: bold\">) computed_loss = tensor(</span><span style=\"color: #800000; text-decoration-color: #800000; font-weight: bold\">0.1569</span><span style=\"color: #800000; text-decoration-color: #800000; font-weight: bold\">, </span><span style=\"color: #800000; text-decoration-color: #800000; font-weight: bold\">device</span><span style=\"color: #800000; text-decoration-color: #800000; font-weight: bold\">=</span><span style=\"color: #800000; text-decoration-color: #800000; font-weight: bold\">'cuda:0'</span><span style=\"color: #800000; text-decoration-color: #800000; font-weight: bold\">, </span>\n",
       "<span style=\"color: #800000; text-decoration-color: #800000; font-weight: bold\">grad_fn</span><span style=\"color: #800000; text-decoration-color: #800000; font-weight: bold\">=&lt;NllLossBackward0&gt;)</span>\n",
       "</pre>\n"
      ],
      "text/plain": [
       "\u001b[1;31mloss = \u001b[0m\u001b[1;31mtensor\u001b[0m\u001b[1;31m(\u001b[0m\u001b[1;31m0.1509\u001b[0m\u001b[1;31m, \u001b[0m\u001b[1;31mdevice\u001b[0m\u001b[1;31m=\u001b[0m\u001b[1;31m'cuda:0'\u001b[0m\u001b[1;31m)\u001b[0m\u001b[1;31m computed_loss = \u001b[0m\u001b[1;31mtensor\u001b[0m\u001b[1;31m(\u001b[0m\u001b[1;31m0.1569\u001b[0m\u001b[1;31m, \u001b[0m\u001b[1;31mdevice\u001b[0m\u001b[1;31m=\u001b[0m\u001b[1;31m'cuda:0'\u001b[0m\u001b[1;31m, \u001b[0m\n",
       "\u001b[1;31mgrad_fn\u001b[0m\u001b[1;31m=\u001b[0m\u001b[1;31m<\u001b[0m\u001b[1;31mNllLossBackward0\u001b[0m\u001b[1;31m>\u001b[0m\u001b[1;31m)\u001b[0m\n"
      ]
     },
     "metadata": {},
     "output_type": "display_data"
    },
    {
     "data": {
      "text/html": [
       "<pre style=\"white-space:pre;overflow-x:auto;line-height:normal;font-family:Menlo,'DejaVu Sans Mono',consolas,'Courier New',monospace\"><span style=\"color: #800000; text-decoration-color: #800000; font-weight: bold\">loss = tensor(</span><span style=\"color: #800000; text-decoration-color: #800000; font-weight: bold\">0.1321</span><span style=\"color: #800000; text-decoration-color: #800000; font-weight: bold\">, </span><span style=\"color: #800000; text-decoration-color: #800000; font-weight: bold\">device</span><span style=\"color: #800000; text-decoration-color: #800000; font-weight: bold\">=</span><span style=\"color: #800000; text-decoration-color: #800000; font-weight: bold\">'cuda:0'</span><span style=\"color: #800000; text-decoration-color: #800000; font-weight: bold\">) computed_loss = tensor(</span><span style=\"color: #800000; text-decoration-color: #800000; font-weight: bold\">0.1315</span><span style=\"color: #800000; text-decoration-color: #800000; font-weight: bold\">, </span><span style=\"color: #800000; text-decoration-color: #800000; font-weight: bold\">device</span><span style=\"color: #800000; text-decoration-color: #800000; font-weight: bold\">=</span><span style=\"color: #800000; text-decoration-color: #800000; font-weight: bold\">'cuda:0'</span><span style=\"color: #800000; text-decoration-color: #800000; font-weight: bold\">, </span>\n",
       "<span style=\"color: #800000; text-decoration-color: #800000; font-weight: bold\">grad_fn</span><span style=\"color: #800000; text-decoration-color: #800000; font-weight: bold\">=&lt;NllLossBackward0&gt;)</span>\n",
       "</pre>\n"
      ],
      "text/plain": [
       "\u001b[1;31mloss = \u001b[0m\u001b[1;31mtensor\u001b[0m\u001b[1;31m(\u001b[0m\u001b[1;31m0.1321\u001b[0m\u001b[1;31m, \u001b[0m\u001b[1;31mdevice\u001b[0m\u001b[1;31m=\u001b[0m\u001b[1;31m'cuda:0'\u001b[0m\u001b[1;31m)\u001b[0m\u001b[1;31m computed_loss = \u001b[0m\u001b[1;31mtensor\u001b[0m\u001b[1;31m(\u001b[0m\u001b[1;31m0.1315\u001b[0m\u001b[1;31m, \u001b[0m\u001b[1;31mdevice\u001b[0m\u001b[1;31m=\u001b[0m\u001b[1;31m'cuda:0'\u001b[0m\u001b[1;31m, \u001b[0m\n",
       "\u001b[1;31mgrad_fn\u001b[0m\u001b[1;31m=\u001b[0m\u001b[1;31m<\u001b[0m\u001b[1;31mNllLossBackward0\u001b[0m\u001b[1;31m>\u001b[0m\u001b[1;31m)\u001b[0m\n"
      ]
     },
     "metadata": {},
     "output_type": "display_data"
    },
    {
     "data": {
      "text/html": [
       "<pre style=\"white-space:pre;overflow-x:auto;line-height:normal;font-family:Menlo,'DejaVu Sans Mono',consolas,'Courier New',monospace\"><span style=\"color: #800000; text-decoration-color: #800000; font-weight: bold\">loss = tensor(</span><span style=\"color: #800000; text-decoration-color: #800000; font-weight: bold\">0.3852</span><span style=\"color: #800000; text-decoration-color: #800000; font-weight: bold\">, </span><span style=\"color: #800000; text-decoration-color: #800000; font-weight: bold\">device</span><span style=\"color: #800000; text-decoration-color: #800000; font-weight: bold\">=</span><span style=\"color: #800000; text-decoration-color: #800000; font-weight: bold\">'cuda:0'</span><span style=\"color: #800000; text-decoration-color: #800000; font-weight: bold\">) computed_loss = tensor(</span><span style=\"color: #800000; text-decoration-color: #800000; font-weight: bold\">0.3753</span><span style=\"color: #800000; text-decoration-color: #800000; font-weight: bold\">, </span><span style=\"color: #800000; text-decoration-color: #800000; font-weight: bold\">device</span><span style=\"color: #800000; text-decoration-color: #800000; font-weight: bold\">=</span><span style=\"color: #800000; text-decoration-color: #800000; font-weight: bold\">'cuda:0'</span><span style=\"color: #800000; text-decoration-color: #800000; font-weight: bold\">, </span>\n",
       "<span style=\"color: #800000; text-decoration-color: #800000; font-weight: bold\">grad_fn</span><span style=\"color: #800000; text-decoration-color: #800000; font-weight: bold\">=&lt;NllLossBackward0&gt;)</span>\n",
       "</pre>\n"
      ],
      "text/plain": [
       "\u001b[1;31mloss = \u001b[0m\u001b[1;31mtensor\u001b[0m\u001b[1;31m(\u001b[0m\u001b[1;31m0.3852\u001b[0m\u001b[1;31m, \u001b[0m\u001b[1;31mdevice\u001b[0m\u001b[1;31m=\u001b[0m\u001b[1;31m'cuda:0'\u001b[0m\u001b[1;31m)\u001b[0m\u001b[1;31m computed_loss = \u001b[0m\u001b[1;31mtensor\u001b[0m\u001b[1;31m(\u001b[0m\u001b[1;31m0.3753\u001b[0m\u001b[1;31m, \u001b[0m\u001b[1;31mdevice\u001b[0m\u001b[1;31m=\u001b[0m\u001b[1;31m'cuda:0'\u001b[0m\u001b[1;31m, \u001b[0m\n",
       "\u001b[1;31mgrad_fn\u001b[0m\u001b[1;31m=\u001b[0m\u001b[1;31m<\u001b[0m\u001b[1;31mNllLossBackward0\u001b[0m\u001b[1;31m>\u001b[0m\u001b[1;31m)\u001b[0m\n"
      ]
     },
     "metadata": {},
     "output_type": "display_data"
    },
    {
     "data": {
      "text/html": [
       "<pre style=\"white-space:pre;overflow-x:auto;line-height:normal;font-family:Menlo,'DejaVu Sans Mono',consolas,'Courier New',monospace\"><span style=\"color: #800000; text-decoration-color: #800000; font-weight: bold\">loss = tensor(</span><span style=\"color: #800000; text-decoration-color: #800000; font-weight: bold\">0.5568</span><span style=\"color: #800000; text-decoration-color: #800000; font-weight: bold\">, </span><span style=\"color: #800000; text-decoration-color: #800000; font-weight: bold\">device</span><span style=\"color: #800000; text-decoration-color: #800000; font-weight: bold\">=</span><span style=\"color: #800000; text-decoration-color: #800000; font-weight: bold\">'cuda:0'</span><span style=\"color: #800000; text-decoration-color: #800000; font-weight: bold\">) computed_loss = tensor(</span><span style=\"color: #800000; text-decoration-color: #800000; font-weight: bold\">0.5539</span><span style=\"color: #800000; text-decoration-color: #800000; font-weight: bold\">, </span><span style=\"color: #800000; text-decoration-color: #800000; font-weight: bold\">device</span><span style=\"color: #800000; text-decoration-color: #800000; font-weight: bold\">=</span><span style=\"color: #800000; text-decoration-color: #800000; font-weight: bold\">'cuda:0'</span><span style=\"color: #800000; text-decoration-color: #800000; font-weight: bold\">, </span>\n",
       "<span style=\"color: #800000; text-decoration-color: #800000; font-weight: bold\">grad_fn</span><span style=\"color: #800000; text-decoration-color: #800000; font-weight: bold\">=&lt;NllLossBackward0&gt;)</span>\n",
       "</pre>\n"
      ],
      "text/plain": [
       "\u001b[1;31mloss = \u001b[0m\u001b[1;31mtensor\u001b[0m\u001b[1;31m(\u001b[0m\u001b[1;31m0.5568\u001b[0m\u001b[1;31m, \u001b[0m\u001b[1;31mdevice\u001b[0m\u001b[1;31m=\u001b[0m\u001b[1;31m'cuda:0'\u001b[0m\u001b[1;31m)\u001b[0m\u001b[1;31m computed_loss = \u001b[0m\u001b[1;31mtensor\u001b[0m\u001b[1;31m(\u001b[0m\u001b[1;31m0.5539\u001b[0m\u001b[1;31m, \u001b[0m\u001b[1;31mdevice\u001b[0m\u001b[1;31m=\u001b[0m\u001b[1;31m'cuda:0'\u001b[0m\u001b[1;31m, \u001b[0m\n",
       "\u001b[1;31mgrad_fn\u001b[0m\u001b[1;31m=\u001b[0m\u001b[1;31m<\u001b[0m\u001b[1;31mNllLossBackward0\u001b[0m\u001b[1;31m>\u001b[0m\u001b[1;31m)\u001b[0m\n"
      ]
     },
     "metadata": {},
     "output_type": "display_data"
    },
    {
     "data": {
      "text/html": [
       "<pre style=\"white-space:pre;overflow-x:auto;line-height:normal;font-family:Menlo,'DejaVu Sans Mono',consolas,'Courier New',monospace\"><span style=\"color: #800000; text-decoration-color: #800000; font-weight: bold\">loss = tensor(</span><span style=\"color: #800000; text-decoration-color: #800000; font-weight: bold\">0.4097</span><span style=\"color: #800000; text-decoration-color: #800000; font-weight: bold\">, </span><span style=\"color: #800000; text-decoration-color: #800000; font-weight: bold\">device</span><span style=\"color: #800000; text-decoration-color: #800000; font-weight: bold\">=</span><span style=\"color: #800000; text-decoration-color: #800000; font-weight: bold\">'cuda:0'</span><span style=\"color: #800000; text-decoration-color: #800000; font-weight: bold\">) computed_loss = tensor(</span><span style=\"color: #800000; text-decoration-color: #800000; font-weight: bold\">0.4038</span><span style=\"color: #800000; text-decoration-color: #800000; font-weight: bold\">, </span><span style=\"color: #800000; text-decoration-color: #800000; font-weight: bold\">device</span><span style=\"color: #800000; text-decoration-color: #800000; font-weight: bold\">=</span><span style=\"color: #800000; text-decoration-color: #800000; font-weight: bold\">'cuda:0'</span><span style=\"color: #800000; text-decoration-color: #800000; font-weight: bold\">, </span>\n",
       "<span style=\"color: #800000; text-decoration-color: #800000; font-weight: bold\">grad_fn</span><span style=\"color: #800000; text-decoration-color: #800000; font-weight: bold\">=&lt;NllLossBackward0&gt;)</span>\n",
       "</pre>\n"
      ],
      "text/plain": [
       "\u001b[1;31mloss = \u001b[0m\u001b[1;31mtensor\u001b[0m\u001b[1;31m(\u001b[0m\u001b[1;31m0.4097\u001b[0m\u001b[1;31m, \u001b[0m\u001b[1;31mdevice\u001b[0m\u001b[1;31m=\u001b[0m\u001b[1;31m'cuda:0'\u001b[0m\u001b[1;31m)\u001b[0m\u001b[1;31m computed_loss = \u001b[0m\u001b[1;31mtensor\u001b[0m\u001b[1;31m(\u001b[0m\u001b[1;31m0.4038\u001b[0m\u001b[1;31m, \u001b[0m\u001b[1;31mdevice\u001b[0m\u001b[1;31m=\u001b[0m\u001b[1;31m'cuda:0'\u001b[0m\u001b[1;31m, \u001b[0m\n",
       "\u001b[1;31mgrad_fn\u001b[0m\u001b[1;31m=\u001b[0m\u001b[1;31m<\u001b[0m\u001b[1;31mNllLossBackward0\u001b[0m\u001b[1;31m>\u001b[0m\u001b[1;31m)\u001b[0m\n"
      ]
     },
     "metadata": {},
     "output_type": "display_data"
    },
    {
     "data": {
      "text/html": [
       "<pre style=\"white-space:pre;overflow-x:auto;line-height:normal;font-family:Menlo,'DejaVu Sans Mono',consolas,'Courier New',monospace\"><span style=\"color: #800000; text-decoration-color: #800000; font-weight: bold\">loss = tensor(</span><span style=\"color: #800000; text-decoration-color: #800000; font-weight: bold\">0.3816</span><span style=\"color: #800000; text-decoration-color: #800000; font-weight: bold\">, </span><span style=\"color: #800000; text-decoration-color: #800000; font-weight: bold\">device</span><span style=\"color: #800000; text-decoration-color: #800000; font-weight: bold\">=</span><span style=\"color: #800000; text-decoration-color: #800000; font-weight: bold\">'cuda:0'</span><span style=\"color: #800000; text-decoration-color: #800000; font-weight: bold\">) computed_loss = tensor(</span><span style=\"color: #800000; text-decoration-color: #800000; font-weight: bold\">0.3846</span><span style=\"color: #800000; text-decoration-color: #800000; font-weight: bold\">, </span><span style=\"color: #800000; text-decoration-color: #800000; font-weight: bold\">device</span><span style=\"color: #800000; text-decoration-color: #800000; font-weight: bold\">=</span><span style=\"color: #800000; text-decoration-color: #800000; font-weight: bold\">'cuda:0'</span><span style=\"color: #800000; text-decoration-color: #800000; font-weight: bold\">, </span>\n",
       "<span style=\"color: #800000; text-decoration-color: #800000; font-weight: bold\">grad_fn</span><span style=\"color: #800000; text-decoration-color: #800000; font-weight: bold\">=&lt;NllLossBackward0&gt;)</span>\n",
       "</pre>\n"
      ],
      "text/plain": [
       "\u001b[1;31mloss = \u001b[0m\u001b[1;31mtensor\u001b[0m\u001b[1;31m(\u001b[0m\u001b[1;31m0.3816\u001b[0m\u001b[1;31m, \u001b[0m\u001b[1;31mdevice\u001b[0m\u001b[1;31m=\u001b[0m\u001b[1;31m'cuda:0'\u001b[0m\u001b[1;31m)\u001b[0m\u001b[1;31m computed_loss = \u001b[0m\u001b[1;31mtensor\u001b[0m\u001b[1;31m(\u001b[0m\u001b[1;31m0.3846\u001b[0m\u001b[1;31m, \u001b[0m\u001b[1;31mdevice\u001b[0m\u001b[1;31m=\u001b[0m\u001b[1;31m'cuda:0'\u001b[0m\u001b[1;31m, \u001b[0m\n",
       "\u001b[1;31mgrad_fn\u001b[0m\u001b[1;31m=\u001b[0m\u001b[1;31m<\u001b[0m\u001b[1;31mNllLossBackward0\u001b[0m\u001b[1;31m>\u001b[0m\u001b[1;31m)\u001b[0m\n"
      ]
     },
     "metadata": {},
     "output_type": "display_data"
    },
    {
     "data": {
      "text/html": [
       "<pre style=\"white-space:pre;overflow-x:auto;line-height:normal;font-family:Menlo,'DejaVu Sans Mono',consolas,'Courier New',monospace\"><span style=\"color: #800000; text-decoration-color: #800000; font-weight: bold\">loss = tensor(</span><span style=\"color: #800000; text-decoration-color: #800000; font-weight: bold\">0.1570</span><span style=\"color: #800000; text-decoration-color: #800000; font-weight: bold\">, </span><span style=\"color: #800000; text-decoration-color: #800000; font-weight: bold\">device</span><span style=\"color: #800000; text-decoration-color: #800000; font-weight: bold\">=</span><span style=\"color: #800000; text-decoration-color: #800000; font-weight: bold\">'cuda:0'</span><span style=\"color: #800000; text-decoration-color: #800000; font-weight: bold\">) computed_loss = tensor(</span><span style=\"color: #800000; text-decoration-color: #800000; font-weight: bold\">0.1542</span><span style=\"color: #800000; text-decoration-color: #800000; font-weight: bold\">, </span><span style=\"color: #800000; text-decoration-color: #800000; font-weight: bold\">device</span><span style=\"color: #800000; text-decoration-color: #800000; font-weight: bold\">=</span><span style=\"color: #800000; text-decoration-color: #800000; font-weight: bold\">'cuda:0'</span><span style=\"color: #800000; text-decoration-color: #800000; font-weight: bold\">, </span>\n",
       "<span style=\"color: #800000; text-decoration-color: #800000; font-weight: bold\">grad_fn</span><span style=\"color: #800000; text-decoration-color: #800000; font-weight: bold\">=&lt;NllLossBackward0&gt;)</span>\n",
       "</pre>\n"
      ],
      "text/plain": [
       "\u001b[1;31mloss = \u001b[0m\u001b[1;31mtensor\u001b[0m\u001b[1;31m(\u001b[0m\u001b[1;31m0.1570\u001b[0m\u001b[1;31m, \u001b[0m\u001b[1;31mdevice\u001b[0m\u001b[1;31m=\u001b[0m\u001b[1;31m'cuda:0'\u001b[0m\u001b[1;31m)\u001b[0m\u001b[1;31m computed_loss = \u001b[0m\u001b[1;31mtensor\u001b[0m\u001b[1;31m(\u001b[0m\u001b[1;31m0.1542\u001b[0m\u001b[1;31m, \u001b[0m\u001b[1;31mdevice\u001b[0m\u001b[1;31m=\u001b[0m\u001b[1;31m'cuda:0'\u001b[0m\u001b[1;31m, \u001b[0m\n",
       "\u001b[1;31mgrad_fn\u001b[0m\u001b[1;31m=\u001b[0m\u001b[1;31m<\u001b[0m\u001b[1;31mNllLossBackward0\u001b[0m\u001b[1;31m>\u001b[0m\u001b[1;31m)\u001b[0m\n"
      ]
     },
     "metadata": {},
     "output_type": "display_data"
    },
    {
     "data": {
      "text/html": [
       "<pre style=\"white-space:pre;overflow-x:auto;line-height:normal;font-family:Menlo,'DejaVu Sans Mono',consolas,'Courier New',monospace\"><span style=\"color: #800000; text-decoration-color: #800000; font-weight: bold\">loss = tensor(</span><span style=\"color: #800000; text-decoration-color: #800000; font-weight: bold\">0.1889</span><span style=\"color: #800000; text-decoration-color: #800000; font-weight: bold\">, </span><span style=\"color: #800000; text-decoration-color: #800000; font-weight: bold\">device</span><span style=\"color: #800000; text-decoration-color: #800000; font-weight: bold\">=</span><span style=\"color: #800000; text-decoration-color: #800000; font-weight: bold\">'cuda:0'</span><span style=\"color: #800000; text-decoration-color: #800000; font-weight: bold\">) computed_loss = tensor(</span><span style=\"color: #800000; text-decoration-color: #800000; font-weight: bold\">0.1966</span><span style=\"color: #800000; text-decoration-color: #800000; font-weight: bold\">, </span><span style=\"color: #800000; text-decoration-color: #800000; font-weight: bold\">device</span><span style=\"color: #800000; text-decoration-color: #800000; font-weight: bold\">=</span><span style=\"color: #800000; text-decoration-color: #800000; font-weight: bold\">'cuda:0'</span><span style=\"color: #800000; text-decoration-color: #800000; font-weight: bold\">, </span>\n",
       "<span style=\"color: #800000; text-decoration-color: #800000; font-weight: bold\">grad_fn</span><span style=\"color: #800000; text-decoration-color: #800000; font-weight: bold\">=&lt;NllLossBackward0&gt;)</span>\n",
       "</pre>\n"
      ],
      "text/plain": [
       "\u001b[1;31mloss = \u001b[0m\u001b[1;31mtensor\u001b[0m\u001b[1;31m(\u001b[0m\u001b[1;31m0.1889\u001b[0m\u001b[1;31m, \u001b[0m\u001b[1;31mdevice\u001b[0m\u001b[1;31m=\u001b[0m\u001b[1;31m'cuda:0'\u001b[0m\u001b[1;31m)\u001b[0m\u001b[1;31m computed_loss = \u001b[0m\u001b[1;31mtensor\u001b[0m\u001b[1;31m(\u001b[0m\u001b[1;31m0.1966\u001b[0m\u001b[1;31m, \u001b[0m\u001b[1;31mdevice\u001b[0m\u001b[1;31m=\u001b[0m\u001b[1;31m'cuda:0'\u001b[0m\u001b[1;31m, \u001b[0m\n",
       "\u001b[1;31mgrad_fn\u001b[0m\u001b[1;31m=\u001b[0m\u001b[1;31m<\u001b[0m\u001b[1;31mNllLossBackward0\u001b[0m\u001b[1;31m>\u001b[0m\u001b[1;31m)\u001b[0m\n"
      ]
     },
     "metadata": {},
     "output_type": "display_data"
    },
    {
     "data": {
      "text/html": [
       "<pre style=\"white-space:pre;overflow-x:auto;line-height:normal;font-family:Menlo,'DejaVu Sans Mono',consolas,'Courier New',monospace\"><span style=\"color: #800000; text-decoration-color: #800000; font-weight: bold\">loss = tensor(</span><span style=\"color: #800000; text-decoration-color: #800000; font-weight: bold\">0.0846</span><span style=\"color: #800000; text-decoration-color: #800000; font-weight: bold\">, </span><span style=\"color: #800000; text-decoration-color: #800000; font-weight: bold\">device</span><span style=\"color: #800000; text-decoration-color: #800000; font-weight: bold\">=</span><span style=\"color: #800000; text-decoration-color: #800000; font-weight: bold\">'cuda:0'</span><span style=\"color: #800000; text-decoration-color: #800000; font-weight: bold\">) computed_loss = tensor(</span><span style=\"color: #800000; text-decoration-color: #800000; font-weight: bold\">0.0864</span><span style=\"color: #800000; text-decoration-color: #800000; font-weight: bold\">, </span><span style=\"color: #800000; text-decoration-color: #800000; font-weight: bold\">device</span><span style=\"color: #800000; text-decoration-color: #800000; font-weight: bold\">=</span><span style=\"color: #800000; text-decoration-color: #800000; font-weight: bold\">'cuda:0'</span><span style=\"color: #800000; text-decoration-color: #800000; font-weight: bold\">, </span>\n",
       "<span style=\"color: #800000; text-decoration-color: #800000; font-weight: bold\">grad_fn</span><span style=\"color: #800000; text-decoration-color: #800000; font-weight: bold\">=&lt;NllLossBackward0&gt;)</span>\n",
       "</pre>\n"
      ],
      "text/plain": [
       "\u001b[1;31mloss = \u001b[0m\u001b[1;31mtensor\u001b[0m\u001b[1;31m(\u001b[0m\u001b[1;31m0.0846\u001b[0m\u001b[1;31m, \u001b[0m\u001b[1;31mdevice\u001b[0m\u001b[1;31m=\u001b[0m\u001b[1;31m'cuda:0'\u001b[0m\u001b[1;31m)\u001b[0m\u001b[1;31m computed_loss = \u001b[0m\u001b[1;31mtensor\u001b[0m\u001b[1;31m(\u001b[0m\u001b[1;31m0.0864\u001b[0m\u001b[1;31m, \u001b[0m\u001b[1;31mdevice\u001b[0m\u001b[1;31m=\u001b[0m\u001b[1;31m'cuda:0'\u001b[0m\u001b[1;31m, \u001b[0m\n",
       "\u001b[1;31mgrad_fn\u001b[0m\u001b[1;31m=\u001b[0m\u001b[1;31m<\u001b[0m\u001b[1;31mNllLossBackward0\u001b[0m\u001b[1;31m>\u001b[0m\u001b[1;31m)\u001b[0m\n"
      ]
     },
     "metadata": {},
     "output_type": "display_data"
    },
    {
     "data": {
      "text/html": [
       "<pre style=\"white-space:pre;overflow-x:auto;line-height:normal;font-family:Menlo,'DejaVu Sans Mono',consolas,'Courier New',monospace\"><span style=\"color: #800000; text-decoration-color: #800000; font-weight: bold\">loss = tensor(</span><span style=\"color: #800000; text-decoration-color: #800000; font-weight: bold\">0.1481</span><span style=\"color: #800000; text-decoration-color: #800000; font-weight: bold\">, </span><span style=\"color: #800000; text-decoration-color: #800000; font-weight: bold\">device</span><span style=\"color: #800000; text-decoration-color: #800000; font-weight: bold\">=</span><span style=\"color: #800000; text-decoration-color: #800000; font-weight: bold\">'cuda:0'</span><span style=\"color: #800000; text-decoration-color: #800000; font-weight: bold\">) computed_loss = tensor(</span><span style=\"color: #800000; text-decoration-color: #800000; font-weight: bold\">0.1481</span><span style=\"color: #800000; text-decoration-color: #800000; font-weight: bold\">, </span><span style=\"color: #800000; text-decoration-color: #800000; font-weight: bold\">device</span><span style=\"color: #800000; text-decoration-color: #800000; font-weight: bold\">=</span><span style=\"color: #800000; text-decoration-color: #800000; font-weight: bold\">'cuda:0'</span><span style=\"color: #800000; text-decoration-color: #800000; font-weight: bold\">, </span>\n",
       "<span style=\"color: #800000; text-decoration-color: #800000; font-weight: bold\">grad_fn</span><span style=\"color: #800000; text-decoration-color: #800000; font-weight: bold\">=&lt;NllLossBackward0&gt;)</span>\n",
       "</pre>\n"
      ],
      "text/plain": [
       "\u001b[1;31mloss = \u001b[0m\u001b[1;31mtensor\u001b[0m\u001b[1;31m(\u001b[0m\u001b[1;31m0.1481\u001b[0m\u001b[1;31m, \u001b[0m\u001b[1;31mdevice\u001b[0m\u001b[1;31m=\u001b[0m\u001b[1;31m'cuda:0'\u001b[0m\u001b[1;31m)\u001b[0m\u001b[1;31m computed_loss = \u001b[0m\u001b[1;31mtensor\u001b[0m\u001b[1;31m(\u001b[0m\u001b[1;31m0.1481\u001b[0m\u001b[1;31m, \u001b[0m\u001b[1;31mdevice\u001b[0m\u001b[1;31m=\u001b[0m\u001b[1;31m'cuda:0'\u001b[0m\u001b[1;31m, \u001b[0m\n",
       "\u001b[1;31mgrad_fn\u001b[0m\u001b[1;31m=\u001b[0m\u001b[1;31m<\u001b[0m\u001b[1;31mNllLossBackward0\u001b[0m\u001b[1;31m>\u001b[0m\u001b[1;31m)\u001b[0m\n"
      ]
     },
     "metadata": {},
     "output_type": "display_data"
    },
    {
     "data": {
      "text/html": [
       "<pre style=\"white-space:pre;overflow-x:auto;line-height:normal;font-family:Menlo,'DejaVu Sans Mono',consolas,'Courier New',monospace\"><span style=\"color: #800000; text-decoration-color: #800000; font-weight: bold\">loss = tensor(</span><span style=\"color: #800000; text-decoration-color: #800000; font-weight: bold\">0.1356</span><span style=\"color: #800000; text-decoration-color: #800000; font-weight: bold\">, </span><span style=\"color: #800000; text-decoration-color: #800000; font-weight: bold\">device</span><span style=\"color: #800000; text-decoration-color: #800000; font-weight: bold\">=</span><span style=\"color: #800000; text-decoration-color: #800000; font-weight: bold\">'cuda:0'</span><span style=\"color: #800000; text-decoration-color: #800000; font-weight: bold\">) computed_loss = tensor(</span><span style=\"color: #800000; text-decoration-color: #800000; font-weight: bold\">0.1375</span><span style=\"color: #800000; text-decoration-color: #800000; font-weight: bold\">, </span><span style=\"color: #800000; text-decoration-color: #800000; font-weight: bold\">device</span><span style=\"color: #800000; text-decoration-color: #800000; font-weight: bold\">=</span><span style=\"color: #800000; text-decoration-color: #800000; font-weight: bold\">'cuda:0'</span><span style=\"color: #800000; text-decoration-color: #800000; font-weight: bold\">, </span>\n",
       "<span style=\"color: #800000; text-decoration-color: #800000; font-weight: bold\">grad_fn</span><span style=\"color: #800000; text-decoration-color: #800000; font-weight: bold\">=&lt;NllLossBackward0&gt;)</span>\n",
       "</pre>\n"
      ],
      "text/plain": [
       "\u001b[1;31mloss = \u001b[0m\u001b[1;31mtensor\u001b[0m\u001b[1;31m(\u001b[0m\u001b[1;31m0.1356\u001b[0m\u001b[1;31m, \u001b[0m\u001b[1;31mdevice\u001b[0m\u001b[1;31m=\u001b[0m\u001b[1;31m'cuda:0'\u001b[0m\u001b[1;31m)\u001b[0m\u001b[1;31m computed_loss = \u001b[0m\u001b[1;31mtensor\u001b[0m\u001b[1;31m(\u001b[0m\u001b[1;31m0.1375\u001b[0m\u001b[1;31m, \u001b[0m\u001b[1;31mdevice\u001b[0m\u001b[1;31m=\u001b[0m\u001b[1;31m'cuda:0'\u001b[0m\u001b[1;31m, \u001b[0m\n",
       "\u001b[1;31mgrad_fn\u001b[0m\u001b[1;31m=\u001b[0m\u001b[1;31m<\u001b[0m\u001b[1;31mNllLossBackward0\u001b[0m\u001b[1;31m>\u001b[0m\u001b[1;31m)\u001b[0m\n"
      ]
     },
     "metadata": {},
     "output_type": "display_data"
    },
    {
     "data": {
      "text/html": [
       "<pre style=\"white-space:pre;overflow-x:auto;line-height:normal;font-family:Menlo,'DejaVu Sans Mono',consolas,'Courier New',monospace\"><span style=\"color: #800000; text-decoration-color: #800000; font-weight: bold\">loss = tensor(</span><span style=\"color: #800000; text-decoration-color: #800000; font-weight: bold\">0.1241</span><span style=\"color: #800000; text-decoration-color: #800000; font-weight: bold\">, </span><span style=\"color: #800000; text-decoration-color: #800000; font-weight: bold\">device</span><span style=\"color: #800000; text-decoration-color: #800000; font-weight: bold\">=</span><span style=\"color: #800000; text-decoration-color: #800000; font-weight: bold\">'cuda:0'</span><span style=\"color: #800000; text-decoration-color: #800000; font-weight: bold\">) computed_loss = tensor(</span><span style=\"color: #800000; text-decoration-color: #800000; font-weight: bold\">0.1256</span><span style=\"color: #800000; text-decoration-color: #800000; font-weight: bold\">, </span><span style=\"color: #800000; text-decoration-color: #800000; font-weight: bold\">device</span><span style=\"color: #800000; text-decoration-color: #800000; font-weight: bold\">=</span><span style=\"color: #800000; text-decoration-color: #800000; font-weight: bold\">'cuda:0'</span><span style=\"color: #800000; text-decoration-color: #800000; font-weight: bold\">, </span>\n",
       "<span style=\"color: #800000; text-decoration-color: #800000; font-weight: bold\">grad_fn</span><span style=\"color: #800000; text-decoration-color: #800000; font-weight: bold\">=&lt;NllLossBackward0&gt;)</span>\n",
       "</pre>\n"
      ],
      "text/plain": [
       "\u001b[1;31mloss = \u001b[0m\u001b[1;31mtensor\u001b[0m\u001b[1;31m(\u001b[0m\u001b[1;31m0.1241\u001b[0m\u001b[1;31m, \u001b[0m\u001b[1;31mdevice\u001b[0m\u001b[1;31m=\u001b[0m\u001b[1;31m'cuda:0'\u001b[0m\u001b[1;31m)\u001b[0m\u001b[1;31m computed_loss = \u001b[0m\u001b[1;31mtensor\u001b[0m\u001b[1;31m(\u001b[0m\u001b[1;31m0.1256\u001b[0m\u001b[1;31m, \u001b[0m\u001b[1;31mdevice\u001b[0m\u001b[1;31m=\u001b[0m\u001b[1;31m'cuda:0'\u001b[0m\u001b[1;31m, \u001b[0m\n",
       "\u001b[1;31mgrad_fn\u001b[0m\u001b[1;31m=\u001b[0m\u001b[1;31m<\u001b[0m\u001b[1;31mNllLossBackward0\u001b[0m\u001b[1;31m>\u001b[0m\u001b[1;31m)\u001b[0m\n"
      ]
     },
     "metadata": {},
     "output_type": "display_data"
    },
    {
     "data": {
      "text/html": [
       "<pre style=\"white-space:pre;overflow-x:auto;line-height:normal;font-family:Menlo,'DejaVu Sans Mono',consolas,'Courier New',monospace\"><span style=\"color: #800000; text-decoration-color: #800000; font-weight: bold\">loss = tensor(</span><span style=\"color: #800000; text-decoration-color: #800000; font-weight: bold\">0.1122</span><span style=\"color: #800000; text-decoration-color: #800000; font-weight: bold\">, </span><span style=\"color: #800000; text-decoration-color: #800000; font-weight: bold\">device</span><span style=\"color: #800000; text-decoration-color: #800000; font-weight: bold\">=</span><span style=\"color: #800000; text-decoration-color: #800000; font-weight: bold\">'cuda:0'</span><span style=\"color: #800000; text-decoration-color: #800000; font-weight: bold\">) computed_loss = tensor(</span><span style=\"color: #800000; text-decoration-color: #800000; font-weight: bold\">0.1106</span><span style=\"color: #800000; text-decoration-color: #800000; font-weight: bold\">, </span><span style=\"color: #800000; text-decoration-color: #800000; font-weight: bold\">device</span><span style=\"color: #800000; text-decoration-color: #800000; font-weight: bold\">=</span><span style=\"color: #800000; text-decoration-color: #800000; font-weight: bold\">'cuda:0'</span><span style=\"color: #800000; text-decoration-color: #800000; font-weight: bold\">, </span>\n",
       "<span style=\"color: #800000; text-decoration-color: #800000; font-weight: bold\">grad_fn</span><span style=\"color: #800000; text-decoration-color: #800000; font-weight: bold\">=&lt;NllLossBackward0&gt;)</span>\n",
       "</pre>\n"
      ],
      "text/plain": [
       "\u001b[1;31mloss = \u001b[0m\u001b[1;31mtensor\u001b[0m\u001b[1;31m(\u001b[0m\u001b[1;31m0.1122\u001b[0m\u001b[1;31m, \u001b[0m\u001b[1;31mdevice\u001b[0m\u001b[1;31m=\u001b[0m\u001b[1;31m'cuda:0'\u001b[0m\u001b[1;31m)\u001b[0m\u001b[1;31m computed_loss = \u001b[0m\u001b[1;31mtensor\u001b[0m\u001b[1;31m(\u001b[0m\u001b[1;31m0.1106\u001b[0m\u001b[1;31m, \u001b[0m\u001b[1;31mdevice\u001b[0m\u001b[1;31m=\u001b[0m\u001b[1;31m'cuda:0'\u001b[0m\u001b[1;31m, \u001b[0m\n",
       "\u001b[1;31mgrad_fn\u001b[0m\u001b[1;31m=\u001b[0m\u001b[1;31m<\u001b[0m\u001b[1;31mNllLossBackward0\u001b[0m\u001b[1;31m>\u001b[0m\u001b[1;31m)\u001b[0m\n"
      ]
     },
     "metadata": {},
     "output_type": "display_data"
    },
    {
     "data": {
      "text/html": [
       "<pre style=\"white-space:pre;overflow-x:auto;line-height:normal;font-family:Menlo,'DejaVu Sans Mono',consolas,'Courier New',monospace\"><span style=\"color: #800000; text-decoration-color: #800000; font-weight: bold\">loss = tensor(</span><span style=\"color: #800000; text-decoration-color: #800000; font-weight: bold\">0.1691</span><span style=\"color: #800000; text-decoration-color: #800000; font-weight: bold\">, </span><span style=\"color: #800000; text-decoration-color: #800000; font-weight: bold\">device</span><span style=\"color: #800000; text-decoration-color: #800000; font-weight: bold\">=</span><span style=\"color: #800000; text-decoration-color: #800000; font-weight: bold\">'cuda:0'</span><span style=\"color: #800000; text-decoration-color: #800000; font-weight: bold\">) computed_loss = tensor(</span><span style=\"color: #800000; text-decoration-color: #800000; font-weight: bold\">0.1725</span><span style=\"color: #800000; text-decoration-color: #800000; font-weight: bold\">, </span><span style=\"color: #800000; text-decoration-color: #800000; font-weight: bold\">device</span><span style=\"color: #800000; text-decoration-color: #800000; font-weight: bold\">=</span><span style=\"color: #800000; text-decoration-color: #800000; font-weight: bold\">'cuda:0'</span><span style=\"color: #800000; text-decoration-color: #800000; font-weight: bold\">, </span>\n",
       "<span style=\"color: #800000; text-decoration-color: #800000; font-weight: bold\">grad_fn</span><span style=\"color: #800000; text-decoration-color: #800000; font-weight: bold\">=&lt;NllLossBackward0&gt;)</span>\n",
       "</pre>\n"
      ],
      "text/plain": [
       "\u001b[1;31mloss = \u001b[0m\u001b[1;31mtensor\u001b[0m\u001b[1;31m(\u001b[0m\u001b[1;31m0.1691\u001b[0m\u001b[1;31m, \u001b[0m\u001b[1;31mdevice\u001b[0m\u001b[1;31m=\u001b[0m\u001b[1;31m'cuda:0'\u001b[0m\u001b[1;31m)\u001b[0m\u001b[1;31m computed_loss = \u001b[0m\u001b[1;31mtensor\u001b[0m\u001b[1;31m(\u001b[0m\u001b[1;31m0.1725\u001b[0m\u001b[1;31m, \u001b[0m\u001b[1;31mdevice\u001b[0m\u001b[1;31m=\u001b[0m\u001b[1;31m'cuda:0'\u001b[0m\u001b[1;31m, \u001b[0m\n",
       "\u001b[1;31mgrad_fn\u001b[0m\u001b[1;31m=\u001b[0m\u001b[1;31m<\u001b[0m\u001b[1;31mNllLossBackward0\u001b[0m\u001b[1;31m>\u001b[0m\u001b[1;31m)\u001b[0m\n"
      ]
     },
     "metadata": {},
     "output_type": "display_data"
    },
    {
     "data": {
      "text/html": [
       "<pre style=\"white-space:pre;overflow-x:auto;line-height:normal;font-family:Menlo,'DejaVu Sans Mono',consolas,'Courier New',monospace\"><span style=\"color: #800000; text-decoration-color: #800000; font-weight: bold\">loss = tensor(</span><span style=\"color: #800000; text-decoration-color: #800000; font-weight: bold\">0.1705</span><span style=\"color: #800000; text-decoration-color: #800000; font-weight: bold\">, </span><span style=\"color: #800000; text-decoration-color: #800000; font-weight: bold\">device</span><span style=\"color: #800000; text-decoration-color: #800000; font-weight: bold\">=</span><span style=\"color: #800000; text-decoration-color: #800000; font-weight: bold\">'cuda:0'</span><span style=\"color: #800000; text-decoration-color: #800000; font-weight: bold\">) computed_loss = tensor(</span><span style=\"color: #800000; text-decoration-color: #800000; font-weight: bold\">0.1665</span><span style=\"color: #800000; text-decoration-color: #800000; font-weight: bold\">, </span><span style=\"color: #800000; text-decoration-color: #800000; font-weight: bold\">device</span><span style=\"color: #800000; text-decoration-color: #800000; font-weight: bold\">=</span><span style=\"color: #800000; text-decoration-color: #800000; font-weight: bold\">'cuda:0'</span><span style=\"color: #800000; text-decoration-color: #800000; font-weight: bold\">, </span>\n",
       "<span style=\"color: #800000; text-decoration-color: #800000; font-weight: bold\">grad_fn</span><span style=\"color: #800000; text-decoration-color: #800000; font-weight: bold\">=&lt;NllLossBackward0&gt;)</span>\n",
       "</pre>\n"
      ],
      "text/plain": [
       "\u001b[1;31mloss = \u001b[0m\u001b[1;31mtensor\u001b[0m\u001b[1;31m(\u001b[0m\u001b[1;31m0.1705\u001b[0m\u001b[1;31m, \u001b[0m\u001b[1;31mdevice\u001b[0m\u001b[1;31m=\u001b[0m\u001b[1;31m'cuda:0'\u001b[0m\u001b[1;31m)\u001b[0m\u001b[1;31m computed_loss = \u001b[0m\u001b[1;31mtensor\u001b[0m\u001b[1;31m(\u001b[0m\u001b[1;31m0.1665\u001b[0m\u001b[1;31m, \u001b[0m\u001b[1;31mdevice\u001b[0m\u001b[1;31m=\u001b[0m\u001b[1;31m'cuda:0'\u001b[0m\u001b[1;31m, \u001b[0m\n",
       "\u001b[1;31mgrad_fn\u001b[0m\u001b[1;31m=\u001b[0m\u001b[1;31m<\u001b[0m\u001b[1;31mNllLossBackward0\u001b[0m\u001b[1;31m>\u001b[0m\u001b[1;31m)\u001b[0m\n"
      ]
     },
     "metadata": {},
     "output_type": "display_data"
    },
    {
     "data": {
      "text/html": [
       "<pre style=\"white-space:pre;overflow-x:auto;line-height:normal;font-family:Menlo,'DejaVu Sans Mono',consolas,'Courier New',monospace\"><span style=\"color: #800000; text-decoration-color: #800000; font-weight: bold\">loss = tensor(</span><span style=\"color: #800000; text-decoration-color: #800000; font-weight: bold\">0.0751</span><span style=\"color: #800000; text-decoration-color: #800000; font-weight: bold\">, </span><span style=\"color: #800000; text-decoration-color: #800000; font-weight: bold\">device</span><span style=\"color: #800000; text-decoration-color: #800000; font-weight: bold\">=</span><span style=\"color: #800000; text-decoration-color: #800000; font-weight: bold\">'cuda:0'</span><span style=\"color: #800000; text-decoration-color: #800000; font-weight: bold\">) computed_loss = tensor(</span><span style=\"color: #800000; text-decoration-color: #800000; font-weight: bold\">0.0773</span><span style=\"color: #800000; text-decoration-color: #800000; font-weight: bold\">, </span><span style=\"color: #800000; text-decoration-color: #800000; font-weight: bold\">device</span><span style=\"color: #800000; text-decoration-color: #800000; font-weight: bold\">=</span><span style=\"color: #800000; text-decoration-color: #800000; font-weight: bold\">'cuda:0'</span><span style=\"color: #800000; text-decoration-color: #800000; font-weight: bold\">, </span>\n",
       "<span style=\"color: #800000; text-decoration-color: #800000; font-weight: bold\">grad_fn</span><span style=\"color: #800000; text-decoration-color: #800000; font-weight: bold\">=&lt;NllLossBackward0&gt;)</span>\n",
       "</pre>\n"
      ],
      "text/plain": [
       "\u001b[1;31mloss = \u001b[0m\u001b[1;31mtensor\u001b[0m\u001b[1;31m(\u001b[0m\u001b[1;31m0.0751\u001b[0m\u001b[1;31m, \u001b[0m\u001b[1;31mdevice\u001b[0m\u001b[1;31m=\u001b[0m\u001b[1;31m'cuda:0'\u001b[0m\u001b[1;31m)\u001b[0m\u001b[1;31m computed_loss = \u001b[0m\u001b[1;31mtensor\u001b[0m\u001b[1;31m(\u001b[0m\u001b[1;31m0.0773\u001b[0m\u001b[1;31m, \u001b[0m\u001b[1;31mdevice\u001b[0m\u001b[1;31m=\u001b[0m\u001b[1;31m'cuda:0'\u001b[0m\u001b[1;31m, \u001b[0m\n",
       "\u001b[1;31mgrad_fn\u001b[0m\u001b[1;31m=\u001b[0m\u001b[1;31m<\u001b[0m\u001b[1;31mNllLossBackward0\u001b[0m\u001b[1;31m>\u001b[0m\u001b[1;31m)\u001b[0m\n"
      ]
     },
     "metadata": {},
     "output_type": "display_data"
    },
    {
     "data": {
      "text/html": [
       "<pre style=\"white-space:pre;overflow-x:auto;line-height:normal;font-family:Menlo,'DejaVu Sans Mono',consolas,'Courier New',monospace\"><span style=\"color: #800000; text-decoration-color: #800000; font-weight: bold\">loss = tensor(</span><span style=\"color: #800000; text-decoration-color: #800000; font-weight: bold\">0.0278</span><span style=\"color: #800000; text-decoration-color: #800000; font-weight: bold\">, </span><span style=\"color: #800000; text-decoration-color: #800000; font-weight: bold\">device</span><span style=\"color: #800000; text-decoration-color: #800000; font-weight: bold\">=</span><span style=\"color: #800000; text-decoration-color: #800000; font-weight: bold\">'cuda:0'</span><span style=\"color: #800000; text-decoration-color: #800000; font-weight: bold\">) computed_loss = tensor(</span><span style=\"color: #800000; text-decoration-color: #800000; font-weight: bold\">0.0279</span><span style=\"color: #800000; text-decoration-color: #800000; font-weight: bold\">, </span><span style=\"color: #800000; text-decoration-color: #800000; font-weight: bold\">device</span><span style=\"color: #800000; text-decoration-color: #800000; font-weight: bold\">=</span><span style=\"color: #800000; text-decoration-color: #800000; font-weight: bold\">'cuda:0'</span><span style=\"color: #800000; text-decoration-color: #800000; font-weight: bold\">, </span>\n",
       "<span style=\"color: #800000; text-decoration-color: #800000; font-weight: bold\">grad_fn</span><span style=\"color: #800000; text-decoration-color: #800000; font-weight: bold\">=&lt;NllLossBackward0&gt;)</span>\n",
       "</pre>\n"
      ],
      "text/plain": [
       "\u001b[1;31mloss = \u001b[0m\u001b[1;31mtensor\u001b[0m\u001b[1;31m(\u001b[0m\u001b[1;31m0.0278\u001b[0m\u001b[1;31m, \u001b[0m\u001b[1;31mdevice\u001b[0m\u001b[1;31m=\u001b[0m\u001b[1;31m'cuda:0'\u001b[0m\u001b[1;31m)\u001b[0m\u001b[1;31m computed_loss = \u001b[0m\u001b[1;31mtensor\u001b[0m\u001b[1;31m(\u001b[0m\u001b[1;31m0.0279\u001b[0m\u001b[1;31m, \u001b[0m\u001b[1;31mdevice\u001b[0m\u001b[1;31m=\u001b[0m\u001b[1;31m'cuda:0'\u001b[0m\u001b[1;31m, \u001b[0m\n",
       "\u001b[1;31mgrad_fn\u001b[0m\u001b[1;31m=\u001b[0m\u001b[1;31m<\u001b[0m\u001b[1;31mNllLossBackward0\u001b[0m\u001b[1;31m>\u001b[0m\u001b[1;31m)\u001b[0m\n"
      ]
     },
     "metadata": {},
     "output_type": "display_data"
    },
    {
     "data": {
      "text/html": [
       "<pre style=\"white-space:pre;overflow-x:auto;line-height:normal;font-family:Menlo,'DejaVu Sans Mono',consolas,'Courier New',monospace\"><span style=\"color: #800000; text-decoration-color: #800000; font-weight: bold\">loss = tensor(</span><span style=\"color: #800000; text-decoration-color: #800000; font-weight: bold\">0.0604</span><span style=\"color: #800000; text-decoration-color: #800000; font-weight: bold\">, </span><span style=\"color: #800000; text-decoration-color: #800000; font-weight: bold\">device</span><span style=\"color: #800000; text-decoration-color: #800000; font-weight: bold\">=</span><span style=\"color: #800000; text-decoration-color: #800000; font-weight: bold\">'cuda:0'</span><span style=\"color: #800000; text-decoration-color: #800000; font-weight: bold\">) computed_loss = tensor(</span><span style=\"color: #800000; text-decoration-color: #800000; font-weight: bold\">0.0616</span><span style=\"color: #800000; text-decoration-color: #800000; font-weight: bold\">, </span><span style=\"color: #800000; text-decoration-color: #800000; font-weight: bold\">device</span><span style=\"color: #800000; text-decoration-color: #800000; font-weight: bold\">=</span><span style=\"color: #800000; text-decoration-color: #800000; font-weight: bold\">'cuda:0'</span><span style=\"color: #800000; text-decoration-color: #800000; font-weight: bold\">, </span>\n",
       "<span style=\"color: #800000; text-decoration-color: #800000; font-weight: bold\">grad_fn</span><span style=\"color: #800000; text-decoration-color: #800000; font-weight: bold\">=&lt;NllLossBackward0&gt;)</span>\n",
       "</pre>\n"
      ],
      "text/plain": [
       "\u001b[1;31mloss = \u001b[0m\u001b[1;31mtensor\u001b[0m\u001b[1;31m(\u001b[0m\u001b[1;31m0.0604\u001b[0m\u001b[1;31m, \u001b[0m\u001b[1;31mdevice\u001b[0m\u001b[1;31m=\u001b[0m\u001b[1;31m'cuda:0'\u001b[0m\u001b[1;31m)\u001b[0m\u001b[1;31m computed_loss = \u001b[0m\u001b[1;31mtensor\u001b[0m\u001b[1;31m(\u001b[0m\u001b[1;31m0.0616\u001b[0m\u001b[1;31m, \u001b[0m\u001b[1;31mdevice\u001b[0m\u001b[1;31m=\u001b[0m\u001b[1;31m'cuda:0'\u001b[0m\u001b[1;31m, \u001b[0m\n",
       "\u001b[1;31mgrad_fn\u001b[0m\u001b[1;31m=\u001b[0m\u001b[1;31m<\u001b[0m\u001b[1;31mNllLossBackward0\u001b[0m\u001b[1;31m>\u001b[0m\u001b[1;31m)\u001b[0m\n"
      ]
     },
     "metadata": {},
     "output_type": "display_data"
    },
    {
     "data": {
      "text/html": [
       "<pre style=\"white-space:pre;overflow-x:auto;line-height:normal;font-family:Menlo,'DejaVu Sans Mono',consolas,'Courier New',monospace\"><span style=\"color: #800000; text-decoration-color: #800000; font-weight: bold\">loss = tensor(</span><span style=\"color: #800000; text-decoration-color: #800000; font-weight: bold\">0.1725</span><span style=\"color: #800000; text-decoration-color: #800000; font-weight: bold\">, </span><span style=\"color: #800000; text-decoration-color: #800000; font-weight: bold\">device</span><span style=\"color: #800000; text-decoration-color: #800000; font-weight: bold\">=</span><span style=\"color: #800000; text-decoration-color: #800000; font-weight: bold\">'cuda:0'</span><span style=\"color: #800000; text-decoration-color: #800000; font-weight: bold\">) computed_loss = tensor(</span><span style=\"color: #800000; text-decoration-color: #800000; font-weight: bold\">0.1796</span><span style=\"color: #800000; text-decoration-color: #800000; font-weight: bold\">, </span><span style=\"color: #800000; text-decoration-color: #800000; font-weight: bold\">device</span><span style=\"color: #800000; text-decoration-color: #800000; font-weight: bold\">=</span><span style=\"color: #800000; text-decoration-color: #800000; font-weight: bold\">'cuda:0'</span><span style=\"color: #800000; text-decoration-color: #800000; font-weight: bold\">, </span>\n",
       "<span style=\"color: #800000; text-decoration-color: #800000; font-weight: bold\">grad_fn</span><span style=\"color: #800000; text-decoration-color: #800000; font-weight: bold\">=&lt;NllLossBackward0&gt;)</span>\n",
       "</pre>\n"
      ],
      "text/plain": [
       "\u001b[1;31mloss = \u001b[0m\u001b[1;31mtensor\u001b[0m\u001b[1;31m(\u001b[0m\u001b[1;31m0.1725\u001b[0m\u001b[1;31m, \u001b[0m\u001b[1;31mdevice\u001b[0m\u001b[1;31m=\u001b[0m\u001b[1;31m'cuda:0'\u001b[0m\u001b[1;31m)\u001b[0m\u001b[1;31m computed_loss = \u001b[0m\u001b[1;31mtensor\u001b[0m\u001b[1;31m(\u001b[0m\u001b[1;31m0.1796\u001b[0m\u001b[1;31m, \u001b[0m\u001b[1;31mdevice\u001b[0m\u001b[1;31m=\u001b[0m\u001b[1;31m'cuda:0'\u001b[0m\u001b[1;31m, \u001b[0m\n",
       "\u001b[1;31mgrad_fn\u001b[0m\u001b[1;31m=\u001b[0m\u001b[1;31m<\u001b[0m\u001b[1;31mNllLossBackward0\u001b[0m\u001b[1;31m>\u001b[0m\u001b[1;31m)\u001b[0m\n"
      ]
     },
     "metadata": {},
     "output_type": "display_data"
    },
    {
     "data": {
      "text/html": [
       "<pre style=\"white-space:pre;overflow-x:auto;line-height:normal;font-family:Menlo,'DejaVu Sans Mono',consolas,'Courier New',monospace\"><span style=\"color: #800000; text-decoration-color: #800000; font-weight: bold\">loss = tensor(</span><span style=\"color: #800000; text-decoration-color: #800000; font-weight: bold\">0.2206</span><span style=\"color: #800000; text-decoration-color: #800000; font-weight: bold\">, </span><span style=\"color: #800000; text-decoration-color: #800000; font-weight: bold\">device</span><span style=\"color: #800000; text-decoration-color: #800000; font-weight: bold\">=</span><span style=\"color: #800000; text-decoration-color: #800000; font-weight: bold\">'cuda:0'</span><span style=\"color: #800000; text-decoration-color: #800000; font-weight: bold\">) computed_loss = tensor(</span><span style=\"color: #800000; text-decoration-color: #800000; font-weight: bold\">0.2007</span><span style=\"color: #800000; text-decoration-color: #800000; font-weight: bold\">, </span><span style=\"color: #800000; text-decoration-color: #800000; font-weight: bold\">device</span><span style=\"color: #800000; text-decoration-color: #800000; font-weight: bold\">=</span><span style=\"color: #800000; text-decoration-color: #800000; font-weight: bold\">'cuda:0'</span><span style=\"color: #800000; text-decoration-color: #800000; font-weight: bold\">, </span>\n",
       "<span style=\"color: #800000; text-decoration-color: #800000; font-weight: bold\">grad_fn</span><span style=\"color: #800000; text-decoration-color: #800000; font-weight: bold\">=&lt;NllLossBackward0&gt;)</span>\n",
       "</pre>\n"
      ],
      "text/plain": [
       "\u001b[1;31mloss = \u001b[0m\u001b[1;31mtensor\u001b[0m\u001b[1;31m(\u001b[0m\u001b[1;31m0.2206\u001b[0m\u001b[1;31m, \u001b[0m\u001b[1;31mdevice\u001b[0m\u001b[1;31m=\u001b[0m\u001b[1;31m'cuda:0'\u001b[0m\u001b[1;31m)\u001b[0m\u001b[1;31m computed_loss = \u001b[0m\u001b[1;31mtensor\u001b[0m\u001b[1;31m(\u001b[0m\u001b[1;31m0.2007\u001b[0m\u001b[1;31m, \u001b[0m\u001b[1;31mdevice\u001b[0m\u001b[1;31m=\u001b[0m\u001b[1;31m'cuda:0'\u001b[0m\u001b[1;31m, \u001b[0m\n",
       "\u001b[1;31mgrad_fn\u001b[0m\u001b[1;31m=\u001b[0m\u001b[1;31m<\u001b[0m\u001b[1;31mNllLossBackward0\u001b[0m\u001b[1;31m>\u001b[0m\u001b[1;31m)\u001b[0m\n"
      ]
     },
     "metadata": {},
     "output_type": "display_data"
    },
    {
     "data": {
      "text/html": [
       "<pre style=\"white-space:pre;overflow-x:auto;line-height:normal;font-family:Menlo,'DejaVu Sans Mono',consolas,'Courier New',monospace\"><span style=\"color: #800000; text-decoration-color: #800000; font-weight: bold\">loss = tensor(</span><span style=\"color: #800000; text-decoration-color: #800000; font-weight: bold\">0.3121</span><span style=\"color: #800000; text-decoration-color: #800000; font-weight: bold\">, </span><span style=\"color: #800000; text-decoration-color: #800000; font-weight: bold\">device</span><span style=\"color: #800000; text-decoration-color: #800000; font-weight: bold\">=</span><span style=\"color: #800000; text-decoration-color: #800000; font-weight: bold\">'cuda:0'</span><span style=\"color: #800000; text-decoration-color: #800000; font-weight: bold\">) computed_loss = tensor(</span><span style=\"color: #800000; text-decoration-color: #800000; font-weight: bold\">0.3272</span><span style=\"color: #800000; text-decoration-color: #800000; font-weight: bold\">, </span><span style=\"color: #800000; text-decoration-color: #800000; font-weight: bold\">device</span><span style=\"color: #800000; text-decoration-color: #800000; font-weight: bold\">=</span><span style=\"color: #800000; text-decoration-color: #800000; font-weight: bold\">'cuda:0'</span><span style=\"color: #800000; text-decoration-color: #800000; font-weight: bold\">, </span>\n",
       "<span style=\"color: #800000; text-decoration-color: #800000; font-weight: bold\">grad_fn</span><span style=\"color: #800000; text-decoration-color: #800000; font-weight: bold\">=&lt;NllLossBackward0&gt;)</span>\n",
       "</pre>\n"
      ],
      "text/plain": [
       "\u001b[1;31mloss = \u001b[0m\u001b[1;31mtensor\u001b[0m\u001b[1;31m(\u001b[0m\u001b[1;31m0.3121\u001b[0m\u001b[1;31m, \u001b[0m\u001b[1;31mdevice\u001b[0m\u001b[1;31m=\u001b[0m\u001b[1;31m'cuda:0'\u001b[0m\u001b[1;31m)\u001b[0m\u001b[1;31m computed_loss = \u001b[0m\u001b[1;31mtensor\u001b[0m\u001b[1;31m(\u001b[0m\u001b[1;31m0.3272\u001b[0m\u001b[1;31m, \u001b[0m\u001b[1;31mdevice\u001b[0m\u001b[1;31m=\u001b[0m\u001b[1;31m'cuda:0'\u001b[0m\u001b[1;31m, \u001b[0m\n",
       "\u001b[1;31mgrad_fn\u001b[0m\u001b[1;31m=\u001b[0m\u001b[1;31m<\u001b[0m\u001b[1;31mNllLossBackward0\u001b[0m\u001b[1;31m>\u001b[0m\u001b[1;31m)\u001b[0m\n"
      ]
     },
     "metadata": {},
     "output_type": "display_data"
    },
    {
     "data": {
      "text/html": [
       "<pre style=\"white-space:pre;overflow-x:auto;line-height:normal;font-family:Menlo,'DejaVu Sans Mono',consolas,'Courier New',monospace\"><span style=\"color: #800000; text-decoration-color: #800000; font-weight: bold\">loss = tensor(</span><span style=\"color: #800000; text-decoration-color: #800000; font-weight: bold\">0.0081</span><span style=\"color: #800000; text-decoration-color: #800000; font-weight: bold\">, </span><span style=\"color: #800000; text-decoration-color: #800000; font-weight: bold\">device</span><span style=\"color: #800000; text-decoration-color: #800000; font-weight: bold\">=</span><span style=\"color: #800000; text-decoration-color: #800000; font-weight: bold\">'cuda:0'</span><span style=\"color: #800000; text-decoration-color: #800000; font-weight: bold\">) computed_loss = tensor(</span><span style=\"color: #800000; text-decoration-color: #800000; font-weight: bold\">0.0082</span><span style=\"color: #800000; text-decoration-color: #800000; font-weight: bold\">, </span><span style=\"color: #800000; text-decoration-color: #800000; font-weight: bold\">device</span><span style=\"color: #800000; text-decoration-color: #800000; font-weight: bold\">=</span><span style=\"color: #800000; text-decoration-color: #800000; font-weight: bold\">'cuda:0'</span><span style=\"color: #800000; text-decoration-color: #800000; font-weight: bold\">, </span>\n",
       "<span style=\"color: #800000; text-decoration-color: #800000; font-weight: bold\">grad_fn</span><span style=\"color: #800000; text-decoration-color: #800000; font-weight: bold\">=&lt;NllLossBackward0&gt;)</span>\n",
       "</pre>\n"
      ],
      "text/plain": [
       "\u001b[1;31mloss = \u001b[0m\u001b[1;31mtensor\u001b[0m\u001b[1;31m(\u001b[0m\u001b[1;31m0.0081\u001b[0m\u001b[1;31m, \u001b[0m\u001b[1;31mdevice\u001b[0m\u001b[1;31m=\u001b[0m\u001b[1;31m'cuda:0'\u001b[0m\u001b[1;31m)\u001b[0m\u001b[1;31m computed_loss = \u001b[0m\u001b[1;31mtensor\u001b[0m\u001b[1;31m(\u001b[0m\u001b[1;31m0.0082\u001b[0m\u001b[1;31m, \u001b[0m\u001b[1;31mdevice\u001b[0m\u001b[1;31m=\u001b[0m\u001b[1;31m'cuda:0'\u001b[0m\u001b[1;31m, \u001b[0m\n",
       "\u001b[1;31mgrad_fn\u001b[0m\u001b[1;31m=\u001b[0m\u001b[1;31m<\u001b[0m\u001b[1;31mNllLossBackward0\u001b[0m\u001b[1;31m>\u001b[0m\u001b[1;31m)\u001b[0m\n"
      ]
     },
     "metadata": {},
     "output_type": "display_data"
    },
    {
     "data": {
      "text/html": [
       "<pre style=\"white-space:pre;overflow-x:auto;line-height:normal;font-family:Menlo,'DejaVu Sans Mono',consolas,'Courier New',monospace\"><span style=\"color: #800000; text-decoration-color: #800000; font-weight: bold\">loss = tensor(</span><span style=\"color: #800000; text-decoration-color: #800000; font-weight: bold\">0.0251</span><span style=\"color: #800000; text-decoration-color: #800000; font-weight: bold\">, </span><span style=\"color: #800000; text-decoration-color: #800000; font-weight: bold\">device</span><span style=\"color: #800000; text-decoration-color: #800000; font-weight: bold\">=</span><span style=\"color: #800000; text-decoration-color: #800000; font-weight: bold\">'cuda:0'</span><span style=\"color: #800000; text-decoration-color: #800000; font-weight: bold\">) computed_loss = tensor(</span><span style=\"color: #800000; text-decoration-color: #800000; font-weight: bold\">0.0259</span><span style=\"color: #800000; text-decoration-color: #800000; font-weight: bold\">, </span><span style=\"color: #800000; text-decoration-color: #800000; font-weight: bold\">device</span><span style=\"color: #800000; text-decoration-color: #800000; font-weight: bold\">=</span><span style=\"color: #800000; text-decoration-color: #800000; font-weight: bold\">'cuda:0'</span><span style=\"color: #800000; text-decoration-color: #800000; font-weight: bold\">, </span>\n",
       "<span style=\"color: #800000; text-decoration-color: #800000; font-weight: bold\">grad_fn</span><span style=\"color: #800000; text-decoration-color: #800000; font-weight: bold\">=&lt;NllLossBackward0&gt;)</span>\n",
       "</pre>\n"
      ],
      "text/plain": [
       "\u001b[1;31mloss = \u001b[0m\u001b[1;31mtensor\u001b[0m\u001b[1;31m(\u001b[0m\u001b[1;31m0.0251\u001b[0m\u001b[1;31m, \u001b[0m\u001b[1;31mdevice\u001b[0m\u001b[1;31m=\u001b[0m\u001b[1;31m'cuda:0'\u001b[0m\u001b[1;31m)\u001b[0m\u001b[1;31m computed_loss = \u001b[0m\u001b[1;31mtensor\u001b[0m\u001b[1;31m(\u001b[0m\u001b[1;31m0.0259\u001b[0m\u001b[1;31m, \u001b[0m\u001b[1;31mdevice\u001b[0m\u001b[1;31m=\u001b[0m\u001b[1;31m'cuda:0'\u001b[0m\u001b[1;31m, \u001b[0m\n",
       "\u001b[1;31mgrad_fn\u001b[0m\u001b[1;31m=\u001b[0m\u001b[1;31m<\u001b[0m\u001b[1;31mNllLossBackward0\u001b[0m\u001b[1;31m>\u001b[0m\u001b[1;31m)\u001b[0m\n"
      ]
     },
     "metadata": {},
     "output_type": "display_data"
    },
    {
     "data": {
      "text/html": [
       "<pre style=\"white-space:pre;overflow-x:auto;line-height:normal;font-family:Menlo,'DejaVu Sans Mono',consolas,'Courier New',monospace\"><span style=\"color: #800000; text-decoration-color: #800000; font-weight: bold\">loss = tensor(</span><span style=\"color: #800000; text-decoration-color: #800000; font-weight: bold\">0.0194</span><span style=\"color: #800000; text-decoration-color: #800000; font-weight: bold\">, </span><span style=\"color: #800000; text-decoration-color: #800000; font-weight: bold\">device</span><span style=\"color: #800000; text-decoration-color: #800000; font-weight: bold\">=</span><span style=\"color: #800000; text-decoration-color: #800000; font-weight: bold\">'cuda:0'</span><span style=\"color: #800000; text-decoration-color: #800000; font-weight: bold\">) computed_loss = tensor(</span><span style=\"color: #800000; text-decoration-color: #800000; font-weight: bold\">0.0197</span><span style=\"color: #800000; text-decoration-color: #800000; font-weight: bold\">, </span><span style=\"color: #800000; text-decoration-color: #800000; font-weight: bold\">device</span><span style=\"color: #800000; text-decoration-color: #800000; font-weight: bold\">=</span><span style=\"color: #800000; text-decoration-color: #800000; font-weight: bold\">'cuda:0'</span><span style=\"color: #800000; text-decoration-color: #800000; font-weight: bold\">, </span>\n",
       "<span style=\"color: #800000; text-decoration-color: #800000; font-weight: bold\">grad_fn</span><span style=\"color: #800000; text-decoration-color: #800000; font-weight: bold\">=&lt;NllLossBackward0&gt;)</span>\n",
       "</pre>\n"
      ],
      "text/plain": [
       "\u001b[1;31mloss = \u001b[0m\u001b[1;31mtensor\u001b[0m\u001b[1;31m(\u001b[0m\u001b[1;31m0.0194\u001b[0m\u001b[1;31m, \u001b[0m\u001b[1;31mdevice\u001b[0m\u001b[1;31m=\u001b[0m\u001b[1;31m'cuda:0'\u001b[0m\u001b[1;31m)\u001b[0m\u001b[1;31m computed_loss = \u001b[0m\u001b[1;31mtensor\u001b[0m\u001b[1;31m(\u001b[0m\u001b[1;31m0.0197\u001b[0m\u001b[1;31m, \u001b[0m\u001b[1;31mdevice\u001b[0m\u001b[1;31m=\u001b[0m\u001b[1;31m'cuda:0'\u001b[0m\u001b[1;31m, \u001b[0m\n",
       "\u001b[1;31mgrad_fn\u001b[0m\u001b[1;31m=\u001b[0m\u001b[1;31m<\u001b[0m\u001b[1;31mNllLossBackward0\u001b[0m\u001b[1;31m>\u001b[0m\u001b[1;31m)\u001b[0m\n"
      ]
     },
     "metadata": {},
     "output_type": "display_data"
    },
    {
     "data": {
      "text/html": [
       "<pre style=\"white-space:pre;overflow-x:auto;line-height:normal;font-family:Menlo,'DejaVu Sans Mono',consolas,'Courier New',monospace\"><span style=\"color: #800000; text-decoration-color: #800000; font-weight: bold\">loss = tensor(</span><span style=\"color: #800000; text-decoration-color: #800000; font-weight: bold\">0.0070</span><span style=\"color: #800000; text-decoration-color: #800000; font-weight: bold\">, </span><span style=\"color: #800000; text-decoration-color: #800000; font-weight: bold\">device</span><span style=\"color: #800000; text-decoration-color: #800000; font-weight: bold\">=</span><span style=\"color: #800000; text-decoration-color: #800000; font-weight: bold\">'cuda:0'</span><span style=\"color: #800000; text-decoration-color: #800000; font-weight: bold\">) computed_loss = tensor(</span><span style=\"color: #800000; text-decoration-color: #800000; font-weight: bold\">0.0070</span><span style=\"color: #800000; text-decoration-color: #800000; font-weight: bold\">, </span><span style=\"color: #800000; text-decoration-color: #800000; font-weight: bold\">device</span><span style=\"color: #800000; text-decoration-color: #800000; font-weight: bold\">=</span><span style=\"color: #800000; text-decoration-color: #800000; font-weight: bold\">'cuda:0'</span><span style=\"color: #800000; text-decoration-color: #800000; font-weight: bold\">, </span>\n",
       "<span style=\"color: #800000; text-decoration-color: #800000; font-weight: bold\">grad_fn</span><span style=\"color: #800000; text-decoration-color: #800000; font-weight: bold\">=&lt;NllLossBackward0&gt;)</span>\n",
       "</pre>\n"
      ],
      "text/plain": [
       "\u001b[1;31mloss = \u001b[0m\u001b[1;31mtensor\u001b[0m\u001b[1;31m(\u001b[0m\u001b[1;31m0.0070\u001b[0m\u001b[1;31m, \u001b[0m\u001b[1;31mdevice\u001b[0m\u001b[1;31m=\u001b[0m\u001b[1;31m'cuda:0'\u001b[0m\u001b[1;31m)\u001b[0m\u001b[1;31m computed_loss = \u001b[0m\u001b[1;31mtensor\u001b[0m\u001b[1;31m(\u001b[0m\u001b[1;31m0.0070\u001b[0m\u001b[1;31m, \u001b[0m\u001b[1;31mdevice\u001b[0m\u001b[1;31m=\u001b[0m\u001b[1;31m'cuda:0'\u001b[0m\u001b[1;31m, \u001b[0m\n",
       "\u001b[1;31mgrad_fn\u001b[0m\u001b[1;31m=\u001b[0m\u001b[1;31m<\u001b[0m\u001b[1;31mNllLossBackward0\u001b[0m\u001b[1;31m>\u001b[0m\u001b[1;31m)\u001b[0m\n"
      ]
     },
     "metadata": {},
     "output_type": "display_data"
    },
    {
     "data": {
      "text/html": [
       "<pre style=\"white-space:pre;overflow-x:auto;line-height:normal;font-family:Menlo,'DejaVu Sans Mono',consolas,'Courier New',monospace\"><span style=\"color: #800000; text-decoration-color: #800000; font-weight: bold\">loss = tensor(</span><span style=\"color: #800000; text-decoration-color: #800000; font-weight: bold\">0.1448</span><span style=\"color: #800000; text-decoration-color: #800000; font-weight: bold\">, </span><span style=\"color: #800000; text-decoration-color: #800000; font-weight: bold\">device</span><span style=\"color: #800000; text-decoration-color: #800000; font-weight: bold\">=</span><span style=\"color: #800000; text-decoration-color: #800000; font-weight: bold\">'cuda:0'</span><span style=\"color: #800000; text-decoration-color: #800000; font-weight: bold\">) computed_loss = tensor(</span><span style=\"color: #800000; text-decoration-color: #800000; font-weight: bold\">0.1508</span><span style=\"color: #800000; text-decoration-color: #800000; font-weight: bold\">, </span><span style=\"color: #800000; text-decoration-color: #800000; font-weight: bold\">device</span><span style=\"color: #800000; text-decoration-color: #800000; font-weight: bold\">=</span><span style=\"color: #800000; text-decoration-color: #800000; font-weight: bold\">'cuda:0'</span><span style=\"color: #800000; text-decoration-color: #800000; font-weight: bold\">, </span>\n",
       "<span style=\"color: #800000; text-decoration-color: #800000; font-weight: bold\">grad_fn</span><span style=\"color: #800000; text-decoration-color: #800000; font-weight: bold\">=&lt;NllLossBackward0&gt;)</span>\n",
       "</pre>\n"
      ],
      "text/plain": [
       "\u001b[1;31mloss = \u001b[0m\u001b[1;31mtensor\u001b[0m\u001b[1;31m(\u001b[0m\u001b[1;31m0.1448\u001b[0m\u001b[1;31m, \u001b[0m\u001b[1;31mdevice\u001b[0m\u001b[1;31m=\u001b[0m\u001b[1;31m'cuda:0'\u001b[0m\u001b[1;31m)\u001b[0m\u001b[1;31m computed_loss = \u001b[0m\u001b[1;31mtensor\u001b[0m\u001b[1;31m(\u001b[0m\u001b[1;31m0.1508\u001b[0m\u001b[1;31m, \u001b[0m\u001b[1;31mdevice\u001b[0m\u001b[1;31m=\u001b[0m\u001b[1;31m'cuda:0'\u001b[0m\u001b[1;31m, \u001b[0m\n",
       "\u001b[1;31mgrad_fn\u001b[0m\u001b[1;31m=\u001b[0m\u001b[1;31m<\u001b[0m\u001b[1;31mNllLossBackward0\u001b[0m\u001b[1;31m>\u001b[0m\u001b[1;31m)\u001b[0m\n"
      ]
     },
     "metadata": {},
     "output_type": "display_data"
    },
    {
     "data": {
      "text/html": [
       "<pre style=\"white-space:pre;overflow-x:auto;line-height:normal;font-family:Menlo,'DejaVu Sans Mono',consolas,'Courier New',monospace\"><span style=\"color: #800000; text-decoration-color: #800000; font-weight: bold\">loss = tensor(</span><span style=\"color: #800000; text-decoration-color: #800000; font-weight: bold\">0.0947</span><span style=\"color: #800000; text-decoration-color: #800000; font-weight: bold\">, </span><span style=\"color: #800000; text-decoration-color: #800000; font-weight: bold\">device</span><span style=\"color: #800000; text-decoration-color: #800000; font-weight: bold\">=</span><span style=\"color: #800000; text-decoration-color: #800000; font-weight: bold\">'cuda:0'</span><span style=\"color: #800000; text-decoration-color: #800000; font-weight: bold\">) computed_loss = tensor(</span><span style=\"color: #800000; text-decoration-color: #800000; font-weight: bold\">0.0992</span><span style=\"color: #800000; text-decoration-color: #800000; font-weight: bold\">, </span><span style=\"color: #800000; text-decoration-color: #800000; font-weight: bold\">device</span><span style=\"color: #800000; text-decoration-color: #800000; font-weight: bold\">=</span><span style=\"color: #800000; text-decoration-color: #800000; font-weight: bold\">'cuda:0'</span><span style=\"color: #800000; text-decoration-color: #800000; font-weight: bold\">, </span>\n",
       "<span style=\"color: #800000; text-decoration-color: #800000; font-weight: bold\">grad_fn</span><span style=\"color: #800000; text-decoration-color: #800000; font-weight: bold\">=&lt;NllLossBackward0&gt;)</span>\n",
       "</pre>\n"
      ],
      "text/plain": [
       "\u001b[1;31mloss = \u001b[0m\u001b[1;31mtensor\u001b[0m\u001b[1;31m(\u001b[0m\u001b[1;31m0.0947\u001b[0m\u001b[1;31m, \u001b[0m\u001b[1;31mdevice\u001b[0m\u001b[1;31m=\u001b[0m\u001b[1;31m'cuda:0'\u001b[0m\u001b[1;31m)\u001b[0m\u001b[1;31m computed_loss = \u001b[0m\u001b[1;31mtensor\u001b[0m\u001b[1;31m(\u001b[0m\u001b[1;31m0.0992\u001b[0m\u001b[1;31m, \u001b[0m\u001b[1;31mdevice\u001b[0m\u001b[1;31m=\u001b[0m\u001b[1;31m'cuda:0'\u001b[0m\u001b[1;31m, \u001b[0m\n",
       "\u001b[1;31mgrad_fn\u001b[0m\u001b[1;31m=\u001b[0m\u001b[1;31m<\u001b[0m\u001b[1;31mNllLossBackward0\u001b[0m\u001b[1;31m>\u001b[0m\u001b[1;31m)\u001b[0m\n"
      ]
     },
     "metadata": {},
     "output_type": "display_data"
    },
    {
     "data": {
      "text/html": [
       "<pre style=\"white-space:pre;overflow-x:auto;line-height:normal;font-family:Menlo,'DejaVu Sans Mono',consolas,'Courier New',monospace\"><span style=\"color: #800000; text-decoration-color: #800000; font-weight: bold\">loss = tensor(</span><span style=\"color: #800000; text-decoration-color: #800000; font-weight: bold\">0.0154</span><span style=\"color: #800000; text-decoration-color: #800000; font-weight: bold\">, </span><span style=\"color: #800000; text-decoration-color: #800000; font-weight: bold\">device</span><span style=\"color: #800000; text-decoration-color: #800000; font-weight: bold\">=</span><span style=\"color: #800000; text-decoration-color: #800000; font-weight: bold\">'cuda:0'</span><span style=\"color: #800000; text-decoration-color: #800000; font-weight: bold\">) computed_loss = tensor(</span><span style=\"color: #800000; text-decoration-color: #800000; font-weight: bold\">0.0152</span><span style=\"color: #800000; text-decoration-color: #800000; font-weight: bold\">, </span><span style=\"color: #800000; text-decoration-color: #800000; font-weight: bold\">device</span><span style=\"color: #800000; text-decoration-color: #800000; font-weight: bold\">=</span><span style=\"color: #800000; text-decoration-color: #800000; font-weight: bold\">'cuda:0'</span><span style=\"color: #800000; text-decoration-color: #800000; font-weight: bold\">, </span>\n",
       "<span style=\"color: #800000; text-decoration-color: #800000; font-weight: bold\">grad_fn</span><span style=\"color: #800000; text-decoration-color: #800000; font-weight: bold\">=&lt;NllLossBackward0&gt;)</span>\n",
       "</pre>\n"
      ],
      "text/plain": [
       "\u001b[1;31mloss = \u001b[0m\u001b[1;31mtensor\u001b[0m\u001b[1;31m(\u001b[0m\u001b[1;31m0.0154\u001b[0m\u001b[1;31m, \u001b[0m\u001b[1;31mdevice\u001b[0m\u001b[1;31m=\u001b[0m\u001b[1;31m'cuda:0'\u001b[0m\u001b[1;31m)\u001b[0m\u001b[1;31m computed_loss = \u001b[0m\u001b[1;31mtensor\u001b[0m\u001b[1;31m(\u001b[0m\u001b[1;31m0.0152\u001b[0m\u001b[1;31m, \u001b[0m\u001b[1;31mdevice\u001b[0m\u001b[1;31m=\u001b[0m\u001b[1;31m'cuda:0'\u001b[0m\u001b[1;31m, \u001b[0m\n",
       "\u001b[1;31mgrad_fn\u001b[0m\u001b[1;31m=\u001b[0m\u001b[1;31m<\u001b[0m\u001b[1;31mNllLossBackward0\u001b[0m\u001b[1;31m>\u001b[0m\u001b[1;31m)\u001b[0m\n"
      ]
     },
     "metadata": {},
     "output_type": "display_data"
    },
    {
     "data": {
      "text/html": [
       "<pre style=\"white-space:pre;overflow-x:auto;line-height:normal;font-family:Menlo,'DejaVu Sans Mono',consolas,'Courier New',monospace\"><span style=\"color: #800000; text-decoration-color: #800000; font-weight: bold\">loss = tensor(</span><span style=\"color: #800000; text-decoration-color: #800000; font-weight: bold\">0.0140</span><span style=\"color: #800000; text-decoration-color: #800000; font-weight: bold\">, </span><span style=\"color: #800000; text-decoration-color: #800000; font-weight: bold\">device</span><span style=\"color: #800000; text-decoration-color: #800000; font-weight: bold\">=</span><span style=\"color: #800000; text-decoration-color: #800000; font-weight: bold\">'cuda:0'</span><span style=\"color: #800000; text-decoration-color: #800000; font-weight: bold\">) computed_loss = tensor(</span><span style=\"color: #800000; text-decoration-color: #800000; font-weight: bold\">0.0142</span><span style=\"color: #800000; text-decoration-color: #800000; font-weight: bold\">, </span><span style=\"color: #800000; text-decoration-color: #800000; font-weight: bold\">device</span><span style=\"color: #800000; text-decoration-color: #800000; font-weight: bold\">=</span><span style=\"color: #800000; text-decoration-color: #800000; font-weight: bold\">'cuda:0'</span><span style=\"color: #800000; text-decoration-color: #800000; font-weight: bold\">, </span>\n",
       "<span style=\"color: #800000; text-decoration-color: #800000; font-weight: bold\">grad_fn</span><span style=\"color: #800000; text-decoration-color: #800000; font-weight: bold\">=&lt;NllLossBackward0&gt;)</span>\n",
       "</pre>\n"
      ],
      "text/plain": [
       "\u001b[1;31mloss = \u001b[0m\u001b[1;31mtensor\u001b[0m\u001b[1;31m(\u001b[0m\u001b[1;31m0.0140\u001b[0m\u001b[1;31m, \u001b[0m\u001b[1;31mdevice\u001b[0m\u001b[1;31m=\u001b[0m\u001b[1;31m'cuda:0'\u001b[0m\u001b[1;31m)\u001b[0m\u001b[1;31m computed_loss = \u001b[0m\u001b[1;31mtensor\u001b[0m\u001b[1;31m(\u001b[0m\u001b[1;31m0.0142\u001b[0m\u001b[1;31m, \u001b[0m\u001b[1;31mdevice\u001b[0m\u001b[1;31m=\u001b[0m\u001b[1;31m'cuda:0'\u001b[0m\u001b[1;31m, \u001b[0m\n",
       "\u001b[1;31mgrad_fn\u001b[0m\u001b[1;31m=\u001b[0m\u001b[1;31m<\u001b[0m\u001b[1;31mNllLossBackward0\u001b[0m\u001b[1;31m>\u001b[0m\u001b[1;31m)\u001b[0m\n"
      ]
     },
     "metadata": {},
     "output_type": "display_data"
    },
    {
     "data": {
      "text/html": [
       "<pre style=\"white-space:pre;overflow-x:auto;line-height:normal;font-family:Menlo,'DejaVu Sans Mono',consolas,'Courier New',monospace\"><span style=\"color: #800000; text-decoration-color: #800000; font-weight: bold\">loss = tensor(</span><span style=\"color: #800000; text-decoration-color: #800000; font-weight: bold\">0.0380</span><span style=\"color: #800000; text-decoration-color: #800000; font-weight: bold\">, </span><span style=\"color: #800000; text-decoration-color: #800000; font-weight: bold\">device</span><span style=\"color: #800000; text-decoration-color: #800000; font-weight: bold\">=</span><span style=\"color: #800000; text-decoration-color: #800000; font-weight: bold\">'cuda:0'</span><span style=\"color: #800000; text-decoration-color: #800000; font-weight: bold\">) computed_loss = tensor(</span><span style=\"color: #800000; text-decoration-color: #800000; font-weight: bold\">0.0391</span><span style=\"color: #800000; text-decoration-color: #800000; font-weight: bold\">, </span><span style=\"color: #800000; text-decoration-color: #800000; font-weight: bold\">device</span><span style=\"color: #800000; text-decoration-color: #800000; font-weight: bold\">=</span><span style=\"color: #800000; text-decoration-color: #800000; font-weight: bold\">'cuda:0'</span><span style=\"color: #800000; text-decoration-color: #800000; font-weight: bold\">, </span>\n",
       "<span style=\"color: #800000; text-decoration-color: #800000; font-weight: bold\">grad_fn</span><span style=\"color: #800000; text-decoration-color: #800000; font-weight: bold\">=&lt;NllLossBackward0&gt;)</span>\n",
       "</pre>\n"
      ],
      "text/plain": [
       "\u001b[1;31mloss = \u001b[0m\u001b[1;31mtensor\u001b[0m\u001b[1;31m(\u001b[0m\u001b[1;31m0.0380\u001b[0m\u001b[1;31m, \u001b[0m\u001b[1;31mdevice\u001b[0m\u001b[1;31m=\u001b[0m\u001b[1;31m'cuda:0'\u001b[0m\u001b[1;31m)\u001b[0m\u001b[1;31m computed_loss = \u001b[0m\u001b[1;31mtensor\u001b[0m\u001b[1;31m(\u001b[0m\u001b[1;31m0.0391\u001b[0m\u001b[1;31m, \u001b[0m\u001b[1;31mdevice\u001b[0m\u001b[1;31m=\u001b[0m\u001b[1;31m'cuda:0'\u001b[0m\u001b[1;31m, \u001b[0m\n",
       "\u001b[1;31mgrad_fn\u001b[0m\u001b[1;31m=\u001b[0m\u001b[1;31m<\u001b[0m\u001b[1;31mNllLossBackward0\u001b[0m\u001b[1;31m>\u001b[0m\u001b[1;31m)\u001b[0m\n"
      ]
     },
     "metadata": {},
     "output_type": "display_data"
    },
    {
     "data": {
      "text/html": [
       "<pre style=\"white-space:pre;overflow-x:auto;line-height:normal;font-family:Menlo,'DejaVu Sans Mono',consolas,'Courier New',monospace\"><span style=\"color: #800000; text-decoration-color: #800000; font-weight: bold\">loss = tensor(</span><span style=\"color: #800000; text-decoration-color: #800000; font-weight: bold\">0.0071</span><span style=\"color: #800000; text-decoration-color: #800000; font-weight: bold\">, </span><span style=\"color: #800000; text-decoration-color: #800000; font-weight: bold\">device</span><span style=\"color: #800000; text-decoration-color: #800000; font-weight: bold\">=</span><span style=\"color: #800000; text-decoration-color: #800000; font-weight: bold\">'cuda:0'</span><span style=\"color: #800000; text-decoration-color: #800000; font-weight: bold\">) computed_loss = tensor(</span><span style=\"color: #800000; text-decoration-color: #800000; font-weight: bold\">0.0072</span><span style=\"color: #800000; text-decoration-color: #800000; font-weight: bold\">, </span><span style=\"color: #800000; text-decoration-color: #800000; font-weight: bold\">device</span><span style=\"color: #800000; text-decoration-color: #800000; font-weight: bold\">=</span><span style=\"color: #800000; text-decoration-color: #800000; font-weight: bold\">'cuda:0'</span><span style=\"color: #800000; text-decoration-color: #800000; font-weight: bold\">, </span>\n",
       "<span style=\"color: #800000; text-decoration-color: #800000; font-weight: bold\">grad_fn</span><span style=\"color: #800000; text-decoration-color: #800000; font-weight: bold\">=&lt;NllLossBackward0&gt;)</span>\n",
       "</pre>\n"
      ],
      "text/plain": [
       "\u001b[1;31mloss = \u001b[0m\u001b[1;31mtensor\u001b[0m\u001b[1;31m(\u001b[0m\u001b[1;31m0.0071\u001b[0m\u001b[1;31m, \u001b[0m\u001b[1;31mdevice\u001b[0m\u001b[1;31m=\u001b[0m\u001b[1;31m'cuda:0'\u001b[0m\u001b[1;31m)\u001b[0m\u001b[1;31m computed_loss = \u001b[0m\u001b[1;31mtensor\u001b[0m\u001b[1;31m(\u001b[0m\u001b[1;31m0.0072\u001b[0m\u001b[1;31m, \u001b[0m\u001b[1;31mdevice\u001b[0m\u001b[1;31m=\u001b[0m\u001b[1;31m'cuda:0'\u001b[0m\u001b[1;31m, \u001b[0m\n",
       "\u001b[1;31mgrad_fn\u001b[0m\u001b[1;31m=\u001b[0m\u001b[1;31m<\u001b[0m\u001b[1;31mNllLossBackward0\u001b[0m\u001b[1;31m>\u001b[0m\u001b[1;31m)\u001b[0m\n"
      ]
     },
     "metadata": {},
     "output_type": "display_data"
    },
    {
     "data": {
      "text/html": [
       "<pre style=\"white-space:pre;overflow-x:auto;line-height:normal;font-family:Menlo,'DejaVu Sans Mono',consolas,'Courier New',monospace\"><span style=\"color: #800000; text-decoration-color: #800000; font-weight: bold\">loss = tensor(</span><span style=\"color: #800000; text-decoration-color: #800000; font-weight: bold\">0.0309</span><span style=\"color: #800000; text-decoration-color: #800000; font-weight: bold\">, </span><span style=\"color: #800000; text-decoration-color: #800000; font-weight: bold\">device</span><span style=\"color: #800000; text-decoration-color: #800000; font-weight: bold\">=</span><span style=\"color: #800000; text-decoration-color: #800000; font-weight: bold\">'cuda:0'</span><span style=\"color: #800000; text-decoration-color: #800000; font-weight: bold\">) computed_loss = tensor(</span><span style=\"color: #800000; text-decoration-color: #800000; font-weight: bold\">0.0287</span><span style=\"color: #800000; text-decoration-color: #800000; font-weight: bold\">, </span><span style=\"color: #800000; text-decoration-color: #800000; font-weight: bold\">device</span><span style=\"color: #800000; text-decoration-color: #800000; font-weight: bold\">=</span><span style=\"color: #800000; text-decoration-color: #800000; font-weight: bold\">'cuda:0'</span><span style=\"color: #800000; text-decoration-color: #800000; font-weight: bold\">, </span>\n",
       "<span style=\"color: #800000; text-decoration-color: #800000; font-weight: bold\">grad_fn</span><span style=\"color: #800000; text-decoration-color: #800000; font-weight: bold\">=&lt;NllLossBackward0&gt;)</span>\n",
       "</pre>\n"
      ],
      "text/plain": [
       "\u001b[1;31mloss = \u001b[0m\u001b[1;31mtensor\u001b[0m\u001b[1;31m(\u001b[0m\u001b[1;31m0.0309\u001b[0m\u001b[1;31m, \u001b[0m\u001b[1;31mdevice\u001b[0m\u001b[1;31m=\u001b[0m\u001b[1;31m'cuda:0'\u001b[0m\u001b[1;31m)\u001b[0m\u001b[1;31m computed_loss = \u001b[0m\u001b[1;31mtensor\u001b[0m\u001b[1;31m(\u001b[0m\u001b[1;31m0.0287\u001b[0m\u001b[1;31m, \u001b[0m\u001b[1;31mdevice\u001b[0m\u001b[1;31m=\u001b[0m\u001b[1;31m'cuda:0'\u001b[0m\u001b[1;31m, \u001b[0m\n",
       "\u001b[1;31mgrad_fn\u001b[0m\u001b[1;31m=\u001b[0m\u001b[1;31m<\u001b[0m\u001b[1;31mNllLossBackward0\u001b[0m\u001b[1;31m>\u001b[0m\u001b[1;31m)\u001b[0m\n"
      ]
     },
     "metadata": {},
     "output_type": "display_data"
    },
    {
     "data": {
      "text/html": [
       "<pre style=\"white-space:pre;overflow-x:auto;line-height:normal;font-family:Menlo,'DejaVu Sans Mono',consolas,'Courier New',monospace\"><span style=\"color: #800000; text-decoration-color: #800000; font-weight: bold\">loss = tensor(</span><span style=\"color: #800000; text-decoration-color: #800000; font-weight: bold\">0.0062</span><span style=\"color: #800000; text-decoration-color: #800000; font-weight: bold\">, </span><span style=\"color: #800000; text-decoration-color: #800000; font-weight: bold\">device</span><span style=\"color: #800000; text-decoration-color: #800000; font-weight: bold\">=</span><span style=\"color: #800000; text-decoration-color: #800000; font-weight: bold\">'cuda:0'</span><span style=\"color: #800000; text-decoration-color: #800000; font-weight: bold\">) computed_loss = tensor(</span><span style=\"color: #800000; text-decoration-color: #800000; font-weight: bold\">0.0063</span><span style=\"color: #800000; text-decoration-color: #800000; font-weight: bold\">, </span><span style=\"color: #800000; text-decoration-color: #800000; font-weight: bold\">device</span><span style=\"color: #800000; text-decoration-color: #800000; font-weight: bold\">=</span><span style=\"color: #800000; text-decoration-color: #800000; font-weight: bold\">'cuda:0'</span><span style=\"color: #800000; text-decoration-color: #800000; font-weight: bold\">, </span>\n",
       "<span style=\"color: #800000; text-decoration-color: #800000; font-weight: bold\">grad_fn</span><span style=\"color: #800000; text-decoration-color: #800000; font-weight: bold\">=&lt;NllLossBackward0&gt;)</span>\n",
       "</pre>\n"
      ],
      "text/plain": [
       "\u001b[1;31mloss = \u001b[0m\u001b[1;31mtensor\u001b[0m\u001b[1;31m(\u001b[0m\u001b[1;31m0.0062\u001b[0m\u001b[1;31m, \u001b[0m\u001b[1;31mdevice\u001b[0m\u001b[1;31m=\u001b[0m\u001b[1;31m'cuda:0'\u001b[0m\u001b[1;31m)\u001b[0m\u001b[1;31m computed_loss = \u001b[0m\u001b[1;31mtensor\u001b[0m\u001b[1;31m(\u001b[0m\u001b[1;31m0.0063\u001b[0m\u001b[1;31m, \u001b[0m\u001b[1;31mdevice\u001b[0m\u001b[1;31m=\u001b[0m\u001b[1;31m'cuda:0'\u001b[0m\u001b[1;31m, \u001b[0m\n",
       "\u001b[1;31mgrad_fn\u001b[0m\u001b[1;31m=\u001b[0m\u001b[1;31m<\u001b[0m\u001b[1;31mNllLossBackward0\u001b[0m\u001b[1;31m>\u001b[0m\u001b[1;31m)\u001b[0m\n"
      ]
     },
     "metadata": {},
     "output_type": "display_data"
    },
    {
     "data": {
      "text/html": [
       "<pre style=\"white-space:pre;overflow-x:auto;line-height:normal;font-family:Menlo,'DejaVu Sans Mono',consolas,'Courier New',monospace\"><span style=\"color: #800000; text-decoration-color: #800000; font-weight: bold\">loss = tensor(</span><span style=\"color: #800000; text-decoration-color: #800000; font-weight: bold\">0.0057</span><span style=\"color: #800000; text-decoration-color: #800000; font-weight: bold\">, </span><span style=\"color: #800000; text-decoration-color: #800000; font-weight: bold\">device</span><span style=\"color: #800000; text-decoration-color: #800000; font-weight: bold\">=</span><span style=\"color: #800000; text-decoration-color: #800000; font-weight: bold\">'cuda:0'</span><span style=\"color: #800000; text-decoration-color: #800000; font-weight: bold\">) computed_loss = tensor(</span><span style=\"color: #800000; text-decoration-color: #800000; font-weight: bold\">0.0058</span><span style=\"color: #800000; text-decoration-color: #800000; font-weight: bold\">, </span><span style=\"color: #800000; text-decoration-color: #800000; font-weight: bold\">device</span><span style=\"color: #800000; text-decoration-color: #800000; font-weight: bold\">=</span><span style=\"color: #800000; text-decoration-color: #800000; font-weight: bold\">'cuda:0'</span><span style=\"color: #800000; text-decoration-color: #800000; font-weight: bold\">, </span>\n",
       "<span style=\"color: #800000; text-decoration-color: #800000; font-weight: bold\">grad_fn</span><span style=\"color: #800000; text-decoration-color: #800000; font-weight: bold\">=&lt;NllLossBackward0&gt;)</span>\n",
       "</pre>\n"
      ],
      "text/plain": [
       "\u001b[1;31mloss = \u001b[0m\u001b[1;31mtensor\u001b[0m\u001b[1;31m(\u001b[0m\u001b[1;31m0.0057\u001b[0m\u001b[1;31m, \u001b[0m\u001b[1;31mdevice\u001b[0m\u001b[1;31m=\u001b[0m\u001b[1;31m'cuda:0'\u001b[0m\u001b[1;31m)\u001b[0m\u001b[1;31m computed_loss = \u001b[0m\u001b[1;31mtensor\u001b[0m\u001b[1;31m(\u001b[0m\u001b[1;31m0.0058\u001b[0m\u001b[1;31m, \u001b[0m\u001b[1;31mdevice\u001b[0m\u001b[1;31m=\u001b[0m\u001b[1;31m'cuda:0'\u001b[0m\u001b[1;31m, \u001b[0m\n",
       "\u001b[1;31mgrad_fn\u001b[0m\u001b[1;31m=\u001b[0m\u001b[1;31m<\u001b[0m\u001b[1;31mNllLossBackward0\u001b[0m\u001b[1;31m>\u001b[0m\u001b[1;31m)\u001b[0m\n"
      ]
     },
     "metadata": {},
     "output_type": "display_data"
    },
    {
     "data": {
      "text/html": [
       "<pre style=\"white-space:pre;overflow-x:auto;line-height:normal;font-family:Menlo,'DejaVu Sans Mono',consolas,'Courier New',monospace\"><span style=\"color: #800000; text-decoration-color: #800000; font-weight: bold\">loss = tensor(</span><span style=\"color: #800000; text-decoration-color: #800000; font-weight: bold\">0.0053</span><span style=\"color: #800000; text-decoration-color: #800000; font-weight: bold\">, </span><span style=\"color: #800000; text-decoration-color: #800000; font-weight: bold\">device</span><span style=\"color: #800000; text-decoration-color: #800000; font-weight: bold\">=</span><span style=\"color: #800000; text-decoration-color: #800000; font-weight: bold\">'cuda:0'</span><span style=\"color: #800000; text-decoration-color: #800000; font-weight: bold\">) computed_loss = tensor(</span><span style=\"color: #800000; text-decoration-color: #800000; font-weight: bold\">0.0053</span><span style=\"color: #800000; text-decoration-color: #800000; font-weight: bold\">, </span><span style=\"color: #800000; text-decoration-color: #800000; font-weight: bold\">device</span><span style=\"color: #800000; text-decoration-color: #800000; font-weight: bold\">=</span><span style=\"color: #800000; text-decoration-color: #800000; font-weight: bold\">'cuda:0'</span><span style=\"color: #800000; text-decoration-color: #800000; font-weight: bold\">, </span>\n",
       "<span style=\"color: #800000; text-decoration-color: #800000; font-weight: bold\">grad_fn</span><span style=\"color: #800000; text-decoration-color: #800000; font-weight: bold\">=&lt;NllLossBackward0&gt;)</span>\n",
       "</pre>\n"
      ],
      "text/plain": [
       "\u001b[1;31mloss = \u001b[0m\u001b[1;31mtensor\u001b[0m\u001b[1;31m(\u001b[0m\u001b[1;31m0.0053\u001b[0m\u001b[1;31m, \u001b[0m\u001b[1;31mdevice\u001b[0m\u001b[1;31m=\u001b[0m\u001b[1;31m'cuda:0'\u001b[0m\u001b[1;31m)\u001b[0m\u001b[1;31m computed_loss = \u001b[0m\u001b[1;31mtensor\u001b[0m\u001b[1;31m(\u001b[0m\u001b[1;31m0.0053\u001b[0m\u001b[1;31m, \u001b[0m\u001b[1;31mdevice\u001b[0m\u001b[1;31m=\u001b[0m\u001b[1;31m'cuda:0'\u001b[0m\u001b[1;31m, \u001b[0m\n",
       "\u001b[1;31mgrad_fn\u001b[0m\u001b[1;31m=\u001b[0m\u001b[1;31m<\u001b[0m\u001b[1;31mNllLossBackward0\u001b[0m\u001b[1;31m>\u001b[0m\u001b[1;31m)\u001b[0m\n"
      ]
     },
     "metadata": {},
     "output_type": "display_data"
    },
    {
     "data": {
      "text/html": [
       "<pre style=\"white-space:pre;overflow-x:auto;line-height:normal;font-family:Menlo,'DejaVu Sans Mono',consolas,'Courier New',monospace\"><span style=\"color: #800000; text-decoration-color: #800000; font-weight: bold\">loss = tensor(</span><span style=\"color: #800000; text-decoration-color: #800000; font-weight: bold\">0.0052</span><span style=\"color: #800000; text-decoration-color: #800000; font-weight: bold\">, </span><span style=\"color: #800000; text-decoration-color: #800000; font-weight: bold\">device</span><span style=\"color: #800000; text-decoration-color: #800000; font-weight: bold\">=</span><span style=\"color: #800000; text-decoration-color: #800000; font-weight: bold\">'cuda:0'</span><span style=\"color: #800000; text-decoration-color: #800000; font-weight: bold\">) computed_loss = tensor(</span><span style=\"color: #800000; text-decoration-color: #800000; font-weight: bold\">0.0051</span><span style=\"color: #800000; text-decoration-color: #800000; font-weight: bold\">, </span><span style=\"color: #800000; text-decoration-color: #800000; font-weight: bold\">device</span><span style=\"color: #800000; text-decoration-color: #800000; font-weight: bold\">=</span><span style=\"color: #800000; text-decoration-color: #800000; font-weight: bold\">'cuda:0'</span><span style=\"color: #800000; text-decoration-color: #800000; font-weight: bold\">, </span>\n",
       "<span style=\"color: #800000; text-decoration-color: #800000; font-weight: bold\">grad_fn</span><span style=\"color: #800000; text-decoration-color: #800000; font-weight: bold\">=&lt;NllLossBackward0&gt;)</span>\n",
       "</pre>\n"
      ],
      "text/plain": [
       "\u001b[1;31mloss = \u001b[0m\u001b[1;31mtensor\u001b[0m\u001b[1;31m(\u001b[0m\u001b[1;31m0.0052\u001b[0m\u001b[1;31m, \u001b[0m\u001b[1;31mdevice\u001b[0m\u001b[1;31m=\u001b[0m\u001b[1;31m'cuda:0'\u001b[0m\u001b[1;31m)\u001b[0m\u001b[1;31m computed_loss = \u001b[0m\u001b[1;31mtensor\u001b[0m\u001b[1;31m(\u001b[0m\u001b[1;31m0.0051\u001b[0m\u001b[1;31m, \u001b[0m\u001b[1;31mdevice\u001b[0m\u001b[1;31m=\u001b[0m\u001b[1;31m'cuda:0'\u001b[0m\u001b[1;31m, \u001b[0m\n",
       "\u001b[1;31mgrad_fn\u001b[0m\u001b[1;31m=\u001b[0m\u001b[1;31m<\u001b[0m\u001b[1;31mNllLossBackward0\u001b[0m\u001b[1;31m>\u001b[0m\u001b[1;31m)\u001b[0m\n"
      ]
     },
     "metadata": {},
     "output_type": "display_data"
    },
    {
     "data": {
      "text/html": [
       "<pre style=\"white-space:pre;overflow-x:auto;line-height:normal;font-family:Menlo,'DejaVu Sans Mono',consolas,'Courier New',monospace\"><span style=\"color: #800000; text-decoration-color: #800000; font-weight: bold\">loss = tensor(</span><span style=\"color: #800000; text-decoration-color: #800000; font-weight: bold\">0.7397</span><span style=\"color: #800000; text-decoration-color: #800000; font-weight: bold\">, </span><span style=\"color: #800000; text-decoration-color: #800000; font-weight: bold\">device</span><span style=\"color: #800000; text-decoration-color: #800000; font-weight: bold\">=</span><span style=\"color: #800000; text-decoration-color: #800000; font-weight: bold\">'cuda:0'</span><span style=\"color: #800000; text-decoration-color: #800000; font-weight: bold\">) computed_loss = tensor(</span><span style=\"color: #800000; text-decoration-color: #800000; font-weight: bold\">0.7765</span><span style=\"color: #800000; text-decoration-color: #800000; font-weight: bold\">, </span><span style=\"color: #800000; text-decoration-color: #800000; font-weight: bold\">device</span><span style=\"color: #800000; text-decoration-color: #800000; font-weight: bold\">=</span><span style=\"color: #800000; text-decoration-color: #800000; font-weight: bold\">'cuda:0'</span><span style=\"color: #800000; text-decoration-color: #800000; font-weight: bold\">, </span>\n",
       "<span style=\"color: #800000; text-decoration-color: #800000; font-weight: bold\">grad_fn</span><span style=\"color: #800000; text-decoration-color: #800000; font-weight: bold\">=&lt;NllLossBackward0&gt;)</span>\n",
       "</pre>\n"
      ],
      "text/plain": [
       "\u001b[1;31mloss = \u001b[0m\u001b[1;31mtensor\u001b[0m\u001b[1;31m(\u001b[0m\u001b[1;31m0.7397\u001b[0m\u001b[1;31m, \u001b[0m\u001b[1;31mdevice\u001b[0m\u001b[1;31m=\u001b[0m\u001b[1;31m'cuda:0'\u001b[0m\u001b[1;31m)\u001b[0m\u001b[1;31m computed_loss = \u001b[0m\u001b[1;31mtensor\u001b[0m\u001b[1;31m(\u001b[0m\u001b[1;31m0.7765\u001b[0m\u001b[1;31m, \u001b[0m\u001b[1;31mdevice\u001b[0m\u001b[1;31m=\u001b[0m\u001b[1;31m'cuda:0'\u001b[0m\u001b[1;31m, \u001b[0m\n",
       "\u001b[1;31mgrad_fn\u001b[0m\u001b[1;31m=\u001b[0m\u001b[1;31m<\u001b[0m\u001b[1;31mNllLossBackward0\u001b[0m\u001b[1;31m>\u001b[0m\u001b[1;31m)\u001b[0m\n"
      ]
     },
     "metadata": {},
     "output_type": "display_data"
    },
    {
     "data": {
      "text/html": [
       "<pre style=\"white-space:pre;overflow-x:auto;line-height:normal;font-family:Menlo,'DejaVu Sans Mono',consolas,'Courier New',monospace\"><span style=\"color: #800000; text-decoration-color: #800000; font-weight: bold\">loss = tensor(</span><span style=\"color: #800000; text-decoration-color: #800000; font-weight: bold\">0.2434</span><span style=\"color: #800000; text-decoration-color: #800000; font-weight: bold\">, </span><span style=\"color: #800000; text-decoration-color: #800000; font-weight: bold\">device</span><span style=\"color: #800000; text-decoration-color: #800000; font-weight: bold\">=</span><span style=\"color: #800000; text-decoration-color: #800000; font-weight: bold\">'cuda:0'</span><span style=\"color: #800000; text-decoration-color: #800000; font-weight: bold\">) computed_loss = tensor(</span><span style=\"color: #800000; text-decoration-color: #800000; font-weight: bold\">0.2197</span><span style=\"color: #800000; text-decoration-color: #800000; font-weight: bold\">, </span><span style=\"color: #800000; text-decoration-color: #800000; font-weight: bold\">device</span><span style=\"color: #800000; text-decoration-color: #800000; font-weight: bold\">=</span><span style=\"color: #800000; text-decoration-color: #800000; font-weight: bold\">'cuda:0'</span><span style=\"color: #800000; text-decoration-color: #800000; font-weight: bold\">, </span>\n",
       "<span style=\"color: #800000; text-decoration-color: #800000; font-weight: bold\">grad_fn</span><span style=\"color: #800000; text-decoration-color: #800000; font-weight: bold\">=&lt;NllLossBackward0&gt;)</span>\n",
       "</pre>\n"
      ],
      "text/plain": [
       "\u001b[1;31mloss = \u001b[0m\u001b[1;31mtensor\u001b[0m\u001b[1;31m(\u001b[0m\u001b[1;31m0.2434\u001b[0m\u001b[1;31m, \u001b[0m\u001b[1;31mdevice\u001b[0m\u001b[1;31m=\u001b[0m\u001b[1;31m'cuda:0'\u001b[0m\u001b[1;31m)\u001b[0m\u001b[1;31m computed_loss = \u001b[0m\u001b[1;31mtensor\u001b[0m\u001b[1;31m(\u001b[0m\u001b[1;31m0.2197\u001b[0m\u001b[1;31m, \u001b[0m\u001b[1;31mdevice\u001b[0m\u001b[1;31m=\u001b[0m\u001b[1;31m'cuda:0'\u001b[0m\u001b[1;31m, \u001b[0m\n",
       "\u001b[1;31mgrad_fn\u001b[0m\u001b[1;31m=\u001b[0m\u001b[1;31m<\u001b[0m\u001b[1;31mNllLossBackward0\u001b[0m\u001b[1;31m>\u001b[0m\u001b[1;31m)\u001b[0m\n"
      ]
     },
     "metadata": {},
     "output_type": "display_data"
    },
    {
     "data": {
      "text/html": [
       "<pre style=\"white-space:pre;overflow-x:auto;line-height:normal;font-family:Menlo,'DejaVu Sans Mono',consolas,'Courier New',monospace\"><span style=\"color: #800000; text-decoration-color: #800000; font-weight: bold\">loss = tensor(</span><span style=\"color: #800000; text-decoration-color: #800000; font-weight: bold\">0.0063</span><span style=\"color: #800000; text-decoration-color: #800000; font-weight: bold\">, </span><span style=\"color: #800000; text-decoration-color: #800000; font-weight: bold\">device</span><span style=\"color: #800000; text-decoration-color: #800000; font-weight: bold\">=</span><span style=\"color: #800000; text-decoration-color: #800000; font-weight: bold\">'cuda:0'</span><span style=\"color: #800000; text-decoration-color: #800000; font-weight: bold\">) computed_loss = tensor(</span><span style=\"color: #800000; text-decoration-color: #800000; font-weight: bold\">0.0062</span><span style=\"color: #800000; text-decoration-color: #800000; font-weight: bold\">, </span><span style=\"color: #800000; text-decoration-color: #800000; font-weight: bold\">device</span><span style=\"color: #800000; text-decoration-color: #800000; font-weight: bold\">=</span><span style=\"color: #800000; text-decoration-color: #800000; font-weight: bold\">'cuda:0'</span><span style=\"color: #800000; text-decoration-color: #800000; font-weight: bold\">, </span>\n",
       "<span style=\"color: #800000; text-decoration-color: #800000; font-weight: bold\">grad_fn</span><span style=\"color: #800000; text-decoration-color: #800000; font-weight: bold\">=&lt;NllLossBackward0&gt;)</span>\n",
       "</pre>\n"
      ],
      "text/plain": [
       "\u001b[1;31mloss = \u001b[0m\u001b[1;31mtensor\u001b[0m\u001b[1;31m(\u001b[0m\u001b[1;31m0.0063\u001b[0m\u001b[1;31m, \u001b[0m\u001b[1;31mdevice\u001b[0m\u001b[1;31m=\u001b[0m\u001b[1;31m'cuda:0'\u001b[0m\u001b[1;31m)\u001b[0m\u001b[1;31m computed_loss = \u001b[0m\u001b[1;31mtensor\u001b[0m\u001b[1;31m(\u001b[0m\u001b[1;31m0.0062\u001b[0m\u001b[1;31m, \u001b[0m\u001b[1;31mdevice\u001b[0m\u001b[1;31m=\u001b[0m\u001b[1;31m'cuda:0'\u001b[0m\u001b[1;31m, \u001b[0m\n",
       "\u001b[1;31mgrad_fn\u001b[0m\u001b[1;31m=\u001b[0m\u001b[1;31m<\u001b[0m\u001b[1;31mNllLossBackward0\u001b[0m\u001b[1;31m>\u001b[0m\u001b[1;31m)\u001b[0m\n"
      ]
     },
     "metadata": {},
     "output_type": "display_data"
    },
    {
     "data": {
      "text/html": [
       "<pre style=\"white-space:pre;overflow-x:auto;line-height:normal;font-family:Menlo,'DejaVu Sans Mono',consolas,'Courier New',monospace\"><span style=\"color: #800000; text-decoration-color: #800000; font-weight: bold\">loss = tensor(</span><span style=\"color: #800000; text-decoration-color: #800000; font-weight: bold\">0.0062</span><span style=\"color: #800000; text-decoration-color: #800000; font-weight: bold\">, </span><span style=\"color: #800000; text-decoration-color: #800000; font-weight: bold\">device</span><span style=\"color: #800000; text-decoration-color: #800000; font-weight: bold\">=</span><span style=\"color: #800000; text-decoration-color: #800000; font-weight: bold\">'cuda:0'</span><span style=\"color: #800000; text-decoration-color: #800000; font-weight: bold\">) computed_loss = tensor(</span><span style=\"color: #800000; text-decoration-color: #800000; font-weight: bold\">0.0061</span><span style=\"color: #800000; text-decoration-color: #800000; font-weight: bold\">, </span><span style=\"color: #800000; text-decoration-color: #800000; font-weight: bold\">device</span><span style=\"color: #800000; text-decoration-color: #800000; font-weight: bold\">=</span><span style=\"color: #800000; text-decoration-color: #800000; font-weight: bold\">'cuda:0'</span><span style=\"color: #800000; text-decoration-color: #800000; font-weight: bold\">, </span>\n",
       "<span style=\"color: #800000; text-decoration-color: #800000; font-weight: bold\">grad_fn</span><span style=\"color: #800000; text-decoration-color: #800000; font-weight: bold\">=&lt;NllLossBackward0&gt;)</span>\n",
       "</pre>\n"
      ],
      "text/plain": [
       "\u001b[1;31mloss = \u001b[0m\u001b[1;31mtensor\u001b[0m\u001b[1;31m(\u001b[0m\u001b[1;31m0.0062\u001b[0m\u001b[1;31m, \u001b[0m\u001b[1;31mdevice\u001b[0m\u001b[1;31m=\u001b[0m\u001b[1;31m'cuda:0'\u001b[0m\u001b[1;31m)\u001b[0m\u001b[1;31m computed_loss = \u001b[0m\u001b[1;31mtensor\u001b[0m\u001b[1;31m(\u001b[0m\u001b[1;31m0.0061\u001b[0m\u001b[1;31m, \u001b[0m\u001b[1;31mdevice\u001b[0m\u001b[1;31m=\u001b[0m\u001b[1;31m'cuda:0'\u001b[0m\u001b[1;31m, \u001b[0m\n",
       "\u001b[1;31mgrad_fn\u001b[0m\u001b[1;31m=\u001b[0m\u001b[1;31m<\u001b[0m\u001b[1;31mNllLossBackward0\u001b[0m\u001b[1;31m>\u001b[0m\u001b[1;31m)\u001b[0m\n"
      ]
     },
     "metadata": {},
     "output_type": "display_data"
    },
    {
     "data": {
      "text/html": [
       "<pre style=\"white-space:pre;overflow-x:auto;line-height:normal;font-family:Menlo,'DejaVu Sans Mono',consolas,'Courier New',monospace\"><span style=\"color: #800000; text-decoration-color: #800000; font-weight: bold\">loss = tensor(</span><span style=\"color: #800000; text-decoration-color: #800000; font-weight: bold\">0.2069</span><span style=\"color: #800000; text-decoration-color: #800000; font-weight: bold\">, </span><span style=\"color: #800000; text-decoration-color: #800000; font-weight: bold\">device</span><span style=\"color: #800000; text-decoration-color: #800000; font-weight: bold\">=</span><span style=\"color: #800000; text-decoration-color: #800000; font-weight: bold\">'cuda:0'</span><span style=\"color: #800000; text-decoration-color: #800000; font-weight: bold\">) computed_loss = tensor(</span><span style=\"color: #800000; text-decoration-color: #800000; font-weight: bold\">0.2167</span><span style=\"color: #800000; text-decoration-color: #800000; font-weight: bold\">, </span><span style=\"color: #800000; text-decoration-color: #800000; font-weight: bold\">device</span><span style=\"color: #800000; text-decoration-color: #800000; font-weight: bold\">=</span><span style=\"color: #800000; text-decoration-color: #800000; font-weight: bold\">'cuda:0'</span><span style=\"color: #800000; text-decoration-color: #800000; font-weight: bold\">, </span>\n",
       "<span style=\"color: #800000; text-decoration-color: #800000; font-weight: bold\">grad_fn</span><span style=\"color: #800000; text-decoration-color: #800000; font-weight: bold\">=&lt;NllLossBackward0&gt;)</span>\n",
       "</pre>\n"
      ],
      "text/plain": [
       "\u001b[1;31mloss = \u001b[0m\u001b[1;31mtensor\u001b[0m\u001b[1;31m(\u001b[0m\u001b[1;31m0.2069\u001b[0m\u001b[1;31m, \u001b[0m\u001b[1;31mdevice\u001b[0m\u001b[1;31m=\u001b[0m\u001b[1;31m'cuda:0'\u001b[0m\u001b[1;31m)\u001b[0m\u001b[1;31m computed_loss = \u001b[0m\u001b[1;31mtensor\u001b[0m\u001b[1;31m(\u001b[0m\u001b[1;31m0.2167\u001b[0m\u001b[1;31m, \u001b[0m\u001b[1;31mdevice\u001b[0m\u001b[1;31m=\u001b[0m\u001b[1;31m'cuda:0'\u001b[0m\u001b[1;31m, \u001b[0m\n",
       "\u001b[1;31mgrad_fn\u001b[0m\u001b[1;31m=\u001b[0m\u001b[1;31m<\u001b[0m\u001b[1;31mNllLossBackward0\u001b[0m\u001b[1;31m>\u001b[0m\u001b[1;31m)\u001b[0m\n"
      ]
     },
     "metadata": {},
     "output_type": "display_data"
    },
    {
     "data": {
      "text/html": [
       "<pre style=\"white-space:pre;overflow-x:auto;line-height:normal;font-family:Menlo,'DejaVu Sans Mono',consolas,'Courier New',monospace\"><span style=\"color: #800000; text-decoration-color: #800000; font-weight: bold\">loss = tensor(</span><span style=\"color: #800000; text-decoration-color: #800000; font-weight: bold\">0.0155</span><span style=\"color: #800000; text-decoration-color: #800000; font-weight: bold\">, </span><span style=\"color: #800000; text-decoration-color: #800000; font-weight: bold\">device</span><span style=\"color: #800000; text-decoration-color: #800000; font-weight: bold\">=</span><span style=\"color: #800000; text-decoration-color: #800000; font-weight: bold\">'cuda:0'</span><span style=\"color: #800000; text-decoration-color: #800000; font-weight: bold\">) computed_loss = tensor(</span><span style=\"color: #800000; text-decoration-color: #800000; font-weight: bold\">0.0147</span><span style=\"color: #800000; text-decoration-color: #800000; font-weight: bold\">, </span><span style=\"color: #800000; text-decoration-color: #800000; font-weight: bold\">device</span><span style=\"color: #800000; text-decoration-color: #800000; font-weight: bold\">=</span><span style=\"color: #800000; text-decoration-color: #800000; font-weight: bold\">'cuda:0'</span><span style=\"color: #800000; text-decoration-color: #800000; font-weight: bold\">, </span>\n",
       "<span style=\"color: #800000; text-decoration-color: #800000; font-weight: bold\">grad_fn</span><span style=\"color: #800000; text-decoration-color: #800000; font-weight: bold\">=&lt;NllLossBackward0&gt;)</span>\n",
       "</pre>\n"
      ],
      "text/plain": [
       "\u001b[1;31mloss = \u001b[0m\u001b[1;31mtensor\u001b[0m\u001b[1;31m(\u001b[0m\u001b[1;31m0.0155\u001b[0m\u001b[1;31m, \u001b[0m\u001b[1;31mdevice\u001b[0m\u001b[1;31m=\u001b[0m\u001b[1;31m'cuda:0'\u001b[0m\u001b[1;31m)\u001b[0m\u001b[1;31m computed_loss = \u001b[0m\u001b[1;31mtensor\u001b[0m\u001b[1;31m(\u001b[0m\u001b[1;31m0.0147\u001b[0m\u001b[1;31m, \u001b[0m\u001b[1;31mdevice\u001b[0m\u001b[1;31m=\u001b[0m\u001b[1;31m'cuda:0'\u001b[0m\u001b[1;31m, \u001b[0m\n",
       "\u001b[1;31mgrad_fn\u001b[0m\u001b[1;31m=\u001b[0m\u001b[1;31m<\u001b[0m\u001b[1;31mNllLossBackward0\u001b[0m\u001b[1;31m>\u001b[0m\u001b[1;31m)\u001b[0m\n"
      ]
     },
     "metadata": {},
     "output_type": "display_data"
    },
    {
     "data": {
      "text/html": [
       "<pre style=\"white-space:pre;overflow-x:auto;line-height:normal;font-family:Menlo,'DejaVu Sans Mono',consolas,'Courier New',monospace\"><span style=\"color: #800000; text-decoration-color: #800000; font-weight: bold\">loss = tensor(</span><span style=\"color: #800000; text-decoration-color: #800000; font-weight: bold\">0.0052</span><span style=\"color: #800000; text-decoration-color: #800000; font-weight: bold\">, </span><span style=\"color: #800000; text-decoration-color: #800000; font-weight: bold\">device</span><span style=\"color: #800000; text-decoration-color: #800000; font-weight: bold\">=</span><span style=\"color: #800000; text-decoration-color: #800000; font-weight: bold\">'cuda:0'</span><span style=\"color: #800000; text-decoration-color: #800000; font-weight: bold\">) computed_loss = tensor(</span><span style=\"color: #800000; text-decoration-color: #800000; font-weight: bold\">0.0051</span><span style=\"color: #800000; text-decoration-color: #800000; font-weight: bold\">, </span><span style=\"color: #800000; text-decoration-color: #800000; font-weight: bold\">device</span><span style=\"color: #800000; text-decoration-color: #800000; font-weight: bold\">=</span><span style=\"color: #800000; text-decoration-color: #800000; font-weight: bold\">'cuda:0'</span><span style=\"color: #800000; text-decoration-color: #800000; font-weight: bold\">, </span>\n",
       "<span style=\"color: #800000; text-decoration-color: #800000; font-weight: bold\">grad_fn</span><span style=\"color: #800000; text-decoration-color: #800000; font-weight: bold\">=&lt;NllLossBackward0&gt;)</span>\n",
       "</pre>\n"
      ],
      "text/plain": [
       "\u001b[1;31mloss = \u001b[0m\u001b[1;31mtensor\u001b[0m\u001b[1;31m(\u001b[0m\u001b[1;31m0.0052\u001b[0m\u001b[1;31m, \u001b[0m\u001b[1;31mdevice\u001b[0m\u001b[1;31m=\u001b[0m\u001b[1;31m'cuda:0'\u001b[0m\u001b[1;31m)\u001b[0m\u001b[1;31m computed_loss = \u001b[0m\u001b[1;31mtensor\u001b[0m\u001b[1;31m(\u001b[0m\u001b[1;31m0.0051\u001b[0m\u001b[1;31m, \u001b[0m\u001b[1;31mdevice\u001b[0m\u001b[1;31m=\u001b[0m\u001b[1;31m'cuda:0'\u001b[0m\u001b[1;31m, \u001b[0m\n",
       "\u001b[1;31mgrad_fn\u001b[0m\u001b[1;31m=\u001b[0m\u001b[1;31m<\u001b[0m\u001b[1;31mNllLossBackward0\u001b[0m\u001b[1;31m>\u001b[0m\u001b[1;31m)\u001b[0m\n"
      ]
     },
     "metadata": {},
     "output_type": "display_data"
    },
    {
     "data": {
      "text/html": [
       "<pre style=\"white-space:pre;overflow-x:auto;line-height:normal;font-family:Menlo,'DejaVu Sans Mono',consolas,'Courier New',monospace\"><span style=\"color: #800000; text-decoration-color: #800000; font-weight: bold\">loss = tensor(</span><span style=\"color: #800000; text-decoration-color: #800000; font-weight: bold\">0.0243</span><span style=\"color: #800000; text-decoration-color: #800000; font-weight: bold\">, </span><span style=\"color: #800000; text-decoration-color: #800000; font-weight: bold\">device</span><span style=\"color: #800000; text-decoration-color: #800000; font-weight: bold\">=</span><span style=\"color: #800000; text-decoration-color: #800000; font-weight: bold\">'cuda:0'</span><span style=\"color: #800000; text-decoration-color: #800000; font-weight: bold\">) computed_loss = tensor(</span><span style=\"color: #800000; text-decoration-color: #800000; font-weight: bold\">0.0224</span><span style=\"color: #800000; text-decoration-color: #800000; font-weight: bold\">, </span><span style=\"color: #800000; text-decoration-color: #800000; font-weight: bold\">device</span><span style=\"color: #800000; text-decoration-color: #800000; font-weight: bold\">=</span><span style=\"color: #800000; text-decoration-color: #800000; font-weight: bold\">'cuda:0'</span><span style=\"color: #800000; text-decoration-color: #800000; font-weight: bold\">, </span>\n",
       "<span style=\"color: #800000; text-decoration-color: #800000; font-weight: bold\">grad_fn</span><span style=\"color: #800000; text-decoration-color: #800000; font-weight: bold\">=&lt;NllLossBackward0&gt;)</span>\n",
       "</pre>\n"
      ],
      "text/plain": [
       "\u001b[1;31mloss = \u001b[0m\u001b[1;31mtensor\u001b[0m\u001b[1;31m(\u001b[0m\u001b[1;31m0.0243\u001b[0m\u001b[1;31m, \u001b[0m\u001b[1;31mdevice\u001b[0m\u001b[1;31m=\u001b[0m\u001b[1;31m'cuda:0'\u001b[0m\u001b[1;31m)\u001b[0m\u001b[1;31m computed_loss = \u001b[0m\u001b[1;31mtensor\u001b[0m\u001b[1;31m(\u001b[0m\u001b[1;31m0.0224\u001b[0m\u001b[1;31m, \u001b[0m\u001b[1;31mdevice\u001b[0m\u001b[1;31m=\u001b[0m\u001b[1;31m'cuda:0'\u001b[0m\u001b[1;31m, \u001b[0m\n",
       "\u001b[1;31mgrad_fn\u001b[0m\u001b[1;31m=\u001b[0m\u001b[1;31m<\u001b[0m\u001b[1;31mNllLossBackward0\u001b[0m\u001b[1;31m>\u001b[0m\u001b[1;31m)\u001b[0m\n"
      ]
     },
     "metadata": {},
     "output_type": "display_data"
    },
    {
     "data": {
      "text/html": [
       "<pre style=\"white-space:pre;overflow-x:auto;line-height:normal;font-family:Menlo,'DejaVu Sans Mono',consolas,'Courier New',monospace\"><span style=\"color: #800000; text-decoration-color: #800000; font-weight: bold\">loss = tensor(</span><span style=\"color: #800000; text-decoration-color: #800000; font-weight: bold\">0.0085</span><span style=\"color: #800000; text-decoration-color: #800000; font-weight: bold\">, </span><span style=\"color: #800000; text-decoration-color: #800000; font-weight: bold\">device</span><span style=\"color: #800000; text-decoration-color: #800000; font-weight: bold\">=</span><span style=\"color: #800000; text-decoration-color: #800000; font-weight: bold\">'cuda:0'</span><span style=\"color: #800000; text-decoration-color: #800000; font-weight: bold\">) computed_loss = tensor(</span><span style=\"color: #800000; text-decoration-color: #800000; font-weight: bold\">0.0087</span><span style=\"color: #800000; text-decoration-color: #800000; font-weight: bold\">, </span><span style=\"color: #800000; text-decoration-color: #800000; font-weight: bold\">device</span><span style=\"color: #800000; text-decoration-color: #800000; font-weight: bold\">=</span><span style=\"color: #800000; text-decoration-color: #800000; font-weight: bold\">'cuda:0'</span><span style=\"color: #800000; text-decoration-color: #800000; font-weight: bold\">, </span>\n",
       "<span style=\"color: #800000; text-decoration-color: #800000; font-weight: bold\">grad_fn</span><span style=\"color: #800000; text-decoration-color: #800000; font-weight: bold\">=&lt;NllLossBackward0&gt;)</span>\n",
       "</pre>\n"
      ],
      "text/plain": [
       "\u001b[1;31mloss = \u001b[0m\u001b[1;31mtensor\u001b[0m\u001b[1;31m(\u001b[0m\u001b[1;31m0.0085\u001b[0m\u001b[1;31m, \u001b[0m\u001b[1;31mdevice\u001b[0m\u001b[1;31m=\u001b[0m\u001b[1;31m'cuda:0'\u001b[0m\u001b[1;31m)\u001b[0m\u001b[1;31m computed_loss = \u001b[0m\u001b[1;31mtensor\u001b[0m\u001b[1;31m(\u001b[0m\u001b[1;31m0.0087\u001b[0m\u001b[1;31m, \u001b[0m\u001b[1;31mdevice\u001b[0m\u001b[1;31m=\u001b[0m\u001b[1;31m'cuda:0'\u001b[0m\u001b[1;31m, \u001b[0m\n",
       "\u001b[1;31mgrad_fn\u001b[0m\u001b[1;31m=\u001b[0m\u001b[1;31m<\u001b[0m\u001b[1;31mNllLossBackward0\u001b[0m\u001b[1;31m>\u001b[0m\u001b[1;31m)\u001b[0m\n"
      ]
     },
     "metadata": {},
     "output_type": "display_data"
    },
    {
     "data": {
      "text/html": [
       "<pre style=\"white-space:pre;overflow-x:auto;line-height:normal;font-family:Menlo,'DejaVu Sans Mono',consolas,'Courier New',monospace\"><span style=\"color: #800000; text-decoration-color: #800000; font-weight: bold\">loss = tensor(</span><span style=\"color: #800000; text-decoration-color: #800000; font-weight: bold\">0.0080</span><span style=\"color: #800000; text-decoration-color: #800000; font-weight: bold\">, </span><span style=\"color: #800000; text-decoration-color: #800000; font-weight: bold\">device</span><span style=\"color: #800000; text-decoration-color: #800000; font-weight: bold\">=</span><span style=\"color: #800000; text-decoration-color: #800000; font-weight: bold\">'cuda:0'</span><span style=\"color: #800000; text-decoration-color: #800000; font-weight: bold\">) computed_loss = tensor(</span><span style=\"color: #800000; text-decoration-color: #800000; font-weight: bold\">0.0080</span><span style=\"color: #800000; text-decoration-color: #800000; font-weight: bold\">, </span><span style=\"color: #800000; text-decoration-color: #800000; font-weight: bold\">device</span><span style=\"color: #800000; text-decoration-color: #800000; font-weight: bold\">=</span><span style=\"color: #800000; text-decoration-color: #800000; font-weight: bold\">'cuda:0'</span><span style=\"color: #800000; text-decoration-color: #800000; font-weight: bold\">, </span>\n",
       "<span style=\"color: #800000; text-decoration-color: #800000; font-weight: bold\">grad_fn</span><span style=\"color: #800000; text-decoration-color: #800000; font-weight: bold\">=&lt;NllLossBackward0&gt;)</span>\n",
       "</pre>\n"
      ],
      "text/plain": [
       "\u001b[1;31mloss = \u001b[0m\u001b[1;31mtensor\u001b[0m\u001b[1;31m(\u001b[0m\u001b[1;31m0.0080\u001b[0m\u001b[1;31m, \u001b[0m\u001b[1;31mdevice\u001b[0m\u001b[1;31m=\u001b[0m\u001b[1;31m'cuda:0'\u001b[0m\u001b[1;31m)\u001b[0m\u001b[1;31m computed_loss = \u001b[0m\u001b[1;31mtensor\u001b[0m\u001b[1;31m(\u001b[0m\u001b[1;31m0.0080\u001b[0m\u001b[1;31m, \u001b[0m\u001b[1;31mdevice\u001b[0m\u001b[1;31m=\u001b[0m\u001b[1;31m'cuda:0'\u001b[0m\u001b[1;31m, \u001b[0m\n",
       "\u001b[1;31mgrad_fn\u001b[0m\u001b[1;31m=\u001b[0m\u001b[1;31m<\u001b[0m\u001b[1;31mNllLossBackward0\u001b[0m\u001b[1;31m>\u001b[0m\u001b[1;31m)\u001b[0m\n"
      ]
     },
     "metadata": {},
     "output_type": "display_data"
    },
    {
     "data": {
      "text/html": [
       "<pre style=\"white-space:pre;overflow-x:auto;line-height:normal;font-family:Menlo,'DejaVu Sans Mono',consolas,'Courier New',monospace\"><span style=\"color: #800000; text-decoration-color: #800000; font-weight: bold\">loss = tensor(</span><span style=\"color: #800000; text-decoration-color: #800000; font-weight: bold\">0.0056</span><span style=\"color: #800000; text-decoration-color: #800000; font-weight: bold\">, </span><span style=\"color: #800000; text-decoration-color: #800000; font-weight: bold\">device</span><span style=\"color: #800000; text-decoration-color: #800000; font-weight: bold\">=</span><span style=\"color: #800000; text-decoration-color: #800000; font-weight: bold\">'cuda:0'</span><span style=\"color: #800000; text-decoration-color: #800000; font-weight: bold\">) computed_loss = tensor(</span><span style=\"color: #800000; text-decoration-color: #800000; font-weight: bold\">0.0056</span><span style=\"color: #800000; text-decoration-color: #800000; font-weight: bold\">, </span><span style=\"color: #800000; text-decoration-color: #800000; font-weight: bold\">device</span><span style=\"color: #800000; text-decoration-color: #800000; font-weight: bold\">=</span><span style=\"color: #800000; text-decoration-color: #800000; font-weight: bold\">'cuda:0'</span><span style=\"color: #800000; text-decoration-color: #800000; font-weight: bold\">, </span>\n",
       "<span style=\"color: #800000; text-decoration-color: #800000; font-weight: bold\">grad_fn</span><span style=\"color: #800000; text-decoration-color: #800000; font-weight: bold\">=&lt;NllLossBackward0&gt;)</span>\n",
       "</pre>\n"
      ],
      "text/plain": [
       "\u001b[1;31mloss = \u001b[0m\u001b[1;31mtensor\u001b[0m\u001b[1;31m(\u001b[0m\u001b[1;31m0.0056\u001b[0m\u001b[1;31m, \u001b[0m\u001b[1;31mdevice\u001b[0m\u001b[1;31m=\u001b[0m\u001b[1;31m'cuda:0'\u001b[0m\u001b[1;31m)\u001b[0m\u001b[1;31m computed_loss = \u001b[0m\u001b[1;31mtensor\u001b[0m\u001b[1;31m(\u001b[0m\u001b[1;31m0.0056\u001b[0m\u001b[1;31m, \u001b[0m\u001b[1;31mdevice\u001b[0m\u001b[1;31m=\u001b[0m\u001b[1;31m'cuda:0'\u001b[0m\u001b[1;31m, \u001b[0m\n",
       "\u001b[1;31mgrad_fn\u001b[0m\u001b[1;31m=\u001b[0m\u001b[1;31m<\u001b[0m\u001b[1;31mNllLossBackward0\u001b[0m\u001b[1;31m>\u001b[0m\u001b[1;31m)\u001b[0m\n"
      ]
     },
     "metadata": {},
     "output_type": "display_data"
    },
    {
     "data": {
      "text/html": [
       "<pre style=\"white-space:pre;overflow-x:auto;line-height:normal;font-family:Menlo,'DejaVu Sans Mono',consolas,'Courier New',monospace\"><span style=\"color: #800000; text-decoration-color: #800000; font-weight: bold\">loss = tensor(</span><span style=\"color: #800000; text-decoration-color: #800000; font-weight: bold\">0.4392</span><span style=\"color: #800000; text-decoration-color: #800000; font-weight: bold\">, </span><span style=\"color: #800000; text-decoration-color: #800000; font-weight: bold\">device</span><span style=\"color: #800000; text-decoration-color: #800000; font-weight: bold\">=</span><span style=\"color: #800000; text-decoration-color: #800000; font-weight: bold\">'cuda:0'</span><span style=\"color: #800000; text-decoration-color: #800000; font-weight: bold\">) computed_loss = tensor(</span><span style=\"color: #800000; text-decoration-color: #800000; font-weight: bold\">0.4260</span><span style=\"color: #800000; text-decoration-color: #800000; font-weight: bold\">, </span><span style=\"color: #800000; text-decoration-color: #800000; font-weight: bold\">device</span><span style=\"color: #800000; text-decoration-color: #800000; font-weight: bold\">=</span><span style=\"color: #800000; text-decoration-color: #800000; font-weight: bold\">'cuda:0'</span><span style=\"color: #800000; text-decoration-color: #800000; font-weight: bold\">, </span>\n",
       "<span style=\"color: #800000; text-decoration-color: #800000; font-weight: bold\">grad_fn</span><span style=\"color: #800000; text-decoration-color: #800000; font-weight: bold\">=&lt;NllLossBackward0&gt;)</span>\n",
       "</pre>\n"
      ],
      "text/plain": [
       "\u001b[1;31mloss = \u001b[0m\u001b[1;31mtensor\u001b[0m\u001b[1;31m(\u001b[0m\u001b[1;31m0.4392\u001b[0m\u001b[1;31m, \u001b[0m\u001b[1;31mdevice\u001b[0m\u001b[1;31m=\u001b[0m\u001b[1;31m'cuda:0'\u001b[0m\u001b[1;31m)\u001b[0m\u001b[1;31m computed_loss = \u001b[0m\u001b[1;31mtensor\u001b[0m\u001b[1;31m(\u001b[0m\u001b[1;31m0.4260\u001b[0m\u001b[1;31m, \u001b[0m\u001b[1;31mdevice\u001b[0m\u001b[1;31m=\u001b[0m\u001b[1;31m'cuda:0'\u001b[0m\u001b[1;31m, \u001b[0m\n",
       "\u001b[1;31mgrad_fn\u001b[0m\u001b[1;31m=\u001b[0m\u001b[1;31m<\u001b[0m\u001b[1;31mNllLossBackward0\u001b[0m\u001b[1;31m>\u001b[0m\u001b[1;31m)\u001b[0m\n"
      ]
     },
     "metadata": {},
     "output_type": "display_data"
    },
    {
     "data": {
      "text/html": [
       "<pre style=\"white-space:pre;overflow-x:auto;line-height:normal;font-family:Menlo,'DejaVu Sans Mono',consolas,'Courier New',monospace\"><span style=\"color: #800000; text-decoration-color: #800000; font-weight: bold\">loss = tensor(</span><span style=\"color: #800000; text-decoration-color: #800000; font-weight: bold\">0.1847</span><span style=\"color: #800000; text-decoration-color: #800000; font-weight: bold\">, </span><span style=\"color: #800000; text-decoration-color: #800000; font-weight: bold\">device</span><span style=\"color: #800000; text-decoration-color: #800000; font-weight: bold\">=</span><span style=\"color: #800000; text-decoration-color: #800000; font-weight: bold\">'cuda:0'</span><span style=\"color: #800000; text-decoration-color: #800000; font-weight: bold\">) computed_loss = tensor(</span><span style=\"color: #800000; text-decoration-color: #800000; font-weight: bold\">0.1937</span><span style=\"color: #800000; text-decoration-color: #800000; font-weight: bold\">, </span><span style=\"color: #800000; text-decoration-color: #800000; font-weight: bold\">device</span><span style=\"color: #800000; text-decoration-color: #800000; font-weight: bold\">=</span><span style=\"color: #800000; text-decoration-color: #800000; font-weight: bold\">'cuda:0'</span><span style=\"color: #800000; text-decoration-color: #800000; font-weight: bold\">, </span>\n",
       "<span style=\"color: #800000; text-decoration-color: #800000; font-weight: bold\">grad_fn</span><span style=\"color: #800000; text-decoration-color: #800000; font-weight: bold\">=&lt;NllLossBackward0&gt;)</span>\n",
       "</pre>\n"
      ],
      "text/plain": [
       "\u001b[1;31mloss = \u001b[0m\u001b[1;31mtensor\u001b[0m\u001b[1;31m(\u001b[0m\u001b[1;31m0.1847\u001b[0m\u001b[1;31m, \u001b[0m\u001b[1;31mdevice\u001b[0m\u001b[1;31m=\u001b[0m\u001b[1;31m'cuda:0'\u001b[0m\u001b[1;31m)\u001b[0m\u001b[1;31m computed_loss = \u001b[0m\u001b[1;31mtensor\u001b[0m\u001b[1;31m(\u001b[0m\u001b[1;31m0.1937\u001b[0m\u001b[1;31m, \u001b[0m\u001b[1;31mdevice\u001b[0m\u001b[1;31m=\u001b[0m\u001b[1;31m'cuda:0'\u001b[0m\u001b[1;31m, \u001b[0m\n",
       "\u001b[1;31mgrad_fn\u001b[0m\u001b[1;31m=\u001b[0m\u001b[1;31m<\u001b[0m\u001b[1;31mNllLossBackward0\u001b[0m\u001b[1;31m>\u001b[0m\u001b[1;31m)\u001b[0m\n"
      ]
     },
     "metadata": {},
     "output_type": "display_data"
    },
    {
     "data": {
      "text/html": [
       "<pre style=\"white-space:pre;overflow-x:auto;line-height:normal;font-family:Menlo,'DejaVu Sans Mono',consolas,'Courier New',monospace\"><span style=\"color: #800000; text-decoration-color: #800000; font-weight: bold\">loss = tensor(</span><span style=\"color: #800000; text-decoration-color: #800000; font-weight: bold\">0.1713</span><span style=\"color: #800000; text-decoration-color: #800000; font-weight: bold\">, </span><span style=\"color: #800000; text-decoration-color: #800000; font-weight: bold\">device</span><span style=\"color: #800000; text-decoration-color: #800000; font-weight: bold\">=</span><span style=\"color: #800000; text-decoration-color: #800000; font-weight: bold\">'cuda:0'</span><span style=\"color: #800000; text-decoration-color: #800000; font-weight: bold\">) computed_loss = tensor(</span><span style=\"color: #800000; text-decoration-color: #800000; font-weight: bold\">0.1797</span><span style=\"color: #800000; text-decoration-color: #800000; font-weight: bold\">, </span><span style=\"color: #800000; text-decoration-color: #800000; font-weight: bold\">device</span><span style=\"color: #800000; text-decoration-color: #800000; font-weight: bold\">=</span><span style=\"color: #800000; text-decoration-color: #800000; font-weight: bold\">'cuda:0'</span><span style=\"color: #800000; text-decoration-color: #800000; font-weight: bold\">, </span>\n",
       "<span style=\"color: #800000; text-decoration-color: #800000; font-weight: bold\">grad_fn</span><span style=\"color: #800000; text-decoration-color: #800000; font-weight: bold\">=&lt;NllLossBackward0&gt;)</span>\n",
       "</pre>\n"
      ],
      "text/plain": [
       "\u001b[1;31mloss = \u001b[0m\u001b[1;31mtensor\u001b[0m\u001b[1;31m(\u001b[0m\u001b[1;31m0.1713\u001b[0m\u001b[1;31m, \u001b[0m\u001b[1;31mdevice\u001b[0m\u001b[1;31m=\u001b[0m\u001b[1;31m'cuda:0'\u001b[0m\u001b[1;31m)\u001b[0m\u001b[1;31m computed_loss = \u001b[0m\u001b[1;31mtensor\u001b[0m\u001b[1;31m(\u001b[0m\u001b[1;31m0.1797\u001b[0m\u001b[1;31m, \u001b[0m\u001b[1;31mdevice\u001b[0m\u001b[1;31m=\u001b[0m\u001b[1;31m'cuda:0'\u001b[0m\u001b[1;31m, \u001b[0m\n",
       "\u001b[1;31mgrad_fn\u001b[0m\u001b[1;31m=\u001b[0m\u001b[1;31m<\u001b[0m\u001b[1;31mNllLossBackward0\u001b[0m\u001b[1;31m>\u001b[0m\u001b[1;31m)\u001b[0m\n"
      ]
     },
     "metadata": {},
     "output_type": "display_data"
    },
    {
     "data": {
      "text/html": [
       "<pre style=\"white-space:pre;overflow-x:auto;line-height:normal;font-family:Menlo,'DejaVu Sans Mono',consolas,'Courier New',monospace\"><span style=\"color: #800000; text-decoration-color: #800000; font-weight: bold\">loss = tensor(</span><span style=\"color: #800000; text-decoration-color: #800000; font-weight: bold\">0.2754</span><span style=\"color: #800000; text-decoration-color: #800000; font-weight: bold\">, </span><span style=\"color: #800000; text-decoration-color: #800000; font-weight: bold\">device</span><span style=\"color: #800000; text-decoration-color: #800000; font-weight: bold\">=</span><span style=\"color: #800000; text-decoration-color: #800000; font-weight: bold\">'cuda:0'</span><span style=\"color: #800000; text-decoration-color: #800000; font-weight: bold\">) computed_loss = tensor(</span><span style=\"color: #800000; text-decoration-color: #800000; font-weight: bold\">0.2888</span><span style=\"color: #800000; text-decoration-color: #800000; font-weight: bold\">, </span><span style=\"color: #800000; text-decoration-color: #800000; font-weight: bold\">device</span><span style=\"color: #800000; text-decoration-color: #800000; font-weight: bold\">=</span><span style=\"color: #800000; text-decoration-color: #800000; font-weight: bold\">'cuda:0'</span><span style=\"color: #800000; text-decoration-color: #800000; font-weight: bold\">, </span>\n",
       "<span style=\"color: #800000; text-decoration-color: #800000; font-weight: bold\">grad_fn</span><span style=\"color: #800000; text-decoration-color: #800000; font-weight: bold\">=&lt;NllLossBackward0&gt;)</span>\n",
       "</pre>\n"
      ],
      "text/plain": [
       "\u001b[1;31mloss = \u001b[0m\u001b[1;31mtensor\u001b[0m\u001b[1;31m(\u001b[0m\u001b[1;31m0.2754\u001b[0m\u001b[1;31m, \u001b[0m\u001b[1;31mdevice\u001b[0m\u001b[1;31m=\u001b[0m\u001b[1;31m'cuda:0'\u001b[0m\u001b[1;31m)\u001b[0m\u001b[1;31m computed_loss = \u001b[0m\u001b[1;31mtensor\u001b[0m\u001b[1;31m(\u001b[0m\u001b[1;31m0.2888\u001b[0m\u001b[1;31m, \u001b[0m\u001b[1;31mdevice\u001b[0m\u001b[1;31m=\u001b[0m\u001b[1;31m'cuda:0'\u001b[0m\u001b[1;31m, \u001b[0m\n",
       "\u001b[1;31mgrad_fn\u001b[0m\u001b[1;31m=\u001b[0m\u001b[1;31m<\u001b[0m\u001b[1;31mNllLossBackward0\u001b[0m\u001b[1;31m>\u001b[0m\u001b[1;31m)\u001b[0m\n"
      ]
     },
     "metadata": {},
     "output_type": "display_data"
    },
    {
     "data": {
      "text/html": [
       "<pre style=\"white-space:pre;overflow-x:auto;line-height:normal;font-family:Menlo,'DejaVu Sans Mono',consolas,'Courier New',monospace\"><span style=\"color: #800000; text-decoration-color: #800000; font-weight: bold\">loss = tensor(</span><span style=\"color: #800000; text-decoration-color: #800000; font-weight: bold\">0.2812</span><span style=\"color: #800000; text-decoration-color: #800000; font-weight: bold\">, </span><span style=\"color: #800000; text-decoration-color: #800000; font-weight: bold\">device</span><span style=\"color: #800000; text-decoration-color: #800000; font-weight: bold\">=</span><span style=\"color: #800000; text-decoration-color: #800000; font-weight: bold\">'cuda:0'</span><span style=\"color: #800000; text-decoration-color: #800000; font-weight: bold\">) computed_loss = tensor(</span><span style=\"color: #800000; text-decoration-color: #800000; font-weight: bold\">0.2535</span><span style=\"color: #800000; text-decoration-color: #800000; font-weight: bold\">, </span><span style=\"color: #800000; text-decoration-color: #800000; font-weight: bold\">device</span><span style=\"color: #800000; text-decoration-color: #800000; font-weight: bold\">=</span><span style=\"color: #800000; text-decoration-color: #800000; font-weight: bold\">'cuda:0'</span><span style=\"color: #800000; text-decoration-color: #800000; font-weight: bold\">, </span>\n",
       "<span style=\"color: #800000; text-decoration-color: #800000; font-weight: bold\">grad_fn</span><span style=\"color: #800000; text-decoration-color: #800000; font-weight: bold\">=&lt;NllLossBackward0&gt;)</span>\n",
       "</pre>\n"
      ],
      "text/plain": [
       "\u001b[1;31mloss = \u001b[0m\u001b[1;31mtensor\u001b[0m\u001b[1;31m(\u001b[0m\u001b[1;31m0.2812\u001b[0m\u001b[1;31m, \u001b[0m\u001b[1;31mdevice\u001b[0m\u001b[1;31m=\u001b[0m\u001b[1;31m'cuda:0'\u001b[0m\u001b[1;31m)\u001b[0m\u001b[1;31m computed_loss = \u001b[0m\u001b[1;31mtensor\u001b[0m\u001b[1;31m(\u001b[0m\u001b[1;31m0.2535\u001b[0m\u001b[1;31m, \u001b[0m\u001b[1;31mdevice\u001b[0m\u001b[1;31m=\u001b[0m\u001b[1;31m'cuda:0'\u001b[0m\u001b[1;31m, \u001b[0m\n",
       "\u001b[1;31mgrad_fn\u001b[0m\u001b[1;31m=\u001b[0m\u001b[1;31m<\u001b[0m\u001b[1;31mNllLossBackward0\u001b[0m\u001b[1;31m>\u001b[0m\u001b[1;31m)\u001b[0m\n"
      ]
     },
     "metadata": {},
     "output_type": "display_data"
    },
    {
     "data": {
      "text/html": [
       "<pre style=\"white-space:pre;overflow-x:auto;line-height:normal;font-family:Menlo,'DejaVu Sans Mono',consolas,'Courier New',monospace\"><span style=\"color: #800000; text-decoration-color: #800000; font-weight: bold\">loss = tensor(</span><span style=\"color: #800000; text-decoration-color: #800000; font-weight: bold\">0.0078</span><span style=\"color: #800000; text-decoration-color: #800000; font-weight: bold\">, </span><span style=\"color: #800000; text-decoration-color: #800000; font-weight: bold\">device</span><span style=\"color: #800000; text-decoration-color: #800000; font-weight: bold\">=</span><span style=\"color: #800000; text-decoration-color: #800000; font-weight: bold\">'cuda:0'</span><span style=\"color: #800000; text-decoration-color: #800000; font-weight: bold\">) computed_loss = tensor(</span><span style=\"color: #800000; text-decoration-color: #800000; font-weight: bold\">0.0081</span><span style=\"color: #800000; text-decoration-color: #800000; font-weight: bold\">, </span><span style=\"color: #800000; text-decoration-color: #800000; font-weight: bold\">device</span><span style=\"color: #800000; text-decoration-color: #800000; font-weight: bold\">=</span><span style=\"color: #800000; text-decoration-color: #800000; font-weight: bold\">'cuda:0'</span><span style=\"color: #800000; text-decoration-color: #800000; font-weight: bold\">, </span>\n",
       "<span style=\"color: #800000; text-decoration-color: #800000; font-weight: bold\">grad_fn</span><span style=\"color: #800000; text-decoration-color: #800000; font-weight: bold\">=&lt;NllLossBackward0&gt;)</span>\n",
       "</pre>\n"
      ],
      "text/plain": [
       "\u001b[1;31mloss = \u001b[0m\u001b[1;31mtensor\u001b[0m\u001b[1;31m(\u001b[0m\u001b[1;31m0.0078\u001b[0m\u001b[1;31m, \u001b[0m\u001b[1;31mdevice\u001b[0m\u001b[1;31m=\u001b[0m\u001b[1;31m'cuda:0'\u001b[0m\u001b[1;31m)\u001b[0m\u001b[1;31m computed_loss = \u001b[0m\u001b[1;31mtensor\u001b[0m\u001b[1;31m(\u001b[0m\u001b[1;31m0.0081\u001b[0m\u001b[1;31m, \u001b[0m\u001b[1;31mdevice\u001b[0m\u001b[1;31m=\u001b[0m\u001b[1;31m'cuda:0'\u001b[0m\u001b[1;31m, \u001b[0m\n",
       "\u001b[1;31mgrad_fn\u001b[0m\u001b[1;31m=\u001b[0m\u001b[1;31m<\u001b[0m\u001b[1;31mNllLossBackward0\u001b[0m\u001b[1;31m>\u001b[0m\u001b[1;31m)\u001b[0m\n"
      ]
     },
     "metadata": {},
     "output_type": "display_data"
    },
    {
     "data": {
      "text/html": [
       "<pre style=\"white-space:pre;overflow-x:auto;line-height:normal;font-family:Menlo,'DejaVu Sans Mono',consolas,'Courier New',monospace\"><span style=\"color: #800000; text-decoration-color: #800000; font-weight: bold\">loss = tensor(</span><span style=\"color: #800000; text-decoration-color: #800000; font-weight: bold\">0.1441</span><span style=\"color: #800000; text-decoration-color: #800000; font-weight: bold\">, </span><span style=\"color: #800000; text-decoration-color: #800000; font-weight: bold\">device</span><span style=\"color: #800000; text-decoration-color: #800000; font-weight: bold\">=</span><span style=\"color: #800000; text-decoration-color: #800000; font-weight: bold\">'cuda:0'</span><span style=\"color: #800000; text-decoration-color: #800000; font-weight: bold\">) computed_loss = tensor(</span><span style=\"color: #800000; text-decoration-color: #800000; font-weight: bold\">0.1512</span><span style=\"color: #800000; text-decoration-color: #800000; font-weight: bold\">, </span><span style=\"color: #800000; text-decoration-color: #800000; font-weight: bold\">device</span><span style=\"color: #800000; text-decoration-color: #800000; font-weight: bold\">=</span><span style=\"color: #800000; text-decoration-color: #800000; font-weight: bold\">'cuda:0'</span><span style=\"color: #800000; text-decoration-color: #800000; font-weight: bold\">, </span>\n",
       "<span style=\"color: #800000; text-decoration-color: #800000; font-weight: bold\">grad_fn</span><span style=\"color: #800000; text-decoration-color: #800000; font-weight: bold\">=&lt;NllLossBackward0&gt;)</span>\n",
       "</pre>\n"
      ],
      "text/plain": [
       "\u001b[1;31mloss = \u001b[0m\u001b[1;31mtensor\u001b[0m\u001b[1;31m(\u001b[0m\u001b[1;31m0.1441\u001b[0m\u001b[1;31m, \u001b[0m\u001b[1;31mdevice\u001b[0m\u001b[1;31m=\u001b[0m\u001b[1;31m'cuda:0'\u001b[0m\u001b[1;31m)\u001b[0m\u001b[1;31m computed_loss = \u001b[0m\u001b[1;31mtensor\u001b[0m\u001b[1;31m(\u001b[0m\u001b[1;31m0.1512\u001b[0m\u001b[1;31m, \u001b[0m\u001b[1;31mdevice\u001b[0m\u001b[1;31m=\u001b[0m\u001b[1;31m'cuda:0'\u001b[0m\u001b[1;31m, \u001b[0m\n",
       "\u001b[1;31mgrad_fn\u001b[0m\u001b[1;31m=\u001b[0m\u001b[1;31m<\u001b[0m\u001b[1;31mNllLossBackward0\u001b[0m\u001b[1;31m>\u001b[0m\u001b[1;31m)\u001b[0m\n"
      ]
     },
     "metadata": {},
     "output_type": "display_data"
    },
    {
     "data": {
      "text/html": [
       "<pre style=\"white-space:pre;overflow-x:auto;line-height:normal;font-family:Menlo,'DejaVu Sans Mono',consolas,'Courier New',monospace\"><span style=\"color: #800000; text-decoration-color: #800000; font-weight: bold\">loss = tensor(</span><span style=\"color: #800000; text-decoration-color: #800000; font-weight: bold\">0.3468</span><span style=\"color: #800000; text-decoration-color: #800000; font-weight: bold\">, </span><span style=\"color: #800000; text-decoration-color: #800000; font-weight: bold\">device</span><span style=\"color: #800000; text-decoration-color: #800000; font-weight: bold\">=</span><span style=\"color: #800000; text-decoration-color: #800000; font-weight: bold\">'cuda:0'</span><span style=\"color: #800000; text-decoration-color: #800000; font-weight: bold\">) computed_loss = tensor(</span><span style=\"color: #800000; text-decoration-color: #800000; font-weight: bold\">0.3639</span><span style=\"color: #800000; text-decoration-color: #800000; font-weight: bold\">, </span><span style=\"color: #800000; text-decoration-color: #800000; font-weight: bold\">device</span><span style=\"color: #800000; text-decoration-color: #800000; font-weight: bold\">=</span><span style=\"color: #800000; text-decoration-color: #800000; font-weight: bold\">'cuda:0'</span><span style=\"color: #800000; text-decoration-color: #800000; font-weight: bold\">, </span>\n",
       "<span style=\"color: #800000; text-decoration-color: #800000; font-weight: bold\">grad_fn</span><span style=\"color: #800000; text-decoration-color: #800000; font-weight: bold\">=&lt;NllLossBackward0&gt;)</span>\n",
       "</pre>\n"
      ],
      "text/plain": [
       "\u001b[1;31mloss = \u001b[0m\u001b[1;31mtensor\u001b[0m\u001b[1;31m(\u001b[0m\u001b[1;31m0.3468\u001b[0m\u001b[1;31m, \u001b[0m\u001b[1;31mdevice\u001b[0m\u001b[1;31m=\u001b[0m\u001b[1;31m'cuda:0'\u001b[0m\u001b[1;31m)\u001b[0m\u001b[1;31m computed_loss = \u001b[0m\u001b[1;31mtensor\u001b[0m\u001b[1;31m(\u001b[0m\u001b[1;31m0.3639\u001b[0m\u001b[1;31m, \u001b[0m\u001b[1;31mdevice\u001b[0m\u001b[1;31m=\u001b[0m\u001b[1;31m'cuda:0'\u001b[0m\u001b[1;31m, \u001b[0m\n",
       "\u001b[1;31mgrad_fn\u001b[0m\u001b[1;31m=\u001b[0m\u001b[1;31m<\u001b[0m\u001b[1;31mNllLossBackward0\u001b[0m\u001b[1;31m>\u001b[0m\u001b[1;31m)\u001b[0m\n"
      ]
     },
     "metadata": {},
     "output_type": "display_data"
    },
    {
     "data": {
      "text/html": [
       "<pre style=\"white-space:pre;overflow-x:auto;line-height:normal;font-family:Menlo,'DejaVu Sans Mono',consolas,'Courier New',monospace\"><span style=\"color: #800000; text-decoration-color: #800000; font-weight: bold\">loss = tensor(</span><span style=\"color: #800000; text-decoration-color: #800000; font-weight: bold\">0.2190</span><span style=\"color: #800000; text-decoration-color: #800000; font-weight: bold\">, </span><span style=\"color: #800000; text-decoration-color: #800000; font-weight: bold\">device</span><span style=\"color: #800000; text-decoration-color: #800000; font-weight: bold\">=</span><span style=\"color: #800000; text-decoration-color: #800000; font-weight: bold\">'cuda:0'</span><span style=\"color: #800000; text-decoration-color: #800000; font-weight: bold\">) computed_loss = tensor(</span><span style=\"color: #800000; text-decoration-color: #800000; font-weight: bold\">0.2281</span><span style=\"color: #800000; text-decoration-color: #800000; font-weight: bold\">, </span><span style=\"color: #800000; text-decoration-color: #800000; font-weight: bold\">device</span><span style=\"color: #800000; text-decoration-color: #800000; font-weight: bold\">=</span><span style=\"color: #800000; text-decoration-color: #800000; font-weight: bold\">'cuda:0'</span><span style=\"color: #800000; text-decoration-color: #800000; font-weight: bold\">, </span>\n",
       "<span style=\"color: #800000; text-decoration-color: #800000; font-weight: bold\">grad_fn</span><span style=\"color: #800000; text-decoration-color: #800000; font-weight: bold\">=&lt;NllLossBackward0&gt;)</span>\n",
       "</pre>\n"
      ],
      "text/plain": [
       "\u001b[1;31mloss = \u001b[0m\u001b[1;31mtensor\u001b[0m\u001b[1;31m(\u001b[0m\u001b[1;31m0.2190\u001b[0m\u001b[1;31m, \u001b[0m\u001b[1;31mdevice\u001b[0m\u001b[1;31m=\u001b[0m\u001b[1;31m'cuda:0'\u001b[0m\u001b[1;31m)\u001b[0m\u001b[1;31m computed_loss = \u001b[0m\u001b[1;31mtensor\u001b[0m\u001b[1;31m(\u001b[0m\u001b[1;31m0.2281\u001b[0m\u001b[1;31m, \u001b[0m\u001b[1;31mdevice\u001b[0m\u001b[1;31m=\u001b[0m\u001b[1;31m'cuda:0'\u001b[0m\u001b[1;31m, \u001b[0m\n",
       "\u001b[1;31mgrad_fn\u001b[0m\u001b[1;31m=\u001b[0m\u001b[1;31m<\u001b[0m\u001b[1;31mNllLossBackward0\u001b[0m\u001b[1;31m>\u001b[0m\u001b[1;31m)\u001b[0m\n"
      ]
     },
     "metadata": {},
     "output_type": "display_data"
    },
    {
     "data": {
      "text/html": [
       "<pre style=\"white-space:pre;overflow-x:auto;line-height:normal;font-family:Menlo,'DejaVu Sans Mono',consolas,'Courier New',monospace\"><span style=\"color: #800000; text-decoration-color: #800000; font-weight: bold\">loss = tensor(</span><span style=\"color: #800000; text-decoration-color: #800000; font-weight: bold\">0.1048</span><span style=\"color: #800000; text-decoration-color: #800000; font-weight: bold\">, </span><span style=\"color: #800000; text-decoration-color: #800000; font-weight: bold\">device</span><span style=\"color: #800000; text-decoration-color: #800000; font-weight: bold\">=</span><span style=\"color: #800000; text-decoration-color: #800000; font-weight: bold\">'cuda:0'</span><span style=\"color: #800000; text-decoration-color: #800000; font-weight: bold\">) computed_loss = tensor(</span><span style=\"color: #800000; text-decoration-color: #800000; font-weight: bold\">0.1096</span><span style=\"color: #800000; text-decoration-color: #800000; font-weight: bold\">, </span><span style=\"color: #800000; text-decoration-color: #800000; font-weight: bold\">device</span><span style=\"color: #800000; text-decoration-color: #800000; font-weight: bold\">=</span><span style=\"color: #800000; text-decoration-color: #800000; font-weight: bold\">'cuda:0'</span><span style=\"color: #800000; text-decoration-color: #800000; font-weight: bold\">, </span>\n",
       "<span style=\"color: #800000; text-decoration-color: #800000; font-weight: bold\">grad_fn</span><span style=\"color: #800000; text-decoration-color: #800000; font-weight: bold\">=&lt;NllLossBackward0&gt;)</span>\n",
       "</pre>\n"
      ],
      "text/plain": [
       "\u001b[1;31mloss = \u001b[0m\u001b[1;31mtensor\u001b[0m\u001b[1;31m(\u001b[0m\u001b[1;31m0.1048\u001b[0m\u001b[1;31m, \u001b[0m\u001b[1;31mdevice\u001b[0m\u001b[1;31m=\u001b[0m\u001b[1;31m'cuda:0'\u001b[0m\u001b[1;31m)\u001b[0m\u001b[1;31m computed_loss = \u001b[0m\u001b[1;31mtensor\u001b[0m\u001b[1;31m(\u001b[0m\u001b[1;31m0.1096\u001b[0m\u001b[1;31m, \u001b[0m\u001b[1;31mdevice\u001b[0m\u001b[1;31m=\u001b[0m\u001b[1;31m'cuda:0'\u001b[0m\u001b[1;31m, \u001b[0m\n",
       "\u001b[1;31mgrad_fn\u001b[0m\u001b[1;31m=\u001b[0m\u001b[1;31m<\u001b[0m\u001b[1;31mNllLossBackward0\u001b[0m\u001b[1;31m>\u001b[0m\u001b[1;31m)\u001b[0m\n"
      ]
     },
     "metadata": {},
     "output_type": "display_data"
    },
    {
     "data": {
      "text/html": [
       "<pre style=\"white-space:pre;overflow-x:auto;line-height:normal;font-family:Menlo,'DejaVu Sans Mono',consolas,'Courier New',monospace\"><span style=\"color: #800000; text-decoration-color: #800000; font-weight: bold\">loss = tensor(</span><span style=\"color: #800000; text-decoration-color: #800000; font-weight: bold\">0.0262</span><span style=\"color: #800000; text-decoration-color: #800000; font-weight: bold\">, </span><span style=\"color: #800000; text-decoration-color: #800000; font-weight: bold\">device</span><span style=\"color: #800000; text-decoration-color: #800000; font-weight: bold\">=</span><span style=\"color: #800000; text-decoration-color: #800000; font-weight: bold\">'cuda:0'</span><span style=\"color: #800000; text-decoration-color: #800000; font-weight: bold\">) computed_loss = tensor(</span><span style=\"color: #800000; text-decoration-color: #800000; font-weight: bold\">0.0248</span><span style=\"color: #800000; text-decoration-color: #800000; font-weight: bold\">, </span><span style=\"color: #800000; text-decoration-color: #800000; font-weight: bold\">device</span><span style=\"color: #800000; text-decoration-color: #800000; font-weight: bold\">=</span><span style=\"color: #800000; text-decoration-color: #800000; font-weight: bold\">'cuda:0'</span><span style=\"color: #800000; text-decoration-color: #800000; font-weight: bold\">, </span>\n",
       "<span style=\"color: #800000; text-decoration-color: #800000; font-weight: bold\">grad_fn</span><span style=\"color: #800000; text-decoration-color: #800000; font-weight: bold\">=&lt;NllLossBackward0&gt;)</span>\n",
       "</pre>\n"
      ],
      "text/plain": [
       "\u001b[1;31mloss = \u001b[0m\u001b[1;31mtensor\u001b[0m\u001b[1;31m(\u001b[0m\u001b[1;31m0.0262\u001b[0m\u001b[1;31m, \u001b[0m\u001b[1;31mdevice\u001b[0m\u001b[1;31m=\u001b[0m\u001b[1;31m'cuda:0'\u001b[0m\u001b[1;31m)\u001b[0m\u001b[1;31m computed_loss = \u001b[0m\u001b[1;31mtensor\u001b[0m\u001b[1;31m(\u001b[0m\u001b[1;31m0.0248\u001b[0m\u001b[1;31m, \u001b[0m\u001b[1;31mdevice\u001b[0m\u001b[1;31m=\u001b[0m\u001b[1;31m'cuda:0'\u001b[0m\u001b[1;31m, \u001b[0m\n",
       "\u001b[1;31mgrad_fn\u001b[0m\u001b[1;31m=\u001b[0m\u001b[1;31m<\u001b[0m\u001b[1;31mNllLossBackward0\u001b[0m\u001b[1;31m>\u001b[0m\u001b[1;31m)\u001b[0m\n"
      ]
     },
     "metadata": {},
     "output_type": "display_data"
    },
    {
     "data": {
      "text/html": [
       "<pre style=\"white-space:pre;overflow-x:auto;line-height:normal;font-family:Menlo,'DejaVu Sans Mono',consolas,'Courier New',monospace\"><span style=\"color: #800000; text-decoration-color: #800000; font-weight: bold\">loss = tensor(</span><span style=\"color: #800000; text-decoration-color: #800000; font-weight: bold\">0.1565</span><span style=\"color: #800000; text-decoration-color: #800000; font-weight: bold\">, </span><span style=\"color: #800000; text-decoration-color: #800000; font-weight: bold\">device</span><span style=\"color: #800000; text-decoration-color: #800000; font-weight: bold\">=</span><span style=\"color: #800000; text-decoration-color: #800000; font-weight: bold\">'cuda:0'</span><span style=\"color: #800000; text-decoration-color: #800000; font-weight: bold\">) computed_loss = tensor(</span><span style=\"color: #800000; text-decoration-color: #800000; font-weight: bold\">0.1639</span><span style=\"color: #800000; text-decoration-color: #800000; font-weight: bold\">, </span><span style=\"color: #800000; text-decoration-color: #800000; font-weight: bold\">device</span><span style=\"color: #800000; text-decoration-color: #800000; font-weight: bold\">=</span><span style=\"color: #800000; text-decoration-color: #800000; font-weight: bold\">'cuda:0'</span><span style=\"color: #800000; text-decoration-color: #800000; font-weight: bold\">, </span>\n",
       "<span style=\"color: #800000; text-decoration-color: #800000; font-weight: bold\">grad_fn</span><span style=\"color: #800000; text-decoration-color: #800000; font-weight: bold\">=&lt;NllLossBackward0&gt;)</span>\n",
       "</pre>\n"
      ],
      "text/plain": [
       "\u001b[1;31mloss = \u001b[0m\u001b[1;31mtensor\u001b[0m\u001b[1;31m(\u001b[0m\u001b[1;31m0.1565\u001b[0m\u001b[1;31m, \u001b[0m\u001b[1;31mdevice\u001b[0m\u001b[1;31m=\u001b[0m\u001b[1;31m'cuda:0'\u001b[0m\u001b[1;31m)\u001b[0m\u001b[1;31m computed_loss = \u001b[0m\u001b[1;31mtensor\u001b[0m\u001b[1;31m(\u001b[0m\u001b[1;31m0.1639\u001b[0m\u001b[1;31m, \u001b[0m\u001b[1;31mdevice\u001b[0m\u001b[1;31m=\u001b[0m\u001b[1;31m'cuda:0'\u001b[0m\u001b[1;31m, \u001b[0m\n",
       "\u001b[1;31mgrad_fn\u001b[0m\u001b[1;31m=\u001b[0m\u001b[1;31m<\u001b[0m\u001b[1;31mNllLossBackward0\u001b[0m\u001b[1;31m>\u001b[0m\u001b[1;31m)\u001b[0m\n"
      ]
     },
     "metadata": {},
     "output_type": "display_data"
    },
    {
     "data": {
      "text/html": [
       "<pre style=\"white-space:pre;overflow-x:auto;line-height:normal;font-family:Menlo,'DejaVu Sans Mono',consolas,'Courier New',monospace\"><span style=\"color: #800000; text-decoration-color: #800000; font-weight: bold\">loss = tensor(</span><span style=\"color: #800000; text-decoration-color: #800000; font-weight: bold\">0.0097</span><span style=\"color: #800000; text-decoration-color: #800000; font-weight: bold\">, </span><span style=\"color: #800000; text-decoration-color: #800000; font-weight: bold\">device</span><span style=\"color: #800000; text-decoration-color: #800000; font-weight: bold\">=</span><span style=\"color: #800000; text-decoration-color: #800000; font-weight: bold\">'cuda:0'</span><span style=\"color: #800000; text-decoration-color: #800000; font-weight: bold\">) computed_loss = tensor(</span><span style=\"color: #800000; text-decoration-color: #800000; font-weight: bold\">0.0097</span><span style=\"color: #800000; text-decoration-color: #800000; font-weight: bold\">, </span><span style=\"color: #800000; text-decoration-color: #800000; font-weight: bold\">device</span><span style=\"color: #800000; text-decoration-color: #800000; font-weight: bold\">=</span><span style=\"color: #800000; text-decoration-color: #800000; font-weight: bold\">'cuda:0'</span><span style=\"color: #800000; text-decoration-color: #800000; font-weight: bold\">, </span>\n",
       "<span style=\"color: #800000; text-decoration-color: #800000; font-weight: bold\">grad_fn</span><span style=\"color: #800000; text-decoration-color: #800000; font-weight: bold\">=&lt;NllLossBackward0&gt;)</span>\n",
       "</pre>\n"
      ],
      "text/plain": [
       "\u001b[1;31mloss = \u001b[0m\u001b[1;31mtensor\u001b[0m\u001b[1;31m(\u001b[0m\u001b[1;31m0.0097\u001b[0m\u001b[1;31m, \u001b[0m\u001b[1;31mdevice\u001b[0m\u001b[1;31m=\u001b[0m\u001b[1;31m'cuda:0'\u001b[0m\u001b[1;31m)\u001b[0m\u001b[1;31m computed_loss = \u001b[0m\u001b[1;31mtensor\u001b[0m\u001b[1;31m(\u001b[0m\u001b[1;31m0.0097\u001b[0m\u001b[1;31m, \u001b[0m\u001b[1;31mdevice\u001b[0m\u001b[1;31m=\u001b[0m\u001b[1;31m'cuda:0'\u001b[0m\u001b[1;31m, \u001b[0m\n",
       "\u001b[1;31mgrad_fn\u001b[0m\u001b[1;31m=\u001b[0m\u001b[1;31m<\u001b[0m\u001b[1;31mNllLossBackward0\u001b[0m\u001b[1;31m>\u001b[0m\u001b[1;31m)\u001b[0m\n"
      ]
     },
     "metadata": {},
     "output_type": "display_data"
    },
    {
     "data": {
      "text/html": [
       "<pre style=\"white-space:pre;overflow-x:auto;line-height:normal;font-family:Menlo,'DejaVu Sans Mono',consolas,'Courier New',monospace\"><span style=\"color: #800000; text-decoration-color: #800000; font-weight: bold\">loss = tensor(</span><span style=\"color: #800000; text-decoration-color: #800000; font-weight: bold\">0.0170</span><span style=\"color: #800000; text-decoration-color: #800000; font-weight: bold\">, </span><span style=\"color: #800000; text-decoration-color: #800000; font-weight: bold\">device</span><span style=\"color: #800000; text-decoration-color: #800000; font-weight: bold\">=</span><span style=\"color: #800000; text-decoration-color: #800000; font-weight: bold\">'cuda:0'</span><span style=\"color: #800000; text-decoration-color: #800000; font-weight: bold\">) computed_loss = tensor(</span><span style=\"color: #800000; text-decoration-color: #800000; font-weight: bold\">0.0166</span><span style=\"color: #800000; text-decoration-color: #800000; font-weight: bold\">, </span><span style=\"color: #800000; text-decoration-color: #800000; font-weight: bold\">device</span><span style=\"color: #800000; text-decoration-color: #800000; font-weight: bold\">=</span><span style=\"color: #800000; text-decoration-color: #800000; font-weight: bold\">'cuda:0'</span><span style=\"color: #800000; text-decoration-color: #800000; font-weight: bold\">, </span>\n",
       "<span style=\"color: #800000; text-decoration-color: #800000; font-weight: bold\">grad_fn</span><span style=\"color: #800000; text-decoration-color: #800000; font-weight: bold\">=&lt;NllLossBackward0&gt;)</span>\n",
       "</pre>\n"
      ],
      "text/plain": [
       "\u001b[1;31mloss = \u001b[0m\u001b[1;31mtensor\u001b[0m\u001b[1;31m(\u001b[0m\u001b[1;31m0.0170\u001b[0m\u001b[1;31m, \u001b[0m\u001b[1;31mdevice\u001b[0m\u001b[1;31m=\u001b[0m\u001b[1;31m'cuda:0'\u001b[0m\u001b[1;31m)\u001b[0m\u001b[1;31m computed_loss = \u001b[0m\u001b[1;31mtensor\u001b[0m\u001b[1;31m(\u001b[0m\u001b[1;31m0.0166\u001b[0m\u001b[1;31m, \u001b[0m\u001b[1;31mdevice\u001b[0m\u001b[1;31m=\u001b[0m\u001b[1;31m'cuda:0'\u001b[0m\u001b[1;31m, \u001b[0m\n",
       "\u001b[1;31mgrad_fn\u001b[0m\u001b[1;31m=\u001b[0m\u001b[1;31m<\u001b[0m\u001b[1;31mNllLossBackward0\u001b[0m\u001b[1;31m>\u001b[0m\u001b[1;31m)\u001b[0m\n"
      ]
     },
     "metadata": {},
     "output_type": "display_data"
    },
    {
     "data": {
      "text/html": [
       "<pre style=\"white-space:pre;overflow-x:auto;line-height:normal;font-family:Menlo,'DejaVu Sans Mono',consolas,'Courier New',monospace\"><span style=\"color: #800000; text-decoration-color: #800000; font-weight: bold\">loss = tensor(</span><span style=\"color: #800000; text-decoration-color: #800000; font-weight: bold\">0.0101</span><span style=\"color: #800000; text-decoration-color: #800000; font-weight: bold\">, </span><span style=\"color: #800000; text-decoration-color: #800000; font-weight: bold\">device</span><span style=\"color: #800000; text-decoration-color: #800000; font-weight: bold\">=</span><span style=\"color: #800000; text-decoration-color: #800000; font-weight: bold\">'cuda:0'</span><span style=\"color: #800000; text-decoration-color: #800000; font-weight: bold\">) computed_loss = tensor(</span><span style=\"color: #800000; text-decoration-color: #800000; font-weight: bold\">0.0099</span><span style=\"color: #800000; text-decoration-color: #800000; font-weight: bold\">, </span><span style=\"color: #800000; text-decoration-color: #800000; font-weight: bold\">device</span><span style=\"color: #800000; text-decoration-color: #800000; font-weight: bold\">=</span><span style=\"color: #800000; text-decoration-color: #800000; font-weight: bold\">'cuda:0'</span><span style=\"color: #800000; text-decoration-color: #800000; font-weight: bold\">, </span>\n",
       "<span style=\"color: #800000; text-decoration-color: #800000; font-weight: bold\">grad_fn</span><span style=\"color: #800000; text-decoration-color: #800000; font-weight: bold\">=&lt;NllLossBackward0&gt;)</span>\n",
       "</pre>\n"
      ],
      "text/plain": [
       "\u001b[1;31mloss = \u001b[0m\u001b[1;31mtensor\u001b[0m\u001b[1;31m(\u001b[0m\u001b[1;31m0.0101\u001b[0m\u001b[1;31m, \u001b[0m\u001b[1;31mdevice\u001b[0m\u001b[1;31m=\u001b[0m\u001b[1;31m'cuda:0'\u001b[0m\u001b[1;31m)\u001b[0m\u001b[1;31m computed_loss = \u001b[0m\u001b[1;31mtensor\u001b[0m\u001b[1;31m(\u001b[0m\u001b[1;31m0.0099\u001b[0m\u001b[1;31m, \u001b[0m\u001b[1;31mdevice\u001b[0m\u001b[1;31m=\u001b[0m\u001b[1;31m'cuda:0'\u001b[0m\u001b[1;31m, \u001b[0m\n",
       "\u001b[1;31mgrad_fn\u001b[0m\u001b[1;31m=\u001b[0m\u001b[1;31m<\u001b[0m\u001b[1;31mNllLossBackward0\u001b[0m\u001b[1;31m>\u001b[0m\u001b[1;31m)\u001b[0m\n"
      ]
     },
     "metadata": {},
     "output_type": "display_data"
    },
    {
     "data": {
      "text/html": [
       "<pre style=\"white-space:pre;overflow-x:auto;line-height:normal;font-family:Menlo,'DejaVu Sans Mono',consolas,'Courier New',monospace\"><span style=\"color: #800000; text-decoration-color: #800000; font-weight: bold\">loss = tensor(</span><span style=\"color: #800000; text-decoration-color: #800000; font-weight: bold\">0.0192</span><span style=\"color: #800000; text-decoration-color: #800000; font-weight: bold\">, </span><span style=\"color: #800000; text-decoration-color: #800000; font-weight: bold\">device</span><span style=\"color: #800000; text-decoration-color: #800000; font-weight: bold\">=</span><span style=\"color: #800000; text-decoration-color: #800000; font-weight: bold\">'cuda:0'</span><span style=\"color: #800000; text-decoration-color: #800000; font-weight: bold\">) computed_loss = tensor(</span><span style=\"color: #800000; text-decoration-color: #800000; font-weight: bold\">0.0190</span><span style=\"color: #800000; text-decoration-color: #800000; font-weight: bold\">, </span><span style=\"color: #800000; text-decoration-color: #800000; font-weight: bold\">device</span><span style=\"color: #800000; text-decoration-color: #800000; font-weight: bold\">=</span><span style=\"color: #800000; text-decoration-color: #800000; font-weight: bold\">'cuda:0'</span><span style=\"color: #800000; text-decoration-color: #800000; font-weight: bold\">, </span>\n",
       "<span style=\"color: #800000; text-decoration-color: #800000; font-weight: bold\">grad_fn</span><span style=\"color: #800000; text-decoration-color: #800000; font-weight: bold\">=&lt;NllLossBackward0&gt;)</span>\n",
       "</pre>\n"
      ],
      "text/plain": [
       "\u001b[1;31mloss = \u001b[0m\u001b[1;31mtensor\u001b[0m\u001b[1;31m(\u001b[0m\u001b[1;31m0.0192\u001b[0m\u001b[1;31m, \u001b[0m\u001b[1;31mdevice\u001b[0m\u001b[1;31m=\u001b[0m\u001b[1;31m'cuda:0'\u001b[0m\u001b[1;31m)\u001b[0m\u001b[1;31m computed_loss = \u001b[0m\u001b[1;31mtensor\u001b[0m\u001b[1;31m(\u001b[0m\u001b[1;31m0.0190\u001b[0m\u001b[1;31m, \u001b[0m\u001b[1;31mdevice\u001b[0m\u001b[1;31m=\u001b[0m\u001b[1;31m'cuda:0'\u001b[0m\u001b[1;31m, \u001b[0m\n",
       "\u001b[1;31mgrad_fn\u001b[0m\u001b[1;31m=\u001b[0m\u001b[1;31m<\u001b[0m\u001b[1;31mNllLossBackward0\u001b[0m\u001b[1;31m>\u001b[0m\u001b[1;31m)\u001b[0m\n"
      ]
     },
     "metadata": {},
     "output_type": "display_data"
    },
    {
     "data": {
      "text/html": [
       "<pre style=\"white-space:pre;overflow-x:auto;line-height:normal;font-family:Menlo,'DejaVu Sans Mono',consolas,'Courier New',monospace\"><span style=\"color: #800000; text-decoration-color: #800000; font-weight: bold\">loss = tensor(</span><span style=\"color: #800000; text-decoration-color: #800000; font-weight: bold\">0.5170</span><span style=\"color: #800000; text-decoration-color: #800000; font-weight: bold\">, </span><span style=\"color: #800000; text-decoration-color: #800000; font-weight: bold\">device</span><span style=\"color: #800000; text-decoration-color: #800000; font-weight: bold\">=</span><span style=\"color: #800000; text-decoration-color: #800000; font-weight: bold\">'cuda:0'</span><span style=\"color: #800000; text-decoration-color: #800000; font-weight: bold\">) computed_loss = tensor(</span><span style=\"color: #800000; text-decoration-color: #800000; font-weight: bold\">0.5022</span><span style=\"color: #800000; text-decoration-color: #800000; font-weight: bold\">, </span><span style=\"color: #800000; text-decoration-color: #800000; font-weight: bold\">device</span><span style=\"color: #800000; text-decoration-color: #800000; font-weight: bold\">=</span><span style=\"color: #800000; text-decoration-color: #800000; font-weight: bold\">'cuda:0'</span><span style=\"color: #800000; text-decoration-color: #800000; font-weight: bold\">, </span>\n",
       "<span style=\"color: #800000; text-decoration-color: #800000; font-weight: bold\">grad_fn</span><span style=\"color: #800000; text-decoration-color: #800000; font-weight: bold\">=&lt;NllLossBackward0&gt;)</span>\n",
       "</pre>\n"
      ],
      "text/plain": [
       "\u001b[1;31mloss = \u001b[0m\u001b[1;31mtensor\u001b[0m\u001b[1;31m(\u001b[0m\u001b[1;31m0.5170\u001b[0m\u001b[1;31m, \u001b[0m\u001b[1;31mdevice\u001b[0m\u001b[1;31m=\u001b[0m\u001b[1;31m'cuda:0'\u001b[0m\u001b[1;31m)\u001b[0m\u001b[1;31m computed_loss = \u001b[0m\u001b[1;31mtensor\u001b[0m\u001b[1;31m(\u001b[0m\u001b[1;31m0.5022\u001b[0m\u001b[1;31m, \u001b[0m\u001b[1;31mdevice\u001b[0m\u001b[1;31m=\u001b[0m\u001b[1;31m'cuda:0'\u001b[0m\u001b[1;31m, \u001b[0m\n",
       "\u001b[1;31mgrad_fn\u001b[0m\u001b[1;31m=\u001b[0m\u001b[1;31m<\u001b[0m\u001b[1;31mNllLossBackward0\u001b[0m\u001b[1;31m>\u001b[0m\u001b[1;31m)\u001b[0m\n"
      ]
     },
     "metadata": {},
     "output_type": "display_data"
    },
    {
     "data": {
      "text/html": [
       "<pre style=\"white-space:pre;overflow-x:auto;line-height:normal;font-family:Menlo,'DejaVu Sans Mono',consolas,'Courier New',monospace\"><span style=\"color: #800000; text-decoration-color: #800000; font-weight: bold\">loss = tensor(</span><span style=\"color: #800000; text-decoration-color: #800000; font-weight: bold\">0.2548</span><span style=\"color: #800000; text-decoration-color: #800000; font-weight: bold\">, </span><span style=\"color: #800000; text-decoration-color: #800000; font-weight: bold\">device</span><span style=\"color: #800000; text-decoration-color: #800000; font-weight: bold\">=</span><span style=\"color: #800000; text-decoration-color: #800000; font-weight: bold\">'cuda:0'</span><span style=\"color: #800000; text-decoration-color: #800000; font-weight: bold\">) computed_loss = tensor(</span><span style=\"color: #800000; text-decoration-color: #800000; font-weight: bold\">0.2663</span><span style=\"color: #800000; text-decoration-color: #800000; font-weight: bold\">, </span><span style=\"color: #800000; text-decoration-color: #800000; font-weight: bold\">device</span><span style=\"color: #800000; text-decoration-color: #800000; font-weight: bold\">=</span><span style=\"color: #800000; text-decoration-color: #800000; font-weight: bold\">'cuda:0'</span><span style=\"color: #800000; text-decoration-color: #800000; font-weight: bold\">, </span>\n",
       "<span style=\"color: #800000; text-decoration-color: #800000; font-weight: bold\">grad_fn</span><span style=\"color: #800000; text-decoration-color: #800000; font-weight: bold\">=&lt;NllLossBackward0&gt;)</span>\n",
       "</pre>\n"
      ],
      "text/plain": [
       "\u001b[1;31mloss = \u001b[0m\u001b[1;31mtensor\u001b[0m\u001b[1;31m(\u001b[0m\u001b[1;31m0.2548\u001b[0m\u001b[1;31m, \u001b[0m\u001b[1;31mdevice\u001b[0m\u001b[1;31m=\u001b[0m\u001b[1;31m'cuda:0'\u001b[0m\u001b[1;31m)\u001b[0m\u001b[1;31m computed_loss = \u001b[0m\u001b[1;31mtensor\u001b[0m\u001b[1;31m(\u001b[0m\u001b[1;31m0.2663\u001b[0m\u001b[1;31m, \u001b[0m\u001b[1;31mdevice\u001b[0m\u001b[1;31m=\u001b[0m\u001b[1;31m'cuda:0'\u001b[0m\u001b[1;31m, \u001b[0m\n",
       "\u001b[1;31mgrad_fn\u001b[0m\u001b[1;31m=\u001b[0m\u001b[1;31m<\u001b[0m\u001b[1;31mNllLossBackward0\u001b[0m\u001b[1;31m>\u001b[0m\u001b[1;31m)\u001b[0m\n"
      ]
     },
     "metadata": {},
     "output_type": "display_data"
    },
    {
     "data": {
      "text/html": [
       "<pre style=\"white-space:pre;overflow-x:auto;line-height:normal;font-family:Menlo,'DejaVu Sans Mono',consolas,'Courier New',monospace\"><span style=\"color: #800000; text-decoration-color: #800000; font-weight: bold\">loss = tensor(</span><span style=\"color: #800000; text-decoration-color: #800000; font-weight: bold\">0.1973</span><span style=\"color: #800000; text-decoration-color: #800000; font-weight: bold\">, </span><span style=\"color: #800000; text-decoration-color: #800000; font-weight: bold\">device</span><span style=\"color: #800000; text-decoration-color: #800000; font-weight: bold\">=</span><span style=\"color: #800000; text-decoration-color: #800000; font-weight: bold\">'cuda:0'</span><span style=\"color: #800000; text-decoration-color: #800000; font-weight: bold\">) computed_loss = tensor(</span><span style=\"color: #800000; text-decoration-color: #800000; font-weight: bold\">0.1885</span><span style=\"color: #800000; text-decoration-color: #800000; font-weight: bold\">, </span><span style=\"color: #800000; text-decoration-color: #800000; font-weight: bold\">device</span><span style=\"color: #800000; text-decoration-color: #800000; font-weight: bold\">=</span><span style=\"color: #800000; text-decoration-color: #800000; font-weight: bold\">'cuda:0'</span><span style=\"color: #800000; text-decoration-color: #800000; font-weight: bold\">, </span>\n",
       "<span style=\"color: #800000; text-decoration-color: #800000; font-weight: bold\">grad_fn</span><span style=\"color: #800000; text-decoration-color: #800000; font-weight: bold\">=&lt;NllLossBackward0&gt;)</span>\n",
       "</pre>\n"
      ],
      "text/plain": [
       "\u001b[1;31mloss = \u001b[0m\u001b[1;31mtensor\u001b[0m\u001b[1;31m(\u001b[0m\u001b[1;31m0.1973\u001b[0m\u001b[1;31m, \u001b[0m\u001b[1;31mdevice\u001b[0m\u001b[1;31m=\u001b[0m\u001b[1;31m'cuda:0'\u001b[0m\u001b[1;31m)\u001b[0m\u001b[1;31m computed_loss = \u001b[0m\u001b[1;31mtensor\u001b[0m\u001b[1;31m(\u001b[0m\u001b[1;31m0.1885\u001b[0m\u001b[1;31m, \u001b[0m\u001b[1;31mdevice\u001b[0m\u001b[1;31m=\u001b[0m\u001b[1;31m'cuda:0'\u001b[0m\u001b[1;31m, \u001b[0m\n",
       "\u001b[1;31mgrad_fn\u001b[0m\u001b[1;31m=\u001b[0m\u001b[1;31m<\u001b[0m\u001b[1;31mNllLossBackward0\u001b[0m\u001b[1;31m>\u001b[0m\u001b[1;31m)\u001b[0m\n"
      ]
     },
     "metadata": {},
     "output_type": "display_data"
    },
    {
     "data": {
      "text/html": [
       "<pre style=\"white-space:pre;overflow-x:auto;line-height:normal;font-family:Menlo,'DejaVu Sans Mono',consolas,'Courier New',monospace\"><span style=\"color: #800000; text-decoration-color: #800000; font-weight: bold\">loss = tensor(</span><span style=\"color: #800000; text-decoration-color: #800000; font-weight: bold\">0.0170</span><span style=\"color: #800000; text-decoration-color: #800000; font-weight: bold\">, </span><span style=\"color: #800000; text-decoration-color: #800000; font-weight: bold\">device</span><span style=\"color: #800000; text-decoration-color: #800000; font-weight: bold\">=</span><span style=\"color: #800000; text-decoration-color: #800000; font-weight: bold\">'cuda:0'</span><span style=\"color: #800000; text-decoration-color: #800000; font-weight: bold\">) computed_loss = tensor(</span><span style=\"color: #800000; text-decoration-color: #800000; font-weight: bold\">0.0158</span><span style=\"color: #800000; text-decoration-color: #800000; font-weight: bold\">, </span><span style=\"color: #800000; text-decoration-color: #800000; font-weight: bold\">device</span><span style=\"color: #800000; text-decoration-color: #800000; font-weight: bold\">=</span><span style=\"color: #800000; text-decoration-color: #800000; font-weight: bold\">'cuda:0'</span><span style=\"color: #800000; text-decoration-color: #800000; font-weight: bold\">, </span>\n",
       "<span style=\"color: #800000; text-decoration-color: #800000; font-weight: bold\">grad_fn</span><span style=\"color: #800000; text-decoration-color: #800000; font-weight: bold\">=&lt;NllLossBackward0&gt;)</span>\n",
       "</pre>\n"
      ],
      "text/plain": [
       "\u001b[1;31mloss = \u001b[0m\u001b[1;31mtensor\u001b[0m\u001b[1;31m(\u001b[0m\u001b[1;31m0.0170\u001b[0m\u001b[1;31m, \u001b[0m\u001b[1;31mdevice\u001b[0m\u001b[1;31m=\u001b[0m\u001b[1;31m'cuda:0'\u001b[0m\u001b[1;31m)\u001b[0m\u001b[1;31m computed_loss = \u001b[0m\u001b[1;31mtensor\u001b[0m\u001b[1;31m(\u001b[0m\u001b[1;31m0.0158\u001b[0m\u001b[1;31m, \u001b[0m\u001b[1;31mdevice\u001b[0m\u001b[1;31m=\u001b[0m\u001b[1;31m'cuda:0'\u001b[0m\u001b[1;31m, \u001b[0m\n",
       "\u001b[1;31mgrad_fn\u001b[0m\u001b[1;31m=\u001b[0m\u001b[1;31m<\u001b[0m\u001b[1;31mNllLossBackward0\u001b[0m\u001b[1;31m>\u001b[0m\u001b[1;31m)\u001b[0m\n"
      ]
     },
     "metadata": {},
     "output_type": "display_data"
    },
    {
     "data": {
      "text/html": [
       "<pre style=\"white-space:pre;overflow-x:auto;line-height:normal;font-family:Menlo,'DejaVu Sans Mono',consolas,'Courier New',monospace\"><span style=\"color: #800000; text-decoration-color: #800000; font-weight: bold\">loss = tensor(</span><span style=\"color: #800000; text-decoration-color: #800000; font-weight: bold\">0.0439</span><span style=\"color: #800000; text-decoration-color: #800000; font-weight: bold\">, </span><span style=\"color: #800000; text-decoration-color: #800000; font-weight: bold\">device</span><span style=\"color: #800000; text-decoration-color: #800000; font-weight: bold\">=</span><span style=\"color: #800000; text-decoration-color: #800000; font-weight: bold\">'cuda:0'</span><span style=\"color: #800000; text-decoration-color: #800000; font-weight: bold\">) computed_loss = tensor(</span><span style=\"color: #800000; text-decoration-color: #800000; font-weight: bold\">0.0399</span><span style=\"color: #800000; text-decoration-color: #800000; font-weight: bold\">, </span><span style=\"color: #800000; text-decoration-color: #800000; font-weight: bold\">device</span><span style=\"color: #800000; text-decoration-color: #800000; font-weight: bold\">=</span><span style=\"color: #800000; text-decoration-color: #800000; font-weight: bold\">'cuda:0'</span><span style=\"color: #800000; text-decoration-color: #800000; font-weight: bold\">, </span>\n",
       "<span style=\"color: #800000; text-decoration-color: #800000; font-weight: bold\">grad_fn</span><span style=\"color: #800000; text-decoration-color: #800000; font-weight: bold\">=&lt;NllLossBackward0&gt;)</span>\n",
       "</pre>\n"
      ],
      "text/plain": [
       "\u001b[1;31mloss = \u001b[0m\u001b[1;31mtensor\u001b[0m\u001b[1;31m(\u001b[0m\u001b[1;31m0.0439\u001b[0m\u001b[1;31m, \u001b[0m\u001b[1;31mdevice\u001b[0m\u001b[1;31m=\u001b[0m\u001b[1;31m'cuda:0'\u001b[0m\u001b[1;31m)\u001b[0m\u001b[1;31m computed_loss = \u001b[0m\u001b[1;31mtensor\u001b[0m\u001b[1;31m(\u001b[0m\u001b[1;31m0.0399\u001b[0m\u001b[1;31m, \u001b[0m\u001b[1;31mdevice\u001b[0m\u001b[1;31m=\u001b[0m\u001b[1;31m'cuda:0'\u001b[0m\u001b[1;31m, \u001b[0m\n",
       "\u001b[1;31mgrad_fn\u001b[0m\u001b[1;31m=\u001b[0m\u001b[1;31m<\u001b[0m\u001b[1;31mNllLossBackward0\u001b[0m\u001b[1;31m>\u001b[0m\u001b[1;31m)\u001b[0m\n"
      ]
     },
     "metadata": {},
     "output_type": "display_data"
    },
    {
     "data": {
      "text/html": [
       "<pre style=\"white-space:pre;overflow-x:auto;line-height:normal;font-family:Menlo,'DejaVu Sans Mono',consolas,'Courier New',monospace\"><span style=\"color: #800000; text-decoration-color: #800000; font-weight: bold\">loss = tensor(</span><span style=\"color: #800000; text-decoration-color: #800000; font-weight: bold\">0.0112</span><span style=\"color: #800000; text-decoration-color: #800000; font-weight: bold\">, </span><span style=\"color: #800000; text-decoration-color: #800000; font-weight: bold\">device</span><span style=\"color: #800000; text-decoration-color: #800000; font-weight: bold\">=</span><span style=\"color: #800000; text-decoration-color: #800000; font-weight: bold\">'cuda:0'</span><span style=\"color: #800000; text-decoration-color: #800000; font-weight: bold\">) computed_loss = tensor(</span><span style=\"color: #800000; text-decoration-color: #800000; font-weight: bold\">0.0111</span><span style=\"color: #800000; text-decoration-color: #800000; font-weight: bold\">, </span><span style=\"color: #800000; text-decoration-color: #800000; font-weight: bold\">device</span><span style=\"color: #800000; text-decoration-color: #800000; font-weight: bold\">=</span><span style=\"color: #800000; text-decoration-color: #800000; font-weight: bold\">'cuda:0'</span><span style=\"color: #800000; text-decoration-color: #800000; font-weight: bold\">, </span>\n",
       "<span style=\"color: #800000; text-decoration-color: #800000; font-weight: bold\">grad_fn</span><span style=\"color: #800000; text-decoration-color: #800000; font-weight: bold\">=&lt;NllLossBackward0&gt;)</span>\n",
       "</pre>\n"
      ],
      "text/plain": [
       "\u001b[1;31mloss = \u001b[0m\u001b[1;31mtensor\u001b[0m\u001b[1;31m(\u001b[0m\u001b[1;31m0.0112\u001b[0m\u001b[1;31m, \u001b[0m\u001b[1;31mdevice\u001b[0m\u001b[1;31m=\u001b[0m\u001b[1;31m'cuda:0'\u001b[0m\u001b[1;31m)\u001b[0m\u001b[1;31m computed_loss = \u001b[0m\u001b[1;31mtensor\u001b[0m\u001b[1;31m(\u001b[0m\u001b[1;31m0.0111\u001b[0m\u001b[1;31m, \u001b[0m\u001b[1;31mdevice\u001b[0m\u001b[1;31m=\u001b[0m\u001b[1;31m'cuda:0'\u001b[0m\u001b[1;31m, \u001b[0m\n",
       "\u001b[1;31mgrad_fn\u001b[0m\u001b[1;31m=\u001b[0m\u001b[1;31m<\u001b[0m\u001b[1;31mNllLossBackward0\u001b[0m\u001b[1;31m>\u001b[0m\u001b[1;31m)\u001b[0m\n"
      ]
     },
     "metadata": {},
     "output_type": "display_data"
    },
    {
     "data": {
      "text/html": [
       "<pre style=\"white-space:pre;overflow-x:auto;line-height:normal;font-family:Menlo,'DejaVu Sans Mono',consolas,'Courier New',monospace\"><span style=\"color: #800000; text-decoration-color: #800000; font-weight: bold\">loss = tensor(</span><span style=\"color: #800000; text-decoration-color: #800000; font-weight: bold\">0.0070</span><span style=\"color: #800000; text-decoration-color: #800000; font-weight: bold\">, </span><span style=\"color: #800000; text-decoration-color: #800000; font-weight: bold\">device</span><span style=\"color: #800000; text-decoration-color: #800000; font-weight: bold\">=</span><span style=\"color: #800000; text-decoration-color: #800000; font-weight: bold\">'cuda:0'</span><span style=\"color: #800000; text-decoration-color: #800000; font-weight: bold\">) computed_loss = tensor(</span><span style=\"color: #800000; text-decoration-color: #800000; font-weight: bold\">0.0071</span><span style=\"color: #800000; text-decoration-color: #800000; font-weight: bold\">, </span><span style=\"color: #800000; text-decoration-color: #800000; font-weight: bold\">device</span><span style=\"color: #800000; text-decoration-color: #800000; font-weight: bold\">=</span><span style=\"color: #800000; text-decoration-color: #800000; font-weight: bold\">'cuda:0'</span><span style=\"color: #800000; text-decoration-color: #800000; font-weight: bold\">, </span>\n",
       "<span style=\"color: #800000; text-decoration-color: #800000; font-weight: bold\">grad_fn</span><span style=\"color: #800000; text-decoration-color: #800000; font-weight: bold\">=&lt;NllLossBackward0&gt;)</span>\n",
       "</pre>\n"
      ],
      "text/plain": [
       "\u001b[1;31mloss = \u001b[0m\u001b[1;31mtensor\u001b[0m\u001b[1;31m(\u001b[0m\u001b[1;31m0.0070\u001b[0m\u001b[1;31m, \u001b[0m\u001b[1;31mdevice\u001b[0m\u001b[1;31m=\u001b[0m\u001b[1;31m'cuda:0'\u001b[0m\u001b[1;31m)\u001b[0m\u001b[1;31m computed_loss = \u001b[0m\u001b[1;31mtensor\u001b[0m\u001b[1;31m(\u001b[0m\u001b[1;31m0.0071\u001b[0m\u001b[1;31m, \u001b[0m\u001b[1;31mdevice\u001b[0m\u001b[1;31m=\u001b[0m\u001b[1;31m'cuda:0'\u001b[0m\u001b[1;31m, \u001b[0m\n",
       "\u001b[1;31mgrad_fn\u001b[0m\u001b[1;31m=\u001b[0m\u001b[1;31m<\u001b[0m\u001b[1;31mNllLossBackward0\u001b[0m\u001b[1;31m>\u001b[0m\u001b[1;31m)\u001b[0m\n"
      ]
     },
     "metadata": {},
     "output_type": "display_data"
    },
    {
     "data": {
      "text/html": [
       "<pre style=\"white-space:pre;overflow-x:auto;line-height:normal;font-family:Menlo,'DejaVu Sans Mono',consolas,'Courier New',monospace\"><span style=\"color: #800000; text-decoration-color: #800000; font-weight: bold\">loss = tensor(</span><span style=\"color: #800000; text-decoration-color: #800000; font-weight: bold\">0.0066</span><span style=\"color: #800000; text-decoration-color: #800000; font-weight: bold\">, </span><span style=\"color: #800000; text-decoration-color: #800000; font-weight: bold\">device</span><span style=\"color: #800000; text-decoration-color: #800000; font-weight: bold\">=</span><span style=\"color: #800000; text-decoration-color: #800000; font-weight: bold\">'cuda:0'</span><span style=\"color: #800000; text-decoration-color: #800000; font-weight: bold\">) computed_loss = tensor(</span><span style=\"color: #800000; text-decoration-color: #800000; font-weight: bold\">0.0066</span><span style=\"color: #800000; text-decoration-color: #800000; font-weight: bold\">, </span><span style=\"color: #800000; text-decoration-color: #800000; font-weight: bold\">device</span><span style=\"color: #800000; text-decoration-color: #800000; font-weight: bold\">=</span><span style=\"color: #800000; text-decoration-color: #800000; font-weight: bold\">'cuda:0'</span><span style=\"color: #800000; text-decoration-color: #800000; font-weight: bold\">, </span>\n",
       "<span style=\"color: #800000; text-decoration-color: #800000; font-weight: bold\">grad_fn</span><span style=\"color: #800000; text-decoration-color: #800000; font-weight: bold\">=&lt;NllLossBackward0&gt;)</span>\n",
       "</pre>\n"
      ],
      "text/plain": [
       "\u001b[1;31mloss = \u001b[0m\u001b[1;31mtensor\u001b[0m\u001b[1;31m(\u001b[0m\u001b[1;31m0.0066\u001b[0m\u001b[1;31m, \u001b[0m\u001b[1;31mdevice\u001b[0m\u001b[1;31m=\u001b[0m\u001b[1;31m'cuda:0'\u001b[0m\u001b[1;31m)\u001b[0m\u001b[1;31m computed_loss = \u001b[0m\u001b[1;31mtensor\u001b[0m\u001b[1;31m(\u001b[0m\u001b[1;31m0.0066\u001b[0m\u001b[1;31m, \u001b[0m\u001b[1;31mdevice\u001b[0m\u001b[1;31m=\u001b[0m\u001b[1;31m'cuda:0'\u001b[0m\u001b[1;31m, \u001b[0m\n",
       "\u001b[1;31mgrad_fn\u001b[0m\u001b[1;31m=\u001b[0m\u001b[1;31m<\u001b[0m\u001b[1;31mNllLossBackward0\u001b[0m\u001b[1;31m>\u001b[0m\u001b[1;31m)\u001b[0m\n"
      ]
     },
     "metadata": {},
     "output_type": "display_data"
    },
    {
     "data": {
      "text/html": [
       "<pre style=\"white-space:pre;overflow-x:auto;line-height:normal;font-family:Menlo,'DejaVu Sans Mono',consolas,'Courier New',monospace\"><span style=\"color: #800000; text-decoration-color: #800000; font-weight: bold\">loss = tensor(</span><span style=\"color: #800000; text-decoration-color: #800000; font-weight: bold\">0.2619</span><span style=\"color: #800000; text-decoration-color: #800000; font-weight: bold\">, </span><span style=\"color: #800000; text-decoration-color: #800000; font-weight: bold\">device</span><span style=\"color: #800000; text-decoration-color: #800000; font-weight: bold\">=</span><span style=\"color: #800000; text-decoration-color: #800000; font-weight: bold\">'cuda:0'</span><span style=\"color: #800000; text-decoration-color: #800000; font-weight: bold\">) computed_loss = tensor(</span><span style=\"color: #800000; text-decoration-color: #800000; font-weight: bold\">0.2361</span><span style=\"color: #800000; text-decoration-color: #800000; font-weight: bold\">, </span><span style=\"color: #800000; text-decoration-color: #800000; font-weight: bold\">device</span><span style=\"color: #800000; text-decoration-color: #800000; font-weight: bold\">=</span><span style=\"color: #800000; text-decoration-color: #800000; font-weight: bold\">'cuda:0'</span><span style=\"color: #800000; text-decoration-color: #800000; font-weight: bold\">, </span>\n",
       "<span style=\"color: #800000; text-decoration-color: #800000; font-weight: bold\">grad_fn</span><span style=\"color: #800000; text-decoration-color: #800000; font-weight: bold\">=&lt;NllLossBackward0&gt;)</span>\n",
       "</pre>\n"
      ],
      "text/plain": [
       "\u001b[1;31mloss = \u001b[0m\u001b[1;31mtensor\u001b[0m\u001b[1;31m(\u001b[0m\u001b[1;31m0.2619\u001b[0m\u001b[1;31m, \u001b[0m\u001b[1;31mdevice\u001b[0m\u001b[1;31m=\u001b[0m\u001b[1;31m'cuda:0'\u001b[0m\u001b[1;31m)\u001b[0m\u001b[1;31m computed_loss = \u001b[0m\u001b[1;31mtensor\u001b[0m\u001b[1;31m(\u001b[0m\u001b[1;31m0.2361\u001b[0m\u001b[1;31m, \u001b[0m\u001b[1;31mdevice\u001b[0m\u001b[1;31m=\u001b[0m\u001b[1;31m'cuda:0'\u001b[0m\u001b[1;31m, \u001b[0m\n",
       "\u001b[1;31mgrad_fn\u001b[0m\u001b[1;31m=\u001b[0m\u001b[1;31m<\u001b[0m\u001b[1;31mNllLossBackward0\u001b[0m\u001b[1;31m>\u001b[0m\u001b[1;31m)\u001b[0m\n"
      ]
     },
     "metadata": {},
     "output_type": "display_data"
    },
    {
     "data": {
      "text/html": [
       "<pre style=\"white-space:pre;overflow-x:auto;line-height:normal;font-family:Menlo,'DejaVu Sans Mono',consolas,'Courier New',monospace\"><span style=\"color: #800000; text-decoration-color: #800000; font-weight: bold\">loss = tensor(</span><span style=\"color: #800000; text-decoration-color: #800000; font-weight: bold\">0.0049</span><span style=\"color: #800000; text-decoration-color: #800000; font-weight: bold\">, </span><span style=\"color: #800000; text-decoration-color: #800000; font-weight: bold\">device</span><span style=\"color: #800000; text-decoration-color: #800000; font-weight: bold\">=</span><span style=\"color: #800000; text-decoration-color: #800000; font-weight: bold\">'cuda:0'</span><span style=\"color: #800000; text-decoration-color: #800000; font-weight: bold\">) computed_loss = tensor(</span><span style=\"color: #800000; text-decoration-color: #800000; font-weight: bold\">0.0049</span><span style=\"color: #800000; text-decoration-color: #800000; font-weight: bold\">, </span><span style=\"color: #800000; text-decoration-color: #800000; font-weight: bold\">device</span><span style=\"color: #800000; text-decoration-color: #800000; font-weight: bold\">=</span><span style=\"color: #800000; text-decoration-color: #800000; font-weight: bold\">'cuda:0'</span><span style=\"color: #800000; text-decoration-color: #800000; font-weight: bold\">, </span>\n",
       "<span style=\"color: #800000; text-decoration-color: #800000; font-weight: bold\">grad_fn</span><span style=\"color: #800000; text-decoration-color: #800000; font-weight: bold\">=&lt;NllLossBackward0&gt;)</span>\n",
       "</pre>\n"
      ],
      "text/plain": [
       "\u001b[1;31mloss = \u001b[0m\u001b[1;31mtensor\u001b[0m\u001b[1;31m(\u001b[0m\u001b[1;31m0.0049\u001b[0m\u001b[1;31m, \u001b[0m\u001b[1;31mdevice\u001b[0m\u001b[1;31m=\u001b[0m\u001b[1;31m'cuda:0'\u001b[0m\u001b[1;31m)\u001b[0m\u001b[1;31m computed_loss = \u001b[0m\u001b[1;31mtensor\u001b[0m\u001b[1;31m(\u001b[0m\u001b[1;31m0.0049\u001b[0m\u001b[1;31m, \u001b[0m\u001b[1;31mdevice\u001b[0m\u001b[1;31m=\u001b[0m\u001b[1;31m'cuda:0'\u001b[0m\u001b[1;31m, \u001b[0m\n",
       "\u001b[1;31mgrad_fn\u001b[0m\u001b[1;31m=\u001b[0m\u001b[1;31m<\u001b[0m\u001b[1;31mNllLossBackward0\u001b[0m\u001b[1;31m>\u001b[0m\u001b[1;31m)\u001b[0m\n"
      ]
     },
     "metadata": {},
     "output_type": "display_data"
    },
    {
     "data": {
      "text/html": [
       "<pre style=\"white-space:pre;overflow-x:auto;line-height:normal;font-family:Menlo,'DejaVu Sans Mono',consolas,'Courier New',monospace\"><span style=\"color: #800000; text-decoration-color: #800000; font-weight: bold\">loss = tensor(</span><span style=\"color: #800000; text-decoration-color: #800000; font-weight: bold\">0.0528</span><span style=\"color: #800000; text-decoration-color: #800000; font-weight: bold\">, </span><span style=\"color: #800000; text-decoration-color: #800000; font-weight: bold\">device</span><span style=\"color: #800000; text-decoration-color: #800000; font-weight: bold\">=</span><span style=\"color: #800000; text-decoration-color: #800000; font-weight: bold\">'cuda:0'</span><span style=\"color: #800000; text-decoration-color: #800000; font-weight: bold\">) computed_loss = tensor(</span><span style=\"color: #800000; text-decoration-color: #800000; font-weight: bold\">0.0552</span><span style=\"color: #800000; text-decoration-color: #800000; font-weight: bold\">, </span><span style=\"color: #800000; text-decoration-color: #800000; font-weight: bold\">device</span><span style=\"color: #800000; text-decoration-color: #800000; font-weight: bold\">=</span><span style=\"color: #800000; text-decoration-color: #800000; font-weight: bold\">'cuda:0'</span><span style=\"color: #800000; text-decoration-color: #800000; font-weight: bold\">, </span>\n",
       "<span style=\"color: #800000; text-decoration-color: #800000; font-weight: bold\">grad_fn</span><span style=\"color: #800000; text-decoration-color: #800000; font-weight: bold\">=&lt;NllLossBackward0&gt;)</span>\n",
       "</pre>\n"
      ],
      "text/plain": [
       "\u001b[1;31mloss = \u001b[0m\u001b[1;31mtensor\u001b[0m\u001b[1;31m(\u001b[0m\u001b[1;31m0.0528\u001b[0m\u001b[1;31m, \u001b[0m\u001b[1;31mdevice\u001b[0m\u001b[1;31m=\u001b[0m\u001b[1;31m'cuda:0'\u001b[0m\u001b[1;31m)\u001b[0m\u001b[1;31m computed_loss = \u001b[0m\u001b[1;31mtensor\u001b[0m\u001b[1;31m(\u001b[0m\u001b[1;31m0.0552\u001b[0m\u001b[1;31m, \u001b[0m\u001b[1;31mdevice\u001b[0m\u001b[1;31m=\u001b[0m\u001b[1;31m'cuda:0'\u001b[0m\u001b[1;31m, \u001b[0m\n",
       "\u001b[1;31mgrad_fn\u001b[0m\u001b[1;31m=\u001b[0m\u001b[1;31m<\u001b[0m\u001b[1;31mNllLossBackward0\u001b[0m\u001b[1;31m>\u001b[0m\u001b[1;31m)\u001b[0m\n"
      ]
     },
     "metadata": {},
     "output_type": "display_data"
    },
    {
     "data": {
      "text/html": [
       "<pre style=\"white-space:pre;overflow-x:auto;line-height:normal;font-family:Menlo,'DejaVu Sans Mono',consolas,'Courier New',monospace\"><span style=\"color: #800000; text-decoration-color: #800000; font-weight: bold\">loss = tensor(</span><span style=\"color: #800000; text-decoration-color: #800000; font-weight: bold\">0.0068</span><span style=\"color: #800000; text-decoration-color: #800000; font-weight: bold\">, </span><span style=\"color: #800000; text-decoration-color: #800000; font-weight: bold\">device</span><span style=\"color: #800000; text-decoration-color: #800000; font-weight: bold\">=</span><span style=\"color: #800000; text-decoration-color: #800000; font-weight: bold\">'cuda:0'</span><span style=\"color: #800000; text-decoration-color: #800000; font-weight: bold\">) computed_loss = tensor(</span><span style=\"color: #800000; text-decoration-color: #800000; font-weight: bold\">0.0069</span><span style=\"color: #800000; text-decoration-color: #800000; font-weight: bold\">, </span><span style=\"color: #800000; text-decoration-color: #800000; font-weight: bold\">device</span><span style=\"color: #800000; text-decoration-color: #800000; font-weight: bold\">=</span><span style=\"color: #800000; text-decoration-color: #800000; font-weight: bold\">'cuda:0'</span><span style=\"color: #800000; text-decoration-color: #800000; font-weight: bold\">, </span>\n",
       "<span style=\"color: #800000; text-decoration-color: #800000; font-weight: bold\">grad_fn</span><span style=\"color: #800000; text-decoration-color: #800000; font-weight: bold\">=&lt;NllLossBackward0&gt;)</span>\n",
       "</pre>\n"
      ],
      "text/plain": [
       "\u001b[1;31mloss = \u001b[0m\u001b[1;31mtensor\u001b[0m\u001b[1;31m(\u001b[0m\u001b[1;31m0.0068\u001b[0m\u001b[1;31m, \u001b[0m\u001b[1;31mdevice\u001b[0m\u001b[1;31m=\u001b[0m\u001b[1;31m'cuda:0'\u001b[0m\u001b[1;31m)\u001b[0m\u001b[1;31m computed_loss = \u001b[0m\u001b[1;31mtensor\u001b[0m\u001b[1;31m(\u001b[0m\u001b[1;31m0.0069\u001b[0m\u001b[1;31m, \u001b[0m\u001b[1;31mdevice\u001b[0m\u001b[1;31m=\u001b[0m\u001b[1;31m'cuda:0'\u001b[0m\u001b[1;31m, \u001b[0m\n",
       "\u001b[1;31mgrad_fn\u001b[0m\u001b[1;31m=\u001b[0m\u001b[1;31m<\u001b[0m\u001b[1;31mNllLossBackward0\u001b[0m\u001b[1;31m>\u001b[0m\u001b[1;31m)\u001b[0m\n"
      ]
     },
     "metadata": {},
     "output_type": "display_data"
    },
    {
     "data": {
      "text/html": [
       "<pre style=\"white-space:pre;overflow-x:auto;line-height:normal;font-family:Menlo,'DejaVu Sans Mono',consolas,'Courier New',monospace\"><span style=\"color: #800000; text-decoration-color: #800000; font-weight: bold\">loss = tensor(</span><span style=\"color: #800000; text-decoration-color: #800000; font-weight: bold\">0.0541</span><span style=\"color: #800000; text-decoration-color: #800000; font-weight: bold\">, </span><span style=\"color: #800000; text-decoration-color: #800000; font-weight: bold\">device</span><span style=\"color: #800000; text-decoration-color: #800000; font-weight: bold\">=</span><span style=\"color: #800000; text-decoration-color: #800000; font-weight: bold\">'cuda:0'</span><span style=\"color: #800000; text-decoration-color: #800000; font-weight: bold\">) computed_loss = tensor(</span><span style=\"color: #800000; text-decoration-color: #800000; font-weight: bold\">0.0564</span><span style=\"color: #800000; text-decoration-color: #800000; font-weight: bold\">, </span><span style=\"color: #800000; text-decoration-color: #800000; font-weight: bold\">device</span><span style=\"color: #800000; text-decoration-color: #800000; font-weight: bold\">=</span><span style=\"color: #800000; text-decoration-color: #800000; font-weight: bold\">'cuda:0'</span><span style=\"color: #800000; text-decoration-color: #800000; font-weight: bold\">, </span>\n",
       "<span style=\"color: #800000; text-decoration-color: #800000; font-weight: bold\">grad_fn</span><span style=\"color: #800000; text-decoration-color: #800000; font-weight: bold\">=&lt;NllLossBackward0&gt;)</span>\n",
       "</pre>\n"
      ],
      "text/plain": [
       "\u001b[1;31mloss = \u001b[0m\u001b[1;31mtensor\u001b[0m\u001b[1;31m(\u001b[0m\u001b[1;31m0.0541\u001b[0m\u001b[1;31m, \u001b[0m\u001b[1;31mdevice\u001b[0m\u001b[1;31m=\u001b[0m\u001b[1;31m'cuda:0'\u001b[0m\u001b[1;31m)\u001b[0m\u001b[1;31m computed_loss = \u001b[0m\u001b[1;31mtensor\u001b[0m\u001b[1;31m(\u001b[0m\u001b[1;31m0.0564\u001b[0m\u001b[1;31m, \u001b[0m\u001b[1;31mdevice\u001b[0m\u001b[1;31m=\u001b[0m\u001b[1;31m'cuda:0'\u001b[0m\u001b[1;31m, \u001b[0m\n",
       "\u001b[1;31mgrad_fn\u001b[0m\u001b[1;31m=\u001b[0m\u001b[1;31m<\u001b[0m\u001b[1;31mNllLossBackward0\u001b[0m\u001b[1;31m>\u001b[0m\u001b[1;31m)\u001b[0m\n"
      ]
     },
     "metadata": {},
     "output_type": "display_data"
    },
    {
     "data": {
      "text/html": [
       "<pre style=\"white-space:pre;overflow-x:auto;line-height:normal;font-family:Menlo,'DejaVu Sans Mono',consolas,'Courier New',monospace\"><span style=\"color: #800000; text-decoration-color: #800000; font-weight: bold\">loss = tensor(</span><span style=\"color: #800000; text-decoration-color: #800000; font-weight: bold\">0.1876</span><span style=\"color: #800000; text-decoration-color: #800000; font-weight: bold\">, </span><span style=\"color: #800000; text-decoration-color: #800000; font-weight: bold\">device</span><span style=\"color: #800000; text-decoration-color: #800000; font-weight: bold\">=</span><span style=\"color: #800000; text-decoration-color: #800000; font-weight: bold\">'cuda:0'</span><span style=\"color: #800000; text-decoration-color: #800000; font-weight: bold\">) computed_loss = tensor(</span><span style=\"color: #800000; text-decoration-color: #800000; font-weight: bold\">0.1966</span><span style=\"color: #800000; text-decoration-color: #800000; font-weight: bold\">, </span><span style=\"color: #800000; text-decoration-color: #800000; font-weight: bold\">device</span><span style=\"color: #800000; text-decoration-color: #800000; font-weight: bold\">=</span><span style=\"color: #800000; text-decoration-color: #800000; font-weight: bold\">'cuda:0'</span><span style=\"color: #800000; text-decoration-color: #800000; font-weight: bold\">, </span>\n",
       "<span style=\"color: #800000; text-decoration-color: #800000; font-weight: bold\">grad_fn</span><span style=\"color: #800000; text-decoration-color: #800000; font-weight: bold\">=&lt;NllLossBackward0&gt;)</span>\n",
       "</pre>\n"
      ],
      "text/plain": [
       "\u001b[1;31mloss = \u001b[0m\u001b[1;31mtensor\u001b[0m\u001b[1;31m(\u001b[0m\u001b[1;31m0.1876\u001b[0m\u001b[1;31m, \u001b[0m\u001b[1;31mdevice\u001b[0m\u001b[1;31m=\u001b[0m\u001b[1;31m'cuda:0'\u001b[0m\u001b[1;31m)\u001b[0m\u001b[1;31m computed_loss = \u001b[0m\u001b[1;31mtensor\u001b[0m\u001b[1;31m(\u001b[0m\u001b[1;31m0.1966\u001b[0m\u001b[1;31m, \u001b[0m\u001b[1;31mdevice\u001b[0m\u001b[1;31m=\u001b[0m\u001b[1;31m'cuda:0'\u001b[0m\u001b[1;31m, \u001b[0m\n",
       "\u001b[1;31mgrad_fn\u001b[0m\u001b[1;31m=\u001b[0m\u001b[1;31m<\u001b[0m\u001b[1;31mNllLossBackward0\u001b[0m\u001b[1;31m>\u001b[0m\u001b[1;31m)\u001b[0m\n"
      ]
     },
     "metadata": {},
     "output_type": "display_data"
    },
    {
     "data": {
      "text/html": [
       "<pre style=\"white-space:pre;overflow-x:auto;line-height:normal;font-family:Menlo,'DejaVu Sans Mono',consolas,'Courier New',monospace\"><span style=\"color: #800000; text-decoration-color: #800000; font-weight: bold\">loss = tensor(</span><span style=\"color: #800000; text-decoration-color: #800000; font-weight: bold\">0.1215</span><span style=\"color: #800000; text-decoration-color: #800000; font-weight: bold\">, </span><span style=\"color: #800000; text-decoration-color: #800000; font-weight: bold\">device</span><span style=\"color: #800000; text-decoration-color: #800000; font-weight: bold\">=</span><span style=\"color: #800000; text-decoration-color: #800000; font-weight: bold\">'cuda:0'</span><span style=\"color: #800000; text-decoration-color: #800000; font-weight: bold\">) computed_loss = tensor(</span><span style=\"color: #800000; text-decoration-color: #800000; font-weight: bold\">0.1272</span><span style=\"color: #800000; text-decoration-color: #800000; font-weight: bold\">, </span><span style=\"color: #800000; text-decoration-color: #800000; font-weight: bold\">device</span><span style=\"color: #800000; text-decoration-color: #800000; font-weight: bold\">=</span><span style=\"color: #800000; text-decoration-color: #800000; font-weight: bold\">'cuda:0'</span><span style=\"color: #800000; text-decoration-color: #800000; font-weight: bold\">, </span>\n",
       "<span style=\"color: #800000; text-decoration-color: #800000; font-weight: bold\">grad_fn</span><span style=\"color: #800000; text-decoration-color: #800000; font-weight: bold\">=&lt;NllLossBackward0&gt;)</span>\n",
       "</pre>\n"
      ],
      "text/plain": [
       "\u001b[1;31mloss = \u001b[0m\u001b[1;31mtensor\u001b[0m\u001b[1;31m(\u001b[0m\u001b[1;31m0.1215\u001b[0m\u001b[1;31m, \u001b[0m\u001b[1;31mdevice\u001b[0m\u001b[1;31m=\u001b[0m\u001b[1;31m'cuda:0'\u001b[0m\u001b[1;31m)\u001b[0m\u001b[1;31m computed_loss = \u001b[0m\u001b[1;31mtensor\u001b[0m\u001b[1;31m(\u001b[0m\u001b[1;31m0.1272\u001b[0m\u001b[1;31m, \u001b[0m\u001b[1;31mdevice\u001b[0m\u001b[1;31m=\u001b[0m\u001b[1;31m'cuda:0'\u001b[0m\u001b[1;31m, \u001b[0m\n",
       "\u001b[1;31mgrad_fn\u001b[0m\u001b[1;31m=\u001b[0m\u001b[1;31m<\u001b[0m\u001b[1;31mNllLossBackward0\u001b[0m\u001b[1;31m>\u001b[0m\u001b[1;31m)\u001b[0m\n"
      ]
     },
     "metadata": {},
     "output_type": "display_data"
    },
    {
     "data": {
      "text/html": [
       "<pre style=\"white-space:pre;overflow-x:auto;line-height:normal;font-family:Menlo,'DejaVu Sans Mono',consolas,'Courier New',monospace\"><span style=\"color: #800000; text-decoration-color: #800000; font-weight: bold\">loss = tensor(</span><span style=\"color: #800000; text-decoration-color: #800000; font-weight: bold\">0.0054</span><span style=\"color: #800000; text-decoration-color: #800000; font-weight: bold\">, </span><span style=\"color: #800000; text-decoration-color: #800000; font-weight: bold\">device</span><span style=\"color: #800000; text-decoration-color: #800000; font-weight: bold\">=</span><span style=\"color: #800000; text-decoration-color: #800000; font-weight: bold\">'cuda:0'</span><span style=\"color: #800000; text-decoration-color: #800000; font-weight: bold\">) computed_loss = tensor(</span><span style=\"color: #800000; text-decoration-color: #800000; font-weight: bold\">0.0053</span><span style=\"color: #800000; text-decoration-color: #800000; font-weight: bold\">, </span><span style=\"color: #800000; text-decoration-color: #800000; font-weight: bold\">device</span><span style=\"color: #800000; text-decoration-color: #800000; font-weight: bold\">=</span><span style=\"color: #800000; text-decoration-color: #800000; font-weight: bold\">'cuda:0'</span><span style=\"color: #800000; text-decoration-color: #800000; font-weight: bold\">, </span>\n",
       "<span style=\"color: #800000; text-decoration-color: #800000; font-weight: bold\">grad_fn</span><span style=\"color: #800000; text-decoration-color: #800000; font-weight: bold\">=&lt;NllLossBackward0&gt;)</span>\n",
       "</pre>\n"
      ],
      "text/plain": [
       "\u001b[1;31mloss = \u001b[0m\u001b[1;31mtensor\u001b[0m\u001b[1;31m(\u001b[0m\u001b[1;31m0.0054\u001b[0m\u001b[1;31m, \u001b[0m\u001b[1;31mdevice\u001b[0m\u001b[1;31m=\u001b[0m\u001b[1;31m'cuda:0'\u001b[0m\u001b[1;31m)\u001b[0m\u001b[1;31m computed_loss = \u001b[0m\u001b[1;31mtensor\u001b[0m\u001b[1;31m(\u001b[0m\u001b[1;31m0.0053\u001b[0m\u001b[1;31m, \u001b[0m\u001b[1;31mdevice\u001b[0m\u001b[1;31m=\u001b[0m\u001b[1;31m'cuda:0'\u001b[0m\u001b[1;31m, \u001b[0m\n",
       "\u001b[1;31mgrad_fn\u001b[0m\u001b[1;31m=\u001b[0m\u001b[1;31m<\u001b[0m\u001b[1;31mNllLossBackward0\u001b[0m\u001b[1;31m>\u001b[0m\u001b[1;31m)\u001b[0m\n"
      ]
     },
     "metadata": {},
     "output_type": "display_data"
    },
    {
     "data": {
      "text/html": [
       "<pre style=\"white-space:pre;overflow-x:auto;line-height:normal;font-family:Menlo,'DejaVu Sans Mono',consolas,'Courier New',monospace\"><span style=\"color: #800000; text-decoration-color: #800000; font-weight: bold\">loss = tensor(</span><span style=\"color: #800000; text-decoration-color: #800000; font-weight: bold\">0.5880</span><span style=\"color: #800000; text-decoration-color: #800000; font-weight: bold\">, </span><span style=\"color: #800000; text-decoration-color: #800000; font-weight: bold\">device</span><span style=\"color: #800000; text-decoration-color: #800000; font-weight: bold\">=</span><span style=\"color: #800000; text-decoration-color: #800000; font-weight: bold\">'cuda:0'</span><span style=\"color: #800000; text-decoration-color: #800000; font-weight: bold\">) computed_loss = tensor(</span><span style=\"color: #800000; text-decoration-color: #800000; font-weight: bold\">0.5432</span><span style=\"color: #800000; text-decoration-color: #800000; font-weight: bold\">, </span><span style=\"color: #800000; text-decoration-color: #800000; font-weight: bold\">device</span><span style=\"color: #800000; text-decoration-color: #800000; font-weight: bold\">=</span><span style=\"color: #800000; text-decoration-color: #800000; font-weight: bold\">'cuda:0'</span><span style=\"color: #800000; text-decoration-color: #800000; font-weight: bold\">, </span>\n",
       "<span style=\"color: #800000; text-decoration-color: #800000; font-weight: bold\">grad_fn</span><span style=\"color: #800000; text-decoration-color: #800000; font-weight: bold\">=&lt;NllLossBackward0&gt;)</span>\n",
       "</pre>\n"
      ],
      "text/plain": [
       "\u001b[1;31mloss = \u001b[0m\u001b[1;31mtensor\u001b[0m\u001b[1;31m(\u001b[0m\u001b[1;31m0.5880\u001b[0m\u001b[1;31m, \u001b[0m\u001b[1;31mdevice\u001b[0m\u001b[1;31m=\u001b[0m\u001b[1;31m'cuda:0'\u001b[0m\u001b[1;31m)\u001b[0m\u001b[1;31m computed_loss = \u001b[0m\u001b[1;31mtensor\u001b[0m\u001b[1;31m(\u001b[0m\u001b[1;31m0.5432\u001b[0m\u001b[1;31m, \u001b[0m\u001b[1;31mdevice\u001b[0m\u001b[1;31m=\u001b[0m\u001b[1;31m'cuda:0'\u001b[0m\u001b[1;31m, \u001b[0m\n",
       "\u001b[1;31mgrad_fn\u001b[0m\u001b[1;31m=\u001b[0m\u001b[1;31m<\u001b[0m\u001b[1;31mNllLossBackward0\u001b[0m\u001b[1;31m>\u001b[0m\u001b[1;31m)\u001b[0m\n"
      ]
     },
     "metadata": {},
     "output_type": "display_data"
    },
    {
     "data": {
      "text/html": [
       "<pre style=\"white-space:pre;overflow-x:auto;line-height:normal;font-family:Menlo,'DejaVu Sans Mono',consolas,'Courier New',monospace\"><span style=\"color: #800000; text-decoration-color: #800000; font-weight: bold\">loss = tensor(</span><span style=\"color: #800000; text-decoration-color: #800000; font-weight: bold\">0.0044</span><span style=\"color: #800000; text-decoration-color: #800000; font-weight: bold\">, </span><span style=\"color: #800000; text-decoration-color: #800000; font-weight: bold\">device</span><span style=\"color: #800000; text-decoration-color: #800000; font-weight: bold\">=</span><span style=\"color: #800000; text-decoration-color: #800000; font-weight: bold\">'cuda:0'</span><span style=\"color: #800000; text-decoration-color: #800000; font-weight: bold\">) computed_loss = tensor(</span><span style=\"color: #800000; text-decoration-color: #800000; font-weight: bold\">0.0043</span><span style=\"color: #800000; text-decoration-color: #800000; font-weight: bold\">, </span><span style=\"color: #800000; text-decoration-color: #800000; font-weight: bold\">device</span><span style=\"color: #800000; text-decoration-color: #800000; font-weight: bold\">=</span><span style=\"color: #800000; text-decoration-color: #800000; font-weight: bold\">'cuda:0'</span><span style=\"color: #800000; text-decoration-color: #800000; font-weight: bold\">, </span>\n",
       "<span style=\"color: #800000; text-decoration-color: #800000; font-weight: bold\">grad_fn</span><span style=\"color: #800000; text-decoration-color: #800000; font-weight: bold\">=&lt;NllLossBackward0&gt;)</span>\n",
       "</pre>\n"
      ],
      "text/plain": [
       "\u001b[1;31mloss = \u001b[0m\u001b[1;31mtensor\u001b[0m\u001b[1;31m(\u001b[0m\u001b[1;31m0.0044\u001b[0m\u001b[1;31m, \u001b[0m\u001b[1;31mdevice\u001b[0m\u001b[1;31m=\u001b[0m\u001b[1;31m'cuda:0'\u001b[0m\u001b[1;31m)\u001b[0m\u001b[1;31m computed_loss = \u001b[0m\u001b[1;31mtensor\u001b[0m\u001b[1;31m(\u001b[0m\u001b[1;31m0.0043\u001b[0m\u001b[1;31m, \u001b[0m\u001b[1;31mdevice\u001b[0m\u001b[1;31m=\u001b[0m\u001b[1;31m'cuda:0'\u001b[0m\u001b[1;31m, \u001b[0m\n",
       "\u001b[1;31mgrad_fn\u001b[0m\u001b[1;31m=\u001b[0m\u001b[1;31m<\u001b[0m\u001b[1;31mNllLossBackward0\u001b[0m\u001b[1;31m>\u001b[0m\u001b[1;31m)\u001b[0m\n"
      ]
     },
     "metadata": {},
     "output_type": "display_data"
    },
    {
     "data": {
      "text/html": [
       "<pre style=\"white-space:pre;overflow-x:auto;line-height:normal;font-family:Menlo,'DejaVu Sans Mono',consolas,'Courier New',monospace\"><span style=\"color: #800000; text-decoration-color: #800000; font-weight: bold\">loss = tensor(</span><span style=\"color: #800000; text-decoration-color: #800000; font-weight: bold\">0.2378</span><span style=\"color: #800000; text-decoration-color: #800000; font-weight: bold\">, </span><span style=\"color: #800000; text-decoration-color: #800000; font-weight: bold\">device</span><span style=\"color: #800000; text-decoration-color: #800000; font-weight: bold\">=</span><span style=\"color: #800000; text-decoration-color: #800000; font-weight: bold\">'cuda:0'</span><span style=\"color: #800000; text-decoration-color: #800000; font-weight: bold\">) computed_loss = tensor(</span><span style=\"color: #800000; text-decoration-color: #800000; font-weight: bold\">0.2494</span><span style=\"color: #800000; text-decoration-color: #800000; font-weight: bold\">, </span><span style=\"color: #800000; text-decoration-color: #800000; font-weight: bold\">device</span><span style=\"color: #800000; text-decoration-color: #800000; font-weight: bold\">=</span><span style=\"color: #800000; text-decoration-color: #800000; font-weight: bold\">'cuda:0'</span><span style=\"color: #800000; text-decoration-color: #800000; font-weight: bold\">, </span>\n",
       "<span style=\"color: #800000; text-decoration-color: #800000; font-weight: bold\">grad_fn</span><span style=\"color: #800000; text-decoration-color: #800000; font-weight: bold\">=&lt;NllLossBackward0&gt;)</span>\n",
       "</pre>\n"
      ],
      "text/plain": [
       "\u001b[1;31mloss = \u001b[0m\u001b[1;31mtensor\u001b[0m\u001b[1;31m(\u001b[0m\u001b[1;31m0.2378\u001b[0m\u001b[1;31m, \u001b[0m\u001b[1;31mdevice\u001b[0m\u001b[1;31m=\u001b[0m\u001b[1;31m'cuda:0'\u001b[0m\u001b[1;31m)\u001b[0m\u001b[1;31m computed_loss = \u001b[0m\u001b[1;31mtensor\u001b[0m\u001b[1;31m(\u001b[0m\u001b[1;31m0.2494\u001b[0m\u001b[1;31m, \u001b[0m\u001b[1;31mdevice\u001b[0m\u001b[1;31m=\u001b[0m\u001b[1;31m'cuda:0'\u001b[0m\u001b[1;31m, \u001b[0m\n",
       "\u001b[1;31mgrad_fn\u001b[0m\u001b[1;31m=\u001b[0m\u001b[1;31m<\u001b[0m\u001b[1;31mNllLossBackward0\u001b[0m\u001b[1;31m>\u001b[0m\u001b[1;31m)\u001b[0m\n"
      ]
     },
     "metadata": {},
     "output_type": "display_data"
    },
    {
     "data": {
      "text/html": [
       "<pre style=\"white-space:pre;overflow-x:auto;line-height:normal;font-family:Menlo,'DejaVu Sans Mono',consolas,'Courier New',monospace\"><span style=\"color: #800000; text-decoration-color: #800000; font-weight: bold\">loss = tensor(</span><span style=\"color: #800000; text-decoration-color: #800000; font-weight: bold\">0.0069</span><span style=\"color: #800000; text-decoration-color: #800000; font-weight: bold\">, </span><span style=\"color: #800000; text-decoration-color: #800000; font-weight: bold\">device</span><span style=\"color: #800000; text-decoration-color: #800000; font-weight: bold\">=</span><span style=\"color: #800000; text-decoration-color: #800000; font-weight: bold\">'cuda:0'</span><span style=\"color: #800000; text-decoration-color: #800000; font-weight: bold\">) computed_loss = tensor(</span><span style=\"color: #800000; text-decoration-color: #800000; font-weight: bold\">0.0069</span><span style=\"color: #800000; text-decoration-color: #800000; font-weight: bold\">, </span><span style=\"color: #800000; text-decoration-color: #800000; font-weight: bold\">device</span><span style=\"color: #800000; text-decoration-color: #800000; font-weight: bold\">=</span><span style=\"color: #800000; text-decoration-color: #800000; font-weight: bold\">'cuda:0'</span><span style=\"color: #800000; text-decoration-color: #800000; font-weight: bold\">, </span>\n",
       "<span style=\"color: #800000; text-decoration-color: #800000; font-weight: bold\">grad_fn</span><span style=\"color: #800000; text-decoration-color: #800000; font-weight: bold\">=&lt;NllLossBackward0&gt;)</span>\n",
       "</pre>\n"
      ],
      "text/plain": [
       "\u001b[1;31mloss = \u001b[0m\u001b[1;31mtensor\u001b[0m\u001b[1;31m(\u001b[0m\u001b[1;31m0.0069\u001b[0m\u001b[1;31m, \u001b[0m\u001b[1;31mdevice\u001b[0m\u001b[1;31m=\u001b[0m\u001b[1;31m'cuda:0'\u001b[0m\u001b[1;31m)\u001b[0m\u001b[1;31m computed_loss = \u001b[0m\u001b[1;31mtensor\u001b[0m\u001b[1;31m(\u001b[0m\u001b[1;31m0.0069\u001b[0m\u001b[1;31m, \u001b[0m\u001b[1;31mdevice\u001b[0m\u001b[1;31m=\u001b[0m\u001b[1;31m'cuda:0'\u001b[0m\u001b[1;31m, \u001b[0m\n",
       "\u001b[1;31mgrad_fn\u001b[0m\u001b[1;31m=\u001b[0m\u001b[1;31m<\u001b[0m\u001b[1;31mNllLossBackward0\u001b[0m\u001b[1;31m>\u001b[0m\u001b[1;31m)\u001b[0m\n"
      ]
     },
     "metadata": {},
     "output_type": "display_data"
    },
    {
     "data": {
      "text/html": [
       "<pre style=\"white-space:pre;overflow-x:auto;line-height:normal;font-family:Menlo,'DejaVu Sans Mono',consolas,'Courier New',monospace\"><span style=\"color: #800000; text-decoration-color: #800000; font-weight: bold\">loss = tensor(</span><span style=\"color: #800000; text-decoration-color: #800000; font-weight: bold\">0.2081</span><span style=\"color: #800000; text-decoration-color: #800000; font-weight: bold\">, </span><span style=\"color: #800000; text-decoration-color: #800000; font-weight: bold\">device</span><span style=\"color: #800000; text-decoration-color: #800000; font-weight: bold\">=</span><span style=\"color: #800000; text-decoration-color: #800000; font-weight: bold\">'cuda:0'</span><span style=\"color: #800000; text-decoration-color: #800000; font-weight: bold\">) computed_loss = tensor(</span><span style=\"color: #800000; text-decoration-color: #800000; font-weight: bold\">0.2182</span><span style=\"color: #800000; text-decoration-color: #800000; font-weight: bold\">, </span><span style=\"color: #800000; text-decoration-color: #800000; font-weight: bold\">device</span><span style=\"color: #800000; text-decoration-color: #800000; font-weight: bold\">=</span><span style=\"color: #800000; text-decoration-color: #800000; font-weight: bold\">'cuda:0'</span><span style=\"color: #800000; text-decoration-color: #800000; font-weight: bold\">, </span>\n",
       "<span style=\"color: #800000; text-decoration-color: #800000; font-weight: bold\">grad_fn</span><span style=\"color: #800000; text-decoration-color: #800000; font-weight: bold\">=&lt;NllLossBackward0&gt;)</span>\n",
       "</pre>\n"
      ],
      "text/plain": [
       "\u001b[1;31mloss = \u001b[0m\u001b[1;31mtensor\u001b[0m\u001b[1;31m(\u001b[0m\u001b[1;31m0.2081\u001b[0m\u001b[1;31m, \u001b[0m\u001b[1;31mdevice\u001b[0m\u001b[1;31m=\u001b[0m\u001b[1;31m'cuda:0'\u001b[0m\u001b[1;31m)\u001b[0m\u001b[1;31m computed_loss = \u001b[0m\u001b[1;31mtensor\u001b[0m\u001b[1;31m(\u001b[0m\u001b[1;31m0.2182\u001b[0m\u001b[1;31m, \u001b[0m\u001b[1;31mdevice\u001b[0m\u001b[1;31m=\u001b[0m\u001b[1;31m'cuda:0'\u001b[0m\u001b[1;31m, \u001b[0m\n",
       "\u001b[1;31mgrad_fn\u001b[0m\u001b[1;31m=\u001b[0m\u001b[1;31m<\u001b[0m\u001b[1;31mNllLossBackward0\u001b[0m\u001b[1;31m>\u001b[0m\u001b[1;31m)\u001b[0m\n"
      ]
     },
     "metadata": {},
     "output_type": "display_data"
    },
    {
     "data": {
      "text/html": [
       "<pre style=\"white-space:pre;overflow-x:auto;line-height:normal;font-family:Menlo,'DejaVu Sans Mono',consolas,'Courier New',monospace\"><span style=\"color: #800000; text-decoration-color: #800000; font-weight: bold\">loss = tensor(</span><span style=\"color: #800000; text-decoration-color: #800000; font-weight: bold\">0.0053</span><span style=\"color: #800000; text-decoration-color: #800000; font-weight: bold\">, </span><span style=\"color: #800000; text-decoration-color: #800000; font-weight: bold\">device</span><span style=\"color: #800000; text-decoration-color: #800000; font-weight: bold\">=</span><span style=\"color: #800000; text-decoration-color: #800000; font-weight: bold\">'cuda:0'</span><span style=\"color: #800000; text-decoration-color: #800000; font-weight: bold\">) computed_loss = tensor(</span><span style=\"color: #800000; text-decoration-color: #800000; font-weight: bold\">0.0053</span><span style=\"color: #800000; text-decoration-color: #800000; font-weight: bold\">, </span><span style=\"color: #800000; text-decoration-color: #800000; font-weight: bold\">device</span><span style=\"color: #800000; text-decoration-color: #800000; font-weight: bold\">=</span><span style=\"color: #800000; text-decoration-color: #800000; font-weight: bold\">'cuda:0'</span><span style=\"color: #800000; text-decoration-color: #800000; font-weight: bold\">, </span>\n",
       "<span style=\"color: #800000; text-decoration-color: #800000; font-weight: bold\">grad_fn</span><span style=\"color: #800000; text-decoration-color: #800000; font-weight: bold\">=&lt;NllLossBackward0&gt;)</span>\n",
       "</pre>\n"
      ],
      "text/plain": [
       "\u001b[1;31mloss = \u001b[0m\u001b[1;31mtensor\u001b[0m\u001b[1;31m(\u001b[0m\u001b[1;31m0.0053\u001b[0m\u001b[1;31m, \u001b[0m\u001b[1;31mdevice\u001b[0m\u001b[1;31m=\u001b[0m\u001b[1;31m'cuda:0'\u001b[0m\u001b[1;31m)\u001b[0m\u001b[1;31m computed_loss = \u001b[0m\u001b[1;31mtensor\u001b[0m\u001b[1;31m(\u001b[0m\u001b[1;31m0.0053\u001b[0m\u001b[1;31m, \u001b[0m\u001b[1;31mdevice\u001b[0m\u001b[1;31m=\u001b[0m\u001b[1;31m'cuda:0'\u001b[0m\u001b[1;31m, \u001b[0m\n",
       "\u001b[1;31mgrad_fn\u001b[0m\u001b[1;31m=\u001b[0m\u001b[1;31m<\u001b[0m\u001b[1;31mNllLossBackward0\u001b[0m\u001b[1;31m>\u001b[0m\u001b[1;31m)\u001b[0m\n"
      ]
     },
     "metadata": {},
     "output_type": "display_data"
    },
    {
     "data": {
      "text/html": [
       "<pre style=\"white-space:pre;overflow-x:auto;line-height:normal;font-family:Menlo,'DejaVu Sans Mono',consolas,'Courier New',monospace\"><span style=\"color: #800000; text-decoration-color: #800000; font-weight: bold\">loss = tensor(</span><span style=\"color: #800000; text-decoration-color: #800000; font-weight: bold\">0.0051</span><span style=\"color: #800000; text-decoration-color: #800000; font-weight: bold\">, </span><span style=\"color: #800000; text-decoration-color: #800000; font-weight: bold\">device</span><span style=\"color: #800000; text-decoration-color: #800000; font-weight: bold\">=</span><span style=\"color: #800000; text-decoration-color: #800000; font-weight: bold\">'cuda:0'</span><span style=\"color: #800000; text-decoration-color: #800000; font-weight: bold\">) computed_loss = tensor(</span><span style=\"color: #800000; text-decoration-color: #800000; font-weight: bold\">0.0049</span><span style=\"color: #800000; text-decoration-color: #800000; font-weight: bold\">, </span><span style=\"color: #800000; text-decoration-color: #800000; font-weight: bold\">device</span><span style=\"color: #800000; text-decoration-color: #800000; font-weight: bold\">=</span><span style=\"color: #800000; text-decoration-color: #800000; font-weight: bold\">'cuda:0'</span><span style=\"color: #800000; text-decoration-color: #800000; font-weight: bold\">, </span>\n",
       "<span style=\"color: #800000; text-decoration-color: #800000; font-weight: bold\">grad_fn</span><span style=\"color: #800000; text-decoration-color: #800000; font-weight: bold\">=&lt;NllLossBackward0&gt;)</span>\n",
       "</pre>\n"
      ],
      "text/plain": [
       "\u001b[1;31mloss = \u001b[0m\u001b[1;31mtensor\u001b[0m\u001b[1;31m(\u001b[0m\u001b[1;31m0.0051\u001b[0m\u001b[1;31m, \u001b[0m\u001b[1;31mdevice\u001b[0m\u001b[1;31m=\u001b[0m\u001b[1;31m'cuda:0'\u001b[0m\u001b[1;31m)\u001b[0m\u001b[1;31m computed_loss = \u001b[0m\u001b[1;31mtensor\u001b[0m\u001b[1;31m(\u001b[0m\u001b[1;31m0.0049\u001b[0m\u001b[1;31m, \u001b[0m\u001b[1;31mdevice\u001b[0m\u001b[1;31m=\u001b[0m\u001b[1;31m'cuda:0'\u001b[0m\u001b[1;31m, \u001b[0m\n",
       "\u001b[1;31mgrad_fn\u001b[0m\u001b[1;31m=\u001b[0m\u001b[1;31m<\u001b[0m\u001b[1;31mNllLossBackward0\u001b[0m\u001b[1;31m>\u001b[0m\u001b[1;31m)\u001b[0m\n"
      ]
     },
     "metadata": {},
     "output_type": "display_data"
    },
    {
     "ename": "KeyboardInterrupt",
     "evalue": "",
     "output_type": "error",
     "traceback": [
      "\u001b[0;31m---------------------------------------------------------------------------\u001b[0m",
      "\u001b[0;31mKeyboardInterrupt\u001b[0m                         Traceback (most recent call last)",
      "\u001b[0;32m/tmp/ipykernel_2688207/4032920361.py\u001b[0m in \u001b[0;36m<module>\u001b[0;34m\u001b[0m\n\u001b[0;32m----> 1\u001b[0;31m \u001b[0mtrainer\u001b[0m\u001b[0;34m.\u001b[0m\u001b[0mtrain\u001b[0m\u001b[0;34m(\u001b[0m\u001b[0;34m)\u001b[0m\u001b[0;34m\u001b[0m\u001b[0;34m\u001b[0m\u001b[0m\n\u001b[0m",
      "\u001b[0;32m~/.main/lib/python3.9/site-packages/transformers/trainer.py\u001b[0m in \u001b[0;36mtrain\u001b[0;34m(self, resume_from_checkpoint, trial, ignore_keys_for_eval, **kwargs)\u001b[0m\n\u001b[1;32m   1433\u001b[0m                         \u001b[0mself\u001b[0m\u001b[0;34m.\u001b[0m\u001b[0mlr_scheduler\u001b[0m\u001b[0;34m.\u001b[0m\u001b[0mstep\u001b[0m\u001b[0;34m(\u001b[0m\u001b[0;34m)\u001b[0m\u001b[0;34m\u001b[0m\u001b[0;34m\u001b[0m\u001b[0m\n\u001b[1;32m   1434\u001b[0m \u001b[0;34m\u001b[0m\u001b[0m\n\u001b[0;32m-> 1435\u001b[0;31m                     \u001b[0mmodel\u001b[0m\u001b[0;34m.\u001b[0m\u001b[0mzero_grad\u001b[0m\u001b[0;34m(\u001b[0m\u001b[0;34m)\u001b[0m\u001b[0;34m\u001b[0m\u001b[0;34m\u001b[0m\u001b[0m\n\u001b[0m\u001b[1;32m   1436\u001b[0m                     \u001b[0mself\u001b[0m\u001b[0;34m.\u001b[0m\u001b[0mstate\u001b[0m\u001b[0;34m.\u001b[0m\u001b[0mglobal_step\u001b[0m \u001b[0;34m+=\u001b[0m \u001b[0;36m1\u001b[0m\u001b[0;34m\u001b[0m\u001b[0;34m\u001b[0m\u001b[0m\n\u001b[1;32m   1437\u001b[0m                     \u001b[0mself\u001b[0m\u001b[0;34m.\u001b[0m\u001b[0mstate\u001b[0m\u001b[0;34m.\u001b[0m\u001b[0mepoch\u001b[0m \u001b[0;34m=\u001b[0m \u001b[0mepoch\u001b[0m \u001b[0;34m+\u001b[0m \u001b[0;34m(\u001b[0m\u001b[0mstep\u001b[0m \u001b[0;34m+\u001b[0m \u001b[0;36m1\u001b[0m\u001b[0;34m)\u001b[0m \u001b[0;34m/\u001b[0m \u001b[0msteps_in_epoch\u001b[0m\u001b[0;34m\u001b[0m\u001b[0;34m\u001b[0m\u001b[0m\n",
      "\u001b[0;32m~/.main/lib/python3.9/site-packages/torch/nn/modules/module.py\u001b[0m in \u001b[0;36mzero_grad\u001b[0;34m(self, set_to_none)\u001b[0m\n\u001b[1;32m   1775\u001b[0m                 \"If you need gradients in your forward method, consider using autograd.grad instead.\")\n\u001b[1;32m   1776\u001b[0m \u001b[0;34m\u001b[0m\u001b[0m\n\u001b[0;32m-> 1777\u001b[0;31m         \u001b[0;32mfor\u001b[0m \u001b[0mp\u001b[0m \u001b[0;32min\u001b[0m \u001b[0mself\u001b[0m\u001b[0;34m.\u001b[0m\u001b[0mparameters\u001b[0m\u001b[0;34m(\u001b[0m\u001b[0;34m)\u001b[0m\u001b[0;34m:\u001b[0m\u001b[0;34m\u001b[0m\u001b[0;34m\u001b[0m\u001b[0m\n\u001b[0m\u001b[1;32m   1778\u001b[0m             \u001b[0;32mif\u001b[0m \u001b[0mp\u001b[0m\u001b[0;34m.\u001b[0m\u001b[0mgrad\u001b[0m \u001b[0;32mis\u001b[0m \u001b[0;32mnot\u001b[0m \u001b[0;32mNone\u001b[0m\u001b[0;34m:\u001b[0m\u001b[0;34m\u001b[0m\u001b[0;34m\u001b[0m\u001b[0m\n\u001b[1;32m   1779\u001b[0m                 \u001b[0;32mif\u001b[0m \u001b[0mset_to_none\u001b[0m\u001b[0;34m:\u001b[0m\u001b[0;34m\u001b[0m\u001b[0;34m\u001b[0m\u001b[0m\n",
      "\u001b[0;32m~/.main/lib/python3.9/site-packages/torch/nn/modules/module.py\u001b[0m in \u001b[0;36mparameters\u001b[0;34m(self, recurse)\u001b[0m\n\u001b[1;32m   1518\u001b[0m \u001b[0;34m\u001b[0m\u001b[0m\n\u001b[1;32m   1519\u001b[0m         \"\"\"\n\u001b[0;32m-> 1520\u001b[0;31m         \u001b[0;32mfor\u001b[0m \u001b[0mname\u001b[0m\u001b[0;34m,\u001b[0m \u001b[0mparam\u001b[0m \u001b[0;32min\u001b[0m \u001b[0mself\u001b[0m\u001b[0;34m.\u001b[0m\u001b[0mnamed_parameters\u001b[0m\u001b[0;34m(\u001b[0m\u001b[0mrecurse\u001b[0m\u001b[0;34m=\u001b[0m\u001b[0mrecurse\u001b[0m\u001b[0;34m)\u001b[0m\u001b[0;34m:\u001b[0m\u001b[0;34m\u001b[0m\u001b[0;34m\u001b[0m\u001b[0m\n\u001b[0m\u001b[1;32m   1521\u001b[0m             \u001b[0;32myield\u001b[0m \u001b[0mparam\u001b[0m\u001b[0;34m\u001b[0m\u001b[0;34m\u001b[0m\u001b[0m\n\u001b[1;32m   1522\u001b[0m \u001b[0;34m\u001b[0m\u001b[0m\n",
      "\u001b[0;32m~/.main/lib/python3.9/site-packages/torch/nn/modules/module.py\u001b[0m in \u001b[0;36mnamed_parameters\u001b[0;34m(self, prefix, recurse)\u001b[0m\n\u001b[1;32m   1544\u001b[0m             \u001b[0;32mlambda\u001b[0m \u001b[0mmodule\u001b[0m\u001b[0;34m:\u001b[0m \u001b[0mmodule\u001b[0m\u001b[0;34m.\u001b[0m\u001b[0m_parameters\u001b[0m\u001b[0;34m.\u001b[0m\u001b[0mitems\u001b[0m\u001b[0;34m(\u001b[0m\u001b[0;34m)\u001b[0m\u001b[0;34m,\u001b[0m\u001b[0;34m\u001b[0m\u001b[0;34m\u001b[0m\u001b[0m\n\u001b[1;32m   1545\u001b[0m             prefix=prefix, recurse=recurse)\n\u001b[0;32m-> 1546\u001b[0;31m         \u001b[0;32mfor\u001b[0m \u001b[0melem\u001b[0m \u001b[0;32min\u001b[0m \u001b[0mgen\u001b[0m\u001b[0;34m:\u001b[0m\u001b[0;34m\u001b[0m\u001b[0;34m\u001b[0m\u001b[0m\n\u001b[0m\u001b[1;32m   1547\u001b[0m             \u001b[0;32myield\u001b[0m \u001b[0melem\u001b[0m\u001b[0;34m\u001b[0m\u001b[0;34m\u001b[0m\u001b[0m\n\u001b[1;32m   1548\u001b[0m \u001b[0;34m\u001b[0m\u001b[0m\n",
      "\u001b[0;32m~/.main/lib/python3.9/site-packages/torch/nn/modules/module.py\u001b[0m in \u001b[0;36m_named_members\u001b[0;34m(self, get_members_fn, prefix, recurse)\u001b[0m\n\u001b[1;32m   1489\u001b[0m         \u001b[0mmodules\u001b[0m \u001b[0;34m=\u001b[0m \u001b[0mself\u001b[0m\u001b[0;34m.\u001b[0m\u001b[0mnamed_modules\u001b[0m\u001b[0;34m(\u001b[0m\u001b[0mprefix\u001b[0m\u001b[0;34m=\u001b[0m\u001b[0mprefix\u001b[0m\u001b[0;34m)\u001b[0m \u001b[0;32mif\u001b[0m \u001b[0mrecurse\u001b[0m \u001b[0;32melse\u001b[0m \u001b[0;34m[\u001b[0m\u001b[0;34m(\u001b[0m\u001b[0mprefix\u001b[0m\u001b[0;34m,\u001b[0m \u001b[0mself\u001b[0m\u001b[0;34m)\u001b[0m\u001b[0;34m]\u001b[0m\u001b[0;34m\u001b[0m\u001b[0;34m\u001b[0m\u001b[0m\n\u001b[1;32m   1490\u001b[0m         \u001b[0;32mfor\u001b[0m \u001b[0mmodule_prefix\u001b[0m\u001b[0;34m,\u001b[0m \u001b[0mmodule\u001b[0m \u001b[0;32min\u001b[0m \u001b[0mmodules\u001b[0m\u001b[0;34m:\u001b[0m\u001b[0;34m\u001b[0m\u001b[0;34m\u001b[0m\u001b[0m\n\u001b[0;32m-> 1491\u001b[0;31m             \u001b[0mmembers\u001b[0m \u001b[0;34m=\u001b[0m \u001b[0mget_members_fn\u001b[0m\u001b[0;34m(\u001b[0m\u001b[0mmodule\u001b[0m\u001b[0;34m)\u001b[0m\u001b[0;34m\u001b[0m\u001b[0;34m\u001b[0m\u001b[0m\n\u001b[0m\u001b[1;32m   1492\u001b[0m             \u001b[0;32mfor\u001b[0m \u001b[0mk\u001b[0m\u001b[0;34m,\u001b[0m \u001b[0mv\u001b[0m \u001b[0;32min\u001b[0m \u001b[0mmembers\u001b[0m\u001b[0;34m:\u001b[0m\u001b[0;34m\u001b[0m\u001b[0;34m\u001b[0m\u001b[0m\n\u001b[1;32m   1493\u001b[0m                 \u001b[0;32mif\u001b[0m \u001b[0mv\u001b[0m \u001b[0;32mis\u001b[0m \u001b[0;32mNone\u001b[0m \u001b[0;32mor\u001b[0m \u001b[0mv\u001b[0m \u001b[0;32min\u001b[0m \u001b[0mmemo\u001b[0m\u001b[0;34m:\u001b[0m\u001b[0;34m\u001b[0m\u001b[0;34m\u001b[0m\u001b[0m\n",
      "\u001b[0;32m~/.main/lib/python3.9/site-packages/torch/nn/modules/module.py\u001b[0m in \u001b[0;36m<lambda>\u001b[0;34m(module)\u001b[0m\n\u001b[1;32m   1542\u001b[0m         \"\"\"\n\u001b[1;32m   1543\u001b[0m         gen = self._named_members(\n\u001b[0;32m-> 1544\u001b[0;31m             \u001b[0;32mlambda\u001b[0m \u001b[0mmodule\u001b[0m\u001b[0;34m:\u001b[0m \u001b[0mmodule\u001b[0m\u001b[0;34m.\u001b[0m\u001b[0m_parameters\u001b[0m\u001b[0;34m.\u001b[0m\u001b[0mitems\u001b[0m\u001b[0;34m(\u001b[0m\u001b[0;34m)\u001b[0m\u001b[0;34m,\u001b[0m\u001b[0;34m\u001b[0m\u001b[0;34m\u001b[0m\u001b[0m\n\u001b[0m\u001b[1;32m   1545\u001b[0m             prefix=prefix, recurse=recurse)\n\u001b[1;32m   1546\u001b[0m         \u001b[0;32mfor\u001b[0m \u001b[0melem\u001b[0m \u001b[0;32min\u001b[0m \u001b[0mgen\u001b[0m\u001b[0;34m:\u001b[0m\u001b[0;34m\u001b[0m\u001b[0;34m\u001b[0m\u001b[0m\n",
      "\u001b[0;31mKeyboardInterrupt\u001b[0m: "
     ]
    }
   ],
   "source": [
    "trainer.train()"
   ]
  }
 ],
 "metadata": {
  "interpreter": {
   "hash": "46daadc73974f0324ecc1592e5131128499dc93a3a1cbadf14a4773500af3ac4"
  },
  "kernelspec": {
   "display_name": "Python 3.9.5 64-bit",
   "language": "python",
   "name": "python3"
  },
  "language_info": {
   "codemirror_mode": {
    "name": "ipython",
    "version": 3
   },
   "file_extension": ".py",
   "mimetype": "text/x-python",
   "name": "python",
   "nbconvert_exporter": "python",
   "pygments_lexer": "ipython3",
   "version": "3.9.5"
  },
  "orig_nbformat": 4
 },
 "nbformat": 4,
 "nbformat_minor": 2
}
